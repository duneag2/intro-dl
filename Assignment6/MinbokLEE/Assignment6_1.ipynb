{
  "cells": [
    {
      "cell_type": "markdown",
      "metadata": {
        "id": "YcXb0XLEvHns"
      },
      "source": [
        "# 2024 Winter Introduction to Deep Learning\n",
        "### Based on Prof. Oh's Youtube Lecture\n",
        "https://youtube.com/playlist?list=PLvbUC2Zh5oJvByu9KL82bswYT2IKf0K1M\n",
        "\n",
        "> Assignment #6\n",
        "\n",
        "\n",
        "*   Youtube Lecture #23-26\n",
        "*   Written by Seungeun Lee"
      ]
    },
    {
      "cell_type": "markdown",
      "metadata": {
        "id": "qM2kM5G7BYZr"
      },
      "source": [
        "## 1. Multi-class Classification w/ Custom ResNet model\n",
        "*     Dataset: CIFAR10\n",
        "\n"
      ]
    },
    {
      "cell_type": "markdown",
      "metadata": {
        "id": "l-eq03krP21I"
      },
      "source": [
        "*    Reference. https://github.com/Justin-A/DeepLearning101/blob/master/4-4_CIFAR_ResNet.ipynb"
      ]
    },
    {
      "cell_type": "code",
      "execution_count": null,
      "metadata": {
        "id": "Q7_JWyTWKoyT"
      },
      "outputs": [],
      "source": [
        "import numpy as np\n",
        "import matplotlib.pyplot as plt\n",
        "\n",
        "import torch\n",
        "import torch.nn as nn\n",
        "import torch.nn.functional as F\n",
        "from torchvision import transforms, datasets"
      ]
    },
    {
      "cell_type": "code",
      "execution_count": null,
      "metadata": {
        "colab": {
          "base_uri": "https://localhost:8080/"
        },
        "id": "k6bdnbKmK-ZC",
        "outputId": "ef2310a5-4c9e-49d7-8fbf-c2a6a98f7975"
      },
      "outputs": [
        {
          "name": "stdout",
          "output_type": "stream",
          "text": [
            "Using PyTorch version: 2.2.1+cu121  Device: cpu\n"
          ]
        }
      ],
      "source": [
        "# 런타임 - 런타임 유형 변경 - T4 GPU\n",
        "if torch.cuda.is_available():\n",
        "    DEVICE = torch.device('cuda')\n",
        "else:\n",
        "    DEVICE = torch.device('cpu')\n",
        "print('Using PyTorch version:', torch.__version__, ' Device:', DEVICE)"
      ]
    },
    {
      "cell_type": "code",
      "execution_count": null,
      "metadata": {
        "id": "mh9UvwnlK-3G"
      },
      "outputs": [],
      "source": [
        "BATCH_SIZE = 32\n",
        "EPOCHS = 10"
      ]
    },
    {
      "cell_type": "code",
      "execution_count": null,
      "metadata": {
        "colab": {
          "base_uri": "https://localhost:8080/"
        },
        "id": "isXUeFmHBGor",
        "outputId": "7903fcd0-ad61-4f36-91a5-4f55571d03b9"
      },
      "outputs": [
        {
          "name": "stdout",
          "output_type": "stream",
          "text": [
            "Downloading https://www.cs.toronto.edu/~kriz/cifar-10-python.tar.gz to ../data/CIFAR_10/cifar-10-python.tar.gz\n"
          ]
        },
        {
          "name": "stderr",
          "output_type": "stream",
          "text": [
            "100%|██████████| 170498071/170498071 [00:04<00:00, 39806964.99it/s]\n"
          ]
        },
        {
          "name": "stdout",
          "output_type": "stream",
          "text": [
            "Extracting ../data/CIFAR_10/cifar-10-python.tar.gz to ../data/CIFAR_10\n"
          ]
        }
      ],
      "source": [
        "train_dataset = datasets.CIFAR10(root = \"../data/CIFAR_10\",\n",
        "                                  train = True,\n",
        "                                  download = True,\n",
        "                                  transform = transforms.Compose([\n",
        "                                    transforms.RandomHorizontalFlip(),\n",
        "                                    transforms.ToTensor(),\n",
        "                                    transforms.Normalize((0.5, 0.5, 0.5), (0.5, 0.5, 0.5))]))\n",
        "\n",
        "test_dataset = datasets.CIFAR10(root = \"../data/CIFAR_10\",\n",
        "                                train = False,\n",
        "                                transform = transforms.Compose([\n",
        "                                    transforms.RandomHorizontalFlip(),\n",
        "                                    transforms.ToTensor(),\n",
        "                                    transforms.Normalize((0.5, 0.5, 0.5), (0.5, 0.5, 0.5))]))\n",
        "\n",
        "train_loader = torch.utils.data.DataLoader(dataset = train_dataset,\n",
        "                                            batch_size = BATCH_SIZE,\n",
        "                                            shuffle = True)\n",
        "\n",
        "test_loader = torch.utils.data.DataLoader(dataset = test_dataset,\n",
        "                                          batch_size = BATCH_SIZE,\n",
        "                                          shuffle = False)\n"
      ]
    },
    {
      "cell_type": "code",
      "execution_count": null,
      "metadata": {
        "colab": {
          "base_uri": "https://localhost:8080/"
        },
        "id": "FYFib1SbBGvZ",
        "outputId": "0d3f757f-1e2c-4c3f-889e-e1bc59701d09"
      },
      "outputs": [
        {
          "name": "stdout",
          "output_type": "stream",
          "text": [
            "X_train: torch.Size([32, 3, 32, 32]) type: torch.FloatTensor\n",
            "y_train: torch.Size([32]) type: torch.LongTensor\n"
          ]
        }
      ],
      "source": [
        "for (X_train, y_train) in train_loader:\n",
        "    print('X_train:', X_train.size(), 'type:', X_train.type())\n",
        "    print('y_train:', y_train.size(), 'type:', y_train.type())\n",
        "    break"
      ]
    },
    {
      "cell_type": "code",
      "execution_count": null,
      "metadata": {
        "colab": {
          "base_uri": "https://localhost:8080/",
          "height": 315
        },
        "id": "i6M1yW2dBG1K",
        "outputId": "18bfa41b-d9a5-4616-e4ff-5cb7f35fb370"
      },
      "outputs": [
        {
          "name": "stderr",
          "output_type": "stream",
          "text": [
            "WARNING:matplotlib.image:Clipping input data to the valid range for imshow with RGB data ([0..1] for floats or [0..255] for integers).\n",
            "WARNING:matplotlib.image:Clipping input data to the valid range for imshow with RGB data ([0..1] for floats or [0..255] for integers).\n",
            "WARNING:matplotlib.image:Clipping input data to the valid range for imshow with RGB data ([0..1] for floats or [0..255] for integers).\n",
            "WARNING:matplotlib.image:Clipping input data to the valid range for imshow with RGB data ([0..1] for floats or [0..255] for integers).\n",
            "WARNING:matplotlib.image:Clipping input data to the valid range for imshow with RGB data ([0..1] for floats or [0..255] for integers).\n",
            "WARNING:matplotlib.image:Clipping input data to the valid range for imshow with RGB data ([0..1] for floats or [0..255] for integers).\n",
            "WARNING:matplotlib.image:Clipping input data to the valid range for imshow with RGB data ([0..1] for floats or [0..255] for integers).\n",
            "WARNING:matplotlib.image:Clipping input data to the valid range for imshow with RGB data ([0..1] for floats or [0..255] for integers).\n",
            "WARNING:matplotlib.image:Clipping input data to the valid range for imshow with RGB data ([0..1] for floats or [0..255] for integers).\n",
            "WARNING:matplotlib.image:Clipping input data to the valid range for imshow with RGB data ([0..1] for floats or [0..255] for integers).\n"
          ]
        },
        {
          "data": {
            "image/png": "[encoded data removed]",
            "text/plain": [
              "<Figure size 1000x100 with 10 Axes>"
            ]
          },
          "metadata": {},
          "output_type": "display_data"
        }
      ],
      "source": [
        "pltsize = 1\n",
        "plt.figure(figsize=(10 * pltsize, pltsize))\n",
        "\n",
        "for i in range(10):\n",
        "    plt.subplot(1, 10, i + 1)\n",
        "    plt.axis('off')\n",
        "    plt.imshow(np.transpose(X_train[i], (1, 2, 0)))\n",
        "    plt.title('Class: ' + str(y_train[i].item()))"
      ]
    },
    {
      "cell_type": "code",
      "execution_count": null,
      "metadata": {
        "id": "2YS8fkBVBOu_"
      },
      "outputs": [],
      "source": [
        "## Question 1.\n",
        "## Building custom ResNet model\n",
        "\n",
        "class BasicBlock(nn.Module):\n",
        "    def __init__(self, in_planes, planes, stride = 1):\n",
        "      # define basic block, in_plane : input channel size, planes : output channels size\n",
        "        super(BasicBlock, self).__init__()\n",
        "        self.conv1 = nn.Conv2d(in_planes, planes, kernel_size = 3, stride = stride, padding = 1, bias = False)\n",
        "        # first conv layer, 3*3 conv with padding and no bias\n",
        "        self.bn1 = nn.BatchNorm2d(planes)\n",
        "        # batch normalization layer\n",
        "        self.conv2 = nn.Conv2d(planes, planes, kernel_size = 3, stride = 1, padding = 1, bias = False)\n",
        "        self.bn2 = nn.BatchNorm2d(planes)\n",
        "\n",
        "        self.shortcut = nn.Sequential()\n",
        "        if stride != 1 or in_planes != planes:\n",
        "          # if strice != 1 or input channel size and output channels size differs\n",
        "            self.shortcut = nn.Sequential(\n",
        "                nn.Conv2d(in_planes, planes, kernel_size = 1, stride = stride, bias = False),\n",
        "                nn.BatchNorm2d(planes))\n",
        "            # 1*1 conv with specivic stride and no bias, with addition of shortcut connection of batch normalization\n",
        "\n",
        "    def forward(self, x):\n",
        "      # forward pass of basic block\n",
        "        out = F.relu(self.bn1(self.conv1(x)))\n",
        "        # first conv layer and batch normalization before ReLU\n",
        "        out = self.bn2(self.conv2(out))\n",
        "        # conv layer and batch normalization for the former output as the input\n",
        "        out += self.shortcut(x)\n",
        "        # shortcut connection\n",
        "        out = F.relu(out)\n",
        "        # ReLU\n",
        "        return out\n",
        "\n",
        "class ResNet(nn.Module):\n",
        "    def __init__(self, num_classes = 10):\n",
        "      # number of output layer : 10\n",
        "        super(ResNet, self).__init__()\n",
        "        self.in_planes = 16\n",
        "        # input data size = 16\n",
        "\n",
        "        self.conv1 = nn.Conv2d(3, 16, kernel_size = 3, stride = 1, padding = 1, bias = False)\n",
        "        # first conv layer, 3 channel input 16 channel output stride = 1, padding and no bias\n",
        "        self.bn1 = nn.BatchNorm2d(16)\n",
        "        # batch normalization\n",
        "        self.layer1 = self._make_layer(16, 2, stride = 1)\n",
        "        # 2 basic block with 16 channel input and stride = 1\n",
        "        self.layer2 = self._make_layer(32, 2, stride = 2)\n",
        "        # 2 basic block with 32 channel output and stride = 2\n",
        "        self.layer3 = self._make_layer(64, 2, stride = 2)\n",
        "        # 2 basic block with 64 channel output and stride = 2\n",
        "        self.linear = nn.Linear(64, num_classes)\n",
        "        # linear layer with 64 input feartures\n",
        "\n",
        "    def _make_layer(self, planes, num_blocks, stride):\n",
        "      # conbine basic blocks into a single module\n",
        "        strides = [stride] + [1] * (num_blocks  - 1)\n",
        "        # stride value = specific stride + (number of blocks - 1)\n",
        "        layers = []\n",
        "        for stride in strides:\n",
        "            layers.append(BasicBlock(self.in_planes, planes, stride))\n",
        "            self.in_planes = planes\n",
        "            # update in_planes with current planes\n",
        "        return nn.Sequential(*layers)\n",
        "\n",
        "    def forward(self, x):\n",
        "      # Resnet class forward pass\n",
        "        out = F.relu(self.bn1(self.conv1(x)))\n",
        "        # Relu after first conv layer and batch normalization\n",
        "        out = self.layer1(out)\n",
        "        # first self.layer\n",
        "        out = self.layer2(out)\n",
        "        # second self.layer\n",
        "        out = self.layer3(out)\n",
        "        # third self.layer\n",
        "        out = F.avg_pool2d(out, 8)\n",
        "        # average pooling with 8*8 kernel\n",
        "        out = out.view(out.size(0), -1)\n",
        "        # flatten the output data\n",
        "        out = self.linear(out)\n",
        "        # self.linear layer\n",
        "        return out"
      ]
    },
    {
      "cell_type": "markdown",
      "metadata": {
        "id": "JtrlgMOov47e"
      },
      "source": [
        "### Question 1. Explain the code above (building custom ResNet model) in detail -- line-by-line recommended"
      ]
    },
    {
      "cell_type": "code",
      "execution_count": null,
      "metadata": {
        "colab": {
          "base_uri": "https://localhost:8080/"
        },
        "id": "vD09VxoAptUN",
        "outputId": "dc05c93a-87c0-45e2-f60e-7098229a0264"
      },
      "outputs": [
        {
          "name": "stdout",
          "output_type": "stream",
          "text": [
            "ResNet(\n",
            "  (conv1): Conv2d(3, 16, kernel_size=(3, 3), stride=(1, 1), padding=(1, 1), bias=False)\n",
            "  (bn1): BatchNorm2d(16, eps=1e-05, momentum=0.1, affine=True, track_running_stats=True)\n",
            "  (layer1): Sequential(\n",
            "    (0): BasicBlock(\n",
            "      (conv1): Conv2d(16, 16, kernel_size=(3, 3), stride=(1, 1), padding=(1, 1), bias=False)\n",
            "      (bn1): BatchNorm2d(16, eps=1e-05, momentum=0.1, affine=True, track_running_stats=True)\n",
            "      (conv2): Conv2d(16, 16, kernel_size=(3, 3), stride=(1, 1), padding=(1, 1), bias=False)\n",
            "      (bn2): BatchNorm2d(16, eps=1e-05, momentum=0.1, affine=True, track_running_stats=True)\n",
            "      (shortcut): Sequential()\n",
            "    )\n",
            "    (1): BasicBlock(\n",
            "      (conv1): Conv2d(16, 16, kernel_size=(3, 3), stride=(1, 1), padding=(1, 1), bias=False)\n",
            "      (bn1): BatchNorm2d(16, eps=1e-05, momentum=0.1, affine=True, track_running_stats=True)\n",
            "      (conv2): Conv2d(16, 16, kernel_size=(3, 3), stride=(1, 1), padding=(1, 1), bias=False)\n",
            "      (bn2): BatchNorm2d(16, eps=1e-05, momentum=0.1, affine=True, track_running_stats=True)\n",
            "      (shortcut): Sequential()\n",
            "    )\n",
            "  )\n",
            "  (layer2): Sequential(\n",
            "    (0): BasicBlock(\n",
            "      (conv1): Conv2d(16, 32, kernel_size=(3, 3), stride=(2, 2), padding=(1, 1), bias=False)\n",
            "      (bn1): BatchNorm2d(32, eps=1e-05, momentum=0.1, affine=True, track_running_stats=True)\n",
            "      (conv2): Conv2d(32, 32, kernel_size=(3, 3), stride=(1, 1), padding=(1, 1), bias=False)\n",
            "      (bn2): BatchNorm2d(32, eps=1e-05, momentum=0.1, affine=True, track_running_stats=True)\n",
            "      (shortcut): Sequential(\n",
            "        (0): Conv2d(16, 32, kernel_size=(1, 1), stride=(2, 2), bias=False)\n",
            "        (1): BatchNorm2d(32, eps=1e-05, momentum=0.1, affine=True, track_running_stats=True)\n",
            "      )\n",
            "    )\n",
            "    (1): BasicBlock(\n",
            "      (conv1): Conv2d(32, 32, kernel_size=(3, 3), stride=(1, 1), padding=(1, 1), bias=False)\n",
            "      (bn1): BatchNorm2d(32, eps=1e-05, momentum=0.1, affine=True, track_running_stats=True)\n",
            "      (conv2): Conv2d(32, 32, kernel_size=(3, 3), stride=(1, 1), padding=(1, 1), bias=False)\n",
            "      (bn2): BatchNorm2d(32, eps=1e-05, momentum=0.1, affine=True, track_running_stats=True)\n",
            "      (shortcut): Sequential()\n",
            "    )\n",
            "  )\n",
            "  (layer3): Sequential(\n",
            "    (0): BasicBlock(\n",
            "      (conv1): Conv2d(32, 64, kernel_size=(3, 3), stride=(2, 2), padding=(1, 1), bias=False)\n",
            "      (bn1): BatchNorm2d(64, eps=1e-05, momentum=0.1, affine=True, track_running_stats=True)\n",
            "      (conv2): Conv2d(64, 64, kernel_size=(3, 3), stride=(1, 1), padding=(1, 1), bias=False)\n",
            "      (bn2): BatchNorm2d(64, eps=1e-05, momentum=0.1, affine=True, track_running_stats=True)\n",
            "      (shortcut): Sequential(\n",
            "        (0): Conv2d(32, 64, kernel_size=(1, 1), stride=(2, 2), bias=False)\n",
            "        (1): BatchNorm2d(64, eps=1e-05, momentum=0.1, affine=True, track_running_stats=True)\n",
            "      )\n",
            "    )\n",
            "    (1): BasicBlock(\n",
            "      (conv1): Conv2d(64, 64, kernel_size=(3, 3), stride=(1, 1), padding=(1, 1), bias=False)\n",
            "      (bn1): BatchNorm2d(64, eps=1e-05, momentum=0.1, affine=True, track_running_stats=True)\n",
            "      (conv2): Conv2d(64, 64, kernel_size=(3, 3), stride=(1, 1), padding=(1, 1), bias=False)\n",
            "      (bn2): BatchNorm2d(64, eps=1e-05, momentum=0.1, affine=True, track_running_stats=True)\n",
            "      (shortcut): Sequential()\n",
            "    )\n",
            "  )\n",
            "  (linear): Linear(in_features=64, out_features=10, bias=True)\n",
            ")\n"
          ]
        }
      ],
      "source": [
        "model = ResNet().to(DEVICE)\n",
        "optimizer = torch.optim.Adam(model.parameters(), lr = 0.001)\n",
        "criterion = nn.CrossEntropyLoss()\n",
        "\n",
        "print(model)"
      ]
    },
    {
      "cell_type": "code",
      "execution_count": null,
      "metadata": {
        "id": "4daoEj3-ptjd"
      },
      "outputs": [],
      "source": [
        "def train(model, train_loader, optimizer, log_interval):\n",
        "    model.train()\n",
        "    for batch_idx, (image, label) in enumerate(train_loader):\n",
        "        image = image.to(DEVICE)\n",
        "        label = label.to(DEVICE)\n",
        "        optimizer.zero_grad()\n",
        "        output = model(image)\n",
        "        loss = criterion(output, label)\n",
        "        loss.backward()\n",
        "        optimizer.step()\n",
        "\n",
        "        if batch_idx % log_interval == 0:\n",
        "            print(\"Train Epoch: {} [{}/{} ({:.0f}%)]\\tTrain Loss: {:.6f}\".format(\n",
        "                epoch, batch_idx * len(image),\n",
        "                len(train_loader.dataset), 100. * batch_idx / len(train_loader),\n",
        "                loss.item()))"
      ]
    },
    {
      "cell_type": "code",
      "execution_count": null,
      "metadata": {
        "id": "_Hm7UbzGBo9A"
      },
      "outputs": [],
      "source": [
        "def evaluate(model, test_loader):\n",
        "    model.eval()\n",
        "    test_loss = 0\n",
        "    correct = 0\n",
        "\n",
        "    with torch.no_grad():\n",
        "        for image, label in test_loader:\n",
        "            image = image.to(DEVICE)\n",
        "            label = label.to(DEVICE)\n",
        "            output = model(image)\n",
        "            test_loss += criterion(output, label).item()\n",
        "            prediction = output.max(1, keepdim = True)[1]\n",
        "            correct += prediction.eq(label.view_as(prediction)).sum().item()\n",
        "\n",
        "    test_loss /= (len(test_loader.dataset) / BATCH_SIZE)\n",
        "    test_accuracy = 100. * correct / len(test_loader.dataset)\n",
        "    return test_loss, test_accuracy"
      ]
    },
    {
      "cell_type": "code",
      "execution_count": null,
      "metadata": {
        "colab": {
          "background_save": true,
          "base_uri": "https://localhost:8080/"
        },
        "id": "spFvoP2MBpB5",
        "outputId": "f0e701f3-cfe4-4eaf-fb2a-2def2772070e"
      },
      "outputs": [
        {
          "name": "stdout",
          "output_type": "stream",
          "text": [
            "Train Epoch: 1 [0/50000 (0%)]\tTrain Loss: 2.394550\n",
            "Train Epoch: 1 [6400/50000 (13%)]\tTrain Loss: 1.712495\n",
            "Train Epoch: 1 [12800/50000 (26%)]\tTrain Loss: 1.638636\n",
            "Train Epoch: 1 [19200/50000 (38%)]\tTrain Loss: 1.094045\n",
            "Train Epoch: 1 [25600/50000 (51%)]\tTrain Loss: 1.139058\n",
            "Train Epoch: 1 [32000/50000 (64%)]\tTrain Loss: 1.345322\n",
            "Train Epoch: 1 [38400/50000 (77%)]\tTrain Loss: 0.902318\n",
            "Train Epoch: 1 [44800/50000 (90%)]\tTrain Loss: 1.329087\n",
            "\n",
            "[EPOCH: 1], \tTest Loss: 1.0725, \tTest Accuracy: 61.05 % \n",
            "\n",
            "Train Epoch: 2 [0/50000 (0%)]\tTrain Loss: 0.940216\n",
            "Train Epoch: 2 [6400/50000 (13%)]\tTrain Loss: 0.788396\n",
            "Train Epoch: 2 [12800/50000 (26%)]\tTrain Loss: 0.982436\n",
            "Train Epoch: 2 [19200/50000 (38%)]\tTrain Loss: 1.074935\n",
            "Train Epoch: 2 [25600/50000 (51%)]\tTrain Loss: 0.971877\n",
            "Train Epoch: 2 [32000/50000 (64%)]\tTrain Loss: 0.851326\n",
            "Train Epoch: 2 [38400/50000 (77%)]\tTrain Loss: 1.036767\n",
            "Train Epoch: 2 [44800/50000 (90%)]\tTrain Loss: 1.027509\n",
            "\n",
            "[EPOCH: 2], \tTest Loss: 0.8004, \tTest Accuracy: 71.52 % \n",
            "\n",
            "Train Epoch: 3 [0/50000 (0%)]\tTrain Loss: 0.841612\n",
            "Train Epoch: 3 [6400/50000 (13%)]\tTrain Loss: 0.672169\n",
            "Train Epoch: 3 [12800/50000 (26%)]\tTrain Loss: 0.839836\n",
            "Train Epoch: 3 [19200/50000 (38%)]\tTrain Loss: 0.624317\n",
            "Train Epoch: 3 [25600/50000 (51%)]\tTrain Loss: 1.194894\n",
            "Train Epoch: 3 [32000/50000 (64%)]\tTrain Loss: 0.902842\n",
            "Train Epoch: 3 [38400/50000 (77%)]\tTrain Loss: 0.833833\n",
            "Train Epoch: 3 [44800/50000 (90%)]\tTrain Loss: 0.814411\n",
            "\n",
            "[EPOCH: 3], \tTest Loss: 0.7325, \tTest Accuracy: 74.73 % \n",
            "\n",
            "Train Epoch: 4 [0/50000 (0%)]\tTrain Loss: 0.817996\n",
            "Train Epoch: 4 [6400/50000 (13%)]\tTrain Loss: 1.033914\n",
            "Train Epoch: 4 [12800/50000 (26%)]\tTrain Loss: 0.584826\n",
            "Train Epoch: 4 [19200/50000 (38%)]\tTrain Loss: 0.854715\n",
            "Train Epoch: 4 [25600/50000 (51%)]\tTrain Loss: 0.980735\n",
            "Train Epoch: 4 [32000/50000 (64%)]\tTrain Loss: 0.873925\n",
            "Train Epoch: 4 [38400/50000 (77%)]\tTrain Loss: 0.698426\n",
            "Train Epoch: 4 [44800/50000 (90%)]\tTrain Loss: 0.544769\n",
            "\n",
            "[EPOCH: 4], \tTest Loss: 0.6739, \tTest Accuracy: 76.74 % \n",
            "\n",
            "Train Epoch: 5 [0/50000 (0%)]\tTrain Loss: 0.573408\n",
            "Train Epoch: 5 [6400/50000 (13%)]\tTrain Loss: 0.336370\n",
            "Train Epoch: 5 [12800/50000 (26%)]\tTrain Loss: 0.597892\n",
            "Train Epoch: 5 [19200/50000 (38%)]\tTrain Loss: 0.807378\n",
            "Train Epoch: 5 [25600/50000 (51%)]\tTrain Loss: 0.676278\n",
            "Train Epoch: 5 [32000/50000 (64%)]\tTrain Loss: 0.629648\n",
            "Train Epoch: 5 [38400/50000 (77%)]\tTrain Loss: 0.738719\n",
            "Train Epoch: 5 [44800/50000 (90%)]\tTrain Loss: 0.607178\n",
            "\n",
            "[EPOCH: 5], \tTest Loss: 0.6054, \tTest Accuracy: 79.15 % \n",
            "\n",
            "Train Epoch: 6 [0/50000 (0%)]\tTrain Loss: 0.393916\n",
            "Train Epoch: 6 [6400/50000 (13%)]\tTrain Loss: 0.760806\n",
            "Train Epoch: 6 [12800/50000 (26%)]\tTrain Loss: 0.448488\n",
            "Train Epoch: 6 [19200/50000 (38%)]\tTrain Loss: 0.623256\n",
            "Train Epoch: 6 [25600/50000 (51%)]\tTrain Loss: 0.687133\n",
            "Train Epoch: 6 [32000/50000 (64%)]\tTrain Loss: 0.425209\n",
            "Train Epoch: 6 [38400/50000 (77%)]\tTrain Loss: 0.640266\n",
            "Train Epoch: 6 [44800/50000 (90%)]\tTrain Loss: 0.664931\n",
            "\n",
            "[EPOCH: 6], \tTest Loss: 0.5617, \tTest Accuracy: 80.72 % \n",
            "\n",
            "Train Epoch: 7 [0/50000 (0%)]\tTrain Loss: 0.728705\n",
            "Train Epoch: 7 [6400/50000 (13%)]\tTrain Loss: 0.444203\n",
            "Train Epoch: 7 [12800/50000 (26%)]\tTrain Loss: 0.912404\n",
            "Train Epoch: 7 [19200/50000 (38%)]\tTrain Loss: 0.575890\n",
            "Train Epoch: 7 [25600/50000 (51%)]\tTrain Loss: 0.574003\n",
            "Train Epoch: 7 [32000/50000 (64%)]\tTrain Loss: 0.919722\n",
            "Train Epoch: 7 [38400/50000 (77%)]\tTrain Loss: 1.073689\n",
            "Train Epoch: 7 [44800/50000 (90%)]\tTrain Loss: 0.513694\n",
            "\n",
            "[EPOCH: 7], \tTest Loss: 0.6349, \tTest Accuracy: 78.35 % \n",
            "\n",
            "Train Epoch: 8 [0/50000 (0%)]\tTrain Loss: 0.476220\n",
            "Train Epoch: 8 [6400/50000 (13%)]\tTrain Loss: 0.606918\n",
            "Train Epoch: 8 [12800/50000 (26%)]\tTrain Loss: 0.408176\n",
            "Train Epoch: 8 [19200/50000 (38%)]\tTrain Loss: 0.387089\n",
            "Train Epoch: 8 [25600/50000 (51%)]\tTrain Loss: 0.387753\n",
            "Train Epoch: 8 [32000/50000 (64%)]\tTrain Loss: 0.338767\n",
            "Train Epoch: 8 [38400/50000 (77%)]\tTrain Loss: 0.353690\n",
            "Train Epoch: 8 [44800/50000 (90%)]\tTrain Loss: 0.294778\n",
            "\n",
            "[EPOCH: 8], \tTest Loss: 0.5168, \tTest Accuracy: 82.26 % \n",
            "\n",
            "Train Epoch: 9 [0/50000 (0%)]\tTrain Loss: 0.393559\n",
            "Train Epoch: 9 [6400/50000 (13%)]\tTrain Loss: 0.506544\n",
            "Train Epoch: 9 [12800/50000 (26%)]\tTrain Loss: 0.348833\n",
            "Train Epoch: 9 [19200/50000 (38%)]\tTrain Loss: 0.273163\n",
            "Train Epoch: 9 [25600/50000 (51%)]\tTrain Loss: 0.707644\n",
            "Train Epoch: 9 [32000/50000 (64%)]\tTrain Loss: 0.238534\n",
            "Train Epoch: 9 [38400/50000 (77%)]\tTrain Loss: 0.432787\n",
            "Train Epoch: 9 [44800/50000 (90%)]\tTrain Loss: 0.448330\n",
            "\n",
            "[EPOCH: 9], \tTest Loss: 0.5471, \tTest Accuracy: 81.19 % \n",
            "\n",
            "Train Epoch: 10 [0/50000 (0%)]\tTrain Loss: 0.410658\n",
            "Train Epoch: 10 [6400/50000 (13%)]\tTrain Loss: 0.298322\n",
            "Train Epoch: 10 [12800/50000 (26%)]\tTrain Loss: 0.517571\n",
            "Train Epoch: 10 [19200/50000 (38%)]\tTrain Loss: 0.142373\n",
            "Train Epoch: 10 [25600/50000 (51%)]\tTrain Loss: 0.349641\n",
            "Train Epoch: 10 [32000/50000 (64%)]\tTrain Loss: 0.227417\n",
            "Train Epoch: 10 [38400/50000 (77%)]\tTrain Loss: 0.232701\n",
            "Train Epoch: 10 [44800/50000 (90%)]\tTrain Loss: 0.333037\n",
            "\n",
            "[EPOCH: 10], \tTest Loss: 0.5264, \tTest Accuracy: 81.76 % \n",
            "\n"
          ]
        }
      ],
      "source": [
        "for epoch in range(1, EPOCHS + 1):\n",
        "    train(model, train_loader, optimizer, log_interval = 200)\n",
        "    test_loss, test_accuracy = evaluate(model, test_loader)\n",
        "    print(\"\\n[EPOCH: {}], \\tTest Loss: {:.4f}, \\tTest Accuracy: {:.2f} % \\n\".format(\n",
        "        epoch, test_loss, test_accuracy))"
      ]
    },
    {
      "cell_type": "code",
      "execution_count": null,
      "metadata": {
        "colab": {
          "background_save": true
        },
        "id": "d__LkW3VBzpe"
      },
      "outputs": [],
      "source": []
    },
    {
      "cell_type": "markdown",
      "metadata": {
        "id": "spc48rNHQnYL"
      },
      "source": [
        "### The End."
      ]
    },
    {
      "cell_type": "markdown",
      "metadata": {
        "id": "iMNBVkjiS7D9"
      },
      "source": [
        "##### Please upload your Colab file @Github https://github.com/duneag2/intro-dl/tree/main/Assignment6\n",
        "\n",
        "*   First, make your folder by your name (e.g. seungeun)\n",
        "*   Then upload your \"Jupyter Notebook\" file under that directory\n",
        "\n",
        "###### Need Help?\n",
        "\n",
        "\n",
        "\n",
        "*   Please refer to this link https://yeko90.tistory.com/entry/%ED%8C%8C%EC%9D%B4%EC%8D%AC-colab%EC%BD%94%EB%9E%A9%EC%97%90%EC%84%9C-%EC%95%95%EC%B6%95%ED%8C%8C%EC%9D%BC-%ED%92%80%EA%B8%B0 OR\n",
        "*   Just save your Jupyter Notebook (.ipynb) file in here (colab) and upload via 'Add file' - 'Upload files' https://nthree.tistory.com/60"
      ]
    },
    {
      "cell_type": "code",
      "execution_count": null,
      "metadata": {
        "colab": {
          "background_save": true
        },
        "id": "XzVGuer0S9Oh"
      },
      "outputs": [],
      "source": []
    }
  ],
  "metadata": {
    "colab": {
      "provenance": []
    },
    "kernelspec": {
      "display_name": "Python 3",
      "name": "python3"
    },
    "language_info": {
      "name": "python"
    }
  },
  "nbformat": 4,
  "nbformat_minor": 0
}