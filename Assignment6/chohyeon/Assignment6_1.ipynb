{
  "nbformat": 4,
  "nbformat_minor": 0,
  "metadata": {
    "colab": {
      "provenance": []
    },
    "kernelspec": {
      "name": "python3",
      "display_name": "Python 3"
    },
    "language_info": {
      "name": "python"
    }
  },
  "cells": [
    {
      "cell_type": "markdown",
      "source": [
        "# 2024 Winter Introduction to Deep Learning\n",
        "### Based on Prof. Oh's Youtube Lecture\n",
        "https://youtube.com/playlist?list=PLvbUC2Zh5oJvByu9KL82bswYT2IKf0K1M\n",
        "\n",
        "> Assignment #6\n",
        "\n",
        "\n",
        "*   Youtube Lecture #23-26\n",
        "*   Written by Seungeun Lee"
      ],
      "metadata": {
        "id": "YcXb0XLEvHns"
      }
    },
    {
      "cell_type": "markdown",
      "source": [
        "## 1. Multi-class Classification w/ Custom ResNet model\n",
        "*     Dataset: CIFAR10\n",
        "\n"
      ],
      "metadata": {
        "id": "qM2kM5G7BYZr"
      }
    },
    {
      "cell_type": "markdown",
      "source": [
        "*    Reference. https://github.com/Justin-A/DeepLearning101/blob/master/4-4_CIFAR_ResNet.ipynb"
      ],
      "metadata": {
        "id": "l-eq03krP21I"
      }
    },
    {
      "cell_type": "code",
      "source": [
        "import numpy as np\n",
        "import matplotlib.pyplot as plt\n",
        "\n",
        "import torch\n",
        "import torch.nn as nn\n",
        "import torch.nn.functional as F\n",
        "from torchvision import transforms, datasets"
      ],
      "metadata": {
        "id": "Q7_JWyTWKoyT"
      },
      "execution_count": null,
      "outputs": []
    },
    {
      "cell_type": "code",
      "source": [
        "# 런타임 - 런타임 유형 변경 - T4 GPU\n",
        "if torch.cuda.is_available():\n",
        "    DEVICE = torch.device('cuda')\n",
        "else:\n",
        "    DEVICE = torch.device('cpu')\n",
        "print('Using PyTorch version:', torch.__version__, ' Device:', DEVICE)"
      ],
      "metadata": {
        "id": "k6bdnbKmK-ZC",
        "colab": {
          "base_uri": "https://localhost:8080/"
        },
        "outputId": "2bd702c8-b6da-42f5-c285-1770e7bbd33a"
      },
      "execution_count": null,
      "outputs": [
        {
          "output_type": "stream",
          "name": "stdout",
          "text": [
            "Using PyTorch version: 2.3.1+cu121  Device: cpu\n"
          ]
        }
      ]
    },
    {
      "cell_type": "code",
      "source": [
        "BATCH_SIZE = 32\n",
        "EPOCHS = 10"
      ],
      "metadata": {
        "id": "mh9UvwnlK-3G"
      },
      "execution_count": null,
      "outputs": []
    },
    {
      "cell_type": "code",
      "source": [
        "train_dataset = datasets.CIFAR10(root = \"../data/CIFAR_10\",\n",
        "                                  train = True,\n",
        "                                  download = True,\n",
        "                                  transform = transforms.Compose([\n",
        "                                    transforms.RandomHorizontalFlip(),\n",
        "                                    transforms.ToTensor(),\n",
        "                                    transforms.Normalize((0.5, 0.5, 0.5), (0.5, 0.5, 0.5))]))\n",
        "\n",
        "test_dataset = datasets.CIFAR10(root = \"../data/CIFAR_10\",\n",
        "                                train = False,\n",
        "                                transform = transforms.Compose([\n",
        "                                    transforms.RandomHorizontalFlip(),\n",
        "                                    transforms.ToTensor(),\n",
        "                                    transforms.Normalize((0.5, 0.5, 0.5), (0.5, 0.5, 0.5))]))\n",
        "\n",
        "train_loader = torch.utils.data.DataLoader(dataset = train_dataset,\n",
        "                                            batch_size = BATCH_SIZE,\n",
        "                                            shuffle = True)\n",
        "\n",
        "test_loader = torch.utils.data.DataLoader(dataset = test_dataset,\n",
        "                                          batch_size = BATCH_SIZE,\n",
        "                                          shuffle = False)\n"
      ],
      "metadata": {
        "id": "isXUeFmHBGor",
        "colab": {
          "base_uri": "https://localhost:8080/"
        },
        "outputId": "bbd05379-29b9-4929-8cf8-b60a4d1175bd"
      },
      "execution_count": null,
      "outputs": [
        {
          "output_type": "stream",
          "name": "stdout",
          "text": [
            "Downloading https://www.cs.toronto.edu/~kriz/cifar-10-python.tar.gz to ../data/CIFAR_10/cifar-10-python.tar.gz\n"
          ]
        },
        {
          "output_type": "stream",
          "name": "stderr",
          "text": [
            "100%|██████████| 170498071/170498071 [00:03<00:00, 43611792.10it/s]\n"
          ]
        },
        {
          "output_type": "stream",
          "name": "stdout",
          "text": [
            "Extracting ../data/CIFAR_10/cifar-10-python.tar.gz to ../data/CIFAR_10\n"
          ]
        }
      ]
    },
    {
      "cell_type": "code",
      "source": [
        "for (X_train, y_train) in train_loader:\n",
        "    print('X_train:', X_train.size(), 'type:', X_train.type())\n",
        "    print('y_train:', y_train.size(), 'type:', y_train.type())\n",
        "    break"
      ],
      "metadata": {
        "id": "FYFib1SbBGvZ",
        "colab": {
          "base_uri": "https://localhost:8080/"
        },
        "outputId": "c166dfbe-a15e-4931-b965-8ecb847e2da3"
      },
      "execution_count": null,
      "outputs": [
        {
          "output_type": "stream",
          "name": "stdout",
          "text": [
            "X_train: torch.Size([32, 3, 32, 32]) type: torch.FloatTensor\n",
            "y_train: torch.Size([32]) type: torch.LongTensor\n"
          ]
        }
      ]
    },
    {
      "cell_type": "code",
      "source": [
        "pltsize = 1\n",
        "plt.figure(figsize=(10 * pltsize, pltsize))\n",
        "\n",
        "for i in range(10):\n",
        "    plt.subplot(1, 10, i + 1)\n",
        "    plt.axis('off')\n",
        "    plt.imshow(np.transpose(X_train[i], (1, 2, 0)))\n",
        "    plt.title('Class: ' + str(y_train[i].item()))"
      ],
      "metadata": {
        "id": "i6M1yW2dBG1K",
        "colab": {
          "base_uri": "https://localhost:8080/",
          "height": 303
        },
        "outputId": "b920ce30-284e-4287-fba2-47109c7c42c0"
      },
      "execution_count": null,
      "outputs": [
        {
          "output_type": "stream",
          "name": "stderr",
          "text": [
            "WARNING:matplotlib.image:Clipping input data to the valid range for imshow with RGB data ([0..1] for floats or [0..255] for integers).\n",
            "WARNING:matplotlib.image:Clipping input data to the valid range for imshow with RGB data ([0..1] for floats or [0..255] for integers).\n",
            "WARNING:matplotlib.image:Clipping input data to the valid range for imshow with RGB data ([0..1] for floats or [0..255] for integers).\n",
            "WARNING:matplotlib.image:Clipping input data to the valid range for imshow with RGB data ([0..1] for floats or [0..255] for integers).\n",
            "WARNING:matplotlib.image:Clipping input data to the valid range for imshow with RGB data ([0..1] for floats or [0..255] for integers).\n",
            "WARNING:matplotlib.image:Clipping input data to the valid range for imshow with RGB data ([0..1] for floats or [0..255] for integers).\n",
            "WARNING:matplotlib.image:Clipping input data to the valid range for imshow with RGB data ([0..1] for floats or [0..255] for integers).\n",
            "WARNING:matplotlib.image:Clipping input data to the valid range for imshow with RGB data ([0..1] for floats or [0..255] for integers).\n",
            "WARNING:matplotlib.image:Clipping input data to the valid range for imshow with RGB data ([0..1] for floats or [0..255] for integers).\n",
            "WARNING:matplotlib.image:Clipping input data to the valid range for imshow with RGB data ([0..1] for floats or [0..255] for integers).\n"
          ]
        },
        {
          "output_type": "display_data",
          "data": {
            "text/plain": [
              "<Figure size 1000x100 with 10 Axes>"
            ],
            "image/png": "[encoded data removed]"
          },
          "metadata": {}
        }
      ]
    },
    {
      "cell_type": "code",
      "source": [
        "## Question 1.\n",
        "## Building custom ResNet model\n",
        "\n",
        "class BasicBlock(nn.Module): # resnet에 있는 기본적인 구성 블럭을 만들기 위한 클래스\n",
        "    def __init__(self, in_planes, planes, stride = 1):\n",
        "        super(BasicBlock, self).__init__()\n",
        "        self.conv1 = nn.Conv2d(in_planes, planes, kernel_size = 3, stride = stride, padding = 1, bias = False) # stride의 입력값에 따라 가로 세로의 크기를 조정해주고, 채널의 개수를 조정해줌.\n",
        "        self.bn1 = nn.BatchNorm2d(planes) # 채널 개수를 입력으로 받아 batch normaliztion을 해줌.\n",
        "        self.conv2 = nn.Conv2d(planes, planes, kernel_size = 3, stride = 1, padding = 1, bias = False) # kernel size=3, padding=1, stride=1을 통해서 가로 세로의 크기를 유지하고 채널의 개수도 유지함\n",
        "        self.bn2 = nn.BatchNorm2d(planes) # 채널 개수를 입력으로 받아 batch normaliztion을 해줌.\n",
        "\n",
        "        self.shortcut = nn.Sequential() # Resnet의 핵심인 shortcut을 적용하기 위해서 만든 신경망\n",
        "        if stride != 1 or in_planes != planes: # 만약 stride !=1 이거나 채널의 개수가 맞지 않는 경우\n",
        "            self.shortcut = nn.Sequential( # shortcut의 채널의 개수를 맞춰주는 역할을 한다.\n",
        "                nn.Conv2d(in_planes, planes, kernel_size = 1, stride = stride, bias = False),\n",
        "                nn.BatchNorm2d(planes))\n",
        "\n",
        "    def forward(self, x): # 순전파 과정을 적용하는 함수\n",
        "        out = F.relu(self.bn1(self.conv1(x)))\n",
        "        out = self.bn2(self.conv2(out))\n",
        "        out += self.shortcut(x) # convolution 층을 지난 이후 shortcut을 더해줌.\n",
        "        out = F.relu(out)\n",
        "        return out\n",
        "\n",
        "class ResNet(nn.Module): # Resnet 클래스 선언\n",
        "    def __init__(self, num_classes = 10):\n",
        "        super(ResNet, self).__init__()\n",
        "        self.in_planes = 16 # 첫 신경망을 통과 한 후 BasicBlock에 들어갈 입력의 채널 수\n",
        "\n",
        "        self.conv1 = nn.Conv2d(3, 16, kernel_size = 3, stride = 1, padding = 1, bias = False) #[32, 3, 32, 32] -> [32, 16, 32, 32]\n",
        "        self.bn1 = nn.BatchNorm2d(16) # batch normaliztion 적용\n",
        "        self.layer1 = self._make_layer(16, 2, stride = 1) # [32, 16, 32, 32] -> [32, 16, 32, 32]\n",
        "        self.layer2 = self._make_layer(32, 2, stride = 2) # [32, 16, 32, 32] -> [32, 32, 16, 16]\n",
        "        self.layer3 = self._make_layer(64, 2, stride = 2) # [32, 32, 16, 16] -> [32, 64, 8, 8]\n",
        "        self.linear = nn.Linear(64, num_classes) # [32, 64] -> [32, 10]\n",
        "\n",
        "    def _make_layer(self, planes, num_blocks, stride):\n",
        "        strides = [stride] + [1] * (num_blocks  - 1)\n",
        "        layers = []\n",
        "        for stride in strides: #\n",
        "            layers.append(BasicBlock(self.in_planes, planes, stride)) # layers 배열에 basic 블럭을 넣어줌\n",
        "            self.in_planes = planes # 입력 채널의 수를 이전 레이어의 출력 채널의 수로 바꿔줌\n",
        "        return nn.Sequential(*layers) # 구성한 layer을 신경망 형태로 반환\n",
        "\n",
        "    def forward(self, x):\n",
        "        out = F.relu(self.bn1(self.conv1(x)))\n",
        "        out = self.layer1(out)\n",
        "        out = self.layer2(out)\n",
        "        out = self.layer3(out)\n",
        "        out = F.avg_pool2d(out, 8) # [32, 64, 8, 8] -> [32, 64, 1]\n",
        "        out = out.view(out.size(0), -1) # [32, 64, 1] -> [32, 64]\n",
        "        out = self.linear(out)\n",
        "        return out"
      ],
      "metadata": {
        "id": "2YS8fkBVBOu_"
      },
      "execution_count": null,
      "outputs": []
    },
    {
      "cell_type": "markdown",
      "source": [
        "### Question 1. Explain the code above (building custom ResNet model) in detail -- line-by-line recommended"
      ],
      "metadata": {
        "id": "JtrlgMOov47e"
      }
    },
    {
      "cell_type": "code",
      "source": [
        "model = ResNet().to(DEVICE)\n",
        "optimizer = torch.optim.Adam(model.parameters(), lr = 0.001)\n",
        "criterion = nn.CrossEntropyLoss()\n",
        "\n",
        "print(model)"
      ],
      "metadata": {
        "id": "vD09VxoAptUN",
        "colab": {
          "base_uri": "https://localhost:8080/"
        },
        "outputId": "4033607b-cf7e-4d02-d65d-2d1e36d85949"
      },
      "execution_count": null,
      "outputs": [
        {
          "output_type": "stream",
          "name": "stdout",
          "text": [
            "ResNet(\n",
            "  (conv1): Conv2d(3, 16, kernel_size=(3, 3), stride=(1, 1), padding=(1, 1), bias=False)\n",
            "  (bn1): BatchNorm2d(16, eps=1e-05, momentum=0.1, affine=True, track_running_stats=True)\n",
            "  (layer1): Sequential(\n",
            "    (0): BasicBlock(\n",
            "      (conv1): Conv2d(16, 16, kernel_size=(3, 3), stride=(1, 1), padding=(1, 1), bias=False)\n",
            "      (bn1): BatchNorm2d(16, eps=1e-05, momentum=0.1, affine=True, track_running_stats=True)\n",
            "      (conv2): Conv2d(16, 16, kernel_size=(3, 3), stride=(1, 1), padding=(1, 1), bias=False)\n",
            "      (bn2): BatchNorm2d(16, eps=1e-05, momentum=0.1, affine=True, track_running_stats=True)\n",
            "      (shortcut): Sequential()\n",
            "    )\n",
            "    (1): BasicBlock(\n",
            "      (conv1): Conv2d(16, 16, kernel_size=(3, 3), stride=(1, 1), padding=(1, 1), bias=False)\n",
            "      (bn1): BatchNorm2d(16, eps=1e-05, momentum=0.1, affine=True, track_running_stats=True)\n",
            "      (conv2): Conv2d(16, 16, kernel_size=(3, 3), stride=(1, 1), padding=(1, 1), bias=False)\n",
            "      (bn2): BatchNorm2d(16, eps=1e-05, momentum=0.1, affine=True, track_running_stats=True)\n",
            "      (shortcut): Sequential()\n",
            "    )\n",
            "  )\n",
            "  (layer2): Sequential(\n",
            "    (0): BasicBlock(\n",
            "      (conv1): Conv2d(16, 32, kernel_size=(3, 3), stride=(2, 2), padding=(1, 1), bias=False)\n",
            "      (bn1): BatchNorm2d(32, eps=1e-05, momentum=0.1, affine=True, track_running_stats=True)\n",
            "      (conv2): Conv2d(32, 32, kernel_size=(3, 3), stride=(1, 1), padding=(1, 1), bias=False)\n",
            "      (bn2): BatchNorm2d(32, eps=1e-05, momentum=0.1, affine=True, track_running_stats=True)\n",
            "      (shortcut): Sequential(\n",
            "        (0): Conv2d(16, 32, kernel_size=(1, 1), stride=(2, 2), bias=False)\n",
            "        (1): BatchNorm2d(32, eps=1e-05, momentum=0.1, affine=True, track_running_stats=True)\n",
            "      )\n",
            "    )\n",
            "    (1): BasicBlock(\n",
            "      (conv1): Conv2d(32, 32, kernel_size=(3, 3), stride=(1, 1), padding=(1, 1), bias=False)\n",
            "      (bn1): BatchNorm2d(32, eps=1e-05, momentum=0.1, affine=True, track_running_stats=True)\n",
            "      (conv2): Conv2d(32, 32, kernel_size=(3, 3), stride=(1, 1), padding=(1, 1), bias=False)\n",
            "      (bn2): BatchNorm2d(32, eps=1e-05, momentum=0.1, affine=True, track_running_stats=True)\n",
            "      (shortcut): Sequential()\n",
            "    )\n",
            "  )\n",
            "  (layer3): Sequential(\n",
            "    (0): BasicBlock(\n",
            "      (conv1): Conv2d(32, 64, kernel_size=(3, 3), stride=(2, 2), padding=(1, 1), bias=False)\n",
            "      (bn1): BatchNorm2d(64, eps=1e-05, momentum=0.1, affine=True, track_running_stats=True)\n",
            "      (conv2): Conv2d(64, 64, kernel_size=(3, 3), stride=(1, 1), padding=(1, 1), bias=False)\n",
            "      (bn2): BatchNorm2d(64, eps=1e-05, momentum=0.1, affine=True, track_running_stats=True)\n",
            "      (shortcut): Sequential(\n",
            "        (0): Conv2d(32, 64, kernel_size=(1, 1), stride=(2, 2), bias=False)\n",
            "        (1): BatchNorm2d(64, eps=1e-05, momentum=0.1, affine=True, track_running_stats=True)\n",
            "      )\n",
            "    )\n",
            "    (1): BasicBlock(\n",
            "      (conv1): Conv2d(64, 64, kernel_size=(3, 3), stride=(1, 1), padding=(1, 1), bias=False)\n",
            "      (bn1): BatchNorm2d(64, eps=1e-05, momentum=0.1, affine=True, track_running_stats=True)\n",
            "      (conv2): Conv2d(64, 64, kernel_size=(3, 3), stride=(1, 1), padding=(1, 1), bias=False)\n",
            "      (bn2): BatchNorm2d(64, eps=1e-05, momentum=0.1, affine=True, track_running_stats=True)\n",
            "      (shortcut): Sequential()\n",
            "    )\n",
            "  )\n",
            "  (linear): Linear(in_features=64, out_features=10, bias=True)\n",
            ")\n"
          ]
        }
      ]
    },
    {
      "cell_type": "code",
      "source": [
        "def train(model, train_loader, optimizer, log_interval):\n",
        "    model.train()\n",
        "    for batch_idx, (image, label) in enumerate(train_loader):\n",
        "        image = image.to(DEVICE)\n",
        "        label = label.to(DEVICE)\n",
        "        optimizer.zero_grad()\n",
        "        output = model(image)\n",
        "        loss = criterion(output, label)\n",
        "        loss.backward()\n",
        "        optimizer.step()\n",
        "\n",
        "        if batch_idx % log_interval == 0:\n",
        "            print(\"Train Epoch: {} [{}/{} ({:.0f}%)]\\tTrain Loss: {:.6f}\".format(\n",
        "                epoch, batch_idx * len(image),\n",
        "                len(train_loader.dataset), 100. * batch_idx / len(train_loader),\n",
        "                loss.item()))"
      ],
      "metadata": {
        "id": "4daoEj3-ptjd"
      },
      "execution_count": null,
      "outputs": []
    },
    {
      "cell_type": "code",
      "source": [
        "def evaluate(model, test_loader):\n",
        "    model.eval()\n",
        "    test_loss = 0\n",
        "    correct = 0\n",
        "\n",
        "    with torch.no_grad():\n",
        "        for image, label in test_loader:\n",
        "            image = image.to(DEVICE)\n",
        "            label = label.to(DEVICE)\n",
        "            output = model(image)\n",
        "            test_loss += criterion(output, label).item()\n",
        "            prediction = output.max(1, keepdim = True)[1]\n",
        "            correct += prediction.eq(label.view_as(prediction)).sum().item()\n",
        "\n",
        "    test_loss /= (len(test_loader.dataset) / BATCH_SIZE)\n",
        "    test_accuracy = 100. * correct / len(test_loader.dataset)\n",
        "    return test_loss, test_accuracy"
      ],
      "metadata": {
        "id": "_Hm7UbzGBo9A"
      },
      "execution_count": null,
      "outputs": []
    },
    {
      "cell_type": "code",
      "source": [
        "for epoch in range(1, EPOCHS + 1):\n",
        "    train(model, train_loader, optimizer, log_interval = 200)\n",
        "    test_loss, test_accuracy = evaluate(model, test_loader)\n",
        "    print(\"\\n[EPOCH: {}], \\tTest Loss: {:.4f}, \\tTest Accuracy: {:.2f} % \\n\".format(\n",
        "        epoch, test_loss, test_accuracy))"
      ],
      "metadata": {
        "id": "spFvoP2MBpB5",
        "colab": {
          "base_uri": "https://localhost:8080/"
        },
        "outputId": "1ce4af6f-a3ff-4985-f604-880de30ba124"
      },
      "execution_count": null,
      "outputs": [
        {
          "output_type": "stream",
          "name": "stdout",
          "text": [
            "Train Epoch: 1 [0/50000 (0%)]\tTrain Loss: 1.328951\n",
            "Train Epoch: 1 [6400/50000 (13%)]\tTrain Loss: 1.404933\n",
            "Train Epoch: 1 [12800/50000 (26%)]\tTrain Loss: 1.177468\n",
            "Train Epoch: 1 [19200/50000 (38%)]\tTrain Loss: 1.146765\n",
            "Train Epoch: 1 [25600/50000 (51%)]\tTrain Loss: 0.834884\n",
            "Train Epoch: 1 [32000/50000 (64%)]\tTrain Loss: 1.125883\n",
            "Train Epoch: 1 [38400/50000 (77%)]\tTrain Loss: 0.689321\n",
            "Train Epoch: 1 [44800/50000 (90%)]\tTrain Loss: 0.785508\n",
            "\n",
            "[EPOCH: 1], \tTest Loss: 0.9347, \tTest Accuracy: 66.65 % \n",
            "\n",
            "Train Epoch: 2 [0/50000 (0%)]\tTrain Loss: 0.887890\n",
            "Train Epoch: 2 [6400/50000 (13%)]\tTrain Loss: 0.711444\n",
            "Train Epoch: 2 [12800/50000 (26%)]\tTrain Loss: 0.675358\n",
            "Train Epoch: 2 [19200/50000 (38%)]\tTrain Loss: 0.995741\n",
            "Train Epoch: 2 [25600/50000 (51%)]\tTrain Loss: 0.684251\n",
            "Train Epoch: 2 [32000/50000 (64%)]\tTrain Loss: 0.664583\n",
            "Train Epoch: 2 [38400/50000 (77%)]\tTrain Loss: 0.792905\n",
            "Train Epoch: 2 [44800/50000 (90%)]\tTrain Loss: 0.632278\n",
            "\n",
            "[EPOCH: 2], \tTest Loss: 0.8363, \tTest Accuracy: 71.08 % \n",
            "\n",
            "Train Epoch: 3 [0/50000 (0%)]\tTrain Loss: 0.907214\n",
            "Train Epoch: 3 [6400/50000 (13%)]\tTrain Loss: 0.863969\n",
            "Train Epoch: 3 [12800/50000 (26%)]\tTrain Loss: 0.676768\n",
            "Train Epoch: 3 [19200/50000 (38%)]\tTrain Loss: 0.869165\n",
            "Train Epoch: 3 [25600/50000 (51%)]\tTrain Loss: 0.582861\n",
            "Train Epoch: 3 [32000/50000 (64%)]\tTrain Loss: 0.549207\n",
            "Train Epoch: 3 [38400/50000 (77%)]\tTrain Loss: 0.566632\n",
            "Train Epoch: 3 [44800/50000 (90%)]\tTrain Loss: 0.708171\n",
            "\n",
            "[EPOCH: 3], \tTest Loss: 0.7180, \tTest Accuracy: 74.85 % \n",
            "\n",
            "Train Epoch: 4 [0/50000 (0%)]\tTrain Loss: 0.575728\n",
            "Train Epoch: 4 [6400/50000 (13%)]\tTrain Loss: 0.324851\n",
            "Train Epoch: 4 [12800/50000 (26%)]\tTrain Loss: 0.503141\n",
            "Train Epoch: 4 [19200/50000 (38%)]\tTrain Loss: 0.480256\n",
            "Train Epoch: 4 [25600/50000 (51%)]\tTrain Loss: 0.489888\n",
            "Train Epoch: 4 [32000/50000 (64%)]\tTrain Loss: 0.619840\n",
            "Train Epoch: 4 [38400/50000 (77%)]\tTrain Loss: 0.684104\n",
            "Train Epoch: 4 [44800/50000 (90%)]\tTrain Loss: 0.623429\n",
            "\n",
            "[EPOCH: 4], \tTest Loss: 0.7164, \tTest Accuracy: 74.99 % \n",
            "\n",
            "Train Epoch: 5 [0/50000 (0%)]\tTrain Loss: 0.305234\n",
            "Train Epoch: 5 [6400/50000 (13%)]\tTrain Loss: 0.616738\n",
            "Train Epoch: 5 [12800/50000 (26%)]\tTrain Loss: 0.433365\n",
            "Train Epoch: 5 [19200/50000 (38%)]\tTrain Loss: 0.396265\n",
            "Train Epoch: 5 [25600/50000 (51%)]\tTrain Loss: 0.512860\n",
            "Train Epoch: 5 [32000/50000 (64%)]\tTrain Loss: 0.647021\n",
            "Train Epoch: 5 [38400/50000 (77%)]\tTrain Loss: 0.677697\n",
            "Train Epoch: 5 [44800/50000 (90%)]\tTrain Loss: 0.396554\n",
            "\n",
            "[EPOCH: 5], \tTest Loss: 0.5871, \tTest Accuracy: 79.77 % \n",
            "\n",
            "Train Epoch: 6 [0/50000 (0%)]\tTrain Loss: 0.522297\n",
            "Train Epoch: 6 [6400/50000 (13%)]\tTrain Loss: 0.278298\n",
            "Train Epoch: 6 [12800/50000 (26%)]\tTrain Loss: 0.314407\n",
            "Train Epoch: 6 [19200/50000 (38%)]\tTrain Loss: 0.333473\n",
            "Train Epoch: 6 [25600/50000 (51%)]\tTrain Loss: 0.370639\n",
            "Train Epoch: 6 [32000/50000 (64%)]\tTrain Loss: 0.693243\n",
            "Train Epoch: 6 [38400/50000 (77%)]\tTrain Loss: 0.545051\n",
            "Train Epoch: 6 [44800/50000 (90%)]\tTrain Loss: 0.704820\n",
            "\n",
            "[EPOCH: 6], \tTest Loss: 0.5493, \tTest Accuracy: 81.05 % \n",
            "\n",
            "Train Epoch: 7 [0/50000 (0%)]\tTrain Loss: 0.543889\n",
            "Train Epoch: 7 [6400/50000 (13%)]\tTrain Loss: 0.365134\n",
            "Train Epoch: 7 [12800/50000 (26%)]\tTrain Loss: 0.346492\n",
            "Train Epoch: 7 [19200/50000 (38%)]\tTrain Loss: 0.324098\n",
            "Train Epoch: 7 [25600/50000 (51%)]\tTrain Loss: 0.628507\n",
            "Train Epoch: 7 [32000/50000 (64%)]\tTrain Loss: 0.366292\n",
            "Train Epoch: 7 [38400/50000 (77%)]\tTrain Loss: 0.505349\n",
            "Train Epoch: 7 [44800/50000 (90%)]\tTrain Loss: 0.297378\n",
            "\n",
            "[EPOCH: 7], \tTest Loss: 0.5376, \tTest Accuracy: 81.22 % \n",
            "\n",
            "Train Epoch: 8 [0/50000 (0%)]\tTrain Loss: 0.317081\n",
            "Train Epoch: 8 [6400/50000 (13%)]\tTrain Loss: 0.365337\n",
            "Train Epoch: 8 [12800/50000 (26%)]\tTrain Loss: 0.434383\n",
            "Train Epoch: 8 [19200/50000 (38%)]\tTrain Loss: 0.682664\n",
            "Train Epoch: 8 [25600/50000 (51%)]\tTrain Loss: 0.285769\n",
            "Train Epoch: 8 [32000/50000 (64%)]\tTrain Loss: 0.301309\n",
            "Train Epoch: 8 [38400/50000 (77%)]\tTrain Loss: 0.624524\n",
            "Train Epoch: 8 [44800/50000 (90%)]\tTrain Loss: 0.371324\n",
            "\n",
            "[EPOCH: 8], \tTest Loss: 0.5044, \tTest Accuracy: 82.61 % \n",
            "\n",
            "Train Epoch: 9 [0/50000 (0%)]\tTrain Loss: 0.495091\n",
            "Train Epoch: 9 [6400/50000 (13%)]\tTrain Loss: 0.569185\n",
            "Train Epoch: 9 [12800/50000 (26%)]\tTrain Loss: 0.378087\n",
            "Train Epoch: 9 [19200/50000 (38%)]\tTrain Loss: 0.736430\n",
            "Train Epoch: 9 [25600/50000 (51%)]\tTrain Loss: 0.476646\n",
            "Train Epoch: 9 [32000/50000 (64%)]\tTrain Loss: 0.417797\n",
            "Train Epoch: 9 [38400/50000 (77%)]\tTrain Loss: 0.293900\n",
            "Train Epoch: 9 [44800/50000 (90%)]\tTrain Loss: 0.487885\n",
            "\n",
            "[EPOCH: 9], \tTest Loss: 0.5030, \tTest Accuracy: 82.98 % \n",
            "\n",
            "Train Epoch: 10 [0/50000 (0%)]\tTrain Loss: 0.235473\n",
            "Train Epoch: 10 [6400/50000 (13%)]\tTrain Loss: 0.706263\n",
            "Train Epoch: 10 [12800/50000 (26%)]\tTrain Loss: 0.457135\n",
            "Train Epoch: 10 [19200/50000 (38%)]\tTrain Loss: 0.299645\n",
            "Train Epoch: 10 [25600/50000 (51%)]\tTrain Loss: 0.320294\n",
            "Train Epoch: 10 [32000/50000 (64%)]\tTrain Loss: 0.749898\n",
            "Train Epoch: 10 [38400/50000 (77%)]\tTrain Loss: 0.407965\n",
            "Train Epoch: 10 [44800/50000 (90%)]\tTrain Loss: 0.347932\n",
            "\n",
            "[EPOCH: 10], \tTest Loss: 0.5052, \tTest Accuracy: 83.17 % \n",
            "\n"
          ]
        }
      ]
    },
    {
      "cell_type": "code",
      "source": [],
      "metadata": {
        "id": "d__LkW3VBzpe"
      },
      "execution_count": null,
      "outputs": []
    },
    {
      "cell_type": "markdown",
      "source": [
        "### The End."
      ],
      "metadata": {
        "id": "spc48rNHQnYL"
      }
    },
    {
      "cell_type": "markdown",
      "source": [
        "##### Please upload your Colab file @Github https://github.com/duneag2/intro-dl/tree/main/Assignment6\n",
        "\n",
        "*   First, make your folder by your name (e.g. seungeun)\n",
        "*   Then upload your \"Jupyter Notebook\" file under that directory\n",
        "\n",
        "###### Need Help?\n",
        "\n",
        "\n",
        "\n",
        "*   Please refer to this link https://yeko90.tistory.com/entry/%ED%8C%8C%EC%9D%B4%EC%8D%AC-colab%EC%BD%94%EB%9E%A9%EC%97%90%EC%84%9C-%EC%95%95%EC%B6%95%ED%8C%8C%EC%9D%BC-%ED%92%80%EA%B8%B0 OR\n",
        "*   Just save your Jupyter Notebook (.ipynb) file in here (colab) and upload via 'Add file' - 'Upload files' https://nthree.tistory.com/60"
      ],
      "metadata": {
        "id": "iMNBVkjiS7D9"
      }
    },
    {
      "cell_type": "code",
      "source": [],
      "metadata": {
        "id": "XzVGuer0S9Oh"
      },
      "execution_count": null,
      "outputs": []
    }
  ]
}