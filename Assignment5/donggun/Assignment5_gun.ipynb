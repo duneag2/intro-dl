{
  "nbformat": 4,
  "nbformat_minor": 0,
  "metadata": {
    "colab": {
      "provenance": []
    },
    "kernelspec": {
      "name": "python3",
      "display_name": "Python 3"
    },
    "language_info": {
      "name": "python"
    }
  },
  "cells": [
    {
      "cell_type": "markdown",
      "source": [
        "# 2024 Winter Introduction to Deep Learning\n",
        "### Based on Prof. Oh's Youtube Lecture\n",
        "https://youtube.com/playlist?list=PLvbUC2Zh5oJvByu9KL82bswYT2IKf0K1M\n",
        "\n",
        "> Assignment #5\n",
        "\n",
        "\n",
        "*   Youtube Lecture #17-22\n",
        "*   Written by Seungeun Lee"
      ],
      "metadata": {
        "id": "YcXb0XLEvHns"
      }
    },
    {
      "cell_type": "markdown",
      "source": [
        "## 1. Batch Normalization\n",
        "\n",
        "\n"
      ],
      "metadata": {
        "id": "qM2kM5G7BYZr"
      }
    },
    {
      "cell_type": "markdown",
      "source": [
        "*    Reference. https://huangdi.tistory.com/m/9, https://wegonnamakeit.tistory.com/m/47, https://wikidocs.net/195419\n",
        "*    For https://huangdi.tistory.com/m/9, try to understand the need for Batch Normalization. (The code is not running properly due to the github issues)"
      ],
      "metadata": {
        "id": "l-eq03krP21I"
      }
    },
    {
      "cell_type": "code",
      "source": [
        " # DO NOT run this code!!\n",
        "# nn layers\n",
        "linear1 = torch.nn.Linear(784, 32, bias=True)\n",
        "linear2 = torch.nn.Linear(32, 32, bias=True)\n",
        "linear3 = torch.nn.Linear(32, 10, bias=True)\n",
        "\n",
        "relu = torch.nn.ReLU()\n",
        "bn1 = torch.nn.BatchNorm1d(32) # Batch Normalization for 1D data\n",
        "bn2 = torch.nn.BatchNorm1d(32)\n",
        "\n",
        "nn_linear1 = torch.nn.Linear(784, 32, bias=True)\n",
        "nn_linear2 = torch.nn.Linear(32, 32, bias=True)\n",
        "nn_linear3 = torch.nn.Linear(32, 10, bias=True)\n",
        "\n",
        "\n",
        "# model\n",
        "# torch.nn.Seqeuntial is kind of a \"stack\" operation of layers\n",
        "# We usually apply ReLU after the BN, but it's not a must!\n",
        "bn_model = torch.nn.Sequential(linear1, bn1, relu,\n",
        "                              linear2, bn2, relu,\n",
        "                              linear3).to(device)\n",
        "# Model w.o. BN\n",
        "# Linear + ReLU is a convention\n",
        "nn_model = torch.nn.Sequential(nn_linear1, relu,\n",
        "                               nn_linear2, relu,\n",
        "                               nn_linear3).to(device)"
      ],
      "metadata": {
        "id": "Q7_JWyTWKoyT"
      },
      "execution_count": null,
      "outputs": []
    },
    {
      "cell_type": "code",
      "source": [
        "# If not using torch.nn.Sequential, you can use class module!\n",
        "\n",
        "import torch.nn as nn\n",
        "\n",
        "class Model(nn.Module):\n",
        "    def __init__(self):\n",
        "        super(Model, self).__init__()\n",
        "        # in __init__, initialize the layers you'd like to use\n",
        "        self.fc1 = nn.Linear(100, 50)\n",
        "        self.bn = nn.BatchNorm1d(num_features=50)\n",
        "        self.relu = nn.ReLU()\n",
        "        self.fc2 = nn.Linear(50, 10)\n",
        "\n",
        "    def forward(self, x):\n",
        "        # in forward, place the layers sequentially\n",
        "        x = self.fc1(x)\n",
        "        x = self.bn(x)\n",
        "        x = self.relu(x)\n",
        "        x = self.fc2(x)\n",
        "        return x"
      ],
      "metadata": {
        "id": "k6bdnbKmK-ZC"
      },
      "execution_count": 1,
      "outputs": []
    },
    {
      "cell_type": "code",
      "source": [
        "import torch\n",
        "\n",
        "# BN 1D\n",
        "m = nn.BatchNorm1d(100)\n",
        "input = torch.randn(20, 100)\n",
        "output = m(input)\n",
        "\n",
        "# BN 2D\n",
        "# So far, we've only used BN 1D\n",
        "# But what's BN 2D??\n",
        "m = nn.BatchNorm2d(100)\n",
        "input = torch.randn(20, 100, 35, 45)\n",
        "output = m(input)"
      ],
      "metadata": {
        "id": "mh9UvwnlK-3G"
      },
      "execution_count": 5,
      "outputs": []
    },
    {
      "cell_type": "markdown",
      "source": [
        "### Question 1. Compare & Contrast BatchNorm1d and Batchnorm2d\n",
        "*     Hint: https://gaussian37.github.io/dl-concept-batchnorm/, https://pytorch.org/docs/stable/generated/torch.nn.BatchNorm1d.html, and https://pytorch.org/docs/stable/generated/torch.nn.BatchNorm2d.html"
      ],
      "metadata": {
        "id": "JtrlgMOov47e"
      }
    },
    {
      "cell_type": "markdown",
      "source": [
        "## BatchNorm1d 는 1차원 데이터를 배치 정규화 하기 위해서 사용하는 함수이다. nn.BatchNorm1d 안에 들어가는 값은 채널의 개수 이며, 이렇게 만든 정규화에 (배치 사이즈, 채널 개수)의 크기를 갖는 입력값을 넣어주면 배치 정규화가 완료된다.\n",
        "\n",
        "## BatchNorm2d 는 2차원 데이터를 배치 정규화 하기 위해서 사용하는 함수이다. nn.batchNorm2d 안에 들어가는 값은 nn.BatchNorm1d와 동일하게 채널의 개수이며, 이렇게 만든 정규화에 (배치 사이즈, 채널 개수, 높이, 너비)의 크기를 갖는 입력값을 넣어주면 배치 정규화가 완료된다."
      ],
      "metadata": {
        "id": "AUISP666eCK-"
      }
    },
    {
      "cell_type": "markdown",
      "source": [
        "## 2. Weight Initialization\n",
        "\n",
        "*   Reference. https://ysg2997.tistory.com/14, https://m.blog.naver.com/PostView.naver?blogId=tinz6461&logNo=221599717016&proxyReferer="
      ],
      "metadata": {
        "id": "1BgQvGP205Tf"
      }
    },
    {
      "cell_type": "code",
      "source": [
        "import torch\n",
        "import torch.nn as nn\n",
        "import torch.nn.init as init"
      ],
      "metadata": {
        "id": "dgxRjABUI1sv"
      },
      "execution_count": 6,
      "outputs": []
    },
    {
      "cell_type": "code",
      "source": [
        "# Quick Question\n",
        "# Read the document above and write a line-by-line\n",
        "# explanation of the code below.\n",
        "'''\n",
        "딥러닝 모델을 학습시 가중치를 초기화하고, 예측값과 실제값의 차이를 손실함수를 통해 구한다. 이후 backpropagation을\n",
        "이용하여 loss를 줄이는 방향으로 가중치를 업데이트 한다. 이 과정에서 첫 가중치는 랜덤한 수로 초기화 하게 되는데\n",
        "이 초기화 되는 가중치의 값이 모델의 성능에 유의미한 영향을 미친다. 따라서, 여러 논문에서 모델의 성능을 높이기 위해서\n",
        "여러 가지 가중치 초기화 방법을 소개하고 있다\n",
        "\n",
        "주로 Xavier Initialization과 He Initialization이 사용된다\n",
        "1. Xavier Initialization : 보통 활성화 함수로 Sigmoid 함수를 사용할 때 적용하는 가중치 초기화 기법이다.\n",
        "ReLu 함수를 사용할 때 적용할 경우에 출력 값이 0으로 수렴하는 현상을 발생시킨다.\n",
        "\n",
        "2. He Initialization : 보통 활성화 함수로 ReLu 함수를 사용할 때 적용하는 가중치 초기화 기법이다.\n",
        "'''"
      ],
      "metadata": {
        "id": "0gyoVqzlceii",
        "colab": {
          "base_uri": "https://localhost:8080/",
          "height": 89
        },
        "outputId": "33a41934-1f9a-498d-d9ae-fe104b0a0080"
      },
      "execution_count": 24,
      "outputs": [
        {
          "output_type": "execute_result",
          "data": {
            "text/plain": [
              "'\\n딥러닝 모델을 학습시 가중치를 초기화하고, 예측값과 실제값의 차이를 손실함수를 통해 구한다. 이후 backpropagation을 \\n이용하여 loss를 줄이는 방향으로 가중치를 업데이트 한다. 이 과정에서 첫 가중치는 랜덤한 수로 초기화 하게 되는데\\n이 초기화 되는 가중치의 값이 모델의 성능에 유의미한 영향을 미친다. 따라서, 여러 논문에서 모델의 성능을 높이기 위해서\\n여러 가지 가중치 초기화 방법을 소개하고 있다\\n\\n주로 Xavier Initialization과 He Initialization이 사용된다\\n1. Xavier Initialization : 보통 활성화 함수로 Sigmoid 함수를 사용할 때 적용하는 가중치 초기화 기법이다.\\nReLu 함수를 사용할 때 적용할 경우에 출력 값이 0으로 수렴하는 현상을 발생시킨다. \\n\\n2. He Initialization : 보통 활성화 함수로 ReLu 함수를 사용할 때 적용하는 가중치 초기화 기법이다.\\n'"
            ],
            "application/vnd.google.colaboratory.intrinsic+json": {
              "type": "string"
            }
          },
          "metadata": {},
          "execution_count": 24
        }
      ]
    },
    {
      "cell_type": "code",
      "source": [
        "class CNN(nn.Module):\n",
        "    def __init__(self):\n",
        "        super(CNN,self).__init__()\n",
        "        self.layer = nn.Sequential( # CNN 레이어 구성\n",
        "            nn.Conv2d(1,16,3,padding=1),  # 28 x 28 (1x28x28 크기의 행렬을 3x3 커널과 패딩을 이용하여 16x28x28 크기의 행렬로 변환)\n",
        "            nn.ReLU(), # 활성화 함수 적용\n",
        "            nn.Conv2d(16,32,3,padding=1), # 28 x 28 (16x28x28 크기의 행렬을 3x3 커널과 패딩을 이용하여 32x28x28 크기의 행렬로 변환)\n",
        "            nn.ReLU(), # 활성화 함수 적용\n",
        "            nn.MaxPool2d(2,2),            # 14 x 14 (Maxpool2d를 이용하여 행렬의 너비와 높이를 각각 반으로 줄임)\n",
        "            nn.Conv2d(32,64,3,padding=1), # 14 x 14 (32x14x14 크기의 행렬을 3x3 커널과 패딩을 이용하여 64x14x14 크기의 행렬로 변환)\n",
        "            nn.ReLU(), # 활성화 함수 적용\n",
        "            nn.MaxPool2d(2,2)             #  7 x 7 (Maxpool2d를 이용하여 행렬의 너비와 높이를 각각 반으로 줄임) 최종적으로 64x7x7 크기의 행렬로 변환\n",
        "        )\n",
        "        self.fc_layer = nn.Sequential( # fc 레이어 구성\n",
        "            nn.Linear(64*7*7,100), # ((64x7x7)개의 입력을 입력받아 100개의 은닉층으로 선형결합)\n",
        "            nn.ReLU(), # 활성화 함수 적용\n",
        "            nn.Linear(100,10) # 100개의 은닉층에서 10개의 값을 출력함\n",
        "        )\n",
        "        for m in self.modules(): # 모델을 차례차례 불러오는 for문\n",
        "          if isinstance(m, nn.Conv2d): # 모델이 Conv 모델인 경우\n",
        "\n",
        "            init.kaiming_normal_(m.weight.data) # kaiming_normal을 이용하여 He initialization을 적용시켜준다.\n",
        "            m.bias.data.fill_(0)\n",
        "\n",
        "          elif isinstance(m, nn.Linear): # 모델이 Linear 모델인 경우\n",
        "\n",
        "            init.kaiming_normal_(m.weight.data) # kaiming_normal을 이용하여 He initialization을 적용시켜준다.\n",
        "            m.bias.data.fill_(0)\n",
        "\n",
        "    def forward(self,x):\n",
        "        out = self.layer(x) # 입력값에 conv 레이어 적용\n",
        "        out = out.view(batch_size,-1) # (4D의 차원을 가지고 있는 데이터를 (배치 사이즈, 채널x너비x높이) 크기로 reshape해주는 코드)\n",
        "        out = self.fc_layer(out) # fc 레이어 적용\n",
        "        return out"
      ],
      "metadata": {
        "id": "P8ULcApY1FIY"
      },
      "execution_count": 26,
      "outputs": []
    },
    {
      "cell_type": "code",
      "source": [
        "# Then let's look at the efficiency of such Weight Init. techniques\n",
        "# with visualization"
      ],
      "metadata": {
        "id": "ZaezvQcYc7TY"
      },
      "execution_count": null,
      "outputs": []
    },
    {
      "cell_type": "code",
      "source": [
        "# Quick Question\n",
        "# Read the document above and briefly explain the code below."
      ],
      "metadata": {
        "id": "8ajqLBL6dnAj"
      },
      "execution_count": null,
      "outputs": []
    },
    {
      "cell_type": "code",
      "source": [
        "import tensorflow as tf\n",
        "import random\n",
        "import numpy as np\n",
        "import matplotlib.pyplot as plt\n",
        "\n",
        "# sigmoid\n",
        "def sigmoid(x):\n",
        "    return 1 / (1 + np.exp(-x)) # sigmoid 함수\n",
        "\n",
        "# ReLU\n",
        "def ReLU(x):\n",
        "    return np.maximum(0, x) # ReLu 함수\n",
        "\n",
        "# tanh\n",
        "def tanh(x):\n",
        "    return np.tanh(x) # tanh 함수\n",
        "\n",
        "def weight_init(method=None): # 여러 가중치 초기화 함수를 정의\n",
        "    w = 0\n",
        "    if method == 'large':\n",
        "        w = np.random.randn(node_num, node_num) * 1\n",
        "    elif method == 'small':\n",
        "        w = np.random.randn(node_num, node_num) * 0.01\n",
        "    elif method == 'xavier':\n",
        "        w = np.random.randn(node_num, node_num) * np.sqrt(1.0 / node_num)  # Xavier init\n",
        "    elif method == 'he':\n",
        "        w = np.random.randn(node_num, node_num) * np.sqrt(2.0 / node_num)  # He init\n",
        "\n",
        "    return w"
      ],
      "metadata": {
        "id": "6J-FjScBKF7y"
      },
      "execution_count": 9,
      "outputs": []
    },
    {
      "cell_type": "code",
      "source": [
        "input_data = np.random.randn(1000, 100) # 랜덤 입력값 설정\n",
        "node_num = 100 # xavier 방법과 he 방법을 이용하기 위한 노드 사이즈 설정\n",
        "hidden_layer_size = 5\n",
        "activations = {}\n",
        "\n",
        "x = input_data\n",
        "\n",
        "for i in range(hidden_layer_size):\n",
        "    if i != 0:\n",
        "        x = activations[i-1]\n",
        "\n",
        "    w = weight_init('small')\n",
        "    a = np.dot(x, w)\n",
        "\n",
        "    # z = sigmoid(a)\n",
        "    # z = ReLU(a)\n",
        "    z = tanh(a)\n",
        "\n",
        "    activations[i] = z\n",
        "\n",
        "for i, a in activations.items():\n",
        "    plt.subplot(1, len(activations), i+1)\n",
        "    plt.title(str(i+1) + \"-layer\")\n",
        "    if i != 0: plt.yticks([], [])\n",
        "#     plt.xlim(0.1, 1)\n",
        "    plt.ylim(0, 8000)\n",
        "    plt.hist(a.flatten(), 30, range=(-1,1))\n",
        "plt.show() # 밑에 그래프를 보면 값이 0으로 수렴하는 것을 확인해 볼 수 있다."
      ],
      "metadata": {
        "id": "elzVHh2FKHa2",
        "colab": {
          "base_uri": "https://localhost:8080/",
          "height": 452
        },
        "outputId": "e97b9d71-fc1f-4c0b-e2d0-00b63fa8d8f9"
      },
      "execution_count": 10,
      "outputs": [
        {
          "output_type": "display_data",
          "data": {
            "text/plain": [
              "<Figure size 640x480 with 5 Axes>"
            ],
            "image/png": "[encoded data removed]"
          },
          "metadata": {}
        }
      ]
    },
    {
      "cell_type": "code",
      "source": [
        "for i in range(hidden_layer_size):\n",
        "    if i != 0:\n",
        "        x = activations[i-1]\n",
        "\n",
        "    w = weight_init('large')\n",
        "    a = np.dot(x, w)\n",
        "\n",
        "    # z = sigmoid(a)\n",
        "    # z = ReLU(a)\n",
        "    z = tanh(a)\n",
        "\n",
        "    activations[i] = z\n",
        "\n",
        "for i, a in activations.items():\n",
        "    plt.subplot(1, len(activations), i+1)\n",
        "    plt.title(str(i+1) + \"-layer\")\n",
        "    if i != 0: plt.yticks([], [])\n",
        "#     plt.xlim(0.1, 1)\n",
        "    plt.ylim(0, 7000)\n",
        "    plt.hist(a.flatten(), 30, range=(-1,1))\n",
        "plt.show() # 밑에 그래프를 보면 값이 너무 커지는 것을 확인 할 수 있다."
      ],
      "metadata": {
        "id": "a91BiqWZKHCJ",
        "colab": {
          "base_uri": "https://localhost:8080/",
          "height": 452
        },
        "outputId": "6c0dc682-fcee-4b48-9085-7772ead4536a"
      },
      "execution_count": 11,
      "outputs": [
        {
          "output_type": "display_data",
          "data": {
            "text/plain": [
              "<Figure size 640x480 with 5 Axes>"
            ],
            "image/png": "[encoded data removed]"
          },
          "metadata": {}
        }
      ]
    },
    {
      "cell_type": "code",
      "source": [
        "# Xavier Initialization\n",
        "input_data = np.random.randn(1000, 100)\n",
        "node_num = 100\n",
        "hidden_layer_size = 5\n",
        "activations = {}\n",
        "\n",
        "x = input_data\n",
        "\n",
        "for i in range(hidden_layer_size):\n",
        "    if i != 0:\n",
        "        x = activations[i-1]\n",
        "\n",
        "    w = weight_init('xavier')\n",
        "    a = np.dot(x, w)\n",
        "\n",
        "    # z = sigmoid(a)\n",
        "    # z = ReLU(a)\n",
        "    z = tanh(a)\n",
        "\n",
        "    activations[i] = z\n",
        "\n",
        "for i, a in activations.items():\n",
        "    plt.subplot(1, len(activations), i+1)\n",
        "    plt.title(str(i+1) + \"-layer\")\n",
        "    if i != 0: plt.yticks([], [])\n",
        "#     plt.xlim(0.1, 1)\n",
        "    plt.ylim(0, 7000)\n",
        "    plt.hist(a.flatten(), 30, range=(-1,1))\n",
        "plt.show() # 데이터의 분포가 정규 분포 형태로 바뀌는 것을 확인 할 수 있다."
      ],
      "metadata": {
        "id": "mXBo8IINKUjp",
        "colab": {
          "base_uri": "https://localhost:8080/",
          "height": 452
        },
        "outputId": "237989e3-5970-409a-893f-f162bcf6cff0"
      },
      "execution_count": 12,
      "outputs": [
        {
          "output_type": "display_data",
          "data": {
            "text/plain": [
              "<Figure size 640x480 with 5 Axes>"
            ],
            "image/png": "[encoded data removed]"
          },
          "metadata": {}
        }
      ]
    },
    {
      "cell_type": "code",
      "source": [
        "# He Initialization\n",
        "input_data = np.random.randn(1000, 100)\n",
        "node_num = 100\n",
        "hidden_layer_size = 5\n",
        "activations = {}\n",
        "\n",
        "x = input_data\n",
        "\n",
        "for i in range(hidden_layer_size):\n",
        "    if i != 0:\n",
        "        x = activations[i-1]\n",
        "\n",
        "    w = weight_init('xavier')\n",
        "    a = np.dot(x, w)\n",
        "\n",
        "    # z = sigmoid(a)\n",
        "    z = ReLU(a)\n",
        "    # z = tanh(a)\n",
        "\n",
        "    activations[i] = z\n",
        "\n",
        "for i, a in activations.items():\n",
        "    plt.subplot(1, len(activations), i+1)\n",
        "    plt.title(str(i+1) + \"-layer\")\n",
        "    if i != 0: plt.yticks([], [])\n",
        "#     plt.xlim(0.1, 1)\n",
        "    plt.ylim(0, 7000)\n",
        "    plt.hist(a.flatten(), 30, range=(0,1))\n",
        "plt.show() # 데이터의 분포가 0 근처에서 정규분포를 반으로 자른 분포를 따르는 것을 볼 수 있다.(ReLu 함수는 0이하의 값을 0으로 내보내기 때문에 0이하의 값은 없는 것이다.)"
      ],
      "metadata": {
        "id": "O-eTjk0mKYJN",
        "colab": {
          "base_uri": "https://localhost:8080/",
          "height": 452
        },
        "outputId": "8e997051-d347-4a89-8de1-c3b2754f17f3"
      },
      "execution_count": 13,
      "outputs": [
        {
          "output_type": "display_data",
          "data": {
            "text/plain": [
              "<Figure size 640x480 with 5 Axes>"
            ],
            "image/png": "[encoded data removed]"
          },
          "metadata": {}
        }
      ]
    },
    {
      "cell_type": "markdown",
      "source": [
        "## 3. CNN\n",
        "*     Reference. https://justkode.kr/deep-learning/pytorch-cnn/"
      ],
      "metadata": {
        "id": "RHoAQdMP1L4b"
      }
    },
    {
      "cell_type": "code",
      "source": [
        "## GPU (Optional)\n",
        "# 런타임 - 런타임 유형 변경 - T4 GPU\n",
        "# !nvidia-smi"
      ],
      "metadata": {
        "id": "PSqnwiKKH_-x"
      },
      "execution_count": null,
      "outputs": []
    },
    {
      "cell_type": "code",
      "source": [
        "# Question\n",
        "# Run two cells below and try to explain the\n",
        "# change of tensor size after passing through the layers\n",
        "# e.g.) Conv1: [10, 1, 20, 20] -> [10, 3, 16, 16], because --"
      ],
      "metadata": {
        "id": "rBRJM0HOfOVM"
      },
      "execution_count": null,
      "outputs": []
    },
    {
      "cell_type": "code",
      "source": [
        "import torch\n",
        "import torch.nn as nn\n",
        "import torch.nn.functional as F\n",
        "\n",
        "class CNN(nn.Module):\n",
        "  def __init__(self):\n",
        "    super(CNN, self).__init__()\n",
        "    self.conv1 = nn.Conv2d(in_channels=1, out_channels=3, kernel_size=5, stride=1) # [10, 1, 20, 20] -> [10, 3, 16, 16] 이 된다. 채널은 1 -> 3으로 바뀌고, kernel size=5, stride=1 이므로 (20-5+1)/1 = 16으로 이미지의 크기가 바뀐다.\n",
        "    self.conv2 = nn.Conv2d(in_channels=3, out_channels=10, kernel_size=5, stride=1) # [10, 3, 12, 12] -> [10, 10, 12, 12] 이 된다. 채널은 3 -> 10으로 바뀌고, kernel size=5, stride=1 이므로 (16-5+1)/1 = 12으로 이미지의 크기가 바뀐다.\n",
        "    self.fc1 = nn.Linear(10 * 12 * 12, 50) # [10,10x12x12] -> [10, 50]이 된다. 채널이 1440 -> 50으로 바뀌기 때문이다.\n",
        "    self.fc2 = nn.Linear(50, 10) # [10,50] -> [10,10]이 된다. 채널이 50 -> 10으로 바뀌기 때문이다.\n",
        "\n",
        "  def forward(self, x):\n",
        "    print(\"Before\", x.size())\n",
        "    x = F.relu(self.conv1(x))\n",
        "    print(\"After conv1\", x.size())\n",
        "    x = F.relu(self.conv2(x))\n",
        "    print(\"After conv2\",x.size())\n",
        "    x = x.view(-1, 10 * 12 * 12)\n",
        "    print(\"After dimension reduction\", x.size())\n",
        "    x = F.relu(self.fc1(x))\n",
        "    print(\"After fc1\", x.size())\n",
        "    x = self.fc2(x)\n",
        "    print(\"After fc2\", x.size())\n",
        "    return x\n",
        "\n",
        "cnn = CNN()\n",
        "output = cnn(torch.randn(10, 1, 20, 20))  # Input Size: (10, 1, 20, 20)"
      ],
      "metadata": {
        "id": "1nudN6YK1PS_",
        "colab": {
          "base_uri": "https://localhost:8080/"
        },
        "outputId": "30836a9c-6882-4253-e17a-8817a10755e8"
      },
      "execution_count": 14,
      "outputs": [
        {
          "output_type": "stream",
          "name": "stdout",
          "text": [
            "Before torch.Size([10, 1, 20, 20])\n",
            "After conv1 torch.Size([10, 3, 16, 16])\n",
            "After conv2 torch.Size([10, 10, 12, 12])\n",
            "After dimension reduction torch.Size([10, 1440])\n",
            "After fc1 torch.Size([10, 50])\n",
            "After fc2 torch.Size([10, 10])\n"
          ]
        }
      ]
    },
    {
      "cell_type": "code",
      "source": [
        "import torch\n",
        "import torch.nn as nn\n",
        "import torch.nn.functional as F\n",
        "\n",
        "class CNN(nn.Module):\n",
        "  def __init__(self):\n",
        "    super(CNN, self).__init__()\n",
        "    self.max_pool1 = nn.MaxPool2d(kernel_size=2) # [10, 1, 20, 20] -> [10, 1, 10, 10]으로 바뀐다. Maxpooling에서 kernel size=2 이기 때문이다.\n",
        "    self.max_pool2 = nn.MaxPool2d(kernel_size=2) # [10, 1, 10, 10] -> [10, 1, 5, 5]으로 바뀐다. Maxpooling에서 kernel size=2 이기 때문이다.\n",
        "    self.fc1 = nn.Linear(10 * 5 * 5, 50) # [1, 250] -> [1, 50]으로 바뀐다.\n",
        "    self.fc2 = nn.Linear(50, 10) # [1, 50] -> [1, 10]으로 바뀐다.\n",
        "\n",
        "  def forward(self, x):\n",
        "    print(\"Before\", x.size())\n",
        "    x = F.relu(self.max_pool1(x))\n",
        "    print(\"After max_pool1\", x.size())\n",
        "    x = F.relu(self.max_pool2(x))\n",
        "    print(\"After max_pool2\",x.size())\n",
        "    x = x.view(-1, 10 * 5 * 5)\n",
        "    print(\"After dimension reduction\", x.size())\n",
        "    x = F.relu(self.fc1(x))\n",
        "    print(\"After fc1\", x.size())\n",
        "    x = self.fc2(x)\n",
        "    print(\"After fc2\", x.size())\n",
        "    return x\n",
        "\n",
        "cnn = CNN()\n",
        "output = cnn(torch.randn(10, 1, 20, 20))"
      ],
      "metadata": {
        "id": "aObCDbls1SId",
        "colab": {
          "base_uri": "https://localhost:8080/"
        },
        "outputId": "7a6f3d49-5d92-4404-8a31-dbaef1eae22a"
      },
      "execution_count": 15,
      "outputs": [
        {
          "output_type": "stream",
          "name": "stdout",
          "text": [
            "Before torch.Size([10, 1, 20, 20])\n",
            "After max_pool1 torch.Size([10, 1, 10, 10])\n",
            "After max_pool2 torch.Size([10, 1, 5, 5])\n",
            "After dimension reduction torch.Size([1, 250])\n",
            "After fc1 torch.Size([1, 50])\n",
            "After fc2 torch.Size([1, 10])\n"
          ]
        }
      ]
    },
    {
      "cell_type": "code",
      "source": [
        "# Now let's construct a CNN model"
      ],
      "metadata": {
        "id": "rgM7JyK_f6gu"
      },
      "execution_count": 16,
      "outputs": []
    },
    {
      "cell_type": "code",
      "source": [
        "import torch\n",
        "import torch.nn as nn\n",
        "import torch.nn.functional as F\n",
        "import torch.optim as optim\n",
        "from torchvision import datasets, transforms"
      ],
      "metadata": {
        "id": "zCg8EJLdE_8a"
      },
      "execution_count": 17,
      "outputs": []
    },
    {
      "cell_type": "code",
      "source": [
        "train_data = datasets.MNIST('./data/', train=True, download=True, transform=transforms.Compose([\n",
        "        transforms.ToTensor(),\n",
        "        transforms.Normalize((0.1307,), (0.3081,))\n",
        "    ]))\n",
        "train_loader = torch.utils.data.DataLoader(dataset=train_data, batch_size=50, shuffle=True)\n",
        "\n",
        "test_data = datasets.MNIST('./data/', train=False, transform=transforms.Compose([\n",
        "        transforms.ToTensor(),\n",
        "        transforms.Normalize((0.1307,), (0.3081,))\n",
        "    ]))\n",
        "test_loader = torch.utils.data.DataLoader(dataset=test_data, batch_size=50, shuffle=True)"
      ],
      "metadata": {
        "id": "YmVVkwqfVS__",
        "colab": {
          "base_uri": "https://localhost:8080/"
        },
        "outputId": "9794c7b4-2953-41ec-f5fd-4909712adef5"
      },
      "execution_count": 18,
      "outputs": [
        {
          "output_type": "stream",
          "name": "stdout",
          "text": [
            "Downloading http://yann.lecun.com/exdb/mnist/train-images-idx3-ubyte.gz\n",
            "Failed to download (trying next):\n",
            "HTTP Error 403: Forbidden\n",
            "\n",
            "Downloading https://ossci-datasets.s3.amazonaws.com/mnist/train-images-idx3-ubyte.gz\n",
            "Downloading https://ossci-datasets.s3.amazonaws.com/mnist/train-images-idx3-ubyte.gz to ./data/MNIST/raw/train-images-idx3-ubyte.gz\n"
          ]
        },
        {
          "output_type": "stream",
          "name": "stderr",
          "text": [
            "100%|██████████| 9912422/9912422 [00:00<00:00, 20462894.62it/s]\n"
          ]
        },
        {
          "output_type": "stream",
          "name": "stdout",
          "text": [
            "Extracting ./data/MNIST/raw/train-images-idx3-ubyte.gz to ./data/MNIST/raw\n",
            "\n",
            "Downloading http://yann.lecun.com/exdb/mnist/train-labels-idx1-ubyte.gz\n",
            "Failed to download (trying next):\n",
            "HTTP Error 403: Forbidden\n",
            "\n",
            "Downloading https://ossci-datasets.s3.amazonaws.com/mnist/train-labels-idx1-ubyte.gz\n",
            "Downloading https://ossci-datasets.s3.amazonaws.com/mnist/train-labels-idx1-ubyte.gz to ./data/MNIST/raw/train-labels-idx1-ubyte.gz\n"
          ]
        },
        {
          "output_type": "stream",
          "name": "stderr",
          "text": [
            "100%|██████████| 28881/28881 [00:00<00:00, 628030.06it/s]\n"
          ]
        },
        {
          "output_type": "stream",
          "name": "stdout",
          "text": [
            "Extracting ./data/MNIST/raw/train-labels-idx1-ubyte.gz to ./data/MNIST/raw\n",
            "\n",
            "Downloading http://yann.lecun.com/exdb/mnist/t10k-images-idx3-ubyte.gz\n",
            "Failed to download (trying next):\n",
            "HTTP Error 403: Forbidden\n",
            "\n",
            "Downloading https://ossci-datasets.s3.amazonaws.com/mnist/t10k-images-idx3-ubyte.gz\n",
            "Downloading https://ossci-datasets.s3.amazonaws.com/mnist/t10k-images-idx3-ubyte.gz to ./data/MNIST/raw/t10k-images-idx3-ubyte.gz\n"
          ]
        },
        {
          "output_type": "stream",
          "name": "stderr",
          "text": [
            "100%|██████████| 1648877/1648877 [00:00<00:00, 5571486.20it/s]\n"
          ]
        },
        {
          "output_type": "stream",
          "name": "stdout",
          "text": [
            "Extracting ./data/MNIST/raw/t10k-images-idx3-ubyte.gz to ./data/MNIST/raw\n",
            "\n",
            "Downloading http://yann.lecun.com/exdb/mnist/t10k-labels-idx1-ubyte.gz\n",
            "Failed to download (trying next):\n",
            "HTTP Error 403: Forbidden\n",
            "\n",
            "Downloading https://ossci-datasets.s3.amazonaws.com/mnist/t10k-labels-idx1-ubyte.gz\n",
            "Downloading https://ossci-datasets.s3.amazonaws.com/mnist/t10k-labels-idx1-ubyte.gz to ./data/MNIST/raw/t10k-labels-idx1-ubyte.gz\n"
          ]
        },
        {
          "output_type": "stream",
          "name": "stderr",
          "text": [
            "100%|██████████| 4542/4542 [00:00<00:00, 7338416.32it/s]"
          ]
        },
        {
          "output_type": "stream",
          "name": "stdout",
          "text": [
            "Extracting ./data/MNIST/raw/t10k-labels-idx1-ubyte.gz to ./data/MNIST/raw\n",
            "\n"
          ]
        },
        {
          "output_type": "stream",
          "name": "stderr",
          "text": [
            "\n"
          ]
        }
      ]
    },
    {
      "cell_type": "code",
      "source": [
        "class CNN(nn.Module):\n",
        "    def __init__(self):\n",
        "        super(CNN, self).__init__()\n",
        "        self.conv1 = nn.Conv2d(in_channels=1, out_channels=20, kernel_size=5, stride=1)\n",
        "        self.conv2 = nn.Conv2d(in_channels=20, out_channels=50, kernel_size=5, stride=1)\n",
        "        self.fc1 = nn.Linear(4 * 4 * 50, 500)\n",
        "        self.fc2 = nn.Linear(500, 10)\n",
        "\n",
        "    def forward(self, x):\n",
        "        x = F.relu(self.conv1(x))\n",
        "        x = F.max_pool2d(x, kernel_size=2, stride=2)\n",
        "        x = F.relu(self.conv2(x))\n",
        "        x = F.max_pool2d(x, kernel_size=2, stride=2)\n",
        "\n",
        "        x = x.view(-1, 4 * 4 * 50) # [batch_size, 50, 4, 4]\n",
        "        x = F.relu(self.fc1(x))\n",
        "        x = self.fc2(x)\n",
        "        return x"
      ],
      "metadata": {
        "id": "GP9NJ03qVS6N"
      },
      "execution_count": 19,
      "outputs": []
    },
    {
      "cell_type": "code",
      "source": [
        "cnn = CNN()\n",
        "criterion = torch.nn.CrossEntropyLoss()\n",
        "optimizer = optim.SGD(cnn.parameters(), lr=0.01)"
      ],
      "metadata": {
        "id": "x4gAjLBrVS1J"
      },
      "execution_count": 20,
      "outputs": []
    },
    {
      "cell_type": "code",
      "source": [
        "cnn.train()\n",
        "for epoch in range(10):\n",
        "  for index, (data, target) in enumerate(train_loader):\n",
        "    optimizer.zero_grad()\n",
        "    output = cnn(data)\n",
        "    loss = criterion(output, target)\n",
        "    loss.backward()\n",
        "    optimizer.step()\n",
        "\n",
        "    if index % 100 == 0:\n",
        "      print(\"loss of {} epoch, {} index : {}\".format(epoch, index, loss.item()))"
      ],
      "metadata": {
        "id": "A4jpLlXQVSv1",
        "colab": {
          "base_uri": "https://localhost:8080/"
        },
        "outputId": "2cf2a5db-3e62-4bc2-ffb4-badaff699681"
      },
      "execution_count": 21,
      "outputs": [
        {
          "output_type": "stream",
          "name": "stdout",
          "text": [
            "loss of 0 epoch, 0 index : 2.2929134368896484\n",
            "loss of 0 epoch, 100 index : 1.3330038785934448\n",
            "loss of 0 epoch, 200 index : 0.3300339877605438\n",
            "loss of 0 epoch, 300 index : 0.2850082516670227\n",
            "loss of 0 epoch, 400 index : 0.23805993795394897\n",
            "loss of 0 epoch, 500 index : 0.2341250628232956\n",
            "loss of 0 epoch, 600 index : 0.3542083501815796\n",
            "loss of 0 epoch, 700 index : 0.2991146743297577\n",
            "loss of 0 epoch, 800 index : 0.2965480089187622\n",
            "loss of 0 epoch, 900 index : 0.1675751805305481\n",
            "loss of 0 epoch, 1000 index : 0.03636894375085831\n",
            "loss of 0 epoch, 1100 index : 0.3767521381378174\n",
            "loss of 1 epoch, 0 index : 0.04903970658779144\n",
            "loss of 1 epoch, 100 index : 0.05601634085178375\n",
            "loss of 1 epoch, 200 index : 0.1321931928396225\n",
            "loss of 1 epoch, 300 index : 0.04778887704014778\n",
            "loss of 1 epoch, 400 index : 0.040063317865133286\n",
            "loss of 1 epoch, 500 index : 0.07746998965740204\n",
            "loss of 1 epoch, 600 index : 0.06591784209012985\n",
            "loss of 1 epoch, 700 index : 0.12469473481178284\n",
            "loss of 1 epoch, 800 index : 0.10680560022592545\n",
            "loss of 1 epoch, 900 index : 0.02655649743974209\n",
            "loss of 1 epoch, 1000 index : 0.033831629902124405\n",
            "loss of 1 epoch, 1100 index : 0.05520874634385109\n",
            "loss of 2 epoch, 0 index : 0.166842982172966\n",
            "loss of 2 epoch, 100 index : 0.05795656517148018\n",
            "loss of 2 epoch, 200 index : 0.020157504826784134\n",
            "loss of 2 epoch, 300 index : 0.038504187017679214\n",
            "loss of 2 epoch, 400 index : 0.13622403144836426\n",
            "loss of 2 epoch, 500 index : 0.010591426864266396\n",
            "loss of 2 epoch, 600 index : 0.05042828619480133\n",
            "loss of 2 epoch, 700 index : 0.10486861318349838\n",
            "loss of 2 epoch, 800 index : 0.014879005961120129\n",
            "loss of 2 epoch, 900 index : 0.02702704630792141\n",
            "loss of 2 epoch, 1000 index : 0.053504448384046555\n",
            "loss of 2 epoch, 1100 index : 0.03976188972592354\n",
            "loss of 3 epoch, 0 index : 0.020552879199385643\n",
            "loss of 3 epoch, 100 index : 0.041827213019132614\n",
            "loss of 3 epoch, 200 index : 0.04968833550810814\n",
            "loss of 3 epoch, 300 index : 0.03348531946539879\n",
            "loss of 3 epoch, 400 index : 0.06432805210351944\n",
            "loss of 3 epoch, 500 index : 0.018985336646437645\n",
            "loss of 3 epoch, 600 index : 0.03699086979031563\n",
            "loss of 3 epoch, 700 index : 0.015588201582431793\n",
            "loss of 3 epoch, 800 index : 0.02295546792447567\n",
            "loss of 3 epoch, 900 index : 0.10050705820322037\n",
            "loss of 3 epoch, 1000 index : 0.15456469357013702\n",
            "loss of 3 epoch, 1100 index : 0.020824337378144264\n",
            "loss of 4 epoch, 0 index : 0.11544210463762283\n",
            "loss of 4 epoch, 100 index : 0.13699214160442352\n",
            "loss of 4 epoch, 200 index : 0.10029616206884384\n",
            "loss of 4 epoch, 300 index : 0.05682593211531639\n",
            "loss of 4 epoch, 400 index : 0.021091237664222717\n",
            "loss of 4 epoch, 500 index : 0.06381866335868835\n",
            "loss of 4 epoch, 600 index : 0.04736084118485451\n",
            "loss of 4 epoch, 700 index : 0.14313583076000214\n",
            "loss of 4 epoch, 800 index : 0.027513310313224792\n",
            "loss of 4 epoch, 900 index : 0.23836421966552734\n",
            "loss of 4 epoch, 1000 index : 0.23062549531459808\n",
            "loss of 4 epoch, 1100 index : 0.013208050280809402\n",
            "loss of 5 epoch, 0 index : 0.01563132368028164\n",
            "loss of 5 epoch, 100 index : 0.08984062075614929\n",
            "loss of 5 epoch, 200 index : 0.012531556189060211\n",
            "loss of 5 epoch, 300 index : 0.05813014879822731\n",
            "loss of 5 epoch, 400 index : 0.017823154106736183\n",
            "loss of 5 epoch, 500 index : 0.06589246541261673\n",
            "loss of 5 epoch, 600 index : 0.09473900496959686\n",
            "loss of 5 epoch, 700 index : 0.05432286113500595\n",
            "loss of 5 epoch, 800 index : 0.10102809965610504\n",
            "loss of 5 epoch, 900 index : 0.015047009103000164\n",
            "loss of 5 epoch, 1000 index : 0.00788702629506588\n",
            "loss of 5 epoch, 1100 index : 0.02330930158495903\n",
            "loss of 6 epoch, 0 index : 0.03717038780450821\n",
            "loss of 6 epoch, 100 index : 0.010283341631293297\n",
            "loss of 6 epoch, 200 index : 0.04207850992679596\n",
            "loss of 6 epoch, 300 index : 0.008200984448194504\n",
            "loss of 6 epoch, 400 index : 0.026686232537031174\n",
            "loss of 6 epoch, 500 index : 0.09041408449411392\n",
            "loss of 6 epoch, 600 index : 0.1050162985920906\n",
            "loss of 6 epoch, 700 index : 0.026134278625249863\n",
            "loss of 6 epoch, 800 index : 0.04939021170139313\n",
            "loss of 6 epoch, 900 index : 0.008643809705972672\n",
            "loss of 6 epoch, 1000 index : 0.053982626646757126\n",
            "loss of 6 epoch, 1100 index : 0.10980933904647827\n",
            "loss of 7 epoch, 0 index : 0.03882979229092598\n",
            "loss of 7 epoch, 100 index : 0.02249513566493988\n",
            "loss of 7 epoch, 200 index : 0.04955480620265007\n",
            "loss of 7 epoch, 300 index : 0.012527549639344215\n",
            "loss of 7 epoch, 400 index : 0.0042745191603899\n",
            "loss of 7 epoch, 500 index : 0.027285218238830566\n",
            "loss of 7 epoch, 600 index : 0.018717210739850998\n",
            "loss of 7 epoch, 700 index : 0.001974413637071848\n",
            "loss of 7 epoch, 800 index : 0.07178512215614319\n",
            "loss of 7 epoch, 900 index : 0.06038110703229904\n",
            "loss of 7 epoch, 1000 index : 0.022352680563926697\n",
            "loss of 7 epoch, 1100 index : 0.012471061199903488\n",
            "loss of 8 epoch, 0 index : 0.011981809511780739\n",
            "loss of 8 epoch, 100 index : 0.025067957118153572\n",
            "loss of 8 epoch, 200 index : 0.01701880246400833\n",
            "loss of 8 epoch, 300 index : 0.026314757764339447\n",
            "loss of 8 epoch, 400 index : 0.010455728508532047\n",
            "loss of 8 epoch, 500 index : 0.002226546872407198\n",
            "loss of 8 epoch, 600 index : 0.005811144132167101\n",
            "loss of 8 epoch, 700 index : 0.0031543844379484653\n",
            "loss of 8 epoch, 800 index : 0.014793014153838158\n",
            "loss of 8 epoch, 900 index : 0.011716545559465885\n",
            "loss of 8 epoch, 1000 index : 0.017887527123093605\n",
            "loss of 8 epoch, 1100 index : 0.006911634933203459\n",
            "loss of 9 epoch, 0 index : 0.002822051988914609\n",
            "loss of 9 epoch, 100 index : 0.008831069804728031\n",
            "loss of 9 epoch, 200 index : 0.003451844211667776\n",
            "loss of 9 epoch, 300 index : 0.0037941227201372385\n",
            "loss of 9 epoch, 400 index : 0.009459617547690868\n",
            "loss of 9 epoch, 500 index : 0.05178091675043106\n",
            "loss of 9 epoch, 600 index : 0.04231005534529686\n",
            "loss of 9 epoch, 700 index : 0.004177384078502655\n",
            "loss of 9 epoch, 800 index : 0.011089432053267956\n",
            "loss of 9 epoch, 900 index : 0.05700475722551346\n",
            "loss of 9 epoch, 1000 index : 0.0025196841452270746\n",
            "loss of 9 epoch, 1100 index : 0.05226738005876541\n"
          ]
        }
      ]
    },
    {
      "cell_type": "code",
      "source": [
        "# Quick Question\n",
        "# Write an explanation of the code below (evaluation cell only!)"
      ],
      "metadata": {
        "id": "lVuY2ZregO9h"
      },
      "execution_count": 22,
      "outputs": []
    },
    {
      "cell_type": "code",
      "source": [
        "cnn.eval() # evaluation 모드로 바꿈\n",
        "test_loss = 0\n",
        "correct = 0\n",
        "with torch.no_grad(): # 기울기 계산을 하지 않음\n",
        "  for data, target in test_loader: # test_loader에서 입력 데이터와 정답 데이터를 가져옴\n",
        "    output = cnn(data) # 만든 모델에 입력 데이터를 넣어 예측값을 얻음\n",
        "    test_loss += criterion(output, target).item() # 예측값과 정답 데이터를 위에서 설정한 손실함수를 이용하여 손실값을 계산함\n",
        "    pred = output.argmax(dim=1, keepdim=True) # 예측값의 인덱스를 저장\n",
        "    correct += pred.eq(target.view_as(pred)).sum().item() # 예측해서 맞은 값의 개수를 카운트해줌\n",
        "print('\\nTest set: Average loss: {:.4f}, Accuracy: {}/{} ({:.0f}%)\\n'.format(\n",
        "        test_loss, correct, len(test_loader.dataset),\n",
        "        100. * correct / len(test_loader.dataset)))"
      ],
      "metadata": {
        "id": "HzNEM_SzVecD",
        "colab": {
          "base_uri": "https://localhost:8080/"
        },
        "outputId": "c8093da8-0c28-4436-a1d7-426f36b14d3b"
      },
      "execution_count": 23,
      "outputs": [
        {
          "output_type": "stream",
          "name": "stdout",
          "text": [
            "\n",
            "Test set: Average loss: 6.4082, Accuracy: 9894/10000 (99%)\n",
            "\n"
          ]
        }
      ]
    },
    {
      "cell_type": "code",
      "source": [
        "# Question (optional)\n",
        "# Try to adjust the hyperparameters (kernel size, # of conv layers, ...)\n",
        "# and get better results than the baseline (default) model!!"
      ],
      "metadata": {
        "id": "BsiXvSCx21ur"
      },
      "execution_count": null,
      "outputs": []
    },
    {
      "cell_type": "code",
      "source": [
        "class CNN(nn.Module):\n",
        "    def __init__(self):\n",
        "        super(CNN, self).__init__()\n",
        "        self.conv1 = nn.Conv2d(in_channels=1, out_channels=20, kernel_size=5, stride=1)\n",
        "        self.conv2 = nn.Conv2d(in_channels=20, out_channels=50, kernel_size=5, stride=1)\n",
        "        self.conv3 = nn.Conv2d(in_channels=50, out_channels=100, kernel_size=3, padding=1, stride=1)\n",
        "        self.fc1 = nn.Linear(4 * 4 * 100, 500)\n",
        "        self.fc2 = nn.Linear(500, 10)\n",
        "\n",
        "    def forward(self, x):\n",
        "        x = F.relu(self.conv1(x))\n",
        "        x = F.max_pool2d(x, kernel_size=2, stride=2)\n",
        "        x = F.relu(self.conv2(x))\n",
        "        x = F.max_pool2d(x, kernel_size=2, stride=2)\n",
        "        x = F.relu(self.conv3(x))\n",
        "\n",
        "        x = x.view(-1, 4 * 4 * 100) # [batch_size, 50, 4, 4]\n",
        "        x = F.relu(self.fc1(x))\n",
        "        x = self.fc2(x)\n",
        "        return x"
      ],
      "metadata": {
        "id": "cdgRcMuWqsJa"
      },
      "execution_count": 30,
      "outputs": []
    },
    {
      "cell_type": "code",
      "source": [
        "cnn = CNN()\n",
        "criterion = torch.nn.CrossEntropyLoss()\n",
        "optimizer = optim.SGD(cnn.parameters(), lr=0.01)"
      ],
      "metadata": {
        "id": "hLi1Oc-4quhr"
      },
      "execution_count": 31,
      "outputs": []
    },
    {
      "cell_type": "code",
      "source": [
        "cnn.train()\n",
        "for epoch in range(10):\n",
        "  for index, (data, target) in enumerate(train_loader):\n",
        "    optimizer.zero_grad()\n",
        "    output = cnn(data)\n",
        "    loss = criterion(output, target)\n",
        "    loss.backward()\n",
        "    optimizer.step()\n",
        "\n",
        "    if index % 100 == 0:\n",
        "      print(\"loss of {} epoch, {} index : {}\".format(epoch, index, loss.item()))"
      ],
      "metadata": {
        "colab": {
          "base_uri": "https://localhost:8080/"
        },
        "id": "qfR6hc4tqwcm",
        "outputId": "3daae13c-5298-4534-9e90-93969a7d8cda"
      },
      "execution_count": 32,
      "outputs": [
        {
          "output_type": "stream",
          "name": "stdout",
          "text": [
            "loss of 0 epoch, 0 index : 2.3056020736694336\n",
            "loss of 0 epoch, 100 index : 2.1833832263946533\n",
            "loss of 0 epoch, 200 index : 1.010292887687683\n",
            "loss of 0 epoch, 300 index : 0.3225623071193695\n",
            "loss of 0 epoch, 400 index : 0.380145788192749\n",
            "loss of 0 epoch, 500 index : 0.36635932326316833\n",
            "loss of 0 epoch, 600 index : 0.3937312662601471\n",
            "loss of 0 epoch, 700 index : 0.29295462369918823\n",
            "loss of 0 epoch, 800 index : 0.28378474712371826\n",
            "loss of 0 epoch, 900 index : 0.24946081638336182\n",
            "loss of 0 epoch, 1000 index : 0.24653512239456177\n",
            "loss of 0 epoch, 1100 index : 0.11861347407102585\n",
            "loss of 1 epoch, 0 index : 0.16095414757728577\n",
            "loss of 1 epoch, 100 index : 0.29948705434799194\n",
            "loss of 1 epoch, 200 index : 0.04853566735982895\n",
            "loss of 1 epoch, 300 index : 0.20510444045066833\n",
            "loss of 1 epoch, 400 index : 0.2625892758369446\n",
            "loss of 1 epoch, 500 index : 0.16424378752708435\n",
            "loss of 1 epoch, 600 index : 0.10310384631156921\n",
            "loss of 1 epoch, 700 index : 0.11062368750572205\n",
            "loss of 1 epoch, 800 index : 0.021699056029319763\n",
            "loss of 1 epoch, 900 index : 0.021931037306785583\n",
            "loss of 1 epoch, 1000 index : 0.10917656868696213\n",
            "loss of 1 epoch, 1100 index : 0.0728096142411232\n",
            "loss of 2 epoch, 0 index : 0.07253364473581314\n",
            "loss of 2 epoch, 100 index : 0.057941097766160965\n",
            "loss of 2 epoch, 200 index : 0.07232426851987839\n",
            "loss of 2 epoch, 300 index : 0.04954027011990547\n",
            "loss of 2 epoch, 400 index : 0.12254931777715683\n",
            "loss of 2 epoch, 500 index : 0.1159030944108963\n",
            "loss of 2 epoch, 600 index : 0.10259706526994705\n",
            "loss of 2 epoch, 700 index : 0.08446462452411652\n",
            "loss of 2 epoch, 800 index : 0.008983476087450981\n",
            "loss of 2 epoch, 900 index : 0.0380999781191349\n",
            "loss of 2 epoch, 1000 index : 0.04176568612456322\n",
            "loss of 2 epoch, 1100 index : 0.12013575434684753\n",
            "loss of 3 epoch, 0 index : 0.061043307185173035\n",
            "loss of 3 epoch, 100 index : 0.1992417573928833\n",
            "loss of 3 epoch, 200 index : 0.08242583274841309\n",
            "loss of 3 epoch, 300 index : 0.09754614531993866\n",
            "loss of 3 epoch, 400 index : 0.14054737985134125\n",
            "loss of 3 epoch, 500 index : 0.022388707846403122\n",
            "loss of 3 epoch, 600 index : 0.054166775196790695\n",
            "loss of 3 epoch, 700 index : 0.1419566422700882\n",
            "loss of 3 epoch, 800 index : 0.023902058601379395\n",
            "loss of 3 epoch, 900 index : 0.03588362783193588\n",
            "loss of 3 epoch, 1000 index : 0.026032617315649986\n",
            "loss of 3 epoch, 1100 index : 0.06165178865194321\n",
            "loss of 4 epoch, 0 index : 0.15453216433525085\n",
            "loss of 4 epoch, 100 index : 0.08997607231140137\n",
            "loss of 4 epoch, 200 index : 0.15017138421535492\n",
            "loss of 4 epoch, 300 index : 0.028562655672430992\n",
            "loss of 4 epoch, 400 index : 0.04970189929008484\n",
            "loss of 4 epoch, 500 index : 0.04246962070465088\n",
            "loss of 4 epoch, 600 index : 0.01745842583477497\n",
            "loss of 4 epoch, 700 index : 0.18587850034236908\n",
            "loss of 4 epoch, 800 index : 0.02519001066684723\n",
            "loss of 4 epoch, 900 index : 0.03716040030121803\n",
            "loss of 4 epoch, 1000 index : 0.01068271417170763\n",
            "loss of 4 epoch, 1100 index : 0.11663777381181717\n",
            "loss of 5 epoch, 0 index : 0.019871823489665985\n",
            "loss of 5 epoch, 100 index : 0.05858169496059418\n",
            "loss of 5 epoch, 200 index : 0.006130495108664036\n",
            "loss of 5 epoch, 300 index : 0.00970789510756731\n",
            "loss of 5 epoch, 400 index : 0.09407772868871689\n",
            "loss of 5 epoch, 500 index : 0.07491464167833328\n",
            "loss of 5 epoch, 600 index : 0.009132728911936283\n",
            "loss of 5 epoch, 700 index : 0.0042768241837620735\n",
            "loss of 5 epoch, 800 index : 0.020739348605275154\n",
            "loss of 5 epoch, 900 index : 0.06436599045991898\n",
            "loss of 5 epoch, 1000 index : 0.013885370455682278\n",
            "loss of 5 epoch, 1100 index : 0.15257346630096436\n",
            "loss of 6 epoch, 0 index : 0.015553107485175133\n",
            "loss of 6 epoch, 100 index : 0.053777337074279785\n",
            "loss of 6 epoch, 200 index : 0.017289627343416214\n",
            "loss of 6 epoch, 300 index : 0.023254703730344772\n",
            "loss of 6 epoch, 400 index : 0.07639715820550919\n",
            "loss of 6 epoch, 500 index : 0.023987174034118652\n",
            "loss of 6 epoch, 600 index : 0.11298264563083649\n",
            "loss of 6 epoch, 700 index : 0.06410641968250275\n",
            "loss of 6 epoch, 800 index : 0.07532870769500732\n",
            "loss of 6 epoch, 900 index : 0.001334220520220697\n",
            "loss of 6 epoch, 1000 index : 0.031819507479667664\n",
            "loss of 6 epoch, 1100 index : 0.08780928701162338\n",
            "loss of 7 epoch, 0 index : 0.12130474299192429\n",
            "loss of 7 epoch, 100 index : 0.0454707108438015\n",
            "loss of 7 epoch, 200 index : 0.05495886877179146\n",
            "loss of 7 epoch, 300 index : 0.018414832651615143\n",
            "loss of 7 epoch, 400 index : 0.093161441385746\n",
            "loss of 7 epoch, 500 index : 0.003278415184468031\n",
            "loss of 7 epoch, 600 index : 0.01230771653354168\n",
            "loss of 7 epoch, 700 index : 0.031195921823382378\n",
            "loss of 7 epoch, 800 index : 0.015354016795754433\n",
            "loss of 7 epoch, 900 index : 0.004529581870883703\n",
            "loss of 7 epoch, 1000 index : 0.00741230882704258\n",
            "loss of 7 epoch, 1100 index : 0.015192839317023754\n",
            "loss of 8 epoch, 0 index : 0.13861215114593506\n",
            "loss of 8 epoch, 100 index : 0.007994293235242367\n",
            "loss of 8 epoch, 200 index : 0.017678719013929367\n",
            "loss of 8 epoch, 300 index : 0.01545377355068922\n",
            "loss of 8 epoch, 400 index : 0.06939152628183365\n",
            "loss of 8 epoch, 500 index : 0.014472262933850288\n",
            "loss of 8 epoch, 600 index : 0.11133180558681488\n",
            "loss of 8 epoch, 700 index : 0.013805605471134186\n",
            "loss of 8 epoch, 800 index : 0.02516225352883339\n",
            "loss of 8 epoch, 900 index : 0.011121753603219986\n",
            "loss of 8 epoch, 1000 index : 0.03533704951405525\n",
            "loss of 8 epoch, 1100 index : 0.025082126259803772\n",
            "loss of 9 epoch, 0 index : 0.016520461067557335\n",
            "loss of 9 epoch, 100 index : 0.00433847913518548\n",
            "loss of 9 epoch, 200 index : 0.21774786710739136\n",
            "loss of 9 epoch, 300 index : 0.010038230568170547\n",
            "loss of 9 epoch, 400 index : 0.01760738343000412\n",
            "loss of 9 epoch, 500 index : 0.023775698617100716\n",
            "loss of 9 epoch, 600 index : 0.011596117168664932\n",
            "loss of 9 epoch, 700 index : 0.04770318418741226\n",
            "loss of 9 epoch, 800 index : 0.043113306164741516\n",
            "loss of 9 epoch, 900 index : 0.03304370120167732\n",
            "loss of 9 epoch, 1000 index : 0.0030561471357941628\n",
            "loss of 9 epoch, 1100 index : 0.04016842320561409\n"
          ]
        }
      ]
    },
    {
      "cell_type": "code",
      "source": [
        "cnn.eval()\n",
        "test_loss = 0\n",
        "correct = 0\n",
        "with torch.no_grad():\n",
        "  for data, target in test_loader:\n",
        "    output = cnn(data)\n",
        "    test_loss += criterion(output, target).item()\n",
        "    pred = output.argmax(dim=1, keepdim=True)\n",
        "    correct += pred.eq(target.view_as(pred)).sum().item()\n",
        "print('\\nTest set: Average loss: {:.4f}, Accuracy: {}/{} ({:.0f}%)\\n'.format(\n",
        "        test_loss, correct, len(test_loader.dataset),\n",
        "        100. * correct / len(test_loader.dataset)))"
      ],
      "metadata": {
        "colab": {
          "base_uri": "https://localhost:8080/"
        },
        "id": "o8FI8qUAq2SC",
        "outputId": "5581d371-4707-4084-fcae-9e708a91bc65"
      },
      "execution_count": 33,
      "outputs": [
        {
          "output_type": "stream",
          "name": "stdout",
          "text": [
            "\n",
            "Test set: Average loss: 5.7456, Accuracy: 9913/10000 (99%)\n",
            "\n"
          ]
        }
      ]
    },
    {
      "cell_type": "markdown",
      "source": [
        "### The End."
      ],
      "metadata": {
        "id": "spc48rNHQnYL"
      }
    },
    {
      "cell_type": "markdown",
      "source": [
        "##### Please upload your Colab file @Github https://github.com/duneag2/intro-dl/tree/main/Assignment5\n",
        "\n",
        "*   First, make your folder by your name (e.g. seungeun)\n",
        "*   Then upload your \"Jupyter Notebook\" file under that directory\n",
        "\n",
        "###### Need Help?\n",
        "\n",
        "\n",
        "\n",
        "*   Please refer to this link https://yeko90.tistory.com/entry/%ED%8C%8C%EC%9D%B4%EC%8D%AC-colab%EC%BD%94%EB%9E%A9%EC%97%90%EC%84%9C-%EC%95%95%EC%B6%95%ED%8C%8C%EC%9D%BC-%ED%92%80%EA%B8%B0 OR\n",
        "*   Just save your Jupyter Notebook (.ipynb) file in here (colab) and upload via 'Add file' - 'Upload files' https://nthree.tistory.com/60"
      ],
      "metadata": {
        "id": "iMNBVkjiS7D9"
      }
    },
    {
      "cell_type": "code",
      "source": [],
      "metadata": {
        "id": "XzVGuer0S9Oh"
      },
      "execution_count": null,
      "outputs": []
    }
  ]
}