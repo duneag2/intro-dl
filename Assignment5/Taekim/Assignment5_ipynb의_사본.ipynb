{
  "nbformat": 4,
  "nbformat_minor": 0,
  "metadata": {
    "colab": {
      "provenance": []
    },
    "kernelspec": {
      "name": "python3",
      "display_name": "Python 3"
    },
    "language_info": {
      "name": "python"
    }
  },
  "cells": [
    {
      "cell_type": "markdown",
      "source": [
        "# 2024 Winter Introduction to Deep Learning\n",
        "### Based on Prof. Oh's Youtube Lecture\n",
        "https://youtube.com/playlist?list=PLvbUC2Zh5oJvByu9KL82bswYT2IKf0K1M\n",
        "\n",
        "> Assignment #5\n",
        "\n",
        "\n",
        "*   Youtube Lecture #17-22\n",
        "*   Written by Seungeun Lee"
      ],
      "metadata": {
        "id": "YcXb0XLEvHns"
      }
    },
    {
      "cell_type": "markdown",
      "source": [
        "## 1. Batch Normalization\n",
        "\n",
        "\n"
      ],
      "metadata": {
        "id": "qM2kM5G7BYZr"
      }
    },
    {
      "cell_type": "markdown",
      "source": [
        "*    Reference. https://huangdi.tistory.com/m/9, https://wegonnamakeit.tistory.com/m/47, https://wikidocs.net/195419\n",
        "*    For https://huangdi.tistory.com/m/9, try to understand the need for Batch Normalization. (The code is not running properly due to the github issues)"
      ],
      "metadata": {
        "id": "l-eq03krP21I"
      }
    },
    {
      "cell_type": "code",
      "source": [
        " # DO NOT run this code!!\n",
        "# nn layers\n",
        "linear1 = torch.nn.Linear(784, 32, bias=True)\n",
        "linear2 = torch.nn.Linear(32, 32, bias=True)\n",
        "linear3 = torch.nn.Linear(32, 10, bias=True)\n",
        "\n",
        "relu = torch.nn.ReLU()\n",
        "bn1 = torch.nn.BatchNorm1d(32) # Batch Normalization for 1D data\n",
        "bn2 = torch.nn.BatchNorm1d(32)\n",
        "\n",
        "nn_linear1 = torch.nn.Linear(784, 32, bias=True)\n",
        "nn_linear2 = torch.nn.Linear(32, 32, bias=True) nn_linear3 = torch.nn.Linear(32, 10, bias=True)\n",
        "\n",
        "\n",
        "# model\n",
        "# torch.nn.Seqeuntial is kind of a \"stack\" operation of layers\n",
        "# We usually apply ReLU after the BN, but it's not a must!\n",
        "bn_model = torch.nn.Sequential(linear1, bn1, relu,\n",
        "                              linear2, bn2, relu,\n",
        "                              linear3).to(device)\n",
        "# Model w.o. BN\n",
        "# Linear + ReLU is a convention\n",
        "nn_model = torch.nn.Sequential(nn_linear1, relu,\n",
        "                               nn_linear2, relu,\n",
        "                               nn_linear3).to(device)"
      ],
      "metadata": {
        "id": "Q7_JWyTWKoyT"
      },
      "execution_count": null,
      "outputs": []
    },
    {
      "cell_type": "code",
      "source": [
        "# If not using torch.nn.Sequential, you can use class module!\n",
        "\n",
        "import torch.nn as nn\n",
        "\n",
        "class Model(nn.Module):\n",
        "    def __init__(self):\n",
        "        super(Model, self).__init__()\n",
        "        # in __init__, initialize the layers you'd like to use\n",
        "        self.fc1 = nn.Linear(100, 50)\n",
        "        self.bn = nn.BatchNorm1d(num_features=50)\n",
        "        self.relu = nn.ReLU()\n",
        "        self.fc2 = nn.Linear(50, 10)\n",
        "\n",
        "    def forward(self, x):\n",
        "        # in forward, place the layers sequentially\n",
        "        x = self.fc1(x)\n",
        "        x = self.bn(x)\n",
        "        x = self.relu(x)\n",
        "        x = self.fc2(x)\n",
        "        return x"
      ],
      "metadata": {
        "id": "k6bdnbKmK-ZC"
      },
      "execution_count": 1,
      "outputs": []
    },
    {
      "cell_type": "code",
      "source": [
        "import torch\n",
        "import torch.nn as nn\n",
        "\n",
        "# BN 1D\n",
        "m = nn.BatchNorm1d(100)\n",
        "input = torch.randn(20, 100)\n",
        "output = m(input)\n",
        "\n",
        "# BN 2D\n",
        "# So far, we've only used BN 1D\n",
        "# But what's BN 2D??\n",
        "m = nn.BatchNorm2d(100)\n",
        "input = torch.randn(20, 100, 35, 45)\n",
        "output = m(input)"
      ],
      "metadata": {
        "id": "mh9UvwnlK-3G"
      },
      "execution_count": 3,
      "outputs": []
    },
    {
      "cell_type": "markdown",
      "source": [
        "### Question 1. Compare & Contrast BatchNorm1d and Batchnorm2d\n",
        "*     Hint: https://gaussian37.github.io/dl-concept-batchnorm/, https://pytorch.org/docs/stable/generated/torch.nn.BatchNorm1d.html, and https://pytorch.org/docs/stable/generated/torch.nn.BatchNorm2d.html"
      ],
      "metadata": {
        "id": "JtrlgMOov47e"
      }
    },
    {
      "cell_type": "markdown",
      "source": [
        "BatchNorm1d: 1-dimensional inputs\n",
        "* fully connected layers\n",
        "* shapes (N, C) or (N, C, L)\n",
        "* suitable for temporal data and sequence models\n",
        "\n",
        "BatchNorm2d: 2-dimensional inputs\n",
        "* convolutional layers\n",
        "* shapes (N, C, H, W)\n",
        "* for image data and CNNs"
      ],
      "metadata": {
        "id": "f9MZBHnICVLm"
      }
    },
    {
      "cell_type": "markdown",
      "source": [
        "## 2. Weight Initialization\n",
        "\n",
        "*   Reference. https://ysg2997.tistory.com/14, https://m.blog.naver.com/PostView.naver?blogId=tinz6461&logNo=221599717016&proxyReferer="
      ],
      "metadata": {
        "id": "1BgQvGP205Tf"
      }
    },
    {
      "cell_type": "code",
      "source": [
        "import torch\n",
        "import torch.nn as nn\n",
        "import torch.nn.init as init"
      ],
      "metadata": {
        "id": "dgxRjABUI1sv"
      },
      "execution_count": 4,
      "outputs": []
    },
    {
      "cell_type": "code",
      "source": [
        "# Quick Question\n",
        "# Read the document above and write a line-by-line\n",
        "# explanation of the code below."
      ],
      "metadata": {
        "id": "0gyoVqzlceii"
      },
      "execution_count": null,
      "outputs": []
    },
    {
      "cell_type": "code",
      "source": [
        "import torch\n",
        "import torch.nn as nn\n",
        "import torch.nn.init as init\n",
        "\n",
        "class cnn(nn.Module):\n",
        "    def __init__(self):\n",
        "        super(cnn, self).__init__()\n",
        "        self.layer = nn.sequential(\n",
        "            nn.conv2d(1, 16, 3, padding=1),  # conv layer: 1 input, 16 output channels, kernel size 3, padding 1\n",
        "            nn.relu(),  # activation\n",
        "            nn.conv2d(16, 32, 3, padding=1),  # conv layer: 16 input, 32 output channels, kernel size 3, padding 1\n",
        "            nn.relu(),  # activation\n",
        "            nn.maxpool2d(2, 2),  # max pooling: kernel size 2, stride 2\n",
        "            nn.conv2d(32, 64, 3, padding=1),  # conv layer: 32 input, 64 output channels, kernel size 3, padding 1\n",
        "            nn.relu(),  # activation\n",
        "            nn.maxpool2d(2, 2)  # max pooling: kernel size 2, stride 2\n",
        "        )\n",
        "        self.fc_layer = nn.sequential(\n",
        "            nn.linear(64*7*7, 100),  # fully connected: input size 64*7*7, output size 100\n",
        "            nn.relu(),  # activation\n",
        "            nn.linear(100, 10)  # fully connected: input size 100, output size 10\n",
        "        )\n",
        "        if isinstance(m, nn.conv2d):\n",
        "            init.kaiming_normal_(m.weight.data)  # init weights with kaiming normal\n",
        "            m.bias.data.fill_(0)  # set bias to zero\n",
        "        elif isinstance(m, nn.linear):\n",
        "            init.kaiming_normal_(m.weight.data)  # init weights with kaiming normal\n",
        "            m.bias.data.fill_(0)  # set bias to zero\n",
        "\n",
        "    def forward(self, x):\n",
        "        out = self.layer(x)  # apply conv layers\n",
        "        out = out.view(batch_size, -1)  # flatten output\n",
        "        out = self.fc_layer(out)  # apply fully connected layers\n",
        "        return out  # return final output"
      ],
      "metadata": {
        "id": "P8ULcApY1FIY"
      },
      "execution_count": 7,
      "outputs": []
    },
    {
      "cell_type": "code",
      "source": [
        "# Then let's look at the efficiency of such Weight Init. techniques\n",
        "# with visualization"
      ],
      "metadata": {
        "id": "ZaezvQcYc7TY"
      },
      "execution_count": null,
      "outputs": []
    },
    {
      "cell_type": "code",
      "source": [
        "# Quick Question\n",
        "# Read the document above and briefly explain the code below."
      ],
      "metadata": {
        "id": "8ajqLBL6dnAj"
      },
      "execution_count": null,
      "outputs": []
    },
    {
      "cell_type": "markdown",
      "source": [
        "- Imports TensorFlow, random, numpy, and matplotlib (though not all are used)\n",
        "- Defines sigmoid, ReLU, and tanh activation functions: sigmoid, tanh, relu\n",
        "- Defines `weight_init` function for weight initialization\n",
        "  - `method='large'`: weights initialized with standard normal distribution scaled by 1\n",
        "  - `method='small'`: weights initialized with standard normal distribution scaled by 0.01\n",
        "  - `method='xavier'`: weights initialized using Xavier initialization \\( \\frac{1}{\\sqrt{\\text{node\\_num}}} \\)\n",
        "  - `method='he'`: weights initialized using He initialization \\( \\frac{2}{\\sqrt{\\text{node\\_num}}} \\)\n",
        "- Returns the initialized weight matrix `w`"
      ],
      "metadata": {
        "id": "_OnCX-EhDkfs"
      }
    },
    {
      "cell_type": "code",
      "source": [
        "import tensorflow as tf\n",
        "import random\n",
        "import numpy as np\n",
        "import matplotlib.pyplot as plt\n",
        "\n",
        "# sigmoid\n",
        "def sigmoid(x):\n",
        "    return 1 / (1 + np.exp(-x))\n",
        "\n",
        "# ReLU\n",
        "def ReLU(x):\n",
        "    return np.maximum(0, x)\n",
        "\n",
        "# tanh\n",
        "def tanh(x):\n",
        "    return np.tanh(x)\n",
        "\n",
        "def weight_init(method=None):\n",
        "    w = 0\n",
        "    if method == 'large':\n",
        "        w = np.random.randn(node_num, node_num) * 1\n",
        "    elif method == 'small':\n",
        "        w = np.random.randn(node_num, node_num) * 0.01\n",
        "    elif method == 'xavier':\n",
        "        w = np.random.randn(node_num, node_num) * np.sqrt(1.0 / node_num)  # Xavier init\n",
        "    elif method == 'he':\n",
        "        w = np.random.randn(node_num, node_num) * np.sqrt(2.0 / node_num)  # He init\n",
        "\n",
        "    return w"
      ],
      "metadata": {
        "id": "6J-FjScBKF7y"
      },
      "execution_count": 8,
      "outputs": []
    },
    {
      "cell_type": "code",
      "source": [
        "input_data = np.random.randn(1000, 100)\n",
        "node_num = 100\n",
        "hidden_layer_size = 5\n",
        "activations = {}\n",
        "\n",
        "x = input_data\n",
        "\n",
        "for i in range(hidden_layer_size):\n",
        "    if i != 0:\n",
        "        x = activations[i-1]\n",
        "\n",
        "    w = weight_init('small')\n",
        "    a = np.dot(x, w)\n",
        "\n",
        "    # z = sigmoid(a)\n",
        "    # z = ReLU(a)\n",
        "    z = tanh(a)\n",
        "\n",
        "    activations[i] = z\n",
        "\n",
        "for i, a in activations.items():\n",
        "    plt.subplot(1, len(activations), i+1)\n",
        "    plt.title(str(i+1) + \"-layer\")\n",
        "    if i != 0: plt.yticks([], [])\n",
        "#     plt.xlim(0.1, 1)\n",
        "    plt.ylim(0, 8000)\n",
        "    plt.hist(a.flatten(), 30, range=(-1,1))\n",
        "plt.show()"
      ],
      "metadata": {
        "id": "elzVHh2FKHa2",
        "colab": {
          "base_uri": "https://localhost:8080/",
          "height": 452
        },
        "outputId": "1c362bf8-37f0-42f8-ecf6-533586a2e895"
      },
      "execution_count": 9,
      "outputs": [
        {
          "output_type": "display_data",
          "data": {
            "text/plain": [
              "<Figure size 640x480 with 5 Axes>"
            ],
            "image/png": "[encoded data removed]"
          },
          "metadata": {}
        }
      ]
    },
    {
      "cell_type": "code",
      "source": [
        "for i in range(hidden_layer_size):\n",
        "    if i != 0:\n",
        "        x = activations[i-1]\n",
        "\n",
        "    w = weight_init('large')\n",
        "    a = np.dot(x, w)\n",
        "\n",
        "    # z = sigmoid(a)\n",
        "    # z = ReLU(a)\n",
        "    z = tanh(a)\n",
        "\n",
        "    activations[i] = z\n",
        "\n",
        "for i, a in activations.items():\n",
        "    plt.subplot(1, len(activations), i+1)\n",
        "    plt.title(str(i+1) + \"-layer\")\n",
        "    if i != 0: plt.yticks([], [])\n",
        "#     plt.xlim(0.1, 1)\n",
        "    plt.ylim(0, 7000)\n",
        "    plt.hist(a.flatten(), 30, range=(-1,1))\n",
        "plt.show()"
      ],
      "metadata": {
        "id": "a91BiqWZKHCJ",
        "colab": {
          "base_uri": "https://localhost:8080/",
          "height": 452
        },
        "outputId": "7dbd6529-e80e-46c2-f9fb-d56d6b54161b"
      },
      "execution_count": 10,
      "outputs": [
        {
          "output_type": "display_data",
          "data": {
            "text/plain": [
              "<Figure size 640x480 with 5 Axes>"
            ],
            "image/png": "[encoded data removed]"
          },
          "metadata": {}
        }
      ]
    },
    {
      "cell_type": "code",
      "source": [
        "# Xavier Initialization\n",
        "input_data = np.random.randn(1000, 100)\n",
        "node_num = 100\n",
        "hidden_layer_size = 5\n",
        "activations = {}\n",
        "\n",
        "x = input_data\n",
        "\n",
        "for i in range(hidden_layer_size):\n",
        "    if i != 0:\n",
        "        x = activations[i-1]\n",
        "\n",
        "    w = weight_init('xavier')\n",
        "    a = np.dot(x, w)\n",
        "\n",
        "    # z = sigmoid(a)\n",
        "    # z = ReLU(a)\n",
        "    z = tanh(a)\n",
        "\n",
        "    activations[i] = z\n",
        "\n",
        "for i, a in activations.items():\n",
        "    plt.subplot(1, len(activations), i+1)\n",
        "    plt.title(str(i+1) + \"-layer\")\n",
        "    if i != 0: plt.yticks([], [])\n",
        "#     plt.xlim(0.1, 1)\n",
        "    plt.ylim(0, 7000)\n",
        "    plt.hist(a.flatten(), 30, range=(-1,1))\n",
        "plt.show()"
      ],
      "metadata": {
        "id": "mXBo8IINKUjp",
        "colab": {
          "base_uri": "https://localhost:8080/",
          "height": 452
        },
        "outputId": "30484f66-21f7-4c20-fcb6-57eb95a06174"
      },
      "execution_count": 11,
      "outputs": [
        {
          "output_type": "display_data",
          "data": {
            "text/plain": [
              "<Figure size 640x480 with 5 Axes>"
            ],
            "image/png": "[encoded data removed]"
          },
          "metadata": {}
        }
      ]
    },
    {
      "cell_type": "code",
      "source": [
        "# He Initialization\n",
        "input_data = np.random.randn(1000, 100)\n",
        "node_num = 100\n",
        "hidden_layer_size = 5\n",
        "activations = {}\n",
        "\n",
        "x = input_data\n",
        "\n",
        "for i in range(hidden_layer_size):\n",
        "    if i != 0:\n",
        "        x = activations[i-1]\n",
        "\n",
        "    w = weight_init('xavier')\n",
        "    a = np.dot(x, w)\n",
        "\n",
        "    # z = sigmoid(a)\n",
        "    z = ReLU(a)\n",
        "    # z = tanh(a)\n",
        "\n",
        "    activations[i] = z\n",
        "\n",
        "for i, a in activations.items():\n",
        "    plt.subplot(1, len(activations), i+1)\n",
        "    plt.title(str(i+1) + \"-layer\")\n",
        "    if i != 0: plt.yticks([], [])\n",
        "#     plt.xlim(0.1, 1)\n",
        "    plt.ylim(0, 7000)\n",
        "    plt.hist(a.flatten(), 30, range=(0,1))\n",
        "plt.show()"
      ],
      "metadata": {
        "id": "O-eTjk0mKYJN",
        "colab": {
          "base_uri": "https://localhost:8080/",
          "height": 452
        },
        "outputId": "fffe015a-9b6e-4b19-d8fc-c6e1f937c4a7"
      },
      "execution_count": 12,
      "outputs": [
        {
          "output_type": "display_data",
          "data": {
            "text/plain": [
              "<Figure size 640x480 with 5 Axes>"
            ],
            "image/png": "[encoded data removed]"
          },
          "metadata": {}
        }
      ]
    },
    {
      "cell_type": "markdown",
      "source": [
        "## 3. CNN\n",
        "*     Reference. https://justkode.kr/deep-learning/pytorch-cnn/"
      ],
      "metadata": {
        "id": "RHoAQdMP1L4b"
      }
    },
    {
      "cell_type": "code",
      "source": [
        "## GPU (Optional)\n",
        "# 런타임 - 런타임 유형 변경 - T4 GPU\n",
        "# !nvidia-smi"
      ],
      "metadata": {
        "id": "PSqnwiKKH_-x"
      },
      "execution_count": null,
      "outputs": []
    },
    {
      "cell_type": "code",
      "source": [
        "# Question\n",
        "# Run two cells below and try to explain the\n",
        "# change of tensor size after passing through the layers\n",
        "# e.g.) Conv1: [10, 1, 20, 20] -> [10, 3, 16, 16], because --\n",
        "# because: tensor size changes due to convolution and pooling layers, spatial dimensions reduced"
      ],
      "metadata": {
        "id": "rBRJM0HOfOVM"
      },
      "execution_count": null,
      "outputs": []
    },
    {
      "cell_type": "code",
      "source": [
        "import torch\n",
        "import torch.nn as nn\n",
        "import torch.nn.functional as F\n",
        "\n",
        "class CNN(nn.Module):\n",
        "  def __init__(self):\n",
        "    super(CNN, self).__init__()\n",
        "    self.conv1 = nn.Conv2d(in_channels=1, out_channels=3, kernel_size=5, stride=1)\n",
        "    self.conv2 = nn.Conv2d(in_channels=3, out_channels=10, kernel_size=5, stride=1)\n",
        "    self.fc1 = nn.Linear(10 * 12 * 12, 50)\n",
        "    self.fc2 = nn.Linear(50, 10)\n",
        "\n",
        "  def forward(self, x):\n",
        "    print(\"Before\", x.size())\n",
        "    x = F.relu(self.conv1(x))\n",
        "    print(\"After conv1\", x.size())\n",
        "    x = F.relu(self.conv2(x))\n",
        "    print(\"After conv2\",x.size())\n",
        "    x = x.view(-1, 10 * 12 * 12)\n",
        "    print(\"After dimension reduction\", x.size())\n",
        "    x = F.relu(self.fc1(x))\n",
        "    print(\"After fc1\", x.size())\n",
        "    x = self.fc2(x)\n",
        "    print(\"After fc2\", x.size())\n",
        "    return x\n",
        "\n",
        "cnn = CNN()\n",
        "output = cnn(torch.randn(10, 1, 20, 20))  # Input Size: (10, 1, 20, 20)"
      ],
      "metadata": {
        "id": "1nudN6YK1PS_",
        "colab": {
          "base_uri": "https://localhost:8080/",
          "height": 0
        },
        "outputId": "f54e4fb5-417d-479a-e898-bb81a69fb5d2"
      },
      "execution_count": 13,
      "outputs": [
        {
          "output_type": "stream",
          "name": "stdout",
          "text": [
            "Before torch.Size([10, 1, 20, 20])\n",
            "After conv1 torch.Size([10, 3, 16, 16])\n",
            "After conv2 torch.Size([10, 10, 12, 12])\n",
            "After dimension reduction torch.Size([10, 1440])\n",
            "After fc1 torch.Size([10, 50])\n",
            "After fc2 torch.Size([10, 10])\n"
          ]
        }
      ]
    },
    {
      "cell_type": "code",
      "source": [
        "import torch\n",
        "import torch.nn as nn\n",
        "import torch.nn.functional as F\n",
        "\n",
        "class CNN(nn.Module):\n",
        "  def __init__(self):\n",
        "    super(CNN, self).__init__()\n",
        "    self.max_pool1 = nn.MaxPool2d(kernel_size=2)\n",
        "    self.max_pool2 = nn.MaxPool2d(kernel_size=2)\n",
        "    self.fc1 = nn.Linear(10 * 5 * 5, 50)\n",
        "    self.fc2 = nn.Linear(50, 10)\n",
        "\n",
        "  def forward(self, x):\n",
        "    print(\"Before\", x.size())\n",
        "    x = F.relu(self.max_pool1(x))\n",
        "    print(\"After max_pool1\", x.size())\n",
        "    x = F.relu(self.max_pool2(x))\n",
        "    print(\"After max_pool2\",x.size())\n",
        "    x = x.view(-1, 10 * 5 * 5)\n",
        "    print(\"After dimension reduction\", x.size())\n",
        "    x = F.relu(self.fc1(x))\n",
        "    print(\"After fc1\", x.size())\n",
        "    x = self.fc2(x)\n",
        "    print(\"After fc2\", x.size())\n",
        "    return x\n",
        "\n",
        "cnn = CNN()\n",
        "output = cnn(torch.randn(10, 1, 20, 20))"
      ],
      "metadata": {
        "id": "aObCDbls1SId",
        "colab": {
          "base_uri": "https://localhost:8080/",
          "height": 0
        },
        "outputId": "5d3dddfd-6b2c-4ee3-ee3a-917e42564075"
      },
      "execution_count": 14,
      "outputs": [
        {
          "output_type": "stream",
          "name": "stdout",
          "text": [
            "Before torch.Size([10, 1, 20, 20])\n",
            "After max_pool1 torch.Size([10, 1, 10, 10])\n",
            "After max_pool2 torch.Size([10, 1, 5, 5])\n",
            "After dimension reduction torch.Size([1, 250])\n",
            "After fc1 torch.Size([1, 50])\n",
            "After fc2 torch.Size([1, 10])\n"
          ]
        }
      ]
    },
    {
      "cell_type": "code",
      "source": [
        "# Now let's construct a CNN model"
      ],
      "metadata": {
        "id": "rgM7JyK_f6gu"
      },
      "execution_count": null,
      "outputs": []
    },
    {
      "cell_type": "code",
      "source": [
        "import torch\n",
        "import torch.nn as nn\n",
        "import torch.nn.functional as F\n",
        "import torch.optim as optim\n",
        "from torchvision import datasets, transforms"
      ],
      "metadata": {
        "id": "zCg8EJLdE_8a"
      },
      "execution_count": 15,
      "outputs": []
    },
    {
      "cell_type": "code",
      "source": [
        "train_data = datasets.MNIST('./data/', train=True, download=True, transform=transforms.Compose([\n",
        "        transforms.ToTensor(),\n",
        "        transforms.Normalize((0.1307,), (0.3081,))\n",
        "    ]))\n",
        "train_loader = torch.utils.data.DataLoader(dataset=train_data, batch_size=50, shuffle=True)\n",
        "\n",
        "test_data = datasets.MNIST('./data/', train=False, transform=transforms.Compose([\n",
        "        transforms.ToTensor(),\n",
        "        transforms.Normalize((0.1307,), (0.3081,))\n",
        "    ]))\n",
        "test_loader = torch.utils.data.DataLoader(dataset=test_data, batch_size=50, shuffle=True)"
      ],
      "metadata": {
        "id": "YmVVkwqfVS__",
        "colab": {
          "base_uri": "https://localhost:8080/",
          "height": 0
        },
        "outputId": "d4939626-6575-422a-ea81-7e918ccff16d"
      },
      "execution_count": 16,
      "outputs": [
        {
          "output_type": "stream",
          "name": "stdout",
          "text": [
            "Downloading http://yann.lecun.com/exdb/mnist/train-images-idx3-ubyte.gz\n",
            "Failed to download (trying next):\n",
            "HTTP Error 403: Forbidden\n",
            "\n",
            "Downloading https://ossci-datasets.s3.amazonaws.com/mnist/train-images-idx3-ubyte.gz\n",
            "Downloading https://ossci-datasets.s3.amazonaws.com/mnist/train-images-idx3-ubyte.gz to ./data/MNIST/raw/train-images-idx3-ubyte.gz\n"
          ]
        },
        {
          "output_type": "stream",
          "name": "stderr",
          "text": [
            "100%|██████████| 9912422/9912422 [00:00<00:00, 17632651.36it/s]\n"
          ]
        },
        {
          "output_type": "stream",
          "name": "stdout",
          "text": [
            "Extracting ./data/MNIST/raw/train-images-idx3-ubyte.gz to ./data/MNIST/raw\n",
            "\n",
            "Downloading http://yann.lecun.com/exdb/mnist/train-labels-idx1-ubyte.gz\n",
            "Failed to download (trying next):\n",
            "HTTP Error 403: Forbidden\n",
            "\n",
            "Downloading https://ossci-datasets.s3.amazonaws.com/mnist/train-labels-idx1-ubyte.gz\n",
            "Downloading https://ossci-datasets.s3.amazonaws.com/mnist/train-labels-idx1-ubyte.gz to ./data/MNIST/raw/train-labels-idx1-ubyte.gz\n"
          ]
        },
        {
          "output_type": "stream",
          "name": "stderr",
          "text": [
            "100%|██████████| 28881/28881 [00:00<00:00, 487754.15it/s]\n"
          ]
        },
        {
          "output_type": "stream",
          "name": "stdout",
          "text": [
            "Extracting ./data/MNIST/raw/train-labels-idx1-ubyte.gz to ./data/MNIST/raw\n",
            "\n",
            "Downloading http://yann.lecun.com/exdb/mnist/t10k-images-idx3-ubyte.gz\n",
            "Failed to download (trying next):\n",
            "HTTP Error 403: Forbidden\n",
            "\n",
            "Downloading https://ossci-datasets.s3.amazonaws.com/mnist/t10k-images-idx3-ubyte.gz\n",
            "Downloading https://ossci-datasets.s3.amazonaws.com/mnist/t10k-images-idx3-ubyte.gz to ./data/MNIST/raw/t10k-images-idx3-ubyte.gz\n"
          ]
        },
        {
          "output_type": "stream",
          "name": "stderr",
          "text": [
            "100%|██████████| 1648877/1648877 [00:00<00:00, 4410225.94it/s]\n"
          ]
        },
        {
          "output_type": "stream",
          "name": "stdout",
          "text": [
            "Extracting ./data/MNIST/raw/t10k-images-idx3-ubyte.gz to ./data/MNIST/raw\n",
            "\n",
            "Downloading http://yann.lecun.com/exdb/mnist/t10k-labels-idx1-ubyte.gz\n",
            "Failed to download (trying next):\n",
            "HTTP Error 403: Forbidden\n",
            "\n",
            "Downloading https://ossci-datasets.s3.amazonaws.com/mnist/t10k-labels-idx1-ubyte.gz\n",
            "Downloading https://ossci-datasets.s3.amazonaws.com/mnist/t10k-labels-idx1-ubyte.gz to ./data/MNIST/raw/t10k-labels-idx1-ubyte.gz\n"
          ]
        },
        {
          "output_type": "stream",
          "name": "stderr",
          "text": [
            "100%|██████████| 4542/4542 [00:00<00:00, 3233836.15it/s]"
          ]
        },
        {
          "output_type": "stream",
          "name": "stdout",
          "text": [
            "Extracting ./data/MNIST/raw/t10k-labels-idx1-ubyte.gz to ./data/MNIST/raw\n",
            "\n"
          ]
        },
        {
          "output_type": "stream",
          "name": "stderr",
          "text": [
            "\n"
          ]
        }
      ]
    },
    {
      "cell_type": "code",
      "source": [
        "class CNN(nn.Module):\n",
        "    def __init__(self):\n",
        "        super(CNN, self).__init__()\n",
        "        self.conv1 = nn.Conv2d(in_channels=1, out_channels=20, kernel_size=5, stride=1)\n",
        "        self.conv2 = nn.Conv2d(in_channels=20, out_channels=50, kernel_size=5, stride=1)\n",
        "        self.fc1 = nn.Linear(4 * 4 * 50, 500)\n",
        "        self.fc2 = nn.Linear(500, 10)\n",
        "\n",
        "    def forward(self, x):\n",
        "        x = F.relu(self.conv1(x))\n",
        "        x = F.max_pool2d(x, kernel_size=2, stride=2)\n",
        "        x = F.relu(self.conv2(x))\n",
        "        x = F.max_pool2d(x, kernel_size=2, stride=2)\n",
        "\n",
        "        x = x.view(-1, 4 * 4 * 50) # [batch_size, 50, 4, 4]\n",
        "        x = F.relu(self.fc1(x))\n",
        "        x = self.fc2(x)\n",
        "        return x"
      ],
      "metadata": {
        "id": "GP9NJ03qVS6N"
      },
      "execution_count": 17,
      "outputs": []
    },
    {
      "cell_type": "code",
      "source": [
        "cnn = CNN()\n",
        "criterion = torch.nn.CrossEntropyLoss()\n",
        "optimizer = optim.SGD(cnn.parameters(), lr=0.01)"
      ],
      "metadata": {
        "id": "x4gAjLBrVS1J"
      },
      "execution_count": 18,
      "outputs": []
    },
    {
      "cell_type": "code",
      "source": [
        "cnn.train()\n",
        "for epoch in range(10):\n",
        "  for index, (data, target) in enumerate(train_loader):\n",
        "    optimizer.zero_grad()\n",
        "    output = cnn(data)\n",
        "    loss = criterion(output, target)\n",
        "    loss.backward()\n",
        "    optimizer.step()\n",
        "\n",
        "    if index % 100 == 0:\n",
        "      print(\"loss of {} epoch, {} index : {}\".format(epoch, index, loss.item()))"
      ],
      "metadata": {
        "id": "A4jpLlXQVSv1",
        "colab": {
          "base_uri": "https://localhost:8080/",
          "height": 0
        },
        "outputId": "49d9e2cf-4b39-4dcc-8bde-5126539d0118"
      },
      "execution_count": 19,
      "outputs": [
        {
          "output_type": "stream",
          "name": "stdout",
          "text": [
            "loss of 0 epoch, 0 index : 2.3159515857696533\n",
            "loss of 0 epoch, 100 index : 1.2955790758132935\n",
            "loss of 0 epoch, 200 index : 0.5247872471809387\n",
            "loss of 0 epoch, 300 index : 0.5831567049026489\n",
            "loss of 0 epoch, 400 index : 0.2870796024799347\n",
            "loss of 0 epoch, 500 index : 0.2823512554168701\n",
            "loss of 0 epoch, 600 index : 0.19711492955684662\n",
            "loss of 0 epoch, 700 index : 0.23608233034610748\n",
            "loss of 0 epoch, 800 index : 0.32416561245918274\n",
            "loss of 0 epoch, 900 index : 0.11714138090610504\n",
            "loss of 0 epoch, 1000 index : 0.09996886551380157\n",
            "loss of 0 epoch, 1100 index : 0.09718646854162216\n",
            "loss of 1 epoch, 0 index : 0.17223615944385529\n",
            "loss of 1 epoch, 100 index : 0.09312715381383896\n",
            "loss of 1 epoch, 200 index : 0.20858344435691833\n",
            "loss of 1 epoch, 300 index : 0.06793572753667831\n",
            "loss of 1 epoch, 400 index : 0.13253454864025116\n",
            "loss of 1 epoch, 500 index : 0.026710212230682373\n",
            "loss of 1 epoch, 600 index : 0.044464319944381714\n",
            "loss of 1 epoch, 700 index : 0.0912708267569542\n",
            "loss of 1 epoch, 800 index : 0.07574300467967987\n",
            "loss of 1 epoch, 900 index : 0.030690982937812805\n",
            "loss of 1 epoch, 1000 index : 0.06385032087564468\n",
            "loss of 1 epoch, 1100 index : 0.22488334774971008\n",
            "loss of 2 epoch, 0 index : 0.038440339267253876\n",
            "loss of 2 epoch, 100 index : 0.18370670080184937\n",
            "loss of 2 epoch, 200 index : 0.08321227878332138\n",
            "loss of 2 epoch, 300 index : 0.13737186789512634\n",
            "loss of 2 epoch, 400 index : 0.02856871671974659\n",
            "loss of 2 epoch, 500 index : 0.01638631708920002\n",
            "loss of 2 epoch, 600 index : 0.11674389988183975\n",
            "loss of 2 epoch, 700 index : 0.23738473653793335\n",
            "loss of 2 epoch, 800 index : 0.02816236950457096\n",
            "loss of 2 epoch, 900 index : 0.01568819396197796\n",
            "loss of 2 epoch, 1000 index : 0.17007754743099213\n",
            "loss of 2 epoch, 1100 index : 0.10467315465211868\n",
            "loss of 3 epoch, 0 index : 0.0929611474275589\n",
            "loss of 3 epoch, 100 index : 0.028724949806928635\n",
            "loss of 3 epoch, 200 index : 0.013601429760456085\n",
            "loss of 3 epoch, 300 index : 0.20644928514957428\n",
            "loss of 3 epoch, 400 index : 0.06632716953754425\n",
            "loss of 3 epoch, 500 index : 0.012444902211427689\n",
            "loss of 3 epoch, 600 index : 0.03624086081981659\n",
            "loss of 3 epoch, 700 index : 0.023280305787920952\n",
            "loss of 3 epoch, 800 index : 0.07050289213657379\n",
            "loss of 3 epoch, 900 index : 0.030922165140509605\n",
            "loss of 3 epoch, 1000 index : 0.06593292951583862\n",
            "loss of 3 epoch, 1100 index : 0.036113206297159195\n",
            "loss of 4 epoch, 0 index : 0.15205064415931702\n",
            "loss of 4 epoch, 100 index : 0.13414756953716278\n",
            "loss of 4 epoch, 200 index : 0.03812506049871445\n",
            "loss of 4 epoch, 300 index : 0.08284918963909149\n",
            "loss of 4 epoch, 400 index : 0.09664630889892578\n",
            "loss of 4 epoch, 500 index : 0.033960532397031784\n",
            "loss of 4 epoch, 600 index : 0.021531835198402405\n",
            "loss of 4 epoch, 700 index : 0.08757686614990234\n",
            "loss of 4 epoch, 800 index : 0.2474685162305832\n",
            "loss of 4 epoch, 900 index : 0.08861387521028519\n",
            "loss of 4 epoch, 1000 index : 0.03323785588145256\n",
            "loss of 4 epoch, 1100 index : 0.01490305457264185\n",
            "loss of 5 epoch, 0 index : 0.09222588688135147\n",
            "loss of 5 epoch, 100 index : 0.008973552845418453\n",
            "loss of 5 epoch, 200 index : 0.022175734862685204\n",
            "loss of 5 epoch, 300 index : 0.033651236444711685\n",
            "loss of 5 epoch, 400 index : 0.0025535246822983027\n",
            "loss of 5 epoch, 500 index : 0.01579565554857254\n",
            "loss of 5 epoch, 600 index : 0.03491797298192978\n",
            "loss of 5 epoch, 700 index : 0.015226454474031925\n",
            "loss of 5 epoch, 800 index : 0.01650000549852848\n",
            "loss of 5 epoch, 900 index : 0.10330937057733536\n",
            "loss of 5 epoch, 1000 index : 0.2720738649368286\n",
            "loss of 5 epoch, 1100 index : 0.0171162448823452\n",
            "loss of 6 epoch, 0 index : 0.04702295735478401\n",
            "loss of 6 epoch, 100 index : 0.04588218033313751\n",
            "loss of 6 epoch, 200 index : 0.12442630529403687\n",
            "loss of 6 epoch, 300 index : 0.012894180603325367\n",
            "loss of 6 epoch, 400 index : 0.03754543885588646\n",
            "loss of 6 epoch, 500 index : 0.009340214543044567\n",
            "loss of 6 epoch, 600 index : 0.07454753667116165\n",
            "loss of 6 epoch, 700 index : 0.03642714396119118\n",
            "loss of 6 epoch, 800 index : 0.022092536091804504\n",
            "loss of 6 epoch, 900 index : 0.013218361884355545\n",
            "loss of 6 epoch, 1000 index : 0.004385287407785654\n",
            "loss of 6 epoch, 1100 index : 0.1447133719921112\n",
            "loss of 7 epoch, 0 index : 0.008205653168261051\n",
            "loss of 7 epoch, 100 index : 0.0016128935385495424\n",
            "loss of 7 epoch, 200 index : 0.009698999114334583\n",
            "loss of 7 epoch, 300 index : 0.0020306070800870657\n",
            "loss of 7 epoch, 400 index : 0.04345807060599327\n",
            "loss of 7 epoch, 500 index : 0.09673092514276505\n",
            "loss of 7 epoch, 600 index : 0.05525829270482063\n",
            "loss of 7 epoch, 700 index : 0.007459225598722696\n",
            "loss of 7 epoch, 800 index : 0.015633555129170418\n",
            "loss of 7 epoch, 900 index : 0.030392315238714218\n",
            "loss of 7 epoch, 1000 index : 0.026380114257335663\n",
            "loss of 7 epoch, 1100 index : 0.02392273023724556\n",
            "loss of 8 epoch, 0 index : 0.004485154524445534\n",
            "loss of 8 epoch, 100 index : 0.14214414358139038\n",
            "loss of 8 epoch, 200 index : 0.06506311148405075\n",
            "loss of 8 epoch, 300 index : 0.004450001288205385\n",
            "loss of 8 epoch, 400 index : 0.10632405430078506\n",
            "loss of 8 epoch, 500 index : 0.07263793796300888\n",
            "loss of 8 epoch, 600 index : 0.007736657280474901\n",
            "loss of 8 epoch, 700 index : 0.0834139734506607\n",
            "loss of 8 epoch, 800 index : 0.012143677100539207\n",
            "loss of 8 epoch, 900 index : 0.03333129733800888\n",
            "loss of 8 epoch, 1000 index : 0.0032303407788276672\n",
            "loss of 8 epoch, 1100 index : 0.017252452671527863\n",
            "loss of 9 epoch, 0 index : 0.03572385013103485\n",
            "loss of 9 epoch, 100 index : 0.009304020553827286\n",
            "loss of 9 epoch, 200 index : 0.002561162691563368\n",
            "loss of 9 epoch, 300 index : 0.0029707401990890503\n",
            "loss of 9 epoch, 400 index : 0.008880033157765865\n",
            "loss of 9 epoch, 500 index : 0.03628772497177124\n",
            "loss of 9 epoch, 600 index : 0.006421324796974659\n",
            "loss of 9 epoch, 700 index : 0.006874630227684975\n",
            "loss of 9 epoch, 800 index : 0.050050295889377594\n",
            "loss of 9 epoch, 900 index : 0.024020414799451828\n",
            "loss of 9 epoch, 1000 index : 0.01033120509237051\n",
            "loss of 9 epoch, 1100 index : 0.09247978031635284\n"
          ]
        }
      ]
    },
    {
      "cell_type": "code",
      "source": [
        "# Quick Question\n",
        "# Write an explanation of the code below (evaluation cell only!)"
      ],
      "metadata": {
        "id": "lVuY2ZregO9h"
      },
      "execution_count": null,
      "outputs": []
    },
    {
      "cell_type": "code",
      "source": [
        "cnn.eval()\n",
        "test_loss = 0\n",
        "correct = 0\n",
        "with torch.no_grad():\n",
        "  for data, target in test_loader:\n",
        "    output = cnn(data)\n",
        "    test_loss += criterion(output, target).item()\n",
        "    pred = output.argmax(dim=1, keepdim=True)\n",
        "    correct += pred.eq(target.view_as(pred)).sum().item()\n",
        "print('\\nTest set: Average loss: {:.4f}, Accuracy: {}/{} ({:.0f}%)\\n'.format(\n",
        "        test_loss, correct, len(test_loader.dataset),\n",
        "        100. * correct / len(test_loader.dataset)))"
      ],
      "metadata": {
        "id": "HzNEM_SzVecD",
        "colab": {
          "base_uri": "https://localhost:8080/",
          "height": 0
        },
        "outputId": "0a0d1c1b-e3b2-46d9-aa2b-6e50ee792f17"
      },
      "execution_count": 20,
      "outputs": [
        {
          "output_type": "stream",
          "name": "stdout",
          "text": [
            "\n",
            "Test set: Average loss: 6.1489, Accuracy: 9899/10000 (99%)\n",
            "\n"
          ]
        }
      ]
    },
    {
      "cell_type": "code",
      "source": [
        "# Question (optional)\n",
        "# Try to adjust the hyperparameters (kernel size, # of conv layers, ...)\n",
        "# and get better results than the baseline (default) model!!"
      ],
      "metadata": {
        "id": "BsiXvSCx21ur"
      },
      "execution_count": null,
      "outputs": []
    },
    {
      "cell_type": "markdown",
      "source": [
        "### The End."
      ],
      "metadata": {
        "id": "spc48rNHQnYL"
      }
    },
    {
      "cell_type": "markdown",
      "source": [
        "##### Please upload your Colab file @Github https://github.com/duneag2/intro-dl/tree/main/Assignment5\n",
        "\n",
        "*   First, make your folder by your name (e.g. seungeun)\n",
        "*   Then upload your \"Jupyter Notebook\" file under that directory\n",
        "\n",
        "###### Need Help?\n",
        "\n",
        "\n",
        "\n",
        "*   Please refer to this link https://yeko90.tistory.com/entry/%ED%8C%8C%EC%9D%B4%EC%8D%AC-colab%EC%BD%94%EB%9E%A9%EC%97%90%EC%84%9C-%EC%95%95%EC%B6%95%ED%8C%8C%EC%9D%BC-%ED%92%80%EA%B8%B0 OR\n",
        "*   Just save your Jupyter Notebook (.ipynb) file in here (colab) and upload via 'Add file' - 'Upload files' https://nthree.tistory.com/60"
      ],
      "metadata": {
        "id": "iMNBVkjiS7D9"
      }
    }
  ]
}