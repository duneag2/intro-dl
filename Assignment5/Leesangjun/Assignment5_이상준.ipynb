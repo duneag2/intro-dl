{
  "nbformat": 4,
  "nbformat_minor": 0,
  "metadata": {
    "colab": {
      "provenance": []
    },
    "kernelspec": {
      "name": "python3",
      "display_name": "Python 3"
    },
    "language_info": {
      "name": "python"
    }
  },
  "cells": [
    {
      "cell_type": "markdown",
      "source": [
        "#1. Batch Normalization"
      ],
      "metadata": {
        "id": "lEKPIWcRbBkG"
      }
    },
    {
      "cell_type": "code",
      "execution_count": 1,
      "metadata": {
        "id": "z8jDR8l2a6Wg"
      },
      "outputs": [],
      "source": [
        "# # DO NOT run this code!!\n",
        "# # nn layers\n",
        "# linear1 = torch.nn.Linear(784, 32, bias=True)\n",
        "# linear2 = torch.nn.Linear(32, 32, bias=True)\n",
        "# linear3 = torch.nn.Linear(32, 10, bias=True)\n",
        "\n",
        "# relu = torch.nn.ReLU()\n",
        "# bn1 = torch.nn.BatchNorm1d(32) # Batch Normalization for 1D data\n",
        "# bn2 = torch.nn.BatchNorm1d(32)\n",
        "\n",
        "# nn_linear1 = torch.nn.Linear(784, 32, bias=True)\n",
        "# nn_linear2 = torch.nn.Linear(32, 32, bias=True) nn_linear3 = torch.nn.Linear(32, 10, bias=True)\n",
        "\n",
        "\n",
        "# # model\n",
        "# # torch.nn.Seqeuntial is kind of a \"stack\" operation of layers\n",
        "# # We usually apply ReLU after the BN, but it's not a must!\n",
        "# bn_model = torch.nn.Sequential(linear1, bn1, relu,\n",
        "#                               linear2, bn2, relu,\n",
        "#                               linear3).to(device)\n",
        "# # Model w.o. BN\n",
        "# # Linear + ReLU is a convention\n",
        "# nn_model = torch.nn.Sequential(nn_linear1, relu,\n",
        "#                                nn_linear2, relu,\n",
        "#                                nn_linear3).to(device)"
      ]
    },
    {
      "cell_type": "code",
      "source": [
        "# If not using torch.nn.Sequential, you can use class module!\n",
        "\n",
        "import torch.nn as nn\n",
        "\n",
        "class Model(nn.Module):\n",
        "    def __init__(self):\n",
        "        super(Model, self).__init__()\n",
        "        # in __init__, initialize the layers you'd like to use\n",
        "        self.fc1 = nn.Linear(100, 50)\n",
        "        self.bn = nn.BatchNorm1d(num_features=50)\n",
        "        self.relu = nn.ReLU()\n",
        "        self.fc2 = nn.Linear(50, 10)\n",
        "\n",
        "    def forward(self, x):\n",
        "        # in forward, place the layers sequentially\n",
        "        x = self.fc1(x)\n",
        "        x = self.bn(x)\n",
        "        x = self.relu(x)\n",
        "        x = self.fc2(x)\n",
        "        return x"
      ],
      "metadata": {
        "id": "6R5X2tm9bJED"
      },
      "execution_count": 6,
      "outputs": []
    },
    {
      "cell_type": "code",
      "source": [
        "import torch\n",
        "# BN 1D\n",
        "m = nn.BatchNorm1d(100)\n",
        "input = torch.randn(20, 100)\n",
        "output1 = m(input)\n",
        "\n",
        "# BN 2D\n",
        "# So far, we've only used BN 1D\n",
        "# But what's BN 2D??\n",
        "m = nn.BatchNorm2d(100)\n",
        "input = torch.randn(20, 100, 35, 45)\n",
        "output2 = m(input)"
      ],
      "metadata": {
        "id": "HPs05wRpbQAT"
      },
      "execution_count": 12,
      "outputs": []
    },
    {
      "cell_type": "code",
      "source": [
        "output1.shape"
      ],
      "metadata": {
        "colab": {
          "base_uri": "https://localhost:8080/"
        },
        "id": "ILUTt0wkbpup",
        "outputId": "607dd89b-ef13-4f7a-b486-cd7ec6fe1a05"
      },
      "execution_count": 13,
      "outputs": [
        {
          "output_type": "execute_result",
          "data": {
            "text/plain": [
              "torch.Size([20, 100])"
            ]
          },
          "metadata": {},
          "execution_count": 13
        }
      ]
    },
    {
      "cell_type": "code",
      "source": [
        "output2.shape"
      ],
      "metadata": {
        "colab": {
          "base_uri": "https://localhost:8080/"
        },
        "id": "F5Ewj7-5b2ub",
        "outputId": "7882155c-b2bd-403b-fff4-465c208bdd23"
      },
      "execution_count": 14,
      "outputs": [
        {
          "output_type": "execute_result",
          "data": {
            "text/plain": [
              "torch.Size([20, 100, 35, 45])"
            ]
          },
          "metadata": {},
          "execution_count": 14
        }
      ]
    },
    {
      "cell_type": "markdown",
      "source": [
        "Question 1. Compare & Contrast BatchNorm1d and Batchnorm2d\n",
        "\n",
        "BatchNorm1d와 BatchNorm2d는 input data와 output data의 dimension에서 차이가 있다. BatchNorm1d는 데이터의 dimension이 1이고, BatchNorm2d는 data의 dimension이 2이다. 따라서 코드로 input과 output을 표현할 때 그 형태에서도 차이가 발생한다.\n",
        "\n",
        "BatchNorm1d의 경우 input data와 output data가 (N, C)또는 (N, C, L)의 형태로 나타나고, BatchNorm2d의 경우에는 input data와 output data가 (N, C, H, W)의 형태로 나타난다. 여기서 N은 배치의 크기, C는 channel의 개수, L은 length, H는 height, W는 width를 의미한다."
      ],
      "metadata": {
        "id": "usB33AoXbhCZ"
      }
    },
    {
      "cell_type": "markdown",
      "source": [
        "# 2. Weight Initialization"
      ],
      "metadata": {
        "id": "sp8riHBHb9tO"
      }
    },
    {
      "cell_type": "code",
      "source": [
        "import torch\n",
        "import torch.nn as nn\n",
        "import torch.nn.init as init"
      ],
      "metadata": {
        "id": "IP8TJSw5bT1K"
      },
      "execution_count": 15,
      "outputs": []
    },
    {
      "cell_type": "code",
      "source": [
        "class CNN(nn.Module):\n",
        "    def __init__(self):\n",
        "        super(CNN,self).__init__()\n",
        "        self.layer = nn.Sequential(\n",
        "            nn.Conv2d(1,16,3,padding=1),\n",
        "            # input channel의 개수 : 1, output channel의 개수 : 16, kernel size : 3x3, padding 적용\n",
        "            nn.ReLU(),  # activation function : ReLU after convolutional layer\n",
        "            nn.Conv2d(16,32,3,padding=1),\n",
        "            # input channel의 개수 : 16, output channel의 개수 : 32, kernel size : 3x3, padding 적용\n",
        "            nn.ReLU(),  # activation function : ReLU after convolutional layer\n",
        "            nn.MaxPool2d(2,2),  # 2x2 filter를 이용해 max pooling -> data size가 1/4로 감소\n",
        "            nn.Conv2d(32,64,3,padding=1),\n",
        "            # input channel의 개수 : 32, output channel의 개수 : 64, kernel size : 3x3, padding 적용\n",
        "            nn.ReLU(),  # activation function : ReLU after convolutional layer\n",
        "            nn.MaxPool2d(2,2)   # 2x2 filter를 이용해 max pooling -> data size가 1/4로 감소\n",
        "        )\n",
        "        self.fc_layer = nn.Sequential(\n",
        "            nn.Linear(64*7*7,100),\n",
        "            # fully connected layer\n",
        "            # input size 64*7*7(channel의 개수 64개, 전 단계의 output size : 7x7 by max pooling), output size : 100\n",
        "            nn.ReLU(),   # activation function : ReLU after fully connected layer\n",
        "            nn.Linear(100,10)\n",
        "            # fully connected layer\n",
        "            # input size 100, output size : 10\n",
        "        )\n",
        "\n",
        "        if isinstance(m, nn.Conv2d):  # 만약 nn.Conv2d 모듈이라면\n",
        "\n",
        "                init.kaiming_normal_(m.weight.data)  # weight를 kaiming he normal을 이용해 initialize\n",
        "                m.bias.data.fill_(0)  # bias는 0으로 initialize\n",
        "\n",
        "        elif isinstance(m, nn.Linear):  # 만약 nn.Linear 모듈이라면\n",
        "\n",
        "                init.kaiming_normal_(m.weight.data)  # weight를 kaiming he normal을 이용해 initialize\n",
        "                m.bias.data.fill_(0)  # bias는 0으로 initialize\n",
        "\n",
        "    def forward(self,x):  # forward pass\n",
        "        out = self.layer(x)  # convoultional layer\n",
        "        out = out.view(batch_size,-1)  # 이전 단계의 output data를 flatten\n",
        "        out = self.fc_layer(out) # fully connected layer\n",
        "        return out"
      ],
      "metadata": {
        "id": "JEDxrM4jcA00"
      },
      "execution_count": 16,
      "outputs": []
    },
    {
      "cell_type": "code",
      "source": [
        "import tensorflow as tf\n",
        "import random\n",
        "import numpy as np\n",
        "import matplotlib.pyplot as plt\n",
        "\n",
        "# sigmoid\n",
        "def sigmoid(x):\n",
        "    return 1 / (1 + np.exp(-x))\n",
        "\n",
        "# ReLU\n",
        "def ReLU(x):\n",
        "    return np.maximum(0, x)\n",
        "\n",
        "# tanh\n",
        "def tanh(x):\n",
        "    return np.tanh(x)\n",
        "\n",
        "def weight_init(method=None):\n",
        "    w = 0\n",
        "    if method == 'large':\n",
        "        w = np.random.randn(node_num, node_num) * 1\n",
        "    elif method == 'small':\n",
        "        w = np.random.randn(node_num, node_num) * 0.01\n",
        "    elif method == 'xavier':\n",
        "        w = np.random.randn(node_num, node_num) * np.sqrt(1.0 / node_num)  # Xavier init\n",
        "    elif method == 'he':\n",
        "        w = np.random.randn(node_num, node_num) * np.sqrt(2.0 / node_num)  # He init\n",
        "\n",
        "    return w"
      ],
      "metadata": {
        "id": "WiO1Oan6cF2D"
      },
      "execution_count": 17,
      "outputs": []
    },
    {
      "cell_type": "code",
      "source": [
        "# Small method, tanh\n",
        "input_data = np.random.randn(1000, 100)\n",
        "node_num = 100\n",
        "hidden_layer_size = 5\n",
        "activations = {}\n",
        "\n",
        "x = input_data\n",
        "\n",
        "for i in range(hidden_layer_size):\n",
        "    if i != 0:\n",
        "        x = activations[i-1]\n",
        "\n",
        "    w = weight_init('small')\n",
        "    a = np.dot(x, w)\n",
        "\n",
        "    # z = sigmoid(a)\n",
        "    # z = ReLU(a)\n",
        "    z = tanh(a)\n",
        "\n",
        "    activations[i] = z\n",
        "\n",
        "for i, a in activations.items():\n",
        "    plt.subplot(1, len(activations), i+1)\n",
        "    plt.title(str(i+1) + \"-layer\")\n",
        "    if i != 0: plt.yticks([], [])\n",
        "#     plt.xlim(0.1, 1)\n",
        "    plt.ylim(0, 8000)\n",
        "    plt.hist(a.flatten(), 30, range=(-1,1))\n",
        "plt.show()"
      ],
      "metadata": {
        "colab": {
          "base_uri": "https://localhost:8080/",
          "height": 452
        },
        "id": "Frzq3Wq-cKz5",
        "outputId": "5f47ec4d-57d5-4dd8-93dc-0bd1244c6ec3"
      },
      "execution_count": 20,
      "outputs": [
        {
          "output_type": "display_data",
          "data": {
            "text/plain": [
              "<Figure size 640x480 with 5 Axes>"
            ],
            "image/png": "[encoded data removed]"
          },
          "metadata": {}
        }
      ]
    },
    {
      "cell_type": "markdown",
      "source": [
        "위의 코드는 activation function을 tanh로 설정한 경우를 나타낸다. input data는 1000개의 sample과 100개의 feature로 구성되어 있고 각 layer의 노드의 개수는 100개, hidden layer의 개수는 5개이다. 이 때, weight initialization은 \"small\" method를 사용한다. 아래의 histogram plotting을 확인해보면 두번째 layer부터 모든 output값이 0으로 출력되는 것을 확인할 수 있다. 따라서 학습이 제대로 진행되지 않는다."
      ],
      "metadata": {
        "id": "wH8m4scyce1Y"
      }
    },
    {
      "cell_type": "code",
      "source": [
        "# Large method, tanh\n",
        "for i in range(hidden_layer_size):\n",
        "    if i != 0:\n",
        "        x = activations[i-1]\n",
        "\n",
        "    w = weight_init('large')\n",
        "    a = np.dot(x, w)\n",
        "\n",
        "    # z = sigmoid(a)\n",
        "    # z = ReLU(a)\n",
        "    z = tanh(a)\n",
        "\n",
        "    activations[i] = z\n",
        "\n",
        "for i, a in activations.items():\n",
        "    plt.subplot(1, len(activations), i+1)\n",
        "    plt.title(str(i+1) + \"-layer\")\n",
        "    if i != 0: plt.yticks([], [])\n",
        "#     plt.xlim(0.1, 1)\n",
        "    plt.ylim(0, 7000)\n",
        "    plt.hist(a.flatten(), 30, range=(-1,1))\n",
        "plt.show()"
      ],
      "metadata": {
        "colab": {
          "base_uri": "https://localhost:8080/",
          "height": 452
        },
        "id": "hptmK7BFcQW2",
        "outputId": "0f6f8aab-f0db-42fd-812a-5f599fede68b"
      },
      "execution_count": 21,
      "outputs": [
        {
          "output_type": "display_data",
          "data": {
            "text/plain": [
              "<Figure size 640x480 with 5 Axes>"
            ],
            "image/png": "[encoded data removed]"
          },
          "metadata": {}
        }
      ]
    },
    {
      "cell_type": "markdown",
      "source": [
        "위의 경우도 마찬가지로 activation function으로 tanh를 적용한다. 이 때 weight initialization은 \"large\" method를 이용하는데 결과를 확인해보면 layer가 진행될수록 output 값이 -1과 1에 몰린다는 것을 알 수 있는데 이 경우에는 gradient 값이 0에 가까워져 vanishing gradient problem이 발생할 수 있다."
      ],
      "metadata": {
        "id": "90z3UgPVcrWa"
      }
    },
    {
      "cell_type": "code",
      "source": [
        "# Xavier Initialization, ReLU\n",
        "input_data = np.random.randn(1000, 100)\n",
        "node_num = 100\n",
        "hidden_layer_size = 5\n",
        "activations = {}\n",
        "\n",
        "x = input_data\n",
        "\n",
        "for i in range(hidden_layer_size):\n",
        "    if i != 0:\n",
        "        x = activations[i-1]\n",
        "\n",
        "    w = weight_init('xavier')\n",
        "    a = np.dot(x, w)\n",
        "\n",
        "    # z = sigmoid(a)\n",
        "    # z = ReLU(a)\n",
        "    z = tanh(a)\n",
        "\n",
        "    activations[i] = z\n",
        "\n",
        "for i, a in activations.items():\n",
        "    plt.subplot(1, len(activations), i+1)\n",
        "    plt.title(str(i+1) + \"-layer\")\n",
        "    if i != 0: plt.yticks([], [])\n",
        "#     plt.xlim(0.1, 1)\n",
        "    plt.ylim(0, 7000)\n",
        "    plt.hist(a.flatten(), 30, range=(-1,1))\n",
        "plt.show()"
      ],
      "metadata": {
        "colab": {
          "base_uri": "https://localhost:8080/",
          "height": 452
        },
        "id": "ZK11Kvu9clzF",
        "outputId": "6f87a379-5d7e-4072-b4a5-0dbf10a65a2c"
      },
      "execution_count": 23,
      "outputs": [
        {
          "output_type": "display_data",
          "data": {
            "text/plain": [
              "<Figure size 640x480 with 5 Axes>"
            ],
            "image/png": "[encoded data removed]"
          },
          "metadata": {}
        }
      ]
    },
    {
      "cell_type": "markdown",
      "source": [
        "다음의 경우도 이전의 두가지 경우와 마찬가지로 activation function으로 tanh를 적용한다. 이 때 weight initialization의 method로 Xavier initialization을 사용하는데 결과 값들을 확인해보면 (-1, 1) 범위 내에서 이전의 경우보다 고르게 분포하는 것을 알 수 있다. 따라서 이 경우 더 유의미한 학습이 가능해진다."
      ],
      "metadata": {
        "id": "UASH-rqRdEsV"
      }
    },
    {
      "cell_type": "code",
      "source": [
        "# He Initialization, ReLU\n",
        "input_data = np.random.randn(1000, 100)\n",
        "node_num = 100\n",
        "hidden_layer_size = 5\n",
        "activations = {}\n",
        "\n",
        "x = input_data\n",
        "\n",
        "for i in range(hidden_layer_size):\n",
        "    if i != 0:\n",
        "        x = activations[i-1]\n",
        "\n",
        "    w = weight_init('xavier')\n",
        "    a = np.dot(x, w)\n",
        "\n",
        "    # z = sigmoid(a)\n",
        "    z = ReLU(a)\n",
        "    # z = tanh(a)\n",
        "\n",
        "    activations[i] = z\n",
        "\n",
        "for i, a in activations.items():\n",
        "    plt.subplot(1, len(activations), i+1)\n",
        "    plt.title(str(i+1) + \"-layer\")\n",
        "    if i != 0: plt.yticks([], [])\n",
        "#     plt.xlim(0.1, 1)\n",
        "    plt.ylim(0, 7000)\n",
        "    plt.hist(a.flatten(), 30, range=(0,1))\n",
        "plt.show()"
      ],
      "metadata": {
        "colab": {
          "base_uri": "https://localhost:8080/",
          "height": 452
        },
        "id": "bWVi8rXfc-5J",
        "outputId": "7119d261-8277-4c7c-a094-4180e7aff870"
      },
      "execution_count": 24,
      "outputs": [
        {
          "output_type": "display_data",
          "data": {
            "text/plain": [
              "<Figure size 640x480 with 5 Axes>"
            ],
            "image/png": "[encoded data removed]"
          },
          "metadata": {}
        }
      ]
    },
    {
      "cell_type": "markdown",
      "source": [
        "위의 경우에는 이전의 경우들과는 다르게 acticvation function으로 ReLU를 사용함을 알 수 있다. ReLU를 사용할 때 weight initialization으로 Xavier initialiaztion을 사용하면 deep한 layer로 갈수록 출력 값이 0에 가까워지는 것을 확인할 수 있다. 따라서 이 경우에는 weight initialization 으로 He initialization method를 사용한다. 출력된 output data를 확인해보면 Xavier initialization을 사용할 때보다 더 고르게 분포하고 있는 것을 확인할 수 있다."
      ],
      "metadata": {
        "id": "NAt924qgdT2b"
      }
    },
    {
      "cell_type": "markdown",
      "source": [
        "# 3. CNN"
      ],
      "metadata": {
        "id": "PQSgxGk5dXge"
      }
    },
    {
      "cell_type": "code",
      "source": [
        "import torch\n",
        "import torch.nn as nn\n",
        "import torch.nn.functional as F\n",
        "\n",
        "class CNN(nn.Module):\n",
        "  def __init__(self):\n",
        "    super(CNN, self).__init__()\n",
        "    self.conv1 = nn.Conv2d(in_channels=1, out_channels=3, kernel_size=5, stride=1)\n",
        "    self.conv2 = nn.Conv2d(in_channels=3, out_channels=10, kernel_size=5, stride=1)\n",
        "    self.fc1 = nn.Linear(10 * 12 * 12, 50)\n",
        "    self.fc2 = nn.Linear(50, 10)\n",
        "\n",
        "  def forward(self, x):\n",
        "    print(\"Before\", x.size())\n",
        "    x = F.relu(self.conv1(x))\n",
        "    print(\"After conv1\", x.size())\n",
        "    x = F.relu(self.conv2(x))\n",
        "    print(\"After conv2\",x.size())\n",
        "    x = x.view(-1, 10 * 12 * 12)\n",
        "    print(\"After dimension reduction\", x.size())\n",
        "    x = F.relu(self.fc1(x))\n",
        "    print(\"After fc1\", x.size())\n",
        "    x = self.fc2(x)\n",
        "    print(\"After fc2\", x.size())\n",
        "    return x\n",
        "\n",
        "cnn = CNN()\n",
        "output = cnn(torch.randn(10, 1, 20, 20))  # Input Size: (10, 1, 20, 20)"
      ],
      "metadata": {
        "colab": {
          "base_uri": "https://localhost:8080/"
        },
        "id": "LRDVIqOVdQkm",
        "outputId": "9a4bfff3-0a81-4bc2-9830-8c876bec639a"
      },
      "execution_count": 26,
      "outputs": [
        {
          "output_type": "stream",
          "name": "stdout",
          "text": [
            "Before torch.Size([10, 1, 20, 20])\n",
            "After conv1 torch.Size([10, 3, 16, 16])\n",
            "After conv2 torch.Size([10, 10, 12, 12])\n",
            "After dimension reduction torch.Size([10, 1440])\n",
            "After fc1 torch.Size([10, 50])\n",
            "After fc2 torch.Size([10, 10])\n"
          ]
        }
      ]
    },
    {
      "cell_type": "markdown",
      "source": [
        "batch size : 10\n",
        "\n",
        "after convolution 1 : channel의 개수가 3개로 바뀌고, 원래 20x20 size의 데이터에서 5x5 kernel로 1칸씩 이동하면서 convolution을 진행하기 때문에 output data의 size가 16x16으로 변한다.\n",
        "\n",
        "after convolution 2 : channel의 개수가 10개로 바뀌고, conv1과 마찬가지로 5x5 kernel로 한 칸씩 이동하면서 convolution을 진행하므로 데이터의 size가 16x16에서 12x12로 바뀐다.\n",
        "\n",
        "after fc1 : 이전 단계에서의 데이터가 12x12 size, 10 channel이므로 이를 flatten 하면 데이터의 size가 12x12x10=1440 이 된다. 따라서 이 데이터들이 fully connected layer를 지나면 size가 50으로 변한다.\n",
        "\n",
        "after fc2 : 데이터의 size가 50 -> 10 으로 변한다."
      ],
      "metadata": {
        "id": "0SLmO4--dgrA"
      }
    },
    {
      "cell_type": "code",
      "source": [
        "import torch\n",
        "import torch.nn as nn\n",
        "import torch.nn.functional as F\n",
        "\n",
        "class CNN(nn.Module):\n",
        "  def __init__(self):\n",
        "    super(CNN, self).__init__()\n",
        "    self.max_pool1 = nn.MaxPool2d(kernel_size=2)\n",
        "    self.max_pool2 = nn.MaxPool2d(kernel_size=2)\n",
        "    self.fc1 = nn.Linear(10 * 5 * 5, 50)\n",
        "    self.fc2 = nn.Linear(50, 10)\n",
        "\n",
        "  def forward(self, x):\n",
        "    print(\"Before\", x.size())\n",
        "    x = F.relu(self.max_pool1(x))\n",
        "    print(\"After max_pool1\", x.size())\n",
        "    x = F.relu(self.max_pool2(x))\n",
        "    print(\"After max_pool2\",x.size())\n",
        "    x = x.view(-1, 10 * 5 * 5)\n",
        "    print(\"After dimension reduction\", x.size())\n",
        "    x = F.relu(self.fc1(x))\n",
        "    print(\"After fc1\", x.size())\n",
        "    x = self.fc2(x)\n",
        "    print(\"After fc2\", x.size())\n",
        "    return x\n",
        "\n",
        "cnn = CNN()\n",
        "output = cnn(torch.randn(10, 1, 20, 20))"
      ],
      "metadata": {
        "colab": {
          "base_uri": "https://localhost:8080/"
        },
        "id": "PV7ybhiCdeDs",
        "outputId": "0735d7f6-fa03-4b15-b34b-e47bce18485e"
      },
      "execution_count": 27,
      "outputs": [
        {
          "output_type": "stream",
          "name": "stdout",
          "text": [
            "Before torch.Size([10, 1, 20, 20])\n",
            "After max_pool1 torch.Size([10, 1, 10, 10])\n",
            "After max_pool2 torch.Size([10, 1, 5, 5])\n",
            "After dimension reduction torch.Size([1, 250])\n",
            "After fc1 torch.Size([1, 50])\n",
            "After fc2 torch.Size([1, 10])\n"
          ]
        }
      ]
    },
    {
      "cell_type": "markdown",
      "source": [
        "batch size : 10\n",
        "\n",
        "after max_pool1 : 20x20 size 데이터를 2x2 kernel을 이용해 max pooling 하므로 width와 height 모두 1/2만큼 감소하여 10x10 으로 변한다.\n",
        "\n",
        "after max_pool2 : 마찬가지로 10x10 size 데이터를 2x2 kernel을 이용해 max pooling 하므로 width와 height 모두 1/2만큼 감소하여 5x5 로 변한다.\n",
        "\n",
        "after fc1 : flatten한 10* 5 *5 size input data가 size 50의 output data로 출력된다.\n",
        "\n",
        "after fc2 : size 50의 input data가 size 10의 output data로 출력된다."
      ],
      "metadata": {
        "id": "3Vhg0vjrdo9a"
      }
    },
    {
      "cell_type": "code",
      "source": [
        "import torch\n",
        "import torch.nn as nn\n",
        "import torch.nn.functional as F\n",
        "import torch.optim as optim\n",
        "from torchvision import datasets, transforms"
      ],
      "metadata": {
        "id": "Bbq8I6hkdkYY"
      },
      "execution_count": 28,
      "outputs": []
    },
    {
      "cell_type": "code",
      "source": [
        "train_data = datasets.MNIST('./data/', train=True, download=True, transform=transforms.Compose([\n",
        "        transforms.ToTensor(),\n",
        "        transforms.Normalize((0.1307,), (0.3081,))\n",
        "    ]))\n",
        "train_loader = torch.utils.data.DataLoader(dataset=train_data, batch_size=50, shuffle=True)\n",
        "\n",
        "test_data = datasets.MNIST('./data/', train=False, transform=transforms.Compose([\n",
        "        transforms.ToTensor(),\n",
        "        transforms.Normalize((0.1307,), (0.3081,))\n",
        "    ]))\n",
        "test_loader = torch.utils.data.DataLoader(dataset=test_data, batch_size=50, shuffle=True)"
      ],
      "metadata": {
        "colab": {
          "base_uri": "https://localhost:8080/"
        },
        "id": "G9up_e4ZdrPY",
        "outputId": "db4cb379-0df6-408a-c761-27480cbb3bda"
      },
      "execution_count": 29,
      "outputs": [
        {
          "output_type": "stream",
          "name": "stdout",
          "text": [
            "Downloading http://yann.lecun.com/exdb/mnist/train-images-idx3-ubyte.gz\n",
            "Failed to download (trying next):\n",
            "HTTP Error 403: Forbidden\n",
            "\n",
            "Downloading https://ossci-datasets.s3.amazonaws.com/mnist/train-images-idx3-ubyte.gz\n",
            "Downloading https://ossci-datasets.s3.amazonaws.com/mnist/train-images-idx3-ubyte.gz to ./data/MNIST/raw/train-images-idx3-ubyte.gz\n"
          ]
        },
        {
          "output_type": "stream",
          "name": "stderr",
          "text": [
            "100%|██████████| 9912422/9912422 [00:01<00:00, 6029785.87it/s]\n"
          ]
        },
        {
          "output_type": "stream",
          "name": "stdout",
          "text": [
            "Extracting ./data/MNIST/raw/train-images-idx3-ubyte.gz to ./data/MNIST/raw\n",
            "\n",
            "Downloading http://yann.lecun.com/exdb/mnist/train-labels-idx1-ubyte.gz\n",
            "Failed to download (trying next):\n",
            "HTTP Error 403: Forbidden\n",
            "\n",
            "Downloading https://ossci-datasets.s3.amazonaws.com/mnist/train-labels-idx1-ubyte.gz\n",
            "Downloading https://ossci-datasets.s3.amazonaws.com/mnist/train-labels-idx1-ubyte.gz to ./data/MNIST/raw/train-labels-idx1-ubyte.gz\n"
          ]
        },
        {
          "output_type": "stream",
          "name": "stderr",
          "text": [
            "100%|██████████| 28881/28881 [00:00<00:00, 159096.21it/s]\n"
          ]
        },
        {
          "output_type": "stream",
          "name": "stdout",
          "text": [
            "Extracting ./data/MNIST/raw/train-labels-idx1-ubyte.gz to ./data/MNIST/raw\n",
            "\n",
            "Downloading http://yann.lecun.com/exdb/mnist/t10k-images-idx3-ubyte.gz\n",
            "Failed to download (trying next):\n",
            "HTTP Error 403: Forbidden\n",
            "\n",
            "Downloading https://ossci-datasets.s3.amazonaws.com/mnist/t10k-images-idx3-ubyte.gz\n",
            "Downloading https://ossci-datasets.s3.amazonaws.com/mnist/t10k-images-idx3-ubyte.gz to ./data/MNIST/raw/t10k-images-idx3-ubyte.gz\n"
          ]
        },
        {
          "output_type": "stream",
          "name": "stderr",
          "text": [
            "100%|██████████| 1648877/1648877 [00:01<00:00, 1510577.02it/s]\n"
          ]
        },
        {
          "output_type": "stream",
          "name": "stdout",
          "text": [
            "Extracting ./data/MNIST/raw/t10k-images-idx3-ubyte.gz to ./data/MNIST/raw\n",
            "\n",
            "Downloading http://yann.lecun.com/exdb/mnist/t10k-labels-idx1-ubyte.gz\n",
            "Failed to download (trying next):\n",
            "HTTP Error 403: Forbidden\n",
            "\n",
            "Downloading https://ossci-datasets.s3.amazonaws.com/mnist/t10k-labels-idx1-ubyte.gz\n",
            "Downloading https://ossci-datasets.s3.amazonaws.com/mnist/t10k-labels-idx1-ubyte.gz to ./data/MNIST/raw/t10k-labels-idx1-ubyte.gz\n"
          ]
        },
        {
          "output_type": "stream",
          "name": "stderr",
          "text": [
            "100%|██████████| 4542/4542 [00:00<00:00, 3386760.67it/s]"
          ]
        },
        {
          "output_type": "stream",
          "name": "stdout",
          "text": [
            "Extracting ./data/MNIST/raw/t10k-labels-idx1-ubyte.gz to ./data/MNIST/raw\n",
            "\n"
          ]
        },
        {
          "output_type": "stream",
          "name": "stderr",
          "text": [
            "\n"
          ]
        }
      ]
    },
    {
      "cell_type": "code",
      "source": [
        "class CNN(nn.Module):\n",
        "    def __init__(self):\n",
        "        super(CNN, self).__init__()\n",
        "        self.conv1 = nn.Conv2d(in_channels=1, out_channels=20, kernel_size=5, stride=1)\n",
        "        self.conv2 = nn.Conv2d(in_channels=20, out_channels=50, kernel_size=5, stride=1)\n",
        "        self.fc1 = nn.Linear(4 * 4 * 50, 500)\n",
        "        self.fc2 = nn.Linear(500, 10)\n",
        "\n",
        "    def forward(self, x):\n",
        "        x = F.relu(self.conv1(x))\n",
        "        x = F.max_pool2d(x, kernel_size=2, stride=2)\n",
        "        x = F.relu(self.conv2(x))\n",
        "        x = F.max_pool2d(x, kernel_size=2, stride=2)\n",
        "\n",
        "        x = x.view(-1, 4 * 4 * 50) # [batch_size, 50, 4, 4]\n",
        "        x = F.relu(self.fc1(x))\n",
        "        x = self.fc2(x)\n",
        "        return x"
      ],
      "metadata": {
        "id": "3mJdHU_yduLi"
      },
      "execution_count": 30,
      "outputs": []
    },
    {
      "cell_type": "code",
      "source": [
        "cnn = CNN()\n",
        "criterion = torch.nn.CrossEntropyLoss()\n",
        "optimizer = optim.SGD(cnn.parameters(), lr=0.01)"
      ],
      "metadata": {
        "id": "hTDn-Tubdzjg"
      },
      "execution_count": 31,
      "outputs": []
    },
    {
      "cell_type": "code",
      "source": [
        "cnn.train()\n",
        "for epoch in range(10):\n",
        "  for index, (data, target) in enumerate(train_loader):\n",
        "    optimizer.zero_grad()\n",
        "    output = cnn(data)\n",
        "    loss = criterion(output, target)\n",
        "    loss.backward()\n",
        "    optimizer.step()\n",
        "\n",
        "    if index % 100 == 0:\n",
        "      print(\"loss of {} epoch, {} index : {}\".format(epoch, index, loss.item()))"
      ],
      "metadata": {
        "colab": {
          "base_uri": "https://localhost:8080/"
        },
        "id": "9_EhHd3kd12y",
        "outputId": "8bf741b2-8ba6-4981-c5bf-200310f0a25b"
      },
      "execution_count": 32,
      "outputs": [
        {
          "output_type": "stream",
          "name": "stdout",
          "text": [
            "loss of 0 epoch, 0 index : 2.3166518211364746\n",
            "loss of 0 epoch, 100 index : 1.8804436922073364\n",
            "loss of 0 epoch, 200 index : 0.5553153157234192\n",
            "loss of 0 epoch, 300 index : 0.36640167236328125\n",
            "loss of 0 epoch, 400 index : 0.6219720840454102\n",
            "loss of 0 epoch, 500 index : 0.29447609186172485\n",
            "loss of 0 epoch, 600 index : 0.3189466595649719\n",
            "loss of 0 epoch, 700 index : 0.4725205898284912\n",
            "loss of 0 epoch, 800 index : 0.10380294173955917\n",
            "loss of 0 epoch, 900 index : 0.30193576216697693\n",
            "loss of 0 epoch, 1000 index : 0.09576801210641861\n",
            "loss of 0 epoch, 1100 index : 0.18069355189800262\n",
            "loss of 1 epoch, 0 index : 0.17867624759674072\n",
            "loss of 1 epoch, 100 index : 0.029372302815318108\n",
            "loss of 1 epoch, 200 index : 0.14451761543750763\n",
            "loss of 1 epoch, 300 index : 0.11015874892473221\n",
            "loss of 1 epoch, 400 index : 0.028157666325569153\n",
            "loss of 1 epoch, 500 index : 0.15155981481075287\n",
            "loss of 1 epoch, 600 index : 0.05890939384698868\n",
            "loss of 1 epoch, 700 index : 0.018654758110642433\n",
            "loss of 1 epoch, 800 index : 0.10654541105031967\n",
            "loss of 1 epoch, 900 index : 0.1607588529586792\n",
            "loss of 1 epoch, 1000 index : 0.09007136523723602\n",
            "loss of 1 epoch, 1100 index : 0.277616947889328\n",
            "loss of 2 epoch, 0 index : 0.027971500530838966\n",
            "loss of 2 epoch, 100 index : 0.09760812669992447\n",
            "loss of 2 epoch, 200 index : 0.06077959015965462\n",
            "loss of 2 epoch, 300 index : 0.09709766507148743\n",
            "loss of 2 epoch, 400 index : 0.0516166053712368\n",
            "loss of 2 epoch, 500 index : 0.19019189476966858\n",
            "loss of 2 epoch, 600 index : 0.036081597208976746\n",
            "loss of 2 epoch, 700 index : 0.363241046667099\n",
            "loss of 2 epoch, 800 index : 0.03881203755736351\n",
            "loss of 2 epoch, 900 index : 0.04583786427974701\n",
            "loss of 2 epoch, 1000 index : 0.008611619472503662\n",
            "loss of 2 epoch, 1100 index : 0.04509509727358818\n",
            "loss of 3 epoch, 0 index : 0.012234572321176529\n",
            "loss of 3 epoch, 100 index : 0.03840002417564392\n",
            "loss of 3 epoch, 200 index : 0.06558520346879959\n",
            "loss of 3 epoch, 300 index : 0.00477808341383934\n",
            "loss of 3 epoch, 400 index : 0.06005735322833061\n",
            "loss of 3 epoch, 500 index : 0.19098499417304993\n",
            "loss of 3 epoch, 600 index : 0.03067948669195175\n",
            "loss of 3 epoch, 700 index : 0.06871974468231201\n",
            "loss of 3 epoch, 800 index : 0.04666130244731903\n",
            "loss of 3 epoch, 900 index : 0.024220949038863182\n",
            "loss of 3 epoch, 1000 index : 0.06513603031635284\n",
            "loss of 3 epoch, 1100 index : 0.2559097111225128\n",
            "loss of 4 epoch, 0 index : 0.04948946088552475\n",
            "loss of 4 epoch, 100 index : 0.029089128598570824\n",
            "loss of 4 epoch, 200 index : 0.009138853289186954\n",
            "loss of 4 epoch, 300 index : 0.07248304784297943\n",
            "loss of 4 epoch, 400 index : 0.11377856880426407\n",
            "loss of 4 epoch, 500 index : 0.05731815844774246\n",
            "loss of 4 epoch, 600 index : 0.19001756608486176\n",
            "loss of 4 epoch, 700 index : 0.019542910158634186\n",
            "loss of 4 epoch, 800 index : 0.04784335196018219\n",
            "loss of 4 epoch, 900 index : 0.06674379855394363\n",
            "loss of 4 epoch, 1000 index : 0.011921281926333904\n",
            "loss of 4 epoch, 1100 index : 0.09034010767936707\n",
            "loss of 5 epoch, 0 index : 0.011312668211758137\n",
            "loss of 5 epoch, 100 index : 0.01052690390497446\n",
            "loss of 5 epoch, 200 index : 0.0815090537071228\n",
            "loss of 5 epoch, 300 index : 0.05437763035297394\n",
            "loss of 5 epoch, 400 index : 0.008565369993448257\n",
            "loss of 5 epoch, 500 index : 0.1199728399515152\n",
            "loss of 5 epoch, 600 index : 0.08207005262374878\n",
            "loss of 5 epoch, 700 index : 0.06841185688972473\n",
            "loss of 5 epoch, 800 index : 0.03332009166479111\n",
            "loss of 5 epoch, 900 index : 0.0397946797311306\n",
            "loss of 5 epoch, 1000 index : 0.0037328070029616356\n",
            "loss of 5 epoch, 1100 index : 0.023700762540102005\n",
            "loss of 6 epoch, 0 index : 0.015499978326261044\n",
            "loss of 6 epoch, 100 index : 0.006128760986030102\n",
            "loss of 6 epoch, 200 index : 0.059760209172964096\n",
            "loss of 6 epoch, 300 index : 0.02218729443848133\n",
            "loss of 6 epoch, 400 index : 0.06668438017368317\n",
            "loss of 6 epoch, 500 index : 0.11065148562192917\n",
            "loss of 6 epoch, 600 index : 0.0054137264378368855\n",
            "loss of 6 epoch, 700 index : 0.024170327931642532\n",
            "loss of 6 epoch, 800 index : 0.07059022039175034\n",
            "loss of 6 epoch, 900 index : 0.037521202117204666\n",
            "loss of 6 epoch, 1000 index : 0.14494962990283966\n",
            "loss of 6 epoch, 1100 index : 0.014501115307211876\n",
            "loss of 7 epoch, 0 index : 0.0707036554813385\n",
            "loss of 7 epoch, 100 index : 0.043742917478084564\n",
            "loss of 7 epoch, 200 index : 0.028900250792503357\n",
            "loss of 7 epoch, 300 index : 0.008555765263736248\n",
            "loss of 7 epoch, 400 index : 0.050539661198854446\n",
            "loss of 7 epoch, 500 index : 0.004656349774450064\n",
            "loss of 7 epoch, 600 index : 0.02172238379716873\n",
            "loss of 7 epoch, 700 index : 0.0606885626912117\n",
            "loss of 7 epoch, 800 index : 0.012577077373862267\n",
            "loss of 7 epoch, 900 index : 0.07388073951005936\n",
            "loss of 7 epoch, 1000 index : 0.04805022105574608\n",
            "loss of 7 epoch, 1100 index : 0.03661886602640152\n",
            "loss of 8 epoch, 0 index : 0.02118244208395481\n",
            "loss of 8 epoch, 100 index : 0.0046659912914037704\n",
            "loss of 8 epoch, 200 index : 0.032595500349998474\n",
            "loss of 8 epoch, 300 index : 0.004732643254101276\n",
            "loss of 8 epoch, 400 index : 0.06246619671583176\n",
            "loss of 8 epoch, 500 index : 0.03190592676401138\n",
            "loss of 8 epoch, 600 index : 0.0948631688952446\n",
            "loss of 8 epoch, 700 index : 0.011993424966931343\n",
            "loss of 8 epoch, 800 index : 0.02163074165582657\n",
            "loss of 8 epoch, 900 index : 0.0035155916120857\n",
            "loss of 8 epoch, 1000 index : 0.008084619417786598\n",
            "loss of 8 epoch, 1100 index : 0.03798321262001991\n",
            "loss of 9 epoch, 0 index : 0.04290390387177467\n",
            "loss of 9 epoch, 100 index : 0.003515408607199788\n",
            "loss of 9 epoch, 200 index : 0.003073481610044837\n",
            "loss of 9 epoch, 300 index : 0.0075784469954669476\n",
            "loss of 9 epoch, 400 index : 0.010132895782589912\n",
            "loss of 9 epoch, 500 index : 0.004989333916455507\n",
            "loss of 9 epoch, 600 index : 0.006457995623350143\n",
            "loss of 9 epoch, 700 index : 0.0038874181918799877\n",
            "loss of 9 epoch, 800 index : 0.032575175166130066\n",
            "loss of 9 epoch, 900 index : 0.04526068642735481\n",
            "loss of 9 epoch, 1000 index : 0.026235125958919525\n",
            "loss of 9 epoch, 1100 index : 0.02248947136104107\n"
          ]
        }
      ]
    },
    {
      "cell_type": "code",
      "source": [
        "cnn.eval()\n",
        "test_loss = 0\n",
        "correct = 0\n",
        "with torch.no_grad():\n",
        "  for data, target in test_loader:\n",
        "    output = cnn(data)\n",
        "    test_loss += criterion(output, target).item()\n",
        "    pred = output.argmax(dim=1, keepdim=True)\n",
        "    correct += pred.eq(target.view_as(pred)).sum().item()\n",
        "print('\\nTest set: Average loss: {:.4f}, Accuracy: {}/{} ({:.0f}%)\\n'.format(\n",
        "        test_loss, correct, len(test_loader.dataset),\n",
        "        100. * correct / len(test_loader.dataset)))"
      ],
      "metadata": {
        "colab": {
          "base_uri": "https://localhost:8080/"
        },
        "id": "K0wlmfKKd37O",
        "outputId": "0083a421-9bf4-454d-ab1a-97597185717e"
      },
      "execution_count": 33,
      "outputs": [
        {
          "output_type": "stream",
          "name": "stdout",
          "text": [
            "\n",
            "Test set: Average loss: 7.1698, Accuracy: 9886/10000 (99%)\n",
            "\n"
          ]
        }
      ]
    },
    {
      "cell_type": "markdown",
      "source": [
        "test data를 통해 evaluation을 진행한다. evaluation을 통해 계산한 test loss와 accuracy를 쌓기 위해 초기의 test_loss값과 correct 값을 0으로 initialize한다. evaluation을 진행할 때는 gradient 계산을 하지 않는다. cnn 계산을 통해 test data에 대한 output 값을 출력하고 이를 target 값과 비교하여 test_loss와 correct 값을 계산한다. 이후 계산한 loss 값의 평균과 accuracy 를 출력한다."
      ],
      "metadata": {
        "id": "TD_7FtJsgUuy"
      }
    },
    {
      "cell_type": "code",
      "source": [],
      "metadata": {
        "id": "mEhlsaR5gPTz"
      },
      "execution_count": null,
      "outputs": []
    }
  ]
}