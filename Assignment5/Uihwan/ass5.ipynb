{
  "nbformat": 4,
  "nbformat_minor": 0,
  "metadata": {
    "colab": {
      "provenance": [],
      "authorship_tag": "ABX9TyO5Y4LFPyt/ttpXsoyxPERU",
      "include_colab_link": true
    },
    "kernelspec": {
      "name": "python3",
      "display_name": "Python 3"
    },
    "language_info": {
      "name": "python"
    }
  },
  "cells": [
    {
      "cell_type": "markdown",
      "metadata": {
        "id": "view-in-github",
        "colab_type": "text"
      },
      "source": [
        "<a href=\"https://colab.research.google.com/github/duneag2/intro-dl/blob/main/Assignment5/Uihwan/ass5.ipynb\" target=\"_parent\"><img src=\"https://colab.research.google.com/assets/colab-badge.svg\" alt=\"Open In Colab\"/></a>"
      ]
    },
    {
      "cell_type": "code",
      "execution_count": null,
      "metadata": {
        "id": "mnPXe9wBLUuM"
      },
      "outputs": [],
      "source": [
        " # DO NOT run this code!!\n",
        "# nn layers\n",
        "linear1 = torch.nn.Linear(784, 32, bias=True)   # torch는 원래 가지고 있는거야? PyTorch(딥러닝 프레임워크)에서 제공하는 모듈. linear: fully connected layer\n",
        "linear2 = torch.nn.Linear(32, 32, bias=True)\n",
        "linear3 = torch.nn.Linear(32, 10, bias=True)\n",
        "\n",
        "relu = torch.nn.ReLU()\n",
        "bn1 = torch.nn.BatchNorm1d(32) # Batch Normalization for 1D data\n",
        "bn2 = torch.nn.BatchNorm1d(32)\n",
        "\n",
        "nn_linear1 = torch.nn.Linear(784, 32, bias=True)\n",
        "nn_linear2 = torch.nn.Linear(32, 32, bias=True)\n",
        "nn_linear3 = torch.nn.Linear(32, 10, bias=True)\n",
        "\n",
        "\n",
        "# model\n",
        "# torch.nn.Seqeuntial is kind of a \"stack\" operation of layers\n",
        "# We usually apply ReLU after the BN, but it's not a must!\n",
        "bn_model = torch.nn.Sequential(linear1, bn1, relu,\n",
        "                              linear2, bn2, relu,\n",
        "                              linear3).to(device)    # device가 뭔데? gpu??\n",
        "\n",
        "# Model w.o. BN\n",
        "# Linear + ReLU is a convention\n",
        "nn_model = torch.nn.Sequential(nn_linear1, relu,\n",
        "                               nn_linear2, relu,\n",
        "                               nn_linear3).to(device)"
      ]
    },
    {
      "cell_type": "code",
      "source": [
        "# If not using torch.nn.Sequential, you can use class module!\n",
        "\n",
        "import torch.nn as nn\n",
        "\n",
        "class Model(nn.Module):\n",
        "    def __init__(self):\n",
        "        super(Model, self).__init__()\n",
        "        # in __init__, initialize the layers you'd like to use\n",
        "        self.fc1 = nn.Linear(100, 50)\n",
        "        self.bn = nn.BatchNorm1d(num_features=50)\n",
        "        self.relu = nn.ReLU()\n",
        "        self.fc2 = nn.Linear(50, 10)\n",
        "\n",
        "    def forward(self, x):\n",
        "        # in forward, place the layers sequentially\n",
        "        x = self.fc1(x)\n",
        "        x = self.bn(x)\n",
        "        x = self.relu(x)\n",
        "        x = self.fc2(x)\n",
        "        return x"
      ],
      "metadata": {
        "id": "1OkKgY3PO5mv"
      },
      "execution_count": null,
      "outputs": []
    },
    {
      "cell_type": "code",
      "source": [
        "# BN 1D\n",
        "m = nn.BatchNorm1d(100)   # 채널 100개\n",
        "input = torch.randn(20, 100)  # 20x100 사이즈\n",
        "output = m(input)  # 100개짜리를 따로따로 20번 정규화 하는 거?\n",
        "\n",
        "# BN 2D\n",
        "# So far, we've only used BN 1D\n",
        "# But what's BN 2D??\n",
        "m = nn.BatchNorm2d(100)\n",
        "input = torch.randn(20, 100, 35, 45)  # 20x100x35x45 사이즈\n",
        "output = m(input)\n",
        "# torch를 import한 적이 없으니 에러 뜨는게 당연.\n"
      ],
      "metadata": {
        "colab": {
          "base_uri": "https://localhost:8080/",
          "height": 219
        },
        "id": "xyn1KPGEPjSl",
        "outputId": "7ee2af66-cda1-4a44-9dc6-4bd78d31de42"
      },
      "execution_count": null,
      "outputs": [
        {
          "output_type": "error",
          "ename": "NameError",
          "evalue": "name 'torch' is not defined",
          "traceback": [
            "\u001b[0;31m---------------------------------------------------------------------------\u001b[0m",
            "\u001b[0;31mNameError\u001b[0m                                 Traceback (most recent call last)",
            "\u001b[0;32m<ipython-input-2-38489edff501>\u001b[0m in \u001b[0;36m<cell line: 3>\u001b[0;34m()\u001b[0m\n\u001b[1;32m      1\u001b[0m \u001b[0;31m# BN 1D\u001b[0m\u001b[0;34m\u001b[0m\u001b[0;34m\u001b[0m\u001b[0m\n\u001b[1;32m      2\u001b[0m \u001b[0mm\u001b[0m \u001b[0;34m=\u001b[0m \u001b[0mnn\u001b[0m\u001b[0;34m.\u001b[0m\u001b[0mBatchNorm1d\u001b[0m\u001b[0;34m(\u001b[0m\u001b[0;36m100\u001b[0m\u001b[0;34m)\u001b[0m\u001b[0;34m\u001b[0m\u001b[0;34m\u001b[0m\u001b[0m\n\u001b[0;32m----> 3\u001b[0;31m \u001b[0minput\u001b[0m \u001b[0;34m=\u001b[0m \u001b[0mtorch\u001b[0m\u001b[0;34m.\u001b[0m\u001b[0mrandn\u001b[0m\u001b[0;34m(\u001b[0m\u001b[0;36m20\u001b[0m\u001b[0;34m,\u001b[0m \u001b[0;36m100\u001b[0m\u001b[0;34m)\u001b[0m\u001b[0;34m\u001b[0m\u001b[0;34m\u001b[0m\u001b[0m\n\u001b[0m\u001b[1;32m      4\u001b[0m \u001b[0moutput\u001b[0m \u001b[0;34m=\u001b[0m \u001b[0mm\u001b[0m\u001b[0;34m(\u001b[0m\u001b[0minput\u001b[0m\u001b[0;34m)\u001b[0m\u001b[0;34m\u001b[0m\u001b[0;34m\u001b[0m\u001b[0m\n\u001b[1;32m      5\u001b[0m \u001b[0;34m\u001b[0m\u001b[0m\n",
            "\u001b[0;31mNameError\u001b[0m: name 'torch' is not defined"
          ]
        }
      ]
    },
    {
      "cell_type": "markdown",
      "source": [
        "배치 노말라이제이션을 1차원, 2차원으로 하는 것."
      ],
      "metadata": {
        "id": "rcLEjZQlfzSg"
      }
    },
    {
      "cell_type": "code",
      "source": [
        "import torch\n",
        "import torch.nn as nn\n",
        "import torch.nn.init as init"
      ],
      "metadata": {
        "id": "OzwCi05IPkoR"
      },
      "execution_count": null,
      "outputs": []
    },
    {
      "cell_type": "markdown",
      "source": [
        "# Quick Question\n",
        "# Read the document above and write (what? )a line-by-line\n",
        "# explanation of the code below."
      ],
      "metadata": {
        "id": "4EnanL-Y8leC"
      }
    },
    {
      "cell_type": "code",
      "source": [
        "class CNN(nn.Module):\n",
        "    def __init__(self):\n",
        "        super(CNN, self).__init__()\n",
        "        self.layer = nn.Sequential(\n",
        "            nn.Conv2d(1, 16, 3, padding=1),  # 입력 채널 1, 출력 채널 16, 커널 크기 3x3, 패딩 1 (28 x 28)\n",
        "            nn.ReLU(),                        # ReLU 활성화 함수\n",
        "            nn.Conv2d(16, 32, 3, padding=1),  # 입력 채널 16, 출력 채널 32, 커널 크기 3x3, 패딩 1 (28 x 28)\n",
        "            nn.ReLU(),                        # ReLU 활성화 함수\n",
        "            nn.MaxPool2d(2, 2),               # 2x2 최대 풀링 (14 x 14)\n",
        "            nn.Conv2d(32, 64, 3, padding=1),  # 입력 채널 32, 출력 채널 64, 커널 크기 3x3, 패딩 1 (14 x 14)\n",
        "            nn.ReLU(),                        # ReLU 활성화 함수\n",
        "            nn.MaxPool2d(2, 2)                # 2x2 최대 풀링 (7 x 7)\n",
        "        )\n",
        "        self.fc_layer = nn.Sequential(\n",
        "            nn.Linear(64 * 7 * 7, 100),       # 입력 피처 수 64*7*7, 출력 피처 수 100\n",
        "            nn.ReLU(),                        # ReLU 활성화 함수\n",
        "            nn.Linear(100, 10)                # 입력 피처 수 100, 출력 피처 수 10 (클래스 수)\n",
        "        )\n",
        "\n",
        "        # 가중치 초기화\n",
        "        self._initialize_weights()\n",
        "\n",
        "    def _initialize_weights(self):\n",
        "        for m in self.modules():\n",
        "            if isinstance(m, nn.Conv2d):\n",
        "                init.kaiming_normal_(m.weight.data) # Conv2d 가중치를 Kaiming He 초기화\n",
        "                m.bias.data.fill_(0)               # 편향을 0으로 초기화\n",
        "            elif isinstance(m, nn.Linear):\n",
        "                init.kaiming_normal_(m.weight.data) # Linear 가중치를 Kaiming He 초기화\n",
        "                m.bias.data.fill_(0)               # 편향을 0으로 초기화\n",
        "\n",
        "    def forward(self, x):\n",
        "        out = self.layer(x)                 # 합성곱 계층을 통과\n",
        "        out = out.view(out.size(0), -1)     # 출력을 평탄화 (배치 크기를 유지)\n",
        "        out = self.fc_layer(out)            # 완전 연결 계층을 통과\n",
        "        return out"
      ],
      "metadata": {
        "id": "Hz_qBWrngHN7",
        "colab": {
          "base_uri": "https://localhost:8080/",
          "height": 219
        },
        "outputId": "eb082177-472c-4809-e32c-aec88884c151"
      },
      "execution_count": 5,
      "outputs": [
        {
          "output_type": "error",
          "ename": "NameError",
          "evalue": "name 'nn' is not defined",
          "traceback": [
            "\u001b[0;31m---------------------------------------------------------------------------\u001b[0m",
            "\u001b[0;31mNameError\u001b[0m                                 Traceback (most recent call last)",
            "\u001b[0;32m<ipython-input-5-faab18c1b9fe>\u001b[0m in \u001b[0;36m<cell line: 1>\u001b[0;34m()\u001b[0m\n\u001b[0;32m----> 1\u001b[0;31m \u001b[0;32mclass\u001b[0m \u001b[0mCNN\u001b[0m\u001b[0;34m(\u001b[0m\u001b[0mnn\u001b[0m\u001b[0;34m.\u001b[0m\u001b[0mModule\u001b[0m\u001b[0;34m)\u001b[0m\u001b[0;34m:\u001b[0m\u001b[0;34m\u001b[0m\u001b[0;34m\u001b[0m\u001b[0m\n\u001b[0m\u001b[1;32m      2\u001b[0m     \u001b[0;32mdef\u001b[0m \u001b[0m__init__\u001b[0m\u001b[0;34m(\u001b[0m\u001b[0mself\u001b[0m\u001b[0;34m)\u001b[0m\u001b[0;34m:\u001b[0m\u001b[0;34m\u001b[0m\u001b[0;34m\u001b[0m\u001b[0m\n\u001b[1;32m      3\u001b[0m         \u001b[0msuper\u001b[0m\u001b[0;34m(\u001b[0m\u001b[0mCNN\u001b[0m\u001b[0;34m,\u001b[0m \u001b[0mself\u001b[0m\u001b[0;34m)\u001b[0m\u001b[0;34m.\u001b[0m\u001b[0m__init__\u001b[0m\u001b[0;34m(\u001b[0m\u001b[0;34m)\u001b[0m\u001b[0;34m\u001b[0m\u001b[0;34m\u001b[0m\u001b[0m\n\u001b[1;32m      4\u001b[0m         self.layer = nn.Sequential(\n\u001b[1;32m      5\u001b[0m             \u001b[0mnn\u001b[0m\u001b[0;34m.\u001b[0m\u001b[0mConv2d\u001b[0m\u001b[0;34m(\u001b[0m\u001b[0;36m1\u001b[0m\u001b[0;34m,\u001b[0m \u001b[0;36m16\u001b[0m\u001b[0;34m,\u001b[0m \u001b[0;36m3\u001b[0m\u001b[0;34m,\u001b[0m \u001b[0mpadding\u001b[0m\u001b[0;34m=\u001b[0m\u001b[0;36m1\u001b[0m\u001b[0;34m)\u001b[0m\u001b[0;34m,\u001b[0m  \u001b[0;31m# 입력 채널 1, 출력 채널 16, 커널 크기 3x3, 패딩 1 (28 x 28)\u001b[0m\u001b[0;34m\u001b[0m\u001b[0;34m\u001b[0m\u001b[0m\n",
            "\u001b[0;31mNameError\u001b[0m: name 'nn' is not defined"
          ]
        }
      ]
    },
    {
      "cell_type": "code",
      "source": [
        "import tensorflow as tf    # 텐서플로: 머신러닝 오픈소스 라이브러\n",
        "import random\n",
        "import numpy as np\n",
        "import matplotlib.pyplot as plt  # 그래프 그리는 객체\n",
        "\n",
        "# sigmoid\n",
        "def sigmoid(x):\n",
        "    return 1 / (1 + np.exp(-x))\n",
        "\n",
        "# ReLU\n",
        "def ReLU(x):\n",
        "    return np.maximum(0, x)\n",
        "\n",
        "# tanh\n",
        "def tanh(x):\n",
        "    return np.tanh(x)        # activation func 다 정의해두고\n",
        "\n",
        "def weight_init(method=None):      # weight init 함수도 정의\n",
        "    w = 0\n",
        "    if method == 'large':\n",
        "        w = np.random.randn(node_num, node_num) * 1\n",
        "    elif method == 'small':\n",
        "        w = np.random.randn(node_num, node_num) * 0.01\n",
        "    elif method == 'xavier':\n",
        "        w = np.random.randn(node_num, node_num) * np.sqrt(1.0 / node_num)  # Xavier init\n",
        "    elif method == 'he':\n",
        "        w = np.random.randn(node_num, node_num) * np.sqrt(2.0 / node_num)  # He init\n",
        "\n",
        "    return w"
      ],
      "metadata": {
        "id": "nFSdWvfKg2H8"
      },
      "execution_count": 6,
      "outputs": []
    },
    {
      "cell_type": "code",
      "source": [
        "input_data = np.random.randn(1000, 100)   # rand: 0~1 균일 분포 / randn: m=0, sigma = 1 (Gausian) 표준정규분포\n",
        "node_num = 100   # 100*100 randn\n",
        "hidden_layer_size = 5\n",
        "activations = {}\n",
        "\n",
        "x = input_data    # x = [1000, 100 size random number]\n",
        "\n",
        "for i in range(hidden_layer_size):\n",
        "    if i != 0:\n",
        "        x = activations[i-1]    # ??? 이럴거면 x는 인풋데이터로 왜 설정한건데?\n",
        "        # -> 아 이것도 a에 썼네\n",
        "        # 그리고 이러면 없는 키를 검색해서 에러날 것 같은데..\n",
        "        # -> 뭐야 왜 잘 돌아가지?\n",
        "        # -> 옹 키를 채워 넣었네\n",
        "        # -> 아아 이렇게 layer를 쌓아나간다고~~\n",
        "\n",
        "    w = weight_init('small')    # 함수 호출할 때마다 새로운 w\n",
        "    a = np.dot(x, w) # dot product\n",
        "    # [1000, 100]*[100, 100]\n",
        "\n",
        "    # z = sigmoid(a)\n",
        "    # z = ReLU(a)\n",
        "    z = tanh(a)\n",
        "\n",
        "    activations[i] = z\n",
        "    # 근데 각 층에서 사용된 w가 어딘가에 저장되어있어야 그걸 업데이트 하는 거 아니야?\n",
        "    # 활성화함수까지 다 씌운 걸 일일이 저장해둬서 뭐해? 다음 레이어에서만 쓰고 버리면 되는 거 아니야?(역으로 찾앗 쓰긴 번거롭잖아\n",
        "\n",
        "for i, a in activations.items():   # a: 1000*100\n",
        "    plt.subplot(1, len(activations), i+1)   # subplot: 서브플롯을 하나씩 생성. 1*5사이즈를 i+1번째에 생성\n",
        "    plt.title(str(i+1) + \"-layer\")\n",
        "    if i != 0: plt.yticks([], [])\n",
        "#     plt.xlim(0.1, 1)\n",
        "    plt.ylim(0, 8000)\n",
        "    plt.hist(a.flatten(), 30, range=(-1,1)) # 히스토그램\n",
        "plt.show()"
      ],
      "metadata": {
        "colab": {
          "base_uri": "https://localhost:8080/",
          "height": 452
        },
        "id": "Neqw-MWkDy84",
        "outputId": "c4520475-a921-4613-fdf1-01622eadaece"
      },
      "execution_count": 8,
      "outputs": [
        {
          "output_type": "display_data",
          "data": {
            "text/plain": [
              "<Figure size 640x480 with 5 Axes>"
            ],
            "image/png": "[encoded data removed]"
          },
          "metadata": {}
        }
      ]
    },
    {
      "cell_type": "code",
      "source": [
        "len(activations)"
      ],
      "metadata": {
        "colab": {
          "base_uri": "https://localhost:8080/"
        },
        "id": "gwpHAH6HU_rS",
        "outputId": "9f1b8e16-7e83-4c7e-ec83-21411c80466d"
      },
      "execution_count": null,
      "outputs": [
        {
          "output_type": "execute_result",
          "data": {
            "text/plain": [
              "5"
            ]
          },
          "metadata": {},
          "execution_count": 15
        }
      ]
    },
    {
      "cell_type": "code",
      "source": [
        "for i in range(hidden_layer_size):\n",
        "    if i != 0:\n",
        "        x = activations[i-1]\n",
        "\n",
        "    w = weight_init('large')\n",
        "    a = np.dot(x, w)\n",
        "\n",
        "    # z = sigmoid(a)\n",
        "    # z = ReLU(a)\n",
        "    z = tanh(a)\n",
        "\n",
        "    activations[i] = z\n",
        "\n",
        "for i, a in activations.items():\n",
        "    plt.subplot(1, len(activations), i+1)\n",
        "    plt.title(str(i+1) + \"-layer\")\n",
        "    if i != 0: plt.yticks([], [])\n",
        "#     plt.xlim(0.1, 1)\n",
        "    plt.ylim(0, 7000)\n",
        "    plt.hist(a.flatten(), 30, range=(-1,1))\n",
        "plt.show()"
      ],
      "metadata": {
        "id": "lzM80WP3E51b",
        "colab": {
          "base_uri": "https://localhost:8080/",
          "height": 452
        },
        "outputId": "eb6dfa75-83fe-4ec0-cf39-de49d9776899"
      },
      "execution_count": 9,
      "outputs": [
        {
          "output_type": "display_data",
          "data": {
            "text/plain": [
              "<Figure size 640x480 with 5 Axes>"
            ],
            "image/png": "[encoded data removed]"
          },
          "metadata": {}
        }
      ]
    },
    {
      "cell_type": "code",
      "source": [
        "# Xavier Initialization\n",
        "input_data = np.random.randn(1000, 100)\n",
        "node_num = 100\n",
        "hidden_layer_size = 5\n",
        "activations = {}\n",
        "\n",
        "x = input_data\n",
        "\n",
        "for i in range(hidden_layer_size):\n",
        "    if i != 0:\n",
        "        x = activations[i-1]\n",
        "\n",
        "    w = weight_init('xavier')\n",
        "    a = np.dot(x, w)\n",
        "\n",
        "    # z = sigmoid(a)\n",
        "    # z = ReLU(a)\n",
        "    z = tanh(a)\n",
        "\n",
        "    activations[i] = z\n",
        "\n",
        "for i, a in activations.items():\n",
        "    plt.subplot(1, len(activations), i+1)\n",
        "    plt.title(str(i+1) + \"-layer\")\n",
        "    if i != 0: plt.yticks([], [])\n",
        "#     plt.xlim(0.1, 1)\n",
        "    plt.ylim(0, 7000)\n",
        "    plt.hist(a.flatten(), 30, range=(-1,1))\n",
        "plt.show()"
      ],
      "metadata": {
        "id": "iv4fqgDjE-W3"
      },
      "execution_count": null,
      "outputs": []
    },
    {
      "cell_type": "code",
      "source": [
        "# He Initialization\n",
        "input_data = np.random.randn(1000, 100)\n",
        "node_num = 100\n",
        "hidden_layer_size = 5\n",
        "activations = {}\n",
        "\n",
        "x = input_data\n",
        "\n",
        "for i in range(hidden_layer_size):\n",
        "    if i != 0:\n",
        "        x = activations[i-1]\n",
        "\n",
        "    w = weight_init('xavier')\n",
        "    a = np.dot(x, w)\n",
        "\n",
        "    # z = sigmoid(a)\n",
        "    z = ReLU(a)\n",
        "    # z = tanh(a)\n",
        "\n",
        "    activations[i] = z\n",
        "\n",
        "for i, a in activations.items():\n",
        "    plt.subplot(1, len(activations), i+1)\n",
        "    plt.title(str(i+1) + \"-layer\")\n",
        "    if i != 0: plt.yticks([], [])\n",
        "#     plt.xlim(0.1, 1)\n",
        "    plt.ylim(0, 7000)\n",
        "    plt.hist(a.flatten(), 30, range=(0,1))\n",
        "plt.show()"
      ],
      "metadata": {
        "id": "U7aHFcZ6FCuY"
      },
      "execution_count": null,
      "outputs": []
    },
    {
      "cell_type": "code",
      "source": [
        "# Question\n",
        "# Run two cells below and try to explain the\n",
        "# change of tensor size after passing through the layers\n",
        "# e.g.) Conv1: [10, 1, 20, 20] -> [10, 3, 16, 16], because --"
      ],
      "metadata": {
        "id": "sUFoBSU7wo9F"
      },
      "execution_count": null,
      "outputs": []
    },
    {
      "cell_type": "code",
      "source": [
        "import torch\n",
        "import torch.nn as nn      # torch.nn: pytorch의 모듈(클래스).\n",
        "import torch.nn.functional as F\n",
        "\n",
        "class CNN(nn.Module):    # nn.Module의 자식 클래스\n",
        "  def __init__(self):\n",
        "    super(CNN, self).__init__()   # 조상 클래스 인스턴스 불러오기\n",
        "    self.conv1 = nn.Conv2d(in_channels=1, out_channels=3, kernel_size=5, stride=1)\n",
        "    self.conv2 = nn.Conv2d(in_channels=3, out_channels=10, kernel_size=5, stride=1)\n",
        "    self.fc1 = nn.Linear(10 * 12 * 12, 50)\n",
        "    self.fc2 = nn.Linear(50, 10)\n",
        "\n",
        "  def forward(self, x):\n",
        "    print(\"Before\", x.size())\n",
        "    x = F.relu(self.conv1(x))\n",
        "    print(\"After conv1\", x.size())\n",
        "    x = F.relu(self.conv2(x))\n",
        "    print(\"After conv2\",x.size())\n",
        "    x = x.view(-1, 10 * 12 * 12)\n",
        "    print(\"After dimension reduction\", x.size())\n",
        "    x = F.relu(self.fc1(x))\n",
        "    print(\"After fc1\", x.size())\n",
        "    x = self.fc2(x)\n",
        "    print(\"After fc2\", x.size())\n",
        "    return x\n",
        "\n",
        "cnn = CNN()\n",
        "output = cnn(torch.randn(10, 1, 20, 20))  # Input Size: (10, 1, 20, 20)"
      ],
      "metadata": {
        "colab": {
          "base_uri": "https://localhost:8080/"
        },
        "id": "i2BdKxuMwr3Z",
        "outputId": "01ed40b7-04ba-469d-f419-aa68a173db75"
      },
      "execution_count": 10,
      "outputs": [
        {
          "output_type": "stream",
          "name": "stdout",
          "text": [
            "Before torch.Size([10, 1, 20, 20])\n",
            "After conv1 torch.Size([10, 3, 16, 16])\n",
            "After conv2 torch.Size([10, 10, 12, 12])\n",
            "After dimension reduction torch.Size([10, 1440])\n",
            "After fc1 torch.Size([10, 50])\n",
            "After fc2 torch.Size([10, 10])\n"
          ]
        }
      ]
    },
    {
      "cell_type": "markdown",
      "source": [
        "커널사이즈 5니까 양쪽에 2씩 빠져서 20 ->16"
      ],
      "metadata": {
        "id": "e_pl2uePfI1D"
      }
    },
    {
      "cell_type": "code",
      "source": [
        "import torch\n",
        "import torch.nn as nn\n",
        "import torch.nn.functional as F\n",
        "\n",
        "class CNN(nn.Module):\n",
        "  def __init__(self):\n",
        "    super(CNN, self).__init__()\n",
        "    self.max_pool1 = nn.MaxPool2d(kernel_size=2)\n",
        "    self.max_pool2 = nn.MaxPool2d(kernel_size=2)\n",
        "    self.fc1 = nn.Linear(10 * 5 * 5, 50)\n",
        "    self.fc2 = nn.Linear(50, 10)\n",
        "\n",
        "  def forward(self, x):\n",
        "    print(\"Before\", x.size())\n",
        "    x = F.relu(self.max_pool1(x))\n",
        "    print(\"After max_pool1\", x.size())\n",
        "    x = F.relu(self.max_pool2(x))\n",
        "    print(\"After max_pool2\",x.size())\n",
        "    x = x.view(-1, 10 * 5 * 5)\n",
        "    print(\"After dimension reduction\", x.size())\n",
        "    x = F.relu(self.fc1(x))\n",
        "    print(\"After fc1\", x.size())\n",
        "    x = self.fc2(x)\n",
        "    print(\"After fc2\", x.size())\n",
        "    return x\n",
        "\n",
        "cnn = CNN()\n",
        "output = cnn(torch.randn(10, 1, 20, 20))"
      ],
      "metadata": {
        "colab": {
          "base_uri": "https://localhost:8080/"
        },
        "id": "B4-IxEH9wyez",
        "outputId": "9aec88fa-d197-4aa4-8115-ae8105dcc409"
      },
      "execution_count": 11,
      "outputs": [
        {
          "output_type": "stream",
          "name": "stdout",
          "text": [
            "Before torch.Size([10, 1, 20, 20])\n",
            "After max_pool1 torch.Size([10, 1, 10, 10])\n",
            "After max_pool2 torch.Size([10, 1, 5, 5])\n",
            "After dimension reduction torch.Size([1, 250])\n",
            "After fc1 torch.Size([1, 50])\n",
            "After fc2 torch.Size([1, 10])\n"
          ]
        }
      ]
    },
    {
      "cell_type": "markdown",
      "source": [
        "2짜리로 맥스풀링 하니까 절반"
      ],
      "metadata": {
        "id": "JKa20CtBgrEX"
      }
    },
    {
      "cell_type": "code",
      "source": [
        "import torch\n",
        "import torch.nn as nn\n",
        "import torch.nn.functional as F\n",
        "import torch.optim as optim\n",
        "from torchvision import datasets, transforms\n",
        ""
      ],
      "metadata": {
        "id": "37HbEDBwgqyi"
      },
      "execution_count": 3,
      "outputs": []
    },
    {
      "cell_type": "code",
      "source": [
        "train_data = datasets.MNIST('./data/', train=True, download=True, transform=transforms.Compose([\n",
        "        transforms.ToTensor(),\n",
        "        transforms.Normalize((0.1307,), (0.3081,))    # 평균, 표준편차  가.... 왜 저걸로 정규화 한 건데?\n",
        "    ]))\n",
        "train_loader = torch.utils.data.DataLoader(dataset=train_data, batch_size=50, shuffle=True)\n",
        "\n",
        "test_data = datasets.MNIST('./data/', train=False, transform=transforms.Compose([\n",
        "        transforms.ToTensor(),\n",
        "        transforms.Normalize((0.1307,), (0.3081,))\n",
        "    ]))\n",
        "test_loader = torch.utils.data.DataLoader(dataset=test_data, batch_size=50, shuffle=True)"
      ],
      "metadata": {
        "colab": {
          "base_uri": "https://localhost:8080/"
        },
        "id": "KML1bM_3hAL7",
        "outputId": "ff3527f0-04db-4912-f642-5edc52ff6f11"
      },
      "execution_count": 4,
      "outputs": [
        {
          "output_type": "stream",
          "name": "stdout",
          "text": [
            "Downloading http://yann.lecun.com/exdb/mnist/train-images-idx3-ubyte.gz\n",
            "Failed to download (trying next):\n",
            "HTTP Error 403: Forbidden\n",
            "\n",
            "Downloading https://ossci-datasets.s3.amazonaws.com/mnist/train-images-idx3-ubyte.gz\n",
            "Downloading https://ossci-datasets.s3.amazonaws.com/mnist/train-images-idx3-ubyte.gz to ./data/MNIST/raw/train-images-idx3-ubyte.gz\n"
          ]
        },
        {
          "output_type": "stream",
          "name": "stderr",
          "text": [
            "100%|██████████| 9912422/9912422 [00:00<00:00, 19194341.40it/s]\n"
          ]
        },
        {
          "output_type": "stream",
          "name": "stdout",
          "text": [
            "Extracting ./data/MNIST/raw/train-images-idx3-ubyte.gz to ./data/MNIST/raw\n",
            "\n",
            "Downloading http://yann.lecun.com/exdb/mnist/train-labels-idx1-ubyte.gz\n",
            "Failed to download (trying next):\n",
            "HTTP Error 403: Forbidden\n",
            "\n",
            "Downloading https://ossci-datasets.s3.amazonaws.com/mnist/train-labels-idx1-ubyte.gz\n",
            "Downloading https://ossci-datasets.s3.amazonaws.com/mnist/train-labels-idx1-ubyte.gz to ./data/MNIST/raw/train-labels-idx1-ubyte.gz\n"
          ]
        },
        {
          "output_type": "stream",
          "name": "stderr",
          "text": [
            "100%|██████████| 28881/28881 [00:00<00:00, 612269.55it/s]\n"
          ]
        },
        {
          "output_type": "stream",
          "name": "stdout",
          "text": [
            "Extracting ./data/MNIST/raw/train-labels-idx1-ubyte.gz to ./data/MNIST/raw\n",
            "\n",
            "Downloading http://yann.lecun.com/exdb/mnist/t10k-images-idx3-ubyte.gz\n",
            "Failed to download (trying next):\n",
            "HTTP Error 403: Forbidden\n",
            "\n",
            "Downloading https://ossci-datasets.s3.amazonaws.com/mnist/t10k-images-idx3-ubyte.gz\n",
            "Downloading https://ossci-datasets.s3.amazonaws.com/mnist/t10k-images-idx3-ubyte.gz to ./data/MNIST/raw/t10k-images-idx3-ubyte.gz\n"
          ]
        },
        {
          "output_type": "stream",
          "name": "stderr",
          "text": [
            "100%|██████████| 1648877/1648877 [00:01<00:00, 1192501.37it/s]\n"
          ]
        },
        {
          "output_type": "stream",
          "name": "stdout",
          "text": [
            "Extracting ./data/MNIST/raw/t10k-images-idx3-ubyte.gz to ./data/MNIST/raw\n",
            "\n",
            "Downloading http://yann.lecun.com/exdb/mnist/t10k-labels-idx1-ubyte.gz\n",
            "Failed to download (trying next):\n",
            "HTTP Error 403: Forbidden\n",
            "\n",
            "Downloading https://ossci-datasets.s3.amazonaws.com/mnist/t10k-labels-idx1-ubyte.gz\n",
            "Downloading https://ossci-datasets.s3.amazonaws.com/mnist/t10k-labels-idx1-ubyte.gz to ./data/MNIST/raw/t10k-labels-idx1-ubyte.gz\n"
          ]
        },
        {
          "output_type": "stream",
          "name": "stderr",
          "text": [
            "100%|██████████| 4542/4542 [00:00<00:00, 1120158.10it/s]"
          ]
        },
        {
          "output_type": "stream",
          "name": "stdout",
          "text": [
            "Extracting ./data/MNIST/raw/t10k-labels-idx1-ubyte.gz to ./data/MNIST/raw\n",
            "\n"
          ]
        },
        {
          "output_type": "stream",
          "name": "stderr",
          "text": [
            "\n"
          ]
        }
      ]
    },
    {
      "cell_type": "code",
      "source": [
        "class CNN(nn.Module):\n",
        "    def __init__(self):\n",
        "        super(CNN, self).__init__()\n",
        "        self.conv1 = nn.Conv2d(in_channels=1, out_channels=20, kernel_size=5, stride=1)\n",
        "        self.conv2 = nn.Conv2d(in_channels=20, out_channels=50, kernel_size=5, stride=1)\n",
        "        self.fc1 = nn.Linear(4 * 4 * 50, 500)\n",
        "        self.fc2 = nn.Linear(500, 10)\n",
        "\n",
        "    def forward(self, x):\n",
        "        x = F.relu(self.conv1(x))\n",
        "        x = F.max_pool2d(x, kernel_size=2, stride=2)\n",
        "        x = F.relu(self.conv2(x))\n",
        "        x = F.max_pool2d(x, kernel_size=2, stride=2)\n",
        "\n",
        "        x = x.view(-1, 4 * 4 * 50) # [batch_size, 50, 4, 4]\n",
        "        x = F.relu(self.fc1(x))\n",
        "        x = self.fc2(x)\n",
        "        return x"
      ],
      "metadata": {
        "id": "cVG-v6ZyhCf4"
      },
      "execution_count": 5,
      "outputs": []
    },
    {
      "cell_type": "code",
      "source": [
        "cnn = CNN()\n",
        "criterion = torch.nn.CrossEntropyLoss()\n",
        "optimizer = optim.SGD(cnn.parameters(), lr=0.01)"
      ],
      "metadata": {
        "id": "kggth8HKtN0U"
      },
      "execution_count": 6,
      "outputs": []
    },
    {
      "cell_type": "code",
      "source": [
        "cnn.train()\n",
        "for epoch in range(10):\n",
        "  for index, (data, target) in enumerate(train_loader):\n",
        "    optimizer.zero_grad()\n",
        "    output = cnn(data)\n",
        "    loss = criterion(output, target)\n",
        "    loss.backward()\n",
        "    optimizer.step()\n",
        "\n",
        "    if index % 100 == 0:\n",
        "      print(\"loss of {} epoch, {} index : {}\".format(epoch, index, loss.item()))\n",
        ""
      ],
      "metadata": {
        "colab": {
          "base_uri": "https://localhost:8080/"
        },
        "id": "ESLjiEmRtUhm",
        "outputId": "0e810d55-5938-419d-dbe7-b6ebcd0c88d8"
      },
      "execution_count": 7,
      "outputs": [
        {
          "output_type": "stream",
          "name": "stdout",
          "text": [
            "loss of 0 epoch, 0 index : 2.3077847957611084\n",
            "loss of 0 epoch, 100 index : 1.439955234527588\n",
            "loss of 0 epoch, 200 index : 0.6279662847518921\n",
            "loss of 0 epoch, 300 index : 0.3631637692451477\n",
            "loss of 0 epoch, 400 index : 0.19133588671684265\n",
            "loss of 0 epoch, 500 index : 0.28032466769218445\n",
            "loss of 0 epoch, 600 index : 0.14942865073680878\n",
            "loss of 0 epoch, 700 index : 0.2687755227088928\n",
            "loss of 0 epoch, 800 index : 0.25085288286209106\n",
            "loss of 0 epoch, 900 index : 0.08343721181154251\n",
            "loss of 0 epoch, 1000 index : 0.22365829348564148\n",
            "loss of 0 epoch, 1100 index : 0.07322219014167786\n",
            "loss of 1 epoch, 0 index : 0.08291775733232498\n",
            "loss of 1 epoch, 100 index : 0.09948789328336716\n",
            "loss of 1 epoch, 200 index : 0.10730327665805817\n",
            "loss of 1 epoch, 300 index : 0.05861350893974304\n",
            "loss of 1 epoch, 400 index : 0.0862278863787651\n",
            "loss of 1 epoch, 500 index : 0.305087149143219\n",
            "loss of 1 epoch, 600 index : 0.14050336182117462\n",
            "loss of 1 epoch, 700 index : 0.055752772837877274\n",
            "loss of 1 epoch, 800 index : 0.08062625676393509\n",
            "loss of 1 epoch, 900 index : 0.07208748906850815\n",
            "loss of 1 epoch, 1000 index : 0.019337013363838196\n",
            "loss of 1 epoch, 1100 index : 0.2507297396659851\n",
            "loss of 2 epoch, 0 index : 0.08500735461711884\n",
            "loss of 2 epoch, 100 index : 0.07744225114583969\n",
            "loss of 2 epoch, 200 index : 0.029829366132616997\n",
            "loss of 2 epoch, 300 index : 0.05756699666380882\n",
            "loss of 2 epoch, 400 index : 0.08415746688842773\n",
            "loss of 2 epoch, 500 index : 0.23599910736083984\n",
            "loss of 2 epoch, 600 index : 0.05289842560887337\n",
            "loss of 2 epoch, 700 index : 0.08126378804445267\n",
            "loss of 2 epoch, 800 index : 0.010138257406651974\n",
            "loss of 2 epoch, 900 index : 0.11049655824899673\n",
            "loss of 2 epoch, 1000 index : 0.07082519680261612\n",
            "loss of 2 epoch, 1100 index : 0.029097946360707283\n",
            "loss of 3 epoch, 0 index : 0.015583978034555912\n",
            "loss of 3 epoch, 100 index : 0.08095172047615051\n",
            "loss of 3 epoch, 200 index : 0.024360110983252525\n",
            "loss of 3 epoch, 300 index : 0.015032663010060787\n",
            "loss of 3 epoch, 400 index : 0.09185466915369034\n",
            "loss of 3 epoch, 500 index : 0.04477918520569801\n",
            "loss of 3 epoch, 600 index : 0.09915920346975327\n",
            "loss of 3 epoch, 700 index : 0.035737041383981705\n",
            "loss of 3 epoch, 800 index : 0.052502404898405075\n",
            "loss of 3 epoch, 900 index : 0.03947381675243378\n",
            "loss of 3 epoch, 1000 index : 0.01878570020198822\n",
            "loss of 3 epoch, 1100 index : 0.1173507571220398\n",
            "loss of 4 epoch, 0 index : 0.03271426260471344\n",
            "loss of 4 epoch, 100 index : 0.03315173089504242\n",
            "loss of 4 epoch, 200 index : 0.08925333619117737\n",
            "loss of 4 epoch, 300 index : 0.2655066251754761\n",
            "loss of 4 epoch, 400 index : 0.02763151377439499\n",
            "loss of 4 epoch, 500 index : 0.02748749405145645\n",
            "loss of 4 epoch, 600 index : 0.009307224303483963\n",
            "loss of 4 epoch, 700 index : 0.023066433146595955\n",
            "loss of 4 epoch, 800 index : 0.006373295560479164\n",
            "loss of 4 epoch, 900 index : 0.06688187271356583\n",
            "loss of 4 epoch, 1000 index : 0.05168865993618965\n",
            "loss of 4 epoch, 1100 index : 0.019638249650597572\n",
            "loss of 5 epoch, 0 index : 0.05896717682480812\n",
            "loss of 5 epoch, 100 index : 0.03499962016940117\n",
            "loss of 5 epoch, 200 index : 0.05411853641271591\n",
            "loss of 5 epoch, 300 index : 0.2282637059688568\n",
            "loss of 5 epoch, 400 index : 0.0899064838886261\n",
            "loss of 5 epoch, 500 index : 0.04004068672657013\n",
            "loss of 5 epoch, 600 index : 0.003830311819911003\n",
            "loss of 5 epoch, 700 index : 0.06173442676663399\n",
            "loss of 5 epoch, 800 index : 0.03220521658658981\n",
            "loss of 5 epoch, 900 index : 0.005339531227946281\n",
            "loss of 5 epoch, 1000 index : 0.053636327385902405\n",
            "loss of 5 epoch, 1100 index : 0.005668274592608213\n",
            "loss of 6 epoch, 0 index : 0.05402466654777527\n",
            "loss of 6 epoch, 100 index : 0.03727983683347702\n",
            "loss of 6 epoch, 200 index : 0.05554748699069023\n",
            "loss of 6 epoch, 300 index : 0.034195054322481155\n",
            "loss of 6 epoch, 400 index : 0.006035757716745138\n",
            "loss of 6 epoch, 500 index : 0.004977239761501551\n",
            "loss of 6 epoch, 600 index : 0.005643648095428944\n",
            "loss of 6 epoch, 700 index : 0.012598237954080105\n",
            "loss of 6 epoch, 800 index : 0.04621238261461258\n",
            "loss of 6 epoch, 900 index : 0.010667260736227036\n",
            "loss of 6 epoch, 1000 index : 0.032037097960710526\n",
            "loss of 6 epoch, 1100 index : 0.042333878576755524\n",
            "loss of 7 epoch, 0 index : 0.03028438612818718\n",
            "loss of 7 epoch, 100 index : 0.038984645158052444\n",
            "loss of 7 epoch, 200 index : 0.08231230080127716\n",
            "loss of 7 epoch, 300 index : 0.028402671217918396\n",
            "loss of 7 epoch, 400 index : 0.07487540692090988\n",
            "loss of 7 epoch, 500 index : 0.13886426389217377\n",
            "loss of 7 epoch, 600 index : 0.012457473203539848\n",
            "loss of 7 epoch, 700 index : 0.06759113818407059\n",
            "loss of 7 epoch, 800 index : 0.13198105990886688\n",
            "loss of 7 epoch, 900 index : 0.1714332401752472\n",
            "loss of 7 epoch, 1000 index : 0.11839920282363892\n",
            "loss of 7 epoch, 1100 index : 0.020414836704730988\n",
            "loss of 8 epoch, 0 index : 0.04902545362710953\n",
            "loss of 8 epoch, 100 index : 0.0067412108182907104\n",
            "loss of 8 epoch, 200 index : 0.12713590264320374\n",
            "loss of 8 epoch, 300 index : 0.011349822394549847\n",
            "loss of 8 epoch, 400 index : 0.005190510302782059\n",
            "loss of 8 epoch, 500 index : 0.0724620595574379\n",
            "loss of 8 epoch, 600 index : 0.00468957144767046\n",
            "loss of 8 epoch, 700 index : 0.03454561531543732\n",
            "loss of 8 epoch, 800 index : 0.25069084763526917\n",
            "loss of 8 epoch, 900 index : 0.012673820368945599\n",
            "loss of 8 epoch, 1000 index : 0.04078345745801926\n",
            "loss of 8 epoch, 1100 index : 0.049483977258205414\n",
            "loss of 9 epoch, 0 index : 0.037436675280332565\n",
            "loss of 9 epoch, 100 index : 0.04482783377170563\n",
            "loss of 9 epoch, 200 index : 0.05379722639918327\n",
            "loss of 9 epoch, 300 index : 0.01792166382074356\n",
            "loss of 9 epoch, 400 index : 0.012430218048393726\n",
            "loss of 9 epoch, 500 index : 0.03253050148487091\n",
            "loss of 9 epoch, 600 index : 0.06075950711965561\n",
            "loss of 9 epoch, 700 index : 0.007630477659404278\n",
            "loss of 9 epoch, 800 index : 0.001402555382810533\n",
            "loss of 9 epoch, 900 index : 0.02310815081000328\n",
            "loss of 9 epoch, 1000 index : 0.05066801980137825\n",
            "loss of 9 epoch, 1100 index : 0.03805521875619888\n"
          ]
        }
      ]
    },
    {
      "cell_type": "code",
      "source": [
        "# Quick Question\n",
        "# Write an explanation of the code below (evaluation cell only!)"
      ],
      "metadata": {
        "id": "gfK84-ONtac1"
      },
      "execution_count": null,
      "outputs": []
    },
    {
      "cell_type": "code",
      "source": [
        "cnn.eval()       # cnn의 모든 레이어를 eval 모드에 들어가게 해줌. 학습할 때 사용하는 것들(drop out, batch normal..)을 비활성화 함.\n",
        "test_loss = 0\n",
        "correct = 0\n",
        "with torch.no_grad():    # autograd engine을 끔.\n",
        "  for data, target in test_loader:\n",
        "    output = cnn(data)\n",
        "    test_loss += criterion(output, target).item()\n",
        "    pred = output.argmax(dim=1, keepdim=True)\n",
        "    correct += pred.eq(target.view_as(pred)).sum().item()\n",
        "print('\\nTest set: Average loss: {:.4f}, Accuracy: {}/{} ({:.0f}%)\\n'.format(\n",
        "        test_loss, correct, len(test_loader.dataset),\n",
        "        100. * correct / len(test_loader.dataset)))\n",
        ""
      ],
      "metadata": {
        "colab": {
          "base_uri": "https://localhost:8080/"
        },
        "id": "H-BlnHQZtdiQ",
        "outputId": "7165b050-64a2-4efe-c328-800f25698e6d"
      },
      "execution_count": 8,
      "outputs": [
        {
          "output_type": "stream",
          "name": "stdout",
          "text": [
            "\n",
            "Test set: Average loss: 6.2634, Accuracy: 9903/10000 (99%)\n",
            "\n"
          ]
        }
      ]
    }
  ]
}