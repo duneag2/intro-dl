{
  "cells": [
    {
      "cell_type": "markdown",
      "metadata": {
        "id": "YcXb0XLEvHns"
      },
      "source": [
        "# 2024 Winter Introduction to Deep Learning\n",
        "### Based on Prof. Oh's Youtube Lecture\n",
        "https://youtube.com/playlist?list=PLvbUC2Zh5oJvByu9KL82bswYT2IKf0K1M\n",
        "\n",
        "> Assignment #5\n",
        "\n",
        "\n",
        "*   Youtube Lecture #17-22\n",
        "*   Written by Seungeun Lee"
      ]
    },
    {
      "cell_type": "markdown",
      "metadata": {
        "id": "qM2kM5G7BYZr"
      },
      "source": [
        "## 1. Batch Normalization\n",
        "\n",
        "\n"
      ]
    },
    {
      "cell_type": "markdown",
      "metadata": {
        "id": "l-eq03krP21I"
      },
      "source": [
        "*    Reference. https://huangdi.tistory.com/m/9, https://wegonnamakeit.tistory.com/m/47, https://wikidocs.net/195419\n",
        "*    For https://huangdi.tistory.com/m/9, try to understand the need for Batch Normalization. (The code is not running properly due to the github issues)"
      ]
    },
    {
      "cell_type": "code",
      "execution_count": null,
      "metadata": {
        "colab": {
          "base_uri": "https://localhost:8080/",
          "height": 221
        },
        "id": "Q7_JWyTWKoyT",
        "outputId": "3b6dd377-b6a0-48c4-f04f-ecba084fa0e3"
      },
      "outputs": [
        {
          "ename": "NameError",
          "evalue": "name 'torch' is not defined",
          "output_type": "error",
          "traceback": [
            "\u001b[0;31m---------------------------------------------------------------------------\u001b[0m",
            "\u001b[0;31mNameError\u001b[0m                                 Traceback (most recent call last)",
            "\u001b[0;32m<ipython-input-4-de3a15dd2bf8>\u001b[0m in \u001b[0;36m<cell line: 3>\u001b[0;34m()\u001b[0m\n\u001b[1;32m      1\u001b[0m \u001b[0;31m# DO NOT run this code!!\u001b[0m\u001b[0;34m\u001b[0m\u001b[0;34m\u001b[0m\u001b[0m\n\u001b[1;32m      2\u001b[0m \u001b[0;31m# nn layers\u001b[0m\u001b[0;34m\u001b[0m\u001b[0;34m\u001b[0m\u001b[0m\n\u001b[0;32m----> 3\u001b[0;31m \u001b[0mlinear1\u001b[0m \u001b[0;34m=\u001b[0m \u001b[0mtorch\u001b[0m\u001b[0;34m.\u001b[0m\u001b[0mnn\u001b[0m\u001b[0;34m.\u001b[0m\u001b[0mLinear\u001b[0m\u001b[0;34m(\u001b[0m\u001b[0;36m784\u001b[0m\u001b[0;34m,\u001b[0m \u001b[0;36m32\u001b[0m\u001b[0;34m,\u001b[0m \u001b[0mbias\u001b[0m\u001b[0;34m=\u001b[0m\u001b[0;32mTrue\u001b[0m\u001b[0;34m)\u001b[0m\u001b[0;34m\u001b[0m\u001b[0;34m\u001b[0m\u001b[0m\n\u001b[0m\u001b[1;32m      4\u001b[0m \u001b[0mlinear2\u001b[0m \u001b[0;34m=\u001b[0m \u001b[0mtorch\u001b[0m\u001b[0;34m.\u001b[0m\u001b[0mnn\u001b[0m\u001b[0;34m.\u001b[0m\u001b[0mLinear\u001b[0m\u001b[0;34m(\u001b[0m\u001b[0;36m32\u001b[0m\u001b[0;34m,\u001b[0m \u001b[0;36m32\u001b[0m\u001b[0;34m,\u001b[0m \u001b[0mbias\u001b[0m\u001b[0;34m=\u001b[0m\u001b[0;32mTrue\u001b[0m\u001b[0;34m)\u001b[0m\u001b[0;34m\u001b[0m\u001b[0;34m\u001b[0m\u001b[0m\n\u001b[1;32m      5\u001b[0m \u001b[0mlinear3\u001b[0m \u001b[0;34m=\u001b[0m \u001b[0mtorch\u001b[0m\u001b[0;34m.\u001b[0m\u001b[0mnn\u001b[0m\u001b[0;34m.\u001b[0m\u001b[0mLinear\u001b[0m\u001b[0;34m(\u001b[0m\u001b[0;36m32\u001b[0m\u001b[0;34m,\u001b[0m \u001b[0;36m10\u001b[0m\u001b[0;34m,\u001b[0m \u001b[0mbias\u001b[0m\u001b[0;34m=\u001b[0m\u001b[0;32mTrue\u001b[0m\u001b[0;34m)\u001b[0m\u001b[0;34m\u001b[0m\u001b[0;34m\u001b[0m\u001b[0m\n",
            "\u001b[0;31mNameError\u001b[0m: name 'torch' is not defined"
          ]
        }
      ],
      "source": [
        " # DO NOT run this code!!\n",
        "# nn layers\n",
        "linear1 = torch.nn.Linear(784, 32, bias=True)\n",
        "linear2 = torch.nn.Linear(32, 32, bias=True)\n",
        "linear3 = torch.nn.Linear(32, 10, bias=True)\n",
        "\n",
        "relu = torch.nn.ReLU()\n",
        "bn1 = torch.nn.BatchNorm1d(32) # Batch Normalization for 1D data\n",
        "bn2 = torch.nn.BatchNorm1d(32)\n",
        "\n",
        "nn_linear1 = torch.nn.Linear(784, 32, bias=True)\n",
        "nn_linear2 = torch.nn.Linear(32, 32, bias=True)\n",
        "nn_linear3 = torch.nn.Linear(32, 10, bias=True)\n",
        "\n",
        "\n",
        "# model\n",
        "# torch.nn.Seqeuntial is kind of a \"stack\" operation of layers\n",
        "# We usually apply ReLU after the BN, but it's not a must!\n",
        "bn_model = torch.nn.Sequential(linear1, bn1, relu,\n",
        "                              linear2, bn2, relu,\n",
        "                              linear3).to(device)\n",
        "# Model w.o. BN\n",
        "# Linear + ReLU is a convention\n",
        "nn_model = torch.nn.Sequential(nn_linear1, relu,\n",
        "                               nn_linear2, relu,\n",
        "                               nn_linear3).to(device)"
      ]
    },
    {
      "cell_type": "code",
      "execution_count": 2,
      "metadata": {
        "id": "k6bdnbKmK-ZC"
      },
      "outputs": [],
      "source": [
        "# If not using torch.nn.Sequential, you can use class module!\n",
        "import torch\n",
        "import torch.nn as nn\n",
        "\n",
        "class Model(nn.Module):\n",
        "    def __init__(self):\n",
        "        super(Model, self).__init__()\n",
        "        # in __init__, initialize the layers you'd like to use\n",
        "        self.fc1 = nn.Linear(100, 50)\n",
        "        self.bn = nn.BatchNorm1d(num_features=50)\n",
        "        self.relu = nn.ReLU()\n",
        "        self.fc2 = nn.Linear(50, 10)\n",
        "\n",
        "    def forward(self, x):\n",
        "        # in forward, place the layers sequentially\n",
        "        x = self.fc1(x)\n",
        "        x = self.bn(x)\n",
        "        x = self.relu(x)\n",
        "        x = self.fc2(x)\n",
        "        return x"
      ]
    },
    {
      "cell_type": "code",
      "execution_count": 3,
      "metadata": {
        "colab": {
          "base_uri": "https://localhost:8080/"
        },
        "id": "mh9UvwnlK-3G",
        "outputId": "fc5951b4-3d50-403f-c530-41a8b0d4667b"
      },
      "outputs": [
        {
          "output_type": "stream",
          "name": "stdout",
          "text": [
            "torch.Size([20, 100]) \n",
            "\n",
            " torch.Size([20, 100, 35, 45])\n"
          ]
        }
      ],
      "source": [
        "# BN 1D\n",
        "m = nn.BatchNorm1d(100)\n",
        "input = torch.randn(20, 100)\n",
        "output1 = m(input)\n",
        "\n",
        "# BN 2D\n",
        "# So far, we've only used BN 1D\n",
        "# But what's BN 2D??\n",
        "m = nn.BatchNorm2d(100)\n",
        "input = torch.randn(20, 100, 35, 45)\n",
        "output2 = m(input)\n",
        "\n",
        "print(output1.size(), '\\n\\n', output2.size())"
      ]
    },
    {
      "cell_type": "markdown",
      "metadata": {
        "id": "JtrlgMOov47e"
      },
      "source": [
        "### Question 1. Compare & Contrast BatchNorm1d and Batchnorm2d\n",
        "*     Hint: https://gaussian37.github.io/dl-concept-batchnorm/, https://pytorch.org/docs/stable/generated/torch.nn.BatchNorm1d.html, and https://pytorch.org/docs/stable/generated/torch.nn.BatchNorm2d.html"
      ]
    },
    {
      "cell_type": "markdown",
      "metadata": {
        "id": "u6v9oAeiZCJX"
      },
      "source": [
        "BatchNorm1은 2D, 3D인 입력에 대해 작동함\n",
        "BatchNorm2은 4D인 입력에 대해 작동함\n",
        "\n",
        "BatchNorm1의 입력 형태는\n",
        "[batch_size, num_features]\n",
        "\n",
        "BatchNorm2의 입력 형태는\n",
        "[batch_size, num_channels, height, width] 이다\n"
      ]
    },
    {
      "cell_type": "markdown",
      "metadata": {
        "id": "1BgQvGP205Tf"
      },
      "source": [
        "## 2. Weight Initialization\n",
        "\n",
        "*   Reference. https://ysg2997.tistory.com/14, https://m.blog.naver.com/PostView.naver?blogId=tinz6461&logNo=221599717016&proxyReferer="
      ]
    },
    {
      "cell_type": "code",
      "execution_count": null,
      "metadata": {
        "id": "dgxRjABUI1sv"
      },
      "outputs": [],
      "source": [
        "import torch\n",
        "import torch.nn as nn\n",
        "import torch.nn.init as init"
      ]
    },
    {
      "cell_type": "markdown",
      "source": [
        "\n",
        "'''\n",
        "딥러닝 모델을 학습시 가중치를 초기화하고, 예측값과 실제값의 차이를 손실함수를 통해 구한다. 이후 backpropagation을\n",
        "이용하여 loss를 줄이는 방향으로 가중치를 업데이트 한다. 이 과정에서 첫 가중치는 랜덤한 수로 초기화 하게 되는데\n",
        "이 초기화 되는 가중치의 값이 모델의 성능에 유의미한 영향을 미친다. 따라서, 여러 논문에서 모델의 성능을 높이기 위해서\n",
        "여러 가지 가중치 초기화 방법을 소개하고 있다\n",
        "\n",
        "주로 Xavier Initialization과 He Initialization이 사용된다\n",
        "1. Xavier Initialization : 보통 활성화 함수로 Sigmoid 함수를 사용할 때 적용하는 가중치 초기화 기법이다.\n",
        "ReLu 함수를 사용할 때 적용할 경우에 출력 값이 0으로 수렴하는 현상을 발생시킨다.\n",
        "\n",
        "2. He Initialization : 활성화 함수로 ReLu 함수를 사용할 때 적용하는 가중치 초기화 기법이다."
      ],
      "metadata": {
        "id": "2wpj8jg3S7Jr"
      }
    },
    {
      "cell_type": "code",
      "execution_count": 4,
      "metadata": {
        "id": "P8ULcApY1FIY"
      },
      "outputs": [],
      "source": [
        "class CNN(nn.Module):\n",
        "    def __init__(self):\n",
        "        super(CNN,self).__init__()\n",
        "        self.layer = nn.Sequential(\n",
        "            nn.Conv2d(1,16,3,padding=1),  # 28 x 28\n",
        "            nn.ReLU(),\n",
        "            nn.Conv2d(16,32,3,padding=1), # 28 x 28\n",
        "            nn.ReLU(),\n",
        "            nn.MaxPool2d(2,2),            # 14 x 14\n",
        "            nn.Conv2d(32,64,3,padding=1), # 14 x 14\n",
        "            nn.ReLU(),\n",
        "            nn.MaxPool2d(2,2)             #  7 x 7\n",
        "        )\n",
        "        self.fc_layer = nn.Sequential(\n",
        "            nn.Linear(64*7*7,100),\n",
        "            nn.ReLU(),\n",
        "            nn.Linear(100,10)\n",
        "        )\n",
        "        for m in self.modules():\n",
        "\n",
        "            if isinstance(m, nn.Conv2d):\n",
        "\n",
        "                init.kaiming_normal_(m.weight.data)\n",
        "                m.bias.data.fill_(0)\n",
        "\n",
        "            elif isinstance(m, nn.Linear):\n",
        "\n",
        "                init.kaiming_normal_(m.weight.data)\n",
        "                m.bias.data.fill_(0)\n",
        "\n",
        "    def forward(self,x):\n",
        "        out = self.layer(x)\n",
        "        out = out.view(batch_size,-1)\n",
        "        out = self.fc_layer(out)\n",
        "        return out"
      ]
    },
    {
      "cell_type": "code",
      "execution_count": null,
      "metadata": {
        "id": "6J-FjScBKF7y"
      },
      "outputs": [],
      "source": [
        "import tensorflow as tf\n",
        "import random\n",
        "import numpy as np\n",
        "import matplotlib.pyplot as plt\n",
        "\n",
        "# sigmoid\n",
        "def sigmoid(x):\n",
        "    return 1 / (1 + np.exp(-x))\n",
        "\n",
        "# ReLU\n",
        "def ReLU(x):\n",
        "    return np.maximum(0, x)\n",
        "\n",
        "# tanh\n",
        "def tanh(x):\n",
        "    return np.tanh(x)\n",
        "\n",
        "def weight_init(method=None):\n",
        "    w = 0\n",
        "    if method == 'large':\n",
        "        w = np.random.randn(node_num, node_num) * 1\n",
        "    elif method == 'small':\n",
        "        w = np.random.randn(node_num, node_num) * 0.01\n",
        "    elif method == 'xavier':\n",
        "        w = np.random.randn(node_num, node_num) * np.sqrt(1.0 / node_num)  # Xavier init\n",
        "    elif method == 'he':\n",
        "        w = np.random.randn(node_num, node_num) * np.sqrt(2.0 / node_num)  # He init\n",
        "\n",
        "    return w"
      ]
    },
    {
      "cell_type": "code",
      "execution_count": null,
      "metadata": {
        "colab": {
          "base_uri": "https://localhost:8080/",
          "height": 452
        },
        "id": "elzVHh2FKHa2",
        "outputId": "43ec8fa2-1d5c-4aa7-9db2-8c5611bb03de"
      },
      "outputs": [
        {
          "data": {
            "image/png": "[encoded data removed]",
            "text/plain": [
              "<Figure size 640x480 with 5 Axes>"
            ]
          },
          "metadata": {},
          "output_type": "display_data"
        }
      ],
      "source": [
        "input_data = np.random.randn(1000, 100)\n",
        "node_num = 100\n",
        "hidden_layer_size = 5\n",
        "activations = {}\n",
        "\n",
        "x = input_data\n",
        "\n",
        "for i in range(hidden_layer_size):\n",
        "    if i != 0:\n",
        "        x = activations[i-1]\n",
        "\n",
        "    w = weight_init('small')\n",
        "    a = np.dot(x, w)\n",
        "\n",
        "    # z = sigmoid(a)\n",
        "    # z = ReLU(a)\n",
        "    z = tanh(a)\n",
        "\n",
        "    activations[i] = z\n",
        "\n",
        "for i, a in activations.items():\n",
        "    plt.subplot(1, len(activations), i+1)\n",
        "    plt.title(str(i+1) + \"-layer\")\n",
        "    if i != 0: plt.yticks([], [])\n",
        "#     plt.xlim(0.1, 1)\n",
        "    plt.ylim(0, 8000)\n",
        "    plt.hist(a.flatten(), 30, range=(-1,1))\n",
        "plt.show()"
      ]
    },
    {
      "cell_type": "code",
      "execution_count": null,
      "metadata": {
        "colab": {
          "base_uri": "https://localhost:8080/",
          "height": 452
        },
        "id": "a91BiqWZKHCJ",
        "outputId": "ae2a13e1-dc01-4a67-d4de-ad40fcd8cc29"
      },
      "outputs": [
        {
          "data": {
            "image/png": "[encoded data removed]",
            "text/plain": [
              "<Figure size 640x480 with 5 Axes>"
            ]
          },
          "metadata": {},
          "output_type": "display_data"
        }
      ],
      "source": [
        "for i in range(hidden_layer_size):\n",
        "    if i != 0:\n",
        "        x = activations[i-1]\n",
        "\n",
        "    w = weight_init('large')\n",
        "    a = np.dot(x, w)\n",
        "\n",
        "    # z = sigmoid(a)\n",
        "    # z = ReLU(a)\n",
        "    z = tanh(a)\n",
        "\n",
        "    activations[i] = z\n",
        "\n",
        "for i, a in activations.items():\n",
        "    plt.subplot(1, len(activations), i+1)\n",
        "    plt.title(str(i+1) + \"-layer\")\n",
        "    if i != 0: plt.yticks([], [])\n",
        "#     plt.xlim(0.1, 1)\n",
        "    plt.ylim(0, 7000)\n",
        "    plt.hist(a.flatten(), 30, range=(-1,1))\n",
        "plt.show()"
      ]
    },
    {
      "cell_type": "code",
      "execution_count": null,
      "metadata": {
        "colab": {
          "base_uri": "https://localhost:8080/",
          "height": 452
        },
        "id": "mXBo8IINKUjp",
        "outputId": "9f21f120-a6a5-4d77-fddc-cb07cc8c5480"
      },
      "outputs": [
        {
          "data": {
            "image/png": "[encoded data removed]",
            "text/plain": [
              "<Figure size 640x480 with 5 Axes>"
            ]
          },
          "metadata": {},
          "output_type": "display_data"
        }
      ],
      "source": [
        "# Xavier Initialization\n",
        "input_data = np.random.randn(1000, 100)\n",
        "node_num = 100\n",
        "hidden_layer_size = 5\n",
        "activations = {}\n",
        "\n",
        "x = input_data\n",
        "\n",
        "for i in range(hidden_layer_size):\n",
        "    if i != 0:\n",
        "        x = activations[i-1]\n",
        "\n",
        "    w = weight_init('xavier')\n",
        "    a = np.dot(x, w)\n",
        "\n",
        "    # z = sigmoid(a)\n",
        "    # z = ReLU(a)\n",
        "    z = tanh(a)\n",
        "\n",
        "    activations[i] = z\n",
        "\n",
        "for i, a in activations.items():\n",
        "    plt.subplot(1, len(activations), i+1)\n",
        "    plt.title(str(i+1) + \"-layer\")\n",
        "    if i != 0: plt.yticks([], [])\n",
        "#     plt.xlim(0.1, 1)\n",
        "    plt.ylim(0, 7000)\n",
        "    plt.hist(a.flatten(), 30, range=(-1,1))\n",
        "plt.show()"
      ]
    },
    {
      "cell_type": "code",
      "execution_count": null,
      "metadata": {
        "colab": {
          "base_uri": "https://localhost:8080/",
          "height": 452
        },
        "id": "O-eTjk0mKYJN",
        "outputId": "26c592ee-278b-4c00-fd22-253819eebf93"
      },
      "outputs": [
        {
          "data": {
            "image/png": "[encoded data removed]",
            "text/plain": [
              "<Figure size 640x480 with 5 Axes>"
            ]
          },
          "metadata": {},
          "output_type": "display_data"
        }
      ],
      "source": [
        "# He Initialization\n",
        "input_data = np.random.randn(1000, 100)\n",
        "node_num = 100\n",
        "hidden_layer_size = 5\n",
        "activations = {}\n",
        "\n",
        "x = input_data\n",
        "\n",
        "for i in range(hidden_layer_size):\n",
        "    if i != 0:\n",
        "        x = activations[i-1]\n",
        "\n",
        "    w = weight_init('xavier')\n",
        "    a = np.dot(x, w)\n",
        "\n",
        "    # z = sigmoid(a)\n",
        "    z = ReLU(a)\n",
        "    # z = tanh(a)\n",
        "\n",
        "    activations[i] = z\n",
        "\n",
        "for i, a in activations.items():\n",
        "    plt.subplot(1, len(activations), i+1)\n",
        "    plt.title(str(i+1) + \"-layer\")\n",
        "    if i != 0: plt.yticks([], [])\n",
        "#     plt.xlim(0.1, 1)\n",
        "    plt.ylim(0, 7000)\n",
        "    plt.hist(a.flatten(), 30, range=(0,1))\n",
        "plt.show()"
      ]
    },
    {
      "cell_type": "markdown",
      "metadata": {
        "id": "RHoAQdMP1L4b"
      },
      "source": [
        "## 3. CNN\n",
        "*     Reference. https://justkode.kr/deep-learning/pytorch-cnn/"
      ]
    },
    {
      "cell_type": "code",
      "execution_count": null,
      "metadata": {
        "id": "rBRJM0HOfOVM"
      },
      "outputs": [],
      "source": [
        "# Question\n",
        "# Run two cells below and try to explain the\n",
        "# change of tensor size after passing through the layers\n",
        "# e.g.) Conv1: [10, 1, 20, 20] -> [10, 3, 16, 16], because --"
      ]
    },
    {
      "cell_type": "code",
      "execution_count": 23,
      "metadata": {
        "colab": {
          "base_uri": "https://localhost:8080/"
        },
        "id": "1nudN6YK1PS_",
        "outputId": "ed01361b-e16b-4c49-eb25-db985c64446d"
      },
      "outputs": [
        {
          "output_type": "stream",
          "name": "stdout",
          "text": [
            "Before torch.Size([10, 1, 20, 20])\n",
            "After conv1 torch.Size([10, 3, 16, 16])\n",
            "After conv2 torch.Size([10, 10, 12, 12])\n",
            "After dimension reduction torch.Size([10, 1440])\n",
            "After fc1 torch.Size([10, 50])\n",
            "After fc2 torch.Size([10, 10])\n"
          ]
        }
      ],
      "source": [
        "import torch\n",
        "import torch.nn as nn\n",
        "import torch.nn.functional as F\n",
        "\n",
        "class CNN(nn.Module):\n",
        "  def __init__(self):\n",
        "    super(CNN, self).__init__()\n",
        "    self.conv1 = nn.Conv2d(in_channels=1, out_channels=3, kernel_size=5, stride=1) # [10, 1, 20, 20] -> [10, 3, 16, 16] 이 된다. 채널은 1 -> 3으로 바뀌고, kernel size=5, stride=1 이므로 (20-5+1)/1 = 16으로 이미지의 크기가 바뀐다.\n",
        "    self.conv2 = nn.Conv2d(in_channels=3, out_channels=10, kernel_size=5, stride=1) # [10, 3, 12, 12] -> [10, 10, 12, 12] 이 된다. 채널은 3 -> 10으로 바뀌고, kernel size=5, stride=1 이므로 (16-5+1)/1 = 12으로 이미지의 크기가 바뀐다.\n",
        "    self.fc1 = nn.Linear(10 * 12 * 12, 50) # [10,10x12x12] -> [10, 50]이 된다. 채널이 1440 -> 50으로 바뀌기 때문이다.\n",
        "    self.fc2 = nn.Linear(50, 10) # [10,50] -> [10,10]이 된다. 채널이 50 -> 10으로 바뀌기 때문이다.\n",
        "\n",
        "  def forward(self, x):\n",
        "    print(\"Before\", x.size())\n",
        "    x = F.relu(self.conv1(x))\n",
        "    print(\"After conv1\", x.size())\n",
        "    x = F.relu(self.conv2(x))\n",
        "    print(\"After conv2\",x.size())\n",
        "    x = x.view(-1, 10 * 12 * 12)\n",
        "    print(\"After dimension reduction\", x.size())\n",
        "    x = F.relu(self.fc1(x))\n",
        "    print(\"After fc1\", x.size())\n",
        "    x = self.fc2(x)\n",
        "    print(\"After fc2\", x.size())\n",
        "    return x\n",
        "\n",
        "cnn = CNN()\n",
        "output = cnn(torch.randn(10, 1, 20, 20))  # Input Size: (10, 1, 20, 20)"
      ]
    },
    {
      "cell_type": "code",
      "execution_count": 11,
      "metadata": {
        "colab": {
          "base_uri": "https://localhost:8080/"
        },
        "id": "aObCDbls1SId",
        "outputId": "bec3de30-2252-4455-b859-fb6662a51458"
      },
      "outputs": [
        {
          "output_type": "stream",
          "name": "stdout",
          "text": [
            "Before torch.Size([10, 1, 20, 20])\n",
            "After max_pool1 torch.Size([10, 1, 10, 10])\n",
            "After max_pool2 torch.Size([10, 1, 5, 5])\n",
            "After dimension reduction torch.Size([1, 250])\n",
            "After fc1 torch.Size([1, 50])\n",
            "After fc2 torch.Size([1, 10])\n"
          ]
        }
      ],
      "source": [
        "import torch\n",
        "import torch.nn as nn\n",
        "import torch.nn.functional as F\n",
        "\n",
        "class CNN(nn.Module):\n",
        "  def __init__(self):\n",
        "    super(CNN, self).__init__()\n",
        "    self.max_pool1 = nn.MaxPool2d(kernel_size=2)\n",
        "    self.max_pool2 = nn.MaxPool2d(kernel_size=2)\n",
        "    self.fc1 = nn.Linear(10 * 5 * 5, 50)\n",
        "    self.fc2 = nn.Linear(50, 10)\n",
        "\n",
        "  def forward(self, x):\n",
        "    print(\"Before\", x.size())\n",
        "    x = F.relu(self.max_pool1(x))\n",
        "    print(\"After max_pool1\", x.size())\n",
        "    x = F.relu(self.max_pool2(x))\n",
        "    print(\"After max_pool2\",x.size())\n",
        "    x = x.view(-1, 10 * 5 * 5)\n",
        "    print(\"After dimension reduction\", x.size())\n",
        "    x = F.relu(self.fc1(x))\n",
        "    print(\"After fc1\", x.size())\n",
        "    x = self.fc2(x)\n",
        "    print(\"After fc2\", x.size())\n",
        "    return x\n",
        "\n",
        "cnn = CNN()\n",
        "output = cnn(torch.randn(10, 1, 20, 20))"
      ]
    },
    {
      "cell_type": "code",
      "execution_count": 12,
      "metadata": {
        "id": "rgM7JyK_f6gu"
      },
      "outputs": [],
      "source": [
        "# Now let's construct a CNN model"
      ]
    },
    {
      "cell_type": "code",
      "execution_count": 13,
      "metadata": {
        "id": "zCg8EJLdE_8a"
      },
      "outputs": [],
      "source": [
        "import torch\n",
        "import torch.nn as nn\n",
        "import torch.nn.functional as F\n",
        "import torch.optim as optim\n",
        "from torchvision import datasets, transforms"
      ]
    },
    {
      "cell_type": "code",
      "execution_count": 14,
      "metadata": {
        "colab": {
          "base_uri": "https://localhost:8080/"
        },
        "id": "YmVVkwqfVS__",
        "outputId": "6f652322-a5ed-42cf-8a41-c197d5cbb000"
      },
      "outputs": [
        {
          "output_type": "stream",
          "name": "stdout",
          "text": [
            "Downloading http://yann.lecun.com/exdb/mnist/train-images-idx3-ubyte.gz\n",
            "Failed to download (trying next):\n",
            "HTTP Error 403: Forbidden\n",
            "\n",
            "Downloading https://ossci-datasets.s3.amazonaws.com/mnist/train-images-idx3-ubyte.gz\n",
            "Downloading https://ossci-datasets.s3.amazonaws.com/mnist/train-images-idx3-ubyte.gz to ./data/MNIST/raw/train-images-idx3-ubyte.gz\n"
          ]
        },
        {
          "output_type": "stream",
          "name": "stderr",
          "text": [
            "100%|██████████| 9912422/9912422 [00:00<00:00, 48275871.12it/s]\n"
          ]
        },
        {
          "output_type": "stream",
          "name": "stdout",
          "text": [
            "Extracting ./data/MNIST/raw/train-images-idx3-ubyte.gz to ./data/MNIST/raw\n",
            "\n",
            "Downloading http://yann.lecun.com/exdb/mnist/train-labels-idx1-ubyte.gz\n",
            "Failed to download (trying next):\n",
            "HTTP Error 403: Forbidden\n",
            "\n",
            "Downloading https://ossci-datasets.s3.amazonaws.com/mnist/train-labels-idx1-ubyte.gz\n",
            "Downloading https://ossci-datasets.s3.amazonaws.com/mnist/train-labels-idx1-ubyte.gz to ./data/MNIST/raw/train-labels-idx1-ubyte.gz\n"
          ]
        },
        {
          "output_type": "stream",
          "name": "stderr",
          "text": [
            "100%|██████████| 28881/28881 [00:00<00:00, 1780438.49it/s]"
          ]
        },
        {
          "output_type": "stream",
          "name": "stdout",
          "text": [
            "Extracting ./data/MNIST/raw/train-labels-idx1-ubyte.gz to ./data/MNIST/raw\n",
            "\n",
            "Downloading http://yann.lecun.com/exdb/mnist/t10k-images-idx3-ubyte.gz\n"
          ]
        },
        {
          "output_type": "stream",
          "name": "stderr",
          "text": [
            "\n"
          ]
        },
        {
          "output_type": "stream",
          "name": "stdout",
          "text": [
            "Failed to download (trying next):\n",
            "HTTP Error 403: Forbidden\n",
            "\n",
            "Downloading https://ossci-datasets.s3.amazonaws.com/mnist/t10k-images-idx3-ubyte.gz\n",
            "Downloading https://ossci-datasets.s3.amazonaws.com/mnist/t10k-images-idx3-ubyte.gz to ./data/MNIST/raw/t10k-images-idx3-ubyte.gz\n"
          ]
        },
        {
          "output_type": "stream",
          "name": "stderr",
          "text": [
            "100%|██████████| 1648877/1648877 [00:00<00:00, 13832308.42it/s]\n"
          ]
        },
        {
          "output_type": "stream",
          "name": "stdout",
          "text": [
            "Extracting ./data/MNIST/raw/t10k-images-idx3-ubyte.gz to ./data/MNIST/raw\n",
            "\n",
            "Downloading http://yann.lecun.com/exdb/mnist/t10k-labels-idx1-ubyte.gz\n",
            "Failed to download (trying next):\n",
            "HTTP Error 403: Forbidden\n",
            "\n",
            "Downloading https://ossci-datasets.s3.amazonaws.com/mnist/t10k-labels-idx1-ubyte.gz\n",
            "Downloading https://ossci-datasets.s3.amazonaws.com/mnist/t10k-labels-idx1-ubyte.gz to ./data/MNIST/raw/t10k-labels-idx1-ubyte.gz\n"
          ]
        },
        {
          "output_type": "stream",
          "name": "stderr",
          "text": [
            "100%|██████████| 4542/4542 [00:00<00:00, 3815447.38it/s]"
          ]
        },
        {
          "output_type": "stream",
          "name": "stdout",
          "text": [
            "Extracting ./data/MNIST/raw/t10k-labels-idx1-ubyte.gz to ./data/MNIST/raw\n",
            "\n"
          ]
        },
        {
          "output_type": "stream",
          "name": "stderr",
          "text": [
            "\n"
          ]
        }
      ],
      "source": [
        "train_data = datasets.MNIST('./data/', train=True, download=True, transform=transforms.Compose([\n",
        "        transforms.ToTensor(),\n",
        "        transforms.Normalize((0.1307,), (0.3081,))\n",
        "    ]))\n",
        "train_loader = torch.utils.data.DataLoader(dataset=train_data, batch_size=50, shuffle=True)\n",
        "\n",
        "test_data = datasets.MNIST('./data/', train=False, transform=transforms.Compose([\n",
        "        transforms.ToTensor(),\n",
        "        transforms.Normalize((0.1307,), (0.3081,))\n",
        "    ]))\n",
        "test_loader = torch.utils.data.DataLoader(dataset=test_data, batch_size=50, shuffle=True)"
      ]
    },
    {
      "cell_type": "code",
      "execution_count": 15,
      "metadata": {
        "id": "GP9NJ03qVS6N"
      },
      "outputs": [],
      "source": [
        "class CNN(nn.Module):\n",
        "    def __init__(self):\n",
        "        super(CNN, self).__init__()\n",
        "        self.conv1 = nn.Conv2d(in_channels=1, out_channels=20, kernel_size=5, stride=1)\n",
        "        self.conv2 = nn.Conv2d(in_channels=20, out_channels=50, kernel_size=5, stride=1)\n",
        "        self.fc1 = nn.Linear(4 * 4 * 50, 500)\n",
        "        self.fc2 = nn.Linear(500, 10)\n",
        "\n",
        "    def forward(self, x):\n",
        "        x = F.relu(self.conv1(x))\n",
        "        x = F.max_pool2d(x, kernel_size=2, stride=2)\n",
        "        x = F.relu(self.conv2(x))\n",
        "        x = F.max_pool2d(x, kernel_size=2, stride=2)\n",
        "\n",
        "        x = x.view(-1, 4 * 4 * 50) # [batch_size, 50, 4, 4]\n",
        "        x = F.relu(self.fc1(x))\n",
        "        x = self.fc2(x)\n",
        "        return x"
      ]
    },
    {
      "cell_type": "code",
      "execution_count": 16,
      "metadata": {
        "id": "x4gAjLBrVS1J"
      },
      "outputs": [],
      "source": [
        "cnn = CNN()\n",
        "criterion = torch.nn.CrossEntropyLoss()\n",
        "optimizer = optim.SGD(cnn.parameters(), lr=0.01)"
      ]
    },
    {
      "cell_type": "code",
      "execution_count": 17,
      "metadata": {
        "colab": {
          "base_uri": "https://localhost:8080/"
        },
        "id": "A4jpLlXQVSv1",
        "outputId": "4296e046-9341-4f5c-b718-95e0be4ec7d0"
      },
      "outputs": [
        {
          "output_type": "stream",
          "name": "stdout",
          "text": [
            "loss of 0 epoch, 0 index : 2.270653009414673\n",
            "loss of 0 epoch, 100 index : 1.0664454698562622\n",
            "loss of 0 epoch, 200 index : 0.42218658328056335\n",
            "loss of 0 epoch, 300 index : 0.4504457116127014\n",
            "loss of 0 epoch, 400 index : 0.14634239673614502\n",
            "loss of 0 epoch, 500 index : 0.392546147108078\n",
            "loss of 0 epoch, 600 index : 0.3245229721069336\n",
            "loss of 0 epoch, 700 index : 0.1571885347366333\n",
            "loss of 0 epoch, 800 index : 0.15245918929576874\n",
            "loss of 0 epoch, 900 index : 0.39219069480895996\n",
            "loss of 0 epoch, 1000 index : 0.12785470485687256\n",
            "loss of 0 epoch, 1100 index : 0.09152960032224655\n",
            "loss of 1 epoch, 0 index : 0.13769645988941193\n",
            "loss of 1 epoch, 100 index : 0.061926502734422684\n",
            "loss of 1 epoch, 200 index : 0.07695342600345612\n",
            "loss of 1 epoch, 300 index : 0.07359500229358673\n",
            "loss of 1 epoch, 400 index : 0.07552750408649445\n",
            "loss of 1 epoch, 500 index : 0.07130476832389832\n",
            "loss of 1 epoch, 600 index : 0.21671412885189056\n",
            "loss of 1 epoch, 700 index : 0.046508755534887314\n",
            "loss of 1 epoch, 800 index : 0.06200384721159935\n",
            "loss of 1 epoch, 900 index : 0.2750725746154785\n",
            "loss of 1 epoch, 1000 index : 0.044070590287446976\n",
            "loss of 1 epoch, 1100 index : 0.03826525807380676\n",
            "loss of 2 epoch, 0 index : 0.08245529234409332\n",
            "loss of 2 epoch, 100 index : 0.07409371435642242\n",
            "loss of 2 epoch, 200 index : 0.022910578176379204\n",
            "loss of 2 epoch, 300 index : 0.11342886090278625\n",
            "loss of 2 epoch, 400 index : 0.029872452840209007\n",
            "loss of 2 epoch, 500 index : 0.04527052491903305\n",
            "loss of 2 epoch, 600 index : 0.0553334578871727\n",
            "loss of 2 epoch, 700 index : 0.11207035183906555\n",
            "loss of 2 epoch, 800 index : 0.13515429198741913\n",
            "loss of 2 epoch, 900 index : 0.04211602732539177\n",
            "loss of 2 epoch, 1000 index : 0.04180357605218887\n",
            "loss of 2 epoch, 1100 index : 0.06249047443270683\n",
            "loss of 3 epoch, 0 index : 0.014404302462935448\n",
            "loss of 3 epoch, 100 index : 0.12320535629987717\n",
            "loss of 3 epoch, 200 index : 0.040435124188661575\n",
            "loss of 3 epoch, 300 index : 0.05109737813472748\n",
            "loss of 3 epoch, 400 index : 0.04149821773171425\n",
            "loss of 3 epoch, 500 index : 0.10661734640598297\n",
            "loss of 3 epoch, 600 index : 0.03651125356554985\n",
            "loss of 3 epoch, 700 index : 0.026741717010736465\n",
            "loss of 3 epoch, 800 index : 0.16582368314266205\n",
            "loss of 3 epoch, 900 index : 0.0063996342942118645\n",
            "loss of 3 epoch, 1000 index : 0.058020904660224915\n",
            "loss of 3 epoch, 1100 index : 0.09185194224119186\n",
            "loss of 4 epoch, 0 index : 0.060793183743953705\n",
            "loss of 4 epoch, 100 index : 0.01392640732228756\n",
            "loss of 4 epoch, 200 index : 0.10606323927640915\n",
            "loss of 4 epoch, 300 index : 0.14626991748809814\n",
            "loss of 4 epoch, 400 index : 0.13918428122997284\n",
            "loss of 4 epoch, 500 index : 0.07113038748502731\n",
            "loss of 4 epoch, 600 index : 0.04374135658144951\n",
            "loss of 4 epoch, 700 index : 0.11535026878118515\n",
            "loss of 4 epoch, 800 index : 0.0057920836843550205\n",
            "loss of 4 epoch, 900 index : 0.05776028707623482\n",
            "loss of 4 epoch, 1000 index : 0.018521623685956\n",
            "loss of 4 epoch, 1100 index : 0.007550213951617479\n",
            "loss of 5 epoch, 0 index : 0.07723863422870636\n",
            "loss of 5 epoch, 100 index : 0.029513893648982048\n",
            "loss of 5 epoch, 200 index : 0.040998395532369614\n",
            "loss of 5 epoch, 300 index : 0.14048081636428833\n",
            "loss of 5 epoch, 400 index : 0.025064652785658836\n",
            "loss of 5 epoch, 500 index : 0.037550684064626694\n",
            "loss of 5 epoch, 600 index : 0.0361018180847168\n",
            "loss of 5 epoch, 700 index : 0.0441148579120636\n",
            "loss of 5 epoch, 800 index : 0.007250582799315453\n",
            "loss of 5 epoch, 900 index : 0.08066020160913467\n",
            "loss of 5 epoch, 1000 index : 0.022157592698931694\n",
            "loss of 5 epoch, 1100 index : 0.018505625426769257\n",
            "loss of 6 epoch, 0 index : 0.015300411731004715\n",
            "loss of 6 epoch, 100 index : 0.005935194436460733\n",
            "loss of 6 epoch, 200 index : 0.05786958709359169\n",
            "loss of 6 epoch, 300 index : 0.013606872409582138\n",
            "loss of 6 epoch, 400 index : 0.002586280694231391\n",
            "loss of 6 epoch, 500 index : 0.013551968149840832\n",
            "loss of 6 epoch, 600 index : 0.014846657402813435\n",
            "loss of 6 epoch, 700 index : 0.019208332523703575\n",
            "loss of 6 epoch, 800 index : 0.009760326705873013\n",
            "loss of 6 epoch, 900 index : 0.03702576458454132\n",
            "loss of 6 epoch, 1000 index : 0.08241088688373566\n",
            "loss of 6 epoch, 1100 index : 0.014750161208212376\n",
            "loss of 7 epoch, 0 index : 0.023706085979938507\n",
            "loss of 7 epoch, 100 index : 0.007603656034916639\n",
            "loss of 7 epoch, 200 index : 0.015485688112676144\n",
            "loss of 7 epoch, 300 index : 0.0632493868470192\n",
            "loss of 7 epoch, 400 index : 0.0145514365285635\n",
            "loss of 7 epoch, 500 index : 0.017364278435707092\n",
            "loss of 7 epoch, 600 index : 0.04719870164990425\n",
            "loss of 7 epoch, 700 index : 0.10295534133911133\n",
            "loss of 7 epoch, 800 index : 0.033691391348838806\n",
            "loss of 7 epoch, 900 index : 0.02591807395219803\n",
            "loss of 7 epoch, 1000 index : 0.00804125051945448\n",
            "loss of 7 epoch, 1100 index : 0.057376082986593246\n",
            "loss of 8 epoch, 0 index : 0.005970766767859459\n",
            "loss of 8 epoch, 100 index : 0.004696650896221399\n",
            "loss of 8 epoch, 200 index : 0.019397687166929245\n",
            "loss of 8 epoch, 300 index : 0.02536599710583687\n",
            "loss of 8 epoch, 400 index : 0.09581062197685242\n",
            "loss of 8 epoch, 500 index : 0.06775269657373428\n",
            "loss of 8 epoch, 600 index : 0.012741378508508205\n",
            "loss of 8 epoch, 700 index : 0.011162009090185165\n",
            "loss of 8 epoch, 800 index : 0.06053277850151062\n",
            "loss of 8 epoch, 900 index : 0.031596772372722626\n",
            "loss of 8 epoch, 1000 index : 0.012881857343018055\n",
            "loss of 8 epoch, 1100 index : 0.027698781341314316\n",
            "loss of 9 epoch, 0 index : 0.07772105187177658\n",
            "loss of 9 epoch, 100 index : 0.019295528531074524\n",
            "loss of 9 epoch, 200 index : 0.075802281498909\n",
            "loss of 9 epoch, 300 index : 0.052100952714681625\n",
            "loss of 9 epoch, 400 index : 0.0019120100187137723\n",
            "loss of 9 epoch, 500 index : 0.06610428541898727\n",
            "loss of 9 epoch, 600 index : 0.004159012343734503\n",
            "loss of 9 epoch, 700 index : 0.026065312325954437\n",
            "loss of 9 epoch, 800 index : 0.06570704281330109\n",
            "loss of 9 epoch, 900 index : 0.0899750143289566\n",
            "loss of 9 epoch, 1000 index : 0.04729361832141876\n",
            "loss of 9 epoch, 1100 index : 0.015006870962679386\n"
          ]
        }
      ],
      "source": [
        "cnn.train()\n",
        "for epoch in range(10):\n",
        "  for index, (data, target) in enumerate(train_loader):\n",
        "    optimizer.zero_grad()\n",
        "    output = cnn(data)\n",
        "    loss = criterion(output, target)\n",
        "    loss.backward()\n",
        "    optimizer.step()\n",
        "\n",
        "    if index % 100 == 0:\n",
        "      print(\"loss of {} epoch, {} index : {}\".format(epoch, index, loss.item()))"
      ]
    },
    {
      "cell_type": "code",
      "execution_count": 18,
      "metadata": {
        "id": "lVuY2ZregO9h"
      },
      "outputs": [],
      "source": [
        "# Quick Question\n",
        "# Write an explanation of the code below (evaluation cell only!)"
      ]
    },
    {
      "cell_type": "code",
      "execution_count": 19,
      "metadata": {
        "colab": {
          "base_uri": "https://localhost:8080/"
        },
        "id": "HzNEM_SzVecD",
        "outputId": "7ec9709a-28a7-4bf7-fe79-76ef8160b7c3"
      },
      "outputs": [
        {
          "output_type": "stream",
          "name": "stdout",
          "text": [
            "\n",
            "Test set: Average loss: 6.5388, Accuracy: 9887/10000 (99%)\n",
            "\n"
          ]
        }
      ],
      "source": [
        "cnn.eval()\n",
        "test_loss = 0\n",
        "correct = 0\n",
        "with torch.no_grad():\n",
        "  for data, target in test_loader:\n",
        "    output = cnn(data)\n",
        "    test_loss += criterion(output, target).item()\n",
        "    pred = output.argmax(dim=1, keepdim=True)\n",
        "    correct += pred.eq(target.view_as(pred)).sum().item()\n",
        "print('\\nTest set: Average loss: {:.4f}, Accuracy: {}/{} ({:.0f}%)\\n'.format(\n",
        "        test_loss, correct, len(test_loader.dataset),\n",
        "        100. * correct / len(test_loader.dataset)))"
      ]
    },
    {
      "cell_type": "code",
      "execution_count": 20,
      "metadata": {
        "id": "BsiXvSCx21ur"
      },
      "outputs": [],
      "source": [
        "# Question (optional)\n",
        "# Try to adjust the hyperparameters (kernel size, # of conv layers, ...)\n",
        "# and get better results than the baseline (default) model!!"
      ]
    },
    {
      "cell_type": "code",
      "execution_count": 22,
      "metadata": {
        "id": "PtxmAAqCWr2D",
        "colab": {
          "base_uri": "https://localhost:8080/"
        },
        "outputId": "6384b733-7b1b-48a3-e946-8dcdf84e00c9"
      },
      "outputs": [
        {
          "output_type": "stream",
          "name": "stdout",
          "text": [
            "\n",
            "Test set: Average loss: 6.5388, Accuracy: 9887/10000 (99%)\n",
            "\n"
          ]
        }
      ],
      "source": [
        "cnn.eval()#모델 평가 모드로 전환\n",
        "test_loss = 0#데이터 손실 및 정확도 초기화\n",
        "correct = 0\n",
        "with torch.no_grad():#그레디언트 계산 비활성화\n",
        "  for data, target in test_loader:\n",
        "    output = cnn(data)#모델에 데이터를 전달하여 예측 생성\n",
        "    test_loss += criterion(output, target).item()#손실 계산 및 누적\n",
        "    pred = output.argmax(dim=1, keepdim=True)#예측값 중 가장 큰 확률을 가진 클래스 선택\n",
        "    correct += pred.eq(target.view_as(pred)).sum().item()# 정확하게 예측된 샘플 수 계산 밎 누적\n",
        "print('\\nTest set: Average loss: {:.4f}, Accuracy: {}/{} ({:.0f}%)\\n'.format(\n",
        "        test_loss, correct, len(test_loader.dataset),\n",
        "        100. * correct / len(test_loader.dataset)))\n",
        ""
      ]
    },
    {
      "cell_type": "markdown",
      "metadata": {
        "id": "spc48rNHQnYL"
      },
      "source": [
        "### The End."
      ]
    },
    {
      "cell_type": "markdown",
      "metadata": {
        "id": "iMNBVkjiS7D9"
      },
      "source": [
        "##### Please upload your Colab file @Github https://github.com/duneag2/intro-dl/tree/main/Assignment5\n",
        "\n",
        "*   First, make your folder by your name (e.g. seungeun)\n",
        "*   Then upload your \"Jupyter Notebook\" file under that directory\n",
        "\n",
        "###### Need Help?\n",
        "\n",
        "\n",
        "\n",
        "*   Please refer to this link https://yeko90.tistory.com/entry/%ED%8C%8C%EC%9D%B4%EC%8D%AC-colab%EC%BD%94%EB%9E%A9%EC%97%90%EC%84%9C-%EC%95%95%EC%B6%95%ED%8C%8C%EC%9D%BC-%ED%92%80%EA%B8%B0 OR\n",
        "*   Just save your Jupyter Notebook (.ipynb) file in here (colab) and upload via 'Add file' - 'Upload files' https://nthree.tistory.com/60"
      ]
    },
    {
      "cell_type": "code",
      "execution_count": 21,
      "metadata": {
        "id": "XzVGuer0S9Oh"
      },
      "outputs": [],
      "source": []
    }
  ],
  "metadata": {
    "colab": {
      "provenance": []
    },
    "kernelspec": {
      "display_name": "Python 3",
      "name": "python3"
    },
    "language_info": {
      "name": "python"
    }
  },
  "nbformat": 4,
  "nbformat_minor": 0
}