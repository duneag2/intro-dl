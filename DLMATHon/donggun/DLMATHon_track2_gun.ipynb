{
  "nbformat": 4,
  "nbformat_minor": 0,
  "metadata": {
    "colab": {
      "provenance": [],
      "gpuType": "T4"
    },
    "kernelspec": {
      "name": "python3",
      "display_name": "Python 3"
    },
    "language_info": {
      "name": "python"
    },
    "accelerator": "GPU"
  },
  "cells": [
    {
      "cell_type": "code",
      "source": [
        "from google.colab import drive\n",
        "drive.mount('/content/drive')"
      ],
      "metadata": {
        "colab": {
          "base_uri": "https://localhost:8080/"
        },
        "id": "6Isv1kHJ9JlE",
        "outputId": "0d364c53-b7e6-4fd3-fda9-aef6d00c93ca"
      },
      "execution_count": 1,
      "outputs": [
        {
          "output_type": "stream",
          "name": "stdout",
          "text": [
            "Drive already mounted at /content/drive; to attempt to forcibly remount, call drive.mount(\"/content/drive\", force_remount=True).\n"
          ]
        }
      ]
    },
    {
      "cell_type": "code",
      "source": [
        "!pwd"
      ],
      "metadata": {
        "colab": {
          "base_uri": "https://localhost:8080/"
        },
        "id": "kcV6gesU9SHe",
        "outputId": "0fb32d1f-e8b4-4c38-81d0-fb1960931576"
      },
      "execution_count": 68,
      "outputs": [
        {
          "output_type": "stream",
          "name": "stdout",
          "text": [
            "/content\n"
          ]
        }
      ]
    },
    {
      "cell_type": "code",
      "source": [
        "%cd /content/drive/MyDrive/랩실/2024_DLMATHon"
      ],
      "metadata": {
        "colab": {
          "base_uri": "https://localhost:8080/"
        },
        "id": "e9lxKM7w9Una",
        "outputId": "261be3fc-fdaa-41fd-e115-a3ae397d10e0"
      },
      "execution_count": 69,
      "outputs": [
        {
          "output_type": "stream",
          "name": "stdout",
          "text": [
            "/content/drive/MyDrive/랩실/2024_DLMATHon\n"
          ]
        }
      ]
    },
    {
      "cell_type": "code",
      "source": [
        "!unzip -qq \"/content/drive/MyDrive/랩실/2024_DLMATHon/ddubuk_cls.zip\""
      ],
      "metadata": {
        "id": "n_OaB5iw9aGY"
      },
      "execution_count": 70,
      "outputs": []
    },
    {
      "cell_type": "code",
      "source": [
        "import matplotlib.pyplot as plt\n",
        "import matplotlib\n",
        "import torch\n",
        "import numpy as np\n",
        "from torch import nn\n",
        "import torch.nn.functional as F\n",
        "import torchvision\n",
        "from torchvision import transforms, datasets"
      ],
      "metadata": {
        "id": "VxGl-gto9olA"
      },
      "execution_count": 60,
      "outputs": []
    },
    {
      "cell_type": "code",
      "source": [
        "if torch.cuda.is_available():\n",
        "    device = torch.device('cuda')\n",
        "else:\n",
        "    device = torch.device('cpu')\n",
        "print('Using PyTorch version:', torch.__version__, ' Device:', device)"
      ],
      "metadata": {
        "colab": {
          "base_uri": "https://localhost:8080/"
        },
        "id": "MVK52RbU9yzH",
        "outputId": "303fc9e5-2762-4860-e2f0-d81aef61c99c"
      },
      "execution_count": 61,
      "outputs": [
        {
          "output_type": "stream",
          "name": "stdout",
          "text": [
            "Using PyTorch version: 2.3.1+cu121  Device: cuda\n"
          ]
        }
      ]
    },
    {
      "cell_type": "code",
      "source": [
        "!pip install pyheif"
      ],
      "metadata": {
        "colab": {
          "base_uri": "https://localhost:8080/"
        },
        "id": "fKMzlFzGI6_G",
        "outputId": "b3d97c21-d9cb-4bfb-80aa-600a0558d156"
      },
      "execution_count": 62,
      "outputs": [
        {
          "output_type": "stream",
          "name": "stdout",
          "text": [
            "Requirement already satisfied: pyheif in /usr/local/lib/python3.10/dist-packages (0.7.1)\n",
            "Requirement already satisfied: cffi>=1.0.0 in /usr/local/lib/python3.10/dist-packages (from pyheif) (1.17.0)\n",
            "Requirement already satisfied: pycparser in /usr/local/lib/python3.10/dist-packages (from cffi>=1.0.0->pyheif) (2.22)\n"
          ]
        }
      ]
    },
    {
      "cell_type": "code",
      "source": [
        "import os\n",
        "import glob\n",
        "from PIL import Image\n",
        "import pyheif"
      ],
      "metadata": {
        "id": "t7sFslda3e-3"
      },
      "execution_count": 63,
      "outputs": []
    },
    {
      "cell_type": "code",
      "source": [
        "def convet_name(dtype, buktype, extension):\n",
        "  files = glob.glob(\"/content/drive/MyDrive/랩실/2024_DLMATHon/ddubuk/\" + dtype + \"/\" + buktype + \"/*.\" + extension)\n",
        "  for name in files:\n",
        "    new_name = os.path.splitext(name)[0] + '.jpg'\n",
        "\n",
        "    if extension == 'HEIC':\n",
        "      heif_file = pyheif.read(name)\n",
        "      image = Image.frombytes(\n",
        "        heif_file.mode,\n",
        "        heif_file.size,\n",
        "        heif_file.data,\n",
        "        \"raw\",\n",
        "        heif_file.mode,\n",
        "        heif_file.stride,\n",
        "        )\n",
        "      image = image.convert('RGB')\n",
        "      image.save(new_name, \"JPEG\")\n",
        "      os.remove(name)\n",
        "    else:\n",
        "      img = Image.open(name).convert('RGB')\n",
        "      img.save(new_name, 'jpeg')\n",
        "      os.remove(name)"
      ],
      "metadata": {
        "id": "se_XtRCQ3Bjh"
      },
      "execution_count": 64,
      "outputs": []
    },
    {
      "cell_type": "code",
      "source": [
        "convet_name('train', 'ddubuk', 'HEIC')\n",
        "convet_name('train', 'ddubuk', 'PNG')\n",
        "convet_name('train', 'ddubuk', 'JPG')"
      ],
      "metadata": {
        "id": "d6hh0yUj36Cg"
      },
      "execution_count": 65,
      "outputs": []
    },
    {
      "cell_type": "code",
      "source": [
        "convet_name('train', 'not_ddubuk', 'png')"
      ],
      "metadata": {
        "id": "uFK51aZWV7w9"
      },
      "execution_count": 66,
      "outputs": []
    },
    {
      "cell_type": "code",
      "source": [
        "convet_name('test', 'ddubuk', 'HEIC')\n",
        "convet_name('test', 'ddubuk', 'PNG')"
      ],
      "metadata": {
        "id": "04pdv27bV7rs"
      },
      "execution_count": 67,
      "outputs": []
    },
    {
      "cell_type": "code",
      "source": [
        "convet_name('test', 'not_ddubuk', 'png')"
      ],
      "metadata": {
        "id": "cjp8qZQhV7gj"
      },
      "execution_count": 68,
      "outputs": []
    },
    {
      "cell_type": "code",
      "source": [
        "BATCH_SIZE = 16\n",
        "EPOCHS = 50"
      ],
      "metadata": {
        "id": "E56eQXm26fPd"
      },
      "execution_count": 69,
      "outputs": []
    },
    {
      "cell_type": "code",
      "source": [
        "train_transforms = transforms.Compose([\n",
        "        transforms.RandomResizedCrop(224),\n",
        "        transforms.RandomHorizontalFlip(),\n",
        "        transforms.ToTensor(),\n",
        "        transforms.Normalize([0.5, 0.5, 0.5], [0.5, 0.5, 0.5])\n",
        "    ])\n",
        "val_transforms = transforms.Compose([\n",
        "        transforms.CenterCrop(224),\n",
        "        transforms.Resize(256),\n",
        "        transforms.ToTensor(),\n",
        "        transforms.Normalize([0.5, 0.5, 0.5], [0.5, 0.5, 0.5])\n",
        "    ])"
      ],
      "metadata": {
        "id": "t3ZxVOhD6c6h"
      },
      "execution_count": 70,
      "outputs": []
    },
    {
      "cell_type": "code",
      "source": [
        "trainset = datasets.ImageFolder(root = \"/content/drive/MyDrive/랩실/2024_DLMATHon/ddubuk/train\", transform=train_transforms)\n",
        "testset = datasets.ImageFolder(root = \"/content/drive/MyDrive/랩실/2024_DLMATHon/ddubuk/test\", transform=val_transforms)"
      ],
      "metadata": {
        "id": "uiJlhHkA52q0"
      },
      "execution_count": 71,
      "outputs": []
    },
    {
      "cell_type": "code",
      "source": [
        "trainloader = torch.utils.data.DataLoader(trainset, batch_size=BATCH_SIZE, shuffle=True)\n",
        "testloader = torch.utils.data.DataLoader(testset, batch_size=BATCH_SIZE, shuffle=False)"
      ],
      "metadata": {
        "id": "sg4gav2m6j6S"
      },
      "execution_count": 72,
      "outputs": []
    },
    {
      "cell_type": "code",
      "source": [
        "for (X_train, y_train) in trainloader:\n",
        "    print('X_train:', X_train.size(), 'type:', X_train.type())\n",
        "    print('y_train:', y_train.size(), 'type:', y_train.type())\n",
        "    break"
      ],
      "metadata": {
        "colab": {
          "base_uri": "https://localhost:8080/"
        },
        "id": "8V74bytLB29B",
        "outputId": "6beecacc-018d-421f-884d-215e4f795999"
      },
      "execution_count": 73,
      "outputs": [
        {
          "output_type": "stream",
          "name": "stdout",
          "text": [
            "X_train: torch.Size([16, 3, 224, 224]) type: torch.FloatTensor\n",
            "y_train: torch.Size([16]) type: torch.LongTensor\n"
          ]
        }
      ]
    },
    {
      "cell_type": "code",
      "source": [
        "pltsize = 1\n",
        "plt.figure(figsize=(10 * pltsize, pltsize))\n",
        "\n",
        "for i in range(10):\n",
        "    plt.subplot(1, 10, i + 1)\n",
        "    plt.axis('off')\n",
        "    plt.imshow(np.transpose(X_train[i], (1, 2, 0)))\n",
        "    plt.title('Class: ' + str(y_train[i].item()))"
      ],
      "metadata": {
        "colab": {
          "base_uri": "https://localhost:8080/",
          "height": 304
        },
        "id": "IB7rjBlGW-o5",
        "outputId": "c3aef42e-8cc4-4afb-b030-887054c28c0e"
      },
      "execution_count": 74,
      "outputs": [
        {
          "output_type": "stream",
          "name": "stderr",
          "text": [
            "WARNING:matplotlib.image:Clipping input data to the valid range for imshow with RGB data ([0..1] for floats or [0..255] for integers).\n",
            "WARNING:matplotlib.image:Clipping input data to the valid range for imshow with RGB data ([0..1] for floats or [0..255] for integers).\n",
            "WARNING:matplotlib.image:Clipping input data to the valid range for imshow with RGB data ([0..1] for floats or [0..255] for integers).\n",
            "WARNING:matplotlib.image:Clipping input data to the valid range for imshow with RGB data ([0..1] for floats or [0..255] for integers).\n",
            "WARNING:matplotlib.image:Clipping input data to the valid range for imshow with RGB data ([0..1] for floats or [0..255] for integers).\n",
            "WARNING:matplotlib.image:Clipping input data to the valid range for imshow with RGB data ([0..1] for floats or [0..255] for integers).\n",
            "WARNING:matplotlib.image:Clipping input data to the valid range for imshow with RGB data ([0..1] for floats or [0..255] for integers).\n",
            "WARNING:matplotlib.image:Clipping input data to the valid range for imshow with RGB data ([0..1] for floats or [0..255] for integers).\n",
            "WARNING:matplotlib.image:Clipping input data to the valid range for imshow with RGB data ([0..1] for floats or [0..255] for integers).\n",
            "WARNING:matplotlib.image:Clipping input data to the valid range for imshow with RGB data ([0..1] for floats or [0..255] for integers).\n"
          ]
        },
        {
          "output_type": "display_data",
          "data": {
            "text/plain": [
              "<Figure size 1000x100 with 10 Axes>"
            ],
            "image/png": "[encoded data removed]"
          },
          "metadata": {}
        }
      ]
    },
    {
      "cell_type": "code",
      "source": [
        "import torchvision.models as models\n",
        "model = models.resnet50(pretrained=True)\n",
        "print(model)"
      ],
      "metadata": {
        "colab": {
          "base_uri": "https://localhost:8080/"
        },
        "id": "_K5GfyiC6sZM",
        "outputId": "f9dcd76b-252f-43be-be09-e5d687cbc0fc"
      },
      "execution_count": 75,
      "outputs": [
        {
          "output_type": "stream",
          "name": "stderr",
          "text": [
            "/usr/local/lib/python3.10/dist-packages/torchvision/models/_utils.py:208: UserWarning: The parameter 'pretrained' is deprecated since 0.13 and may be removed in the future, please use 'weights' instead.\n",
            "  warnings.warn(\n",
            "/usr/local/lib/python3.10/dist-packages/torchvision/models/_utils.py:223: UserWarning: Arguments other than a weight enum or `None` for 'weights' are deprecated since 0.13 and may be removed in the future. The current behavior is equivalent to passing `weights=ResNet50_Weights.IMAGENET1K_V1`. You can also use `weights=ResNet50_Weights.DEFAULT` to get the most up-to-date weights.\n",
            "  warnings.warn(msg)\n"
          ]
        },
        {
          "output_type": "stream",
          "name": "stdout",
          "text": [
            "ResNet(\n",
            "  (conv1): Conv2d(3, 64, kernel_size=(7, 7), stride=(2, 2), padding=(3, 3), bias=False)\n",
            "  (bn1): BatchNorm2d(64, eps=1e-05, momentum=0.1, affine=True, track_running_stats=True)\n",
            "  (relu): ReLU(inplace=True)\n",
            "  (maxpool): MaxPool2d(kernel_size=3, stride=2, padding=1, dilation=1, ceil_mode=False)\n",
            "  (layer1): Sequential(\n",
            "    (0): Bottleneck(\n",
            "      (conv1): Conv2d(64, 64, kernel_size=(1, 1), stride=(1, 1), bias=False)\n",
            "      (bn1): BatchNorm2d(64, eps=1e-05, momentum=0.1, affine=True, track_running_stats=True)\n",
            "      (conv2): Conv2d(64, 64, kernel_size=(3, 3), stride=(1, 1), padding=(1, 1), bias=False)\n",
            "      (bn2): BatchNorm2d(64, eps=1e-05, momentum=0.1, affine=True, track_running_stats=True)\n",
            "      (conv3): Conv2d(64, 256, kernel_size=(1, 1), stride=(1, 1), bias=False)\n",
            "      (bn3): BatchNorm2d(256, eps=1e-05, momentum=0.1, affine=True, track_running_stats=True)\n",
            "      (relu): ReLU(inplace=True)\n",
            "      (downsample): Sequential(\n",
            "        (0): Conv2d(64, 256, kernel_size=(1, 1), stride=(1, 1), bias=False)\n",
            "        (1): BatchNorm2d(256, eps=1e-05, momentum=0.1, affine=True, track_running_stats=True)\n",
            "      )\n",
            "    )\n",
            "    (1): Bottleneck(\n",
            "      (conv1): Conv2d(256, 64, kernel_size=(1, 1), stride=(1, 1), bias=False)\n",
            "      (bn1): BatchNorm2d(64, eps=1e-05, momentum=0.1, affine=True, track_running_stats=True)\n",
            "      (conv2): Conv2d(64, 64, kernel_size=(3, 3), stride=(1, 1), padding=(1, 1), bias=False)\n",
            "      (bn2): BatchNorm2d(64, eps=1e-05, momentum=0.1, affine=True, track_running_stats=True)\n",
            "      (conv3): Conv2d(64, 256, kernel_size=(1, 1), stride=(1, 1), bias=False)\n",
            "      (bn3): BatchNorm2d(256, eps=1e-05, momentum=0.1, affine=True, track_running_stats=True)\n",
            "      (relu): ReLU(inplace=True)\n",
            "    )\n",
            "    (2): Bottleneck(\n",
            "      (conv1): Conv2d(256, 64, kernel_size=(1, 1), stride=(1, 1), bias=False)\n",
            "      (bn1): BatchNorm2d(64, eps=1e-05, momentum=0.1, affine=True, track_running_stats=True)\n",
            "      (conv2): Conv2d(64, 64, kernel_size=(3, 3), stride=(1, 1), padding=(1, 1), bias=False)\n",
            "      (bn2): BatchNorm2d(64, eps=1e-05, momentum=0.1, affine=True, track_running_stats=True)\n",
            "      (conv3): Conv2d(64, 256, kernel_size=(1, 1), stride=(1, 1), bias=False)\n",
            "      (bn3): BatchNorm2d(256, eps=1e-05, momentum=0.1, affine=True, track_running_stats=True)\n",
            "      (relu): ReLU(inplace=True)\n",
            "    )\n",
            "  )\n",
            "  (layer2): Sequential(\n",
            "    (0): Bottleneck(\n",
            "      (conv1): Conv2d(256, 128, kernel_size=(1, 1), stride=(1, 1), bias=False)\n",
            "      (bn1): BatchNorm2d(128, eps=1e-05, momentum=0.1, affine=True, track_running_stats=True)\n",
            "      (conv2): Conv2d(128, 128, kernel_size=(3, 3), stride=(2, 2), padding=(1, 1), bias=False)\n",
            "      (bn2): BatchNorm2d(128, eps=1e-05, momentum=0.1, affine=True, track_running_stats=True)\n",
            "      (conv3): Conv2d(128, 512, kernel_size=(1, 1), stride=(1, 1), bias=False)\n",
            "      (bn3): BatchNorm2d(512, eps=1e-05, momentum=0.1, affine=True, track_running_stats=True)\n",
            "      (relu): ReLU(inplace=True)\n",
            "      (downsample): Sequential(\n",
            "        (0): Conv2d(256, 512, kernel_size=(1, 1), stride=(2, 2), bias=False)\n",
            "        (1): BatchNorm2d(512, eps=1e-05, momentum=0.1, affine=True, track_running_stats=True)\n",
            "      )\n",
            "    )\n",
            "    (1): Bottleneck(\n",
            "      (conv1): Conv2d(512, 128, kernel_size=(1, 1), stride=(1, 1), bias=False)\n",
            "      (bn1): BatchNorm2d(128, eps=1e-05, momentum=0.1, affine=True, track_running_stats=True)\n",
            "      (conv2): Conv2d(128, 128, kernel_size=(3, 3), stride=(1, 1), padding=(1, 1), bias=False)\n",
            "      (bn2): BatchNorm2d(128, eps=1e-05, momentum=0.1, affine=True, track_running_stats=True)\n",
            "      (conv3): Conv2d(128, 512, kernel_size=(1, 1), stride=(1, 1), bias=False)\n",
            "      (bn3): BatchNorm2d(512, eps=1e-05, momentum=0.1, affine=True, track_running_stats=True)\n",
            "      (relu): ReLU(inplace=True)\n",
            "    )\n",
            "    (2): Bottleneck(\n",
            "      (conv1): Conv2d(512, 128, kernel_size=(1, 1), stride=(1, 1), bias=False)\n",
            "      (bn1): BatchNorm2d(128, eps=1e-05, momentum=0.1, affine=True, track_running_stats=True)\n",
            "      (conv2): Conv2d(128, 128, kernel_size=(3, 3), stride=(1, 1), padding=(1, 1), bias=False)\n",
            "      (bn2): BatchNorm2d(128, eps=1e-05, momentum=0.1, affine=True, track_running_stats=True)\n",
            "      (conv3): Conv2d(128, 512, kernel_size=(1, 1), stride=(1, 1), bias=False)\n",
            "      (bn3): BatchNorm2d(512, eps=1e-05, momentum=0.1, affine=True, track_running_stats=True)\n",
            "      (relu): ReLU(inplace=True)\n",
            "    )\n",
            "    (3): Bottleneck(\n",
            "      (conv1): Conv2d(512, 128, kernel_size=(1, 1), stride=(1, 1), bias=False)\n",
            "      (bn1): BatchNorm2d(128, eps=1e-05, momentum=0.1, affine=True, track_running_stats=True)\n",
            "      (conv2): Conv2d(128, 128, kernel_size=(3, 3), stride=(1, 1), padding=(1, 1), bias=False)\n",
            "      (bn2): BatchNorm2d(128, eps=1e-05, momentum=0.1, affine=True, track_running_stats=True)\n",
            "      (conv3): Conv2d(128, 512, kernel_size=(1, 1), stride=(1, 1), bias=False)\n",
            "      (bn3): BatchNorm2d(512, eps=1e-05, momentum=0.1, affine=True, track_running_stats=True)\n",
            "      (relu): ReLU(inplace=True)\n",
            "    )\n",
            "  )\n",
            "  (layer3): Sequential(\n",
            "    (0): Bottleneck(\n",
            "      (conv1): Conv2d(512, 256, kernel_size=(1, 1), stride=(1, 1), bias=False)\n",
            "      (bn1): BatchNorm2d(256, eps=1e-05, momentum=0.1, affine=True, track_running_stats=True)\n",
            "      (conv2): Conv2d(256, 256, kernel_size=(3, 3), stride=(2, 2), padding=(1, 1), bias=False)\n",
            "      (bn2): BatchNorm2d(256, eps=1e-05, momentum=0.1, affine=True, track_running_stats=True)\n",
            "      (conv3): Conv2d(256, 1024, kernel_size=(1, 1), stride=(1, 1), bias=False)\n",
            "      (bn3): BatchNorm2d(1024, eps=1e-05, momentum=0.1, affine=True, track_running_stats=True)\n",
            "      (relu): ReLU(inplace=True)\n",
            "      (downsample): Sequential(\n",
            "        (0): Conv2d(512, 1024, kernel_size=(1, 1), stride=(2, 2), bias=False)\n",
            "        (1): BatchNorm2d(1024, eps=1e-05, momentum=0.1, affine=True, track_running_stats=True)\n",
            "      )\n",
            "    )\n",
            "    (1): Bottleneck(\n",
            "      (conv1): Conv2d(1024, 256, kernel_size=(1, 1), stride=(1, 1), bias=False)\n",
            "      (bn1): BatchNorm2d(256, eps=1e-05, momentum=0.1, affine=True, track_running_stats=True)\n",
            "      (conv2): Conv2d(256, 256, kernel_size=(3, 3), stride=(1, 1), padding=(1, 1), bias=False)\n",
            "      (bn2): BatchNorm2d(256, eps=1e-05, momentum=0.1, affine=True, track_running_stats=True)\n",
            "      (conv3): Conv2d(256, 1024, kernel_size=(1, 1), stride=(1, 1), bias=False)\n",
            "      (bn3): BatchNorm2d(1024, eps=1e-05, momentum=0.1, affine=True, track_running_stats=True)\n",
            "      (relu): ReLU(inplace=True)\n",
            "    )\n",
            "    (2): Bottleneck(\n",
            "      (conv1): Conv2d(1024, 256, kernel_size=(1, 1), stride=(1, 1), bias=False)\n",
            "      (bn1): BatchNorm2d(256, eps=1e-05, momentum=0.1, affine=True, track_running_stats=True)\n",
            "      (conv2): Conv2d(256, 256, kernel_size=(3, 3), stride=(1, 1), padding=(1, 1), bias=False)\n",
            "      (bn2): BatchNorm2d(256, eps=1e-05, momentum=0.1, affine=True, track_running_stats=True)\n",
            "      (conv3): Conv2d(256, 1024, kernel_size=(1, 1), stride=(1, 1), bias=False)\n",
            "      (bn3): BatchNorm2d(1024, eps=1e-05, momentum=0.1, affine=True, track_running_stats=True)\n",
            "      (relu): ReLU(inplace=True)\n",
            "    )\n",
            "    (3): Bottleneck(\n",
            "      (conv1): Conv2d(1024, 256, kernel_size=(1, 1), stride=(1, 1), bias=False)\n",
            "      (bn1): BatchNorm2d(256, eps=1e-05, momentum=0.1, affine=True, track_running_stats=True)\n",
            "      (conv2): Conv2d(256, 256, kernel_size=(3, 3), stride=(1, 1), padding=(1, 1), bias=False)\n",
            "      (bn2): BatchNorm2d(256, eps=1e-05, momentum=0.1, affine=True, track_running_stats=True)\n",
            "      (conv3): Conv2d(256, 1024, kernel_size=(1, 1), stride=(1, 1), bias=False)\n",
            "      (bn3): BatchNorm2d(1024, eps=1e-05, momentum=0.1, affine=True, track_running_stats=True)\n",
            "      (relu): ReLU(inplace=True)\n",
            "    )\n",
            "    (4): Bottleneck(\n",
            "      (conv1): Conv2d(1024, 256, kernel_size=(1, 1), stride=(1, 1), bias=False)\n",
            "      (bn1): BatchNorm2d(256, eps=1e-05, momentum=0.1, affine=True, track_running_stats=True)\n",
            "      (conv2): Conv2d(256, 256, kernel_size=(3, 3), stride=(1, 1), padding=(1, 1), bias=False)\n",
            "      (bn2): BatchNorm2d(256, eps=1e-05, momentum=0.1, affine=True, track_running_stats=True)\n",
            "      (conv3): Conv2d(256, 1024, kernel_size=(1, 1), stride=(1, 1), bias=False)\n",
            "      (bn3): BatchNorm2d(1024, eps=1e-05, momentum=0.1, affine=True, track_running_stats=True)\n",
            "      (relu): ReLU(inplace=True)\n",
            "    )\n",
            "    (5): Bottleneck(\n",
            "      (conv1): Conv2d(1024, 256, kernel_size=(1, 1), stride=(1, 1), bias=False)\n",
            "      (bn1): BatchNorm2d(256, eps=1e-05, momentum=0.1, affine=True, track_running_stats=True)\n",
            "      (conv2): Conv2d(256, 256, kernel_size=(3, 3), stride=(1, 1), padding=(1, 1), bias=False)\n",
            "      (bn2): BatchNorm2d(256, eps=1e-05, momentum=0.1, affine=True, track_running_stats=True)\n",
            "      (conv3): Conv2d(256, 1024, kernel_size=(1, 1), stride=(1, 1), bias=False)\n",
            "      (bn3): BatchNorm2d(1024, eps=1e-05, momentum=0.1, affine=True, track_running_stats=True)\n",
            "      (relu): ReLU(inplace=True)\n",
            "    )\n",
            "  )\n",
            "  (layer4): Sequential(\n",
            "    (0): Bottleneck(\n",
            "      (conv1): Conv2d(1024, 512, kernel_size=(1, 1), stride=(1, 1), bias=False)\n",
            "      (bn1): BatchNorm2d(512, eps=1e-05, momentum=0.1, affine=True, track_running_stats=True)\n",
            "      (conv2): Conv2d(512, 512, kernel_size=(3, 3), stride=(2, 2), padding=(1, 1), bias=False)\n",
            "      (bn2): BatchNorm2d(512, eps=1e-05, momentum=0.1, affine=True, track_running_stats=True)\n",
            "      (conv3): Conv2d(512, 2048, kernel_size=(1, 1), stride=(1, 1), bias=False)\n",
            "      (bn3): BatchNorm2d(2048, eps=1e-05, momentum=0.1, affine=True, track_running_stats=True)\n",
            "      (relu): ReLU(inplace=True)\n",
            "      (downsample): Sequential(\n",
            "        (0): Conv2d(1024, 2048, kernel_size=(1, 1), stride=(2, 2), bias=False)\n",
            "        (1): BatchNorm2d(2048, eps=1e-05, momentum=0.1, affine=True, track_running_stats=True)\n",
            "      )\n",
            "    )\n",
            "    (1): Bottleneck(\n",
            "      (conv1): Conv2d(2048, 512, kernel_size=(1, 1), stride=(1, 1), bias=False)\n",
            "      (bn1): BatchNorm2d(512, eps=1e-05, momentum=0.1, affine=True, track_running_stats=True)\n",
            "      (conv2): Conv2d(512, 512, kernel_size=(3, 3), stride=(1, 1), padding=(1, 1), bias=False)\n",
            "      (bn2): BatchNorm2d(512, eps=1e-05, momentum=0.1, affine=True, track_running_stats=True)\n",
            "      (conv3): Conv2d(512, 2048, kernel_size=(1, 1), stride=(1, 1), bias=False)\n",
            "      (bn3): BatchNorm2d(2048, eps=1e-05, momentum=0.1, affine=True, track_running_stats=True)\n",
            "      (relu): ReLU(inplace=True)\n",
            "    )\n",
            "    (2): Bottleneck(\n",
            "      (conv1): Conv2d(2048, 512, kernel_size=(1, 1), stride=(1, 1), bias=False)\n",
            "      (bn1): BatchNorm2d(512, eps=1e-05, momentum=0.1, affine=True, track_running_stats=True)\n",
            "      (conv2): Conv2d(512, 512, kernel_size=(3, 3), stride=(1, 1), padding=(1, 1), bias=False)\n",
            "      (bn2): BatchNorm2d(512, eps=1e-05, momentum=0.1, affine=True, track_running_stats=True)\n",
            "      (conv3): Conv2d(512, 2048, kernel_size=(1, 1), stride=(1, 1), bias=False)\n",
            "      (bn3): BatchNorm2d(2048, eps=1e-05, momentum=0.1, affine=True, track_running_stats=True)\n",
            "      (relu): ReLU(inplace=True)\n",
            "    )\n",
            "  )\n",
            "  (avgpool): AdaptiveAvgPool2d(output_size=(1, 1))\n",
            "  (fc): Linear(in_features=2048, out_features=1000, bias=True)\n",
            ")\n"
          ]
        }
      ]
    },
    {
      "cell_type": "code",
      "source": [
        "for parameter in model.parameters():\n",
        "  parameter.requires_grad = False"
      ],
      "metadata": {
        "id": "MY9aOMgg7eWm"
      },
      "execution_count": 76,
      "outputs": []
    },
    {
      "cell_type": "code",
      "source": [
        "num_ftrs = model.fc.in_features\n",
        "model.fc = nn.Sequential(\n",
        "    nn.Linear(num_ftrs, 1),\n",
        "    nn.Sigmoid()\n",
        ")\n",
        "model = model.to(device)"
      ],
      "metadata": {
        "id": "jb8b-lcs8BEb"
      },
      "execution_count": 77,
      "outputs": []
    },
    {
      "cell_type": "code",
      "source": [
        "optimizer = torch.optim.Adam(model.parameters(), lr = 0.001)\n",
        "criterion = nn.BCELoss()\n",
        "\n",
        "print(model)"
      ],
      "metadata": {
        "colab": {
          "base_uri": "https://localhost:8080/"
        },
        "id": "7ughbFik8VZe",
        "outputId": "4d432c08-d8e7-4b58-a71f-02c9b550e927"
      },
      "execution_count": 78,
      "outputs": [
        {
          "output_type": "stream",
          "name": "stdout",
          "text": [
            "ResNet(\n",
            "  (conv1): Conv2d(3, 64, kernel_size=(7, 7), stride=(2, 2), padding=(3, 3), bias=False)\n",
            "  (bn1): BatchNorm2d(64, eps=1e-05, momentum=0.1, affine=True, track_running_stats=True)\n",
            "  (relu): ReLU(inplace=True)\n",
            "  (maxpool): MaxPool2d(kernel_size=3, stride=2, padding=1, dilation=1, ceil_mode=False)\n",
            "  (layer1): Sequential(\n",
            "    (0): Bottleneck(\n",
            "      (conv1): Conv2d(64, 64, kernel_size=(1, 1), stride=(1, 1), bias=False)\n",
            "      (bn1): BatchNorm2d(64, eps=1e-05, momentum=0.1, affine=True, track_running_stats=True)\n",
            "      (conv2): Conv2d(64, 64, kernel_size=(3, 3), stride=(1, 1), padding=(1, 1), bias=False)\n",
            "      (bn2): BatchNorm2d(64, eps=1e-05, momentum=0.1, affine=True, track_running_stats=True)\n",
            "      (conv3): Conv2d(64, 256, kernel_size=(1, 1), stride=(1, 1), bias=False)\n",
            "      (bn3): BatchNorm2d(256, eps=1e-05, momentum=0.1, affine=True, track_running_stats=True)\n",
            "      (relu): ReLU(inplace=True)\n",
            "      (downsample): Sequential(\n",
            "        (0): Conv2d(64, 256, kernel_size=(1, 1), stride=(1, 1), bias=False)\n",
            "        (1): BatchNorm2d(256, eps=1e-05, momentum=0.1, affine=True, track_running_stats=True)\n",
            "      )\n",
            "    )\n",
            "    (1): Bottleneck(\n",
            "      (conv1): Conv2d(256, 64, kernel_size=(1, 1), stride=(1, 1), bias=False)\n",
            "      (bn1): BatchNorm2d(64, eps=1e-05, momentum=0.1, affine=True, track_running_stats=True)\n",
            "      (conv2): Conv2d(64, 64, kernel_size=(3, 3), stride=(1, 1), padding=(1, 1), bias=False)\n",
            "      (bn2): BatchNorm2d(64, eps=1e-05, momentum=0.1, affine=True, track_running_stats=True)\n",
            "      (conv3): Conv2d(64, 256, kernel_size=(1, 1), stride=(1, 1), bias=False)\n",
            "      (bn3): BatchNorm2d(256, eps=1e-05, momentum=0.1, affine=True, track_running_stats=True)\n",
            "      (relu): ReLU(inplace=True)\n",
            "    )\n",
            "    (2): Bottleneck(\n",
            "      (conv1): Conv2d(256, 64, kernel_size=(1, 1), stride=(1, 1), bias=False)\n",
            "      (bn1): BatchNorm2d(64, eps=1e-05, momentum=0.1, affine=True, track_running_stats=True)\n",
            "      (conv2): Conv2d(64, 64, kernel_size=(3, 3), stride=(1, 1), padding=(1, 1), bias=False)\n",
            "      (bn2): BatchNorm2d(64, eps=1e-05, momentum=0.1, affine=True, track_running_stats=True)\n",
            "      (conv3): Conv2d(64, 256, kernel_size=(1, 1), stride=(1, 1), bias=False)\n",
            "      (bn3): BatchNorm2d(256, eps=1e-05, momentum=0.1, affine=True, track_running_stats=True)\n",
            "      (relu): ReLU(inplace=True)\n",
            "    )\n",
            "  )\n",
            "  (layer2): Sequential(\n",
            "    (0): Bottleneck(\n",
            "      (conv1): Conv2d(256, 128, kernel_size=(1, 1), stride=(1, 1), bias=False)\n",
            "      (bn1): BatchNorm2d(128, eps=1e-05, momentum=0.1, affine=True, track_running_stats=True)\n",
            "      (conv2): Conv2d(128, 128, kernel_size=(3, 3), stride=(2, 2), padding=(1, 1), bias=False)\n",
            "      (bn2): BatchNorm2d(128, eps=1e-05, momentum=0.1, affine=True, track_running_stats=True)\n",
            "      (conv3): Conv2d(128, 512, kernel_size=(1, 1), stride=(1, 1), bias=False)\n",
            "      (bn3): BatchNorm2d(512, eps=1e-05, momentum=0.1, affine=True, track_running_stats=True)\n",
            "      (relu): ReLU(inplace=True)\n",
            "      (downsample): Sequential(\n",
            "        (0): Conv2d(256, 512, kernel_size=(1, 1), stride=(2, 2), bias=False)\n",
            "        (1): BatchNorm2d(512, eps=1e-05, momentum=0.1, affine=True, track_running_stats=True)\n",
            "      )\n",
            "    )\n",
            "    (1): Bottleneck(\n",
            "      (conv1): Conv2d(512, 128, kernel_size=(1, 1), stride=(1, 1), bias=False)\n",
            "      (bn1): BatchNorm2d(128, eps=1e-05, momentum=0.1, affine=True, track_running_stats=True)\n",
            "      (conv2): Conv2d(128, 128, kernel_size=(3, 3), stride=(1, 1), padding=(1, 1), bias=False)\n",
            "      (bn2): BatchNorm2d(128, eps=1e-05, momentum=0.1, affine=True, track_running_stats=True)\n",
            "      (conv3): Conv2d(128, 512, kernel_size=(1, 1), stride=(1, 1), bias=False)\n",
            "      (bn3): BatchNorm2d(512, eps=1e-05, momentum=0.1, affine=True, track_running_stats=True)\n",
            "      (relu): ReLU(inplace=True)\n",
            "    )\n",
            "    (2): Bottleneck(\n",
            "      (conv1): Conv2d(512, 128, kernel_size=(1, 1), stride=(1, 1), bias=False)\n",
            "      (bn1): BatchNorm2d(128, eps=1e-05, momentum=0.1, affine=True, track_running_stats=True)\n",
            "      (conv2): Conv2d(128, 128, kernel_size=(3, 3), stride=(1, 1), padding=(1, 1), bias=False)\n",
            "      (bn2): BatchNorm2d(128, eps=1e-05, momentum=0.1, affine=True, track_running_stats=True)\n",
            "      (conv3): Conv2d(128, 512, kernel_size=(1, 1), stride=(1, 1), bias=False)\n",
            "      (bn3): BatchNorm2d(512, eps=1e-05, momentum=0.1, affine=True, track_running_stats=True)\n",
            "      (relu): ReLU(inplace=True)\n",
            "    )\n",
            "    (3): Bottleneck(\n",
            "      (conv1): Conv2d(512, 128, kernel_size=(1, 1), stride=(1, 1), bias=False)\n",
            "      (bn1): BatchNorm2d(128, eps=1e-05, momentum=0.1, affine=True, track_running_stats=True)\n",
            "      (conv2): Conv2d(128, 128, kernel_size=(3, 3), stride=(1, 1), padding=(1, 1), bias=False)\n",
            "      (bn2): BatchNorm2d(128, eps=1e-05, momentum=0.1, affine=True, track_running_stats=True)\n",
            "      (conv3): Conv2d(128, 512, kernel_size=(1, 1), stride=(1, 1), bias=False)\n",
            "      (bn3): BatchNorm2d(512, eps=1e-05, momentum=0.1, affine=True, track_running_stats=True)\n",
            "      (relu): ReLU(inplace=True)\n",
            "    )\n",
            "  )\n",
            "  (layer3): Sequential(\n",
            "    (0): Bottleneck(\n",
            "      (conv1): Conv2d(512, 256, kernel_size=(1, 1), stride=(1, 1), bias=False)\n",
            "      (bn1): BatchNorm2d(256, eps=1e-05, momentum=0.1, affine=True, track_running_stats=True)\n",
            "      (conv2): Conv2d(256, 256, kernel_size=(3, 3), stride=(2, 2), padding=(1, 1), bias=False)\n",
            "      (bn2): BatchNorm2d(256, eps=1e-05, momentum=0.1, affine=True, track_running_stats=True)\n",
            "      (conv3): Conv2d(256, 1024, kernel_size=(1, 1), stride=(1, 1), bias=False)\n",
            "      (bn3): BatchNorm2d(1024, eps=1e-05, momentum=0.1, affine=True, track_running_stats=True)\n",
            "      (relu): ReLU(inplace=True)\n",
            "      (downsample): Sequential(\n",
            "        (0): Conv2d(512, 1024, kernel_size=(1, 1), stride=(2, 2), bias=False)\n",
            "        (1): BatchNorm2d(1024, eps=1e-05, momentum=0.1, affine=True, track_running_stats=True)\n",
            "      )\n",
            "    )\n",
            "    (1): Bottleneck(\n",
            "      (conv1): Conv2d(1024, 256, kernel_size=(1, 1), stride=(1, 1), bias=False)\n",
            "      (bn1): BatchNorm2d(256, eps=1e-05, momentum=0.1, affine=True, track_running_stats=True)\n",
            "      (conv2): Conv2d(256, 256, kernel_size=(3, 3), stride=(1, 1), padding=(1, 1), bias=False)\n",
            "      (bn2): BatchNorm2d(256, eps=1e-05, momentum=0.1, affine=True, track_running_stats=True)\n",
            "      (conv3): Conv2d(256, 1024, kernel_size=(1, 1), stride=(1, 1), bias=False)\n",
            "      (bn3): BatchNorm2d(1024, eps=1e-05, momentum=0.1, affine=True, track_running_stats=True)\n",
            "      (relu): ReLU(inplace=True)\n",
            "    )\n",
            "    (2): Bottleneck(\n",
            "      (conv1): Conv2d(1024, 256, kernel_size=(1, 1), stride=(1, 1), bias=False)\n",
            "      (bn1): BatchNorm2d(256, eps=1e-05, momentum=0.1, affine=True, track_running_stats=True)\n",
            "      (conv2): Conv2d(256, 256, kernel_size=(3, 3), stride=(1, 1), padding=(1, 1), bias=False)\n",
            "      (bn2): BatchNorm2d(256, eps=1e-05, momentum=0.1, affine=True, track_running_stats=True)\n",
            "      (conv3): Conv2d(256, 1024, kernel_size=(1, 1), stride=(1, 1), bias=False)\n",
            "      (bn3): BatchNorm2d(1024, eps=1e-05, momentum=0.1, affine=True, track_running_stats=True)\n",
            "      (relu): ReLU(inplace=True)\n",
            "    )\n",
            "    (3): Bottleneck(\n",
            "      (conv1): Conv2d(1024, 256, kernel_size=(1, 1), stride=(1, 1), bias=False)\n",
            "      (bn1): BatchNorm2d(256, eps=1e-05, momentum=0.1, affine=True, track_running_stats=True)\n",
            "      (conv2): Conv2d(256, 256, kernel_size=(3, 3), stride=(1, 1), padding=(1, 1), bias=False)\n",
            "      (bn2): BatchNorm2d(256, eps=1e-05, momentum=0.1, affine=True, track_running_stats=True)\n",
            "      (conv3): Conv2d(256, 1024, kernel_size=(1, 1), stride=(1, 1), bias=False)\n",
            "      (bn3): BatchNorm2d(1024, eps=1e-05, momentum=0.1, affine=True, track_running_stats=True)\n",
            "      (relu): ReLU(inplace=True)\n",
            "    )\n",
            "    (4): Bottleneck(\n",
            "      (conv1): Conv2d(1024, 256, kernel_size=(1, 1), stride=(1, 1), bias=False)\n",
            "      (bn1): BatchNorm2d(256, eps=1e-05, momentum=0.1, affine=True, track_running_stats=True)\n",
            "      (conv2): Conv2d(256, 256, kernel_size=(3, 3), stride=(1, 1), padding=(1, 1), bias=False)\n",
            "      (bn2): BatchNorm2d(256, eps=1e-05, momentum=0.1, affine=True, track_running_stats=True)\n",
            "      (conv3): Conv2d(256, 1024, kernel_size=(1, 1), stride=(1, 1), bias=False)\n",
            "      (bn3): BatchNorm2d(1024, eps=1e-05, momentum=0.1, affine=True, track_running_stats=True)\n",
            "      (relu): ReLU(inplace=True)\n",
            "    )\n",
            "    (5): Bottleneck(\n",
            "      (conv1): Conv2d(1024, 256, kernel_size=(1, 1), stride=(1, 1), bias=False)\n",
            "      (bn1): BatchNorm2d(256, eps=1e-05, momentum=0.1, affine=True, track_running_stats=True)\n",
            "      (conv2): Conv2d(256, 256, kernel_size=(3, 3), stride=(1, 1), padding=(1, 1), bias=False)\n",
            "      (bn2): BatchNorm2d(256, eps=1e-05, momentum=0.1, affine=True, track_running_stats=True)\n",
            "      (conv3): Conv2d(256, 1024, kernel_size=(1, 1), stride=(1, 1), bias=False)\n",
            "      (bn3): BatchNorm2d(1024, eps=1e-05, momentum=0.1, affine=True, track_running_stats=True)\n",
            "      (relu): ReLU(inplace=True)\n",
            "    )\n",
            "  )\n",
            "  (layer4): Sequential(\n",
            "    (0): Bottleneck(\n",
            "      (conv1): Conv2d(1024, 512, kernel_size=(1, 1), stride=(1, 1), bias=False)\n",
            "      (bn1): BatchNorm2d(512, eps=1e-05, momentum=0.1, affine=True, track_running_stats=True)\n",
            "      (conv2): Conv2d(512, 512, kernel_size=(3, 3), stride=(2, 2), padding=(1, 1), bias=False)\n",
            "      (bn2): BatchNorm2d(512, eps=1e-05, momentum=0.1, affine=True, track_running_stats=True)\n",
            "      (conv3): Conv2d(512, 2048, kernel_size=(1, 1), stride=(1, 1), bias=False)\n",
            "      (bn3): BatchNorm2d(2048, eps=1e-05, momentum=0.1, affine=True, track_running_stats=True)\n",
            "      (relu): ReLU(inplace=True)\n",
            "      (downsample): Sequential(\n",
            "        (0): Conv2d(1024, 2048, kernel_size=(1, 1), stride=(2, 2), bias=False)\n",
            "        (1): BatchNorm2d(2048, eps=1e-05, momentum=0.1, affine=True, track_running_stats=True)\n",
            "      )\n",
            "    )\n",
            "    (1): Bottleneck(\n",
            "      (conv1): Conv2d(2048, 512, kernel_size=(1, 1), stride=(1, 1), bias=False)\n",
            "      (bn1): BatchNorm2d(512, eps=1e-05, momentum=0.1, affine=True, track_running_stats=True)\n",
            "      (conv2): Conv2d(512, 512, kernel_size=(3, 3), stride=(1, 1), padding=(1, 1), bias=False)\n",
            "      (bn2): BatchNorm2d(512, eps=1e-05, momentum=0.1, affine=True, track_running_stats=True)\n",
            "      (conv3): Conv2d(512, 2048, kernel_size=(1, 1), stride=(1, 1), bias=False)\n",
            "      (bn3): BatchNorm2d(2048, eps=1e-05, momentum=0.1, affine=True, track_running_stats=True)\n",
            "      (relu): ReLU(inplace=True)\n",
            "    )\n",
            "    (2): Bottleneck(\n",
            "      (conv1): Conv2d(2048, 512, kernel_size=(1, 1), stride=(1, 1), bias=False)\n",
            "      (bn1): BatchNorm2d(512, eps=1e-05, momentum=0.1, affine=True, track_running_stats=True)\n",
            "      (conv2): Conv2d(512, 512, kernel_size=(3, 3), stride=(1, 1), padding=(1, 1), bias=False)\n",
            "      (bn2): BatchNorm2d(512, eps=1e-05, momentum=0.1, affine=True, track_running_stats=True)\n",
            "      (conv3): Conv2d(512, 2048, kernel_size=(1, 1), stride=(1, 1), bias=False)\n",
            "      (bn3): BatchNorm2d(2048, eps=1e-05, momentum=0.1, affine=True, track_running_stats=True)\n",
            "      (relu): ReLU(inplace=True)\n",
            "    )\n",
            "  )\n",
            "  (avgpool): AdaptiveAvgPool2d(output_size=(1, 1))\n",
            "  (fc): Sequential(\n",
            "    (0): Linear(in_features=2048, out_features=1, bias=True)\n",
            "    (1): Sigmoid()\n",
            "  )\n",
            ")\n"
          ]
        }
      ]
    },
    {
      "cell_type": "code",
      "source": [
        "def train(model, train_loader, optimizer, log_interval):\n",
        "    model.train()\n",
        "    for batch_idx, (image, label) in enumerate(train_loader):\n",
        "        image = image.to(device, dtype=torch.float)\n",
        "        label = label.to(device, dtype=torch.float)\n",
        "        optimizer.zero_grad()\n",
        "        output = model(image).squeeze(dim=1)\n",
        "        loss = criterion(output, label)\n",
        "        loss.backward()\n",
        "        optimizer.step()\n",
        "\n",
        "        if batch_idx % log_interval == 0:\n",
        "            print(\"Train Epoch: {} [{}/{} ({:.0f}%)]\\tTrain Loss: {:.6f}\".format(\n",
        "                epoch, batch_idx * len(image),\n",
        "                len(train_loader.dataset), 100. * batch_idx / len(train_loader),\n",
        "                loss.item()))"
      ],
      "metadata": {
        "id": "eqIy0wlY8ZEK"
      },
      "execution_count": 79,
      "outputs": []
    },
    {
      "cell_type": "code",
      "source": [
        "def evaluate(model, test_loader):\n",
        "    model.eval()\n",
        "    test_loss = 0\n",
        "    correct = 0\n",
        "\n",
        "    with torch.no_grad():\n",
        "        for image, label in test_loader:\n",
        "            image = image.to(device, dtype=torch.float)\n",
        "            label = label.to(device, dtype=torch.float)\n",
        "            output = model(image).squeeze(dim=1)\n",
        "            output1 = output.cpu()\n",
        "            output1[output1 >= 0.5] = 1\n",
        "            output1[output1 < 0.5] = 0\n",
        "            correct += output1.eq(label.cpu()).int().sum()\n",
        "\n",
        "    test_loss /= (len(test_loader.dataset) / BATCH_SIZE)\n",
        "    test_accuracy = 100. * correct / len(test_loader.dataset)\n",
        "    return test_loss, test_accuracy, output"
      ],
      "metadata": {
        "id": "rcbRFR1Q9vvs"
      },
      "execution_count": 80,
      "outputs": []
    },
    {
      "cell_type": "code",
      "source": [
        "for epoch in range(1, EPOCHS + 1):\n",
        "    train(model, trainloader, optimizer, log_interval = 5)\n",
        "    valid_loss, valid_accuracy, output = evaluate(model, testloader)\n",
        "    print(\"\\n[EPOCH: {}], \\tTest Loss: {:.4f}, \\tTest Accuracy: {:.2f} % \\n\".format(\n",
        "        epoch, valid_loss, valid_accuracy))"
      ],
      "metadata": {
        "colab": {
          "base_uri": "https://localhost:8080/"
        },
        "id": "Xe0YDq_Z9wDz",
        "outputId": "914bea7b-5b29-4aa4-e029-b54bc28ab146"
      },
      "execution_count": 81,
      "outputs": [
        {
          "output_type": "stream",
          "name": "stdout",
          "text": [
            "Train Epoch: 1 [0/98 (0%)]\tTrain Loss: 0.820738\n",
            "Train Epoch: 1 [80/98 (71%)]\tTrain Loss: 0.394989\n",
            "\n",
            "[EPOCH: 1], \tTest Loss: 0.0000, \tTest Accuracy: 71.43 % \n",
            "\n",
            "Train Epoch: 2 [0/98 (0%)]\tTrain Loss: 0.218182\n",
            "Train Epoch: 2 [80/98 (71%)]\tTrain Loss: 0.197001\n",
            "\n",
            "[EPOCH: 2], \tTest Loss: 0.0000, \tTest Accuracy: 71.43 % \n",
            "\n",
            "Train Epoch: 3 [0/98 (0%)]\tTrain Loss: 0.294997\n",
            "Train Epoch: 3 [80/98 (71%)]\tTrain Loss: 0.380115\n",
            "\n",
            "[EPOCH: 3], \tTest Loss: 0.0000, \tTest Accuracy: 71.43 % \n",
            "\n",
            "Train Epoch: 4 [0/98 (0%)]\tTrain Loss: 0.293622\n",
            "Train Epoch: 4 [80/98 (71%)]\tTrain Loss: 0.262382\n",
            "\n",
            "[EPOCH: 4], \tTest Loss: 0.0000, \tTest Accuracy: 71.43 % \n",
            "\n",
            "Train Epoch: 5 [0/98 (0%)]\tTrain Loss: 0.213088\n",
            "Train Epoch: 5 [80/98 (71%)]\tTrain Loss: 0.197743\n",
            "\n",
            "[EPOCH: 5], \tTest Loss: 0.0000, \tTest Accuracy: 71.43 % \n",
            "\n",
            "Train Epoch: 6 [0/98 (0%)]\tTrain Loss: 0.371748\n",
            "Train Epoch: 6 [80/98 (71%)]\tTrain Loss: 0.190515\n",
            "\n",
            "[EPOCH: 6], \tTest Loss: 0.0000, \tTest Accuracy: 76.19 % \n",
            "\n",
            "Train Epoch: 7 [0/98 (0%)]\tTrain Loss: 0.211178\n",
            "Train Epoch: 7 [80/98 (71%)]\tTrain Loss: 0.147390\n",
            "\n",
            "[EPOCH: 7], \tTest Loss: 0.0000, \tTest Accuracy: 85.71 % \n",
            "\n",
            "Train Epoch: 8 [0/98 (0%)]\tTrain Loss: 0.137130\n",
            "Train Epoch: 8 [80/98 (71%)]\tTrain Loss: 0.198836\n",
            "\n",
            "[EPOCH: 8], \tTest Loss: 0.0000, \tTest Accuracy: 80.95 % \n",
            "\n",
            "Train Epoch: 9 [0/98 (0%)]\tTrain Loss: 0.092405\n",
            "Train Epoch: 9 [80/98 (71%)]\tTrain Loss: 0.197779\n",
            "\n",
            "[EPOCH: 9], \tTest Loss: 0.0000, \tTest Accuracy: 90.48 % \n",
            "\n",
            "Train Epoch: 10 [0/98 (0%)]\tTrain Loss: 0.124801\n",
            "Train Epoch: 10 [80/98 (71%)]\tTrain Loss: 0.111007\n",
            "\n",
            "[EPOCH: 10], \tTest Loss: 0.0000, \tTest Accuracy: 90.48 % \n",
            "\n",
            "Train Epoch: 11 [0/98 (0%)]\tTrain Loss: 0.108653\n",
            "Train Epoch: 11 [80/98 (71%)]\tTrain Loss: 0.155370\n",
            "\n",
            "[EPOCH: 11], \tTest Loss: 0.0000, \tTest Accuracy: 85.71 % \n",
            "\n",
            "Train Epoch: 12 [0/98 (0%)]\tTrain Loss: 0.292412\n",
            "Train Epoch: 12 [80/98 (71%)]\tTrain Loss: 0.086588\n",
            "\n",
            "[EPOCH: 12], \tTest Loss: 0.0000, \tTest Accuracy: 90.48 % \n",
            "\n",
            "Train Epoch: 13 [0/98 (0%)]\tTrain Loss: 0.152548\n",
            "Train Epoch: 13 [80/98 (71%)]\tTrain Loss: 0.082140\n",
            "\n",
            "[EPOCH: 13], \tTest Loss: 0.0000, \tTest Accuracy: 90.48 % \n",
            "\n",
            "Train Epoch: 14 [0/98 (0%)]\tTrain Loss: 0.100730\n",
            "Train Epoch: 14 [80/98 (71%)]\tTrain Loss: 0.094018\n",
            "\n",
            "[EPOCH: 14], \tTest Loss: 0.0000, \tTest Accuracy: 90.48 % \n",
            "\n",
            "Train Epoch: 15 [0/98 (0%)]\tTrain Loss: 0.082224\n",
            "Train Epoch: 15 [80/98 (71%)]\tTrain Loss: 0.060161\n",
            "\n",
            "[EPOCH: 15], \tTest Loss: 0.0000, \tTest Accuracy: 85.71 % \n",
            "\n",
            "Train Epoch: 16 [0/98 (0%)]\tTrain Loss: 0.097040\n",
            "Train Epoch: 16 [80/98 (71%)]\tTrain Loss: 0.119816\n",
            "\n",
            "[EPOCH: 16], \tTest Loss: 0.0000, \tTest Accuracy: 90.48 % \n",
            "\n",
            "Train Epoch: 17 [0/98 (0%)]\tTrain Loss: 0.054432\n",
            "Train Epoch: 17 [80/98 (71%)]\tTrain Loss: 0.062909\n",
            "\n",
            "[EPOCH: 17], \tTest Loss: 0.0000, \tTest Accuracy: 90.48 % \n",
            "\n",
            "Train Epoch: 18 [0/98 (0%)]\tTrain Loss: 0.045881\n",
            "Train Epoch: 18 [80/98 (71%)]\tTrain Loss: 0.035271\n",
            "\n",
            "[EPOCH: 18], \tTest Loss: 0.0000, \tTest Accuracy: 90.48 % \n",
            "\n",
            "Train Epoch: 19 [0/98 (0%)]\tTrain Loss: 0.090859\n",
            "Train Epoch: 19 [80/98 (71%)]\tTrain Loss: 0.041586\n",
            "\n",
            "[EPOCH: 19], \tTest Loss: 0.0000, \tTest Accuracy: 90.48 % \n",
            "\n",
            "Train Epoch: 20 [0/98 (0%)]\tTrain Loss: 0.057677\n",
            "Train Epoch: 20 [80/98 (71%)]\tTrain Loss: 0.088818\n",
            "\n",
            "[EPOCH: 20], \tTest Loss: 0.0000, \tTest Accuracy: 90.48 % \n",
            "\n",
            "Train Epoch: 21 [0/98 (0%)]\tTrain Loss: 0.045295\n",
            "Train Epoch: 21 [80/98 (71%)]\tTrain Loss: 0.074203\n",
            "\n",
            "[EPOCH: 21], \tTest Loss: 0.0000, \tTest Accuracy: 90.48 % \n",
            "\n",
            "Train Epoch: 22 [0/98 (0%)]\tTrain Loss: 0.030173\n",
            "Train Epoch: 22 [80/98 (71%)]\tTrain Loss: 0.081476\n",
            "\n",
            "[EPOCH: 22], \tTest Loss: 0.0000, \tTest Accuracy: 95.24 % \n",
            "\n",
            "Train Epoch: 23 [0/98 (0%)]\tTrain Loss: 0.023998\n",
            "Train Epoch: 23 [80/98 (71%)]\tTrain Loss: 0.191897\n",
            "\n",
            "[EPOCH: 23], \tTest Loss: 0.0000, \tTest Accuracy: 85.71 % \n",
            "\n",
            "Train Epoch: 24 [0/98 (0%)]\tTrain Loss: 0.075678\n",
            "Train Epoch: 24 [80/98 (71%)]\tTrain Loss: 0.106362\n",
            "\n",
            "[EPOCH: 24], \tTest Loss: 0.0000, \tTest Accuracy: 95.24 % \n",
            "\n",
            "Train Epoch: 25 [0/98 (0%)]\tTrain Loss: 0.088226\n",
            "Train Epoch: 25 [80/98 (71%)]\tTrain Loss: 0.129875\n",
            "\n",
            "[EPOCH: 25], \tTest Loss: 0.0000, \tTest Accuracy: 90.48 % \n",
            "\n",
            "Train Epoch: 26 [0/98 (0%)]\tTrain Loss: 0.061467\n",
            "Train Epoch: 26 [80/98 (71%)]\tTrain Loss: 0.024045\n",
            "\n",
            "[EPOCH: 26], \tTest Loss: 0.0000, \tTest Accuracy: 95.24 % \n",
            "\n",
            "Train Epoch: 27 [0/98 (0%)]\tTrain Loss: 0.036125\n",
            "Train Epoch: 27 [80/98 (71%)]\tTrain Loss: 0.112160\n",
            "\n",
            "[EPOCH: 27], \tTest Loss: 0.0000, \tTest Accuracy: 90.48 % \n",
            "\n",
            "Train Epoch: 28 [0/98 (0%)]\tTrain Loss: 0.224638\n",
            "Train Epoch: 28 [80/98 (71%)]\tTrain Loss: 0.038061\n",
            "\n",
            "[EPOCH: 28], \tTest Loss: 0.0000, \tTest Accuracy: 90.48 % \n",
            "\n",
            "Train Epoch: 29 [0/98 (0%)]\tTrain Loss: 0.085097\n",
            "Train Epoch: 29 [80/98 (71%)]\tTrain Loss: 0.032014\n",
            "\n",
            "[EPOCH: 29], \tTest Loss: 0.0000, \tTest Accuracy: 95.24 % \n",
            "\n",
            "Train Epoch: 30 [0/98 (0%)]\tTrain Loss: 0.029074\n",
            "Train Epoch: 30 [80/98 (71%)]\tTrain Loss: 0.070710\n",
            "\n",
            "[EPOCH: 30], \tTest Loss: 0.0000, \tTest Accuracy: 90.48 % \n",
            "\n",
            "Train Epoch: 31 [0/98 (0%)]\tTrain Loss: 0.044741\n",
            "Train Epoch: 31 [80/98 (71%)]\tTrain Loss: 0.042122\n",
            "\n",
            "[EPOCH: 31], \tTest Loss: 0.0000, \tTest Accuracy: 90.48 % \n",
            "\n",
            "Train Epoch: 32 [0/98 (0%)]\tTrain Loss: 0.059152\n",
            "Train Epoch: 32 [80/98 (71%)]\tTrain Loss: 0.019523\n",
            "\n",
            "[EPOCH: 32], \tTest Loss: 0.0000, \tTest Accuracy: 95.24 % \n",
            "\n",
            "Train Epoch: 33 [0/98 (0%)]\tTrain Loss: 0.041571\n",
            "Train Epoch: 33 [80/98 (71%)]\tTrain Loss: 0.086773\n",
            "\n",
            "[EPOCH: 33], \tTest Loss: 0.0000, \tTest Accuracy: 90.48 % \n",
            "\n",
            "Train Epoch: 34 [0/98 (0%)]\tTrain Loss: 0.059493\n",
            "Train Epoch: 34 [80/98 (71%)]\tTrain Loss: 0.027813\n",
            "\n",
            "[EPOCH: 34], \tTest Loss: 0.0000, \tTest Accuracy: 95.24 % \n",
            "\n",
            "Train Epoch: 35 [0/98 (0%)]\tTrain Loss: 0.127243\n",
            "Train Epoch: 35 [80/98 (71%)]\tTrain Loss: 0.024087\n",
            "\n",
            "[EPOCH: 35], \tTest Loss: 0.0000, \tTest Accuracy: 90.48 % \n",
            "\n",
            "Train Epoch: 36 [0/98 (0%)]\tTrain Loss: 0.059426\n",
            "Train Epoch: 36 [80/98 (71%)]\tTrain Loss: 0.050345\n",
            "\n",
            "[EPOCH: 36], \tTest Loss: 0.0000, \tTest Accuracy: 90.48 % \n",
            "\n",
            "Train Epoch: 37 [0/98 (0%)]\tTrain Loss: 0.058256\n",
            "Train Epoch: 37 [80/98 (71%)]\tTrain Loss: 0.018554\n",
            "\n",
            "[EPOCH: 37], \tTest Loss: 0.0000, \tTest Accuracy: 90.48 % \n",
            "\n",
            "Train Epoch: 38 [0/98 (0%)]\tTrain Loss: 0.048869\n",
            "Train Epoch: 38 [80/98 (71%)]\tTrain Loss: 0.053266\n",
            "\n",
            "[EPOCH: 38], \tTest Loss: 0.0000, \tTest Accuracy: 90.48 % \n",
            "\n",
            "Train Epoch: 39 [0/98 (0%)]\tTrain Loss: 0.023205\n",
            "Train Epoch: 39 [80/98 (71%)]\tTrain Loss: 0.022402\n",
            "\n",
            "[EPOCH: 39], \tTest Loss: 0.0000, \tTest Accuracy: 90.48 % \n",
            "\n",
            "Train Epoch: 40 [0/98 (0%)]\tTrain Loss: 0.020272\n",
            "Train Epoch: 40 [80/98 (71%)]\tTrain Loss: 0.029055\n",
            "\n",
            "[EPOCH: 40], \tTest Loss: 0.0000, \tTest Accuracy: 95.24 % \n",
            "\n",
            "Train Epoch: 41 [0/98 (0%)]\tTrain Loss: 0.082632\n",
            "Train Epoch: 41 [80/98 (71%)]\tTrain Loss: 0.038784\n",
            "\n",
            "[EPOCH: 41], \tTest Loss: 0.0000, \tTest Accuracy: 85.71 % \n",
            "\n",
            "Train Epoch: 42 [0/98 (0%)]\tTrain Loss: 0.050722\n",
            "Train Epoch: 42 [80/98 (71%)]\tTrain Loss: 0.057783\n",
            "\n",
            "[EPOCH: 42], \tTest Loss: 0.0000, \tTest Accuracy: 90.48 % \n",
            "\n",
            "Train Epoch: 43 [0/98 (0%)]\tTrain Loss: 0.034734\n",
            "Train Epoch: 43 [80/98 (71%)]\tTrain Loss: 0.014431\n",
            "\n",
            "[EPOCH: 43], \tTest Loss: 0.0000, \tTest Accuracy: 90.48 % \n",
            "\n",
            "Train Epoch: 44 [0/98 (0%)]\tTrain Loss: 0.036400\n",
            "Train Epoch: 44 [80/98 (71%)]\tTrain Loss: 0.050754\n",
            "\n",
            "[EPOCH: 44], \tTest Loss: 0.0000, \tTest Accuracy: 90.48 % \n",
            "\n",
            "Train Epoch: 45 [0/98 (0%)]\tTrain Loss: 0.026171\n",
            "Train Epoch: 45 [80/98 (71%)]\tTrain Loss: 0.022816\n",
            "\n",
            "[EPOCH: 45], \tTest Loss: 0.0000, \tTest Accuracy: 90.48 % \n",
            "\n",
            "Train Epoch: 46 [0/98 (0%)]\tTrain Loss: 0.028390\n",
            "Train Epoch: 46 [80/98 (71%)]\tTrain Loss: 0.109649\n",
            "\n",
            "[EPOCH: 46], \tTest Loss: 0.0000, \tTest Accuracy: 90.48 % \n",
            "\n",
            "Train Epoch: 47 [0/98 (0%)]\tTrain Loss: 0.105303\n",
            "Train Epoch: 47 [80/98 (71%)]\tTrain Loss: 0.054696\n",
            "\n",
            "[EPOCH: 47], \tTest Loss: 0.0000, \tTest Accuracy: 90.48 % \n",
            "\n",
            "Train Epoch: 48 [0/98 (0%)]\tTrain Loss: 0.017718\n",
            "Train Epoch: 48 [80/98 (71%)]\tTrain Loss: 0.012967\n",
            "\n",
            "[EPOCH: 48], \tTest Loss: 0.0000, \tTest Accuracy: 90.48 % \n",
            "\n",
            "Train Epoch: 49 [0/98 (0%)]\tTrain Loss: 0.022110\n",
            "Train Epoch: 49 [80/98 (71%)]\tTrain Loss: 0.018905\n",
            "\n",
            "[EPOCH: 49], \tTest Loss: 0.0000, \tTest Accuracy: 90.48 % \n",
            "\n",
            "Train Epoch: 50 [0/98 (0%)]\tTrain Loss: 0.029956\n",
            "Train Epoch: 50 [80/98 (71%)]\tTrain Loss: 0.042752\n",
            "\n",
            "[EPOCH: 50], \tTest Loss: 0.0000, \tTest Accuracy: 90.48 % \n",
            "\n"
          ]
        }
      ]
    },
    {
      "cell_type": "code",
      "source": [
        "torch.save(model.state_dict(), '/content/drive/MyDrive/랩실/2024_DLMATHon/model_state_dict.pth')"
      ],
      "metadata": {
        "id": "DapZBkkHhd0Z"
      },
      "execution_count": 82,
      "outputs": []
    },
    {
      "cell_type": "code",
      "source": [
        "from sklearn.metrics import roc_curve, auc"
      ],
      "metadata": {
        "id": "svZ_NpVCg6_-"
      },
      "execution_count": 83,
      "outputs": []
    },
    {
      "cell_type": "code",
      "source": [
        "def calculate_roc_auc(model, dataloader):\n",
        "    model.eval()\n",
        "    all_labels = []\n",
        "    all_probs = []\n",
        "\n",
        "    with torch.no_grad():\n",
        "        for image, label in dataloader:\n",
        "            image = image.to(device, dtype=torch.float)\n",
        "            label = label.to(device, dtype=torch.float)\n",
        "            output = model(image)\n",
        "\n",
        "            all_labels.append(label.cpu().numpy())\n",
        "            all_probs.append(output.cpu().numpy())\n",
        "\n",
        "    all_labels = np.concatenate(all_labels)\n",
        "    all_probs = np.concatenate(all_probs)\n",
        "\n",
        "    # ROC 곡선과 AUC 계산\n",
        "    fpr, tpr, _ = roc_curve(all_labels, all_probs)\n",
        "    roc_auc = auc(fpr, tpr)\n",
        "\n",
        "    # ROC 곡선 출력\n",
        "    plt.figure()\n",
        "    plt.plot(fpr, tpr, color='darkorange', lw=2, label=f'ROC curve (area = {roc_auc:.2f})')\n",
        "    plt.plot([0, 1], [0, 1], color='navy', lw=2, linestyle='--')\n",
        "    plt.xlim([0.0, 1.0])\n",
        "    plt.ylim([0.0, 1.0])\n",
        "    plt.xlabel('False Positive Rate')\n",
        "    plt.ylabel('True Positive Rate')\n",
        "    plt.title('Receiver Operating Characteristic (ROC) Curve')\n",
        "    plt.legend(loc=\"lower right\")\n",
        "    plt.show()\n",
        "\n",
        "    print(f'AUC Score: {roc_auc:.4f}')"
      ],
      "metadata": {
        "id": "Mh0oBThhfNvR"
      },
      "execution_count": 96,
      "outputs": []
    },
    {
      "cell_type": "code",
      "source": [
        "calculate_roc_auc(model, testloader)"
      ],
      "metadata": {
        "colab": {
          "base_uri": "https://localhost:8080/",
          "height": 490
        },
        "id": "_0H6EK96hudJ",
        "outputId": "8ba82dc3-5f9e-4ee9-a4f8-ec82d1af3a99"
      },
      "execution_count": 97,
      "outputs": [
        {
          "output_type": "display_data",
          "data": {
            "text/plain": [
              "<Figure size 640x480 with 1 Axes>"
            ],
            "image/png": "[encoded data removed]"
          },
          "metadata": {}
        },
        {
          "output_type": "stream",
          "name": "stdout",
          "text": [
            "AUC Score: 0.9778\n"
          ]
        }
      ]
    },
    {
      "cell_type": "code",
      "source": [],
      "metadata": {
        "id": "E_7JgoaQk3uA"
      },
      "execution_count": null,
      "outputs": []
    }
  ]
}