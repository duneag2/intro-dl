{
  "nbformat": 4,
  "nbformat_minor": 0,
  "metadata": {
    "colab": {
      "provenance": [],
      "gpuType": "T4"
    },
    "kernelspec": {
      "name": "python3",
      "display_name": "Python 3"
    },
    "language_info": {
      "name": "python"
    },
    "accelerator": "GPU"
  },
  "cells": [
    {
      "cell_type": "markdown",
      "source": [
        "### Track 1. 한국 음식 이미지 분류\n",
        "##### https://www.kaggle.com/competitions/2021-data-creator-camp-1120-1/data\n",
        "##### 2021 데이터 크리에이터 캠프 (NIA 주최 데이터 분석 대회)에 출제된 문제입니다.\n",
        "##### 학습데이터 : 3496 장 / 검증데이터 : 689 장 / 평가데이터 : 958 장으로 구성되어 있지만, 평가데이터에 대한 정답지가 없기 때문에 학습데이터 학습하고, 검증데이터로 평가하도록 하겠습니다 (평가데이터는 무시해주세요)\n",
        "##### target은 BoiledDown (조림) / Rice (밥) / Noodle (면) / Roasted (구이) / Kimchi (김치) 총 5개로 구성되어 있습니다.\n",
        "##### hhttps://drive.google.com/file/d/1wBJRhn7R_puujj_2LXjq-xvG03LucaFO/view?usp=drive_link\n"
      ],
      "metadata": {
        "id": "3bFQFplUpYoP"
      }
    },
    {
      "cell_type": "code",
      "execution_count": 1,
      "metadata": {
        "colab": {
          "base_uri": "https://localhost:8080/"
        },
        "id": "l2UqCTzfjU_X",
        "outputId": "e3d00df0-8140-426d-9d4c-52bbb9509647"
      },
      "outputs": [
        {
          "output_type": "stream",
          "name": "stdout",
          "text": [
            "/content\n"
          ]
        }
      ],
      "source": [
        "!pwd"
      ]
    },
    {
      "cell_type": "code",
      "source": [
        "%cd /content/drive/MyDrive/랩실/2024_DLMATHon"
      ],
      "metadata": {
        "colab": {
          "base_uri": "https://localhost:8080/"
        },
        "id": "dgfym6-soQ6G",
        "outputId": "87febdf5-a992-4b0b-9d74-5265fcd9cd12"
      },
      "execution_count": 2,
      "outputs": [
        {
          "output_type": "stream",
          "name": "stdout",
          "text": [
            "/content/drive/MyDrive/랩실/2024_DLMATHon\n"
          ]
        }
      ]
    },
    {
      "cell_type": "code",
      "source": [
        "%ls"
      ],
      "metadata": {
        "colab": {
          "base_uri": "https://localhost:8080/"
        },
        "id": "f0lSSKvmoXUd",
        "outputId": "56d2ce96-e7f1-42eb-d611-56ce0dd01dd1"
      },
      "execution_count": 3,
      "outputs": [
        {
          "output_type": "stream",
          "name": "stdout",
          "text": [
            " 2021-data-creator-camp-1120-1.zip   DLMATHon.ipynb  'Korean Food Image Classification.ipynb'\n",
            " ddubuk_cls.zip                      \u001b[0m\u001b[01;34mkfood\u001b[0m/\n"
          ]
        }
      ]
    },
    {
      "cell_type": "code",
      "source": [
        "!unzip -qq \"/content/drive/MyDrive/랩실/2024_DLMATHon/2021-data-creator-camp-1120-1.zip\""
      ],
      "metadata": {
        "id": "8vZX_rYroY3b"
      },
      "execution_count": 4,
      "outputs": []
    },
    {
      "cell_type": "markdown",
      "source": [
        "## 1. 로컬 데이터를 이용하여 데이터셋 만드는 과정"
      ],
      "metadata": {
        "id": "r9dzMTcjqHqF"
      }
    },
    {
      "cell_type": "code",
      "source": [
        "import matplotlib.pyplot as plt\n",
        "import matplotlib\n",
        "import torch\n",
        "import numpy as np\n",
        "from torch import nn\n",
        "import torch.nn.functional as F\n",
        "import torchvision\n",
        "from torchvision import transforms, datasets"
      ],
      "metadata": {
        "id": "lL7LqPVhqUiV"
      },
      "execution_count": 33,
      "outputs": []
    },
    {
      "cell_type": "code",
      "source": [
        "if torch.cuda.is_available():\n",
        "    device = torch.device('cuda')\n",
        "else:\n",
        "    device = torch.device('cpu')\n",
        "print('Using PyTorch version:', torch.__version__, ' Device:', device)"
      ],
      "metadata": {
        "colab": {
          "base_uri": "https://localhost:8080/"
        },
        "id": "LiRAHO-rrEJy",
        "outputId": "2d474603-4dd6-45cd-a0c8-504a867606db"
      },
      "execution_count": 34,
      "outputs": [
        {
          "output_type": "stream",
          "name": "stdout",
          "text": [
            "Using PyTorch version: 2.3.1+cu121  Device: cuda\n"
          ]
        }
      ]
    },
    {
      "cell_type": "code",
      "source": [
        "BATCH_SIZE = 32\n",
        "EPOCHS = 10"
      ],
      "metadata": {
        "id": "WiMiDr3CuepQ"
      },
      "execution_count": 35,
      "outputs": []
    },
    {
      "cell_type": "code",
      "source": [
        "train_transforms = transforms.Compose([\n",
        "        transforms.RandomResizedCrop(224),\n",
        "        transforms.RandomHorizontalFlip(),\n",
        "        transforms.ToTensor(),\n",
        "        transforms.Normalize([0.5, 0.5, 0.5], [0.5, 0.5, 0.5])\n",
        "    ])\n",
        "val_transforms = transforms.Compose([\n",
        "        transforms.CenterCrop(224),\n",
        "        transforms.Resize(256),\n",
        "        transforms.ToTensor(),\n",
        "        transforms.Normalize([0.5, 0.5, 0.5], [0.5, 0.5, 0.5])\n",
        "    ])"
      ],
      "metadata": {
        "id": "eSpCnOTRrSgy"
      },
      "execution_count": 36,
      "outputs": []
    },
    {
      "cell_type": "code",
      "source": [
        "trainset = datasets.ImageFolder(root = \"/content/drive/MyDrive/랩실/2024_DLMATHon/kfood/train\", transform=train_transforms)\n",
        "valset = datasets.ImageFolder(root = \"/content/drive/MyDrive/랩실/2024_DLMATHon/kfood/val\", transform=val_transforms)"
      ],
      "metadata": {
        "id": "1cbHs9TtuUGA"
      },
      "execution_count": 37,
      "outputs": []
    },
    {
      "cell_type": "code",
      "source": [
        "trainloader = torch.utils.data.DataLoader(trainset, batch_size=BATCH_SIZE, shuffle=True)\n",
        "valloader = torch.utils.data.DataLoader(valset, batch_size=BATCH_SIZE, shuffle=False)"
      ],
      "metadata": {
        "id": "bTArnW3Q2TBk"
      },
      "execution_count": 40,
      "outputs": []
    },
    {
      "cell_type": "code",
      "source": [
        "for (X_train, y_train) in trainloader:\n",
        "    print('X_train:', X_train.size(), 'type:', X_train.type())\n",
        "    print('y_train:', y_train.size(), 'type:', y_train.type())\n",
        "    break"
      ],
      "metadata": {
        "colab": {
          "base_uri": "https://localhost:8080/"
        },
        "id": "0Q8LzoevuprQ",
        "outputId": "66a8f26f-e274-4a30-8f5c-a035cb32d70f"
      },
      "execution_count": 41,
      "outputs": [
        {
          "output_type": "stream",
          "name": "stdout",
          "text": [
            "X_train: torch.Size([32, 3, 224, 224]) type: torch.FloatTensor\n",
            "y_train: torch.Size([32]) type: torch.LongTensor\n"
          ]
        }
      ]
    },
    {
      "cell_type": "code",
      "source": [
        "pltsize = 1\n",
        "plt.figure(figsize=(10 * pltsize, pltsize))\n",
        "\n",
        "for i in range(10):\n",
        "    plt.subplot(1, 10, i + 1)\n",
        "    plt.axis('off')\n",
        "    plt.imshow(np.transpose(X_train[i], (1, 2, 0)))\n",
        "    plt.title('Class: ' + str(y_train[i].item()))"
      ],
      "metadata": {
        "colab": {
          "base_uri": "https://localhost:8080/",
          "height": 304
        },
        "id": "9DxyhplKuu9a",
        "outputId": "1d08eab0-7fac-49ec-dbc6-91737e40d34f"
      },
      "execution_count": 42,
      "outputs": [
        {
          "output_type": "stream",
          "name": "stderr",
          "text": [
            "WARNING:matplotlib.image:Clipping input data to the valid range for imshow with RGB data ([0..1] for floats or [0..255] for integers).\n",
            "WARNING:matplotlib.image:Clipping input data to the valid range for imshow with RGB data ([0..1] for floats or [0..255] for integers).\n",
            "WARNING:matplotlib.image:Clipping input data to the valid range for imshow with RGB data ([0..1] for floats or [0..255] for integers).\n",
            "WARNING:matplotlib.image:Clipping input data to the valid range for imshow with RGB data ([0..1] for floats or [0..255] for integers).\n",
            "WARNING:matplotlib.image:Clipping input data to the valid range for imshow with RGB data ([0..1] for floats or [0..255] for integers).\n",
            "WARNING:matplotlib.image:Clipping input data to the valid range for imshow with RGB data ([0..1] for floats or [0..255] for integers).\n",
            "WARNING:matplotlib.image:Clipping input data to the valid range for imshow with RGB data ([0..1] for floats or [0..255] for integers).\n",
            "WARNING:matplotlib.image:Clipping input data to the valid range for imshow with RGB data ([0..1] for floats or [0..255] for integers).\n",
            "WARNING:matplotlib.image:Clipping input data to the valid range for imshow with RGB data ([0..1] for floats or [0..255] for integers).\n",
            "WARNING:matplotlib.image:Clipping input data to the valid range for imshow with RGB data ([0..1] for floats or [0..255] for integers).\n"
          ]
        },
        {
          "output_type": "display_data",
          "data": {
            "text/plain": [
              "<Figure size 1000x100 with 10 Axes>"
            ],
            "image/png": "[encoded data removed]"
          },
          "metadata": {}
        }
      ]
    },
    {
      "cell_type": "code",
      "source": [
        "import torchvision.models as models\n",
        "model = models.resnet50(pretrained=True)\n",
        "print(model)"
      ],
      "metadata": {
        "colab": {
          "base_uri": "https://localhost:8080/"
        },
        "id": "NB7LOhC3u4pA",
        "outputId": "0c92b411-f678-4f52-966d-510b55fc29ee"
      },
      "execution_count": 59,
      "outputs": [
        {
          "output_type": "stream",
          "name": "stdout",
          "text": [
            "ResNet(\n",
            "  (conv1): Conv2d(3, 64, kernel_size=(7, 7), stride=(2, 2), padding=(3, 3), bias=False)\n",
            "  (bn1): BatchNorm2d(64, eps=1e-05, momentum=0.1, affine=True, track_running_stats=True)\n",
            "  (relu): ReLU(inplace=True)\n",
            "  (maxpool): MaxPool2d(kernel_size=3, stride=2, padding=1, dilation=1, ceil_mode=False)\n",
            "  (layer1): Sequential(\n",
            "    (0): Bottleneck(\n",
            "      (conv1): Conv2d(64, 64, kernel_size=(1, 1), stride=(1, 1), bias=False)\n",
            "      (bn1): BatchNorm2d(64, eps=1e-05, momentum=0.1, affine=True, track_running_stats=True)\n",
            "      (conv2): Conv2d(64, 64, kernel_size=(3, 3), stride=(1, 1), padding=(1, 1), bias=False)\n",
            "      (bn2): BatchNorm2d(64, eps=1e-05, momentum=0.1, affine=True, track_running_stats=True)\n",
            "      (conv3): Conv2d(64, 256, kernel_size=(1, 1), stride=(1, 1), bias=False)\n",
            "      (bn3): BatchNorm2d(256, eps=1e-05, momentum=0.1, affine=True, track_running_stats=True)\n",
            "      (relu): ReLU(inplace=True)\n",
            "      (downsample): Sequential(\n",
            "        (0): Conv2d(64, 256, kernel_size=(1, 1), stride=(1, 1), bias=False)\n",
            "        (1): BatchNorm2d(256, eps=1e-05, momentum=0.1, affine=True, track_running_stats=True)\n",
            "      )\n",
            "    )\n",
            "    (1): Bottleneck(\n",
            "      (conv1): Conv2d(256, 64, kernel_size=(1, 1), stride=(1, 1), bias=False)\n",
            "      (bn1): BatchNorm2d(64, eps=1e-05, momentum=0.1, affine=True, track_running_stats=True)\n",
            "      (conv2): Conv2d(64, 64, kernel_size=(3, 3), stride=(1, 1), padding=(1, 1), bias=False)\n",
            "      (bn2): BatchNorm2d(64, eps=1e-05, momentum=0.1, affine=True, track_running_stats=True)\n",
            "      (conv3): Conv2d(64, 256, kernel_size=(1, 1), stride=(1, 1), bias=False)\n",
            "      (bn3): BatchNorm2d(256, eps=1e-05, momentum=0.1, affine=True, track_running_stats=True)\n",
            "      (relu): ReLU(inplace=True)\n",
            "    )\n",
            "    (2): Bottleneck(\n",
            "      (conv1): Conv2d(256, 64, kernel_size=(1, 1), stride=(1, 1), bias=False)\n",
            "      (bn1): BatchNorm2d(64, eps=1e-05, momentum=0.1, affine=True, track_running_stats=True)\n",
            "      (conv2): Conv2d(64, 64, kernel_size=(3, 3), stride=(1, 1), padding=(1, 1), bias=False)\n",
            "      (bn2): BatchNorm2d(64, eps=1e-05, momentum=0.1, affine=True, track_running_stats=True)\n",
            "      (conv3): Conv2d(64, 256, kernel_size=(1, 1), stride=(1, 1), bias=False)\n",
            "      (bn3): BatchNorm2d(256, eps=1e-05, momentum=0.1, affine=True, track_running_stats=True)\n",
            "      (relu): ReLU(inplace=True)\n",
            "    )\n",
            "  )\n",
            "  (layer2): Sequential(\n",
            "    (0): Bottleneck(\n",
            "      (conv1): Conv2d(256, 128, kernel_size=(1, 1), stride=(1, 1), bias=False)\n",
            "      (bn1): BatchNorm2d(128, eps=1e-05, momentum=0.1, affine=True, track_running_stats=True)\n",
            "      (conv2): Conv2d(128, 128, kernel_size=(3, 3), stride=(2, 2), padding=(1, 1), bias=False)\n",
            "      (bn2): BatchNorm2d(128, eps=1e-05, momentum=0.1, affine=True, track_running_stats=True)\n",
            "      (conv3): Conv2d(128, 512, kernel_size=(1, 1), stride=(1, 1), bias=False)\n",
            "      (bn3): BatchNorm2d(512, eps=1e-05, momentum=0.1, affine=True, track_running_stats=True)\n",
            "      (relu): ReLU(inplace=True)\n",
            "      (downsample): Sequential(\n",
            "        (0): Conv2d(256, 512, kernel_size=(1, 1), stride=(2, 2), bias=False)\n",
            "        (1): BatchNorm2d(512, eps=1e-05, momentum=0.1, affine=True, track_running_stats=True)\n",
            "      )\n",
            "    )\n",
            "    (1): Bottleneck(\n",
            "      (conv1): Conv2d(512, 128, kernel_size=(1, 1), stride=(1, 1), bias=False)\n",
            "      (bn1): BatchNorm2d(128, eps=1e-05, momentum=0.1, affine=True, track_running_stats=True)\n",
            "      (conv2): Conv2d(128, 128, kernel_size=(3, 3), stride=(1, 1), padding=(1, 1), bias=False)\n",
            "      (bn2): BatchNorm2d(128, eps=1e-05, momentum=0.1, affine=True, track_running_stats=True)\n",
            "      (conv3): Conv2d(128, 512, kernel_size=(1, 1), stride=(1, 1), bias=False)\n",
            "      (bn3): BatchNorm2d(512, eps=1e-05, momentum=0.1, affine=True, track_running_stats=True)\n",
            "      (relu): ReLU(inplace=True)\n",
            "    )\n",
            "    (2): Bottleneck(\n",
            "      (conv1): Conv2d(512, 128, kernel_size=(1, 1), stride=(1, 1), bias=False)\n",
            "      (bn1): BatchNorm2d(128, eps=1e-05, momentum=0.1, affine=True, track_running_stats=True)\n",
            "      (conv2): Conv2d(128, 128, kernel_size=(3, 3), stride=(1, 1), padding=(1, 1), bias=False)\n",
            "      (bn2): BatchNorm2d(128, eps=1e-05, momentum=0.1, affine=True, track_running_stats=True)\n",
            "      (conv3): Conv2d(128, 512, kernel_size=(1, 1), stride=(1, 1), bias=False)\n",
            "      (bn3): BatchNorm2d(512, eps=1e-05, momentum=0.1, affine=True, track_running_stats=True)\n",
            "      (relu): ReLU(inplace=True)\n",
            "    )\n",
            "    (3): Bottleneck(\n",
            "      (conv1): Conv2d(512, 128, kernel_size=(1, 1), stride=(1, 1), bias=False)\n",
            "      (bn1): BatchNorm2d(128, eps=1e-05, momentum=0.1, affine=True, track_running_stats=True)\n",
            "      (conv2): Conv2d(128, 128, kernel_size=(3, 3), stride=(1, 1), padding=(1, 1), bias=False)\n",
            "      (bn2): BatchNorm2d(128, eps=1e-05, momentum=0.1, affine=True, track_running_stats=True)\n",
            "      (conv3): Conv2d(128, 512, kernel_size=(1, 1), stride=(1, 1), bias=False)\n",
            "      (bn3): BatchNorm2d(512, eps=1e-05, momentum=0.1, affine=True, track_running_stats=True)\n",
            "      (relu): ReLU(inplace=True)\n",
            "    )\n",
            "  )\n",
            "  (layer3): Sequential(\n",
            "    (0): Bottleneck(\n",
            "      (conv1): Conv2d(512, 256, kernel_size=(1, 1), stride=(1, 1), bias=False)\n",
            "      (bn1): BatchNorm2d(256, eps=1e-05, momentum=0.1, affine=True, track_running_stats=True)\n",
            "      (conv2): Conv2d(256, 256, kernel_size=(3, 3), stride=(2, 2), padding=(1, 1), bias=False)\n",
            "      (bn2): BatchNorm2d(256, eps=1e-05, momentum=0.1, affine=True, track_running_stats=True)\n",
            "      (conv3): Conv2d(256, 1024, kernel_size=(1, 1), stride=(1, 1), bias=False)\n",
            "      (bn3): BatchNorm2d(1024, eps=1e-05, momentum=0.1, affine=True, track_running_stats=True)\n",
            "      (relu): ReLU(inplace=True)\n",
            "      (downsample): Sequential(\n",
            "        (0): Conv2d(512, 1024, kernel_size=(1, 1), stride=(2, 2), bias=False)\n",
            "        (1): BatchNorm2d(1024, eps=1e-05, momentum=0.1, affine=True, track_running_stats=True)\n",
            "      )\n",
            "    )\n",
            "    (1): Bottleneck(\n",
            "      (conv1): Conv2d(1024, 256, kernel_size=(1, 1), stride=(1, 1), bias=False)\n",
            "      (bn1): BatchNorm2d(256, eps=1e-05, momentum=0.1, affine=True, track_running_stats=True)\n",
            "      (conv2): Conv2d(256, 256, kernel_size=(3, 3), stride=(1, 1), padding=(1, 1), bias=False)\n",
            "      (bn2): BatchNorm2d(256, eps=1e-05, momentum=0.1, affine=True, track_running_stats=True)\n",
            "      (conv3): Conv2d(256, 1024, kernel_size=(1, 1), stride=(1, 1), bias=False)\n",
            "      (bn3): BatchNorm2d(1024, eps=1e-05, momentum=0.1, affine=True, track_running_stats=True)\n",
            "      (relu): ReLU(inplace=True)\n",
            "    )\n",
            "    (2): Bottleneck(\n",
            "      (conv1): Conv2d(1024, 256, kernel_size=(1, 1), stride=(1, 1), bias=False)\n",
            "      (bn1): BatchNorm2d(256, eps=1e-05, momentum=0.1, affine=True, track_running_stats=True)\n",
            "      (conv2): Conv2d(256, 256, kernel_size=(3, 3), stride=(1, 1), padding=(1, 1), bias=False)\n",
            "      (bn2): BatchNorm2d(256, eps=1e-05, momentum=0.1, affine=True, track_running_stats=True)\n",
            "      (conv3): Conv2d(256, 1024, kernel_size=(1, 1), stride=(1, 1), bias=False)\n",
            "      (bn3): BatchNorm2d(1024, eps=1e-05, momentum=0.1, affine=True, track_running_stats=True)\n",
            "      (relu): ReLU(inplace=True)\n",
            "    )\n",
            "    (3): Bottleneck(\n",
            "      (conv1): Conv2d(1024, 256, kernel_size=(1, 1), stride=(1, 1), bias=False)\n",
            "      (bn1): BatchNorm2d(256, eps=1e-05, momentum=0.1, affine=True, track_running_stats=True)\n",
            "      (conv2): Conv2d(256, 256, kernel_size=(3, 3), stride=(1, 1), padding=(1, 1), bias=False)\n",
            "      (bn2): BatchNorm2d(256, eps=1e-05, momentum=0.1, affine=True, track_running_stats=True)\n",
            "      (conv3): Conv2d(256, 1024, kernel_size=(1, 1), stride=(1, 1), bias=False)\n",
            "      (bn3): BatchNorm2d(1024, eps=1e-05, momentum=0.1, affine=True, track_running_stats=True)\n",
            "      (relu): ReLU(inplace=True)\n",
            "    )\n",
            "    (4): Bottleneck(\n",
            "      (conv1): Conv2d(1024, 256, kernel_size=(1, 1), stride=(1, 1), bias=False)\n",
            "      (bn1): BatchNorm2d(256, eps=1e-05, momentum=0.1, affine=True, track_running_stats=True)\n",
            "      (conv2): Conv2d(256, 256, kernel_size=(3, 3), stride=(1, 1), padding=(1, 1), bias=False)\n",
            "      (bn2): BatchNorm2d(256, eps=1e-05, momentum=0.1, affine=True, track_running_stats=True)\n",
            "      (conv3): Conv2d(256, 1024, kernel_size=(1, 1), stride=(1, 1), bias=False)\n",
            "      (bn3): BatchNorm2d(1024, eps=1e-05, momentum=0.1, affine=True, track_running_stats=True)\n",
            "      (relu): ReLU(inplace=True)\n",
            "    )\n",
            "    (5): Bottleneck(\n",
            "      (conv1): Conv2d(1024, 256, kernel_size=(1, 1), stride=(1, 1), bias=False)\n",
            "      (bn1): BatchNorm2d(256, eps=1e-05, momentum=0.1, affine=True, track_running_stats=True)\n",
            "      (conv2): Conv2d(256, 256, kernel_size=(3, 3), stride=(1, 1), padding=(1, 1), bias=False)\n",
            "      (bn2): BatchNorm2d(256, eps=1e-05, momentum=0.1, affine=True, track_running_stats=True)\n",
            "      (conv3): Conv2d(256, 1024, kernel_size=(1, 1), stride=(1, 1), bias=False)\n",
            "      (bn3): BatchNorm2d(1024, eps=1e-05, momentum=0.1, affine=True, track_running_stats=True)\n",
            "      (relu): ReLU(inplace=True)\n",
            "    )\n",
            "  )\n",
            "  (layer4): Sequential(\n",
            "    (0): Bottleneck(\n",
            "      (conv1): Conv2d(1024, 512, kernel_size=(1, 1), stride=(1, 1), bias=False)\n",
            "      (bn1): BatchNorm2d(512, eps=1e-05, momentum=0.1, affine=True, track_running_stats=True)\n",
            "      (conv2): Conv2d(512, 512, kernel_size=(3, 3), stride=(2, 2), padding=(1, 1), bias=False)\n",
            "      (bn2): BatchNorm2d(512, eps=1e-05, momentum=0.1, affine=True, track_running_stats=True)\n",
            "      (conv3): Conv2d(512, 2048, kernel_size=(1, 1), stride=(1, 1), bias=False)\n",
            "      (bn3): BatchNorm2d(2048, eps=1e-05, momentum=0.1, affine=True, track_running_stats=True)\n",
            "      (relu): ReLU(inplace=True)\n",
            "      (downsample): Sequential(\n",
            "        (0): Conv2d(1024, 2048, kernel_size=(1, 1), stride=(2, 2), bias=False)\n",
            "        (1): BatchNorm2d(2048, eps=1e-05, momentum=0.1, affine=True, track_running_stats=True)\n",
            "      )\n",
            "    )\n",
            "    (1): Bottleneck(\n",
            "      (conv1): Conv2d(2048, 512, kernel_size=(1, 1), stride=(1, 1), bias=False)\n",
            "      (bn1): BatchNorm2d(512, eps=1e-05, momentum=0.1, affine=True, track_running_stats=True)\n",
            "      (conv2): Conv2d(512, 512, kernel_size=(3, 3), stride=(1, 1), padding=(1, 1), bias=False)\n",
            "      (bn2): BatchNorm2d(512, eps=1e-05, momentum=0.1, affine=True, track_running_stats=True)\n",
            "      (conv3): Conv2d(512, 2048, kernel_size=(1, 1), stride=(1, 1), bias=False)\n",
            "      (bn3): BatchNorm2d(2048, eps=1e-05, momentum=0.1, affine=True, track_running_stats=True)\n",
            "      (relu): ReLU(inplace=True)\n",
            "    )\n",
            "    (2): Bottleneck(\n",
            "      (conv1): Conv2d(2048, 512, kernel_size=(1, 1), stride=(1, 1), bias=False)\n",
            "      (bn1): BatchNorm2d(512, eps=1e-05, momentum=0.1, affine=True, track_running_stats=True)\n",
            "      (conv2): Conv2d(512, 512, kernel_size=(3, 3), stride=(1, 1), padding=(1, 1), bias=False)\n",
            "      (bn2): BatchNorm2d(512, eps=1e-05, momentum=0.1, affine=True, track_running_stats=True)\n",
            "      (conv3): Conv2d(512, 2048, kernel_size=(1, 1), stride=(1, 1), bias=False)\n",
            "      (bn3): BatchNorm2d(2048, eps=1e-05, momentum=0.1, affine=True, track_running_stats=True)\n",
            "      (relu): ReLU(inplace=True)\n",
            "    )\n",
            "  )\n",
            "  (avgpool): AdaptiveAvgPool2d(output_size=(1, 1))\n",
            "  (fc): Linear(in_features=2048, out_features=1000, bias=True)\n",
            ")\n"
          ]
        }
      ]
    },
    {
      "cell_type": "code",
      "source": [
        "for parameter in model.parameters():\n",
        "  parameter.requires_grad = False"
      ],
      "metadata": {
        "id": "4ylQ4AcyvLV3"
      },
      "execution_count": 61,
      "outputs": []
    },
    {
      "cell_type": "code",
      "source": [
        "num_ftrs = model.fc.in_features\n",
        "model.fc = nn.Sequential(\n",
        "    nn.Linear(num_ftrs, 5)\n",
        ")\n",
        "model = model.to(device)"
      ],
      "metadata": {
        "id": "zfKQBsL1vdmI"
      },
      "execution_count": 62,
      "outputs": []
    },
    {
      "cell_type": "code",
      "source": [
        "optimizer = torch.optim.Adam(model.parameters(), lr = 0.001)\n",
        "criterion = nn.CrossEntropyLoss()\n",
        "\n",
        "print(model)"
      ],
      "metadata": {
        "colab": {
          "base_uri": "https://localhost:8080/"
        },
        "id": "FUz3oTuTwAkF",
        "outputId": "c7f67aeb-a9d7-4e04-fcf3-c1a5257edcf6"
      },
      "execution_count": 63,
      "outputs": [
        {
          "output_type": "stream",
          "name": "stdout",
          "text": [
            "ResNet(\n",
            "  (conv1): Conv2d(3, 64, kernel_size=(7, 7), stride=(2, 2), padding=(3, 3), bias=False)\n",
            "  (bn1): BatchNorm2d(64, eps=1e-05, momentum=0.1, affine=True, track_running_stats=True)\n",
            "  (relu): ReLU(inplace=True)\n",
            "  (maxpool): MaxPool2d(kernel_size=3, stride=2, padding=1, dilation=1, ceil_mode=False)\n",
            "  (layer1): Sequential(\n",
            "    (0): Bottleneck(\n",
            "      (conv1): Conv2d(64, 64, kernel_size=(1, 1), stride=(1, 1), bias=False)\n",
            "      (bn1): BatchNorm2d(64, eps=1e-05, momentum=0.1, affine=True, track_running_stats=True)\n",
            "      (conv2): Conv2d(64, 64, kernel_size=(3, 3), stride=(1, 1), padding=(1, 1), bias=False)\n",
            "      (bn2): BatchNorm2d(64, eps=1e-05, momentum=0.1, affine=True, track_running_stats=True)\n",
            "      (conv3): Conv2d(64, 256, kernel_size=(1, 1), stride=(1, 1), bias=False)\n",
            "      (bn3): BatchNorm2d(256, eps=1e-05, momentum=0.1, affine=True, track_running_stats=True)\n",
            "      (relu): ReLU(inplace=True)\n",
            "      (downsample): Sequential(\n",
            "        (0): Conv2d(64, 256, kernel_size=(1, 1), stride=(1, 1), bias=False)\n",
            "        (1): BatchNorm2d(256, eps=1e-05, momentum=0.1, affine=True, track_running_stats=True)\n",
            "      )\n",
            "    )\n",
            "    (1): Bottleneck(\n",
            "      (conv1): Conv2d(256, 64, kernel_size=(1, 1), stride=(1, 1), bias=False)\n",
            "      (bn1): BatchNorm2d(64, eps=1e-05, momentum=0.1, affine=True, track_running_stats=True)\n",
            "      (conv2): Conv2d(64, 64, kernel_size=(3, 3), stride=(1, 1), padding=(1, 1), bias=False)\n",
            "      (bn2): BatchNorm2d(64, eps=1e-05, momentum=0.1, affine=True, track_running_stats=True)\n",
            "      (conv3): Conv2d(64, 256, kernel_size=(1, 1), stride=(1, 1), bias=False)\n",
            "      (bn3): BatchNorm2d(256, eps=1e-05, momentum=0.1, affine=True, track_running_stats=True)\n",
            "      (relu): ReLU(inplace=True)\n",
            "    )\n",
            "    (2): Bottleneck(\n",
            "      (conv1): Conv2d(256, 64, kernel_size=(1, 1), stride=(1, 1), bias=False)\n",
            "      (bn1): BatchNorm2d(64, eps=1e-05, momentum=0.1, affine=True, track_running_stats=True)\n",
            "      (conv2): Conv2d(64, 64, kernel_size=(3, 3), stride=(1, 1), padding=(1, 1), bias=False)\n",
            "      (bn2): BatchNorm2d(64, eps=1e-05, momentum=0.1, affine=True, track_running_stats=True)\n",
            "      (conv3): Conv2d(64, 256, kernel_size=(1, 1), stride=(1, 1), bias=False)\n",
            "      (bn3): BatchNorm2d(256, eps=1e-05, momentum=0.1, affine=True, track_running_stats=True)\n",
            "      (relu): ReLU(inplace=True)\n",
            "    )\n",
            "  )\n",
            "  (layer2): Sequential(\n",
            "    (0): Bottleneck(\n",
            "      (conv1): Conv2d(256, 128, kernel_size=(1, 1), stride=(1, 1), bias=False)\n",
            "      (bn1): BatchNorm2d(128, eps=1e-05, momentum=0.1, affine=True, track_running_stats=True)\n",
            "      (conv2): Conv2d(128, 128, kernel_size=(3, 3), stride=(2, 2), padding=(1, 1), bias=False)\n",
            "      (bn2): BatchNorm2d(128, eps=1e-05, momentum=0.1, affine=True, track_running_stats=True)\n",
            "      (conv3): Conv2d(128, 512, kernel_size=(1, 1), stride=(1, 1), bias=False)\n",
            "      (bn3): BatchNorm2d(512, eps=1e-05, momentum=0.1, affine=True, track_running_stats=True)\n",
            "      (relu): ReLU(inplace=True)\n",
            "      (downsample): Sequential(\n",
            "        (0): Conv2d(256, 512, kernel_size=(1, 1), stride=(2, 2), bias=False)\n",
            "        (1): BatchNorm2d(512, eps=1e-05, momentum=0.1, affine=True, track_running_stats=True)\n",
            "      )\n",
            "    )\n",
            "    (1): Bottleneck(\n",
            "      (conv1): Conv2d(512, 128, kernel_size=(1, 1), stride=(1, 1), bias=False)\n",
            "      (bn1): BatchNorm2d(128, eps=1e-05, momentum=0.1, affine=True, track_running_stats=True)\n",
            "      (conv2): Conv2d(128, 128, kernel_size=(3, 3), stride=(1, 1), padding=(1, 1), bias=False)\n",
            "      (bn2): BatchNorm2d(128, eps=1e-05, momentum=0.1, affine=True, track_running_stats=True)\n",
            "      (conv3): Conv2d(128, 512, kernel_size=(1, 1), stride=(1, 1), bias=False)\n",
            "      (bn3): BatchNorm2d(512, eps=1e-05, momentum=0.1, affine=True, track_running_stats=True)\n",
            "      (relu): ReLU(inplace=True)\n",
            "    )\n",
            "    (2): Bottleneck(\n",
            "      (conv1): Conv2d(512, 128, kernel_size=(1, 1), stride=(1, 1), bias=False)\n",
            "      (bn1): BatchNorm2d(128, eps=1e-05, momentum=0.1, affine=True, track_running_stats=True)\n",
            "      (conv2): Conv2d(128, 128, kernel_size=(3, 3), stride=(1, 1), padding=(1, 1), bias=False)\n",
            "      (bn2): BatchNorm2d(128, eps=1e-05, momentum=0.1, affine=True, track_running_stats=True)\n",
            "      (conv3): Conv2d(128, 512, kernel_size=(1, 1), stride=(1, 1), bias=False)\n",
            "      (bn3): BatchNorm2d(512, eps=1e-05, momentum=0.1, affine=True, track_running_stats=True)\n",
            "      (relu): ReLU(inplace=True)\n",
            "    )\n",
            "    (3): Bottleneck(\n",
            "      (conv1): Conv2d(512, 128, kernel_size=(1, 1), stride=(1, 1), bias=False)\n",
            "      (bn1): BatchNorm2d(128, eps=1e-05, momentum=0.1, affine=True, track_running_stats=True)\n",
            "      (conv2): Conv2d(128, 128, kernel_size=(3, 3), stride=(1, 1), padding=(1, 1), bias=False)\n",
            "      (bn2): BatchNorm2d(128, eps=1e-05, momentum=0.1, affine=True, track_running_stats=True)\n",
            "      (conv3): Conv2d(128, 512, kernel_size=(1, 1), stride=(1, 1), bias=False)\n",
            "      (bn3): BatchNorm2d(512, eps=1e-05, momentum=0.1, affine=True, track_running_stats=True)\n",
            "      (relu): ReLU(inplace=True)\n",
            "    )\n",
            "  )\n",
            "  (layer3): Sequential(\n",
            "    (0): Bottleneck(\n",
            "      (conv1): Conv2d(512, 256, kernel_size=(1, 1), stride=(1, 1), bias=False)\n",
            "      (bn1): BatchNorm2d(256, eps=1e-05, momentum=0.1, affine=True, track_running_stats=True)\n",
            "      (conv2): Conv2d(256, 256, kernel_size=(3, 3), stride=(2, 2), padding=(1, 1), bias=False)\n",
            "      (bn2): BatchNorm2d(256, eps=1e-05, momentum=0.1, affine=True, track_running_stats=True)\n",
            "      (conv3): Conv2d(256, 1024, kernel_size=(1, 1), stride=(1, 1), bias=False)\n",
            "      (bn3): BatchNorm2d(1024, eps=1e-05, momentum=0.1, affine=True, track_running_stats=True)\n",
            "      (relu): ReLU(inplace=True)\n",
            "      (downsample): Sequential(\n",
            "        (0): Conv2d(512, 1024, kernel_size=(1, 1), stride=(2, 2), bias=False)\n",
            "        (1): BatchNorm2d(1024, eps=1e-05, momentum=0.1, affine=True, track_running_stats=True)\n",
            "      )\n",
            "    )\n",
            "    (1): Bottleneck(\n",
            "      (conv1): Conv2d(1024, 256, kernel_size=(1, 1), stride=(1, 1), bias=False)\n",
            "      (bn1): BatchNorm2d(256, eps=1e-05, momentum=0.1, affine=True, track_running_stats=True)\n",
            "      (conv2): Conv2d(256, 256, kernel_size=(3, 3), stride=(1, 1), padding=(1, 1), bias=False)\n",
            "      (bn2): BatchNorm2d(256, eps=1e-05, momentum=0.1, affine=True, track_running_stats=True)\n",
            "      (conv3): Conv2d(256, 1024, kernel_size=(1, 1), stride=(1, 1), bias=False)\n",
            "      (bn3): BatchNorm2d(1024, eps=1e-05, momentum=0.1, affine=True, track_running_stats=True)\n",
            "      (relu): ReLU(inplace=True)\n",
            "    )\n",
            "    (2): Bottleneck(\n",
            "      (conv1): Conv2d(1024, 256, kernel_size=(1, 1), stride=(1, 1), bias=False)\n",
            "      (bn1): BatchNorm2d(256, eps=1e-05, momentum=0.1, affine=True, track_running_stats=True)\n",
            "      (conv2): Conv2d(256, 256, kernel_size=(3, 3), stride=(1, 1), padding=(1, 1), bias=False)\n",
            "      (bn2): BatchNorm2d(256, eps=1e-05, momentum=0.1, affine=True, track_running_stats=True)\n",
            "      (conv3): Conv2d(256, 1024, kernel_size=(1, 1), stride=(1, 1), bias=False)\n",
            "      (bn3): BatchNorm2d(1024, eps=1e-05, momentum=0.1, affine=True, track_running_stats=True)\n",
            "      (relu): ReLU(inplace=True)\n",
            "    )\n",
            "    (3): Bottleneck(\n",
            "      (conv1): Conv2d(1024, 256, kernel_size=(1, 1), stride=(1, 1), bias=False)\n",
            "      (bn1): BatchNorm2d(256, eps=1e-05, momentum=0.1, affine=True, track_running_stats=True)\n",
            "      (conv2): Conv2d(256, 256, kernel_size=(3, 3), stride=(1, 1), padding=(1, 1), bias=False)\n",
            "      (bn2): BatchNorm2d(256, eps=1e-05, momentum=0.1, affine=True, track_running_stats=True)\n",
            "      (conv3): Conv2d(256, 1024, kernel_size=(1, 1), stride=(1, 1), bias=False)\n",
            "      (bn3): BatchNorm2d(1024, eps=1e-05, momentum=0.1, affine=True, track_running_stats=True)\n",
            "      (relu): ReLU(inplace=True)\n",
            "    )\n",
            "    (4): Bottleneck(\n",
            "      (conv1): Conv2d(1024, 256, kernel_size=(1, 1), stride=(1, 1), bias=False)\n",
            "      (bn1): BatchNorm2d(256, eps=1e-05, momentum=0.1, affine=True, track_running_stats=True)\n",
            "      (conv2): Conv2d(256, 256, kernel_size=(3, 3), stride=(1, 1), padding=(1, 1), bias=False)\n",
            "      (bn2): BatchNorm2d(256, eps=1e-05, momentum=0.1, affine=True, track_running_stats=True)\n",
            "      (conv3): Conv2d(256, 1024, kernel_size=(1, 1), stride=(1, 1), bias=False)\n",
            "      (bn3): BatchNorm2d(1024, eps=1e-05, momentum=0.1, affine=True, track_running_stats=True)\n",
            "      (relu): ReLU(inplace=True)\n",
            "    )\n",
            "    (5): Bottleneck(\n",
            "      (conv1): Conv2d(1024, 256, kernel_size=(1, 1), stride=(1, 1), bias=False)\n",
            "      (bn1): BatchNorm2d(256, eps=1e-05, momentum=0.1, affine=True, track_running_stats=True)\n",
            "      (conv2): Conv2d(256, 256, kernel_size=(3, 3), stride=(1, 1), padding=(1, 1), bias=False)\n",
            "      (bn2): BatchNorm2d(256, eps=1e-05, momentum=0.1, affine=True, track_running_stats=True)\n",
            "      (conv3): Conv2d(256, 1024, kernel_size=(1, 1), stride=(1, 1), bias=False)\n",
            "      (bn3): BatchNorm2d(1024, eps=1e-05, momentum=0.1, affine=True, track_running_stats=True)\n",
            "      (relu): ReLU(inplace=True)\n",
            "    )\n",
            "  )\n",
            "  (layer4): Sequential(\n",
            "    (0): Bottleneck(\n",
            "      (conv1): Conv2d(1024, 512, kernel_size=(1, 1), stride=(1, 1), bias=False)\n",
            "      (bn1): BatchNorm2d(512, eps=1e-05, momentum=0.1, affine=True, track_running_stats=True)\n",
            "      (conv2): Conv2d(512, 512, kernel_size=(3, 3), stride=(2, 2), padding=(1, 1), bias=False)\n",
            "      (bn2): BatchNorm2d(512, eps=1e-05, momentum=0.1, affine=True, track_running_stats=True)\n",
            "      (conv3): Conv2d(512, 2048, kernel_size=(1, 1), stride=(1, 1), bias=False)\n",
            "      (bn3): BatchNorm2d(2048, eps=1e-05, momentum=0.1, affine=True, track_running_stats=True)\n",
            "      (relu): ReLU(inplace=True)\n",
            "      (downsample): Sequential(\n",
            "        (0): Conv2d(1024, 2048, kernel_size=(1, 1), stride=(2, 2), bias=False)\n",
            "        (1): BatchNorm2d(2048, eps=1e-05, momentum=0.1, affine=True, track_running_stats=True)\n",
            "      )\n",
            "    )\n",
            "    (1): Bottleneck(\n",
            "      (conv1): Conv2d(2048, 512, kernel_size=(1, 1), stride=(1, 1), bias=False)\n",
            "      (bn1): BatchNorm2d(512, eps=1e-05, momentum=0.1, affine=True, track_running_stats=True)\n",
            "      (conv2): Conv2d(512, 512, kernel_size=(3, 3), stride=(1, 1), padding=(1, 1), bias=False)\n",
            "      (bn2): BatchNorm2d(512, eps=1e-05, momentum=0.1, affine=True, track_running_stats=True)\n",
            "      (conv3): Conv2d(512, 2048, kernel_size=(1, 1), stride=(1, 1), bias=False)\n",
            "      (bn3): BatchNorm2d(2048, eps=1e-05, momentum=0.1, affine=True, track_running_stats=True)\n",
            "      (relu): ReLU(inplace=True)\n",
            "    )\n",
            "    (2): Bottleneck(\n",
            "      (conv1): Conv2d(2048, 512, kernel_size=(1, 1), stride=(1, 1), bias=False)\n",
            "      (bn1): BatchNorm2d(512, eps=1e-05, momentum=0.1, affine=True, track_running_stats=True)\n",
            "      (conv2): Conv2d(512, 512, kernel_size=(3, 3), stride=(1, 1), padding=(1, 1), bias=False)\n",
            "      (bn2): BatchNorm2d(512, eps=1e-05, momentum=0.1, affine=True, track_running_stats=True)\n",
            "      (conv3): Conv2d(512, 2048, kernel_size=(1, 1), stride=(1, 1), bias=False)\n",
            "      (bn3): BatchNorm2d(2048, eps=1e-05, momentum=0.1, affine=True, track_running_stats=True)\n",
            "      (relu): ReLU(inplace=True)\n",
            "    )\n",
            "  )\n",
            "  (avgpool): AdaptiveAvgPool2d(output_size=(1, 1))\n",
            "  (fc): Sequential(\n",
            "    (0): Linear(in_features=2048, out_features=5, bias=True)\n",
            "  )\n",
            ")\n"
          ]
        }
      ]
    },
    {
      "cell_type": "code",
      "source": [
        "def train(model, train_loader, optimizer, log_interval):\n",
        "    model.train()\n",
        "    for batch_idx, (image, label) in enumerate(train_loader):\n",
        "        image = image.to(device, dtype=torch.float)\n",
        "        label = label.to(device, dtype=torch.long)\n",
        "        optimizer.zero_grad()\n",
        "        output = model(image).squeeze(dim=1)\n",
        "        loss = criterion(output, label)\n",
        "        loss.backward()\n",
        "        optimizer.step()\n",
        "\n",
        "        if batch_idx % log_interval == 0:\n",
        "            print(\"Train Epoch: {} [{}/{} ({:.0f}%)]\\tTrain Loss: {:.6f}\".format(\n",
        "                epoch, batch_idx * len(image),\n",
        "                len(train_loader.dataset), 100. * batch_idx / len(train_loader),\n",
        "                loss.item()))"
      ],
      "metadata": {
        "id": "cn3YkB1WwQyI"
      },
      "execution_count": 64,
      "outputs": []
    },
    {
      "cell_type": "code",
      "source": [
        "def evaluate(model, test_loader):\n",
        "    model.eval()\n",
        "    test_loss = 0\n",
        "    correct = 0\n",
        "\n",
        "    with torch.no_grad():\n",
        "        for image, label in test_loader:\n",
        "            image = image.to(device, dtype=torch.float)\n",
        "            label = label.to(device, dtype=torch.long)\n",
        "            output = model(image).squeeze(dim=1)\n",
        "            test_loss += criterion(output, label).item()\n",
        "\n",
        "            pr = torch.softmax(output, dim=1)\n",
        "\n",
        "            _, predicted = torch.max(pr, 1)\n",
        "\n",
        "            correct += (predicted.cpu() == label.cpu()).sum().item()\n",
        "\n",
        "    test_loss /= (len(test_loader.dataset) / BATCH_SIZE)\n",
        "    test_accuracy = 100. * correct / len(test_loader.dataset)\n",
        "    return test_loss, test_accuracy"
      ],
      "metadata": {
        "id": "GbwUaupfwWP1"
      },
      "execution_count": 65,
      "outputs": []
    },
    {
      "cell_type": "code",
      "source": [
        "for epoch in range(1, EPOCHS + 1):\n",
        "    train(model, trainloader, optimizer, log_interval = 5)\n",
        "    valid_loss, valid_accuracy = evaluate(model, valloader)\n",
        "    print(\"\\n[EPOCH: {}], \\tTest Loss: {:.4f}, \\tTest Accuracy: {:.2f} % \\n\".format(\n",
        "        epoch, valid_loss, valid_accuracy))"
      ],
      "metadata": {
        "colab": {
          "base_uri": "https://localhost:8080/"
        },
        "id": "V-mhg1xnw_tr",
        "outputId": "c7826650-5510-4ba7-ca9b-72af82e95e28"
      },
      "execution_count": 66,
      "outputs": [
        {
          "output_type": "stream",
          "name": "stdout",
          "text": [
            "Train Epoch: 1 [0/3490 (0%)]\tTrain Loss: 1.615727\n",
            "Train Epoch: 1 [160/3490 (5%)]\tTrain Loss: 1.528801\n",
            "Train Epoch: 1 [320/3490 (9%)]\tTrain Loss: 1.423072\n",
            "Train Epoch: 1 [480/3490 (14%)]\tTrain Loss: 1.332404\n",
            "Train Epoch: 1 [640/3490 (18%)]\tTrain Loss: 1.355016\n",
            "Train Epoch: 1 [800/3490 (23%)]\tTrain Loss: 1.252761\n",
            "Train Epoch: 1 [960/3490 (27%)]\tTrain Loss: 1.287377\n",
            "Train Epoch: 1 [1120/3490 (32%)]\tTrain Loss: 1.168495\n",
            "Train Epoch: 1 [1280/3490 (36%)]\tTrain Loss: 1.239359\n",
            "Train Epoch: 1 [1440/3490 (41%)]\tTrain Loss: 1.032776\n",
            "Train Epoch: 1 [1600/3490 (45%)]\tTrain Loss: 1.077298\n",
            "Train Epoch: 1 [1760/3490 (50%)]\tTrain Loss: 0.998181\n",
            "Train Epoch: 1 [1920/3490 (55%)]\tTrain Loss: 0.971419\n",
            "Train Epoch: 1 [2080/3490 (59%)]\tTrain Loss: 1.029698\n",
            "Train Epoch: 1 [2240/3490 (64%)]\tTrain Loss: 1.042112\n",
            "Train Epoch: 1 [2400/3490 (68%)]\tTrain Loss: 1.007124\n",
            "Train Epoch: 1 [2560/3490 (73%)]\tTrain Loss: 0.705868\n",
            "Train Epoch: 1 [2720/3490 (77%)]\tTrain Loss: 0.878719\n",
            "Train Epoch: 1 [2880/3490 (82%)]\tTrain Loss: 0.921862\n",
            "Train Epoch: 1 [3040/3490 (86%)]\tTrain Loss: 1.118447\n",
            "Train Epoch: 1 [3200/3490 (91%)]\tTrain Loss: 0.882609\n",
            "Train Epoch: 1 [3360/3490 (95%)]\tTrain Loss: 0.950724\n",
            "\n",
            "[EPOCH: 1], \tTest Loss: 0.8213, \tTest Accuracy: 71.64 % \n",
            "\n",
            "Train Epoch: 2 [0/3490 (0%)]\tTrain Loss: 0.750893\n",
            "Train Epoch: 2 [160/3490 (5%)]\tTrain Loss: 0.806610\n",
            "Train Epoch: 2 [320/3490 (9%)]\tTrain Loss: 0.860207\n",
            "Train Epoch: 2 [480/3490 (14%)]\tTrain Loss: 0.649966\n",
            "Train Epoch: 2 [640/3490 (18%)]\tTrain Loss: 1.145375\n",
            "Train Epoch: 2 [800/3490 (23%)]\tTrain Loss: 0.742195\n",
            "Train Epoch: 2 [960/3490 (27%)]\tTrain Loss: 1.185536\n",
            "Train Epoch: 2 [1120/3490 (32%)]\tTrain Loss: 0.786238\n",
            "Train Epoch: 2 [1280/3490 (36%)]\tTrain Loss: 1.333528\n",
            "Train Epoch: 2 [1440/3490 (41%)]\tTrain Loss: 0.698962\n",
            "Train Epoch: 2 [1600/3490 (45%)]\tTrain Loss: 0.834796\n",
            "Train Epoch: 2 [1760/3490 (50%)]\tTrain Loss: 0.758941\n",
            "Train Epoch: 2 [1920/3490 (55%)]\tTrain Loss: 0.917510\n",
            "Train Epoch: 2 [2080/3490 (59%)]\tTrain Loss: 0.862147\n",
            "Train Epoch: 2 [2240/3490 (64%)]\tTrain Loss: 0.795883\n",
            "Train Epoch: 2 [2400/3490 (68%)]\tTrain Loss: 0.799977\n",
            "Train Epoch: 2 [2560/3490 (73%)]\tTrain Loss: 0.803417\n",
            "Train Epoch: 2 [2720/3490 (77%)]\tTrain Loss: 0.889788\n",
            "Train Epoch: 2 [2880/3490 (82%)]\tTrain Loss: 0.727577\n",
            "Train Epoch: 2 [3040/3490 (86%)]\tTrain Loss: 0.798159\n",
            "Train Epoch: 2 [3200/3490 (91%)]\tTrain Loss: 0.653928\n",
            "Train Epoch: 2 [3360/3490 (95%)]\tTrain Loss: 0.730495\n",
            "\n",
            "[EPOCH: 2], \tTest Loss: 0.8042, \tTest Accuracy: 72.51 % \n",
            "\n",
            "Train Epoch: 3 [0/3490 (0%)]\tTrain Loss: 0.825285\n",
            "Train Epoch: 3 [160/3490 (5%)]\tTrain Loss: 0.828059\n",
            "Train Epoch: 3 [320/3490 (9%)]\tTrain Loss: 0.848306\n",
            "Train Epoch: 3 [480/3490 (14%)]\tTrain Loss: 0.621945\n",
            "Train Epoch: 3 [640/3490 (18%)]\tTrain Loss: 0.576859\n",
            "Train Epoch: 3 [800/3490 (23%)]\tTrain Loss: 0.561638\n",
            "Train Epoch: 3 [960/3490 (27%)]\tTrain Loss: 0.856455\n",
            "Train Epoch: 3 [1120/3490 (32%)]\tTrain Loss: 0.886247\n",
            "Train Epoch: 3 [1280/3490 (36%)]\tTrain Loss: 0.760108\n",
            "Train Epoch: 3 [1440/3490 (41%)]\tTrain Loss: 0.725412\n",
            "Train Epoch: 3 [1600/3490 (45%)]\tTrain Loss: 0.875731\n",
            "Train Epoch: 3 [1760/3490 (50%)]\tTrain Loss: 0.668544\n",
            "Train Epoch: 3 [1920/3490 (55%)]\tTrain Loss: 0.775045\n",
            "Train Epoch: 3 [2080/3490 (59%)]\tTrain Loss: 0.703781\n",
            "Train Epoch: 3 [2240/3490 (64%)]\tTrain Loss: 0.538898\n",
            "Train Epoch: 3 [2400/3490 (68%)]\tTrain Loss: 0.542385\n",
            "Train Epoch: 3 [2560/3490 (73%)]\tTrain Loss: 0.668300\n",
            "Train Epoch: 3 [2720/3490 (77%)]\tTrain Loss: 1.360058\n",
            "Train Epoch: 3 [2880/3490 (82%)]\tTrain Loss: 0.882331\n",
            "Train Epoch: 3 [3040/3490 (86%)]\tTrain Loss: 0.586397\n",
            "Train Epoch: 3 [3200/3490 (91%)]\tTrain Loss: 0.752415\n",
            "Train Epoch: 3 [3360/3490 (95%)]\tTrain Loss: 0.939213\n",
            "\n",
            "[EPOCH: 3], \tTest Loss: 0.7411, \tTest Accuracy: 74.27 % \n",
            "\n",
            "Train Epoch: 4 [0/3490 (0%)]\tTrain Loss: 1.134232\n",
            "Train Epoch: 4 [160/3490 (5%)]\tTrain Loss: 1.147944\n",
            "Train Epoch: 4 [320/3490 (9%)]\tTrain Loss: 0.864179\n",
            "Train Epoch: 4 [480/3490 (14%)]\tTrain Loss: 0.550117\n",
            "Train Epoch: 4 [640/3490 (18%)]\tTrain Loss: 0.537524\n",
            "Train Epoch: 4 [800/3490 (23%)]\tTrain Loss: 0.747287\n",
            "Train Epoch: 4 [960/3490 (27%)]\tTrain Loss: 0.576305\n",
            "Train Epoch: 4 [1120/3490 (32%)]\tTrain Loss: 0.462967\n",
            "Train Epoch: 4 [1280/3490 (36%)]\tTrain Loss: 0.854741\n",
            "Train Epoch: 4 [1440/3490 (41%)]\tTrain Loss: 0.842168\n",
            "Train Epoch: 4 [1600/3490 (45%)]\tTrain Loss: 0.638725\n",
            "Train Epoch: 4 [1760/3490 (50%)]\tTrain Loss: 0.729249\n",
            "Train Epoch: 4 [1920/3490 (55%)]\tTrain Loss: 0.847910\n",
            "Train Epoch: 4 [2080/3490 (59%)]\tTrain Loss: 1.072129\n",
            "Train Epoch: 4 [2240/3490 (64%)]\tTrain Loss: 1.133220\n",
            "Train Epoch: 4 [2400/3490 (68%)]\tTrain Loss: 0.772898\n",
            "Train Epoch: 4 [2560/3490 (73%)]\tTrain Loss: 0.686663\n",
            "Train Epoch: 4 [2720/3490 (77%)]\tTrain Loss: 0.831420\n",
            "Train Epoch: 4 [2880/3490 (82%)]\tTrain Loss: 1.037472\n",
            "Train Epoch: 4 [3040/3490 (86%)]\tTrain Loss: 0.728954\n",
            "Train Epoch: 4 [3200/3490 (91%)]\tTrain Loss: 0.559712\n",
            "Train Epoch: 4 [3360/3490 (95%)]\tTrain Loss: 0.714606\n",
            "\n",
            "[EPOCH: 4], \tTest Loss: 0.7316, \tTest Accuracy: 73.25 % \n",
            "\n",
            "Train Epoch: 5 [0/3490 (0%)]\tTrain Loss: 0.695686\n",
            "Train Epoch: 5 [160/3490 (5%)]\tTrain Loss: 0.896452\n",
            "Train Epoch: 5 [320/3490 (9%)]\tTrain Loss: 0.665045\n",
            "Train Epoch: 5 [480/3490 (14%)]\tTrain Loss: 0.472884\n",
            "Train Epoch: 5 [640/3490 (18%)]\tTrain Loss: 0.582879\n",
            "Train Epoch: 5 [800/3490 (23%)]\tTrain Loss: 0.632489\n",
            "Train Epoch: 5 [960/3490 (27%)]\tTrain Loss: 0.712455\n",
            "Train Epoch: 5 [1120/3490 (32%)]\tTrain Loss: 0.752739\n",
            "Train Epoch: 5 [1280/3490 (36%)]\tTrain Loss: 0.607885\n",
            "Train Epoch: 5 [1440/3490 (41%)]\tTrain Loss: 0.802006\n",
            "Train Epoch: 5 [1600/3490 (45%)]\tTrain Loss: 0.839468\n",
            "Train Epoch: 5 [1760/3490 (50%)]\tTrain Loss: 0.654568\n",
            "Train Epoch: 5 [1920/3490 (55%)]\tTrain Loss: 0.779491\n",
            "Train Epoch: 5 [2080/3490 (59%)]\tTrain Loss: 0.533068\n",
            "Train Epoch: 5 [2240/3490 (64%)]\tTrain Loss: 0.660156\n",
            "Train Epoch: 5 [2400/3490 (68%)]\tTrain Loss: 0.517455\n",
            "Train Epoch: 5 [2560/3490 (73%)]\tTrain Loss: 0.670116\n",
            "Train Epoch: 5 [2720/3490 (77%)]\tTrain Loss: 0.723229\n",
            "Train Epoch: 5 [2880/3490 (82%)]\tTrain Loss: 0.771725\n",
            "Train Epoch: 5 [3040/3490 (86%)]\tTrain Loss: 0.543665\n",
            "Train Epoch: 5 [3200/3490 (91%)]\tTrain Loss: 0.753302\n",
            "Train Epoch: 5 [3360/3490 (95%)]\tTrain Loss: 0.686514\n",
            "\n",
            "[EPOCH: 5], \tTest Loss: 0.7143, \tTest Accuracy: 73.54 % \n",
            "\n",
            "Train Epoch: 6 [0/3490 (0%)]\tTrain Loss: 0.919800\n",
            "Train Epoch: 6 [160/3490 (5%)]\tTrain Loss: 0.714989\n",
            "Train Epoch: 6 [320/3490 (9%)]\tTrain Loss: 0.470819\n",
            "Train Epoch: 6 [480/3490 (14%)]\tTrain Loss: 0.522419\n",
            "Train Epoch: 6 [640/3490 (18%)]\tTrain Loss: 0.482454\n",
            "Train Epoch: 6 [800/3490 (23%)]\tTrain Loss: 0.691583\n",
            "Train Epoch: 6 [960/3490 (27%)]\tTrain Loss: 0.609875\n",
            "Train Epoch: 6 [1120/3490 (32%)]\tTrain Loss: 0.494379\n",
            "Train Epoch: 6 [1280/3490 (36%)]\tTrain Loss: 0.780228\n",
            "Train Epoch: 6 [1440/3490 (41%)]\tTrain Loss: 1.169677\n",
            "Train Epoch: 6 [1600/3490 (45%)]\tTrain Loss: 0.677155\n",
            "Train Epoch: 6 [1760/3490 (50%)]\tTrain Loss: 0.740058\n",
            "Train Epoch: 6 [1920/3490 (55%)]\tTrain Loss: 0.881019\n",
            "Train Epoch: 6 [2080/3490 (59%)]\tTrain Loss: 0.532951\n",
            "Train Epoch: 6 [2240/3490 (64%)]\tTrain Loss: 0.899889\n",
            "Train Epoch: 6 [2400/3490 (68%)]\tTrain Loss: 0.481886\n",
            "Train Epoch: 6 [2560/3490 (73%)]\tTrain Loss: 0.954045\n",
            "Train Epoch: 6 [2720/3490 (77%)]\tTrain Loss: 0.777280\n",
            "Train Epoch: 6 [2880/3490 (82%)]\tTrain Loss: 0.710022\n",
            "Train Epoch: 6 [3040/3490 (86%)]\tTrain Loss: 0.707019\n",
            "Train Epoch: 6 [3200/3490 (91%)]\tTrain Loss: 0.581042\n",
            "Train Epoch: 6 [3360/3490 (95%)]\tTrain Loss: 0.712824\n",
            "\n",
            "[EPOCH: 6], \tTest Loss: 0.6221, \tTest Accuracy: 78.80 % \n",
            "\n",
            "Train Epoch: 7 [0/3490 (0%)]\tTrain Loss: 0.691535\n",
            "Train Epoch: 7 [160/3490 (5%)]\tTrain Loss: 0.651985\n",
            "Train Epoch: 7 [320/3490 (9%)]\tTrain Loss: 0.538995\n",
            "Train Epoch: 7 [480/3490 (14%)]\tTrain Loss: 0.715877\n",
            "Train Epoch: 7 [640/3490 (18%)]\tTrain Loss: 0.417548\n",
            "Train Epoch: 7 [800/3490 (23%)]\tTrain Loss: 0.666048\n",
            "Train Epoch: 7 [960/3490 (27%)]\tTrain Loss: 0.746692\n",
            "Train Epoch: 7 [1120/3490 (32%)]\tTrain Loss: 0.770333\n",
            "Train Epoch: 7 [1280/3490 (36%)]\tTrain Loss: 0.535087\n",
            "Train Epoch: 7 [1440/3490 (41%)]\tTrain Loss: 0.606449\n",
            "Train Epoch: 7 [1600/3490 (45%)]\tTrain Loss: 0.779616\n",
            "Train Epoch: 7 [1760/3490 (50%)]\tTrain Loss: 0.692723\n",
            "Train Epoch: 7 [1920/3490 (55%)]\tTrain Loss: 0.696094\n",
            "Train Epoch: 7 [2080/3490 (59%)]\tTrain Loss: 0.685323\n",
            "Train Epoch: 7 [2240/3490 (64%)]\tTrain Loss: 0.602203\n",
            "Train Epoch: 7 [2400/3490 (68%)]\tTrain Loss: 0.514726\n",
            "Train Epoch: 7 [2560/3490 (73%)]\tTrain Loss: 0.811116\n",
            "Train Epoch: 7 [2720/3490 (77%)]\tTrain Loss: 0.657584\n",
            "Train Epoch: 7 [2880/3490 (82%)]\tTrain Loss: 0.990115\n",
            "Train Epoch: 7 [3040/3490 (86%)]\tTrain Loss: 0.733438\n",
            "Train Epoch: 7 [3200/3490 (91%)]\tTrain Loss: 0.597236\n",
            "Train Epoch: 7 [3360/3490 (95%)]\tTrain Loss: 0.680364\n",
            "\n",
            "[EPOCH: 7], \tTest Loss: 0.6468, \tTest Accuracy: 77.34 % \n",
            "\n",
            "Train Epoch: 8 [0/3490 (0%)]\tTrain Loss: 0.787210\n",
            "Train Epoch: 8 [160/3490 (5%)]\tTrain Loss: 0.764658\n",
            "Train Epoch: 8 [320/3490 (9%)]\tTrain Loss: 0.747206\n",
            "Train Epoch: 8 [480/3490 (14%)]\tTrain Loss: 0.835438\n",
            "Train Epoch: 8 [640/3490 (18%)]\tTrain Loss: 0.538740\n",
            "Train Epoch: 8 [800/3490 (23%)]\tTrain Loss: 0.906162\n",
            "Train Epoch: 8 [960/3490 (27%)]\tTrain Loss: 0.530738\n",
            "Train Epoch: 8 [1120/3490 (32%)]\tTrain Loss: 0.743955\n",
            "Train Epoch: 8 [1280/3490 (36%)]\tTrain Loss: 0.562773\n",
            "Train Epoch: 8 [1440/3490 (41%)]\tTrain Loss: 0.452163\n",
            "Train Epoch: 8 [1600/3490 (45%)]\tTrain Loss: 0.958613\n",
            "Train Epoch: 8 [1760/3490 (50%)]\tTrain Loss: 0.760423\n",
            "Train Epoch: 8 [1920/3490 (55%)]\tTrain Loss: 0.562833\n",
            "Train Epoch: 8 [2080/3490 (59%)]\tTrain Loss: 0.499276\n",
            "Train Epoch: 8 [2240/3490 (64%)]\tTrain Loss: 0.775237\n",
            "Train Epoch: 8 [2400/3490 (68%)]\tTrain Loss: 0.943011\n",
            "Train Epoch: 8 [2560/3490 (73%)]\tTrain Loss: 0.551249\n",
            "Train Epoch: 8 [2720/3490 (77%)]\tTrain Loss: 0.797126\n",
            "Train Epoch: 8 [2880/3490 (82%)]\tTrain Loss: 0.748036\n",
            "Train Epoch: 8 [3040/3490 (86%)]\tTrain Loss: 0.359860\n",
            "Train Epoch: 8 [3200/3490 (91%)]\tTrain Loss: 0.720793\n",
            "Train Epoch: 8 [3360/3490 (95%)]\tTrain Loss: 0.642161\n",
            "\n",
            "[EPOCH: 8], \tTest Loss: 0.6149, \tTest Accuracy: 80.41 % \n",
            "\n",
            "Train Epoch: 9 [0/3490 (0%)]\tTrain Loss: 0.758813\n",
            "Train Epoch: 9 [160/3490 (5%)]\tTrain Loss: 0.708167\n",
            "Train Epoch: 9 [320/3490 (9%)]\tTrain Loss: 0.616122\n",
            "Train Epoch: 9 [480/3490 (14%)]\tTrain Loss: 0.737028\n",
            "Train Epoch: 9 [640/3490 (18%)]\tTrain Loss: 0.732660\n",
            "Train Epoch: 9 [800/3490 (23%)]\tTrain Loss: 0.637724\n",
            "Train Epoch: 9 [960/3490 (27%)]\tTrain Loss: 0.497861\n",
            "Train Epoch: 9 [1120/3490 (32%)]\tTrain Loss: 0.463826\n",
            "Train Epoch: 9 [1280/3490 (36%)]\tTrain Loss: 0.789348\n",
            "Train Epoch: 9 [1440/3490 (41%)]\tTrain Loss: 0.432795\n",
            "Train Epoch: 9 [1600/3490 (45%)]\tTrain Loss: 0.617734\n",
            "Train Epoch: 9 [1760/3490 (50%)]\tTrain Loss: 0.518927\n",
            "Train Epoch: 9 [1920/3490 (55%)]\tTrain Loss: 0.658585\n",
            "Train Epoch: 9 [2080/3490 (59%)]\tTrain Loss: 0.834393\n",
            "Train Epoch: 9 [2240/3490 (64%)]\tTrain Loss: 0.687400\n",
            "Train Epoch: 9 [2400/3490 (68%)]\tTrain Loss: 0.985746\n",
            "Train Epoch: 9 [2560/3490 (73%)]\tTrain Loss: 0.681688\n",
            "Train Epoch: 9 [2720/3490 (77%)]\tTrain Loss: 0.780967\n",
            "Train Epoch: 9 [2880/3490 (82%)]\tTrain Loss: 0.664445\n",
            "Train Epoch: 9 [3040/3490 (86%)]\tTrain Loss: 0.708480\n",
            "Train Epoch: 9 [3200/3490 (91%)]\tTrain Loss: 0.724067\n",
            "Train Epoch: 9 [3360/3490 (95%)]\tTrain Loss: 0.538634\n",
            "\n",
            "[EPOCH: 9], \tTest Loss: 0.6503, \tTest Accuracy: 77.05 % \n",
            "\n",
            "Train Epoch: 10 [0/3490 (0%)]\tTrain Loss: 0.536727\n",
            "Train Epoch: 10 [160/3490 (5%)]\tTrain Loss: 0.539831\n",
            "Train Epoch: 10 [320/3490 (9%)]\tTrain Loss: 0.843355\n",
            "Train Epoch: 10 [480/3490 (14%)]\tTrain Loss: 0.870286\n",
            "Train Epoch: 10 [640/3490 (18%)]\tTrain Loss: 0.615364\n",
            "Train Epoch: 10 [800/3490 (23%)]\tTrain Loss: 0.531477\n",
            "Train Epoch: 10 [960/3490 (27%)]\tTrain Loss: 0.354535\n",
            "Train Epoch: 10 [1120/3490 (32%)]\tTrain Loss: 1.012402\n",
            "Train Epoch: 10 [1280/3490 (36%)]\tTrain Loss: 0.855638\n",
            "Train Epoch: 10 [1440/3490 (41%)]\tTrain Loss: 0.546749\n",
            "Train Epoch: 10 [1600/3490 (45%)]\tTrain Loss: 0.961293\n",
            "Train Epoch: 10 [1760/3490 (50%)]\tTrain Loss: 0.713951\n",
            "Train Epoch: 10 [1920/3490 (55%)]\tTrain Loss: 0.622585\n",
            "Train Epoch: 10 [2080/3490 (59%)]\tTrain Loss: 0.749054\n",
            "Train Epoch: 10 [2240/3490 (64%)]\tTrain Loss: 0.873088\n",
            "Train Epoch: 10 [2400/3490 (68%)]\tTrain Loss: 0.888089\n",
            "Train Epoch: 10 [2560/3490 (73%)]\tTrain Loss: 0.627956\n",
            "Train Epoch: 10 [2720/3490 (77%)]\tTrain Loss: 0.658647\n",
            "Train Epoch: 10 [2880/3490 (82%)]\tTrain Loss: 0.741504\n",
            "Train Epoch: 10 [3040/3490 (86%)]\tTrain Loss: 0.723813\n",
            "Train Epoch: 10 [3200/3490 (91%)]\tTrain Loss: 0.724003\n",
            "Train Epoch: 10 [3360/3490 (95%)]\tTrain Loss: 0.809335\n",
            "\n",
            "[EPOCH: 10], \tTest Loss: 0.6504, \tTest Accuracy: 78.07 % \n",
            "\n"
          ]
        }
      ]
    }
  ]
}