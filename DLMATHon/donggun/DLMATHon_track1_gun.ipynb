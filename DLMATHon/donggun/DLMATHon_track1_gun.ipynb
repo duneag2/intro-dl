{
  "nbformat": 4,
  "nbformat_minor": 0,
  "metadata": {
    "colab": {
      "provenance": [],
      "gpuType": "T4"
    },
    "kernelspec": {
      "name": "python3",
      "display_name": "Python 3"
    },
    "language_info": {
      "name": "python"
    },
    "accelerator": "GPU"
  },
  "cells": [
    {
      "cell_type": "markdown",
      "source": [
        "### Track 1. 한국 음식 이미지 분류\n",
        "##### https://www.kaggle.com/competitions/2021-data-creator-camp-1120-1/data\n",
        "##### 2021 데이터 크리에이터 캠프 (NIA 주최 데이터 분석 대회)에 출제된 문제입니다.\n",
        "##### 학습데이터 : 3496 장 / 검증데이터 : 689 장 / 평가데이터 : 958 장으로 구성되어 있지만, 평가데이터에 대한 정답지가 없기 때문에 학습데이터 학습하고, 검증데이터로 평가하도록 하겠습니다 (평가데이터는 무시해주세요)\n",
        "##### target은 BoiledDown (조림) / Rice (밥) / Noodle (면) / Roasted (구이) / Kimchi (김치) 총 5개로 구성되어 있습니다.\n",
        "##### hhttps://drive.google.com/file/d/1wBJRhn7R_puujj_2LXjq-xvG03LucaFO/view?usp=drive_link\n"
      ],
      "metadata": {
        "id": "3bFQFplUpYoP"
      }
    },
    {
      "cell_type": "code",
      "source": [
        "from google.colab import drive\n",
        "drive.mount('/content/drive')"
      ],
      "metadata": {
        "colab": {
          "base_uri": "https://localhost:8080/"
        },
        "id": "ekQdm6qr9Ndj",
        "outputId": "6fda3633-a19f-4906-89fb-036f6d1e8e05"
      },
      "execution_count": 1,
      "outputs": [
        {
          "output_type": "stream",
          "name": "stdout",
          "text": [
            "Drive already mounted at /content/drive; to attempt to forcibly remount, call drive.mount(\"/content/drive\", force_remount=True).\n"
          ]
        }
      ]
    },
    {
      "cell_type": "code",
      "execution_count": 2,
      "metadata": {
        "colab": {
          "base_uri": "https://localhost:8080/"
        },
        "id": "l2UqCTzfjU_X",
        "outputId": "51db90fc-99bd-487c-fcd7-cafc9fe239cd"
      },
      "outputs": [
        {
          "output_type": "stream",
          "name": "stdout",
          "text": [
            "/content\n"
          ]
        }
      ],
      "source": [
        "!pwd"
      ]
    },
    {
      "cell_type": "code",
      "source": [
        "%cd /content/drive/MyDrive/랩실/2024_DLMATHon"
      ],
      "metadata": {
        "colab": {
          "base_uri": "https://localhost:8080/"
        },
        "id": "dgfym6-soQ6G",
        "outputId": "a9f6035c-6199-4eac-b240-f07031e99b76"
      },
      "execution_count": 3,
      "outputs": [
        {
          "output_type": "stream",
          "name": "stdout",
          "text": [
            "/content/drive/MyDrive/랩실/2024_DLMATHon\n"
          ]
        }
      ]
    },
    {
      "cell_type": "code",
      "source": [
        "%ls"
      ],
      "metadata": {
        "colab": {
          "base_uri": "https://localhost:8080/"
        },
        "id": "f0lSSKvmoXUd",
        "outputId": "dbeb17d4-42d1-4832-e5b4-77bfa5183929"
      },
      "execution_count": 4,
      "outputs": [
        {
          "output_type": "stream",
          "name": "stdout",
          "text": [
            "2021-data-creator-camp-1120-1.zip  ddubuk_cls.zip  DLMATHon_track1_gun.ipynb  \u001b[0m\u001b[01;34mkfood\u001b[0m/\n",
            "\u001b[01;34mddubuk\u001b[0m/                            DLMATHon.ipynb  DLMATHon_track2_gun.ipynb  model_state_dict.pth\n"
          ]
        }
      ]
    },
    {
      "cell_type": "code",
      "source": [
        "# !unzip -qq \"/content/drive/MyDrive/랩실/2024_DLMATHon/2021-data-creator-camp-1120-1.zip\""
      ],
      "metadata": {
        "id": "8vZX_rYroY3b"
      },
      "execution_count": null,
      "outputs": []
    },
    {
      "cell_type": "markdown",
      "source": [
        "## 1. 로컬 데이터를 이용하여 데이터셋 만드는 과정"
      ],
      "metadata": {
        "id": "r9dzMTcjqHqF"
      }
    },
    {
      "cell_type": "code",
      "source": [
        "import matplotlib.pyplot as plt\n",
        "import matplotlib\n",
        "import torch\n",
        "import numpy as np\n",
        "from torch import nn\n",
        "import torch.nn.functional as F\n",
        "import torchvision\n",
        "from torchvision import transforms, datasets"
      ],
      "metadata": {
        "id": "lL7LqPVhqUiV"
      },
      "execution_count": 6,
      "outputs": []
    },
    {
      "cell_type": "code",
      "source": [
        "if torch.cuda.is_available():\n",
        "    device = torch.device('cuda')\n",
        "else:\n",
        "    device = torch.device('cpu')\n",
        "print('Using PyTorch version:', torch.__version__, ' Device:', device)"
      ],
      "metadata": {
        "colab": {
          "base_uri": "https://localhost:8080/"
        },
        "id": "LiRAHO-rrEJy",
        "outputId": "a5e3141f-9aba-43ca-f3f9-f1f1a70fe4b8"
      },
      "execution_count": 7,
      "outputs": [
        {
          "output_type": "stream",
          "name": "stdout",
          "text": [
            "Using PyTorch version: 2.3.1+cu121  Device: cuda\n"
          ]
        }
      ]
    },
    {
      "cell_type": "code",
      "source": [
        "BATCH_SIZE = 32\n",
        "EPOCHS = 10"
      ],
      "metadata": {
        "id": "WiMiDr3CuepQ"
      },
      "execution_count": 8,
      "outputs": []
    },
    {
      "cell_type": "code",
      "source": [
        "train_transforms = transforms.Compose([\n",
        "        transforms.RandomResizedCrop(224),\n",
        "        transforms.RandomHorizontalFlip(),\n",
        "        transforms.ToTensor(),\n",
        "        transforms.Normalize([0.5, 0.5, 0.5], [0.5, 0.5, 0.5])\n",
        "    ])\n",
        "val_transforms = transforms.Compose([\n",
        "        transforms.CenterCrop(224),\n",
        "        transforms.Resize(256),\n",
        "        transforms.ToTensor(),\n",
        "        transforms.Normalize([0.5, 0.5, 0.5], [0.5, 0.5, 0.5])\n",
        "    ])"
      ],
      "metadata": {
        "id": "eSpCnOTRrSgy"
      },
      "execution_count": 9,
      "outputs": []
    },
    {
      "cell_type": "code",
      "source": [
        "trainset = datasets.ImageFolder(root = \"/content/drive/MyDrive/랩실/2024_DLMATHon/kfood/train\", transform=train_transforms)\n",
        "valset = datasets.ImageFolder(root = \"/content/drive/MyDrive/랩실/2024_DLMATHon/kfood/val\", transform=val_transforms)"
      ],
      "metadata": {
        "id": "1cbHs9TtuUGA"
      },
      "execution_count": 10,
      "outputs": []
    },
    {
      "cell_type": "code",
      "source": [
        "trainloader = torch.utils.data.DataLoader(trainset, batch_size=BATCH_SIZE, shuffle=True)\n",
        "valloader = torch.utils.data.DataLoader(valset, batch_size=BATCH_SIZE, shuffle=False)"
      ],
      "metadata": {
        "id": "bTArnW3Q2TBk"
      },
      "execution_count": 11,
      "outputs": []
    },
    {
      "cell_type": "code",
      "source": [
        "for (X_train, y_train) in trainloader:\n",
        "    print('X_train:', X_train.size(), 'type:', X_train.type())\n",
        "    print('y_train:', y_train.size(), 'type:', y_train.type())\n",
        "    break"
      ],
      "metadata": {
        "colab": {
          "base_uri": "https://localhost:8080/"
        },
        "id": "0Q8LzoevuprQ",
        "outputId": "a5d16554-9ece-4458-ea90-6fa4006b3159"
      },
      "execution_count": 12,
      "outputs": [
        {
          "output_type": "stream",
          "name": "stdout",
          "text": [
            "X_train: torch.Size([32, 3, 224, 224]) type: torch.FloatTensor\n",
            "y_train: torch.Size([32]) type: torch.LongTensor\n"
          ]
        }
      ]
    },
    {
      "cell_type": "code",
      "source": [
        "pltsize = 1\n",
        "plt.figure(figsize=(10 * pltsize, pltsize))\n",
        "\n",
        "for i in range(10):\n",
        "    plt.subplot(1, 10, i + 1)\n",
        "    plt.axis('off')\n",
        "    plt.imshow(np.transpose(X_train[i], (1, 2, 0)))\n",
        "    plt.title('Class: ' + str(y_train[i].item()))"
      ],
      "metadata": {
        "colab": {
          "base_uri": "https://localhost:8080/",
          "height": 304
        },
        "id": "9DxyhplKuu9a",
        "outputId": "21910851-c2ae-4cff-f6ff-e4427a60bb63"
      },
      "execution_count": 13,
      "outputs": [
        {
          "output_type": "stream",
          "name": "stderr",
          "text": [
            "WARNING:matplotlib.image:Clipping input data to the valid range for imshow with RGB data ([0..1] for floats or [0..255] for integers).\n",
            "WARNING:matplotlib.image:Clipping input data to the valid range for imshow with RGB data ([0..1] for floats or [0..255] for integers).\n",
            "WARNING:matplotlib.image:Clipping input data to the valid range for imshow with RGB data ([0..1] for floats or [0..255] for integers).\n",
            "WARNING:matplotlib.image:Clipping input data to the valid range for imshow with RGB data ([0..1] for floats or [0..255] for integers).\n",
            "WARNING:matplotlib.image:Clipping input data to the valid range for imshow with RGB data ([0..1] for floats or [0..255] for integers).\n",
            "WARNING:matplotlib.image:Clipping input data to the valid range for imshow with RGB data ([0..1] for floats or [0..255] for integers).\n",
            "WARNING:matplotlib.image:Clipping input data to the valid range for imshow with RGB data ([0..1] for floats or [0..255] for integers).\n",
            "WARNING:matplotlib.image:Clipping input data to the valid range for imshow with RGB data ([0..1] for floats or [0..255] for integers).\n",
            "WARNING:matplotlib.image:Clipping input data to the valid range for imshow with RGB data ([0..1] for floats or [0..255] for integers).\n",
            "WARNING:matplotlib.image:Clipping input data to the valid range for imshow with RGB data ([0..1] for floats or [0..255] for integers).\n"
          ]
        },
        {
          "output_type": "display_data",
          "data": {
            "text/plain": [
              "<Figure size 1000x100 with 10 Axes>"
            ],
            "image/png": "[encoded data removed]"
          },
          "metadata": {}
        }
      ]
    },
    {
      "cell_type": "code",
      "source": [
        "import torchvision.models as models\n",
        "model = models.resnet50(pretrained=True)\n",
        "print(model)"
      ],
      "metadata": {
        "colab": {
          "base_uri": "https://localhost:8080/"
        },
        "id": "NB7LOhC3u4pA",
        "outputId": "b056bbc8-7c6d-47d7-8d10-d14697a9afb4"
      },
      "execution_count": 14,
      "outputs": [
        {
          "output_type": "stream",
          "name": "stderr",
          "text": [
            "/usr/local/lib/python3.10/dist-packages/torchvision/models/_utils.py:208: UserWarning: The parameter 'pretrained' is deprecated since 0.13 and may be removed in the future, please use 'weights' instead.\n",
            "  warnings.warn(\n",
            "/usr/local/lib/python3.10/dist-packages/torchvision/models/_utils.py:223: UserWarning: Arguments other than a weight enum or `None` for 'weights' are deprecated since 0.13 and may be removed in the future. The current behavior is equivalent to passing `weights=ResNet50_Weights.IMAGENET1K_V1`. You can also use `weights=ResNet50_Weights.DEFAULT` to get the most up-to-date weights.\n",
            "  warnings.warn(msg)\n",
            "Downloading: \"https://download.pytorch.org/models/resnet50-0676ba61.pth\" to /root/.cache/torch/hub/checkpoints/resnet50-0676ba61.pth\n",
            "100%|██████████| 97.8M/97.8M [00:01<00:00, 67.9MB/s]\n"
          ]
        },
        {
          "output_type": "stream",
          "name": "stdout",
          "text": [
            "ResNet(\n",
            "  (conv1): Conv2d(3, 64, kernel_size=(7, 7), stride=(2, 2), padding=(3, 3), bias=False)\n",
            "  (bn1): BatchNorm2d(64, eps=1e-05, momentum=0.1, affine=True, track_running_stats=True)\n",
            "  (relu): ReLU(inplace=True)\n",
            "  (maxpool): MaxPool2d(kernel_size=3, stride=2, padding=1, dilation=1, ceil_mode=False)\n",
            "  (layer1): Sequential(\n",
            "    (0): Bottleneck(\n",
            "      (conv1): Conv2d(64, 64, kernel_size=(1, 1), stride=(1, 1), bias=False)\n",
            "      (bn1): BatchNorm2d(64, eps=1e-05, momentum=0.1, affine=True, track_running_stats=True)\n",
            "      (conv2): Conv2d(64, 64, kernel_size=(3, 3), stride=(1, 1), padding=(1, 1), bias=False)\n",
            "      (bn2): BatchNorm2d(64, eps=1e-05, momentum=0.1, affine=True, track_running_stats=True)\n",
            "      (conv3): Conv2d(64, 256, kernel_size=(1, 1), stride=(1, 1), bias=False)\n",
            "      (bn3): BatchNorm2d(256, eps=1e-05, momentum=0.1, affine=True, track_running_stats=True)\n",
            "      (relu): ReLU(inplace=True)\n",
            "      (downsample): Sequential(\n",
            "        (0): Conv2d(64, 256, kernel_size=(1, 1), stride=(1, 1), bias=False)\n",
            "        (1): BatchNorm2d(256, eps=1e-05, momentum=0.1, affine=True, track_running_stats=True)\n",
            "      )\n",
            "    )\n",
            "    (1): Bottleneck(\n",
            "      (conv1): Conv2d(256, 64, kernel_size=(1, 1), stride=(1, 1), bias=False)\n",
            "      (bn1): BatchNorm2d(64, eps=1e-05, momentum=0.1, affine=True, track_running_stats=True)\n",
            "      (conv2): Conv2d(64, 64, kernel_size=(3, 3), stride=(1, 1), padding=(1, 1), bias=False)\n",
            "      (bn2): BatchNorm2d(64, eps=1e-05, momentum=0.1, affine=True, track_running_stats=True)\n",
            "      (conv3): Conv2d(64, 256, kernel_size=(1, 1), stride=(1, 1), bias=False)\n",
            "      (bn3): BatchNorm2d(256, eps=1e-05, momentum=0.1, affine=True, track_running_stats=True)\n",
            "      (relu): ReLU(inplace=True)\n",
            "    )\n",
            "    (2): Bottleneck(\n",
            "      (conv1): Conv2d(256, 64, kernel_size=(1, 1), stride=(1, 1), bias=False)\n",
            "      (bn1): BatchNorm2d(64, eps=1e-05, momentum=0.1, affine=True, track_running_stats=True)\n",
            "      (conv2): Conv2d(64, 64, kernel_size=(3, 3), stride=(1, 1), padding=(1, 1), bias=False)\n",
            "      (bn2): BatchNorm2d(64, eps=1e-05, momentum=0.1, affine=True, track_running_stats=True)\n",
            "      (conv3): Conv2d(64, 256, kernel_size=(1, 1), stride=(1, 1), bias=False)\n",
            "      (bn3): BatchNorm2d(256, eps=1e-05, momentum=0.1, affine=True, track_running_stats=True)\n",
            "      (relu): ReLU(inplace=True)\n",
            "    )\n",
            "  )\n",
            "  (layer2): Sequential(\n",
            "    (0): Bottleneck(\n",
            "      (conv1): Conv2d(256, 128, kernel_size=(1, 1), stride=(1, 1), bias=False)\n",
            "      (bn1): BatchNorm2d(128, eps=1e-05, momentum=0.1, affine=True, track_running_stats=True)\n",
            "      (conv2): Conv2d(128, 128, kernel_size=(3, 3), stride=(2, 2), padding=(1, 1), bias=False)\n",
            "      (bn2): BatchNorm2d(128, eps=1e-05, momentum=0.1, affine=True, track_running_stats=True)\n",
            "      (conv3): Conv2d(128, 512, kernel_size=(1, 1), stride=(1, 1), bias=False)\n",
            "      (bn3): BatchNorm2d(512, eps=1e-05, momentum=0.1, affine=True, track_running_stats=True)\n",
            "      (relu): ReLU(inplace=True)\n",
            "      (downsample): Sequential(\n",
            "        (0): Conv2d(256, 512, kernel_size=(1, 1), stride=(2, 2), bias=False)\n",
            "        (1): BatchNorm2d(512, eps=1e-05, momentum=0.1, affine=True, track_running_stats=True)\n",
            "      )\n",
            "    )\n",
            "    (1): Bottleneck(\n",
            "      (conv1): Conv2d(512, 128, kernel_size=(1, 1), stride=(1, 1), bias=False)\n",
            "      (bn1): BatchNorm2d(128, eps=1e-05, momentum=0.1, affine=True, track_running_stats=True)\n",
            "      (conv2): Conv2d(128, 128, kernel_size=(3, 3), stride=(1, 1), padding=(1, 1), bias=False)\n",
            "      (bn2): BatchNorm2d(128, eps=1e-05, momentum=0.1, affine=True, track_running_stats=True)\n",
            "      (conv3): Conv2d(128, 512, kernel_size=(1, 1), stride=(1, 1), bias=False)\n",
            "      (bn3): BatchNorm2d(512, eps=1e-05, momentum=0.1, affine=True, track_running_stats=True)\n",
            "      (relu): ReLU(inplace=True)\n",
            "    )\n",
            "    (2): Bottleneck(\n",
            "      (conv1): Conv2d(512, 128, kernel_size=(1, 1), stride=(1, 1), bias=False)\n",
            "      (bn1): BatchNorm2d(128, eps=1e-05, momentum=0.1, affine=True, track_running_stats=True)\n",
            "      (conv2): Conv2d(128, 128, kernel_size=(3, 3), stride=(1, 1), padding=(1, 1), bias=False)\n",
            "      (bn2): BatchNorm2d(128, eps=1e-05, momentum=0.1, affine=True, track_running_stats=True)\n",
            "      (conv3): Conv2d(128, 512, kernel_size=(1, 1), stride=(1, 1), bias=False)\n",
            "      (bn3): BatchNorm2d(512, eps=1e-05, momentum=0.1, affine=True, track_running_stats=True)\n",
            "      (relu): ReLU(inplace=True)\n",
            "    )\n",
            "    (3): Bottleneck(\n",
            "      (conv1): Conv2d(512, 128, kernel_size=(1, 1), stride=(1, 1), bias=False)\n",
            "      (bn1): BatchNorm2d(128, eps=1e-05, momentum=0.1, affine=True, track_running_stats=True)\n",
            "      (conv2): Conv2d(128, 128, kernel_size=(3, 3), stride=(1, 1), padding=(1, 1), bias=False)\n",
            "      (bn2): BatchNorm2d(128, eps=1e-05, momentum=0.1, affine=True, track_running_stats=True)\n",
            "      (conv3): Conv2d(128, 512, kernel_size=(1, 1), stride=(1, 1), bias=False)\n",
            "      (bn3): BatchNorm2d(512, eps=1e-05, momentum=0.1, affine=True, track_running_stats=True)\n",
            "      (relu): ReLU(inplace=True)\n",
            "    )\n",
            "  )\n",
            "  (layer3): Sequential(\n",
            "    (0): Bottleneck(\n",
            "      (conv1): Conv2d(512, 256, kernel_size=(1, 1), stride=(1, 1), bias=False)\n",
            "      (bn1): BatchNorm2d(256, eps=1e-05, momentum=0.1, affine=True, track_running_stats=True)\n",
            "      (conv2): Conv2d(256, 256, kernel_size=(3, 3), stride=(2, 2), padding=(1, 1), bias=False)\n",
            "      (bn2): BatchNorm2d(256, eps=1e-05, momentum=0.1, affine=True, track_running_stats=True)\n",
            "      (conv3): Conv2d(256, 1024, kernel_size=(1, 1), stride=(1, 1), bias=False)\n",
            "      (bn3): BatchNorm2d(1024, eps=1e-05, momentum=0.1, affine=True, track_running_stats=True)\n",
            "      (relu): ReLU(inplace=True)\n",
            "      (downsample): Sequential(\n",
            "        (0): Conv2d(512, 1024, kernel_size=(1, 1), stride=(2, 2), bias=False)\n",
            "        (1): BatchNorm2d(1024, eps=1e-05, momentum=0.1, affine=True, track_running_stats=True)\n",
            "      )\n",
            "    )\n",
            "    (1): Bottleneck(\n",
            "      (conv1): Conv2d(1024, 256, kernel_size=(1, 1), stride=(1, 1), bias=False)\n",
            "      (bn1): BatchNorm2d(256, eps=1e-05, momentum=0.1, affine=True, track_running_stats=True)\n",
            "      (conv2): Conv2d(256, 256, kernel_size=(3, 3), stride=(1, 1), padding=(1, 1), bias=False)\n",
            "      (bn2): BatchNorm2d(256, eps=1e-05, momentum=0.1, affine=True, track_running_stats=True)\n",
            "      (conv3): Conv2d(256, 1024, kernel_size=(1, 1), stride=(1, 1), bias=False)\n",
            "      (bn3): BatchNorm2d(1024, eps=1e-05, momentum=0.1, affine=True, track_running_stats=True)\n",
            "      (relu): ReLU(inplace=True)\n",
            "    )\n",
            "    (2): Bottleneck(\n",
            "      (conv1): Conv2d(1024, 256, kernel_size=(1, 1), stride=(1, 1), bias=False)\n",
            "      (bn1): BatchNorm2d(256, eps=1e-05, momentum=0.1, affine=True, track_running_stats=True)\n",
            "      (conv2): Conv2d(256, 256, kernel_size=(3, 3), stride=(1, 1), padding=(1, 1), bias=False)\n",
            "      (bn2): BatchNorm2d(256, eps=1e-05, momentum=0.1, affine=True, track_running_stats=True)\n",
            "      (conv3): Conv2d(256, 1024, kernel_size=(1, 1), stride=(1, 1), bias=False)\n",
            "      (bn3): BatchNorm2d(1024, eps=1e-05, momentum=0.1, affine=True, track_running_stats=True)\n",
            "      (relu): ReLU(inplace=True)\n",
            "    )\n",
            "    (3): Bottleneck(\n",
            "      (conv1): Conv2d(1024, 256, kernel_size=(1, 1), stride=(1, 1), bias=False)\n",
            "      (bn1): BatchNorm2d(256, eps=1e-05, momentum=0.1, affine=True, track_running_stats=True)\n",
            "      (conv2): Conv2d(256, 256, kernel_size=(3, 3), stride=(1, 1), padding=(1, 1), bias=False)\n",
            "      (bn2): BatchNorm2d(256, eps=1e-05, momentum=0.1, affine=True, track_running_stats=True)\n",
            "      (conv3): Conv2d(256, 1024, kernel_size=(1, 1), stride=(1, 1), bias=False)\n",
            "      (bn3): BatchNorm2d(1024, eps=1e-05, momentum=0.1, affine=True, track_running_stats=True)\n",
            "      (relu): ReLU(inplace=True)\n",
            "    )\n",
            "    (4): Bottleneck(\n",
            "      (conv1): Conv2d(1024, 256, kernel_size=(1, 1), stride=(1, 1), bias=False)\n",
            "      (bn1): BatchNorm2d(256, eps=1e-05, momentum=0.1, affine=True, track_running_stats=True)\n",
            "      (conv2): Conv2d(256, 256, kernel_size=(3, 3), stride=(1, 1), padding=(1, 1), bias=False)\n",
            "      (bn2): BatchNorm2d(256, eps=1e-05, momentum=0.1, affine=True, track_running_stats=True)\n",
            "      (conv3): Conv2d(256, 1024, kernel_size=(1, 1), stride=(1, 1), bias=False)\n",
            "      (bn3): BatchNorm2d(1024, eps=1e-05, momentum=0.1, affine=True, track_running_stats=True)\n",
            "      (relu): ReLU(inplace=True)\n",
            "    )\n",
            "    (5): Bottleneck(\n",
            "      (conv1): Conv2d(1024, 256, kernel_size=(1, 1), stride=(1, 1), bias=False)\n",
            "      (bn1): BatchNorm2d(256, eps=1e-05, momentum=0.1, affine=True, track_running_stats=True)\n",
            "      (conv2): Conv2d(256, 256, kernel_size=(3, 3), stride=(1, 1), padding=(1, 1), bias=False)\n",
            "      (bn2): BatchNorm2d(256, eps=1e-05, momentum=0.1, affine=True, track_running_stats=True)\n",
            "      (conv3): Conv2d(256, 1024, kernel_size=(1, 1), stride=(1, 1), bias=False)\n",
            "      (bn3): BatchNorm2d(1024, eps=1e-05, momentum=0.1, affine=True, track_running_stats=True)\n",
            "      (relu): ReLU(inplace=True)\n",
            "    )\n",
            "  )\n",
            "  (layer4): Sequential(\n",
            "    (0): Bottleneck(\n",
            "      (conv1): Conv2d(1024, 512, kernel_size=(1, 1), stride=(1, 1), bias=False)\n",
            "      (bn1): BatchNorm2d(512, eps=1e-05, momentum=0.1, affine=True, track_running_stats=True)\n",
            "      (conv2): Conv2d(512, 512, kernel_size=(3, 3), stride=(2, 2), padding=(1, 1), bias=False)\n",
            "      (bn2): BatchNorm2d(512, eps=1e-05, momentum=0.1, affine=True, track_running_stats=True)\n",
            "      (conv3): Conv2d(512, 2048, kernel_size=(1, 1), stride=(1, 1), bias=False)\n",
            "      (bn3): BatchNorm2d(2048, eps=1e-05, momentum=0.1, affine=True, track_running_stats=True)\n",
            "      (relu): ReLU(inplace=True)\n",
            "      (downsample): Sequential(\n",
            "        (0): Conv2d(1024, 2048, kernel_size=(1, 1), stride=(2, 2), bias=False)\n",
            "        (1): BatchNorm2d(2048, eps=1e-05, momentum=0.1, affine=True, track_running_stats=True)\n",
            "      )\n",
            "    )\n",
            "    (1): Bottleneck(\n",
            "      (conv1): Conv2d(2048, 512, kernel_size=(1, 1), stride=(1, 1), bias=False)\n",
            "      (bn1): BatchNorm2d(512, eps=1e-05, momentum=0.1, affine=True, track_running_stats=True)\n",
            "      (conv2): Conv2d(512, 512, kernel_size=(3, 3), stride=(1, 1), padding=(1, 1), bias=False)\n",
            "      (bn2): BatchNorm2d(512, eps=1e-05, momentum=0.1, affine=True, track_running_stats=True)\n",
            "      (conv3): Conv2d(512, 2048, kernel_size=(1, 1), stride=(1, 1), bias=False)\n",
            "      (bn3): BatchNorm2d(2048, eps=1e-05, momentum=0.1, affine=True, track_running_stats=True)\n",
            "      (relu): ReLU(inplace=True)\n",
            "    )\n",
            "    (2): Bottleneck(\n",
            "      (conv1): Conv2d(2048, 512, kernel_size=(1, 1), stride=(1, 1), bias=False)\n",
            "      (bn1): BatchNorm2d(512, eps=1e-05, momentum=0.1, affine=True, track_running_stats=True)\n",
            "      (conv2): Conv2d(512, 512, kernel_size=(3, 3), stride=(1, 1), padding=(1, 1), bias=False)\n",
            "      (bn2): BatchNorm2d(512, eps=1e-05, momentum=0.1, affine=True, track_running_stats=True)\n",
            "      (conv3): Conv2d(512, 2048, kernel_size=(1, 1), stride=(1, 1), bias=False)\n",
            "      (bn3): BatchNorm2d(2048, eps=1e-05, momentum=0.1, affine=True, track_running_stats=True)\n",
            "      (relu): ReLU(inplace=True)\n",
            "    )\n",
            "  )\n",
            "  (avgpool): AdaptiveAvgPool2d(output_size=(1, 1))\n",
            "  (fc): Linear(in_features=2048, out_features=1000, bias=True)\n",
            ")\n"
          ]
        }
      ]
    },
    {
      "cell_type": "code",
      "source": [
        "for parameter in model.parameters():\n",
        "  parameter.requires_grad = False"
      ],
      "metadata": {
        "id": "4ylQ4AcyvLV3"
      },
      "execution_count": 15,
      "outputs": []
    },
    {
      "cell_type": "code",
      "source": [
        "num_ftrs = model.fc.in_features\n",
        "model.fc = nn.Sequential(\n",
        "    nn.Linear(num_ftrs, 5)\n",
        ")\n",
        "model = model.to(device)"
      ],
      "metadata": {
        "id": "zfKQBsL1vdmI"
      },
      "execution_count": 16,
      "outputs": []
    },
    {
      "cell_type": "code",
      "source": [
        "optimizer = torch.optim.Adam(model.parameters(), lr = 0.001)\n",
        "criterion = nn.CrossEntropyLoss()\n",
        "\n",
        "print(model)"
      ],
      "metadata": {
        "colab": {
          "base_uri": "https://localhost:8080/"
        },
        "id": "FUz3oTuTwAkF",
        "outputId": "f9ece48c-cc3b-4106-99da-893dcc65d7a7"
      },
      "execution_count": 17,
      "outputs": [
        {
          "output_type": "stream",
          "name": "stdout",
          "text": [
            "ResNet(\n",
            "  (conv1): Conv2d(3, 64, kernel_size=(7, 7), stride=(2, 2), padding=(3, 3), bias=False)\n",
            "  (bn1): BatchNorm2d(64, eps=1e-05, momentum=0.1, affine=True, track_running_stats=True)\n",
            "  (relu): ReLU(inplace=True)\n",
            "  (maxpool): MaxPool2d(kernel_size=3, stride=2, padding=1, dilation=1, ceil_mode=False)\n",
            "  (layer1): Sequential(\n",
            "    (0): Bottleneck(\n",
            "      (conv1): Conv2d(64, 64, kernel_size=(1, 1), stride=(1, 1), bias=False)\n",
            "      (bn1): BatchNorm2d(64, eps=1e-05, momentum=0.1, affine=True, track_running_stats=True)\n",
            "      (conv2): Conv2d(64, 64, kernel_size=(3, 3), stride=(1, 1), padding=(1, 1), bias=False)\n",
            "      (bn2): BatchNorm2d(64, eps=1e-05, momentum=0.1, affine=True, track_running_stats=True)\n",
            "      (conv3): Conv2d(64, 256, kernel_size=(1, 1), stride=(1, 1), bias=False)\n",
            "      (bn3): BatchNorm2d(256, eps=1e-05, momentum=0.1, affine=True, track_running_stats=True)\n",
            "      (relu): ReLU(inplace=True)\n",
            "      (downsample): Sequential(\n",
            "        (0): Conv2d(64, 256, kernel_size=(1, 1), stride=(1, 1), bias=False)\n",
            "        (1): BatchNorm2d(256, eps=1e-05, momentum=0.1, affine=True, track_running_stats=True)\n",
            "      )\n",
            "    )\n",
            "    (1): Bottleneck(\n",
            "      (conv1): Conv2d(256, 64, kernel_size=(1, 1), stride=(1, 1), bias=False)\n",
            "      (bn1): BatchNorm2d(64, eps=1e-05, momentum=0.1, affine=True, track_running_stats=True)\n",
            "      (conv2): Conv2d(64, 64, kernel_size=(3, 3), stride=(1, 1), padding=(1, 1), bias=False)\n",
            "      (bn2): BatchNorm2d(64, eps=1e-05, momentum=0.1, affine=True, track_running_stats=True)\n",
            "      (conv3): Conv2d(64, 256, kernel_size=(1, 1), stride=(1, 1), bias=False)\n",
            "      (bn3): BatchNorm2d(256, eps=1e-05, momentum=0.1, affine=True, track_running_stats=True)\n",
            "      (relu): ReLU(inplace=True)\n",
            "    )\n",
            "    (2): Bottleneck(\n",
            "      (conv1): Conv2d(256, 64, kernel_size=(1, 1), stride=(1, 1), bias=False)\n",
            "      (bn1): BatchNorm2d(64, eps=1e-05, momentum=0.1, affine=True, track_running_stats=True)\n",
            "      (conv2): Conv2d(64, 64, kernel_size=(3, 3), stride=(1, 1), padding=(1, 1), bias=False)\n",
            "      (bn2): BatchNorm2d(64, eps=1e-05, momentum=0.1, affine=True, track_running_stats=True)\n",
            "      (conv3): Conv2d(64, 256, kernel_size=(1, 1), stride=(1, 1), bias=False)\n",
            "      (bn3): BatchNorm2d(256, eps=1e-05, momentum=0.1, affine=True, track_running_stats=True)\n",
            "      (relu): ReLU(inplace=True)\n",
            "    )\n",
            "  )\n",
            "  (layer2): Sequential(\n",
            "    (0): Bottleneck(\n",
            "      (conv1): Conv2d(256, 128, kernel_size=(1, 1), stride=(1, 1), bias=False)\n",
            "      (bn1): BatchNorm2d(128, eps=1e-05, momentum=0.1, affine=True, track_running_stats=True)\n",
            "      (conv2): Conv2d(128, 128, kernel_size=(3, 3), stride=(2, 2), padding=(1, 1), bias=False)\n",
            "      (bn2): BatchNorm2d(128, eps=1e-05, momentum=0.1, affine=True, track_running_stats=True)\n",
            "      (conv3): Conv2d(128, 512, kernel_size=(1, 1), stride=(1, 1), bias=False)\n",
            "      (bn3): BatchNorm2d(512, eps=1e-05, momentum=0.1, affine=True, track_running_stats=True)\n",
            "      (relu): ReLU(inplace=True)\n",
            "      (downsample): Sequential(\n",
            "        (0): Conv2d(256, 512, kernel_size=(1, 1), stride=(2, 2), bias=False)\n",
            "        (1): BatchNorm2d(512, eps=1e-05, momentum=0.1, affine=True, track_running_stats=True)\n",
            "      )\n",
            "    )\n",
            "    (1): Bottleneck(\n",
            "      (conv1): Conv2d(512, 128, kernel_size=(1, 1), stride=(1, 1), bias=False)\n",
            "      (bn1): BatchNorm2d(128, eps=1e-05, momentum=0.1, affine=True, track_running_stats=True)\n",
            "      (conv2): Conv2d(128, 128, kernel_size=(3, 3), stride=(1, 1), padding=(1, 1), bias=False)\n",
            "      (bn2): BatchNorm2d(128, eps=1e-05, momentum=0.1, affine=True, track_running_stats=True)\n",
            "      (conv3): Conv2d(128, 512, kernel_size=(1, 1), stride=(1, 1), bias=False)\n",
            "      (bn3): BatchNorm2d(512, eps=1e-05, momentum=0.1, affine=True, track_running_stats=True)\n",
            "      (relu): ReLU(inplace=True)\n",
            "    )\n",
            "    (2): Bottleneck(\n",
            "      (conv1): Conv2d(512, 128, kernel_size=(1, 1), stride=(1, 1), bias=False)\n",
            "      (bn1): BatchNorm2d(128, eps=1e-05, momentum=0.1, affine=True, track_running_stats=True)\n",
            "      (conv2): Conv2d(128, 128, kernel_size=(3, 3), stride=(1, 1), padding=(1, 1), bias=False)\n",
            "      (bn2): BatchNorm2d(128, eps=1e-05, momentum=0.1, affine=True, track_running_stats=True)\n",
            "      (conv3): Conv2d(128, 512, kernel_size=(1, 1), stride=(1, 1), bias=False)\n",
            "      (bn3): BatchNorm2d(512, eps=1e-05, momentum=0.1, affine=True, track_running_stats=True)\n",
            "      (relu): ReLU(inplace=True)\n",
            "    )\n",
            "    (3): Bottleneck(\n",
            "      (conv1): Conv2d(512, 128, kernel_size=(1, 1), stride=(1, 1), bias=False)\n",
            "      (bn1): BatchNorm2d(128, eps=1e-05, momentum=0.1, affine=True, track_running_stats=True)\n",
            "      (conv2): Conv2d(128, 128, kernel_size=(3, 3), stride=(1, 1), padding=(1, 1), bias=False)\n",
            "      (bn2): BatchNorm2d(128, eps=1e-05, momentum=0.1, affine=True, track_running_stats=True)\n",
            "      (conv3): Conv2d(128, 512, kernel_size=(1, 1), stride=(1, 1), bias=False)\n",
            "      (bn3): BatchNorm2d(512, eps=1e-05, momentum=0.1, affine=True, track_running_stats=True)\n",
            "      (relu): ReLU(inplace=True)\n",
            "    )\n",
            "  )\n",
            "  (layer3): Sequential(\n",
            "    (0): Bottleneck(\n",
            "      (conv1): Conv2d(512, 256, kernel_size=(1, 1), stride=(1, 1), bias=False)\n",
            "      (bn1): BatchNorm2d(256, eps=1e-05, momentum=0.1, affine=True, track_running_stats=True)\n",
            "      (conv2): Conv2d(256, 256, kernel_size=(3, 3), stride=(2, 2), padding=(1, 1), bias=False)\n",
            "      (bn2): BatchNorm2d(256, eps=1e-05, momentum=0.1, affine=True, track_running_stats=True)\n",
            "      (conv3): Conv2d(256, 1024, kernel_size=(1, 1), stride=(1, 1), bias=False)\n",
            "      (bn3): BatchNorm2d(1024, eps=1e-05, momentum=0.1, affine=True, track_running_stats=True)\n",
            "      (relu): ReLU(inplace=True)\n",
            "      (downsample): Sequential(\n",
            "        (0): Conv2d(512, 1024, kernel_size=(1, 1), stride=(2, 2), bias=False)\n",
            "        (1): BatchNorm2d(1024, eps=1e-05, momentum=0.1, affine=True, track_running_stats=True)\n",
            "      )\n",
            "    )\n",
            "    (1): Bottleneck(\n",
            "      (conv1): Conv2d(1024, 256, kernel_size=(1, 1), stride=(1, 1), bias=False)\n",
            "      (bn1): BatchNorm2d(256, eps=1e-05, momentum=0.1, affine=True, track_running_stats=True)\n",
            "      (conv2): Conv2d(256, 256, kernel_size=(3, 3), stride=(1, 1), padding=(1, 1), bias=False)\n",
            "      (bn2): BatchNorm2d(256, eps=1e-05, momentum=0.1, affine=True, track_running_stats=True)\n",
            "      (conv3): Conv2d(256, 1024, kernel_size=(1, 1), stride=(1, 1), bias=False)\n",
            "      (bn3): BatchNorm2d(1024, eps=1e-05, momentum=0.1, affine=True, track_running_stats=True)\n",
            "      (relu): ReLU(inplace=True)\n",
            "    )\n",
            "    (2): Bottleneck(\n",
            "      (conv1): Conv2d(1024, 256, kernel_size=(1, 1), stride=(1, 1), bias=False)\n",
            "      (bn1): BatchNorm2d(256, eps=1e-05, momentum=0.1, affine=True, track_running_stats=True)\n",
            "      (conv2): Conv2d(256, 256, kernel_size=(3, 3), stride=(1, 1), padding=(1, 1), bias=False)\n",
            "      (bn2): BatchNorm2d(256, eps=1e-05, momentum=0.1, affine=True, track_running_stats=True)\n",
            "      (conv3): Conv2d(256, 1024, kernel_size=(1, 1), stride=(1, 1), bias=False)\n",
            "      (bn3): BatchNorm2d(1024, eps=1e-05, momentum=0.1, affine=True, track_running_stats=True)\n",
            "      (relu): ReLU(inplace=True)\n",
            "    )\n",
            "    (3): Bottleneck(\n",
            "      (conv1): Conv2d(1024, 256, kernel_size=(1, 1), stride=(1, 1), bias=False)\n",
            "      (bn1): BatchNorm2d(256, eps=1e-05, momentum=0.1, affine=True, track_running_stats=True)\n",
            "      (conv2): Conv2d(256, 256, kernel_size=(3, 3), stride=(1, 1), padding=(1, 1), bias=False)\n",
            "      (bn2): BatchNorm2d(256, eps=1e-05, momentum=0.1, affine=True, track_running_stats=True)\n",
            "      (conv3): Conv2d(256, 1024, kernel_size=(1, 1), stride=(1, 1), bias=False)\n",
            "      (bn3): BatchNorm2d(1024, eps=1e-05, momentum=0.1, affine=True, track_running_stats=True)\n",
            "      (relu): ReLU(inplace=True)\n",
            "    )\n",
            "    (4): Bottleneck(\n",
            "      (conv1): Conv2d(1024, 256, kernel_size=(1, 1), stride=(1, 1), bias=False)\n",
            "      (bn1): BatchNorm2d(256, eps=1e-05, momentum=0.1, affine=True, track_running_stats=True)\n",
            "      (conv2): Conv2d(256, 256, kernel_size=(3, 3), stride=(1, 1), padding=(1, 1), bias=False)\n",
            "      (bn2): BatchNorm2d(256, eps=1e-05, momentum=0.1, affine=True, track_running_stats=True)\n",
            "      (conv3): Conv2d(256, 1024, kernel_size=(1, 1), stride=(1, 1), bias=False)\n",
            "      (bn3): BatchNorm2d(1024, eps=1e-05, momentum=0.1, affine=True, track_running_stats=True)\n",
            "      (relu): ReLU(inplace=True)\n",
            "    )\n",
            "    (5): Bottleneck(\n",
            "      (conv1): Conv2d(1024, 256, kernel_size=(1, 1), stride=(1, 1), bias=False)\n",
            "      (bn1): BatchNorm2d(256, eps=1e-05, momentum=0.1, affine=True, track_running_stats=True)\n",
            "      (conv2): Conv2d(256, 256, kernel_size=(3, 3), stride=(1, 1), padding=(1, 1), bias=False)\n",
            "      (bn2): BatchNorm2d(256, eps=1e-05, momentum=0.1, affine=True, track_running_stats=True)\n",
            "      (conv3): Conv2d(256, 1024, kernel_size=(1, 1), stride=(1, 1), bias=False)\n",
            "      (bn3): BatchNorm2d(1024, eps=1e-05, momentum=0.1, affine=True, track_running_stats=True)\n",
            "      (relu): ReLU(inplace=True)\n",
            "    )\n",
            "  )\n",
            "  (layer4): Sequential(\n",
            "    (0): Bottleneck(\n",
            "      (conv1): Conv2d(1024, 512, kernel_size=(1, 1), stride=(1, 1), bias=False)\n",
            "      (bn1): BatchNorm2d(512, eps=1e-05, momentum=0.1, affine=True, track_running_stats=True)\n",
            "      (conv2): Conv2d(512, 512, kernel_size=(3, 3), stride=(2, 2), padding=(1, 1), bias=False)\n",
            "      (bn2): BatchNorm2d(512, eps=1e-05, momentum=0.1, affine=True, track_running_stats=True)\n",
            "      (conv3): Conv2d(512, 2048, kernel_size=(1, 1), stride=(1, 1), bias=False)\n",
            "      (bn3): BatchNorm2d(2048, eps=1e-05, momentum=0.1, affine=True, track_running_stats=True)\n",
            "      (relu): ReLU(inplace=True)\n",
            "      (downsample): Sequential(\n",
            "        (0): Conv2d(1024, 2048, kernel_size=(1, 1), stride=(2, 2), bias=False)\n",
            "        (1): BatchNorm2d(2048, eps=1e-05, momentum=0.1, affine=True, track_running_stats=True)\n",
            "      )\n",
            "    )\n",
            "    (1): Bottleneck(\n",
            "      (conv1): Conv2d(2048, 512, kernel_size=(1, 1), stride=(1, 1), bias=False)\n",
            "      (bn1): BatchNorm2d(512, eps=1e-05, momentum=0.1, affine=True, track_running_stats=True)\n",
            "      (conv2): Conv2d(512, 512, kernel_size=(3, 3), stride=(1, 1), padding=(1, 1), bias=False)\n",
            "      (bn2): BatchNorm2d(512, eps=1e-05, momentum=0.1, affine=True, track_running_stats=True)\n",
            "      (conv3): Conv2d(512, 2048, kernel_size=(1, 1), stride=(1, 1), bias=False)\n",
            "      (bn3): BatchNorm2d(2048, eps=1e-05, momentum=0.1, affine=True, track_running_stats=True)\n",
            "      (relu): ReLU(inplace=True)\n",
            "    )\n",
            "    (2): Bottleneck(\n",
            "      (conv1): Conv2d(2048, 512, kernel_size=(1, 1), stride=(1, 1), bias=False)\n",
            "      (bn1): BatchNorm2d(512, eps=1e-05, momentum=0.1, affine=True, track_running_stats=True)\n",
            "      (conv2): Conv2d(512, 512, kernel_size=(3, 3), stride=(1, 1), padding=(1, 1), bias=False)\n",
            "      (bn2): BatchNorm2d(512, eps=1e-05, momentum=0.1, affine=True, track_running_stats=True)\n",
            "      (conv3): Conv2d(512, 2048, kernel_size=(1, 1), stride=(1, 1), bias=False)\n",
            "      (bn3): BatchNorm2d(2048, eps=1e-05, momentum=0.1, affine=True, track_running_stats=True)\n",
            "      (relu): ReLU(inplace=True)\n",
            "    )\n",
            "  )\n",
            "  (avgpool): AdaptiveAvgPool2d(output_size=(1, 1))\n",
            "  (fc): Sequential(\n",
            "    (0): Linear(in_features=2048, out_features=5, bias=True)\n",
            "  )\n",
            ")\n"
          ]
        }
      ]
    },
    {
      "cell_type": "code",
      "source": [
        "def train(model, train_loader, optimizer, log_interval):\n",
        "    model.train()\n",
        "    for batch_idx, (image, label) in enumerate(train_loader):\n",
        "        image = image.to(device, dtype=torch.float)\n",
        "        label = label.to(device, dtype=torch.long)\n",
        "        optimizer.zero_grad()\n",
        "        output = model(image).squeeze(dim=1)\n",
        "        loss = criterion(output, label)\n",
        "        loss.backward()\n",
        "        optimizer.step()\n",
        "\n",
        "        if batch_idx % log_interval == 0:\n",
        "            print(\"Train Epoch: {} [{}/{} ({:.0f}%)]\\tTrain Loss: {:.6f}\".format(\n",
        "                epoch, batch_idx * len(image),\n",
        "                len(train_loader.dataset), 100. * batch_idx / len(train_loader),\n",
        "                loss.item()))"
      ],
      "metadata": {
        "id": "cn3YkB1WwQyI"
      },
      "execution_count": 18,
      "outputs": []
    },
    {
      "cell_type": "code",
      "source": [
        "def evaluate(model, test_loader):\n",
        "    model.eval()\n",
        "    test_loss = 0\n",
        "    correct = 0\n",
        "\n",
        "    with torch.no_grad():\n",
        "        for image, label in test_loader:\n",
        "            image = image.to(device, dtype=torch.float)\n",
        "            label = label.to(device, dtype=torch.long)\n",
        "            output = model(image).squeeze(dim=1)\n",
        "            test_loss += criterion(output, label).item()\n",
        "\n",
        "            pr = torch.softmax(output, dim=1)\n",
        "\n",
        "            _, predicted = torch.max(pr, 1)\n",
        "\n",
        "            correct += (predicted.cpu() == label.cpu()).sum().item()\n",
        "\n",
        "    test_loss /= (len(test_loader.dataset) / BATCH_SIZE)\n",
        "    test_accuracy = 100. * correct / len(test_loader.dataset)\n",
        "    return test_loss, test_accuracy"
      ],
      "metadata": {
        "id": "GbwUaupfwWP1"
      },
      "execution_count": 19,
      "outputs": []
    },
    {
      "cell_type": "code",
      "source": [
        "for epoch in range(1, EPOCHS + 1):\n",
        "    train(model, trainloader, optimizer, log_interval = 5)\n",
        "    valid_loss, valid_accuracy = evaluate(model, valloader)\n",
        "    print(\"\\n[EPOCH: {}], \\tTest Loss: {:.4f}, \\tTest Accuracy: {:.2f} % \\n\".format(\n",
        "        epoch, valid_loss, valid_accuracy))"
      ],
      "metadata": {
        "colab": {
          "base_uri": "https://localhost:8080/"
        },
        "id": "V-mhg1xnw_tr",
        "outputId": "e2835b98-5f8f-45fe-ddfc-e34c125c5df3"
      },
      "execution_count": 20,
      "outputs": [
        {
          "output_type": "stream",
          "name": "stdout",
          "text": [
            "Train Epoch: 1 [0/3490 (0%)]\tTrain Loss: 1.580014\n",
            "Train Epoch: 1 [160/3490 (5%)]\tTrain Loss: 1.509115\n",
            "Train Epoch: 1 [320/3490 (9%)]\tTrain Loss: 1.520216\n",
            "Train Epoch: 1 [480/3490 (14%)]\tTrain Loss: 1.366602\n",
            "Train Epoch: 1 [640/3490 (18%)]\tTrain Loss: 1.198790\n",
            "Train Epoch: 1 [800/3490 (23%)]\tTrain Loss: 1.350159\n",
            "Train Epoch: 1 [960/3490 (27%)]\tTrain Loss: 1.472996\n",
            "Train Epoch: 1 [1120/3490 (32%)]\tTrain Loss: 1.165665\n",
            "Train Epoch: 1 [1280/3490 (36%)]\tTrain Loss: 0.997708\n",
            "Train Epoch: 1 [1440/3490 (41%)]\tTrain Loss: 1.094230\n",
            "Train Epoch: 1 [1600/3490 (45%)]\tTrain Loss: 0.984469\n",
            "Train Epoch: 1 [1760/3490 (50%)]\tTrain Loss: 1.120574\n",
            "Train Epoch: 1 [1920/3490 (55%)]\tTrain Loss: 0.953457\n",
            "Train Epoch: 1 [2080/3490 (59%)]\tTrain Loss: 0.901141\n",
            "Train Epoch: 1 [2240/3490 (64%)]\tTrain Loss: 1.053210\n",
            "Train Epoch: 1 [2400/3490 (68%)]\tTrain Loss: 1.102272\n",
            "Train Epoch: 1 [2560/3490 (73%)]\tTrain Loss: 0.944809\n",
            "Train Epoch: 1 [2720/3490 (77%)]\tTrain Loss: 0.845938\n",
            "Train Epoch: 1 [2880/3490 (82%)]\tTrain Loss: 1.103646\n",
            "Train Epoch: 1 [3040/3490 (86%)]\tTrain Loss: 0.917479\n",
            "Train Epoch: 1 [3200/3490 (91%)]\tTrain Loss: 0.737644\n",
            "Train Epoch: 1 [3360/3490 (95%)]\tTrain Loss: 0.854514\n",
            "\n",
            "[EPOCH: 1], \tTest Loss: 0.8756, \tTest Accuracy: 69.88 % \n",
            "\n",
            "Train Epoch: 2 [0/3490 (0%)]\tTrain Loss: 0.869619\n",
            "Train Epoch: 2 [160/3490 (5%)]\tTrain Loss: 0.724684\n",
            "Train Epoch: 2 [320/3490 (9%)]\tTrain Loss: 0.890871\n",
            "Train Epoch: 2 [480/3490 (14%)]\tTrain Loss: 0.724777\n",
            "Train Epoch: 2 [640/3490 (18%)]\tTrain Loss: 0.874267\n",
            "Train Epoch: 2 [800/3490 (23%)]\tTrain Loss: 0.668769\n",
            "Train Epoch: 2 [960/3490 (27%)]\tTrain Loss: 0.952982\n",
            "Train Epoch: 2 [1120/3490 (32%)]\tTrain Loss: 0.764121\n",
            "Train Epoch: 2 [1280/3490 (36%)]\tTrain Loss: 1.004265\n",
            "Train Epoch: 2 [1440/3490 (41%)]\tTrain Loss: 0.624149\n",
            "Train Epoch: 2 [1600/3490 (45%)]\tTrain Loss: 0.867429\n",
            "Train Epoch: 2 [1760/3490 (50%)]\tTrain Loss: 0.832232\n",
            "Train Epoch: 2 [1920/3490 (55%)]\tTrain Loss: 0.705458\n",
            "Train Epoch: 2 [2080/3490 (59%)]\tTrain Loss: 0.663595\n",
            "Train Epoch: 2 [2240/3490 (64%)]\tTrain Loss: 0.887974\n",
            "Train Epoch: 2 [2400/3490 (68%)]\tTrain Loss: 0.924464\n",
            "Train Epoch: 2 [2560/3490 (73%)]\tTrain Loss: 0.744427\n",
            "Train Epoch: 2 [2720/3490 (77%)]\tTrain Loss: 0.623794\n",
            "Train Epoch: 2 [2880/3490 (82%)]\tTrain Loss: 0.691629\n",
            "Train Epoch: 2 [3040/3490 (86%)]\tTrain Loss: 0.971247\n",
            "Train Epoch: 2 [3200/3490 (91%)]\tTrain Loss: 0.928839\n",
            "Train Epoch: 2 [3360/3490 (95%)]\tTrain Loss: 0.919028\n",
            "\n",
            "[EPOCH: 2], \tTest Loss: 0.8121, \tTest Accuracy: 70.61 % \n",
            "\n",
            "Train Epoch: 3 [0/3490 (0%)]\tTrain Loss: 0.568392\n",
            "Train Epoch: 3 [160/3490 (5%)]\tTrain Loss: 1.010101\n",
            "Train Epoch: 3 [320/3490 (9%)]\tTrain Loss: 0.758268\n",
            "Train Epoch: 3 [480/3490 (14%)]\tTrain Loss: 0.938937\n",
            "Train Epoch: 3 [640/3490 (18%)]\tTrain Loss: 0.615492\n",
            "Train Epoch: 3 [800/3490 (23%)]\tTrain Loss: 0.604287\n",
            "Train Epoch: 3 [960/3490 (27%)]\tTrain Loss: 0.590713\n",
            "Train Epoch: 3 [1120/3490 (32%)]\tTrain Loss: 0.569565\n",
            "Train Epoch: 3 [1280/3490 (36%)]\tTrain Loss: 1.060935\n",
            "Train Epoch: 3 [1440/3490 (41%)]\tTrain Loss: 0.894705\n",
            "Train Epoch: 3 [1600/3490 (45%)]\tTrain Loss: 0.837868\n",
            "Train Epoch: 3 [1760/3490 (50%)]\tTrain Loss: 0.893121\n",
            "Train Epoch: 3 [1920/3490 (55%)]\tTrain Loss: 0.573053\n",
            "Train Epoch: 3 [2080/3490 (59%)]\tTrain Loss: 0.831236\n",
            "Train Epoch: 3 [2240/3490 (64%)]\tTrain Loss: 0.820838\n",
            "Train Epoch: 3 [2400/3490 (68%)]\tTrain Loss: 0.709608\n",
            "Train Epoch: 3 [2560/3490 (73%)]\tTrain Loss: 0.936289\n",
            "Train Epoch: 3 [2720/3490 (77%)]\tTrain Loss: 1.050023\n",
            "Train Epoch: 3 [2880/3490 (82%)]\tTrain Loss: 0.791866\n",
            "Train Epoch: 3 [3040/3490 (86%)]\tTrain Loss: 0.779138\n",
            "Train Epoch: 3 [3200/3490 (91%)]\tTrain Loss: 0.704562\n",
            "Train Epoch: 3 [3360/3490 (95%)]\tTrain Loss: 0.988583\n",
            "\n",
            "[EPOCH: 3], \tTest Loss: 0.7203, \tTest Accuracy: 75.73 % \n",
            "\n",
            "Train Epoch: 4 [0/3490 (0%)]\tTrain Loss: 0.714198\n",
            "Train Epoch: 4 [160/3490 (5%)]\tTrain Loss: 0.963531\n",
            "Train Epoch: 4 [320/3490 (9%)]\tTrain Loss: 0.731042\n",
            "Train Epoch: 4 [480/3490 (14%)]\tTrain Loss: 0.771232\n",
            "Train Epoch: 4 [640/3490 (18%)]\tTrain Loss: 0.922983\n",
            "Train Epoch: 4 [800/3490 (23%)]\tTrain Loss: 0.841245\n",
            "Train Epoch: 4 [960/3490 (27%)]\tTrain Loss: 0.629859\n",
            "Train Epoch: 4 [1120/3490 (32%)]\tTrain Loss: 0.588999\n",
            "Train Epoch: 4 [1280/3490 (36%)]\tTrain Loss: 0.771467\n",
            "Train Epoch: 4 [1440/3490 (41%)]\tTrain Loss: 0.755522\n",
            "Train Epoch: 4 [1600/3490 (45%)]\tTrain Loss: 0.535223\n",
            "Train Epoch: 4 [1760/3490 (50%)]\tTrain Loss: 0.686350\n",
            "Train Epoch: 4 [1920/3490 (55%)]\tTrain Loss: 0.786586\n",
            "Train Epoch: 4 [2080/3490 (59%)]\tTrain Loss: 0.650320\n",
            "Train Epoch: 4 [2240/3490 (64%)]\tTrain Loss: 0.758400\n",
            "Train Epoch: 4 [2400/3490 (68%)]\tTrain Loss: 0.548565\n",
            "Train Epoch: 4 [2560/3490 (73%)]\tTrain Loss: 0.620433\n",
            "Train Epoch: 4 [2720/3490 (77%)]\tTrain Loss: 0.875090\n",
            "Train Epoch: 4 [2880/3490 (82%)]\tTrain Loss: 0.992270\n",
            "Train Epoch: 4 [3040/3490 (86%)]\tTrain Loss: 0.568422\n",
            "Train Epoch: 4 [3200/3490 (91%)]\tTrain Loss: 0.530330\n",
            "Train Epoch: 4 [3360/3490 (95%)]\tTrain Loss: 0.691714\n",
            "\n",
            "[EPOCH: 4], \tTest Loss: 0.6869, \tTest Accuracy: 76.90 % \n",
            "\n",
            "Train Epoch: 5 [0/3490 (0%)]\tTrain Loss: 0.832142\n",
            "Train Epoch: 5 [160/3490 (5%)]\tTrain Loss: 0.607475\n",
            "Train Epoch: 5 [320/3490 (9%)]\tTrain Loss: 0.527892\n",
            "Train Epoch: 5 [480/3490 (14%)]\tTrain Loss: 0.922898\n",
            "Train Epoch: 5 [640/3490 (18%)]\tTrain Loss: 0.588604\n",
            "Train Epoch: 5 [800/3490 (23%)]\tTrain Loss: 0.670586\n",
            "Train Epoch: 5 [960/3490 (27%)]\tTrain Loss: 0.988171\n",
            "Train Epoch: 5 [1120/3490 (32%)]\tTrain Loss: 0.655072\n",
            "Train Epoch: 5 [1280/3490 (36%)]\tTrain Loss: 0.680486\n",
            "Train Epoch: 5 [1440/3490 (41%)]\tTrain Loss: 0.612757\n",
            "Train Epoch: 5 [1600/3490 (45%)]\tTrain Loss: 0.515693\n",
            "Train Epoch: 5 [1760/3490 (50%)]\tTrain Loss: 0.435421\n",
            "Train Epoch: 5 [1920/3490 (55%)]\tTrain Loss: 0.638698\n",
            "Train Epoch: 5 [2080/3490 (59%)]\tTrain Loss: 0.536009\n",
            "Train Epoch: 5 [2240/3490 (64%)]\tTrain Loss: 0.693462\n",
            "Train Epoch: 5 [2400/3490 (68%)]\tTrain Loss: 0.647853\n",
            "Train Epoch: 5 [2560/3490 (73%)]\tTrain Loss: 0.682851\n",
            "Train Epoch: 5 [2720/3490 (77%)]\tTrain Loss: 0.532341\n",
            "Train Epoch: 5 [2880/3490 (82%)]\tTrain Loss: 0.751192\n",
            "Train Epoch: 5 [3040/3490 (86%)]\tTrain Loss: 0.740028\n",
            "Train Epoch: 5 [3200/3490 (91%)]\tTrain Loss: 0.896039\n",
            "Train Epoch: 5 [3360/3490 (95%)]\tTrain Loss: 0.714098\n",
            "\n",
            "[EPOCH: 5], \tTest Loss: 0.6784, \tTest Accuracy: 76.02 % \n",
            "\n",
            "Train Epoch: 6 [0/3490 (0%)]\tTrain Loss: 0.506378\n",
            "Train Epoch: 6 [160/3490 (5%)]\tTrain Loss: 1.086247\n",
            "Train Epoch: 6 [320/3490 (9%)]\tTrain Loss: 0.562681\n",
            "Train Epoch: 6 [480/3490 (14%)]\tTrain Loss: 0.479538\n",
            "Train Epoch: 6 [640/3490 (18%)]\tTrain Loss: 0.589090\n",
            "Train Epoch: 6 [800/3490 (23%)]\tTrain Loss: 0.725898\n",
            "Train Epoch: 6 [960/3490 (27%)]\tTrain Loss: 0.625771\n",
            "Train Epoch: 6 [1120/3490 (32%)]\tTrain Loss: 0.498656\n",
            "Train Epoch: 6 [1280/3490 (36%)]\tTrain Loss: 0.522959\n",
            "Train Epoch: 6 [1440/3490 (41%)]\tTrain Loss: 0.628868\n",
            "Train Epoch: 6 [1600/3490 (45%)]\tTrain Loss: 0.606430\n",
            "Train Epoch: 6 [1760/3490 (50%)]\tTrain Loss: 0.648661\n",
            "Train Epoch: 6 [1920/3490 (55%)]\tTrain Loss: 0.498387\n",
            "Train Epoch: 6 [2080/3490 (59%)]\tTrain Loss: 0.502330\n",
            "Train Epoch: 6 [2240/3490 (64%)]\tTrain Loss: 0.792260\n",
            "Train Epoch: 6 [2400/3490 (68%)]\tTrain Loss: 0.519986\n",
            "Train Epoch: 6 [2560/3490 (73%)]\tTrain Loss: 0.867891\n",
            "Train Epoch: 6 [2720/3490 (77%)]\tTrain Loss: 0.390355\n",
            "Train Epoch: 6 [2880/3490 (82%)]\tTrain Loss: 0.445178\n",
            "Train Epoch: 6 [3040/3490 (86%)]\tTrain Loss: 0.616974\n",
            "Train Epoch: 6 [3200/3490 (91%)]\tTrain Loss: 0.526557\n",
            "Train Epoch: 6 [3360/3490 (95%)]\tTrain Loss: 0.827075\n",
            "\n",
            "[EPOCH: 6], \tTest Loss: 0.6635, \tTest Accuracy: 76.75 % \n",
            "\n",
            "Train Epoch: 7 [0/3490 (0%)]\tTrain Loss: 0.778612\n",
            "Train Epoch: 7 [160/3490 (5%)]\tTrain Loss: 1.012596\n",
            "Train Epoch: 7 [320/3490 (9%)]\tTrain Loss: 0.698182\n",
            "Train Epoch: 7 [480/3490 (14%)]\tTrain Loss: 0.500753\n",
            "Train Epoch: 7 [640/3490 (18%)]\tTrain Loss: 0.376648\n",
            "Train Epoch: 7 [800/3490 (23%)]\tTrain Loss: 0.796513\n",
            "Train Epoch: 7 [960/3490 (27%)]\tTrain Loss: 0.641186\n",
            "Train Epoch: 7 [1120/3490 (32%)]\tTrain Loss: 0.591952\n",
            "Train Epoch: 7 [1280/3490 (36%)]\tTrain Loss: 0.565615\n",
            "Train Epoch: 7 [1440/3490 (41%)]\tTrain Loss: 0.797544\n",
            "Train Epoch: 7 [1600/3490 (45%)]\tTrain Loss: 0.713050\n",
            "Train Epoch: 7 [1760/3490 (50%)]\tTrain Loss: 0.508169\n",
            "Train Epoch: 7 [1920/3490 (55%)]\tTrain Loss: 0.394006\n",
            "Train Epoch: 7 [2080/3490 (59%)]\tTrain Loss: 0.551413\n",
            "Train Epoch: 7 [2240/3490 (64%)]\tTrain Loss: 0.527381\n",
            "Train Epoch: 7 [2400/3490 (68%)]\tTrain Loss: 0.569440\n",
            "Train Epoch: 7 [2560/3490 (73%)]\tTrain Loss: 0.517776\n",
            "Train Epoch: 7 [2720/3490 (77%)]\tTrain Loss: 0.676174\n",
            "Train Epoch: 7 [2880/3490 (82%)]\tTrain Loss: 0.389068\n",
            "Train Epoch: 7 [3040/3490 (86%)]\tTrain Loss: 0.515984\n",
            "Train Epoch: 7 [3200/3490 (91%)]\tTrain Loss: 0.652286\n",
            "Train Epoch: 7 [3360/3490 (95%)]\tTrain Loss: 1.086085\n",
            "\n",
            "[EPOCH: 7], \tTest Loss: 0.6570, \tTest Accuracy: 77.49 % \n",
            "\n",
            "Train Epoch: 8 [0/3490 (0%)]\tTrain Loss: 1.158260\n",
            "Train Epoch: 8 [160/3490 (5%)]\tTrain Loss: 0.585436\n",
            "Train Epoch: 8 [320/3490 (9%)]\tTrain Loss: 0.816861\n",
            "Train Epoch: 8 [480/3490 (14%)]\tTrain Loss: 0.461294\n",
            "Train Epoch: 8 [640/3490 (18%)]\tTrain Loss: 0.571300\n",
            "Train Epoch: 8 [800/3490 (23%)]\tTrain Loss: 0.524323\n",
            "Train Epoch: 8 [960/3490 (27%)]\tTrain Loss: 0.712838\n",
            "Train Epoch: 8 [1120/3490 (32%)]\tTrain Loss: 0.714610\n",
            "Train Epoch: 8 [1280/3490 (36%)]\tTrain Loss: 0.441557\n",
            "Train Epoch: 8 [1440/3490 (41%)]\tTrain Loss: 0.624129\n",
            "Train Epoch: 8 [1600/3490 (45%)]\tTrain Loss: 0.855651\n",
            "Train Epoch: 8 [1760/3490 (50%)]\tTrain Loss: 0.930363\n",
            "Train Epoch: 8 [1920/3490 (55%)]\tTrain Loss: 0.795976\n",
            "Train Epoch: 8 [2080/3490 (59%)]\tTrain Loss: 0.389867\n",
            "Train Epoch: 8 [2240/3490 (64%)]\tTrain Loss: 0.720238\n",
            "Train Epoch: 8 [2400/3490 (68%)]\tTrain Loss: 0.727404\n",
            "Train Epoch: 8 [2560/3490 (73%)]\tTrain Loss: 0.693806\n",
            "Train Epoch: 8 [2720/3490 (77%)]\tTrain Loss: 0.564492\n",
            "Train Epoch: 8 [2880/3490 (82%)]\tTrain Loss: 0.910786\n",
            "Train Epoch: 8 [3040/3490 (86%)]\tTrain Loss: 0.468365\n",
            "Train Epoch: 8 [3200/3490 (91%)]\tTrain Loss: 0.541985\n",
            "Train Epoch: 8 [3360/3490 (95%)]\tTrain Loss: 0.429947\n",
            "\n",
            "[EPOCH: 8], \tTest Loss: 0.6464, \tTest Accuracy: 76.46 % \n",
            "\n",
            "Train Epoch: 9 [0/3490 (0%)]\tTrain Loss: 0.985007\n",
            "Train Epoch: 9 [160/3490 (5%)]\tTrain Loss: 0.627967\n",
            "Train Epoch: 9 [320/3490 (9%)]\tTrain Loss: 0.329906\n",
            "Train Epoch: 9 [480/3490 (14%)]\tTrain Loss: 0.379447\n",
            "Train Epoch: 9 [640/3490 (18%)]\tTrain Loss: 0.382562\n",
            "Train Epoch: 9 [800/3490 (23%)]\tTrain Loss: 1.136924\n",
            "Train Epoch: 9 [960/3490 (27%)]\tTrain Loss: 0.635395\n",
            "Train Epoch: 9 [1120/3490 (32%)]\tTrain Loss: 0.740910\n",
            "Train Epoch: 9 [1280/3490 (36%)]\tTrain Loss: 0.942809\n",
            "Train Epoch: 9 [1440/3490 (41%)]\tTrain Loss: 0.767216\n",
            "Train Epoch: 9 [1600/3490 (45%)]\tTrain Loss: 1.152312\n",
            "Train Epoch: 9 [1760/3490 (50%)]\tTrain Loss: 0.771788\n",
            "Train Epoch: 9 [1920/3490 (55%)]\tTrain Loss: 0.549597\n",
            "Train Epoch: 9 [2080/3490 (59%)]\tTrain Loss: 0.550759\n",
            "Train Epoch: 9 [2240/3490 (64%)]\tTrain Loss: 0.711096\n",
            "Train Epoch: 9 [2400/3490 (68%)]\tTrain Loss: 0.637241\n",
            "Train Epoch: 9 [2560/3490 (73%)]\tTrain Loss: 0.659411\n",
            "Train Epoch: 9 [2720/3490 (77%)]\tTrain Loss: 0.838728\n",
            "Train Epoch: 9 [2880/3490 (82%)]\tTrain Loss: 0.495566\n",
            "Train Epoch: 9 [3040/3490 (86%)]\tTrain Loss: 0.525172\n",
            "Train Epoch: 9 [3200/3490 (91%)]\tTrain Loss: 0.718665\n",
            "Train Epoch: 9 [3360/3490 (95%)]\tTrain Loss: 0.514948\n",
            "\n",
            "[EPOCH: 9], \tTest Loss: 0.6531, \tTest Accuracy: 76.46 % \n",
            "\n",
            "Train Epoch: 10 [0/3490 (0%)]\tTrain Loss: 0.431328\n",
            "Train Epoch: 10 [160/3490 (5%)]\tTrain Loss: 0.807400\n",
            "Train Epoch: 10 [320/3490 (9%)]\tTrain Loss: 0.516866\n",
            "Train Epoch: 10 [480/3490 (14%)]\tTrain Loss: 0.818969\n",
            "Train Epoch: 10 [640/3490 (18%)]\tTrain Loss: 1.093079\n",
            "Train Epoch: 10 [800/3490 (23%)]\tTrain Loss: 0.350253\n",
            "Train Epoch: 10 [960/3490 (27%)]\tTrain Loss: 0.415216\n",
            "Train Epoch: 10 [1120/3490 (32%)]\tTrain Loss: 1.072818\n",
            "Train Epoch: 10 [1280/3490 (36%)]\tTrain Loss: 0.525174\n",
            "Train Epoch: 10 [1440/3490 (41%)]\tTrain Loss: 0.648237\n",
            "Train Epoch: 10 [1600/3490 (45%)]\tTrain Loss: 0.587648\n",
            "Train Epoch: 10 [1760/3490 (50%)]\tTrain Loss: 0.745826\n",
            "Train Epoch: 10 [1920/3490 (55%)]\tTrain Loss: 0.732793\n",
            "Train Epoch: 10 [2080/3490 (59%)]\tTrain Loss: 0.455313\n",
            "Train Epoch: 10 [2240/3490 (64%)]\tTrain Loss: 0.522175\n",
            "Train Epoch: 10 [2400/3490 (68%)]\tTrain Loss: 0.514591\n",
            "Train Epoch: 10 [2560/3490 (73%)]\tTrain Loss: 0.892702\n",
            "Train Epoch: 10 [2720/3490 (77%)]\tTrain Loss: 0.829333\n",
            "Train Epoch: 10 [2880/3490 (82%)]\tTrain Loss: 0.513781\n",
            "Train Epoch: 10 [3040/3490 (86%)]\tTrain Loss: 0.528676\n",
            "Train Epoch: 10 [3200/3490 (91%)]\tTrain Loss: 0.415996\n",
            "Train Epoch: 10 [3360/3490 (95%)]\tTrain Loss: 0.674304\n",
            "\n",
            "[EPOCH: 10], \tTest Loss: 0.6364, \tTest Accuracy: 78.65 % \n",
            "\n"
          ]
        }
      ]
    },
    {
      "cell_type": "code",
      "source": [
        "from sklearn.metrics import roc_curve, auc"
      ],
      "metadata": {
        "id": "3Ldw3GTbmvBL"
      },
      "execution_count": 21,
      "outputs": []
    },
    {
      "cell_type": "code",
      "source": [
        "def calculate_roc_auc(model, dataloader, num_classes):\n",
        "    model.eval()\n",
        "    all_labels = []\n",
        "    all_probs = []\n",
        "\n",
        "    with torch.no_grad():\n",
        "        for inputs, labels in dataloader:\n",
        "            inputs = inputs.to(device)\n",
        "            labels = labels.to(device)\n",
        "            outputs = model(inputs)\n",
        "            probs = torch.softmax(outputs, dim=1)\n",
        "\n",
        "            all_labels.append(labels.cpu().numpy())\n",
        "            all_probs.append(probs.cpu().numpy())\n",
        "\n",
        "    # Flatten the lists\n",
        "    all_labels = np.concatenate(all_labels)\n",
        "    all_probs = np.concatenate(all_probs)\n",
        "\n",
        "    # ROC 곡선과 AUC 계산\n",
        "    plt.figure()\n",
        "    for i in range(num_classes):\n",
        "        fpr, tpr, _ = roc_curve(all_labels == i, all_probs[:, i])\n",
        "        roc_auc = auc(fpr, tpr)\n",
        "        plt.plot(fpr, tpr, lw=2, label=f'Class {i} (area = {roc_auc:.2f})')\n",
        "\n",
        "    # ROC 곡선 출력\n",
        "    plt.figure()\n",
        "    plt.plot(fpr, tpr, color='darkorange', lw=2, label=f'ROC curve (area = {roc_auc:.2f})')\n",
        "    plt.plot([0, 1], [0, 1], color='navy', lw=2, linestyle='--')\n",
        "    plt.xlim([0.0, 1.0])\n",
        "    plt.ylim([0.0, 1.0])\n",
        "    plt.xlabel('False Positive Rate')\n",
        "    plt.ylabel('True Positive Rate')\n",
        "    plt.title('Receiver Operating Characteristic (ROC) Curve')\n",
        "    plt.legend(loc=\"lower right\")\n",
        "    plt.show()\n",
        "\n",
        "    print(f'AUC Score: {roc_auc:.4f}')"
      ],
      "metadata": {
        "id": "7Cr9_m2EiR3i"
      },
      "execution_count": 28,
      "outputs": []
    },
    {
      "cell_type": "code",
      "source": [
        "calculate_roc_auc(model, valloader, 5)"
      ],
      "metadata": {
        "colab": {
          "base_uri": "https://localhost:8080/",
          "height": 903
        },
        "id": "w6qjg-qiiOZq",
        "outputId": "e43cc935-9cce-40fb-dd1f-fb9a1d411967"
      },
      "execution_count": 29,
      "outputs": [
        {
          "output_type": "display_data",
          "data": {
            "text/plain": [
              "<Figure size 640x480 with 1 Axes>"
            ],
            "image/png": "[encoded data removed]"
          },
          "metadata": {}
        },
        {
          "output_type": "display_data",
          "data": {
            "text/plain": [
              "<Figure size 640x480 with 1 Axes>"
            ],
            "image/png": "[encoded data removed]"
          },
          "metadata": {}
        },
        {
          "output_type": "stream",
          "name": "stdout",
          "text": [
            "AUC Score: 0.9435\n"
          ]
        }
      ]
    },
    {
      "cell_type": "code",
      "source": [],
      "metadata": {
        "id": "xxIR34ku0DIQ"
      },
      "execution_count": null,
      "outputs": []
    }
  ]
}