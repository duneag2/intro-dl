{
  "nbformat": 4,
  "nbformat_minor": 0,
  "metadata": {
    "colab": {
      "provenance": [],
      "authorship_tag": "ABX9TyNxF1MCz/taSOWhXC1sLRpY",
      "include_colab_link": true
    },
    "kernelspec": {
      "name": "python3",
      "display_name": "Python 3"
    },
    "language_info": {
      "name": "python"
    }
  },
  "cells": [
    {
      "cell_type": "markdown",
      "metadata": {
        "id": "view-in-github",
        "colab_type": "text"
      },
      "source": [
        "<a href=\"https://colab.research.google.com/github/duneag2/intro-dl/blob/main/Assignment1/Uihwan/Untitled1.ipynb\" target=\"_parent\"><img src=\"https://colab.research.google.com/assets/colab-badge.svg\" alt=\"Open In Colab\"/></a>"
      ]
    },
    {
      "cell_type": "code",
      "execution_count": null,
      "metadata": {
        "colab": {
          "base_uri": "https://localhost:8080/"
        },
        "id": "tFvD1a4v1kCq",
        "outputId": "b414684e-e4d4-48fd-a96f-32d6fe5f8877"
      },
      "outputs": [
        {
          "output_type": "stream",
          "name": "stdout",
          "text": [
            "Mounted at /content/drive\n"
          ]
        }
      ],
      "source": [
        "from google.colab import drive\n",
        "drive.mount('/content/drive')   # 내 컴퓨터가 아니라 구글 코랩에 있는 주소로 연결하는 거임. 연결해서 저장공간이나 시스템?을 사용하는 거. 근데 저렇게 다 한 곳으로 연결하면 되는거야?? 오 해결?"
      ]
    },
    {
      "cell_type": "code",
      "source": [
        "!pwd   # print working directory. 위에서 content로 연결했으니까. !는 셀에서 직접 실행한다...고 하는데 정확한 의미는 모르겠음."
      ],
      "metadata": {
        "colab": {
          "base_uri": "https://localhost:8080/"
        },
        "id": "9Z3I5iP91zQG",
        "outputId": "348313e2-63b7-4151-805b-c63adbfe1cac"
      },
      "execution_count": null,
      "outputs": [
        {
          "output_type": "stream",
          "name": "stdout",
          "text": [
            "/content\n"
          ]
        }
      ]
    },
    {
      "cell_type": "code",
      "source": [
        "!ls -l    # 디렉토리 목록 list 출력.  -l는 옵션 중에 long 어쩌고임. 자세히 한다는 것 같음."
      ],
      "metadata": {
        "colab": {
          "base_uri": "https://localhost:8080/"
        },
        "id": "a-iRotlt1644",
        "outputId": "3446c281-32fa-479e-e05f-e501ecdec3a5"
      },
      "execution_count": null,
      "outputs": [
        {
          "output_type": "stream",
          "name": "stdout",
          "text": [
            "total 8\n",
            "drwx------ 5 root root 4096 Apr  4 11:21 drive\n",
            "drwxr-xr-x 1 root root 4096 Apr  2 13:23 sample_data\n"
          ]
        }
      ]
    },
    {
      "cell_type": "code",
      "source": [
        "%cd /content/drive/MyDrive/     # 왜 만들고 나서 디렉토리를 바꿔??  -> 마운트는 '/content/drive' 여기에서만 할 수 있기 때문.\n",
        "# 근데 MyDrive 디렉토리는 원래 있는 거임? 아님 디렉토리 변경하겠다고만 하면 자동으로 새로 만들어주는 거임?  아 근데 위에서 total8 막 이러는 거 보니 원래 뭐가 있기는 있는 듯"
      ],
      "metadata": {
        "colab": {
          "base_uri": "https://localhost:8080/"
        },
        "id": "nMFEISBX1-8X",
        "outputId": "6fbb5471-c041-40d2-cead-3d39808beac2"
      },
      "execution_count": null,
      "outputs": [
        {
          "output_type": "stream",
          "name": "stdout",
          "text": [
            "/content/drive/MyDrive\n"
          ]
        }
      ]
    },
    {
      "cell_type": "code",
      "source": [
        "!mkdir intro-dl"
      ],
      "metadata": {
        "id": "ek7ICPZQ2CuN"
      },
      "execution_count": null,
      "outputs": []
    },
    {
      "cell_type": "code",
      "source": [
        "%cd /content/drive/MyDrive/intro-dl"
      ],
      "metadata": {
        "colab": {
          "base_uri": "https://localhost:8080/"
        },
        "id": "jbs3LmBZ2F60",
        "outputId": "aa68b793-0b4b-41d4-a1fc-4ed3a5d80c52"
      },
      "execution_count": null,
      "outputs": [
        {
          "output_type": "stream",
          "name": "stdout",
          "text": [
            "/content/drive/MyDrive/intro-dl\n"
          ]
        }
      ]
    },
    {
      "cell_type": "code",
      "source": [
        "!pwd"
      ],
      "metadata": {
        "colab": {
          "base_uri": "https://localhost:8080/"
        },
        "id": "p2v-IkYy2IkZ",
        "outputId": "d45d3710-877b-4970-d870-b91f70a4313c"
      },
      "execution_count": null,
      "outputs": [
        {
          "output_type": "stream",
          "name": "stdout",
          "text": [
            "/content/drive/MyDrive/intro-dl\n"
          ]
        }
      ]
    },
    {
      "cell_type": "code",
      "source": [
        "!unzip -qq /content/drive/MyDrive/intro-dl/archive.zip -d /content/drive/MyDrive/intro-dl   # -qq: 조용조용해, -d: 저장할 디렉토리 설정 옵션"
      ],
      "metadata": {
        "colab": {
          "base_uri": "https://localhost:8080/"
        },
        "id": "p2wBYAE92I_G",
        "outputId": "b5924f6c-d5e9-4162-903c-9b49df5adfcf"
      },
      "execution_count": null,
      "outputs": [
        {
          "output_type": "stream",
          "name": "stdout",
          "text": [
            "unzip:  cannot find or open /content/drive/MyDrive/intro-dl/archive.zip, /content/drive/MyDrive/intro-dl/archive.zip.zip or /content/drive/MyDrive/intro-dl/archive.zip.ZIP.\n"
          ]
        }
      ]
    },
    {
      "cell_type": "code",
      "source": [
        "!ls -l"
      ],
      "metadata": {
        "colab": {
          "base_uri": "https://localhost:8080/"
        },
        "id": "JxIiBokh2Nm5",
        "outputId": "cd6a381b-5b68-49ca-dd93-a20af43c0bdb"
      },
      "execution_count": null,
      "outputs": [
        {
          "output_type": "stream",
          "name": "stdout",
          "text": [
            "total 0\n"
          ]
        }
      ]
    },
    {
      "cell_type": "code",
      "source": [
        "%cd afhq"
      ],
      "metadata": {
        "id": "RULfUmyOgfRb"
      },
      "execution_count": null,
      "outputs": []
    },
    {
      "cell_type": "code",
      "source": [
        "!ls -l"
      ],
      "metadata": {
        "id": "PaKefX9ugmbH"
      },
      "execution_count": null,
      "outputs": []
    },
    {
      "cell_type": "code",
      "source": [
        "!nvidia-smi   # 현재 사용 중인 어쩌고"
      ],
      "metadata": {
        "colab": {
          "base_uri": "https://localhost:8080/"
        },
        "id": "j5HHet_n2QIR",
        "outputId": "82f7517c-bc14-43c8-f651-e6e2f1ae50b1"
      },
      "execution_count": null,
      "outputs": [
        {
          "output_type": "stream",
          "name": "stdout",
          "text": [
            "/bin/bash: line 1: nvidia-smi: command not found\n"
          ]
        }
      ]
    },
    {
      "cell_type": "code",
      "source": [
        "import os"
      ],
      "metadata": {
        "id": "K_ryQRsK2VpH"
      },
      "execution_count": null,
      "outputs": []
    },
    {
      "cell_type": "code",
      "source": [
        "os.getcwd()   # get current working directory"
      ],
      "metadata": {
        "colab": {
          "base_uri": "https://localhost:8080/",
          "height": 35
        },
        "id": "yOIYDSbt2XaF",
        "outputId": "33621744-90ff-4c46-a589-a6d67ecc14e3"
      },
      "execution_count": null,
      "outputs": [
        {
          "output_type": "execute_result",
          "data": {
            "text/plain": [
              "'/content/drive/MyDrive/intro-dl'"
            ],
            "application/vnd.google.colaboratory.intrinsic+json": {
              "type": "string"
            }
          },
          "metadata": {},
          "execution_count": 13
        }
      ]
    },
    {
      "cell_type": "code",
      "source": [
        "os.chdir('/content/drive/MyDrive/intro-dl')"
      ],
      "metadata": {
        "id": "WnJBGKJG2ZZ0"
      },
      "execution_count": null,
      "outputs": []
    },
    {
      "cell_type": "code",
      "source": [
        "os.mkdir('temp')"
      ],
      "metadata": {
        "id": "YoN9wlz02a_4"
      },
      "execution_count": null,
      "outputs": []
    },
    {
      "cell_type": "code",
      "source": [
        "os.listdir(os.getcwd())"
      ],
      "metadata": {
        "colab": {
          "base_uri": "https://localhost:8080/"
        },
        "id": "nNiO0O_c2cum",
        "outputId": "823087d6-fbb1-4ac2-dc40-2b15a56dec74"
      },
      "execution_count": null,
      "outputs": [
        {
          "output_type": "execute_result",
          "data": {
            "text/plain": [
              "['temp']"
            ]
          },
          "metadata": {},
          "execution_count": 16
        }
      ]
    },
    {
      "cell_type": "code",
      "source": [
        "len(os.listdir(os.getcwd()))"
      ],
      "metadata": {
        "colab": {
          "base_uri": "https://localhost:8080/"
        },
        "id": "1EV_qZeV2h5q",
        "outputId": "7c53732d-bd76-4600-f4ea-e1f1f788b7b9"
      },
      "execution_count": null,
      "outputs": [
        {
          "output_type": "execute_result",
          "data": {
            "text/plain": [
              "1"
            ]
          },
          "metadata": {},
          "execution_count": 17
        }
      ]
    },
    {
      "cell_type": "code",
      "source": [
        "os.chdir('/content/sample_data')"
      ],
      "metadata": {
        "id": "0Ox3JR6G7Lmp"
      },
      "execution_count": null,
      "outputs": []
    },
    {
      "cell_type": "code",
      "source": [
        "%cd /content/sample_data"
      ],
      "metadata": {
        "colab": {
          "base_uri": "https://localhost:8080/"
        },
        "id": "7rZGf3Z37U6p",
        "outputId": "5b7265d3-5df2-4be5-c7d1-39b9fe4b259f"
      },
      "execution_count": null,
      "outputs": [
        {
          "output_type": "stream",
          "name": "stdout",
          "text": [
            "/content/drive/MyDrive/intro-dl\n"
          ]
        }
      ]
    },
    {
      "cell_type": "code",
      "source": [
        "import shutil"
      ],
      "metadata": {
        "id": "5UVJbqcL7iow"
      },
      "execution_count": null,
      "outputs": []
    },
    {
      "cell_type": "code",
      "source": [
        "os.chdir('/content/drive/MyDrive/intro-dl/afhq')"
      ],
      "metadata": {
        "colab": {
          "base_uri": "https://localhost:8080/",
          "height": 146
        },
        "id": "txgV4vcv7kul",
        "outputId": "ed5658ba-c8a5-4512-8a51-c26f0260455e"
      },
      "execution_count": null,
      "outputs": [
        {
          "output_type": "error",
          "ename": "FileNotFoundError",
          "evalue": "[Errno 2] No such file or directory: '/content/drive/MyDrive/intro-dl/afhq'",
          "traceback": [
            "\u001b[0;31m---------------------------------------------------------------------------\u001b[0m",
            "\u001b[0;31mFileNotFoundError\u001b[0m                         Traceback (most recent call last)",
            "\u001b[0;32m<ipython-input-21-bd8da326c0d4>\u001b[0m in \u001b[0;36m<cell line: 1>\u001b[0;34m()\u001b[0m\n\u001b[0;32m----> 1\u001b[0;31m \u001b[0mos\u001b[0m\u001b[0;34m.\u001b[0m\u001b[0mchdir\u001b[0m\u001b[0;34m(\u001b[0m\u001b[0;34m'/content/drive/MyDrive/intro-dl/afhq'\u001b[0m\u001b[0;34m)\u001b[0m\u001b[0;34m\u001b[0m\u001b[0;34m\u001b[0m\u001b[0m\n\u001b[0m",
            "\u001b[0;31mFileNotFoundError\u001b[0m: [Errno 2] No such file or directory: '/content/drive/MyDrive/intro-dl/afhq'"
          ]
        }
      ]
    },
    {
      "cell_type": "code",
      "source": [
        "!ls -l"
      ],
      "metadata": {
        "colab": {
          "base_uri": "https://localhost:8080/"
        },
        "id": "exqt3Dpz7lRY",
        "outputId": "fa3f4bb3-cf91-4cd3-ee44-d0acc4ea2b23"
      },
      "execution_count": null,
      "outputs": [
        {
          "output_type": "stream",
          "name": "stdout",
          "text": [
            "total 55504\n",
            "-rwxr-xr-x 1 root root     1697 Jan  1  2000 anscombe.json\n",
            "-rw-r--r-- 1 root root   301141 Apr  2 13:23 california_housing_test.csv\n",
            "-rw-r--r-- 1 root root  1706430 Apr  2 13:23 california_housing_train.csv\n",
            "-rw-r--r-- 1 root root 18289443 Apr  2 13:23 mnist_test.csv\n",
            "-rw-r--r-- 1 root root 36523880 Apr  2 13:23 mnist_train_small.csv\n",
            "-rwxr-xr-x 1 root root      930 Jan  1  2000 README.md\n"
          ]
        }
      ]
    },
    {
      "cell_type": "code",
      "source": [
        "f = open(\"new.txt\", 'w') # make a txt file name new\n",
        "f.close()"
      ],
      "metadata": {
        "id": "DIVSWDlb7wbI"
      },
      "execution_count": null,
      "outputs": []
    },
    {
      "cell_type": "code",
      "source": [
        "!ls -l"
      ],
      "metadata": {
        "colab": {
          "base_uri": "https://localhost:8080/"
        },
        "id": "-bjpnp117y24",
        "outputId": "3b500955-d470-4ed9-a6cd-c087d65f6328"
      },
      "execution_count": null,
      "outputs": [
        {
          "output_type": "stream",
          "name": "stdout",
          "text": [
            "total 55504\n",
            "-rwxr-xr-x 1 root root     1697 Jan  1  2000 anscombe.json\n",
            "-rw-r--r-- 1 root root   301141 Apr  2 13:23 california_housing_test.csv\n",
            "-rw-r--r-- 1 root root  1706430 Apr  2 13:23 california_housing_train.csv\n",
            "-rw-r--r-- 1 root root 18289443 Apr  2 13:23 mnist_test.csv\n",
            "-rw-r--r-- 1 root root 36523880 Apr  2 13:23 mnist_train_small.csv\n",
            "-rw-r--r-- 1 root root        0 Apr  4 11:47 new.txt\n",
            "-rwxr-xr-x 1 root root      930 Jan  1  2000 README.md\n"
          ]
        }
      ]
    },
    {
      "cell_type": "code",
      "source": [
        "!mkdir new_folder"
      ],
      "metadata": {
        "id": "8xymiV777zhs"
      },
      "execution_count": null,
      "outputs": []
    },
    {
      "cell_type": "code",
      "source": [
        "!ls -l"
      ],
      "metadata": {
        "colab": {
          "base_uri": "https://localhost:8080/"
        },
        "id": "6Y56hlbO7zdO",
        "outputId": "92e33ba1-1694-4538-91b7-8061e9c8544d"
      },
      "execution_count": null,
      "outputs": [
        {
          "output_type": "stream",
          "name": "stdout",
          "text": [
            "total 55508\n",
            "-rwxr-xr-x 1 root root     1697 Jan  1  2000 anscombe.json\n",
            "-rw-r--r-- 1 root root   301141 Apr  2 13:23 california_housing_test.csv\n",
            "-rw-r--r-- 1 root root  1706430 Apr  2 13:23 california_housing_train.csv\n",
            "-rw-r--r-- 1 root root 18289443 Apr  2 13:23 mnist_test.csv\n",
            "-rw-r--r-- 1 root root 36523880 Apr  2 13:23 mnist_train_small.csv\n",
            "drwxr-xr-x 2 root root     4096 Apr  4 11:47 new_folder\n",
            "-rw-r--r-- 1 root root        0 Apr  4 11:47 new.txt\n",
            "-rwxr-xr-x 1 root root      930 Jan  1  2000 README.md\n"
          ]
        }
      ]
    },
    {
      "cell_type": "code",
      "source": [
        "src = '/content/drive/MyDrive/intro-dl/afhq/new.txt' # source directory -- python convention\n",
        "dst = '/content/drive/MyDrive/intro-dl/afhq/new_folder/new.txt' # destination directory -- python convention"
      ],
      "metadata": {
        "id": "AvRAxYDT7zYZ"
      },
      "execution_count": null,
      "outputs": []
    },
    {
      "cell_type": "code",
      "source": [
        "shutil.move(src, dst)"
      ],
      "metadata": {
        "colab": {
          "base_uri": "https://localhost:8080/",
          "height": 442
        },
        "id": "_clI07Qi7zRm",
        "outputId": "9eba2bb2-d58f-4698-e860-3d24887ff4bc"
      },
      "execution_count": null,
      "outputs": [
        {
          "output_type": "error",
          "ename": "FileNotFoundError",
          "evalue": "[Errno 2] No such file or directory: '/content/drive/MyDrive/intro-dl/afhq/new.txt'",
          "traceback": [
            "\u001b[0;31m---------------------------------------------------------------------------\u001b[0m",
            "\u001b[0;31mFileNotFoundError\u001b[0m                         Traceback (most recent call last)",
            "\u001b[0;32m/usr/lib/python3.10/shutil.py\u001b[0m in \u001b[0;36mmove\u001b[0;34m(src, dst, copy_function)\u001b[0m\n\u001b[1;32m    815\u001b[0m     \u001b[0;32mtry\u001b[0m\u001b[0;34m:\u001b[0m\u001b[0;34m\u001b[0m\u001b[0;34m\u001b[0m\u001b[0m\n\u001b[0;32m--> 816\u001b[0;31m         \u001b[0mos\u001b[0m\u001b[0;34m.\u001b[0m\u001b[0mrename\u001b[0m\u001b[0;34m(\u001b[0m\u001b[0msrc\u001b[0m\u001b[0;34m,\u001b[0m \u001b[0mreal_dst\u001b[0m\u001b[0;34m)\u001b[0m\u001b[0;34m\u001b[0m\u001b[0;34m\u001b[0m\u001b[0m\n\u001b[0m\u001b[1;32m    817\u001b[0m     \u001b[0;32mexcept\u001b[0m \u001b[0mOSError\u001b[0m\u001b[0;34m:\u001b[0m\u001b[0;34m\u001b[0m\u001b[0;34m\u001b[0m\u001b[0m\n",
            "\u001b[0;31mFileNotFoundError\u001b[0m: [Errno 2] No such file or directory: '/content/drive/MyDrive/intro-dl/afhq/new.txt' -> '/content/drive/MyDrive/intro-dl/afhq/new_folder/new.txt'",
            "\nDuring handling of the above exception, another exception occurred:\n",
            "\u001b[0;31mFileNotFoundError\u001b[0m                         Traceback (most recent call last)",
            "\u001b[0;32m<ipython-input-28-3960d4ec7f67>\u001b[0m in \u001b[0;36m<cell line: 1>\u001b[0;34m()\u001b[0m\n\u001b[0;32m----> 1\u001b[0;31m \u001b[0mshutil\u001b[0m\u001b[0;34m.\u001b[0m\u001b[0mmove\u001b[0m\u001b[0;34m(\u001b[0m\u001b[0msrc\u001b[0m\u001b[0;34m,\u001b[0m \u001b[0mdst\u001b[0m\u001b[0;34m)\u001b[0m\u001b[0;34m\u001b[0m\u001b[0;34m\u001b[0m\u001b[0m\n\u001b[0m",
            "\u001b[0;32m/usr/lib/python3.10/shutil.py\u001b[0m in \u001b[0;36mmove\u001b[0;34m(src, dst, copy_function)\u001b[0m\n\u001b[1;32m    834\u001b[0m             \u001b[0mrmtree\u001b[0m\u001b[0;34m(\u001b[0m\u001b[0msrc\u001b[0m\u001b[0;34m)\u001b[0m\u001b[0;34m\u001b[0m\u001b[0;34m\u001b[0m\u001b[0m\n\u001b[1;32m    835\u001b[0m         \u001b[0;32melse\u001b[0m\u001b[0;34m:\u001b[0m\u001b[0;34m\u001b[0m\u001b[0;34m\u001b[0m\u001b[0m\n\u001b[0;32m--> 836\u001b[0;31m             \u001b[0mcopy_function\u001b[0m\u001b[0;34m(\u001b[0m\u001b[0msrc\u001b[0m\u001b[0;34m,\u001b[0m \u001b[0mreal_dst\u001b[0m\u001b[0;34m)\u001b[0m\u001b[0;34m\u001b[0m\u001b[0;34m\u001b[0m\u001b[0m\n\u001b[0m\u001b[1;32m    837\u001b[0m             \u001b[0mos\u001b[0m\u001b[0;34m.\u001b[0m\u001b[0munlink\u001b[0m\u001b[0;34m(\u001b[0m\u001b[0msrc\u001b[0m\u001b[0;34m)\u001b[0m\u001b[0;34m\u001b[0m\u001b[0;34m\u001b[0m\u001b[0m\n\u001b[1;32m    838\u001b[0m     \u001b[0;32mreturn\u001b[0m \u001b[0mreal_dst\u001b[0m\u001b[0;34m\u001b[0m\u001b[0;34m\u001b[0m\u001b[0m\n",
            "\u001b[0;32m/usr/lib/python3.10/shutil.py\u001b[0m in \u001b[0;36mcopy2\u001b[0;34m(src, dst, follow_symlinks)\u001b[0m\n\u001b[1;32m    432\u001b[0m     \u001b[0;32mif\u001b[0m \u001b[0mos\u001b[0m\u001b[0;34m.\u001b[0m\u001b[0mpath\u001b[0m\u001b[0;34m.\u001b[0m\u001b[0misdir\u001b[0m\u001b[0;34m(\u001b[0m\u001b[0mdst\u001b[0m\u001b[0;34m)\u001b[0m\u001b[0;34m:\u001b[0m\u001b[0;34m\u001b[0m\u001b[0;34m\u001b[0m\u001b[0m\n\u001b[1;32m    433\u001b[0m         \u001b[0mdst\u001b[0m \u001b[0;34m=\u001b[0m \u001b[0mos\u001b[0m\u001b[0;34m.\u001b[0m\u001b[0mpath\u001b[0m\u001b[0;34m.\u001b[0m\u001b[0mjoin\u001b[0m\u001b[0;34m(\u001b[0m\u001b[0mdst\u001b[0m\u001b[0;34m,\u001b[0m \u001b[0mos\u001b[0m\u001b[0;34m.\u001b[0m\u001b[0mpath\u001b[0m\u001b[0;34m.\u001b[0m\u001b[0mbasename\u001b[0m\u001b[0;34m(\u001b[0m\u001b[0msrc\u001b[0m\u001b[0;34m)\u001b[0m\u001b[0;34m)\u001b[0m\u001b[0;34m\u001b[0m\u001b[0;34m\u001b[0m\u001b[0m\n\u001b[0;32m--> 434\u001b[0;31m     \u001b[0mcopyfile\u001b[0m\u001b[0;34m(\u001b[0m\u001b[0msrc\u001b[0m\u001b[0;34m,\u001b[0m \u001b[0mdst\u001b[0m\u001b[0;34m,\u001b[0m \u001b[0mfollow_symlinks\u001b[0m\u001b[0;34m=\u001b[0m\u001b[0mfollow_symlinks\u001b[0m\u001b[0;34m)\u001b[0m\u001b[0;34m\u001b[0m\u001b[0;34m\u001b[0m\u001b[0m\n\u001b[0m\u001b[1;32m    435\u001b[0m     \u001b[0mcopystat\u001b[0m\u001b[0;34m(\u001b[0m\u001b[0msrc\u001b[0m\u001b[0;34m,\u001b[0m \u001b[0mdst\u001b[0m\u001b[0;34m,\u001b[0m \u001b[0mfollow_symlinks\u001b[0m\u001b[0;34m=\u001b[0m\u001b[0mfollow_symlinks\u001b[0m\u001b[0;34m)\u001b[0m\u001b[0;34m\u001b[0m\u001b[0;34m\u001b[0m\u001b[0m\n\u001b[1;32m    436\u001b[0m     \u001b[0;32mreturn\u001b[0m \u001b[0mdst\u001b[0m\u001b[0;34m\u001b[0m\u001b[0;34m\u001b[0m\u001b[0m\n",
            "\u001b[0;32m/usr/lib/python3.10/shutil.py\u001b[0m in \u001b[0;36mcopyfile\u001b[0;34m(src, dst, follow_symlinks)\u001b[0m\n\u001b[1;32m    252\u001b[0m         \u001b[0mos\u001b[0m\u001b[0;34m.\u001b[0m\u001b[0msymlink\u001b[0m\u001b[0;34m(\u001b[0m\u001b[0mos\u001b[0m\u001b[0;34m.\u001b[0m\u001b[0mreadlink\u001b[0m\u001b[0;34m(\u001b[0m\u001b[0msrc\u001b[0m\u001b[0;34m)\u001b[0m\u001b[0;34m,\u001b[0m \u001b[0mdst\u001b[0m\u001b[0;34m)\u001b[0m\u001b[0;34m\u001b[0m\u001b[0;34m\u001b[0m\u001b[0m\n\u001b[1;32m    253\u001b[0m     \u001b[0;32melse\u001b[0m\u001b[0;34m:\u001b[0m\u001b[0;34m\u001b[0m\u001b[0;34m\u001b[0m\u001b[0m\n\u001b[0;32m--> 254\u001b[0;31m         \u001b[0;32mwith\u001b[0m \u001b[0mopen\u001b[0m\u001b[0;34m(\u001b[0m\u001b[0msrc\u001b[0m\u001b[0;34m,\u001b[0m \u001b[0;34m'rb'\u001b[0m\u001b[0;34m)\u001b[0m \u001b[0;32mas\u001b[0m \u001b[0mfsrc\u001b[0m\u001b[0;34m:\u001b[0m\u001b[0;34m\u001b[0m\u001b[0;34m\u001b[0m\u001b[0m\n\u001b[0m\u001b[1;32m    255\u001b[0m             \u001b[0;32mtry\u001b[0m\u001b[0;34m:\u001b[0m\u001b[0;34m\u001b[0m\u001b[0;34m\u001b[0m\u001b[0m\n\u001b[1;32m    256\u001b[0m                 \u001b[0;32mwith\u001b[0m \u001b[0mopen\u001b[0m\u001b[0;34m(\u001b[0m\u001b[0mdst\u001b[0m\u001b[0;34m,\u001b[0m \u001b[0;34m'wb'\u001b[0m\u001b[0;34m)\u001b[0m \u001b[0;32mas\u001b[0m \u001b[0mfdst\u001b[0m\u001b[0;34m:\u001b[0m\u001b[0;34m\u001b[0m\u001b[0;34m\u001b[0m\u001b[0m\n",
            "\u001b[0;31mFileNotFoundError\u001b[0m: [Errno 2] No such file or directory: '/content/drive/MyDrive/intro-dl/afhq/new.txt'"
          ]
        }
      ]
    },
    {
      "cell_type": "code",
      "source": [
        "%cd /content/drive/MyDrive/intro-dl/afhq/new_folder"
      ],
      "metadata": {
        "colab": {
          "base_uri": "https://localhost:8080/"
        },
        "id": "XeL2OkiA7yku",
        "outputId": "09520ca0-67fc-4bc4-e608-58fcdc06f6ec"
      },
      "execution_count": null,
      "outputs": [
        {
          "output_type": "stream",
          "name": "stdout",
          "text": [
            "[Errno 2] No such file or directory: '/content/drive/MyDrive/intro-dl/afhq/new_folder'\n",
            "/content/drive/MyDrive/intro-dl\n"
          ]
        }
      ]
    },
    {
      "cell_type": "code",
      "source": [
        "!ls -l"
      ],
      "metadata": {
        "id": "1JmT-i5o8Dqc",
        "outputId": "09ee5e8a-c0d8-461f-8db7-67915b0c2bea",
        "colab": {
          "base_uri": "https://localhost:8080/"
        }
      },
      "execution_count": null,
      "outputs": [
        {
          "output_type": "stream",
          "name": "stdout",
          "text": [
            "total 55508\n",
            "-rwxr-xr-x 1 root root     1697 Jan  1  2000 anscombe.json\n",
            "-rw-r--r-- 1 root root   301141 Apr  2 13:23 california_housing_test.csv\n",
            "-rw-r--r-- 1 root root  1706430 Apr  2 13:23 california_housing_train.csv\n",
            "-rw-r--r-- 1 root root 18289443 Apr  2 13:23 mnist_test.csv\n",
            "-rw-r--r-- 1 root root 36523880 Apr  2 13:23 mnist_train_small.csv\n",
            "drwxr-xr-x 2 root root     4096 Apr  4 11:47 new_folder\n",
            "-rw-r--r-- 1 root root        0 Apr  4 11:47 new.txt\n",
            "-rwxr-xr-x 1 root root      930 Jan  1  2000 README.md\n"
          ]
        }
      ]
    },
    {
      "cell_type": "code",
      "source": [
        "src3 = '/content/drive/MyDrive/intro-dl/afhq/new_folder/new.txt' # source directory -- python convention\n",
        "dst3 = '/content/drive/MyDrive/intro-dl/afhq/new_folder/new3.txt' # destination directory -- python convention"
      ],
      "metadata": {
        "id": "g029Amjd4SVK"
      },
      "execution_count": null,
      "outputs": []
    },
    {
      "cell_type": "code",
      "source": [
        "shutil.copy(src3, dst3)"
      ],
      "metadata": {
        "id": "pScvMitX4bht",
        "outputId": "ed632c46-59a9-40e6-b182-ea2aad500e85",
        "colab": {
          "base_uri": "https://localhost:8080/",
          "height": 146
        }
      },
      "execution_count": null,
      "outputs": [
        {
          "output_type": "error",
          "ename": "NameError",
          "evalue": "name 'shutil' is not defined",
          "traceback": [
            "\u001b[0;31m---------------------------------------------------------------------------\u001b[0m",
            "\u001b[0;31mNameError\u001b[0m                                 Traceback (most recent call last)",
            "\u001b[0;32m<ipython-input-2-7f0036480a44>\u001b[0m in \u001b[0;36m<cell line: 1>\u001b[0;34m()\u001b[0m\n\u001b[0;32m----> 1\u001b[0;31m \u001b[0mshutil\u001b[0m\u001b[0;34m.\u001b[0m\u001b[0mcopy\u001b[0m\u001b[0;34m(\u001b[0m\u001b[0msrc3\u001b[0m\u001b[0;34m,\u001b[0m \u001b[0mdst3\u001b[0m\u001b[0;34m)\u001b[0m\u001b[0;34m\u001b[0m\u001b[0;34m\u001b[0m\u001b[0m\n\u001b[0m",
            "\u001b[0;31mNameError\u001b[0m: name 'shutil' is not defined"
          ]
        }
      ]
    },
    {
      "cell_type": "code",
      "source": [
        "import torch"
      ],
      "metadata": {
        "id": "t4S5SNoH-LLo"
      },
      "execution_count": 2,
      "outputs": []
    },
    {
      "cell_type": "code",
      "source": [
        "## facebook에서 제공하는 딥러닝 도구"
      ],
      "metadata": {
        "id": "sfareHvx-POO"
      },
      "execution_count": null,
      "outputs": []
    },
    {
      "cell_type": "code",
      "source": [
        "scalar1 = torch.tensor([1.])\n",
        "print(scalar1)"
      ],
      "metadata": {
        "colab": {
          "base_uri": "https://localhost:8080/"
        },
        "id": "UDdJUkRx-c_l",
        "outputId": "bfa2c87e-31ec-4d97-dbb2-30641d09106c"
      },
      "execution_count": null,
      "outputs": [
        {
          "output_type": "stream",
          "name": "stdout",
          "text": [
            "tensor([1.])\n"
          ]
        }
      ]
    },
    {
      "cell_type": "code",
      "source": [
        "scalar2 = torch.tensor([3.])\n",
        "print(scalar2)"
      ],
      "metadata": {
        "colab": {
          "base_uri": "https://localhost:8080/"
        },
        "id": "IVPwVZ2L-gs1",
        "outputId": "68071ce6-7de5-4010-d97a-2ee7fad0c9d1"
      },
      "execution_count": null,
      "outputs": [
        {
          "output_type": "stream",
          "name": "stdout",
          "text": [
            "tensor([3.])\n"
          ]
        }
      ]
    },
    {
      "cell_type": "code",
      "source": [
        "add_scalar = scalar1 + scalar2 # addition\n",
        "print(add_scalar)"
      ],
      "metadata": {
        "colab": {
          "base_uri": "https://localhost:8080/"
        },
        "id": "YfXTPn0B-jYL",
        "outputId": "4a7e220d-4382-4510-99fa-25cd751ecfa2"
      },
      "execution_count": null,
      "outputs": [
        {
          "output_type": "stream",
          "name": "stdout",
          "text": [
            "tensor([4.])\n"
          ]
        }
      ]
    },
    {
      "cell_type": "code",
      "source": [
        "sub_scalar = scalar1 - scalar2 # subtraction\n",
        "print(sub_scalar)"
      ],
      "metadata": {
        "colab": {
          "base_uri": "https://localhost:8080/"
        },
        "id": "l_mL2oQZ-ps5",
        "outputId": "6049e5bb-d384-4866-d54d-55d0fb4a5928"
      },
      "execution_count": null,
      "outputs": [
        {
          "output_type": "stream",
          "name": "stdout",
          "text": [
            "tensor([-2.])\n"
          ]
        }
      ]
    },
    {
      "cell_type": "code",
      "source": [
        "mul_scalar = scalar1 * scalar2 # multiplication\n",
        "print(mul_scalar)"
      ],
      "metadata": {
        "colab": {
          "base_uri": "https://localhost:8080/"
        },
        "id": "xknlRy-P-sn4",
        "outputId": "384314c4-d426-430a-8082-9727981281b6"
      },
      "execution_count": null,
      "outputs": [
        {
          "output_type": "stream",
          "name": "stdout",
          "text": [
            "tensor([3.])\n"
          ]
        }
      ]
    },
    {
      "cell_type": "code",
      "source": [
        "div_scalar = scalar1 / scalar2 # division\n",
        "print(div_scalar)"
      ],
      "metadata": {
        "colab": {
          "base_uri": "https://localhost:8080/"
        },
        "id": "giTRnvQa-vOC",
        "outputId": "838c7442-9dd3-43f0-9615-01e68a56d8be"
      },
      "execution_count": null,
      "outputs": [
        {
          "output_type": "stream",
          "name": "stdout",
          "text": [
            "tensor([0.3333])\n"
          ]
        }
      ]
    },
    {
      "cell_type": "code",
      "source": [
        "torch.add(scalar1, scalar2) # addition"
      ],
      "metadata": {
        "colab": {
          "base_uri": "https://localhost:8080/"
        },
        "id": "rRu2UJLF-zgh",
        "outputId": "85fa0862-4ecd-4560-f660-c7b6c89b0860"
      },
      "execution_count": null,
      "outputs": [
        {
          "output_type": "execute_result",
          "data": {
            "text/plain": [
              "tensor([4.])"
            ]
          },
          "metadata": {},
          "execution_count": 8
        }
      ]
    },
    {
      "cell_type": "code",
      "source": [
        "torch.sub(scalar1, scalar2) # division"
      ],
      "metadata": {
        "colab": {
          "base_uri": "https://localhost:8080/"
        },
        "id": "vZ1DJIlj-3KH",
        "outputId": "178fb4fc-2df0-45dc-f5dd-2a9e1e0a0239"
      },
      "execution_count": null,
      "outputs": [
        {
          "output_type": "execute_result",
          "data": {
            "text/plain": [
              "tensor([-2.])"
            ]
          },
          "metadata": {},
          "execution_count": 9
        }
      ]
    },
    {
      "cell_type": "code",
      "source": [
        "torch.mul(scalar1, scalar2) # multiplication"
      ],
      "metadata": {
        "colab": {
          "base_uri": "https://localhost:8080/"
        },
        "id": "RTSouwE2-784",
        "outputId": "18842cae-155e-4ad7-9b7f-1df23cb7d97a"
      },
      "execution_count": null,
      "outputs": [
        {
          "output_type": "execute_result",
          "data": {
            "text/plain": [
              "tensor([3.])"
            ]
          },
          "metadata": {},
          "execution_count": 10
        }
      ]
    },
    {
      "cell_type": "code",
      "source": [
        "torch.div(scalar1, scalar2) # division"
      ],
      "metadata": {
        "colab": {
          "base_uri": "https://localhost:8080/"
        },
        "id": "hRqXfSM8-9FS",
        "outputId": "4bb65334-659b-46f8-96a6-5ca4b0cd5c7a"
      },
      "execution_count": null,
      "outputs": [
        {
          "output_type": "execute_result",
          "data": {
            "text/plain": [
              "tensor([0.3333])"
            ]
          },
          "metadata": {},
          "execution_count": 11
        }
      ]
    },
    {
      "cell_type": "code",
      "source": [
        "vector1 = torch.tensor([1., 2., 3.])\n",
        "print(vector1)"
      ],
      "metadata": {
        "colab": {
          "base_uri": "https://localhost:8080/"
        },
        "id": "aRsvp96Fs485",
        "outputId": "93632ed8-b459-4d9a-a2f4-862c45c692a1"
      },
      "execution_count": 3,
      "outputs": [
        {
          "output_type": "stream",
          "name": "stdout",
          "text": [
            "tensor([1., 2., 3.])\n"
          ]
        }
      ]
    },
    {
      "cell_type": "code",
      "source": [
        "vector2 = torch.tensor([4., 5., 6.])\n",
        "print(vector2)"
      ],
      "metadata": {
        "colab": {
          "base_uri": "https://localhost:8080/"
        },
        "id": "pUWpaiKQs9bn",
        "outputId": "152938d1-fbed-48f3-a6bd-dd92a61491c7"
      },
      "execution_count": 4,
      "outputs": [
        {
          "output_type": "stream",
          "name": "stdout",
          "text": [
            "tensor([4., 5., 6.])\n"
          ]
        }
      ]
    },
    {
      "cell_type": "code",
      "source": [
        "add_vector = vector1 + vector2 # addition\n",
        "print(add_vector)"
      ],
      "metadata": {
        "colab": {
          "base_uri": "https://localhost:8080/"
        },
        "id": "z5GIUP-KtIN-",
        "outputId": "1a0ead82-80ff-4c3f-bca8-ec2d71ec6acc"
      },
      "execution_count": 5,
      "outputs": [
        {
          "output_type": "stream",
          "name": "stdout",
          "text": [
            "tensor([5., 7., 9.])\n"
          ]
        }
      ]
    },
    {
      "cell_type": "code",
      "source": [
        "sub_vector = vector1 - vector2 # subtraction\n",
        "print(sub_vector)"
      ],
      "metadata": {
        "colab": {
          "base_uri": "https://localhost:8080/"
        },
        "id": "MoT2ZsZItLKD",
        "outputId": "7901d856-6444-4cc8-9a01-61233d040112"
      },
      "execution_count": 6,
      "outputs": [
        {
          "output_type": "stream",
          "name": "stdout",
          "text": [
            "tensor([-3., -3., -3.])\n"
          ]
        }
      ]
    },
    {
      "cell_type": "code",
      "source": [
        "mul_vector = vector1 * vector2 # multiplication\n",
        "print(mul_vector)"
      ],
      "metadata": {
        "colab": {
          "base_uri": "https://localhost:8080/"
        },
        "id": "gK1fRIvLtNsF",
        "outputId": "39e87472-722a-4e73-da5c-5fe8f0993580"
      },
      "execution_count": 7,
      "outputs": [
        {
          "output_type": "stream",
          "name": "stdout",
          "text": [
            "tensor([ 4., 10., 18.])\n"
          ]
        }
      ]
    },
    {
      "cell_type": "code",
      "source": [
        "div_vector = vector1 / vector2 # division\n",
        "print(div_vector)"
      ],
      "metadata": {
        "colab": {
          "base_uri": "https://localhost:8080/"
        },
        "id": "WH54liL-tQeN",
        "outputId": "d402a704-1d94-4b50-e491-621294a5370f"
      },
      "execution_count": 8,
      "outputs": [
        {
          "output_type": "stream",
          "name": "stdout",
          "text": [
            "tensor([0.2500, 0.4000, 0.5000])\n"
          ]
        }
      ]
    },
    {
      "cell_type": "code",
      "source": [
        "matrix1 = torch.tensor([[1., 2.], [3., 4.]])\n",
        "print(matrix1)"
      ],
      "metadata": {
        "colab": {
          "base_uri": "https://localhost:8080/"
        },
        "id": "NOn-ozBm-_5f",
        "outputId": "38cdd67f-3c87-4909-b8ce-3871fb9752e0"
      },
      "execution_count": 9,
      "outputs": [
        {
          "output_type": "stream",
          "name": "stdout",
          "text": [
            "tensor([[1., 2.],\n",
            "        [3., 4.]])\n"
          ]
        }
      ]
    },
    {
      "cell_type": "code",
      "source": [
        "matrix2 = torch.tensor([[5., 6.], [7., 8.]])\n",
        "print(matrix2)"
      ],
      "metadata": {
        "colab": {
          "base_uri": "https://localhost:8080/"
        },
        "id": "CpIh-LLj_HUx",
        "outputId": "973a23a1-784f-4790-9e57-a77cefebd0b4"
      },
      "execution_count": 10,
      "outputs": [
        {
          "output_type": "stream",
          "name": "stdout",
          "text": [
            "tensor([[5., 6.],\n",
            "        [7., 8.]])\n"
          ]
        }
      ]
    },
    {
      "cell_type": "code",
      "source": [
        "sum_matrix = matrix1 + matrix2 # element-wise addition\n",
        "print(sum_matrix)"
      ],
      "metadata": {
        "colab": {
          "base_uri": "https://localhost:8080/"
        },
        "id": "nx1VGlJ_uX00",
        "outputId": "e268cd96-92f1-4c37-c248-561921881557"
      },
      "execution_count": 11,
      "outputs": [
        {
          "output_type": "stream",
          "name": "stdout",
          "text": [
            "tensor([[ 6.,  8.],\n",
            "        [10., 12.]])\n"
          ]
        }
      ]
    },
    {
      "cell_type": "code",
      "source": [
        "sub_matrix = matrix1 - matrix2 # element-wise subtraction\n",
        "print(sub_matrix)"
      ],
      "metadata": {
        "colab": {
          "base_uri": "https://localhost:8080/"
        },
        "id": "jRuUQPpluZkP",
        "outputId": "4c06c5ff-c9a6-4dcb-ec1b-c56090dd4d58"
      },
      "execution_count": 13,
      "outputs": [
        {
          "output_type": "stream",
          "name": "stdout",
          "text": [
            "tensor([[-4., -4.],\n",
            "        [-4., -4.]])\n"
          ]
        }
      ]
    },
    {
      "cell_type": "code",
      "source": [
        "mul_matrix = matrix1 * matrix2 # element-wise multiplication\n",
        "print(mul_matrix)"
      ],
      "metadata": {
        "colab": {
          "base_uri": "https://localhost:8080/"
        },
        "id": "5J_4yiVDu4iU",
        "outputId": "6de4ee82-50dc-4eea-ef0f-daa798a40537"
      },
      "execution_count": 14,
      "outputs": [
        {
          "output_type": "stream",
          "name": "stdout",
          "text": [
            "tensor([[ 5., 12.],\n",
            "        [21., 32.]])\n"
          ]
        }
      ]
    },
    {
      "cell_type": "code",
      "source": [
        "div_matrix = matrix1 / matrix2 # element-wise division\n",
        "print(div_matrix)"
      ],
      "metadata": {
        "colab": {
          "base_uri": "https://localhost:8080/"
        },
        "id": "RHtpkmHEvYIK",
        "outputId": "8725d58b-8261-4912-f78d-2f404e8d3291"
      },
      "execution_count": 15,
      "outputs": [
        {
          "output_type": "stream",
          "name": "stdout",
          "text": [
            "tensor([[0.2000, 0.3333],\n",
            "        [0.4286, 0.5000]])\n"
          ]
        }
      ]
    },
    {
      "cell_type": "code",
      "source": [
        "torch.add(matrix1, matrix2) # element-wise addition"
      ],
      "metadata": {
        "colab": {
          "base_uri": "https://localhost:8080/"
        },
        "id": "K8JBGXo9vZsG",
        "outputId": "2e216065-94e0-44d4-fbd2-4c47075da3ae"
      },
      "execution_count": 16,
      "outputs": [
        {
          "output_type": "execute_result",
          "data": {
            "text/plain": [
              "tensor([[ 6.,  8.],\n",
              "        [10., 12.]])"
            ]
          },
          "metadata": {},
          "execution_count": 16
        }
      ]
    },
    {
      "cell_type": "code",
      "source": [
        "torch.sub(matrix1, matrix2) # element-wise subtraction"
      ],
      "metadata": {
        "colab": {
          "base_uri": "https://localhost:8080/"
        },
        "id": "ZHqnIBc_vhAJ",
        "outputId": "c88d0685-5023-4d72-a004-5de71f75724e"
      },
      "execution_count": 17,
      "outputs": [
        {
          "output_type": "execute_result",
          "data": {
            "text/plain": [
              "tensor([[-4., -4.],\n",
              "        [-4., -4.]])"
            ]
          },
          "metadata": {},
          "execution_count": 17
        }
      ]
    },
    {
      "cell_type": "code",
      "source": [
        "torch.mul(matrix1, matrix2) # element-wise multiplication"
      ],
      "metadata": {
        "colab": {
          "base_uri": "https://localhost:8080/"
        },
        "id": "lt0zz4EjvlOi",
        "outputId": "01f70f59-fd19-4d96-dd2e-090333a39bae"
      },
      "execution_count": 18,
      "outputs": [
        {
          "output_type": "execute_result",
          "data": {
            "text/plain": [
              "tensor([[ 5., 12.],\n",
              "        [21., 32.]])"
            ]
          },
          "metadata": {},
          "execution_count": 18
        }
      ]
    },
    {
      "cell_type": "code",
      "source": [
        "torch.div(matrix1, matrix2) # element-wise division"
      ],
      "metadata": {
        "colab": {
          "base_uri": "https://localhost:8080/"
        },
        "id": "vmStuO0Yvn7s",
        "outputId": "59ec6ca5-0bdd-4114-b596-15ac477a37ad"
      },
      "execution_count": 19,
      "outputs": [
        {
          "output_type": "execute_result",
          "data": {
            "text/plain": [
              "tensor([[0.2000, 0.3333],\n",
              "        [0.4286, 0.5000]])"
            ]
          },
          "metadata": {},
          "execution_count": 19
        }
      ]
    },
    {
      "cell_type": "code",
      "source": [
        "torch.matmul(matrix1, matrix2) # matrix multiplication"
      ],
      "metadata": {
        "colab": {
          "base_uri": "https://localhost:8080/"
        },
        "id": "ixG2CFx0vq1G",
        "outputId": "294ae6fa-6137-4e61-f1c7-635301b706d5"
      },
      "execution_count": 20,
      "outputs": [
        {
          "output_type": "execute_result",
          "data": {
            "text/plain": [
              "tensor([[19., 22.],\n",
              "        [43., 50.]])"
            ]
          },
          "metadata": {},
          "execution_count": 20
        }
      ]
    },
    {
      "cell_type": "code",
      "source": [
        "print(torch.norm(matrix1))"
      ],
      "metadata": {
        "colab": {
          "base_uri": "https://localhost:8080/"
        },
        "id": "GyzSOD5m_JkQ",
        "outputId": "f9ee014c-8122-4791-846c-cbe8b4be2eba"
      },
      "execution_count": null,
      "outputs": [
        {
          "output_type": "stream",
          "name": "stdout",
          "text": [
            "tensor(5.4772)\n"
          ]
        }
      ]
    },
    {
      "cell_type": "code",
      "source": [
        "print(torch.norm(matrix2))"
      ],
      "metadata": {
        "colab": {
          "base_uri": "https://localhost:8080/"
        },
        "id": "xaiqV1oQ_jA7",
        "outputId": "696d65f1-c462-4365-d4f6-ef3b78f7fe24"
      },
      "execution_count": null,
      "outputs": [
        {
          "output_type": "stream",
          "name": "stdout",
          "text": [
            "tensor(13.1909)\n"
          ]
        }
      ]
    },
    {
      "cell_type": "code",
      "source": [
        "torch.norm(matrix1-matrix2)"
      ],
      "metadata": {
        "colab": {
          "base_uri": "https://localhost:8080/"
        },
        "id": "pPkeqQFfwSn5",
        "outputId": "461753dd-83f8-43cd-93dc-01748bf15587"
      },
      "execution_count": 21,
      "outputs": [
        {
          "output_type": "execute_result",
          "data": {
            "text/plain": [
              "tensor(8.)"
            ]
          },
          "metadata": {},
          "execution_count": 21
        }
      ]
    },
    {
      "cell_type": "code",
      "source": [
        "''' 1. Module Import '''\n",
        "import numpy as np\n",
        "import matplotlib.pyplot as plt\n",
        "\n",
        "import torch\n",
        "import torch.nn as nn\n",
        "import torch.nn.functional as F\n",
        "from torchvision import transforms, datasets"
      ],
      "metadata": {
        "id": "nWei187F_y2P"
      },
      "execution_count": null,
      "outputs": []
    },
    {
      "cell_type": "code",
      "source": [
        "if torch.cuda.is_available():\n",
        "    DEVICE = torch.device('cuda')\n",
        "else:\n",
        "    DEVICE = torch.device('cpu')\n",
        "\n",
        "print('Using PyTorch version:', torch.__version__, ' Device:', DEVICE)"
      ],
      "metadata": {
        "colab": {
          "base_uri": "https://localhost:8080/"
        },
        "id": "qlr12eHx_1z0",
        "outputId": "7a5ebec1-a4b5-44d7-85ba-8b477e22a184"
      },
      "execution_count": null,
      "outputs": [
        {
          "output_type": "stream",
          "name": "stdout",
          "text": [
            "Using PyTorch version: 2.2.1+cu121  Device: cpu\n"
          ]
        }
      ]
    },
    {
      "cell_type": "code",
      "source": [
        "BATCH_SIZE = 32\n",
        "EPOCHS = 10"
      ],
      "metadata": {
        "id": "8pp4f2_V_4eq"
      },
      "execution_count": null,
      "outputs": []
    },
    {
      "cell_type": "code",
      "source": [
        "''' 3. MNIST Download (Train set, Test set split) '''\n",
        "# MNIST 학습 데이터셋을 다운로드하고 텐서로 변환\n",
        "train_dataset = datasets.MNIST(root=\"../data/MNIST\",\n",
        "                               train=True,\n",
        "                               download=True,\n",
        "                               transform=transforms.ToTensor())\n",
        "\n",
        "# MNIST 테스트 데이터셋을 다운로드하고 텐서로 변환\n",
        "test_dataset = datasets.MNIST(root=\"../data/MNIST\",\n",
        "                              train=False,\n",
        "                              transform=transforms.ToTensor())\n",
        "\n",
        "# 학습 데이터 로더 생성\n",
        "train_loader = torch.utils.data.DataLoader(dataset=train_dataset,\n",
        "                                           batch_size=BATCH_SIZE,\n",
        "                                           shuffle=True)\n",
        "\n",
        "# 테스트 데이터 로더 생성\n",
        "test_loader = torch.utils.data.DataLoader(dataset=test_dataset,\n",
        "                                          batch_size=BATCH_SIZE,\n",
        "                                          shuffle=False)"
      ],
      "metadata": {
        "colab": {
          "base_uri": "https://localhost:8080/"
        },
        "id": "CXC1hapo_7ma",
        "outputId": "f44cc1da-42bc-416a-9d08-daa879c48cab"
      },
      "execution_count": null,
      "outputs": [
        {
          "output_type": "stream",
          "name": "stdout",
          "text": [
            "Downloading http://yann.lecun.com/exdb/mnist/train-images-idx3-ubyte.gz\n",
            "Downloading http://yann.lecun.com/exdb/mnist/train-images-idx3-ubyte.gz to ../data/MNIST/MNIST/raw/train-images-idx3-ubyte.gz\n"
          ]
        },
        {
          "output_type": "stream",
          "name": "stderr",
          "text": [
            "100%|██████████| 9912422/9912422 [00:00<00:00, 87076664.36it/s]\n"
          ]
        },
        {
          "output_type": "stream",
          "name": "stdout",
          "text": [
            "Extracting ../data/MNIST/MNIST/raw/train-images-idx3-ubyte.gz to ../data/MNIST/MNIST/raw\n",
            "\n",
            "Downloading http://yann.lecun.com/exdb/mnist/train-labels-idx1-ubyte.gz\n",
            "Downloading http://yann.lecun.com/exdb/mnist/train-labels-idx1-ubyte.gz to ../data/MNIST/MNIST/raw/train-labels-idx1-ubyte.gz\n"
          ]
        },
        {
          "output_type": "stream",
          "name": "stderr",
          "text": [
            "100%|██████████| 28881/28881 [00:00<00:00, 72754170.46it/s]"
          ]
        },
        {
          "output_type": "stream",
          "name": "stdout",
          "text": [
            "Extracting ../data/MNIST/MNIST/raw/train-labels-idx1-ubyte.gz to ../data/MNIST/MNIST/raw\n",
            "\n",
            "Downloading http://yann.lecun.com/exdb/mnist/t10k-images-idx3-ubyte.gz\n",
            "Downloading http://yann.lecun.com/exdb/mnist/t10k-images-idx3-ubyte.gz to ../data/MNIST/MNIST/raw/t10k-images-idx3-ubyte.gz\n"
          ]
        },
        {
          "output_type": "stream",
          "name": "stderr",
          "text": [
            "\n",
            "100%|██████████| 1648877/1648877 [00:00<00:00, 23337376.15it/s]\n"
          ]
        },
        {
          "output_type": "stream",
          "name": "stdout",
          "text": [
            "Extracting ../data/MNIST/MNIST/raw/t10k-images-idx3-ubyte.gz to ../data/MNIST/MNIST/raw\n",
            "\n",
            "Downloading http://yann.lecun.com/exdb/mnist/t10k-labels-idx1-ubyte.gz\n",
            "Downloading http://yann.lecun.com/exdb/mnist/t10k-labels-idx1-ubyte.gz to ../data/MNIST/MNIST/raw/t10k-labels-idx1-ubyte.gz\n"
          ]
        },
        {
          "output_type": "stream",
          "name": "stderr",
          "text": [
            "100%|██████████| 4542/4542 [00:00<00:00, 14280756.20it/s]\n"
          ]
        },
        {
          "output_type": "stream",
          "name": "stdout",
          "text": [
            "Extracting ../data/MNIST/MNIST/raw/t10k-labels-idx1-ubyte.gz to ../data/MNIST/MNIST/raw\n",
            "\n"
          ]
        }
      ]
    },
    {
      "cell_type": "code",
      "source": [
        "# 학습 데이터의 배치 중 첫 번째 배치를 출력하여 크기와 타입을 확인\n",
        "for (X_train, y_train) in train_loader:\n",
        "    print('X_train:', X_train.size(), 'type:', X_train.type())\n",
        "    print('y_train:', y_train.size(), 'type:', y_train.type())\n",
        "    break"
      ],
      "metadata": {
        "colab": {
          "base_uri": "https://localhost:8080/"
        },
        "id": "SuQHVaX9__M4",
        "outputId": "45966176-524b-43da-d3aa-89b1de536d64"
      },
      "execution_count": null,
      "outputs": [
        {
          "output_type": "stream",
          "name": "stdout",
          "text": [
            "X_train: torch.Size([32, 1, 28, 28]) type: torch.FloatTensor\n",
            "y_train: torch.Size([32]) type: torch.LongTensor\n"
          ]
        }
      ]
    },
    {
      "cell_type": "code",
      "source": [
        "# 학습 데이터의 첫 번째 배치에서 이미지를 시각화\n",
        "pltsize = 1\n",
        "plt.figure(figsize=(10 * pltsize, pltsize))\n",
        "for i in range(10):\n",
        "    plt.subplot(1, 10, i + 1)\n",
        "    plt.axis('off')\n",
        "    plt.imshow(X_train[i, :, :, :].numpy().reshape(28, 28), cmap=\"gray_r\")\n",
        "    plt.title('Class: ' + str(y_train[i].item()))\n",
        "plt.show()"
      ],
      "metadata": {
        "colab": {
          "base_uri": "https://localhost:8080/",
          "height": 125
        },
        "id": "XnNL1NWDACVJ",
        "outputId": "f3077837-8ae4-4362-e53a-2c8565d3a989"
      },
      "execution_count": null,
      "outputs": [
        {
          "output_type": "display_data",
          "data": {
            "text/plain": [
              "<Figure size 1000x100 with 10 Axes>"
            ],
            "image/png": "[encoded data removed]"
          },
          "metadata": {}
        }
      ]
    },
    {
      "cell_type": "code",
      "source": [
        "# 다층 퍼셉트론(Multi-Layer Perceptron) 모델 정의\n",
        "class Net(nn.Module):\n",
        "    def __init__(self):\n",
        "        super(Net, self).__init__()\n",
        "        self.fc1 = nn.Linear(28 * 28, 512)\n",
        "        self.fc2 = nn.Linear(512, 256)\n",
        "        self.fc3 = nn.Linear(256, 10)\n",
        "\n",
        "    def forward(self, x):\n",
        "        x = x.view(-1, 28 * 28)  # 입력 이미지를 평탄화\n",
        "        x = self.fc1(x)\n",
        "        x = F.sigmoid(x)  # 활성화 함수로 시그모이드 사용\n",
        "        x = self.fc2(x)\n",
        "        x = F.sigmoid(x)\n",
        "        x = self.fc3(x)\n",
        "        x = F.log_softmax(x, dim=1)  # 출력에 log_softmax 사용\n",
        "        return x\n"
      ],
      "metadata": {
        "id": "TYzrLZUQAFZg"
      },
      "execution_count": null,
      "outputs": []
    },
    {
      "cell_type": "code",
      "source": [
        "# 모델을 디바이스(GPU 또는 CPU)에 올리고, 옵티마이저와 손실 함수 설정\n",
        "model = Net().to(DEVICE)\n",
        "optimizer = torch.optim.SGD(model.parameters(), lr=0.01, momentum=0.5)\n",
        "criterion = nn.CrossEntropyLoss()\n",
        "\n",
        "print(model)"
      ],
      "metadata": {
        "colab": {
          "base_uri": "https://localhost:8080/"
        },
        "id": "HWWFBEWkAJRq",
        "outputId": "b3e2108e-0aec-4bd6-cf1f-a2203a2d28c1"
      },
      "execution_count": null,
      "outputs": [
        {
          "output_type": "stream",
          "name": "stdout",
          "text": [
            "Net(\n",
            "  (fc1): Linear(in_features=784, out_features=512, bias=True)\n",
            "  (fc2): Linear(in_features=512, out_features=256, bias=True)\n",
            "  (fc3): Linear(in_features=256, out_features=10, bias=True)\n",
            ")\n"
          ]
        }
      ]
    },
    {
      "cell_type": "code",
      "source": [
        "# 모델을 학습하는 함수 정의\n",
        "def train(model, train_loader, optimizer, log_interval):\n",
        "    model.train()  # 모델을 학습 모드로 설정\n",
        "    for batch_idx, (image, label) in enumerate(train_loader):\n",
        "        image = image.to(DEVICE)  # 이미지를 디바이스에 올림\n",
        "        label = label.to(DEVICE)  # 라벨을 디바이스에 올림\n",
        "        optimizer.zero_grad()  # 옵티마이저의 기울기 초기화\n",
        "        output = model(image)  # 모델에 입력하여 출력 도출\n",
        "        loss = criterion(output, label)  # 손실 계산\n",
        "        loss.backward()  # 역전파로 기울기 계산\n",
        "        optimizer.step()  # 옵티마이저로 가중치 갱신\n",
        "\n",
        "        if batch_idx % log_interval == 0:\n",
        "            print(\"Train Epoch: {} [{}/{} ({:.0f}%)]\\tTrain Loss: {:.6f}\".format(\n",
        "                epoch, batch_idx * len(image),\n",
        "                len(train_loader.dataset), 100. * batch_idx / len(train_loader),\n",
        "                loss.item()))"
      ],
      "metadata": {
        "id": "gaz0USwWALpA"
      },
      "execution_count": null,
      "outputs": []
    },
    {
      "cell_type": "code",
      "source": [
        "# 모델을 평가하는 함수 정의\n",
        "def evaluate(model, test_loader):\n",
        "    model.eval()  # 모델을 평가 모드로 설정\n",
        "    test_loss = 0\n",
        "    correct = 0\n",
        "\n",
        "    with torch.no_grad():  # 평가 시 기울기 계산 비활성화\n",
        "        for image, label in test_loader:\n",
        "            image = image.to(DEVICE)  # 이미지를 디바이스에 올림\n",
        "            label = label.to(DEVICE)  # 라벨을 디바이스에 올림\n",
        "            output = model(image)  # 모델에 입력하여 출력 도출\n",
        "            test_loss += criterion(output, label).item()  # 손실 합산\n",
        "            prediction = output.max(1, keepdim=True)[1]  # 예측된 라벨 도출\n",
        "            correct += prediction.eq(label.view_as(prediction)).sum().item()  # 맞춘 개수 합산\n",
        "\n",
        "    test_loss /= (len(test_loader.dataset) / BATCH_SIZE)  # 평균 손실 계산\n",
        "    test_accuracy = 100. * correct / len(test_loader.dataset)  # 정확도 계산\n",
        "    return test_loss, test_accuracy"
      ],
      "metadata": {
        "id": "pSitZ0KoAOVZ"
      },
      "execution_count": null,
      "outputs": []
    },
    {
      "cell_type": "code",
      "source": [
        "# 지정한 에포크 수만큼 학습 및 평가 실행\n",
        "for epoch in range(1, EPOCHS + 1):\n",
        "    train(model, train_loader, optimizer, log_interval=200)  # 학습 실행\n",
        "    test_loss, test_accuracy = evaluate(model, test_loader)  # 평가 실행\n",
        "    print(\"\\n[EPOCH: {}], \\tTest Loss: {:.4f}, \\tTest Accuracy: {:.2f} % \\n\".format(\n",
        "        epoch, test_loss, test_accuracy))  # 에포크 별 평가 결과 출력"
      ],
      "metadata": {
        "colab": {
          "base_uri": "https://localhost:8080/"
        },
        "id": "Ra-emiFhAQQk",
        "outputId": "4ca3d881-903b-498e-81e1-0b7c80721605"
      },
      "execution_count": null,
      "outputs": [
        {
          "output_type": "stream",
          "name": "stdout",
          "text": [
            "Train Epoch: 1 [0/60000 (0%)]\tTrain Loss: 2.315363\n",
            "Train Epoch: 1 [6400/60000 (11%)]\tTrain Loss: 2.312110\n",
            "Train Epoch: 1 [12800/60000 (21%)]\tTrain Loss: 2.325391\n",
            "Train Epoch: 1 [19200/60000 (32%)]\tTrain Loss: 2.321177\n",
            "Train Epoch: 1 [25600/60000 (43%)]\tTrain Loss: 2.286109\n",
            "Train Epoch: 1 [32000/60000 (53%)]\tTrain Loss: 2.279385\n",
            "Train Epoch: 1 [38400/60000 (64%)]\tTrain Loss: 2.288444\n",
            "Train Epoch: 1 [44800/60000 (75%)]\tTrain Loss: 2.253508\n",
            "Train Epoch: 1 [51200/60000 (85%)]\tTrain Loss: 2.233262\n",
            "Train Epoch: 1 [57600/60000 (96%)]\tTrain Loss: 2.251346\n",
            "\n",
            "[EPOCH: 1], \tTest Loss: 2.2308, \tTest Accuracy: 26.43 % \n",
            "\n",
            "Train Epoch: 2 [0/60000 (0%)]\tTrain Loss: 2.206478\n",
            "Train Epoch: 2 [6400/60000 (11%)]\tTrain Loss: 2.142730\n",
            "Train Epoch: 2 [12800/60000 (21%)]\tTrain Loss: 2.188817\n",
            "Train Epoch: 2 [19200/60000 (32%)]\tTrain Loss: 2.035568\n",
            "Train Epoch: 2 [25600/60000 (43%)]\tTrain Loss: 1.993007\n",
            "Train Epoch: 2 [32000/60000 (53%)]\tTrain Loss: 1.781295\n",
            "Train Epoch: 2 [38400/60000 (64%)]\tTrain Loss: 1.797304\n",
            "Train Epoch: 2 [44800/60000 (75%)]\tTrain Loss: 1.642449\n",
            "Train Epoch: 2 [51200/60000 (85%)]\tTrain Loss: 1.413603\n",
            "Train Epoch: 2 [57600/60000 (96%)]\tTrain Loss: 1.501696\n",
            "\n",
            "[EPOCH: 2], \tTest Loss: 1.2794, \tTest Accuracy: 57.88 % \n",
            "\n",
            "Train Epoch: 3 [0/60000 (0%)]\tTrain Loss: 1.407769\n",
            "Train Epoch: 3 [6400/60000 (11%)]\tTrain Loss: 1.306475\n",
            "Train Epoch: 3 [12800/60000 (21%)]\tTrain Loss: 1.007979\n",
            "Train Epoch: 3 [19200/60000 (32%)]\tTrain Loss: 0.985044\n",
            "Train Epoch: 3 [25600/60000 (43%)]\tTrain Loss: 0.885101\n",
            "Train Epoch: 3 [32000/60000 (53%)]\tTrain Loss: 0.941649\n",
            "Train Epoch: 3 [38400/60000 (64%)]\tTrain Loss: 0.949091\n",
            "Train Epoch: 3 [44800/60000 (75%)]\tTrain Loss: 0.750662\n",
            "Train Epoch: 3 [51200/60000 (85%)]\tTrain Loss: 0.638755\n",
            "Train Epoch: 3 [57600/60000 (96%)]\tTrain Loss: 0.828599\n",
            "\n",
            "[EPOCH: 3], \tTest Loss: 0.7560, \tTest Accuracy: 76.78 % \n",
            "\n",
            "Train Epoch: 4 [0/60000 (0%)]\tTrain Loss: 0.616379\n",
            "Train Epoch: 4 [6400/60000 (11%)]\tTrain Loss: 0.607867\n",
            "Train Epoch: 4 [12800/60000 (21%)]\tTrain Loss: 0.641247\n",
            "Train Epoch: 4 [19200/60000 (32%)]\tTrain Loss: 0.634755\n",
            "Train Epoch: 4 [25600/60000 (43%)]\tTrain Loss: 0.655638\n",
            "Train Epoch: 4 [32000/60000 (53%)]\tTrain Loss: 0.732942\n",
            "Train Epoch: 4 [38400/60000 (64%)]\tTrain Loss: 0.653756\n",
            "Train Epoch: 4 [44800/60000 (75%)]\tTrain Loss: 0.694223\n",
            "Train Epoch: 4 [51200/60000 (85%)]\tTrain Loss: 0.411898\n",
            "Train Epoch: 4 [57600/60000 (96%)]\tTrain Loss: 0.611089\n",
            "\n",
            "[EPOCH: 4], \tTest Loss: 0.5579, \tTest Accuracy: 83.96 % \n",
            "\n",
            "Train Epoch: 5 [0/60000 (0%)]\tTrain Loss: 0.710685\n",
            "Train Epoch: 5 [6400/60000 (11%)]\tTrain Loss: 0.593046\n",
            "Train Epoch: 5 [12800/60000 (21%)]\tTrain Loss: 0.595587\n",
            "Train Epoch: 5 [19200/60000 (32%)]\tTrain Loss: 0.486468\n",
            "Train Epoch: 5 [25600/60000 (43%)]\tTrain Loss: 0.542072\n",
            "Train Epoch: 5 [32000/60000 (53%)]\tTrain Loss: 0.662486\n",
            "Train Epoch: 5 [38400/60000 (64%)]\tTrain Loss: 0.336867\n",
            "Train Epoch: 5 [44800/60000 (75%)]\tTrain Loss: 0.527210\n",
            "Train Epoch: 5 [51200/60000 (85%)]\tTrain Loss: 0.565866\n",
            "Train Epoch: 5 [57600/60000 (96%)]\tTrain Loss: 0.337896\n",
            "\n",
            "[EPOCH: 5], \tTest Loss: 0.4540, \tTest Accuracy: 86.99 % \n",
            "\n",
            "Train Epoch: 6 [0/60000 (0%)]\tTrain Loss: 0.260802\n",
            "Train Epoch: 6 [6400/60000 (11%)]\tTrain Loss: 0.458006\n",
            "Train Epoch: 6 [12800/60000 (21%)]\tTrain Loss: 0.301811\n",
            "Train Epoch: 6 [19200/60000 (32%)]\tTrain Loss: 0.290196\n",
            "Train Epoch: 6 [25600/60000 (43%)]\tTrain Loss: 0.310013\n",
            "Train Epoch: 6 [32000/60000 (53%)]\tTrain Loss: 0.748600\n",
            "Train Epoch: 6 [38400/60000 (64%)]\tTrain Loss: 0.756852\n",
            "Train Epoch: 6 [44800/60000 (75%)]\tTrain Loss: 0.541619\n",
            "Train Epoch: 6 [51200/60000 (85%)]\tTrain Loss: 0.296197\n",
            "Train Epoch: 6 [57600/60000 (96%)]\tTrain Loss: 0.308041\n",
            "\n",
            "[EPOCH: 6], \tTest Loss: 0.4087, \tTest Accuracy: 88.22 % \n",
            "\n",
            "Train Epoch: 7 [0/60000 (0%)]\tTrain Loss: 0.325149\n",
            "Train Epoch: 7 [6400/60000 (11%)]\tTrain Loss: 0.242253\n",
            "Train Epoch: 7 [12800/60000 (21%)]\tTrain Loss: 0.509586\n",
            "Train Epoch: 7 [19200/60000 (32%)]\tTrain Loss: 0.440895\n",
            "Train Epoch: 7 [25600/60000 (43%)]\tTrain Loss: 0.581470\n",
            "Train Epoch: 7 [32000/60000 (53%)]\tTrain Loss: 0.369464\n",
            "Train Epoch: 7 [38400/60000 (64%)]\tTrain Loss: 0.531765\n",
            "Train Epoch: 7 [44800/60000 (75%)]\tTrain Loss: 0.487452\n",
            "Train Epoch: 7 [51200/60000 (85%)]\tTrain Loss: 0.831998\n",
            "Train Epoch: 7 [57600/60000 (96%)]\tTrain Loss: 0.256415\n",
            "\n",
            "[EPOCH: 7], \tTest Loss: 0.3800, \tTest Accuracy: 89.02 % \n",
            "\n",
            "Train Epoch: 8 [0/60000 (0%)]\tTrain Loss: 0.404015\n",
            "Train Epoch: 8 [6400/60000 (11%)]\tTrain Loss: 0.401291\n",
            "Train Epoch: 8 [12800/60000 (21%)]\tTrain Loss: 0.243184\n",
            "Train Epoch: 8 [19200/60000 (32%)]\tTrain Loss: 0.598455\n",
            "Train Epoch: 8 [25600/60000 (43%)]\tTrain Loss: 0.274503\n",
            "Train Epoch: 8 [32000/60000 (53%)]\tTrain Loss: 0.636169\n",
            "Train Epoch: 8 [38400/60000 (64%)]\tTrain Loss: 0.141339\n",
            "Train Epoch: 8 [44800/60000 (75%)]\tTrain Loss: 0.268570\n",
            "Train Epoch: 8 [51200/60000 (85%)]\tTrain Loss: 0.397367\n",
            "Train Epoch: 8 [57600/60000 (96%)]\tTrain Loss: 0.245741\n",
            "\n",
            "[EPOCH: 8], \tTest Loss: 0.3597, \tTest Accuracy: 89.54 % \n",
            "\n",
            "Train Epoch: 9 [0/60000 (0%)]\tTrain Loss: 0.213463\n",
            "Train Epoch: 9 [6400/60000 (11%)]\tTrain Loss: 0.384494\n",
            "Train Epoch: 9 [12800/60000 (21%)]\tTrain Loss: 0.342671\n",
            "Train Epoch: 9 [19200/60000 (32%)]\tTrain Loss: 0.579793\n",
            "Train Epoch: 9 [25600/60000 (43%)]\tTrain Loss: 0.234486\n",
            "Train Epoch: 9 [32000/60000 (53%)]\tTrain Loss: 0.365215\n",
            "Train Epoch: 9 [38400/60000 (64%)]\tTrain Loss: 0.213612\n",
            "Train Epoch: 9 [44800/60000 (75%)]\tTrain Loss: 0.356503\n",
            "Train Epoch: 9 [51200/60000 (85%)]\tTrain Loss: 0.223088\n",
            "Train Epoch: 9 [57600/60000 (96%)]\tTrain Loss: 1.040604\n",
            "\n",
            "[EPOCH: 9], \tTest Loss: 0.3435, \tTest Accuracy: 90.03 % \n",
            "\n",
            "Train Epoch: 10 [0/60000 (0%)]\tTrain Loss: 0.527349\n",
            "Train Epoch: 10 [6400/60000 (11%)]\tTrain Loss: 0.204574\n",
            "Train Epoch: 10 [12800/60000 (21%)]\tTrain Loss: 0.360832\n",
            "Train Epoch: 10 [19200/60000 (32%)]\tTrain Loss: 0.409121\n",
            "Train Epoch: 10 [25600/60000 (43%)]\tTrain Loss: 0.289035\n",
            "Train Epoch: 10 [32000/60000 (53%)]\tTrain Loss: 0.360693\n",
            "Train Epoch: 10 [38400/60000 (64%)]\tTrain Loss: 0.313615\n",
            "Train Epoch: 10 [44800/60000 (75%)]\tTrain Loss: 0.322731\n",
            "Train Epoch: 10 [51200/60000 (85%)]\tTrain Loss: 0.344085\n",
            "Train Epoch: 10 [57600/60000 (96%)]\tTrain Loss: 0.404481\n",
            "\n",
            "[EPOCH: 10], \tTest Loss: 0.3328, \tTest Accuracy: 90.38 % \n",
            "\n"
          ]
        }
      ]
    }
  ]
}