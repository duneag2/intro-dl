{
  "cells": [
    {
      "cell_type": "markdown",
      "metadata": {
        "id": "view-in-github",
        "colab_type": "text"
      },
      "source": [
        "<a href=\"https://colab.research.google.com/github/duneag2/intro-dl/blob/main/Assignment1/Uihwan/reass1.ipynb\" target=\"_parent\"><img src=\"https://colab.research.google.com/assets/colab-badge.svg\" alt=\"Open In Colab\"/></a>"
      ]
    },
    {
      "cell_type": "code",
      "execution_count": null,
      "metadata": {
        "colab": {
          "base_uri": "https://localhost:8080/",
          "height": 339
        },
        "id": "XD9xPXcvwyL5",
        "outputId": "861a2fb8-211b-495f-dd5f-562808612880",
        "collapsed": true
      },
      "outputs": [
        {
          "data": {
            "text/html": [
              "\n",
              "     <input type=\"file\" id=\"files-7b0667ef-d9db-47c6-a5a3-22bc0fd95a5b\" name=\"files[]\" multiple disabled\n",
              "        style=\"border:none\" />\n",
              "     <output id=\"result-7b0667ef-d9db-47c6-a5a3-22bc0fd95a5b\">\n",
              "      Upload widget is only available when the cell has been executed in the\n",
              "      current browser session. Please rerun this cell to enable.\n",
              "      </output>\n",
              "      <script>// Copyright 2017 Google LLC\n",
              "//\n",
              "// Licensed under the Apache License, Version 2.0 (the \"License\");\n",
              "// you may not use this file except in compliance with the License.\n",
              "// You may obtain a copy of the License at\n",
              "//\n",
              "//      http://www.apache.org/licenses/LICENSE-2.0\n",
              "//\n",
              "// Unless required by applicable law or agreed to in writing, software\n",
              "// distributed under the License is distributed on an \"AS IS\" BASIS,\n",
              "// WITHOUT WARRANTIES OR CONDITIONS OF ANY KIND, either express or implied.\n",
              "// See the License for the specific language governing permissions and\n",
              "// limitations under the License.\n",
              "\n",
              "/**\n",
              " * @fileoverview Helpers for google.colab Python module.\n",
              " */\n",
              "(function(scope) {\n",
              "function span(text, styleAttributes = {}) {\n",
              "  const element = document.createElement('span');\n",
              "  element.textContent = text;\n",
              "  for (const key of Object.keys(styleAttributes)) {\n",
              "    element.style[key] = styleAttributes[key];\n",
              "  }\n",
              "  return element;\n",
              "}\n",
              "\n",
              "// Max number of bytes which will be uploaded at a time.\n",
              "const MAX_PAYLOAD_SIZE = 100 * 1024;\n",
              "\n",
              "function _uploadFiles(inputId, outputId) {\n",
              "  const steps = uploadFilesStep(inputId, outputId);\n",
              "  const outputElement = document.getElementById(outputId);\n",
              "  // Cache steps on the outputElement to make it available for the next call\n",
              "  // to uploadFilesContinue from Python.\n",
              "  outputElement.steps = steps;\n",
              "\n",
              "  return _uploadFilesContinue(outputId);\n",
              "}\n",
              "\n",
              "// This is roughly an async generator (not supported in the browser yet),\n",
              "// where there are multiple asynchronous steps and the Python side is going\n",
              "// to poll for completion of each step.\n",
              "// This uses a Promise to block the python side on completion of each step,\n",
              "// then passes the result of the previous step as the input to the next step.\n",
              "function _uploadFilesContinue(outputId) {\n",
              "  const outputElement = document.getElementById(outputId);\n",
              "  const steps = outputElement.steps;\n",
              "\n",
              "  const next = steps.next(outputElement.lastPromiseValue);\n",
              "  return Promise.resolve(next.value.promise).then((value) => {\n",
              "    // Cache the last promise value to make it available to the next\n",
              "    // step of the generator.\n",
              "    outputElement.lastPromiseValue = value;\n",
              "    return next.value.response;\n",
              "  });\n",
              "}\n",
              "\n",
              "/**\n",
              " * Generator function which is called between each async step of the upload\n",
              " * process.\n",
              " * @param {string} inputId Element ID of the input file picker element.\n",
              " * @param {string} outputId Element ID of the output display.\n",
              " * @return {!Iterable<!Object>} Iterable of next steps.\n",
              " */\n",
              "function* uploadFilesStep(inputId, outputId) {\n",
              "  const inputElement = document.getElementById(inputId);\n",
              "  inputElement.disabled = false;\n",
              "\n",
              "  const outputElement = document.getElementById(outputId);\n",
              "  outputElement.innerHTML = '';\n",
              "\n",
              "  const pickedPromise = new Promise((resolve) => {\n",
              "    inputElement.addEventListener('change', (e) => {\n",
              "      resolve(e.target.files);\n",
              "    });\n",
              "  });\n",
              "\n",
              "  const cancel = document.createElement('button');\n",
              "  inputElement.parentElement.appendChild(cancel);\n",
              "  cancel.textContent = 'Cancel upload';\n",
              "  const cancelPromise = new Promise((resolve) => {\n",
              "    cancel.onclick = () => {\n",
              "      resolve(null);\n",
              "    };\n",
              "  });\n",
              "\n",
              "  // Wait for the user to pick the files.\n",
              "  const files = yield {\n",
              "    promise: Promise.race([pickedPromise, cancelPromise]),\n",
              "    response: {\n",
              "      action: 'starting',\n",
              "    }\n",
              "  };\n",
              "\n",
              "  cancel.remove();\n",
              "\n",
              "  // Disable the input element since further picks are not allowed.\n",
              "  inputElement.disabled = true;\n",
              "\n",
              "  if (!files) {\n",
              "    return {\n",
              "      response: {\n",
              "        action: 'complete',\n",
              "      }\n",
              "    };\n",
              "  }\n",
              "\n",
              "  for (const file of files) {\n",
              "    const li = document.createElement('li');\n",
              "    li.append(span(file.name, {fontWeight: 'bold'}));\n",
              "    li.append(span(\n",
              "        `(${file.type || 'n/a'}) - ${file.size} bytes, ` +\n",
              "        `last modified: ${\n",
              "            file.lastModifiedDate ? file.lastModifiedDate.toLocaleDateString() :\n",
              "                                    'n/a'} - `));\n",
              "    const percent = span('0% done');\n",
              "    li.appendChild(percent);\n",
              "\n",
              "    outputElement.appendChild(li);\n",
              "\n",
              "    const fileDataPromise = new Promise((resolve) => {\n",
              "      const reader = new FileReader();\n",
              "      reader.onload = (e) => {\n",
              "        resolve(e.target.result);\n",
              "      };\n",
              "      reader.readAsArrayBuffer(file);\n",
              "    });\n",
              "    // Wait for the data to be ready.\n",
              "    let fileData = yield {\n",
              "      promise: fileDataPromise,\n",
              "      response: {\n",
              "        action: 'continue',\n",
              "      }\n",
              "    };\n",
              "\n",
              "    // Use a chunked sending to avoid message size limits. See b/62115660.\n",
              "    let position = 0;\n",
              "    do {\n",
              "      const length = Math.min(fileData.byteLength - position, MAX_PAYLOAD_SIZE);\n",
              "      const chunk = new Uint8Array(fileData, position, length);\n",
              "      position += length;\n",
              "\n",
              "      const base64 = btoa(String.fromCharCode.apply(null, chunk));\n",
              "      yield {\n",
              "        response: {\n",
              "          action: 'append',\n",
              "          file: file.name,\n",
              "          data: base64,\n",
              "        },\n",
              "      };\n",
              "\n",
              "      let percentDone = fileData.byteLength === 0 ?\n",
              "          100 :\n",
              "          Math.round((position / fileData.byteLength) * 100);\n",
              "      percent.textContent = `${percentDone}% done`;\n",
              "\n",
              "    } while (position < fileData.byteLength);\n",
              "  }\n",
              "\n",
              "  // All done.\n",
              "  yield {\n",
              "    response: {\n",
              "      action: 'complete',\n",
              "    }\n",
              "  };\n",
              "}\n",
              "\n",
              "scope.google = scope.google || {};\n",
              "scope.google.colab = scope.google.colab || {};\n",
              "scope.google.colab._files = {\n",
              "  _uploadFiles,\n",
              "  _uploadFilesContinue,\n",
              "};\n",
              "})(self);\n",
              "</script> "
            ],
            "text/plain": [
              "<IPython.core.display.HTML object>"
            ]
          },
          "metadata": {},
          "output_type": "display_data"
        },
        {
          "output_type": "error",
          "ename": "KeyboardInterrupt",
          "evalue": "",
          "traceback": [
            "\u001b[0;31m---------------------------------------------------------------------------\u001b[0m",
            "\u001b[0;31mKeyboardInterrupt\u001b[0m                         Traceback (most recent call last)",
            "\u001b[0;32m<ipython-input-3-6b0676c91f9a>\u001b[0m in \u001b[0;36m<cell line: 2>\u001b[0;34m()\u001b[0m\n\u001b[1;32m      1\u001b[0m \u001b[0;32mfrom\u001b[0m \u001b[0mgoogle\u001b[0m\u001b[0;34m.\u001b[0m\u001b[0mcolab\u001b[0m \u001b[0;32mimport\u001b[0m \u001b[0mfiles\u001b[0m\u001b[0;34m\u001b[0m\u001b[0;34m\u001b[0m\u001b[0m\n\u001b[0;32m----> 2\u001b[0;31m \u001b[0muploaded\u001b[0m \u001b[0;34m=\u001b[0m \u001b[0mfiles\u001b[0m\u001b[0;34m.\u001b[0m\u001b[0mupload\u001b[0m\u001b[0;34m(\u001b[0m\u001b[0;34m)\u001b[0m     \u001b[0;31m# 90분간 이벤트가 없으면 종료.\u001b[0m\u001b[0;34m\u001b[0m\u001b[0;34m\u001b[0m\u001b[0m\n\u001b[0m",
            "\u001b[0;32m/usr/local/lib/python3.10/dist-packages/google/colab/files.py\u001b[0m in \u001b[0;36mupload\u001b[0;34m()\u001b[0m\n\u001b[1;32m     67\u001b[0m   \"\"\"\n\u001b[1;32m     68\u001b[0m \u001b[0;34m\u001b[0m\u001b[0m\n\u001b[0;32m---> 69\u001b[0;31m   \u001b[0muploaded_files\u001b[0m \u001b[0;34m=\u001b[0m \u001b[0m_upload_files\u001b[0m\u001b[0;34m(\u001b[0m\u001b[0mmultiple\u001b[0m\u001b[0;34m=\u001b[0m\u001b[0;32mTrue\u001b[0m\u001b[0;34m)\u001b[0m\u001b[0;34m\u001b[0m\u001b[0;34m\u001b[0m\u001b[0m\n\u001b[0m\u001b[1;32m     70\u001b[0m   \u001b[0;31m# Mapping from original filename to filename as saved locally.\u001b[0m\u001b[0;34m\u001b[0m\u001b[0;34m\u001b[0m\u001b[0m\n\u001b[1;32m     71\u001b[0m   \u001b[0mlocal_filenames\u001b[0m \u001b[0;34m=\u001b[0m \u001b[0mdict\u001b[0m\u001b[0;34m(\u001b[0m\u001b[0;34m)\u001b[0m\u001b[0;34m\u001b[0m\u001b[0;34m\u001b[0m\u001b[0m\n",
            "\u001b[0;32m/usr/local/lib/python3.10/dist-packages/google/colab/files.py\u001b[0m in \u001b[0;36m_upload_files\u001b[0;34m(multiple)\u001b[0m\n\u001b[1;32m    162\u001b[0m \u001b[0;34m\u001b[0m\u001b[0m\n\u001b[1;32m    163\u001b[0m   \u001b[0;32mwhile\u001b[0m \u001b[0mresult\u001b[0m\u001b[0;34m[\u001b[0m\u001b[0;34m'action'\u001b[0m\u001b[0;34m]\u001b[0m \u001b[0;34m!=\u001b[0m \u001b[0;34m'complete'\u001b[0m\u001b[0;34m:\u001b[0m\u001b[0;34m\u001b[0m\u001b[0;34m\u001b[0m\u001b[0m\n\u001b[0;32m--> 164\u001b[0;31m     result = _output.eval_js(\n\u001b[0m\u001b[1;32m    165\u001b[0m         'google.colab._files._uploadFilesContinue(\"{output_id}\")'.format(\n\u001b[1;32m    166\u001b[0m             \u001b[0moutput_id\u001b[0m\u001b[0;34m=\u001b[0m\u001b[0moutput_id\u001b[0m\u001b[0;34m\u001b[0m\u001b[0;34m\u001b[0m\u001b[0m\n",
            "\u001b[0;32m/usr/local/lib/python3.10/dist-packages/google/colab/output/_js.py\u001b[0m in \u001b[0;36meval_js\u001b[0;34m(script, ignore_result, timeout_sec)\u001b[0m\n\u001b[1;32m     38\u001b[0m   \u001b[0;32mif\u001b[0m \u001b[0mignore_result\u001b[0m\u001b[0;34m:\u001b[0m\u001b[0;34m\u001b[0m\u001b[0;34m\u001b[0m\u001b[0m\n\u001b[1;32m     39\u001b[0m     \u001b[0;32mreturn\u001b[0m\u001b[0;34m\u001b[0m\u001b[0;34m\u001b[0m\u001b[0m\n\u001b[0;32m---> 40\u001b[0;31m   \u001b[0;32mreturn\u001b[0m \u001b[0m_message\u001b[0m\u001b[0;34m.\u001b[0m\u001b[0mread_reply_from_input\u001b[0m\u001b[0;34m(\u001b[0m\u001b[0mrequest_id\u001b[0m\u001b[0;34m,\u001b[0m \u001b[0mtimeout_sec\u001b[0m\u001b[0;34m)\u001b[0m\u001b[0;34m\u001b[0m\u001b[0;34m\u001b[0m\u001b[0m\n\u001b[0m\u001b[1;32m     41\u001b[0m \u001b[0;34m\u001b[0m\u001b[0m\n\u001b[1;32m     42\u001b[0m \u001b[0;34m\u001b[0m\u001b[0m\n",
            "\u001b[0;32m/usr/local/lib/python3.10/dist-packages/google/colab/_message.py\u001b[0m in \u001b[0;36mread_reply_from_input\u001b[0;34m(message_id, timeout_sec)\u001b[0m\n\u001b[1;32m     94\u001b[0m     \u001b[0mreply\u001b[0m \u001b[0;34m=\u001b[0m \u001b[0m_read_next_input_message\u001b[0m\u001b[0;34m(\u001b[0m\u001b[0;34m)\u001b[0m\u001b[0;34m\u001b[0m\u001b[0;34m\u001b[0m\u001b[0m\n\u001b[1;32m     95\u001b[0m     \u001b[0;32mif\u001b[0m \u001b[0mreply\u001b[0m \u001b[0;34m==\u001b[0m \u001b[0m_NOT_READY\u001b[0m \u001b[0;32mor\u001b[0m \u001b[0;32mnot\u001b[0m \u001b[0misinstance\u001b[0m\u001b[0;34m(\u001b[0m\u001b[0mreply\u001b[0m\u001b[0;34m,\u001b[0m \u001b[0mdict\u001b[0m\u001b[0;34m)\u001b[0m\u001b[0;34m:\u001b[0m\u001b[0;34m\u001b[0m\u001b[0;34m\u001b[0m\u001b[0m\n\u001b[0;32m---> 96\u001b[0;31m       \u001b[0mtime\u001b[0m\u001b[0;34m.\u001b[0m\u001b[0msleep\u001b[0m\u001b[0;34m(\u001b[0m\u001b[0;36m0.025\u001b[0m\u001b[0;34m)\u001b[0m\u001b[0;34m\u001b[0m\u001b[0;34m\u001b[0m\u001b[0m\n\u001b[0m\u001b[1;32m     97\u001b[0m       \u001b[0;32mcontinue\u001b[0m\u001b[0;34m\u001b[0m\u001b[0;34m\u001b[0m\u001b[0m\n\u001b[1;32m     98\u001b[0m     if (\n",
            "\u001b[0;31mKeyboardInterrupt\u001b[0m: "
          ]
        }
      ],
      "source": [
        "from google.colab import files\n",
        "uploaded = files.upload()     # 90분간 이벤트가 없으면 종료."
      ]
    },
    {
      "cell_type": "markdown",
      "source": [
        "그니까 위에 코드가 안되면 마운트 해보라는 말은, 구글 코랩에 파일을 직접 업로드 하는게 안되면, 구글 드라이브에 파일을 업로드 한 후에 구글 드라이브와 마운트 하라는 뜻인 듯."
      ],
      "metadata": {
        "id": "dwt7KOh8MwoW"
      }
    },
    {
      "cell_type": "code",
      "execution_count": null,
      "metadata": {
        "id": "izqfUswKKy1I"
      },
      "outputs": [],
      "source": [
        "!mkdir data_3000"
      ]
    },
    {
      "cell_type": "code",
      "execution_count": null,
      "metadata": {
        "id": "GuMVSFtJK6o1"
      },
      "outputs": [],
      "source": [
        "!unzip -d ./data_3000"
      ]
    },
    {
      "cell_type": "code",
      "execution_count": null,
      "metadata": {
        "colab": {
          "base_uri": "https://localhost:8080/"
        },
        "id": "tFvD1a4v1kCq",
        "outputId": "9c25a3cf-672c-4055-acaa-44f1e379d3fd"
      },
      "outputs": [
        {
          "output_type": "stream",
          "name": "stdout",
          "text": [
            "Drive already mounted at /content/drive; to attempt to forcibly remount, call drive.mount(\"/content/drive\", force_remount=True).\n"
          ]
        }
      ],
      "source": [
        "from google.colab import drive    # 구글 드라이브.\n",
        "drive.mount('/content/drive')   # 마운트: 두 개의 파일 시스템을 하나로 연결\n",
        "# Google Drive가 Colab의 /content 디렉토리 아래에 drive라는 이름으로 마운트.\n",
        "# /content: Colab에서 생성되는 모든 파일은 기본적으로 이 디렉토리 아래에 저장"
      ]
    },
    {
      "cell_type": "markdown",
      "source": [
        "리눅스: 윈도우나 맥 같은 운영체제"
      ],
      "metadata": {
        "id": "dGeQZMqPOn13"
      }
    },
    {
      "cell_type": "code",
      "execution_count": null,
      "metadata": {
        "colab": {
          "base_uri": "https://localhost:8080/"
        },
        "id": "9Z3I5iP91zQG",
        "outputId": "ff311198-b9cc-4ae0-f1ab-5a8e3692d1a0"
      },
      "outputs": [
        {
          "output_type": "stream",
          "name": "stdout",
          "text": [
            "/content\n"
          ]
        }
      ],
      "source": [
        "!pwd   # print working directory. 위에서 content로 연결했으니까. !는 셀에서 직접 실행한다...고 하는데 정확한 의미는 모르겠음."
      ]
    },
    {
      "cell_type": "code",
      "execution_count": null,
      "metadata": {
        "colab": {
          "base_uri": "https://localhost:8080/"
        },
        "id": "a-iRotlt1644",
        "outputId": "d20c30e6-7190-4c81-895d-ee9f0325f0d5"
      },
      "outputs": [
        {
          "output_type": "stream",
          "name": "stdout",
          "text": [
            "total 20\n",
            "drwxr-xr-x 2 root root 4096 Jul 28 12:11 data_3000\n",
            "drwx------ 5 root root 4096 Jul 28 10:21 drive\n",
            "drwxr-xr-x 2 root root 4096 Jul 28 12:36 intro-dl\n",
            "drwxr-xr-x 2 root root 4096 Jul 28 12:43 MyDrive\n",
            "drwxr-xr-x 1 root root 4096 Jul 25 13:21 sample_data\n"
          ]
        }
      ],
      "source": [
        "!ls -l    # 현재 디렉토리 안에 있는 목록(list) 출력.  -l는 옵션 중에 long 어쩌고임. 자세히 한다는 것 같음."
      ]
    },
    {
      "cell_type": "code",
      "source": [
        "%cd /content/drive/"
      ],
      "metadata": {
        "colab": {
          "base_uri": "https://localhost:8080/"
        },
        "id": "dbjqnN2SXsEu",
        "outputId": "bd6ed76d-7e0b-4a90-e8f5-66d9fb6379f8"
      },
      "execution_count": null,
      "outputs": [
        {
          "output_type": "stream",
          "name": "stdout",
          "text": [
            "/content/drive\n"
          ]
        }
      ]
    },
    {
      "cell_type": "code",
      "source": [
        "!pwd"
      ],
      "metadata": {
        "colab": {
          "base_uri": "https://localhost:8080/"
        },
        "id": "d6VifRBpX4WP",
        "outputId": "52301b2b-404e-4c91-89df-59506ca17d5a"
      },
      "execution_count": null,
      "outputs": [
        {
          "output_type": "stream",
          "name": "stdout",
          "text": [
            "/content/drive\n"
          ]
        }
      ]
    },
    {
      "cell_type": "code",
      "source": [
        "!ls -l"
      ],
      "metadata": {
        "colab": {
          "base_uri": "https://localhost:8080/"
        },
        "id": "Um5GHx2eXv5O",
        "outputId": "2d5279a0-7d36-4870-9ccd-ff434bd92308"
      },
      "execution_count": null,
      "outputs": [
        {
          "output_type": "stream",
          "name": "stdout",
          "text": [
            "total 4\n",
            "drwx------ 17 root root 4096 Jul 28 10:21 MyDrive\n"
          ]
        }
      ]
    },
    {
      "cell_type": "code",
      "source": [
        "import os\n",
        "os.makedirs('MyDrive')"
      ],
      "metadata": {
        "colab": {
          "base_uri": "https://localhost:8080/",
          "height": 291
        },
        "id": "_DXRsTcjXY31",
        "outputId": "89b352c7-9ced-4244-e33f-d998f1d93f74"
      },
      "execution_count": null,
      "outputs": [
        {
          "output_type": "error",
          "ename": "FileExistsError",
          "evalue": "[Errno 17] File exists: 'MyDrive'",
          "traceback": [
            "\u001b[0;31m---------------------------------------------------------------------------\u001b[0m",
            "\u001b[0;31mFileExistsError\u001b[0m                           Traceback (most recent call last)",
            "\u001b[0;32m<ipython-input-6-de83cd853b05>\u001b[0m in \u001b[0;36m<cell line: 2>\u001b[0;34m()\u001b[0m\n\u001b[1;32m      1\u001b[0m \u001b[0;32mimport\u001b[0m \u001b[0mos\u001b[0m\u001b[0;34m\u001b[0m\u001b[0;34m\u001b[0m\u001b[0m\n\u001b[0;32m----> 2\u001b[0;31m \u001b[0mos\u001b[0m\u001b[0;34m.\u001b[0m\u001b[0mmakedirs\u001b[0m\u001b[0;34m(\u001b[0m\u001b[0;34m'MyDrive'\u001b[0m\u001b[0;34m)\u001b[0m\u001b[0;34m\u001b[0m\u001b[0;34m\u001b[0m\u001b[0m\n\u001b[0m",
            "\u001b[0;32m/usr/lib/python3.10/os.py\u001b[0m in \u001b[0;36mmakedirs\u001b[0;34m(name, mode, exist_ok)\u001b[0m\n\u001b[1;32m    223\u001b[0m             \u001b[0;32mreturn\u001b[0m\u001b[0;34m\u001b[0m\u001b[0;34m\u001b[0m\u001b[0m\n\u001b[1;32m    224\u001b[0m     \u001b[0;32mtry\u001b[0m\u001b[0;34m:\u001b[0m\u001b[0;34m\u001b[0m\u001b[0;34m\u001b[0m\u001b[0m\n\u001b[0;32m--> 225\u001b[0;31m         \u001b[0mmkdir\u001b[0m\u001b[0;34m(\u001b[0m\u001b[0mname\u001b[0m\u001b[0;34m,\u001b[0m \u001b[0mmode\u001b[0m\u001b[0;34m)\u001b[0m\u001b[0;34m\u001b[0m\u001b[0;34m\u001b[0m\u001b[0m\n\u001b[0m\u001b[1;32m    226\u001b[0m     \u001b[0;32mexcept\u001b[0m \u001b[0mOSError\u001b[0m\u001b[0;34m:\u001b[0m\u001b[0;34m\u001b[0m\u001b[0;34m\u001b[0m\u001b[0m\n\u001b[1;32m    227\u001b[0m         \u001b[0;31m# Cannot rely on checking for EEXIST, since the operating system\u001b[0m\u001b[0;34m\u001b[0m\u001b[0;34m\u001b[0m\u001b[0m\n",
            "\u001b[0;31mFileExistsError\u001b[0m: [Errno 17] File exists: 'MyDrive'"
          ]
        }
      ]
    },
    {
      "cell_type": "code",
      "execution_count": null,
      "metadata": {
        "colab": {
          "base_uri": "https://localhost:8080/"
        },
        "id": "nMFEISBX1-8X",
        "outputId": "b9792da7-19cb-4279-9da3-c7fa23c8afdb"
      },
      "outputs": [
        {
          "output_type": "stream",
          "name": "stdout",
          "text": [
            "/content/drive/MyDrive\n"
          ]
        }
      ],
      "source": [
        "%cd /content/drive/MyDrive/\n",
        "# 왜 만들고 나서 디렉토리를 바꿔??  -> 마운트는 '/content/drive' 여기에서만 할 수 있기 때문.\n",
        "# 그리고 바꿨다기보다는 더 들어간거네\n",
        "# 근데 MyDrive 디렉토리는 원래 있는 거임? 아님 디렉토리 변경하겠다고만 하면 자동으로 새로 만들어주는 거임?\n",
        "# 아 근데 위에서 total8 막 이러는 거 보니 원래 뭐가 있기는 있는 듯. -> 바보야 저건 현재 디렉토리라잖아\n",
        "# =>MyDrive는 구글 드라이브 가입할 때 자동으로 만들어진 거임..... -> 없는데?"
      ]
    },
    {
      "cell_type": "code",
      "source": [
        "!ls -l"
      ],
      "metadata": {
        "colab": {
          "base_uri": "https://localhost:8080/"
        },
        "id": "7XgMMQ0nY6Ha",
        "outputId": "6e423681-6288-437e-a33e-92af853e843d"
      },
      "execution_count": null,
      "outputs": [
        {
          "output_type": "stream",
          "name": "stdout",
          "text": [
            "total 717\n",
            "-rw------- 1 root root    175 May  8  2023 '2023 1차 개인 당첨자.gdoc'\n",
            "-rw------- 1 root root    175 Jun 22  2022 'AE4SuperNotes01.15 June 20 2022 (1).gdoc'\n",
            "-rw------- 1 root root    175 Jun 22  2022 'AE4SuperNotes01.15 June 20 2022.gdoc'\n",
            "drwx------ 2 root root   4096 Mar 26  2022  Classroom\n",
            "drwx------ 2 root root   4096 Aug 23  2022 'Colab Notebooks'\n",
            "drwx------ 2 root root   4096 Oct  7  2022  DecoDiary\n",
            "-rw------- 1 root root 211346 May 20  2023 'fow.kr crawling.ipynb'\n",
            "drwx------ 4 root root   4096 Apr  4 11:22  intro-dl\n",
            "-rw------- 1 root root  21746 Feb 16 05:29  Screenshot_20240216_142937.jpg\n",
            "-rw------- 1 root root 166907 Feb 18 02:41  Screenshot_20240218_114133.jpg\n",
            "-rw------- 1 root root 173952 Mar  1 05:27  Screenshot_20240301_142756.jpg\n",
            "-rw------- 1 root root  43473 Mar  6 13:02 'Screenshot_20240306_220210_iM () (1).jpg'\n",
            "-rw------- 1 root root  43473 Mar  6 13:02 'Screenshot_20240306_220210_iM ().jpg'\n",
            "-rw------- 1 root root   5377 Jun 20  2023  Untitled0.ipynb\n",
            "-rw------- 1 root root    324 May 18 04:57  Untitled1.ipynb\n",
            "-rw------- 1 root root   5914 Jun 27 07:41  Untitled2.ipynb\n",
            "drwx------ 2 root root   4096 Aug 24  2022  VoCat\n",
            "drwx------ 2 root root   4096 Feb 16  2022  계산수학\n",
            "-rw------- 1 root root    175 May 29  2022 '내몸내삶 분석 프로젝트.gform'\n",
            "drwx------ 2 root root   4096 Feb 16  2022  다변수함수론\n",
            "drwx------ 2 root root   4096 Feb 16  2022  미분방정식\n",
            "drwx------ 2 root root   4096 Feb 16  2022  선형대수학\n",
            "drwx------ 2 root root   4096 Feb 16  2022  수치해석학\n",
            "-rw------- 1 root root    175 May 16  2022  워크시트.gform\n",
            "drwx------ 2 root root   4096 Feb 16  2022  조선왕조실록\n",
            "drwx------ 2 root root   4096 May 29  2022 '체지방 변화 분석 (File responses)'\n",
            "drwx------ 2 root root   4096 May 16  2022 '체지방 변화 분석 (File responses) (1)'\n",
            "-rw------- 1 root root    175 May 29  2022 '체지방 변화 분석.gform'\n",
            "drwx------ 2 root root   4096 Feb 16  2022  해석학\n"
          ]
        }
      ]
    },
    {
      "cell_type": "code",
      "source": [
        "# 어떤 디렉토리가 있는지 확인하고 싶을 때\n",
        "%cd /content/drive\n",
        "!ls   # 아...이게 위에서 한거네"
      ],
      "metadata": {
        "id": "WyY0kLs5uCug"
      },
      "execution_count": null,
      "outputs": []
    },
    {
      "cell_type": "code",
      "execution_count": null,
      "metadata": {
        "id": "ek7ICPZQ2CuN"
      },
      "outputs": [],
      "source": [
        "!mkdir intro-dl  #  ! 이거 \"파이썬 코드가 아닌 터미널에서 사용하는 명령어를 실행하겠다는 뜻\"이래.\n",
        "# MyDrive에 intro-dl이라는 디렉토리가 생김."
      ]
    },
    {
      "cell_type": "code",
      "source": [
        "%cd intro-dl"
      ],
      "metadata": {
        "colab": {
          "base_uri": "https://localhost:8080/"
        },
        "id": "H8xDlk8XZbYC",
        "outputId": "047f662f-5dc5-4ab8-ef22-0e2a8569b3b3"
      },
      "execution_count": null,
      "outputs": [
        {
          "output_type": "stream",
          "name": "stdout",
          "text": [
            "/content/drive/MyDrive/intro-dl\n"
          ]
        }
      ]
    },
    {
      "cell_type": "code",
      "execution_count": null,
      "metadata": {
        "colab": {
          "base_uri": "https://localhost:8080/"
        },
        "id": "jbs3LmBZ2F60",
        "outputId": "6f04877d-e6aa-48f2-8a06-00081ec561b0"
      },
      "outputs": [
        {
          "output_type": "stream",
          "name": "stdout",
          "text": [
            "[Errno 2] No such file or directory: '/content/drive/MyDrive/intro-dl/archive # 위에 코드는 들어가지는 않고 만들기만 하나보네..'\n",
            "/content/drive/MyDrive/intro-dl/archive/afhq\n"
          ]
        }
      ],
      "source": [
        "%cd /content/drive/MyDrive/intro-dl   # 위에 코드는 들어가지는 않고 만들기만 하나보네.."
      ]
    },
    {
      "cell_type": "code",
      "source": [
        "%cd ../../"
      ],
      "metadata": {
        "colab": {
          "base_uri": "https://localhost:8080/"
        },
        "id": "TcEeh2qbwvGP",
        "outputId": "312ce0e8-fee2-4e83-9cd6-a592e4f0374c"
      },
      "execution_count": null,
      "outputs": [
        {
          "output_type": "stream",
          "name": "stdout",
          "text": [
            "/content/drive/MyDrive/intro-dl\n"
          ]
        }
      ]
    },
    {
      "cell_type": "code",
      "execution_count": null,
      "metadata": {
        "colab": {
          "base_uri": "https://localhost:8080/"
        },
        "id": "p2v-IkYy2IkZ",
        "outputId": "e5335d1e-9a4d-4c8b-ccb0-acd0d7007d4f"
      },
      "outputs": [
        {
          "output_type": "stream",
          "name": "stdout",
          "text": [
            "/content/drive/MyDrive/intro-dl\n"
          ]
        }
      ],
      "source": [
        "!pwd"
      ]
    },
    {
      "cell_type": "code",
      "source": [
        "!ls -l"
      ],
      "metadata": {
        "colab": {
          "base_uri": "https://localhost:8080/"
        },
        "id": "SvA2HQEaZiky",
        "outputId": "824094f0-97e9-4e81-98c0-274e124b0e86"
      },
      "execution_count": null,
      "outputs": [
        {
          "output_type": "stream",
          "name": "stdout",
          "text": [
            "total 8\n",
            "drwx------ 3 root root 4096 Jul 28 12:31 archive\n",
            "drwx------ 2 root root 4096 Apr  4 11:23 temp\n"
          ]
        }
      ]
    },
    {
      "cell_type": "code",
      "execution_count": null,
      "metadata": {
        "id": "p2wBYAE92I_G"
      },
      "outputs": [],
      "source": [
        "!unzip -qq /content/drive/MyDrive/archive.zip -d /content/drive/MyDrive/intro-dl   # -qq: 조용조용해, -d: 저장할 디렉토리 설정 옵션"
      ]
    },
    {
      "cell_type": "code",
      "execution_count": null,
      "metadata": {
        "colab": {
          "base_uri": "https://localhost:8080/"
        },
        "id": "JxIiBokh2Nm5",
        "outputId": "99b80844-797d-4707-efea-ab339ecd500a"
      },
      "outputs": [
        {
          "output_type": "stream",
          "name": "stdout",
          "text": [
            "total 12\n",
            "drwx------ 4 root root 4096 Jul 29 09:15 afhq\n",
            "drwx------ 3 root root 4096 Jul 28 12:31 archive\n",
            "drwx------ 2 root root 4096 Apr  4 11:23 temp\n"
          ]
        }
      ],
      "source": [
        "!ls -l   # ?? 0이 나오는 거 맞아?"
      ]
    },
    {
      "cell_type": "code",
      "execution_count": null,
      "metadata": {
        "id": "RULfUmyOgfRb",
        "colab": {
          "base_uri": "https://localhost:8080/"
        },
        "outputId": "b9fa21e4-9b56-4c96-cff2-367e6c3ae8f5"
      },
      "outputs": [
        {
          "output_type": "stream",
          "name": "stdout",
          "text": [
            "/content/drive/MyDrive/intro-dl/archive\n"
          ]
        }
      ],
      "source": [
        "%cd archive/"
      ]
    },
    {
      "cell_type": "code",
      "source": [
        "!ls -l"
      ],
      "metadata": {
        "colab": {
          "base_uri": "https://localhost:8080/"
        },
        "id": "7h8TR9TftlOM",
        "outputId": "7bb5d491-fc29-430c-f4d9-5c711a95cabf"
      },
      "execution_count": null,
      "outputs": [
        {
          "output_type": "stream",
          "name": "stdout",
          "text": [
            "total 4\n",
            "drwx------ 2 root root 4096 Jul 28 12:31 afhq\n"
          ]
        }
      ]
    },
    {
      "cell_type": "code",
      "source": [
        "%cd afhq"
      ],
      "metadata": {
        "colab": {
          "base_uri": "https://localhost:8080/"
        },
        "id": "5AbVzLD0aWEn",
        "outputId": "3f7bc69b-3ac2-4ea3-8d84-8f0179f8e871"
      },
      "execution_count": null,
      "outputs": [
        {
          "output_type": "stream",
          "name": "stdout",
          "text": [
            "/content/drive/MyDrive/intro-dl/archive/afhq\n"
          ]
        }
      ]
    },
    {
      "cell_type": "code",
      "execution_count": null,
      "metadata": {
        "id": "PaKefX9ugmbH",
        "colab": {
          "base_uri": "https://localhost:8080/"
        },
        "outputId": "a180be79-06d0-444d-f018-c55caff7fd17"
      },
      "outputs": [
        {
          "output_type": "stream",
          "name": "stdout",
          "text": [
            "total 8\n",
            "drwx------ 2 root root 4096 Jul 28 12:31 train\n",
            "drwx------ 2 root root 4096 Jul 28 12:31 val\n"
          ]
        }
      ],
      "source": [
        "!ls -l"
      ]
    },
    {
      "cell_type": "code",
      "execution_count": null,
      "metadata": {
        "colab": {
          "base_uri": "https://localhost:8080/"
        },
        "id": "j5HHet_n2QIR",
        "outputId": "3861809a-2c9c-4089-daaa-b7c77374d948"
      },
      "outputs": [
        {
          "output_type": "stream",
          "name": "stdout",
          "text": [
            "Sun Jul 28 13:04:27 2024       \n",
            "+---------------------------------------------------------------------------------------+\n",
            "| NVIDIA-SMI 535.104.05             Driver Version: 535.104.05   CUDA Version: 12.2     |\n",
            "|-----------------------------------------+----------------------+----------------------+\n",
            "| GPU  Name                 Persistence-M | Bus-Id        Disp.A | Volatile Uncorr. ECC |\n",
            "| Fan  Temp   Perf          Pwr:Usage/Cap |         Memory-Usage | GPU-Util  Compute M. |\n",
            "|                                         |                      |               MIG M. |\n",
            "|=========================================+======================+======================|\n",
            "|   0  Tesla T4                       Off | 00000000:00:04.0 Off |                    0 |\n",
            "| N/A   61C    P8              10W /  70W |      0MiB / 15360MiB |      0%      Default |\n",
            "|                                         |                      |                  N/A |\n",
            "+-----------------------------------------+----------------------+----------------------+\n",
            "                                                                                         \n",
            "+---------------------------------------------------------------------------------------+\n",
            "| Processes:                                                                            |\n",
            "|  GPU   GI   CI        PID   Type   Process name                            GPU Memory |\n",
            "|        ID   ID                                                             Usage      |\n",
            "|=======================================================================================|\n",
            "|  No running processes found                                                           |\n",
            "+---------------------------------------------------------------------------------------+\n"
          ]
        }
      ],
      "source": [
        "!nvidia-smi   # 엔비디아 System Management Interface"
      ]
    },
    {
      "cell_type": "code",
      "execution_count": null,
      "metadata": {
        "id": "K_ryQRsK2VpH"
      },
      "outputs": [],
      "source": [
        "import os"
      ]
    },
    {
      "cell_type": "code",
      "execution_count": null,
      "metadata": {
        "colab": {
          "base_uri": "https://localhost:8080/",
          "height": 35
        },
        "id": "yOIYDSbt2XaF",
        "outputId": "d3371e9d-66fb-4562-8c13-1b8b3f7be5b0"
      },
      "outputs": [
        {
          "output_type": "execute_result",
          "data": {
            "text/plain": [
              "'/content'"
            ],
            "application/vnd.google.colaboratory.intrinsic+json": {
              "type": "string"
            }
          },
          "metadata": {},
          "execution_count": 3
        }
      ],
      "source": [
        "os.getcwd()   # get current working directory"
      ]
    },
    {
      "cell_type": "code",
      "execution_count": null,
      "metadata": {
        "id": "WnJBGKJG2ZZ0"
      },
      "outputs": [],
      "source": [
        "os.chdir('/content/drive/MyDrive/intro-dl')"
      ]
    },
    {
      "cell_type": "code",
      "execution_count": null,
      "metadata": {
        "id": "YoN9wlz02a_4",
        "colab": {
          "base_uri": "https://localhost:8080/",
          "height": 146
        },
        "outputId": "bb2e63d1-0881-4539-ca06-0bc134a042b5"
      },
      "outputs": [
        {
          "output_type": "error",
          "ename": "FileExistsError",
          "evalue": "[Errno 17] File exists: 'temp'",
          "traceback": [
            "\u001b[0;31m---------------------------------------------------------------------------\u001b[0m",
            "\u001b[0;31mFileExistsError\u001b[0m                           Traceback (most recent call last)",
            "\u001b[0;32m<ipython-input-5-d9465ae1af7a>\u001b[0m in \u001b[0;36m<cell line: 1>\u001b[0;34m()\u001b[0m\n\u001b[0;32m----> 1\u001b[0;31m \u001b[0mos\u001b[0m\u001b[0;34m.\u001b[0m\u001b[0mmkdir\u001b[0m\u001b[0;34m(\u001b[0m\u001b[0;34m'temp'\u001b[0m\u001b[0;34m)\u001b[0m\u001b[0;34m\u001b[0m\u001b[0;34m\u001b[0m\u001b[0m\n\u001b[0m",
            "\u001b[0;31mFileExistsError\u001b[0m: [Errno 17] File exists: 'temp'"
          ]
        }
      ],
      "source": [
        "os.mkdir('temp')"
      ]
    },
    {
      "cell_type": "code",
      "execution_count": null,
      "metadata": {
        "colab": {
          "base_uri": "https://localhost:8080/"
        },
        "id": "nNiO0O_c2cum",
        "outputId": "abe138ac-e38f-443b-fb62-8189281ee276"
      },
      "outputs": [
        {
          "output_type": "execute_result",
          "data": {
            "text/plain": [
              "['temp', 'archive']"
            ]
          },
          "metadata": {},
          "execution_count": 6
        }
      ],
      "source": [
        "os.listdir(os.getcwd())"
      ]
    },
    {
      "cell_type": "code",
      "execution_count": null,
      "metadata": {
        "colab": {
          "base_uri": "https://localhost:8080/"
        },
        "id": "1EV_qZeV2h5q",
        "outputId": "23f3c992-f491-43f5-dbc2-c7baed8bab7f"
      },
      "outputs": [
        {
          "output_type": "execute_result",
          "data": {
            "text/plain": [
              "2"
            ]
          },
          "metadata": {},
          "execution_count": 7
        }
      ],
      "source": [
        "len(os.listdir(os.getcwd()))"
      ]
    },
    {
      "cell_type": "code",
      "execution_count": null,
      "metadata": {
        "id": "0Ox3JR6G7Lmp"
      },
      "outputs": [],
      "source": [
        "os.chdir('/content/sample_data')"
      ]
    },
    {
      "cell_type": "code",
      "execution_count": null,
      "metadata": {
        "colab": {
          "base_uri": "https://localhost:8080/"
        },
        "id": "7rZGf3Z37U6p",
        "outputId": "5b7265d3-5df2-4be5-c7d1-39b9fe4b259f"
      },
      "outputs": [
        {
          "name": "stdout",
          "output_type": "stream",
          "text": [
            "/content/drive/MyDrive/intro-dl\n"
          ]
        }
      ],
      "source": [
        "%cd /content/sample_data"
      ]
    },
    {
      "cell_type": "code",
      "execution_count": null,
      "metadata": {
        "id": "5UVJbqcL7iow"
      },
      "outputs": [],
      "source": [
        "import shutil"
      ]
    },
    {
      "cell_type": "code",
      "source": [
        "!ls -l"
      ],
      "metadata": {
        "colab": {
          "base_uri": "https://localhost:8080/"
        },
        "id": "3P_D7iy5s4Y_",
        "outputId": "eaeefd67-049e-4560-fed2-b11ec71c9e2e"
      },
      "execution_count": null,
      "outputs": [
        {
          "output_type": "stream",
          "name": "stdout",
          "text": [
            "total 8\n",
            "drwx------ 3 root root 4096 Jul 28 12:31 archive\n",
            "drwx------ 2 root root 4096 Apr  4 11:23 temp\n"
          ]
        }
      ]
    },
    {
      "cell_type": "code",
      "source": [
        "!pwd"
      ],
      "metadata": {
        "colab": {
          "base_uri": "https://localhost:8080/"
        },
        "id": "f75dKCd4s9Xa",
        "outputId": "3194877b-4b4d-4195-846f-e319e8184d84"
      },
      "execution_count": null,
      "outputs": [
        {
          "output_type": "stream",
          "name": "stdout",
          "text": [
            "/content/drive/MyDrive/intro-dl/afhq\n"
          ]
        }
      ]
    },
    {
      "cell_type": "code",
      "execution_count": null,
      "metadata": {
        "id": "txgV4vcv7kul"
      },
      "outputs": [],
      "source": [
        "os.chdir('/content/drive/MyDrive/intro-dl/afhq')"
      ]
    },
    {
      "cell_type": "code",
      "execution_count": null,
      "metadata": {
        "colab": {
          "base_uri": "https://localhost:8080/"
        },
        "id": "exqt3Dpz7lRY",
        "outputId": "9da0c28e-75d8-47ce-869c-371e312d582a"
      },
      "outputs": [
        {
          "output_type": "stream",
          "name": "stdout",
          "text": [
            "total 8\n",
            "drwx------ 5 root root 4096 Jul 29 09:14 train\n",
            "drwx------ 5 root root 4096 Jul 29 09:15 val\n"
          ]
        }
      ],
      "source": [
        "!ls -l"
      ]
    },
    {
      "cell_type": "code",
      "execution_count": null,
      "metadata": {
        "id": "DIVSWDlb7wbI"
      },
      "outputs": [],
      "source": [
        "f = open(\"new.txt\", 'w') # make a txt file name new\n",
        "f.close()   # open으로 열려고 했는데 없으니까 w 때문에 만들어서 열고, 닫은 거."
      ]
    },
    {
      "cell_type": "code",
      "execution_count": null,
      "metadata": {
        "colab": {
          "base_uri": "https://localhost:8080/"
        },
        "id": "-bjpnp117y24",
        "outputId": "64b37f2f-f428-4f96-f73c-50b33e121e63"
      },
      "outputs": [
        {
          "output_type": "stream",
          "name": "stdout",
          "text": [
            "total 8\n",
            "-rw------- 1 root root    0 Jul 29 09:18 new.txt\n",
            "drwx------ 5 root root 4096 Jul 29 09:14 train\n",
            "drwx------ 5 root root 4096 Jul 29 09:15 val\n"
          ]
        }
      ],
      "source": [
        "!ls -l"
      ]
    },
    {
      "cell_type": "code",
      "execution_count": null,
      "metadata": {
        "id": "8xymiV777zhs"
      },
      "outputs": [],
      "source": [
        "!mkdir new_folder"
      ]
    },
    {
      "cell_type": "code",
      "execution_count": null,
      "metadata": {
        "colab": {
          "base_uri": "https://localhost:8080/"
        },
        "id": "6Y56hlbO7zdO",
        "outputId": "ffd29d31-70af-4e8c-db5c-88a6bbea5128"
      },
      "outputs": [
        {
          "output_type": "stream",
          "name": "stdout",
          "text": [
            "total 12\n",
            "drwx------ 2 root root 4096 Jul 29 09:24 new_folder\n",
            "-rw------- 1 root root    0 Jul 29 09:18 new.txt\n",
            "drwx------ 5 root root 4096 Jul 29 09:14 train\n",
            "drwx------ 5 root root 4096 Jul 29 09:15 val\n"
          ]
        }
      ],
      "source": [
        "!ls -l"
      ]
    },
    {
      "cell_type": "code",
      "source": [
        "!pwd"
      ],
      "metadata": {
        "colab": {
          "base_uri": "https://localhost:8080/"
        },
        "id": "e718Ho8uzlIz",
        "outputId": "613dcc2c-5733-4259-bcaa-d9f31cf49e67"
      },
      "execution_count": null,
      "outputs": [
        {
          "output_type": "stream",
          "name": "stdout",
          "text": [
            "/content/drive/MyDrive/intro-dl/afhq\n"
          ]
        }
      ]
    },
    {
      "cell_type": "code",
      "execution_count": null,
      "metadata": {
        "id": "AvRAxYDT7zYZ"
      },
      "outputs": [],
      "source": [
        "src = '/content/drive/MyDrive/intro-dl/afhq/new.txt' # source directory -- python convention\n",
        "dst = '/content/drive/MyDrive/intro-dl/afhq/new_folder/new.txt' # destination directory -- python convention. 오..... 미래를 가정하네?"
      ]
    },
    {
      "cell_type": "code",
      "execution_count": null,
      "metadata": {
        "colab": {
          "base_uri": "https://localhost:8080/",
          "height": 35
        },
        "id": "_clI07Qi7zRm",
        "outputId": "42a9f7f7-d0c3-47c8-a703-5dfab6559584"
      },
      "outputs": [
        {
          "output_type": "execute_result",
          "data": {
            "text/plain": [
              "'/content/drive/MyDrive/intro-dl/afhq/new_folder/new.txt'"
            ],
            "application/vnd.google.colaboratory.intrinsic+json": {
              "type": "string"
            }
          },
          "metadata": {},
          "execution_count": 49
        }
      ],
      "source": [
        "shutil.move(src, dst)"
      ]
    },
    {
      "cell_type": "code",
      "execution_count": null,
      "metadata": {
        "colab": {
          "base_uri": "https://localhost:8080/"
        },
        "id": "XeL2OkiA7yku",
        "outputId": "bf010d60-065e-4b3e-a0e9-4dd55c05dba9"
      },
      "outputs": [
        {
          "output_type": "stream",
          "name": "stdout",
          "text": [
            "/content/drive/MyDrive/intro-dl/afhq/new_folder\n"
          ]
        }
      ],
      "source": [
        "%cd /content/drive/MyDrive/intro-dl/afhq/new_folder"
      ]
    },
    {
      "cell_type": "code",
      "execution_count": null,
      "metadata": {
        "colab": {
          "base_uri": "https://localhost:8080/"
        },
        "id": "1JmT-i5o8Dqc",
        "outputId": "bbba94d1-c68d-4033-8322-c28279047742"
      },
      "outputs": [
        {
          "output_type": "stream",
          "name": "stdout",
          "text": [
            "total 0\n",
            "-rw------- 1 root root 0 Jul 29 09:27 new2.txt\n",
            "-rw------- 1 root root 0 Jul 29 09:27 new3.txt\n",
            "-rw------- 1 root root 0 Jul 29 09:18 new.txt\n"
          ]
        }
      ],
      "source": [
        "!ls -l"
      ]
    },
    {
      "cell_type": "code",
      "execution_count": null,
      "metadata": {
        "id": "g029Amjd4SVK"
      },
      "outputs": [],
      "source": [
        "src2 = '/content/drive/MyDrive/intro-dl/afhq/new_folder/new.txt' # source directory -- python convention\n",
        "dst2 = '/content/drive/MyDrive/intro-dl/afhq/new_folder/new2.txt' # destination directory -- python convention"
      ]
    },
    {
      "cell_type": "code",
      "execution_count": null,
      "metadata": {
        "colab": {
          "base_uri": "https://localhost:8080/",
          "height": 35
        },
        "id": "pScvMitX4bht",
        "outputId": "f1893d22-43ce-4a14-fd2a-936c3a0f9f24"
      },
      "outputs": [
        {
          "output_type": "execute_result",
          "data": {
            "text/plain": [
              "'/content/drive/MyDrive/intro-dl/afhq/new_folder/new2.txt'"
            ],
            "application/vnd.google.colaboratory.intrinsic+json": {
              "type": "string"
            }
          },
          "metadata": {},
          "execution_count": 56
        }
      ],
      "source": [
        "shutil.copy(src2, dst2)"
      ]
    },
    {
      "cell_type": "code",
      "source": [
        "src3 = '/content/drive/MyDrive/intro-dl/afhq/new_folder/new.txt' # source directory -- python convention\n",
        "dst3 = '/content/drive/MyDrive/intro-dl/afhq/new_folder/new3.txt' # destination directory -- python convention\n",
        "shutil.copy(src3, dst3)"
      ],
      "metadata": {
        "id": "E1p0u38a0Ot6"
      },
      "execution_count": null,
      "outputs": []
    },
    {
      "cell_type": "code",
      "execution_count": null,
      "metadata": {
        "id": "t4S5SNoH-LLo"
      },
      "outputs": [],
      "source": [
        "import torch"
      ]
    },
    {
      "cell_type": "code",
      "execution_count": null,
      "metadata": {
        "id": "sfareHvx-POO"
      },
      "outputs": [],
      "source": [
        "## pytorch: facebook에서 제공하는 딥러닝 도구"
      ]
    },
    {
      "cell_type": "code",
      "execution_count": null,
      "metadata": {
        "colab": {
          "base_uri": "https://localhost:8080/"
        },
        "id": "UDdJUkRx-c_l",
        "outputId": "bfa2c87e-31ec-4d97-dbb2-30641d09106c"
      },
      "outputs": [
        {
          "name": "stdout",
          "output_type": "stream",
          "text": [
            "tensor([1.])\n"
          ]
        }
      ],
      "source": [
        "scalar1 = torch.tensor([1.])\n",
        "print(scalar1)"
      ]
    },
    {
      "cell_type": "code",
      "execution_count": null,
      "metadata": {
        "colab": {
          "base_uri": "https://localhost:8080/"
        },
        "id": "IVPwVZ2L-gs1",
        "outputId": "68071ce6-7de5-4010-d97a-2ee7fad0c9d1"
      },
      "outputs": [
        {
          "name": "stdout",
          "output_type": "stream",
          "text": [
            "tensor([3.])\n"
          ]
        }
      ],
      "source": [
        "scalar2 = torch.tensor([3.])\n",
        "print(scalar2)"
      ]
    },
    {
      "cell_type": "code",
      "execution_count": null,
      "metadata": {
        "colab": {
          "base_uri": "https://localhost:8080/"
        },
        "id": "YfXTPn0B-jYL",
        "outputId": "4a7e220d-4382-4510-99fa-25cd751ecfa2"
      },
      "outputs": [
        {
          "name": "stdout",
          "output_type": "stream",
          "text": [
            "tensor([4.])\n"
          ]
        }
      ],
      "source": [
        "add_scalar = scalar1 + scalar2 # addition\n",
        "print(add_scalar)"
      ]
    },
    {
      "cell_type": "code",
      "execution_count": null,
      "metadata": {
        "colab": {
          "base_uri": "https://localhost:8080/"
        },
        "id": "l_mL2oQZ-ps5",
        "outputId": "6049e5bb-d384-4866-d54d-55d0fb4a5928"
      },
      "outputs": [
        {
          "name": "stdout",
          "output_type": "stream",
          "text": [
            "tensor([-2.])\n"
          ]
        }
      ],
      "source": [
        "sub_scalar = scalar1 - scalar2 # subtraction\n",
        "print(sub_scalar)"
      ]
    },
    {
      "cell_type": "code",
      "execution_count": null,
      "metadata": {
        "colab": {
          "base_uri": "https://localhost:8080/"
        },
        "id": "xknlRy-P-sn4",
        "outputId": "384314c4-d426-430a-8082-9727981281b6"
      },
      "outputs": [
        {
          "name": "stdout",
          "output_type": "stream",
          "text": [
            "tensor([3.])\n"
          ]
        }
      ],
      "source": [
        "mul_scalar = scalar1 * scalar2 # multiplication\n",
        "print(mul_scalar)"
      ]
    },
    {
      "cell_type": "code",
      "execution_count": null,
      "metadata": {
        "colab": {
          "base_uri": "https://localhost:8080/"
        },
        "id": "giTRnvQa-vOC",
        "outputId": "838c7442-9dd3-43f0-9615-01e68a56d8be"
      },
      "outputs": [
        {
          "name": "stdout",
          "output_type": "stream",
          "text": [
            "tensor([0.3333])\n"
          ]
        }
      ],
      "source": [
        "div_scalar = scalar1 / scalar2 # division\n",
        "print(div_scalar)"
      ]
    },
    {
      "cell_type": "code",
      "execution_count": null,
      "metadata": {
        "colab": {
          "base_uri": "https://localhost:8080/"
        },
        "id": "rRu2UJLF-zgh",
        "outputId": "85fa0862-4ecd-4560-f660-c7b6c89b0860"
      },
      "outputs": [
        {
          "data": {
            "text/plain": [
              "tensor([4.])"
            ]
          },
          "execution_count": 8,
          "metadata": {},
          "output_type": "execute_result"
        }
      ],
      "source": [
        "torch.add(scalar1, scalar2) # addition"
      ]
    },
    {
      "cell_type": "code",
      "execution_count": null,
      "metadata": {
        "colab": {
          "base_uri": "https://localhost:8080/"
        },
        "id": "vZ1DJIlj-3KH",
        "outputId": "178fb4fc-2df0-45dc-f5dd-2a9e1e0a0239"
      },
      "outputs": [
        {
          "data": {
            "text/plain": [
              "tensor([-2.])"
            ]
          },
          "execution_count": 9,
          "metadata": {},
          "output_type": "execute_result"
        }
      ],
      "source": [
        "torch.sub(scalar1, scalar2) # division"
      ]
    },
    {
      "cell_type": "code",
      "execution_count": null,
      "metadata": {
        "colab": {
          "base_uri": "https://localhost:8080/"
        },
        "id": "RTSouwE2-784",
        "outputId": "18842cae-155e-4ad7-9b7f-1df23cb7d97a"
      },
      "outputs": [
        {
          "data": {
            "text/plain": [
              "tensor([3.])"
            ]
          },
          "execution_count": 10,
          "metadata": {},
          "output_type": "execute_result"
        }
      ],
      "source": [
        "torch.mul(scalar1, scalar2) # multiplication"
      ]
    },
    {
      "cell_type": "code",
      "execution_count": null,
      "metadata": {
        "colab": {
          "base_uri": "https://localhost:8080/"
        },
        "id": "hRqXfSM8-9FS",
        "outputId": "4bb65334-659b-46f8-96a6-5ca4b0cd5c7a"
      },
      "outputs": [
        {
          "data": {
            "text/plain": [
              "tensor([0.3333])"
            ]
          },
          "execution_count": 11,
          "metadata": {},
          "output_type": "execute_result"
        }
      ],
      "source": [
        "torch.div(scalar1, scalar2) # division"
      ]
    },
    {
      "cell_type": "code",
      "execution_count": null,
      "metadata": {
        "colab": {
          "base_uri": "https://localhost:8080/"
        },
        "id": "aRsvp96Fs485",
        "outputId": "93632ed8-b459-4d9a-a2f4-862c45c692a1"
      },
      "outputs": [
        {
          "name": "stdout",
          "output_type": "stream",
          "text": [
            "tensor([1., 2., 3.])\n"
          ]
        }
      ],
      "source": [
        "vector1 = torch.tensor([1., 2., 3.])\n",
        "print(vector1)"
      ]
    },
    {
      "cell_type": "code",
      "execution_count": null,
      "metadata": {
        "colab": {
          "base_uri": "https://localhost:8080/"
        },
        "id": "pUWpaiKQs9bn",
        "outputId": "152938d1-fbed-48f3-a6bd-dd92a61491c7"
      },
      "outputs": [
        {
          "name": "stdout",
          "output_type": "stream",
          "text": [
            "tensor([4., 5., 6.])\n"
          ]
        }
      ],
      "source": [
        "vector2 = torch.tensor([4., 5., 6.])\n",
        "print(vector2)"
      ]
    },
    {
      "cell_type": "code",
      "execution_count": null,
      "metadata": {
        "colab": {
          "base_uri": "https://localhost:8080/"
        },
        "id": "z5GIUP-KtIN-",
        "outputId": "1a0ead82-80ff-4c3f-bca8-ec2d71ec6acc"
      },
      "outputs": [
        {
          "name": "stdout",
          "output_type": "stream",
          "text": [
            "tensor([5., 7., 9.])\n"
          ]
        }
      ],
      "source": [
        "add_vector = vector1 + vector2 # addition\n",
        "print(add_vector)"
      ]
    },
    {
      "cell_type": "code",
      "execution_count": null,
      "metadata": {
        "colab": {
          "base_uri": "https://localhost:8080/"
        },
        "id": "MoT2ZsZItLKD",
        "outputId": "7901d856-6444-4cc8-9a01-61233d040112"
      },
      "outputs": [
        {
          "name": "stdout",
          "output_type": "stream",
          "text": [
            "tensor([-3., -3., -3.])\n"
          ]
        }
      ],
      "source": [
        "sub_vector = vector1 - vector2 # subtraction\n",
        "print(sub_vector)"
      ]
    },
    {
      "cell_type": "code",
      "execution_count": null,
      "metadata": {
        "colab": {
          "base_uri": "https://localhost:8080/"
        },
        "id": "gK1fRIvLtNsF",
        "outputId": "39e87472-722a-4e73-da5c-5fe8f0993580"
      },
      "outputs": [
        {
          "name": "stdout",
          "output_type": "stream",
          "text": [
            "tensor([ 4., 10., 18.])\n"
          ]
        }
      ],
      "source": [
        "mul_vector = vector1 * vector2 # multiplication\n",
        "print(mul_vector)"
      ]
    },
    {
      "cell_type": "code",
      "execution_count": null,
      "metadata": {
        "colab": {
          "base_uri": "https://localhost:8080/"
        },
        "id": "WH54liL-tQeN",
        "outputId": "d402a704-1d94-4b50-e491-621294a5370f"
      },
      "outputs": [
        {
          "name": "stdout",
          "output_type": "stream",
          "text": [
            "tensor([0.2500, 0.4000, 0.5000])\n"
          ]
        }
      ],
      "source": [
        "div_vector = vector1 / vector2 # division\n",
        "print(div_vector)"
      ]
    },
    {
      "cell_type": "code",
      "execution_count": null,
      "metadata": {
        "colab": {
          "base_uri": "https://localhost:8080/"
        },
        "id": "NOn-ozBm-_5f",
        "outputId": "73eacb9f-f64c-4d7d-f4e2-222e546575d7"
      },
      "outputs": [
        {
          "output_type": "stream",
          "name": "stdout",
          "text": [
            "tensor([[1., 2.],\n",
            "        [3., 4.]])\n"
          ]
        }
      ],
      "source": [
        "matrix1 = torch.tensor([[1., 2.], [3., 4.]])\n",
        "print(matrix1)"
      ]
    },
    {
      "cell_type": "code",
      "execution_count": null,
      "metadata": {
        "colab": {
          "base_uri": "https://localhost:8080/"
        },
        "id": "CpIh-LLj_HUx",
        "outputId": "c55af745-1f5c-47f0-a9e1-62e50dae72af"
      },
      "outputs": [
        {
          "output_type": "stream",
          "name": "stdout",
          "text": [
            "tensor([[5., 6.],\n",
            "        [7., 8.]])\n"
          ]
        }
      ],
      "source": [
        "matrix2 = torch.tensor([[5., 6.], [7., 8.]])\n",
        "print(matrix2)"
      ]
    },
    {
      "cell_type": "code",
      "execution_count": null,
      "metadata": {
        "colab": {
          "base_uri": "https://localhost:8080/"
        },
        "id": "nx1VGlJ_uX00",
        "outputId": "e268cd96-92f1-4c37-c248-561921881557"
      },
      "outputs": [
        {
          "name": "stdout",
          "output_type": "stream",
          "text": [
            "tensor([[ 6.,  8.],\n",
            "        [10., 12.]])\n"
          ]
        }
      ],
      "source": [
        "sum_matrix = matrix1 + matrix2 # element-wise addition\n",
        "print(sum_matrix)"
      ]
    },
    {
      "cell_type": "code",
      "execution_count": null,
      "metadata": {
        "colab": {
          "base_uri": "https://localhost:8080/"
        },
        "id": "jRuUQPpluZkP",
        "outputId": "4c06c5ff-c9a6-4dcb-ec1b-c56090dd4d58"
      },
      "outputs": [
        {
          "name": "stdout",
          "output_type": "stream",
          "text": [
            "tensor([[-4., -4.],\n",
            "        [-4., -4.]])\n"
          ]
        }
      ],
      "source": [
        "sub_matrix = matrix1 - matrix2 # element-wise subtraction\n",
        "print(sub_matrix)"
      ]
    },
    {
      "cell_type": "code",
      "execution_count": null,
      "metadata": {
        "colab": {
          "base_uri": "https://localhost:8080/"
        },
        "id": "5J_4yiVDu4iU",
        "outputId": "6de4ee82-50dc-4eea-ef0f-daa798a40537"
      },
      "outputs": [
        {
          "name": "stdout",
          "output_type": "stream",
          "text": [
            "tensor([[ 5., 12.],\n",
            "        [21., 32.]])\n"
          ]
        }
      ],
      "source": [
        "mul_matrix = matrix1 * matrix2 # element-wise multiplication\n",
        "print(mul_matrix)"
      ]
    },
    {
      "cell_type": "code",
      "execution_count": null,
      "metadata": {
        "colab": {
          "base_uri": "https://localhost:8080/"
        },
        "id": "RHtpkmHEvYIK",
        "outputId": "8725d58b-8261-4912-f78d-2f404e8d3291"
      },
      "outputs": [
        {
          "name": "stdout",
          "output_type": "stream",
          "text": [
            "tensor([[0.2000, 0.3333],\n",
            "        [0.4286, 0.5000]])\n"
          ]
        }
      ],
      "source": [
        "div_matrix = matrix1 / matrix2 # element-wise division\n",
        "print(div_matrix)"
      ]
    },
    {
      "cell_type": "code",
      "execution_count": null,
      "metadata": {
        "colab": {
          "base_uri": "https://localhost:8080/"
        },
        "id": "K8JBGXo9vZsG",
        "outputId": "2e216065-94e0-44d4-fbd2-4c47075da3ae"
      },
      "outputs": [
        {
          "data": {
            "text/plain": [
              "tensor([[ 6.,  8.],\n",
              "        [10., 12.]])"
            ]
          },
          "execution_count": 16,
          "metadata": {},
          "output_type": "execute_result"
        }
      ],
      "source": [
        "torch.add(matrix1, matrix2) # element-wise addition"
      ]
    },
    {
      "cell_type": "code",
      "execution_count": null,
      "metadata": {
        "colab": {
          "base_uri": "https://localhost:8080/"
        },
        "id": "ZHqnIBc_vhAJ",
        "outputId": "c88d0685-5023-4d72-a004-5de71f75724e"
      },
      "outputs": [
        {
          "data": {
            "text/plain": [
              "tensor([[-4., -4.],\n",
              "        [-4., -4.]])"
            ]
          },
          "execution_count": 17,
          "metadata": {},
          "output_type": "execute_result"
        }
      ],
      "source": [
        "torch.sub(matrix1, matrix2) # element-wise subtraction"
      ]
    },
    {
      "cell_type": "code",
      "execution_count": null,
      "metadata": {
        "colab": {
          "base_uri": "https://localhost:8080/"
        },
        "id": "lt0zz4EjvlOi",
        "outputId": "01f70f59-fd19-4d96-dd2e-090333a39bae"
      },
      "outputs": [
        {
          "data": {
            "text/plain": [
              "tensor([[ 5., 12.],\n",
              "        [21., 32.]])"
            ]
          },
          "execution_count": 18,
          "metadata": {},
          "output_type": "execute_result"
        }
      ],
      "source": [
        "torch.mul(matrix1, matrix2) # element-wise multiplication"
      ]
    },
    {
      "cell_type": "code",
      "execution_count": null,
      "metadata": {
        "colab": {
          "base_uri": "https://localhost:8080/"
        },
        "id": "vmStuO0Yvn7s",
        "outputId": "59ec6ca5-0bdd-4114-b596-15ac477a37ad"
      },
      "outputs": [
        {
          "data": {
            "text/plain": [
              "tensor([[0.2000, 0.3333],\n",
              "        [0.4286, 0.5000]])"
            ]
          },
          "execution_count": 19,
          "metadata": {},
          "output_type": "execute_result"
        }
      ],
      "source": [
        "torch.div(matrix1, matrix2) # element-wise division"
      ]
    },
    {
      "cell_type": "code",
      "execution_count": null,
      "metadata": {
        "colab": {
          "base_uri": "https://localhost:8080/"
        },
        "id": "ixG2CFx0vq1G",
        "outputId": "294ae6fa-6137-4e61-f1c7-635301b706d5"
      },
      "outputs": [
        {
          "data": {
            "text/plain": [
              "tensor([[19., 22.],\n",
              "        [43., 50.]])"
            ]
          },
          "execution_count": 20,
          "metadata": {},
          "output_type": "execute_result"
        }
      ],
      "source": [
        "torch.matmul(matrix1, matrix2) # matrix multiplication"
      ]
    },
    {
      "cell_type": "code",
      "execution_count": null,
      "metadata": {
        "colab": {
          "base_uri": "https://localhost:8080/"
        },
        "id": "GyzSOD5m_JkQ",
        "outputId": "f9ee014c-8122-4791-846c-cbe8b4be2eba"
      },
      "outputs": [
        {
          "name": "stdout",
          "output_type": "stream",
          "text": [
            "tensor(5.4772)\n"
          ]
        }
      ],
      "source": [
        "print(torch.norm(matrix1))"
      ]
    },
    {
      "cell_type": "code",
      "execution_count": null,
      "metadata": {
        "colab": {
          "base_uri": "https://localhost:8080/"
        },
        "id": "xaiqV1oQ_jA7",
        "outputId": "696d65f1-c462-4365-d4f6-ef3b78f7fe24"
      },
      "outputs": [
        {
          "name": "stdout",
          "output_type": "stream",
          "text": [
            "tensor(13.1909)\n"
          ]
        }
      ],
      "source": [
        "print(torch.norm(matrix2))"
      ]
    },
    {
      "cell_type": "code",
      "execution_count": null,
      "metadata": {
        "colab": {
          "base_uri": "https://localhost:8080/"
        },
        "id": "pPkeqQFfwSn5",
        "outputId": "461753dd-83f8-43cd-93dc-01748bf15587"
      },
      "outputs": [
        {
          "data": {
            "text/plain": [
              "tensor(8.)"
            ]
          },
          "execution_count": 21,
          "metadata": {},
          "output_type": "execute_result"
        }
      ],
      "source": [
        "torch.norm(matrix1-matrix2)"
      ]
    },
    {
      "cell_type": "markdown",
      "source": [
        "L1-norm:막 더한 값 (맨해튼 거리)   \n",
        "L2-norm:루트 제곱 (유클리드 거리)"
      ],
      "metadata": {
        "id": "4Lb70WMv6clI"
      }
    },
    {
      "cell_type": "code",
      "source": [
        "l1_norm_matrix1 = torch.norm(matrix1, p=1)\n",
        "l1_norm_matrix2 = torch.norm(matrix2, p=1)\n",
        "print(l1_norm_matrix1)\n",
        "print(l1_norm_matrix2)"
      ],
      "metadata": {
        "colab": {
          "base_uri": "https://localhost:8080/"
        },
        "id": "Y-bbYmgN6IOY",
        "outputId": "f67f9e9f-3cf2-449e-8d8a-a5a956056b30"
      },
      "execution_count": null,
      "outputs": [
        {
          "output_type": "stream",
          "name": "stdout",
          "text": [
            "tensor(10.)\n",
            "tensor(26.)\n"
          ]
        }
      ]
    },
    {
      "cell_type": "code",
      "source": [
        "l2_norm_matrix1 = torch.norm(matrix1, p=2)\n",
        "l2_norm_matrix2 = torch.norm(matrix2, p=2)\n",
        "\n",
        "print(l2_norm_matrix1)\n",
        "print(l2_norm_matrix2)"
      ],
      "metadata": {
        "colab": {
          "base_uri": "https://localhost:8080/"
        },
        "id": "YdbwLPqM6IGS",
        "outputId": "afc1fa76-f651-4750-d0bf-9758e70fc663"
      },
      "execution_count": null,
      "outputs": [
        {
          "output_type": "stream",
          "name": "stdout",
          "text": [
            "tensor(5.4772)\n",
            "tensor(13.1909)\n"
          ]
        }
      ]
    },
    {
      "cell_type": "markdown",
      "source": [
        "Cosine Similarity: cos(θ) = (A · B) / (||A|| ||B||)"
      ],
      "metadata": {
        "id": "IA17yDy37GNi"
      }
    },
    {
      "cell_type": "code",
      "source": [
        "import torch.nn.functional as F\n",
        "cosine_similarity = F.cosine_similarity(matrix1, matrix2, dim=0)\n",
        "\n",
        "print(cosine_similarity)"
      ],
      "metadata": {
        "colab": {
          "base_uri": "https://localhost:8080/"
        },
        "id": "kTnDicr37Q-e",
        "outputId": "5eab1678-8594-47c5-9fcc-68e906d7a5df"
      },
      "execution_count": null,
      "outputs": [
        {
          "output_type": "stream",
          "name": "stdout",
          "text": [
            "tensor([0.9558, 0.9839])\n"
          ]
        }
      ]
    },
    {
      "cell_type": "code",
      "execution_count": null,
      "metadata": {
        "id": "nWei187F_y2P"
      },
      "outputs": [],
      "source": [
        "''' 1. Module Import '''\n",
        "import numpy as np\n",
        "import matplotlib.pyplot as plt\n",
        "\n",
        "import torch\n",
        "import torch.nn as nn     # Neural Network 와 관련된 모듈\n",
        "import torch.nn.functional as F    # 그중 함수\n",
        "from torchvision import transforms, datasets     # 이미지 데이터 사용 관련 모듈. 코랩에서는 torchvisiondl 자동으로 import 되거나 이미 깔려 있어서 이렇게 바로 쓸 수 있음."
      ]
    },
    {
      "cell_type": "code",
      "execution_count": null,
      "metadata": {
        "colab": {
          "base_uri": "https://localhost:8080/"
        },
        "id": "qlr12eHx_1z0",
        "outputId": "1b86c506-fb0b-4edc-e7ad-7d26d8e1006c"
      },
      "outputs": [
        {
          "output_type": "stream",
          "name": "stdout",
          "text": [
            "Using PyTorch version: 2.3.1+cu121  Device: cuda\n"
          ]
        }
      ],
      "source": [
        "if torch.cuda.is_available():   # cuda가 사용 가능한지 확인\n",
        "    DEVICE = torch.device('cuda')         # cuda: 엔비디아(NVIDIA)에서 개발한 병렬 컴퓨팅 플랫폼. gpu를 병렬적으로 사용하고 싶을 때 씀.\n",
        "else:\n",
        "    DEVICE = torch.device('cpu')\n",
        "\n",
        "print('Using PyTorch version:', torch.__version__, ' Device:', DEVICE)"
      ]
    },
    {
      "cell_type": "code",
      "execution_count": null,
      "metadata": {
        "id": "8pp4f2_V_4eq"
      },
      "outputs": [],
      "source": [
        "BATCH_SIZE = 32\n",
        "EPOCHS = 10"
      ]
    },
    {
      "cell_type": "code",
      "execution_count": null,
      "metadata": {
        "colab": {
          "base_uri": "https://localhost:8080/"
        },
        "id": "CXC1hapo_7ma",
        "outputId": "0a2663c9-7b97-4d7f-e25a-e247d714eb16"
      },
      "outputs": [
        {
          "output_type": "stream",
          "name": "stdout",
          "text": [
            "Downloading http://yann.lecun.com/exdb/mnist/train-images-idx3-ubyte.gz\n",
            "Failed to download (trying next):\n",
            "HTTP Error 403: Forbidden\n",
            "\n",
            "Downloading https://ossci-datasets.s3.amazonaws.com/mnist/train-images-idx3-ubyte.gz\n",
            "Downloading https://ossci-datasets.s3.amazonaws.com/mnist/train-images-idx3-ubyte.gz to ../data/MNIST/MNIST/raw/train-images-idx3-ubyte.gz\n"
          ]
        },
        {
          "output_type": "stream",
          "name": "stderr",
          "text": [
            "100%|██████████| 9912422/9912422 [00:01<00:00, 5099656.72it/s]\n"
          ]
        },
        {
          "output_type": "stream",
          "name": "stdout",
          "text": [
            "Extracting ../data/MNIST/MNIST/raw/train-images-idx3-ubyte.gz to ../data/MNIST/MNIST/raw\n",
            "\n",
            "Downloading http://yann.lecun.com/exdb/mnist/train-labels-idx1-ubyte.gz\n",
            "Failed to download (trying next):\n",
            "HTTP Error 403: Forbidden\n",
            "\n",
            "Downloading https://ossci-datasets.s3.amazonaws.com/mnist/train-labels-idx1-ubyte.gz\n",
            "Downloading https://ossci-datasets.s3.amazonaws.com/mnist/train-labels-idx1-ubyte.gz to ../data/MNIST/MNIST/raw/train-labels-idx1-ubyte.gz\n"
          ]
        },
        {
          "output_type": "stream",
          "name": "stderr",
          "text": [
            "100%|██████████| 28881/28881 [00:00<00:00, 134172.13it/s]\n"
          ]
        },
        {
          "output_type": "stream",
          "name": "stdout",
          "text": [
            "Extracting ../data/MNIST/MNIST/raw/train-labels-idx1-ubyte.gz to ../data/MNIST/MNIST/raw\n",
            "\n",
            "Downloading http://yann.lecun.com/exdb/mnist/t10k-images-idx3-ubyte.gz\n",
            "Failed to download (trying next):\n",
            "HTTP Error 403: Forbidden\n",
            "\n",
            "Downloading https://ossci-datasets.s3.amazonaws.com/mnist/t10k-images-idx3-ubyte.gz\n",
            "Downloading https://ossci-datasets.s3.amazonaws.com/mnist/t10k-images-idx3-ubyte.gz to ../data/MNIST/MNIST/raw/t10k-images-idx3-ubyte.gz\n"
          ]
        },
        {
          "output_type": "stream",
          "name": "stderr",
          "text": [
            "100%|██████████| 1648877/1648877 [00:01<00:00, 1267345.67it/s]\n"
          ]
        },
        {
          "output_type": "stream",
          "name": "stdout",
          "text": [
            "Extracting ../data/MNIST/MNIST/raw/t10k-images-idx3-ubyte.gz to ../data/MNIST/MNIST/raw\n",
            "\n",
            "Downloading http://yann.lecun.com/exdb/mnist/t10k-labels-idx1-ubyte.gz\n",
            "Failed to download (trying next):\n",
            "HTTP Error 403: Forbidden\n",
            "\n",
            "Downloading https://ossci-datasets.s3.amazonaws.com/mnist/t10k-labels-idx1-ubyte.gz\n",
            "Downloading https://ossci-datasets.s3.amazonaws.com/mnist/t10k-labels-idx1-ubyte.gz to ../data/MNIST/MNIST/raw/t10k-labels-idx1-ubyte.gz\n"
          ]
        },
        {
          "output_type": "stream",
          "name": "stderr",
          "text": [
            "100%|██████████| 4542/4542 [00:00<00:00, 10942291.08it/s]"
          ]
        },
        {
          "output_type": "stream",
          "name": "stdout",
          "text": [
            "Extracting ../data/MNIST/MNIST/raw/t10k-labels-idx1-ubyte.gz to ../data/MNIST/MNIST/raw\n",
            "\n"
          ]
        },
        {
          "output_type": "stream",
          "name": "stderr",
          "text": [
            "\n"
          ]
        }
      ],
      "source": [
        "''' 3. MNIST Download (Train set, Test set split) '''\n",
        "# MNIST 학습 데이터셋을 다운로드하고 텐서로 변환\n",
        "train_dataset = datasets.MNIST(root=\"../data/MNIST\",\n",
        "                               train=True,\n",
        "                               download=True,    # root에 Mnist가 있으면 download=True로 되어있어도 다운로드하지 않음.\n",
        "                               transform=transforms.ToTensor())   # 이미지 데이터를 PyTorch 텐서로 변환.\n",
        "                               # 0-255 -> 0-1로 조정, 이미지의 채널 순서를 (H, W, C)에서 (C, H, W)로 변경. 코드 구조 특이하네...\n",
        "\n",
        "# MNIST 테스트 데이터셋을 다운로드하고 텐서로 변환\n",
        "test_dataset = datasets.MNIST(root=\"../data/MNIST\",\n",
        "                              train=False,     # train이랑 test 밖에 없나봐. 미리 분류해둔 것도 신기하네..\n",
        "                              transform=transforms.ToTensor())\n",
        "\n",
        "# 학습 데이터 로더 생성    데이터 로더: 데이터를 이리저리 다루는데 쓰는 거.\n",
        "train_loader = torch.utils.data.DataLoader(dataset=train_dataset,\n",
        "                                           batch_size=BATCH_SIZE,   # 아 얘가 핵심이네\n",
        "                                           shuffle=True)\n",
        "\n",
        "# 테스트 데이터 로더 생성\n",
        "test_loader = torch.utils.data.DataLoader(dataset=test_dataset,\n",
        "                                          batch_size=BATCH_SIZE,\n",
        "                                          shuffle=False)"
      ]
    },
    {
      "cell_type": "code",
      "execution_count": null,
      "metadata": {
        "colab": {
          "base_uri": "https://localhost:8080/"
        },
        "id": "SuQHVaX9__M4",
        "outputId": "721e9489-8b42-46ba-e583-cdc6222aedac"
      },
      "outputs": [
        {
          "output_type": "stream",
          "name": "stdout",
          "text": [
            "X_train: torch.Size([32, 1, 28, 28]) type: torch.FloatTensor\n",
            "y_train: torch.Size([32]) type: torch.LongTensor\n"
          ]
        }
      ],
      "source": [
        "# 학습 데이터의 배치 중 첫 번째 배치를 출력하여 크기와 타입을 확인\n",
        "for (X_train, y_train) in train_loader:\n",
        "    print('X_train:', X_train.size(), 'type:', X_train.type())    # 입력\n",
        "    print('y_train:', y_train.size(), 'type:', y_train.type())    # 정답\n",
        "    break"
      ]
    },
    {
      "cell_type": "code",
      "execution_count": null,
      "metadata": {
        "colab": {
          "base_uri": "https://localhost:8080/",
          "height": 125
        },
        "id": "XnNL1NWDACVJ",
        "outputId": "113578db-ff9b-45fc-cf1f-69d802b101e5"
      },
      "outputs": [
        {
          "output_type": "display_data",
          "data": {
            "text/plain": [
              "<Figure size 1000x100 with 10 Axes>"
            ],
            "image/png": "[encoded data removed]"
          },
          "metadata": {}
        }
      ],
      "source": [
        "# 학습 데이터의 첫 번째 배치에서 이미지를 시각화\n",
        "pltsize = 1    # matplotlib.pyplot의 약자. 데이터를 그래프나 차트로 \"시각화\".\n",
        "plt.figure(figsize=(10 * pltsize, pltsize))\n",
        "for i in range(10):\n",
        "    plt.subplot(1, 10, i + 1)\n",
        "    plt.axis('off')\n",
        "    plt.imshow(X_train[i, :, :, :].numpy().reshape(28, 28), cmap=\"gray_r\")    # 4차원 텐서를 가정.\n",
        "    # PyTorch 텐서를 NumPy 배열로 변환(pyplot 써야해서 그런가봐). 반전은 뭐.. 마음대로..\n",
        "    plt.title('Class: ' + str(y_train[i].item()))\n",
        "plt.show()"
      ]
    },
    {
      "cell_type": "code",
      "execution_count": null,
      "metadata": {
        "id": "TYzrLZUQAFZg"
      },
      "outputs": [],
      "source": [
        "# 다층 퍼셉트론(Multi-Layer Perceptron) 모델 정의\n",
        "class Net(nn.Module):\n",
        "    def __init__(self):\n",
        "        super(Net, self).__init__()\n",
        "        self.fc1 = nn.Linear(28 * 28, 512)    # Linear 함수가 곱 계산해주는 함순가봐.\n",
        "        self.fc2 = nn.Linear(512, 256)\n",
        "        self.fc3 = nn.Linear(256, 10)\n",
        "\n",
        "    def forward(self, x):\n",
        "        x = x.view(-1, 28 * 28)  # 입력 이미지를 평탄화\n",
        "        x = self.fc1(x)\n",
        "        x = F.sigmoid(x)  # 활성화 함수로 시그모이드 사용\n",
        "        x = self.fc2(x)\n",
        "        x = F.sigmoid(x)\n",
        "        x = self.fc3(x)\n",
        "        x = F.log_softmax(x, dim=1)  # 출력에 log_softmax 사용\n",
        "        return x\n"
      ]
    },
    {
      "cell_type": "code",
      "execution_count": null,
      "metadata": {
        "colab": {
          "base_uri": "https://localhost:8080/"
        },
        "id": "HWWFBEWkAJRq",
        "outputId": "7452d848-299b-4e58-ffe3-5b799d79fef3"
      },
      "outputs": [
        {
          "output_type": "stream",
          "name": "stdout",
          "text": [
            "Net(\n",
            "  (fc1): Linear(in_features=784, out_features=512, bias=True)\n",
            "  (fc2): Linear(in_features=512, out_features=256, bias=True)\n",
            "  (fc3): Linear(in_features=256, out_features=10, bias=True)\n",
            ")\n"
          ]
        }
      ],
      "source": [
        "# 모델을 디바이스(GPU 또는 CPU)에 올리고, 옵티마이저와 손실 함수 설정\n",
        "model = Net().to(DEVICE)  # cuda 쓰기로 했으니까 gpu인 듯.\n",
        "optimizer = torch.optim.SGD(model.parameters(), lr=0.01, momentum=0.5)\n",
        "# learning rate: 스탭 사이즈, momentum: 과거 데이터 반영률\n",
        "criterion = nn.CrossEntropyLoss()  # H(p, q) = -∑ p(x) * log(q(x))\n",
        "\n",
        "print(model)"
      ]
    },
    {
      "cell_type": "code",
      "execution_count": null,
      "metadata": {
        "id": "gaz0USwWALpA"
      },
      "outputs": [],
      "source": [
        "# 모델을 학습하는 함수 정의\n",
        "def train(model, train_loader, optimizer, log_interval):\n",
        "    model.train()  # 모델을 학습 모드로 설정\n",
        "    for batch_idx, (image, label) in enumerate(train_loader):   # enumerate: 인덱스+데이터로 전달.\n",
        "        image = image.to(DEVICE)  # 이미지를 디바이스에 올림\n",
        "        label = label.to(DEVICE)  # 라벨을 디바이스에 올림\n",
        "        optimizer.zero_grad()  # 옵티마이저의 기울기 초기화\n",
        "        output = model(image)  # 모델에 입력하여 출력 도출\n",
        "        loss = criterion(output, label)  # 손실 계산\n",
        "        loss.backward()  # 역전파로 기울기 계산\n",
        "        optimizer.step()  # 옵티마이저로 가중치 갱신\n",
        "\n",
        "        if batch_idx % log_interval == 0:  # 로그 인터벌마다 출력\n",
        "            print(\"Train Epoch: {} [{}/{} ({:.0f}%)]\\tTrain Loss: {:.6f}\".format(\n",
        "                epoch, batch_idx * len(image),\n",
        "                len(train_loader.dataset), 100. * batch_idx / len(train_loader),\n",
        "                loss.item()))"
      ]
    },
    {
      "cell_type": "code",
      "execution_count": null,
      "metadata": {
        "id": "pSitZ0KoAOVZ"
      },
      "outputs": [],
      "source": [
        "# 모델을 평가하는 함수 정의\n",
        "def evaluate(model, test_loader):\n",
        "    model.eval()  # 모델을 평가 모드로 설정\n",
        "    test_loss = 0\n",
        "    correct = 0\n",
        "\n",
        "    with torch.no_grad():  # 평가 시 기울기 계산 비활성화\n",
        "        for image, label in test_loader:\n",
        "            image = image.to(DEVICE)  # 이미지를 디바이스에 올림\n",
        "            label = label.to(DEVICE)  # 라벨을 디바이스에 올림\n",
        "            output = model(image)  # 모델에 입력하여 출력 도출\n",
        "            test_loss += criterion(output, label).item()  # 손실 합산\n",
        "            prediction = output.max(1, keepdim=True)[1]  # 예측된 라벨 도출\n",
        "            correct += prediction.eq(label.view_as(prediction)).sum().item()  # 맞춘 개수 합산\n",
        "\n",
        "    test_loss /= (len(test_loader.dataset) / BATCH_SIZE)  # 평균 손실 계산\n",
        "    test_accuracy = 100. * correct / len(test_loader.dataset)  # 정확도 계산\n",
        "    return test_loss, test_accuracy"
      ]
    },
    {
      "cell_type": "code",
      "execution_count": null,
      "metadata": {
        "colab": {
          "base_uri": "https://localhost:8080/"
        },
        "id": "Ra-emiFhAQQk",
        "outputId": "4ca3d881-903b-498e-81e1-0b7c80721605"
      },
      "outputs": [
        {
          "name": "stdout",
          "output_type": "stream",
          "text": [
            "Train Epoch: 1 [0/60000 (0%)]\tTrain Loss: 2.315363\n",
            "Train Epoch: 1 [6400/60000 (11%)]\tTrain Loss: 2.312110\n",
            "Train Epoch: 1 [12800/60000 (21%)]\tTrain Loss: 2.325391\n",
            "Train Epoch: 1 [19200/60000 (32%)]\tTrain Loss: 2.321177\n",
            "Train Epoch: 1 [25600/60000 (43%)]\tTrain Loss: 2.286109\n",
            "Train Epoch: 1 [32000/60000 (53%)]\tTrain Loss: 2.279385\n",
            "Train Epoch: 1 [38400/60000 (64%)]\tTrain Loss: 2.288444\n",
            "Train Epoch: 1 [44800/60000 (75%)]\tTrain Loss: 2.253508\n",
            "Train Epoch: 1 [51200/60000 (85%)]\tTrain Loss: 2.233262\n",
            "Train Epoch: 1 [57600/60000 (96%)]\tTrain Loss: 2.251346\n",
            "\n",
            "[EPOCH: 1], \tTest Loss: 2.2308, \tTest Accuracy: 26.43 % \n",
            "\n",
            "Train Epoch: 2 [0/60000 (0%)]\tTrain Loss: 2.206478\n",
            "Train Epoch: 2 [6400/60000 (11%)]\tTrain Loss: 2.142730\n",
            "Train Epoch: 2 [12800/60000 (21%)]\tTrain Loss: 2.188817\n",
            "Train Epoch: 2 [19200/60000 (32%)]\tTrain Loss: 2.035568\n",
            "Train Epoch: 2 [25600/60000 (43%)]\tTrain Loss: 1.993007\n",
            "Train Epoch: 2 [32000/60000 (53%)]\tTrain Loss: 1.781295\n",
            "Train Epoch: 2 [38400/60000 (64%)]\tTrain Loss: 1.797304\n",
            "Train Epoch: 2 [44800/60000 (75%)]\tTrain Loss: 1.642449\n",
            "Train Epoch: 2 [51200/60000 (85%)]\tTrain Loss: 1.413603\n",
            "Train Epoch: 2 [57600/60000 (96%)]\tTrain Loss: 1.501696\n",
            "\n",
            "[EPOCH: 2], \tTest Loss: 1.2794, \tTest Accuracy: 57.88 % \n",
            "\n",
            "Train Epoch: 3 [0/60000 (0%)]\tTrain Loss: 1.407769\n",
            "Train Epoch: 3 [6400/60000 (11%)]\tTrain Loss: 1.306475\n",
            "Train Epoch: 3 [12800/60000 (21%)]\tTrain Loss: 1.007979\n",
            "Train Epoch: 3 [19200/60000 (32%)]\tTrain Loss: 0.985044\n",
            "Train Epoch: 3 [25600/60000 (43%)]\tTrain Loss: 0.885101\n",
            "Train Epoch: 3 [32000/60000 (53%)]\tTrain Loss: 0.941649\n",
            "Train Epoch: 3 [38400/60000 (64%)]\tTrain Loss: 0.949091\n",
            "Train Epoch: 3 [44800/60000 (75%)]\tTrain Loss: 0.750662\n",
            "Train Epoch: 3 [51200/60000 (85%)]\tTrain Loss: 0.638755\n",
            "Train Epoch: 3 [57600/60000 (96%)]\tTrain Loss: 0.828599\n",
            "\n",
            "[EPOCH: 3], \tTest Loss: 0.7560, \tTest Accuracy: 76.78 % \n",
            "\n",
            "Train Epoch: 4 [0/60000 (0%)]\tTrain Loss: 0.616379\n",
            "Train Epoch: 4 [6400/60000 (11%)]\tTrain Loss: 0.607867\n",
            "Train Epoch: 4 [12800/60000 (21%)]\tTrain Loss: 0.641247\n",
            "Train Epoch: 4 [19200/60000 (32%)]\tTrain Loss: 0.634755\n",
            "Train Epoch: 4 [25600/60000 (43%)]\tTrain Loss: 0.655638\n",
            "Train Epoch: 4 [32000/60000 (53%)]\tTrain Loss: 0.732942\n",
            "Train Epoch: 4 [38400/60000 (64%)]\tTrain Loss: 0.653756\n",
            "Train Epoch: 4 [44800/60000 (75%)]\tTrain Loss: 0.694223\n",
            "Train Epoch: 4 [51200/60000 (85%)]\tTrain Loss: 0.411898\n",
            "Train Epoch: 4 [57600/60000 (96%)]\tTrain Loss: 0.611089\n",
            "\n",
            "[EPOCH: 4], \tTest Loss: 0.5579, \tTest Accuracy: 83.96 % \n",
            "\n",
            "Train Epoch: 5 [0/60000 (0%)]\tTrain Loss: 0.710685\n",
            "Train Epoch: 5 [6400/60000 (11%)]\tTrain Loss: 0.593046\n",
            "Train Epoch: 5 [12800/60000 (21%)]\tTrain Loss: 0.595587\n",
            "Train Epoch: 5 [19200/60000 (32%)]\tTrain Loss: 0.486468\n",
            "Train Epoch: 5 [25600/60000 (43%)]\tTrain Loss: 0.542072\n",
            "Train Epoch: 5 [32000/60000 (53%)]\tTrain Loss: 0.662486\n",
            "Train Epoch: 5 [38400/60000 (64%)]\tTrain Loss: 0.336867\n",
            "Train Epoch: 5 [44800/60000 (75%)]\tTrain Loss: 0.527210\n",
            "Train Epoch: 5 [51200/60000 (85%)]\tTrain Loss: 0.565866\n",
            "Train Epoch: 5 [57600/60000 (96%)]\tTrain Loss: 0.337896\n",
            "\n",
            "[EPOCH: 5], \tTest Loss: 0.4540, \tTest Accuracy: 86.99 % \n",
            "\n",
            "Train Epoch: 6 [0/60000 (0%)]\tTrain Loss: 0.260802\n",
            "Train Epoch: 6 [6400/60000 (11%)]\tTrain Loss: 0.458006\n",
            "Train Epoch: 6 [12800/60000 (21%)]\tTrain Loss: 0.301811\n",
            "Train Epoch: 6 [19200/60000 (32%)]\tTrain Loss: 0.290196\n",
            "Train Epoch: 6 [25600/60000 (43%)]\tTrain Loss: 0.310013\n",
            "Train Epoch: 6 [32000/60000 (53%)]\tTrain Loss: 0.748600\n",
            "Train Epoch: 6 [38400/60000 (64%)]\tTrain Loss: 0.756852\n",
            "Train Epoch: 6 [44800/60000 (75%)]\tTrain Loss: 0.541619\n",
            "Train Epoch: 6 [51200/60000 (85%)]\tTrain Loss: 0.296197\n",
            "Train Epoch: 6 [57600/60000 (96%)]\tTrain Loss: 0.308041\n",
            "\n",
            "[EPOCH: 6], \tTest Loss: 0.4087, \tTest Accuracy: 88.22 % \n",
            "\n",
            "Train Epoch: 7 [0/60000 (0%)]\tTrain Loss: 0.325149\n",
            "Train Epoch: 7 [6400/60000 (11%)]\tTrain Loss: 0.242253\n",
            "Train Epoch: 7 [12800/60000 (21%)]\tTrain Loss: 0.509586\n",
            "Train Epoch: 7 [19200/60000 (32%)]\tTrain Loss: 0.440895\n",
            "Train Epoch: 7 [25600/60000 (43%)]\tTrain Loss: 0.581470\n",
            "Train Epoch: 7 [32000/60000 (53%)]\tTrain Loss: 0.369464\n",
            "Train Epoch: 7 [38400/60000 (64%)]\tTrain Loss: 0.531765\n",
            "Train Epoch: 7 [44800/60000 (75%)]\tTrain Loss: 0.487452\n",
            "Train Epoch: 7 [51200/60000 (85%)]\tTrain Loss: 0.831998\n",
            "Train Epoch: 7 [57600/60000 (96%)]\tTrain Loss: 0.256415\n",
            "\n",
            "[EPOCH: 7], \tTest Loss: 0.3800, \tTest Accuracy: 89.02 % \n",
            "\n",
            "Train Epoch: 8 [0/60000 (0%)]\tTrain Loss: 0.404015\n",
            "Train Epoch: 8 [6400/60000 (11%)]\tTrain Loss: 0.401291\n",
            "Train Epoch: 8 [12800/60000 (21%)]\tTrain Loss: 0.243184\n",
            "Train Epoch: 8 [19200/60000 (32%)]\tTrain Loss: 0.598455\n",
            "Train Epoch: 8 [25600/60000 (43%)]\tTrain Loss: 0.274503\n",
            "Train Epoch: 8 [32000/60000 (53%)]\tTrain Loss: 0.636169\n",
            "Train Epoch: 8 [38400/60000 (64%)]\tTrain Loss: 0.141339\n",
            "Train Epoch: 8 [44800/60000 (75%)]\tTrain Loss: 0.268570\n",
            "Train Epoch: 8 [51200/60000 (85%)]\tTrain Loss: 0.397367\n",
            "Train Epoch: 8 [57600/60000 (96%)]\tTrain Loss: 0.245741\n",
            "\n",
            "[EPOCH: 8], \tTest Loss: 0.3597, \tTest Accuracy: 89.54 % \n",
            "\n",
            "Train Epoch: 9 [0/60000 (0%)]\tTrain Loss: 0.213463\n",
            "Train Epoch: 9 [6400/60000 (11%)]\tTrain Loss: 0.384494\n",
            "Train Epoch: 9 [12800/60000 (21%)]\tTrain Loss: 0.342671\n",
            "Train Epoch: 9 [19200/60000 (32%)]\tTrain Loss: 0.579793\n",
            "Train Epoch: 9 [25600/60000 (43%)]\tTrain Loss: 0.234486\n",
            "Train Epoch: 9 [32000/60000 (53%)]\tTrain Loss: 0.365215\n",
            "Train Epoch: 9 [38400/60000 (64%)]\tTrain Loss: 0.213612\n",
            "Train Epoch: 9 [44800/60000 (75%)]\tTrain Loss: 0.356503\n",
            "Train Epoch: 9 [51200/60000 (85%)]\tTrain Loss: 0.223088\n",
            "Train Epoch: 9 [57600/60000 (96%)]\tTrain Loss: 1.040604\n",
            "\n",
            "[EPOCH: 9], \tTest Loss: 0.3435, \tTest Accuracy: 90.03 % \n",
            "\n",
            "Train Epoch: 10 [0/60000 (0%)]\tTrain Loss: 0.527349\n",
            "Train Epoch: 10 [6400/60000 (11%)]\tTrain Loss: 0.204574\n",
            "Train Epoch: 10 [12800/60000 (21%)]\tTrain Loss: 0.360832\n",
            "Train Epoch: 10 [19200/60000 (32%)]\tTrain Loss: 0.409121\n",
            "Train Epoch: 10 [25600/60000 (43%)]\tTrain Loss: 0.289035\n",
            "Train Epoch: 10 [32000/60000 (53%)]\tTrain Loss: 0.360693\n",
            "Train Epoch: 10 [38400/60000 (64%)]\tTrain Loss: 0.313615\n",
            "Train Epoch: 10 [44800/60000 (75%)]\tTrain Loss: 0.322731\n",
            "Train Epoch: 10 [51200/60000 (85%)]\tTrain Loss: 0.344085\n",
            "Train Epoch: 10 [57600/60000 (96%)]\tTrain Loss: 0.404481\n",
            "\n",
            "[EPOCH: 10], \tTest Loss: 0.3328, \tTest Accuracy: 90.38 % \n",
            "\n"
          ]
        }
      ],
      "source": [
        "# 지정한 에포크 수만큼 학습 및 평가 실행\n",
        "for epoch in range(1, EPOCHS + 1):\n",
        "    train(model, train_loader, optimizer, log_interval=200)  # 학습 실행\n",
        "    test_loss, test_accuracy = evaluate(model, test_loader)  # 평가 실행\n",
        "    print(\"\\n[EPOCH: {}], \\tTest Loss: {:.4f}, \\tTest Accuracy: {:.2f} % \\n\".format(\n",
        "        epoch, test_loss, test_accuracy))  # 에포크 별 평가 결과 출력"
      ]
    }
  ],
  "metadata": {
    "colab": {
      "provenance": [],
      "gpuType": "T4",
      "mount_file_id": "16FJsNJgyuhykigHLbq5GY07D_1cfa2UI",
      "authorship_tag": "ABX9TyPshf309vHnVC7eNJ5FAifo",
      "include_colab_link": true
    },
    "kernelspec": {
      "display_name": "Python 3",
      "name": "python3"
    },
    "language_info": {
      "name": "python"
    },
    "accelerator": "GPU"
  },
  "nbformat": 4,
  "nbformat_minor": 0
}