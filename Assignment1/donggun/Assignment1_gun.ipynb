{
  "nbformat": 4,
  "nbformat_minor": 0,
  "metadata": {
    "colab": {
      "provenance": [],
      "gpuType": "T4"
    },
    "kernelspec": {
      "name": "python3",
      "display_name": "Python 3"
    },
    "language_info": {
      "name": "python"
    },
    "accelerator": "GPU"
  },
  "cells": [
    {
      "cell_type": "markdown",
      "source": [
        "# 2024 Winter Introduction to Deep Learning\n",
        "### Based on Prof. Oh's Youtube Lecture\n",
        "https://youtube.com/playlist?list=PLvbUC2Zh5oJvByu9KL82bswYT2IKf0K1M\n",
        "\n",
        "> Assignment #1\n",
        "\n",
        "\n",
        "*   Youtube Lecture #1-3\n",
        "*   Written by Seungeun Lee"
      ],
      "metadata": {
        "id": "YcXb0XLEvHns"
      }
    },
    {
      "cell_type": "markdown",
      "source": [
        "### Notice for Python\n",
        "##### If you are new to Python, please follow the Youtube link below:\n",
        "##### https://youtube.com/playlist?list=PLGPF8gvWLYyrkF85itdBHaOLSVbtdzBww\n",
        "##### You really don't have to understand everything in this video!! Just get a feel for Python:)\n",
        "##### If you have any trouble installing Python3, just use online python compiler -- I recommend https://www.programiz.com/python-programming/online-compiler/"
      ],
      "metadata": {
        "id": "1RnTlnjlcVlu"
      }
    },
    {
      "cell_type": "markdown",
      "source": [
        "## How to use Google Colaboratory"
      ],
      "metadata": {
        "id": "qM2kM5G7BYZr"
      }
    },
    {
      "cell_type": "markdown",
      "source": [
        "##### First, please download a zip file from https://www.kaggle.com/datasets/andrewmvd/animal-faces\n",
        "##### Activate you Colaboratory and upload your zip file -- please follow the links below:\n",
        "\n",
        "*   https://yeko90.tistory.com/entry/how-use-google-colab\n",
        "*   https://yeko90.tistory.com/entry/%ED%8C%8C%EC%9D%B4%EC%8D%AC-colab%EC%BD%94%EB%9E%A9%EC%97%90%EC%84%9C-%EC%95%95%EC%B6%95%ED%8C%8C%EC%9D%BC-%ED%92%80%EA%B8%B0"
      ],
      "metadata": {
        "id": "l-eq03krP21I"
      }
    },
    {
      "cell_type": "code",
      "source": [
        "# connecting Google Drive\n",
        "from google.colab import drive\n",
        "drive.mount('/content/drive')"
      ],
      "metadata": {
        "id": "TSl6zem51bVh",
        "colab": {
          "base_uri": "https://localhost:8080/"
        },
        "outputId": "cfab62f4-96d8-4bb5-ded5-729c27736b0f"
      },
      "execution_count": 119,
      "outputs": [
        {
          "output_type": "stream",
          "name": "stdout",
          "text": [
            "Drive already mounted at /content/drive; to attempt to forcibly remount, call drive.mount(\"/content/drive\", force_remount=True).\n"
          ]
        }
      ]
    },
    {
      "cell_type": "markdown",
      "source": [
        "## How to Linux (Basic commands of Linux)\n",
        "### Almost every Deep Learning Research is conducted based on Linux, including Colab."
      ],
      "metadata": {
        "id": "4a4q9MievMjx"
      }
    },
    {
      "cell_type": "code",
      "source": [
        "!pwd # current position"
      ],
      "metadata": {
        "id": "sm9KafgevKwr",
        "colab": {
          "base_uri": "https://localhost:8080/"
        },
        "outputId": "d087cf23-a93f-4b4a-d4a6-532fa7cebacd"
      },
      "execution_count": 120,
      "outputs": [
        {
          "output_type": "stream",
          "name": "stdout",
          "text": [
            "/content/drive/My Drive/intro-dl/afhq/new_folder\n"
          ]
        }
      ]
    },
    {
      "cell_type": "code",
      "source": [
        "!ls -l # list of files that are stored in the current directory"
      ],
      "metadata": {
        "id": "G6b3U7OwvTr8",
        "colab": {
          "base_uri": "https://localhost:8080/"
        },
        "outputId": "b78c2ba1-d91b-4df1-f60c-638b1e78b665"
      },
      "execution_count": 7,
      "outputs": [
        {
          "output_type": "stream",
          "name": "stdout",
          "text": [
            "total 8\n",
            "drwx------ 5 root root 4096 Apr  3 03:58 drive\n",
            "drwxr-xr-x 1 root root 4096 Apr  1 13:24 sample_data\n"
          ]
        }
      ]
    },
    {
      "cell_type": "code",
      "source": [
        "# 'c'hange 'd'irectory"
      ],
      "metadata": {
        "id": "BlL5UGUb2eHI"
      },
      "execution_count": 8,
      "outputs": []
    },
    {
      "cell_type": "code",
      "source": [
        "%cd /content/drive/MyDrive/"
      ],
      "metadata": {
        "id": "ePdVIdBB8_9i",
        "colab": {
          "base_uri": "https://localhost:8080/"
        },
        "outputId": "a6509ac6-d5cf-4f51-8a3e-13f3ac5dfe00"
      },
      "execution_count": 9,
      "outputs": [
        {
          "output_type": "stream",
          "name": "stdout",
          "text": [
            "/content/drive/MyDrive\n"
          ]
        }
      ]
    },
    {
      "cell_type": "code",
      "source": [
        "# 'm'a'k'e 'dir'ectory\n",
        "!mkdir intro-dl"
      ],
      "metadata": {
        "id": "pKcf1Vj99IuR",
        "colab": {
          "base_uri": "https://localhost:8080/"
        },
        "outputId": "9aafa312-ec71-4dc3-86fe-56c611c4e565"
      },
      "execution_count": 10,
      "outputs": [
        {
          "output_type": "stream",
          "name": "stdout",
          "text": [
            "mkdir: cannot create directory ‘intro-dl’: File exists\n"
          ]
        }
      ]
    },
    {
      "cell_type": "code",
      "source": [
        "%cd /content/drive/MyDrive/intro-dl"
      ],
      "metadata": {
        "id": "whIce9pwvW3r",
        "colab": {
          "base_uri": "https://localhost:8080/"
        },
        "outputId": "34d3c553-0a7d-4bdc-9938-9acf400823fd"
      },
      "execution_count": 11,
      "outputs": [
        {
          "output_type": "stream",
          "name": "stdout",
          "text": [
            "/content/drive/MyDrive/intro-dl\n"
          ]
        }
      ]
    },
    {
      "cell_type": "code",
      "source": [
        "!pwd"
      ],
      "metadata": {
        "id": "gF-MhR4nvz4m",
        "colab": {
          "base_uri": "https://localhost:8080/"
        },
        "outputId": "50638bfe-bafa-4c8b-9cc4-6b62852d5c66"
      },
      "execution_count": 12,
      "outputs": [
        {
          "output_type": "stream",
          "name": "stdout",
          "text": [
            "/content/drive/MyDrive/intro-dl\n"
          ]
        }
      ]
    },
    {
      "cell_type": "code",
      "source": [
        "# !unzip -qq zip file name -d destination\n",
        "!unzip -qq /content/drive/MyDrive/intro-dl/archive.zip -d /content/drive/MyDrive/intro-dl"
      ],
      "metadata": {
        "id": "svAE4A5V2RYc"
      },
      "execution_count": 13,
      "outputs": []
    },
    {
      "cell_type": "code",
      "source": [
        "!ls -l"
      ],
      "metadata": {
        "id": "zouFABOC7FV7",
        "colab": {
          "base_uri": "https://localhost:8080/"
        },
        "outputId": "58d4a95e-103a-426b-e479-346e525603fa"
      },
      "execution_count": 14,
      "outputs": [
        {
          "output_type": "stream",
          "name": "stdout",
          "text": [
            "total 712603\n",
            "drwx------ 4 root root      4096 Apr  3 04:00 afhq\n",
            "-rw------- 1 root root 729700755 Apr  3 03:55 archive.zip\n"
          ]
        }
      ]
    },
    {
      "cell_type": "code",
      "source": [
        "%cd afhq"
      ],
      "metadata": {
        "id": "qhm05uhU7LxM",
        "colab": {
          "base_uri": "https://localhost:8080/"
        },
        "outputId": "5e0acaf3-d33e-4065-9bb2-d4072c56c142"
      },
      "execution_count": 15,
      "outputs": [
        {
          "output_type": "stream",
          "name": "stdout",
          "text": [
            "/content/drive/MyDrive/intro-dl/afhq\n"
          ]
        }
      ]
    },
    {
      "cell_type": "code",
      "source": [
        "!ls -l"
      ],
      "metadata": {
        "id": "sW6nmyEQ7N2o",
        "colab": {
          "base_uri": "https://localhost:8080/"
        },
        "outputId": "88c37e08-92f3-4279-c420-587b61affe28"
      },
      "execution_count": 16,
      "outputs": [
        {
          "output_type": "stream",
          "name": "stdout",
          "text": [
            "total 8\n",
            "drwx------ 5 root root 4096 Apr  3 03:59 train\n",
            "drwx------ 5 root root 4096 Apr  3 04:00 val\n"
          ]
        }
      ]
    },
    {
      "cell_type": "markdown",
      "source": [
        "## How to use GPU @ Google Colaboratory"
      ],
      "metadata": {
        "id": "QoTI2KNJBrDA"
      }
    },
    {
      "cell_type": "code",
      "source": [
        "!nvidia-smi\n",
        "# nothing will be shown (command not found)"
      ],
      "metadata": {
        "id": "7FToR-SWBusO",
        "colab": {
          "base_uri": "https://localhost:8080/"
        },
        "outputId": "aac84a9a-4b41-4dba-ad04-b8840fb91dbd"
      },
      "execution_count": 17,
      "outputs": [
        {
          "output_type": "stream",
          "name": "stdout",
          "text": [
            "Wed Apr  3 04:02:39 2024       \n",
            "+---------------------------------------------------------------------------------------+\n",
            "| NVIDIA-SMI 535.104.05             Driver Version: 535.104.05   CUDA Version: 12.2     |\n",
            "|-----------------------------------------+----------------------+----------------------+\n",
            "| GPU  Name                 Persistence-M | Bus-Id        Disp.A | Volatile Uncorr. ECC |\n",
            "| Fan  Temp   Perf          Pwr:Usage/Cap |         Memory-Usage | GPU-Util  Compute M. |\n",
            "|                                         |                      |               MIG M. |\n",
            "|=========================================+======================+======================|\n",
            "|   0  Tesla T4                       Off | 00000000:00:04.0 Off |                    0 |\n",
            "| N/A   48C    P8              10W /  70W |      0MiB / 15360MiB |      0%      Default |\n",
            "|                                         |                      |                  N/A |\n",
            "+-----------------------------------------+----------------------+----------------------+\n",
            "                                                                                         \n",
            "+---------------------------------------------------------------------------------------+\n",
            "| Processes:                                                                            |\n",
            "|  GPU   GI   CI        PID   Type   Process name                            GPU Memory |\n",
            "|        ID   ID                                                             Usage      |\n",
            "|=======================================================================================|\n",
            "|  No running processes found                                                           |\n",
            "+---------------------------------------------------------------------------------------+\n"
          ]
        }
      ]
    },
    {
      "cell_type": "code",
      "source": [
        "# Activate your GPU\n",
        "## Refer to this link:\n",
        "## https://wscode.tistory.com/30\n",
        "## OR 런타임 - 런타임 유형 변경 - T4 GPU"
      ],
      "metadata": {
        "id": "D8_VowTkBweJ"
      },
      "execution_count": 18,
      "outputs": []
    },
    {
      "cell_type": "code",
      "source": [
        "!nvidia-smi # then the results will be shown"
      ],
      "metadata": {
        "id": "X20BdXf_CFue",
        "colab": {
          "base_uri": "https://localhost:8080/"
        },
        "outputId": "08a33495-9b42-40a0-cb3f-fd092f789e2a"
      },
      "execution_count": 19,
      "outputs": [
        {
          "output_type": "stream",
          "name": "stdout",
          "text": [
            "Wed Apr  3 04:02:47 2024       \n",
            "+---------------------------------------------------------------------------------------+\n",
            "| NVIDIA-SMI 535.104.05             Driver Version: 535.104.05   CUDA Version: 12.2     |\n",
            "|-----------------------------------------+----------------------+----------------------+\n",
            "| GPU  Name                 Persistence-M | Bus-Id        Disp.A | Volatile Uncorr. ECC |\n",
            "| Fan  Temp   Perf          Pwr:Usage/Cap |         Memory-Usage | GPU-Util  Compute M. |\n",
            "|                                         |                      |               MIG M. |\n",
            "|=========================================+======================+======================|\n",
            "|   0  Tesla T4                       Off | 00000000:00:04.0 Off |                    0 |\n",
            "| N/A   48C    P8              10W /  70W |      0MiB / 15360MiB |      0%      Default |\n",
            "|                                         |                      |                  N/A |\n",
            "+-----------------------------------------+----------------------+----------------------+\n",
            "                                                                                         \n",
            "+---------------------------------------------------------------------------------------+\n",
            "| Processes:                                                                            |\n",
            "|  GPU   GI   CI        PID   Type   Process name                            GPU Memory |\n",
            "|        ID   ID                                                             Usage      |\n",
            "|=======================================================================================|\n",
            "|  No running processes found                                                           |\n",
            "+---------------------------------------------------------------------------------------+\n"
          ]
        }
      ]
    },
    {
      "cell_type": "markdown",
      "source": [
        "## Basic Python Libraries"
      ],
      "metadata": {
        "id": "8Yop2wQsveMD"
      }
    },
    {
      "cell_type": "markdown",
      "source": [
        "### (1) os"
      ],
      "metadata": {
        "id": "-jnL1k14C272"
      }
    },
    {
      "cell_type": "code",
      "source": [
        "import os # import package os"
      ],
      "metadata": {
        "id": "0rzTV2AwvpJH"
      },
      "execution_count": 20,
      "outputs": []
    },
    {
      "cell_type": "code",
      "source": [
        "os.getcwd() # same as !pwd, current position -> but uses python library os"
      ],
      "metadata": {
        "id": "-y2hWmdgvunl",
        "colab": {
          "base_uri": "https://localhost:8080/"
        },
        "outputId": "3c4552cf-d812-4b48-9866-f521c4cdbeea"
      },
      "execution_count": 21,
      "outputs": [
        {
          "output_type": "execute_result",
          "data": {
            "text/plain": [
              "'/content/drive/MyDrive/intro-dl/afhq'"
            ],
            "application/vnd.google.colaboratory.intrinsic+json": {
              "type": "string"
            }
          },
          "metadata": {},
          "execution_count": 21
        }
      ]
    },
    {
      "cell_type": "code",
      "source": [
        "os.chdir('/content/drive/MyDrive/intro-dl') # 'ch'ange 'dir'ectory"
      ],
      "metadata": {
        "id": "3RE7-_Zy7nfL"
      },
      "execution_count": 22,
      "outputs": []
    },
    {
      "cell_type": "code",
      "source": [
        "os.mkdir('temp') # 'm'a'k'e 'dir'ectory -> but uses python library os"
      ],
      "metadata": {
        "id": "K1xE348r9PkO"
      },
      "execution_count": 23,
      "outputs": []
    },
    {
      "cell_type": "code",
      "source": [
        "os.listdir(os.getcwd()) # file/folder 'list' of the current 'dir'ectory -> but uses python library os"
      ],
      "metadata": {
        "id": "MJ7QV_a59R63",
        "colab": {
          "base_uri": "https://localhost:8080/"
        },
        "outputId": "47fb230a-36b7-4640-aefb-f86b99978ea9"
      },
      "execution_count": 24,
      "outputs": [
        {
          "output_type": "execute_result",
          "data": {
            "text/plain": [
              "['archive.zip', 'afhq', 'temp']"
            ]
          },
          "metadata": {},
          "execution_count": 24
        }
      ]
    },
    {
      "cell_type": "code",
      "source": [
        "len(os.listdir(os.getcwd())) # # of files or folders of the current 'dir'ectory"
      ],
      "metadata": {
        "id": "07cjHWygjt-g",
        "colab": {
          "base_uri": "https://localhost:8080/"
        },
        "outputId": "3d020aff-8ef5-4d0e-bbbf-c813d1210951"
      },
      "execution_count": 25,
      "outputs": [
        {
          "output_type": "execute_result",
          "data": {
            "text/plain": [
              "3"
            ]
          },
          "metadata": {},
          "execution_count": 25
        }
      ]
    },
    {
      "cell_type": "markdown",
      "source": [
        "### Question 1. How can I move to the directory I want using the library os & Linux Command?\n",
        "\n",
        "\n",
        "*   I'd like to move to the directory name '/content/sample_data'."
      ],
      "metadata": {
        "id": "JtrlgMOov47e"
      }
    },
    {
      "cell_type": "code",
      "source": [
        "# Your Answer\n",
        "\n",
        "# (1) os\n",
        "os.chdir('/content/sample_data')\n",
        "os.getcwd()"
      ],
      "metadata": {
        "id": "MfYQf0VKvyR5",
        "colab": {
          "base_uri": "https://localhost:8080/",
          "height": 36
        },
        "outputId": "823ae37a-bfe1-481b-bb28-fc78d9663573"
      },
      "execution_count": 29,
      "outputs": [
        {
          "output_type": "execute_result",
          "data": {
            "text/plain": [
              "'/content/sample_data'"
            ],
            "application/vnd.google.colaboratory.intrinsic+json": {
              "type": "string"
            }
          },
          "metadata": {},
          "execution_count": 29
        }
      ]
    },
    {
      "cell_type": "code",
      "source": [
        "# (2) cd\n",
        "%cd /content/sample_data\n",
        "!pwd"
      ],
      "metadata": {
        "id": "CJ4oHU5GOQ_1",
        "colab": {
          "base_uri": "https://localhost:8080/"
        },
        "outputId": "c4637c62-2ff2-4a1e-9e6a-27e01c6ec841"
      },
      "execution_count": 32,
      "outputs": [
        {
          "output_type": "stream",
          "name": "stdout",
          "text": [
            "/content/drive/MyDrive/intro-dl/afhq\n",
            "/content/sample_data\n"
          ]
        }
      ]
    },
    {
      "cell_type": "markdown",
      "source": [
        "### (2) shutil"
      ],
      "metadata": {
        "id": "1rEx93C2C-lH"
      }
    },
    {
      "cell_type": "code",
      "source": [
        "import shutil"
      ],
      "metadata": {
        "id": "TuL9F81bLK4k"
      },
      "execution_count": 33,
      "outputs": []
    },
    {
      "cell_type": "code",
      "source": [
        "os.chdir('/content/drive/MyDrive/intro-dl/afhq')"
      ],
      "metadata": {
        "id": "Aam3dqHUOiMM"
      },
      "execution_count": 34,
      "outputs": []
    },
    {
      "cell_type": "code",
      "source": [
        "!ls -l"
      ],
      "metadata": {
        "id": "7mlbiHUYOqki",
        "colab": {
          "base_uri": "https://localhost:8080/"
        },
        "outputId": "690f3640-ce0c-4495-f52e-086188a1d338"
      },
      "execution_count": 35,
      "outputs": [
        {
          "output_type": "stream",
          "name": "stdout",
          "text": [
            "total 8\n",
            "drwx------ 5 root root 4096 Apr  3 03:59 train\n",
            "drwx------ 5 root root 4096 Apr  3 04:00 val\n"
          ]
        }
      ]
    },
    {
      "cell_type": "code",
      "source": [
        "f = open(\"new.txt\", 'w') # make a txt file name new\n",
        "f.close()"
      ],
      "metadata": {
        "id": "ZrHYOq4Gc6I2"
      },
      "execution_count": 38,
      "outputs": []
    },
    {
      "cell_type": "code",
      "source": [
        "!ls -l"
      ],
      "metadata": {
        "id": "dPfk9fWmddqq",
        "colab": {
          "base_uri": "https://localhost:8080/"
        },
        "outputId": "71de3a1e-4ae4-404c-994b-7f7084bfccfa"
      },
      "execution_count": 39,
      "outputs": [
        {
          "output_type": "stream",
          "name": "stdout",
          "text": [
            "total 8\n",
            "-rw------- 1 root root    0 Apr  3 04:06 new.txt\n",
            "drwx------ 5 root root 4096 Apr  3 03:59 train\n",
            "drwx------ 5 root root 4096 Apr  3 04:00 val\n"
          ]
        }
      ]
    },
    {
      "cell_type": "code",
      "source": [
        "!mkdir new_folder"
      ],
      "metadata": {
        "id": "YH4JK36edvo4"
      },
      "execution_count": 40,
      "outputs": []
    },
    {
      "cell_type": "code",
      "source": [
        "!ls -l"
      ],
      "metadata": {
        "id": "qfiaPotEeCSG",
        "colab": {
          "base_uri": "https://localhost:8080/"
        },
        "outputId": "1919d928-6b04-4cfb-b486-27803c50880d"
      },
      "execution_count": 41,
      "outputs": [
        {
          "output_type": "stream",
          "name": "stdout",
          "text": [
            "total 12\n",
            "drwx------ 2 root root 4096 Apr  3 04:06 new_folder\n",
            "-rw------- 1 root root    0 Apr  3 04:06 new.txt\n",
            "drwx------ 5 root root 4096 Apr  3 03:59 train\n",
            "drwx------ 5 root root 4096 Apr  3 04:00 val\n"
          ]
        }
      ]
    },
    {
      "cell_type": "code",
      "source": [
        "src = '/content/drive/MyDrive/intro-dl/afhq/new.txt' # source directory -- python convention\n",
        "dst = '/content/drive/MyDrive/intro-dl/afhq/new_folder/new.txt' # destination directory -- python convention"
      ],
      "metadata": {
        "id": "sLR16X9adgmi"
      },
      "execution_count": 42,
      "outputs": []
    },
    {
      "cell_type": "code",
      "source": [
        "shutil.move(src, dst) # from source to target -- move"
      ],
      "metadata": {
        "id": "XZ9XvfL_d1Dc",
        "colab": {
          "base_uri": "https://localhost:8080/",
          "height": 36
        },
        "outputId": "9d8f78cf-59a0-47ab-d345-e04bef9b279c"
      },
      "execution_count": 43,
      "outputs": [
        {
          "output_type": "execute_result",
          "data": {
            "text/plain": [
              "'/content/drive/MyDrive/intro-dl/afhq/new_folder/new.txt'"
            ],
            "application/vnd.google.colaboratory.intrinsic+json": {
              "type": "string"
            }
          },
          "metadata": {},
          "execution_count": 43
        }
      ]
    },
    {
      "cell_type": "code",
      "source": [
        "%cd /content/drive/MyDrive/intro-dl/afhq/new_folder"
      ],
      "metadata": {
        "id": "I6yWt4rvePBF",
        "colab": {
          "base_uri": "https://localhost:8080/"
        },
        "outputId": "5ba4cc26-18d5-4262-abbe-8fc198b2775c"
      },
      "execution_count": 44,
      "outputs": [
        {
          "output_type": "stream",
          "name": "stdout",
          "text": [
            "/content/drive/MyDrive/intro-dl/afhq/new_folder\n"
          ]
        }
      ]
    },
    {
      "cell_type": "code",
      "source": [
        "!ls -l"
      ],
      "metadata": {
        "id": "q3Xh7zzIeUxS",
        "colab": {
          "base_uri": "https://localhost:8080/"
        },
        "outputId": "c9acd154-81bc-459a-f039-35e94ba7fac3"
      },
      "execution_count": 45,
      "outputs": [
        {
          "output_type": "stream",
          "name": "stdout",
          "text": [
            "total 0\n",
            "-rw------- 1 root root 0 Apr  3 04:06 new.txt\n"
          ]
        }
      ]
    },
    {
      "cell_type": "code",
      "source": [
        "src2 = '/content/drive/MyDrive/intro-dl/afhq/new_folder/new.txt' # source directory -- python convention\n",
        "dst2 = '/content/drive/MyDrive/intro-dl/afhq/new_folder/new2.txt' # destination directory -- python convention"
      ],
      "metadata": {
        "id": "55Kp2uNpeY4q"
      },
      "execution_count": 46,
      "outputs": []
    },
    {
      "cell_type": "code",
      "source": [
        "shutil.copy(src2, dst2) # from source to target -- copy"
      ],
      "metadata": {
        "id": "dU9uPJuPeYFF",
        "colab": {
          "base_uri": "https://localhost:8080/",
          "height": 36
        },
        "outputId": "487f1e52-2356-40cb-9ba3-4bb9c98eba36"
      },
      "execution_count": 47,
      "outputs": [
        {
          "output_type": "execute_result",
          "data": {
            "text/plain": [
              "'/content/drive/MyDrive/intro-dl/afhq/new_folder/new2.txt'"
            ],
            "application/vnd.google.colaboratory.intrinsic+json": {
              "type": "string"
            }
          },
          "metadata": {},
          "execution_count": 47
        }
      ]
    },
    {
      "cell_type": "code",
      "source": [
        "!ls -l"
      ],
      "metadata": {
        "id": "URmb28_6emty",
        "colab": {
          "base_uri": "https://localhost:8080/"
        },
        "outputId": "4cd9dfc2-fd1d-4f2f-b435-d4fa3f5ee0c9"
      },
      "execution_count": 48,
      "outputs": [
        {
          "output_type": "stream",
          "name": "stdout",
          "text": [
            "total 0\n",
            "-rw------- 1 root root 0 Apr  3 04:08 new2.txt\n",
            "-rw------- 1 root root 0 Apr  3 04:06 new.txt\n"
          ]
        }
      ]
    },
    {
      "cell_type": "markdown",
      "source": [
        "### Question 2. Please write a code that copies new.txt with a file name new3.txt.\n",
        "*   Directory: /content/drive/MyDrive/intro-dl/afhq/new_folder\n",
        "\n"
      ],
      "metadata": {
        "id": "ZN3mS0mBe_uM"
      }
    },
    {
      "cell_type": "code",
      "source": [
        "# Your Answer\n",
        "src3 = '/content/drive/MyDrive/intro-dl/afhq/new_folder/new.txt'\n",
        "dst3 = '/content/drive/MyDrive/intro-dl/afhq/new_folder/new3.txt'\n",
        "\n",
        "shutil.copy(src3, dst3)"
      ],
      "metadata": {
        "id": "Fb_jk1OFfWiN",
        "colab": {
          "base_uri": "https://localhost:8080/",
          "height": 36
        },
        "outputId": "e5199253-a265-4cc4-ab2c-85de5689c61d"
      },
      "execution_count": 49,
      "outputs": [
        {
          "output_type": "execute_result",
          "data": {
            "text/plain": [
              "'/content/drive/MyDrive/intro-dl/afhq/new_folder/new3.txt'"
            ],
            "application/vnd.google.colaboratory.intrinsic+json": {
              "type": "string"
            }
          },
          "metadata": {},
          "execution_count": 49
        }
      ]
    },
    {
      "cell_type": "code",
      "source": [
        "!ls -l"
      ],
      "metadata": {
        "colab": {
          "base_uri": "https://localhost:8080/"
        },
        "id": "m3aVdcDzKVQK",
        "outputId": "f8e06716-4919-4de6-9d90-3dba601d7c7e"
      },
      "execution_count": 50,
      "outputs": [
        {
          "output_type": "stream",
          "name": "stdout",
          "text": [
            "total 0\n",
            "-rw------- 1 root root 0 Apr  3 04:08 new2.txt\n",
            "-rw------- 1 root root 0 Apr  3 04:13 new3.txt\n",
            "-rw------- 1 root root 0 Apr  3 04:06 new.txt\n"
          ]
        }
      ]
    },
    {
      "cell_type": "code",
      "source": [
        "## numpy, pandas -- later"
      ],
      "metadata": {
        "id": "-WjOlwWne1w7"
      },
      "execution_count": 51,
      "outputs": []
    },
    {
      "cell_type": "markdown",
      "source": [
        "## Basic Pytorch\n",
        "\n",
        "*     Reference. https://github.com/Justin-A/DeepLearning101/blob/master/1-2_Basic_Autograd.ipynb"
      ],
      "metadata": {
        "id": "QQ55qOuzgil-"
      }
    },
    {
      "cell_type": "code",
      "source": [
        "import torch"
      ],
      "metadata": {
        "id": "jvfwaAzf0E0T"
      },
      "execution_count": 52,
      "outputs": []
    },
    {
      "cell_type": "code",
      "source": [
        "## Simple Question.\n",
        "## What is (Py)torch?\n",
        "## Google it and write the answer.\n",
        "\n",
        "## Your Answer\n",
        "\n",
        "'''\n",
        "Answer : PyTorch is a machine learning library based on the Torch library,\n",
        "used for applications such as computer vision and natural language processing.\n",
        "'''"
      ],
      "metadata": {
        "id": "6pHnUs5NRe8w",
        "colab": {
          "base_uri": "https://localhost:8080/",
          "height": 54
        },
        "outputId": "6f1abadd-b773-44b4-d408-3da1ef4ea277"
      },
      "execution_count": 53,
      "outputs": [
        {
          "output_type": "execute_result",
          "data": {
            "text/plain": [
              "'\\nAnswer : PyTorch is a machine learning library based on the Torch library, \\nused for applications such as computer vision and natural language processing.\\n'"
            ],
            "application/vnd.google.colaboratory.intrinsic+json": {
              "type": "string"
            }
          },
          "metadata": {},
          "execution_count": 53
        }
      ]
    },
    {
      "cell_type": "markdown",
      "source": [
        "### Representing Scalars w/ Pytorch (2 ways)"
      ],
      "metadata": {
        "id": "FqoBM0fQR5Kz"
      }
    },
    {
      "cell_type": "code",
      "source": [
        "scalar1 = torch.tensor([1.])\n",
        "print(scalar1)"
      ],
      "metadata": {
        "id": "0UIsqNuVRfBG",
        "colab": {
          "base_uri": "https://localhost:8080/"
        },
        "outputId": "f834f71f-b9a6-408e-a293-7e01a0eeffd2"
      },
      "execution_count": 54,
      "outputs": [
        {
          "output_type": "stream",
          "name": "stdout",
          "text": [
            "tensor([1.])\n"
          ]
        }
      ]
    },
    {
      "cell_type": "code",
      "source": [
        "scalar2 = torch.tensor([3.])\n",
        "print(scalar2)"
      ],
      "metadata": {
        "id": "CS88uQCORfFK",
        "colab": {
          "base_uri": "https://localhost:8080/"
        },
        "outputId": "8c863d60-2422-4367-d220-e696cc82a2d8"
      },
      "execution_count": 55,
      "outputs": [
        {
          "output_type": "stream",
          "name": "stdout",
          "text": [
            "tensor([3.])\n"
          ]
        }
      ]
    },
    {
      "cell_type": "code",
      "source": [
        "add_scalar = scalar1 + scalar2 # addition\n",
        "print(add_scalar)"
      ],
      "metadata": {
        "id": "gSPkUBQuRutq",
        "colab": {
          "base_uri": "https://localhost:8080/"
        },
        "outputId": "73de355e-9d1c-4cf6-d917-6e3a24559ff3"
      },
      "execution_count": 56,
      "outputs": [
        {
          "output_type": "stream",
          "name": "stdout",
          "text": [
            "tensor([4.])\n"
          ]
        }
      ]
    },
    {
      "cell_type": "code",
      "source": [
        "sub_scalar = scalar1 - scalar2 # subtraction\n",
        "print(sub_scalar)"
      ],
      "metadata": {
        "id": "J-ze6kXZRuxc",
        "colab": {
          "base_uri": "https://localhost:8080/"
        },
        "outputId": "54762a79-96f5-4cbe-80f5-dae7ee046606"
      },
      "execution_count": 57,
      "outputs": [
        {
          "output_type": "stream",
          "name": "stdout",
          "text": [
            "tensor([-2.])\n"
          ]
        }
      ]
    },
    {
      "cell_type": "code",
      "source": [
        "mul_scalar = scalar1 * scalar2 # multiplication\n",
        "print(mul_scalar)"
      ],
      "metadata": {
        "id": "zsmdb1GURu2J",
        "colab": {
          "base_uri": "https://localhost:8080/"
        },
        "outputId": "7ee63d3e-2829-4300-cb03-6780d185223a"
      },
      "execution_count": 58,
      "outputs": [
        {
          "output_type": "stream",
          "name": "stdout",
          "text": [
            "tensor([3.])\n"
          ]
        }
      ]
    },
    {
      "cell_type": "code",
      "source": [
        "div_scalar = scalar1 / scalar2 # division\n",
        "print(div_scalar)"
      ],
      "metadata": {
        "id": "KaYWZjwPRu6o",
        "colab": {
          "base_uri": "https://localhost:8080/"
        },
        "outputId": "980ea4d7-6f8a-43e6-8f2c-05916c66f9e7"
      },
      "execution_count": 59,
      "outputs": [
        {
          "output_type": "stream",
          "name": "stdout",
          "text": [
            "tensor([0.3333])\n"
          ]
        }
      ]
    },
    {
      "cell_type": "code",
      "source": [
        "torch.add(scalar1, scalar2) # addition"
      ],
      "metadata": {
        "id": "3aLnKlXiRu-M",
        "colab": {
          "base_uri": "https://localhost:8080/"
        },
        "outputId": "0feb71cc-7c02-4b67-84d4-b6a1c8d02da5"
      },
      "execution_count": 60,
      "outputs": [
        {
          "output_type": "execute_result",
          "data": {
            "text/plain": [
              "tensor([4.])"
            ]
          },
          "metadata": {},
          "execution_count": 60
        }
      ]
    },
    {
      "cell_type": "code",
      "source": [
        "torch.sub(scalar1, scalar2) # division"
      ],
      "metadata": {
        "id": "A4WnViRIRvBi",
        "colab": {
          "base_uri": "https://localhost:8080/"
        },
        "outputId": "7e4f3303-0ec1-4526-fd24-bb8ce3c2f959"
      },
      "execution_count": 61,
      "outputs": [
        {
          "output_type": "execute_result",
          "data": {
            "text/plain": [
              "tensor([-2.])"
            ]
          },
          "metadata": {},
          "execution_count": 61
        }
      ]
    },
    {
      "cell_type": "code",
      "source": [
        "torch.mul(scalar1, scalar2) # multiplication"
      ],
      "metadata": {
        "id": "dGjBu164RvFn",
        "colab": {
          "base_uri": "https://localhost:8080/"
        },
        "outputId": "14563432-c43f-4f69-eb6d-2cd63c1bbf88"
      },
      "execution_count": 62,
      "outputs": [
        {
          "output_type": "execute_result",
          "data": {
            "text/plain": [
              "tensor([3.])"
            ]
          },
          "metadata": {},
          "execution_count": 62
        }
      ]
    },
    {
      "cell_type": "code",
      "source": [
        "torch.div(scalar1, scalar2) # division"
      ],
      "metadata": {
        "id": "eF3eFqE8RvJs",
        "colab": {
          "base_uri": "https://localhost:8080/"
        },
        "outputId": "258e3af6-dd7b-4bd1-f452-2afcc30a54d3"
      },
      "execution_count": 63,
      "outputs": [
        {
          "output_type": "execute_result",
          "data": {
            "text/plain": [
              "tensor([0.3333])"
            ]
          },
          "metadata": {},
          "execution_count": 63
        }
      ]
    },
    {
      "cell_type": "markdown",
      "source": [
        "### Representing Vectors w/ Pytorch (2 ways)"
      ],
      "metadata": {
        "id": "xept2jYlSGTk"
      }
    },
    {
      "cell_type": "code",
      "source": [
        "vector1 = torch.tensor([1., 2., 3.])\n",
        "print(vector1)"
      ],
      "metadata": {
        "id": "FhEUthBPSRHL",
        "colab": {
          "base_uri": "https://localhost:8080/"
        },
        "outputId": "46e20d61-1f97-4670-9fa8-9f95d52d7556"
      },
      "execution_count": 64,
      "outputs": [
        {
          "output_type": "stream",
          "name": "stdout",
          "text": [
            "tensor([1., 2., 3.])\n"
          ]
        }
      ]
    },
    {
      "cell_type": "code",
      "source": [
        "vector2 = torch.tensor([4., 5., 6.])\n",
        "print(vector2)"
      ],
      "metadata": {
        "id": "YMIa3rcSSRNC",
        "colab": {
          "base_uri": "https://localhost:8080/"
        },
        "outputId": "cde30c18-eaa8-4adc-8177-a4aec499b50d"
      },
      "execution_count": 65,
      "outputs": [
        {
          "output_type": "stream",
          "name": "stdout",
          "text": [
            "tensor([4., 5., 6.])\n"
          ]
        }
      ]
    },
    {
      "cell_type": "code",
      "source": [
        "add_vector = vector1 + vector2 # addition\n",
        "print(add_vector)"
      ],
      "metadata": {
        "id": "1UaYjtGASRRJ",
        "colab": {
          "base_uri": "https://localhost:8080/"
        },
        "outputId": "c3a94f04-4346-4987-b4de-20f66bfb8d1d"
      },
      "execution_count": 66,
      "outputs": [
        {
          "output_type": "stream",
          "name": "stdout",
          "text": [
            "tensor([5., 7., 9.])\n"
          ]
        }
      ]
    },
    {
      "cell_type": "code",
      "source": [
        "sub_vector = vector1 - vector2 # subtraction\n",
        "print(sub_vector)"
      ],
      "metadata": {
        "id": "CRmMHQNnSU2m",
        "colab": {
          "base_uri": "https://localhost:8080/"
        },
        "outputId": "93d1ee07-41b5-4385-d1a0-d3f0564f6af8"
      },
      "execution_count": 67,
      "outputs": [
        {
          "output_type": "stream",
          "name": "stdout",
          "text": [
            "tensor([-3., -3., -3.])\n"
          ]
        }
      ]
    },
    {
      "cell_type": "code",
      "source": [
        "mul_vector = vector1 * vector2 # multiplication\n",
        "print(mul_vector)"
      ],
      "metadata": {
        "id": "8qv7g4XESU7w",
        "colab": {
          "base_uri": "https://localhost:8080/"
        },
        "outputId": "26ef8b91-ad3d-4bd0-9299-570a3267d3c2"
      },
      "execution_count": 68,
      "outputs": [
        {
          "output_type": "stream",
          "name": "stdout",
          "text": [
            "tensor([ 4., 10., 18.])\n"
          ]
        }
      ]
    },
    {
      "cell_type": "code",
      "source": [
        "div_vector = vector1 / vector2 # division\n",
        "print(div_vector)"
      ],
      "metadata": {
        "id": "U4uBjLTiSVBl",
        "colab": {
          "base_uri": "https://localhost:8080/"
        },
        "outputId": "c79291b9-9d05-4cb6-dcf3-3a35b4dd6866"
      },
      "execution_count": 69,
      "outputs": [
        {
          "output_type": "stream",
          "name": "stdout",
          "text": [
            "tensor([0.2500, 0.4000, 0.5000])\n"
          ]
        }
      ]
    },
    {
      "cell_type": "code",
      "source": [
        "torch.add(vector1, vector2) # addition"
      ],
      "metadata": {
        "id": "lkAn1-gNSVGR",
        "colab": {
          "base_uri": "https://localhost:8080/"
        },
        "outputId": "21e02029-7aa3-4587-9195-11e847a939e9"
      },
      "execution_count": 70,
      "outputs": [
        {
          "output_type": "execute_result",
          "data": {
            "text/plain": [
              "tensor([5., 7., 9.])"
            ]
          },
          "metadata": {},
          "execution_count": 70
        }
      ]
    },
    {
      "cell_type": "code",
      "source": [
        "torch.sub(vector1, vector2) # subtraction"
      ],
      "metadata": {
        "id": "sLgTOXkaSVK8",
        "colab": {
          "base_uri": "https://localhost:8080/"
        },
        "outputId": "23a2adda-38a1-4445-ff94-318c23325ff6"
      },
      "execution_count": 71,
      "outputs": [
        {
          "output_type": "execute_result",
          "data": {
            "text/plain": [
              "tensor([-3., -3., -3.])"
            ]
          },
          "metadata": {},
          "execution_count": 71
        }
      ]
    },
    {
      "cell_type": "code",
      "source": [
        "torch.mul(vector1, vector2) # multiplication"
      ],
      "metadata": {
        "id": "tN3JzNjoSVP0",
        "colab": {
          "base_uri": "https://localhost:8080/"
        },
        "outputId": "71db1044-bab6-4c51-f731-0c20720d8eb0"
      },
      "execution_count": 72,
      "outputs": [
        {
          "output_type": "execute_result",
          "data": {
            "text/plain": [
              "tensor([ 4., 10., 18.])"
            ]
          },
          "metadata": {},
          "execution_count": 72
        }
      ]
    },
    {
      "cell_type": "code",
      "source": [
        "torch.div(vector1, vector2) # division"
      ],
      "metadata": {
        "id": "uOwsO2sGSf84",
        "colab": {
          "base_uri": "https://localhost:8080/"
        },
        "outputId": "66bf65d1-c8e2-47c8-a9bc-f89beeedc2fa"
      },
      "execution_count": 73,
      "outputs": [
        {
          "output_type": "execute_result",
          "data": {
            "text/plain": [
              "tensor([0.2500, 0.4000, 0.5000])"
            ]
          },
          "metadata": {},
          "execution_count": 73
        }
      ]
    },
    {
      "cell_type": "code",
      "source": [
        "torch.dot(vector1, vector2) # dot product"
      ],
      "metadata": {
        "id": "x_0Q3j5NSjQR",
        "colab": {
          "base_uri": "https://localhost:8080/"
        },
        "outputId": "a84212ae-2d90-4906-9de6-4b4bdbf31192"
      },
      "execution_count": 74,
      "outputs": [
        {
          "output_type": "execute_result",
          "data": {
            "text/plain": [
              "tensor(32.)"
            ]
          },
          "metadata": {},
          "execution_count": 74
        }
      ]
    },
    {
      "cell_type": "markdown",
      "source": [
        "### Representing Matrices w/ Pytorch (2 ways)"
      ],
      "metadata": {
        "id": "BC0UpAMlSGf3"
      }
    },
    {
      "cell_type": "code",
      "source": [
        "matrix1 = torch.tensor([[1., 2.], [3., 4.]])\n",
        "print(matrix1)"
      ],
      "metadata": {
        "id": "2vq16WlGRvOv",
        "colab": {
          "base_uri": "https://localhost:8080/"
        },
        "outputId": "be7d5bed-ed5c-4402-f131-7283328083ad"
      },
      "execution_count": 75,
      "outputs": [
        {
          "output_type": "stream",
          "name": "stdout",
          "text": [
            "tensor([[1., 2.],\n",
            "        [3., 4.]])\n"
          ]
        }
      ]
    },
    {
      "cell_type": "code",
      "source": [
        "matrix2 = torch.tensor([[5., 6.], [7., 8.]])\n",
        "print(matrix2)"
      ],
      "metadata": {
        "id": "MQeyFKpyRvSG",
        "colab": {
          "base_uri": "https://localhost:8080/"
        },
        "outputId": "f497c7c4-c6cc-4f0a-8cdb-ed612e9ce986"
      },
      "execution_count": 76,
      "outputs": [
        {
          "output_type": "stream",
          "name": "stdout",
          "text": [
            "tensor([[5., 6.],\n",
            "        [7., 8.]])\n"
          ]
        }
      ]
    },
    {
      "cell_type": "code",
      "source": [
        "sum_matrix = matrix1 + matrix2 # element-wise addition\n",
        "print(sum_matrix)"
      ],
      "metadata": {
        "id": "c9PzgzU9RvVz",
        "colab": {
          "base_uri": "https://localhost:8080/"
        },
        "outputId": "16d96783-e604-4820-f814-d744871217ad"
      },
      "execution_count": 77,
      "outputs": [
        {
          "output_type": "stream",
          "name": "stdout",
          "text": [
            "tensor([[ 6.,  8.],\n",
            "        [10., 12.]])\n"
          ]
        }
      ]
    },
    {
      "cell_type": "code",
      "source": [
        "sub_matrix = matrix1 - matrix2 # element-wise subtraction\n",
        "print(sub_matrix)"
      ],
      "metadata": {
        "id": "0T__pxltRvZr",
        "colab": {
          "base_uri": "https://localhost:8080/"
        },
        "outputId": "88a39d7e-64bf-4473-8870-78bfbb0a53f6"
      },
      "execution_count": 78,
      "outputs": [
        {
          "output_type": "stream",
          "name": "stdout",
          "text": [
            "tensor([[-4., -4.],\n",
            "        [-4., -4.]])\n"
          ]
        }
      ]
    },
    {
      "cell_type": "code",
      "source": [
        "mul_matrix = matrix1 * matrix2 # element-wise multiplication\n",
        "print(mul_matrix)"
      ],
      "metadata": {
        "id": "hYIZzwX7RfJ4",
        "colab": {
          "base_uri": "https://localhost:8080/"
        },
        "outputId": "4f49fd33-263e-419b-d167-8a7f3aac8550"
      },
      "execution_count": 79,
      "outputs": [
        {
          "output_type": "stream",
          "name": "stdout",
          "text": [
            "tensor([[ 5., 12.],\n",
            "        [21., 32.]])\n"
          ]
        }
      ]
    },
    {
      "cell_type": "code",
      "source": [
        "div_matrix = matrix1 / matrix2 # element-wise division\n",
        "print(div_matrix)"
      ],
      "metadata": {
        "id": "ZDxphCr-S5ud",
        "colab": {
          "base_uri": "https://localhost:8080/"
        },
        "outputId": "8e01ef24-f5e4-478c-be76-57aba0805b6d"
      },
      "execution_count": 80,
      "outputs": [
        {
          "output_type": "stream",
          "name": "stdout",
          "text": [
            "tensor([[0.2000, 0.3333],\n",
            "        [0.4286, 0.5000]])\n"
          ]
        }
      ]
    },
    {
      "cell_type": "code",
      "source": [
        "torch.add(matrix1, matrix2) # element-wise addition"
      ],
      "metadata": {
        "id": "hzwrIReNS51E",
        "colab": {
          "base_uri": "https://localhost:8080/"
        },
        "outputId": "d6e446a4-a8a1-4b68-83b8-96019ae91c2e"
      },
      "execution_count": 81,
      "outputs": [
        {
          "output_type": "execute_result",
          "data": {
            "text/plain": [
              "tensor([[ 6.,  8.],\n",
              "        [10., 12.]])"
            ]
          },
          "metadata": {},
          "execution_count": 81
        }
      ]
    },
    {
      "cell_type": "code",
      "source": [
        "torch.sub(matrix1, matrix2) # element-wise subtraction"
      ],
      "metadata": {
        "id": "7mcUDzvQS9sv",
        "colab": {
          "base_uri": "https://localhost:8080/"
        },
        "outputId": "564d6183-6a93-4378-ce1c-f92722ab5ded"
      },
      "execution_count": 82,
      "outputs": [
        {
          "output_type": "execute_result",
          "data": {
            "text/plain": [
              "tensor([[-4., -4.],\n",
              "        [-4., -4.]])"
            ]
          },
          "metadata": {},
          "execution_count": 82
        }
      ]
    },
    {
      "cell_type": "code",
      "source": [
        "torch.mul(matrix1, matrix2) # element-wise multiplication"
      ],
      "metadata": {
        "id": "S1sRjf64S90Y",
        "colab": {
          "base_uri": "https://localhost:8080/"
        },
        "outputId": "dd6cb252-c9e0-4314-b1ce-eab9954a1224"
      },
      "execution_count": 83,
      "outputs": [
        {
          "output_type": "execute_result",
          "data": {
            "text/plain": [
              "tensor([[ 5., 12.],\n",
              "        [21., 32.]])"
            ]
          },
          "metadata": {},
          "execution_count": 83
        }
      ]
    },
    {
      "cell_type": "code",
      "source": [
        "torch.div(matrix1, matrix2) # element-wise division"
      ],
      "metadata": {
        "id": "OjSP7fWES95c",
        "colab": {
          "base_uri": "https://localhost:8080/"
        },
        "outputId": "3fcae29d-7ef9-447a-fa33-3254d2beae93"
      },
      "execution_count": 84,
      "outputs": [
        {
          "output_type": "execute_result",
          "data": {
            "text/plain": [
              "tensor([[0.2000, 0.3333],\n",
              "        [0.4286, 0.5000]])"
            ]
          },
          "metadata": {},
          "execution_count": 84
        }
      ]
    },
    {
      "cell_type": "code",
      "source": [
        "torch.matmul(matrix1, matrix2) # matrix multiplication"
      ],
      "metadata": {
        "id": "fXRLf6DkS9-A",
        "colab": {
          "base_uri": "https://localhost:8080/"
        },
        "outputId": "e5568fe7-3aa8-4d92-ccad-c0ac3d7bcd90"
      },
      "execution_count": 85,
      "outputs": [
        {
          "output_type": "execute_result",
          "data": {
            "text/plain": [
              "tensor([[19., 22.],\n",
              "        [43., 50.]])"
            ]
          },
          "metadata": {},
          "execution_count": 85
        }
      ]
    },
    {
      "cell_type": "markdown",
      "source": [
        "### Question 3. Compute L1/L2 Norm between matrix1 and matrix2 above.\n",
        "*     Hint: https://pytorch.org/docs/stable/generated/torch.linalg.norm.html"
      ],
      "metadata": {
        "id": "Lkq9pZK_0h5r"
      }
    },
    {
      "cell_type": "code",
      "source": [
        "## Your Answer\n",
        "\n",
        "## L1 Norm\n",
        "sub = matrix1 - matrix2\n",
        "sub = sub.reshape((4))\n",
        "L1 = torch.linalg.norm(sub, ord=1)\n",
        "print(L1)\n",
        "## L2 Norm\n",
        "L2 = torch.linalg.norm(sub, ord=2)\n",
        "print(L2)"
      ],
      "metadata": {
        "id": "EgLdPduq1HHx",
        "colab": {
          "base_uri": "https://localhost:8080/"
        },
        "outputId": "5a20c95b-a79e-4641-ebb2-f8a9b1bdc843"
      },
      "execution_count": 103,
      "outputs": [
        {
          "output_type": "stream",
          "name": "stdout",
          "text": [
            "tensor(16.)\n",
            "tensor(8.)\n"
          ]
        }
      ]
    },
    {
      "cell_type": "code",
      "source": [
        "## Hard Mode (Optional)\n",
        "## Compute Cosine Similarity between matrix1 and matrix2 above.\n",
        "\n",
        "## Your Answer\n",
        "def cos_sim(A, B):\n",
        "  A = A.reshape((4))\n",
        "  B = B.reshape((4))\n",
        "  dot = torch.matmul(A, B)\n",
        "  l2_A = torch.linalg.norm(A, ord=2)\n",
        "  l2_B = torch.linalg.norm(B, ord=2)\n",
        "\n",
        "  return dot/(l2_A * l2_B)\n",
        "\n",
        "cosine_sim = cos_sim(matrix1, matrix2)\n",
        "print(cosine_sim)"
      ],
      "metadata": {
        "id": "r9iAVpndUFfX",
        "colab": {
          "base_uri": "https://localhost:8080/"
        },
        "outputId": "3670e112-d4e4-415b-e7b5-4661f7614974"
      },
      "execution_count": 112,
      "outputs": [
        {
          "output_type": "stream",
          "name": "stdout",
          "text": [
            "tensor(13.1909)\n",
            "tensor(0.9689)\n"
          ]
        }
      ]
    },
    {
      "cell_type": "markdown",
      "source": [
        "## Simple MLP\n",
        "\n",
        "*    Reference. https://github.com/Justin-A/DeepLearning101/blob/master/2-1_MNIST_MLP.ipynb"
      ],
      "metadata": {
        "id": "GDck4fScEtI9"
      }
    },
    {
      "cell_type": "code",
      "source": [
        "''' 1. Module Import '''\n",
        "import numpy as np\n",
        "import matplotlib.pyplot as plt\n",
        "\n",
        "import torch\n",
        "import torch.nn as nn\n",
        "import torch.nn.functional as F\n",
        "from torchvision import transforms, datasets"
      ],
      "metadata": {
        "id": "n3uRuWgZEwcy"
      },
      "execution_count": 113,
      "outputs": []
    },
    {
      "cell_type": "code",
      "source": [
        "if torch.cuda.is_available():\n",
        "    DEVICE = torch.device('cuda')\n",
        "else:\n",
        "    DEVICE = torch.device('cpu')\n",
        "\n",
        "print('Using PyTorch version:', torch.__version__, ' Device:', DEVICE)"
      ],
      "metadata": {
        "id": "zLAkO1Jugf34",
        "colab": {
          "base_uri": "https://localhost:8080/"
        },
        "outputId": "192cbdc9-dfd3-4333-8054-2df80d7dea11"
      },
      "execution_count": 114,
      "outputs": [
        {
          "output_type": "stream",
          "name": "stdout",
          "text": [
            "Using PyTorch version: 2.2.1+cu121  Device: cuda\n"
          ]
        }
      ]
    },
    {
      "cell_type": "code",
      "source": [
        "BATCH_SIZE = 32\n",
        "EPOCHS = 10"
      ],
      "metadata": {
        "id": "wtSUJeMVggF0"
      },
      "execution_count": 115,
      "outputs": []
    },
    {
      "cell_type": "code",
      "source": [
        "''' 3. MNIST Download (Train set, Test set split) '''\n",
        "train_dataset = datasets.MNIST(root = \"../data/MNIST\",\n",
        "                               train = True,\n",
        "                               download = True,\n",
        "                               transform = transforms.ToTensor()) # 학습 데이터 셋을 받아오는 코드\n",
        "\n",
        "test_dataset = datasets.MNIST(root = \"../data/MNIST\",\n",
        "                              train = False,\n",
        "                              transform = transforms.ToTensor()) # 데스트 데이터 셋을 받아오는 코드\n",
        "\n",
        "train_loader = torch.utils.data.DataLoader(dataset = train_dataset,\n",
        "                                           batch_size = BATCH_SIZE,\n",
        "                                           shuffle = True) # 받아온 학습 데이터 셋을 섞고 설정한 배치 사이즈로 나눠주는 코드\n",
        "\n",
        "test_loader = torch.utils.data.DataLoader(dataset = test_dataset,\n",
        "                                          batch_size = BATCH_SIZE,\n",
        "                                          shuffle = False) # 받아온 테스트 데이터 셋을 설정한 배치 사이즈로 나눠주는 코드"
      ],
      "metadata": {
        "id": "7LsuDi6TggII",
        "colab": {
          "base_uri": "https://localhost:8080/"
        },
        "outputId": "d82d3cef-9bad-4f47-8a45-c232da3c4acf"
      },
      "execution_count": 116,
      "outputs": [
        {
          "output_type": "stream",
          "name": "stdout",
          "text": [
            "Downloading http://yann.lecun.com/exdb/mnist/train-images-idx3-ubyte.gz\n",
            "Downloading http://yann.lecun.com/exdb/mnist/train-images-idx3-ubyte.gz to ../data/MNIST/MNIST/raw/train-images-idx3-ubyte.gz\n"
          ]
        },
        {
          "output_type": "stream",
          "name": "stderr",
          "text": [
            "100%|██████████| 9912422/9912422 [00:00<00:00, 124665175.14it/s]\n"
          ]
        },
        {
          "output_type": "stream",
          "name": "stdout",
          "text": [
            "Extracting ../data/MNIST/MNIST/raw/train-images-idx3-ubyte.gz to ../data/MNIST/MNIST/raw\n",
            "\n",
            "Downloading http://yann.lecun.com/exdb/mnist/train-labels-idx1-ubyte.gz\n",
            "Downloading http://yann.lecun.com/exdb/mnist/train-labels-idx1-ubyte.gz to ../data/MNIST/MNIST/raw/train-labels-idx1-ubyte.gz\n"
          ]
        },
        {
          "output_type": "stream",
          "name": "stderr",
          "text": [
            "100%|██████████| 28881/28881 [00:00<00:00, 142848695.55it/s]\n"
          ]
        },
        {
          "output_type": "stream",
          "name": "stdout",
          "text": [
            "Extracting ../data/MNIST/MNIST/raw/train-labels-idx1-ubyte.gz to ../data/MNIST/MNIST/raw\n",
            "\n",
            "Downloading http://yann.lecun.com/exdb/mnist/t10k-images-idx3-ubyte.gz\n",
            "Downloading http://yann.lecun.com/exdb/mnist/t10k-images-idx3-ubyte.gz to ../data/MNIST/MNIST/raw/t10k-images-idx3-ubyte.gz\n"
          ]
        },
        {
          "output_type": "stream",
          "name": "stderr",
          "text": [
            "100%|██████████| 1648877/1648877 [00:00<00:00, 41174843.40it/s]\n"
          ]
        },
        {
          "output_type": "stream",
          "name": "stdout",
          "text": [
            "Extracting ../data/MNIST/MNIST/raw/t10k-images-idx3-ubyte.gz to ../data/MNIST/MNIST/raw\n",
            "\n",
            "Downloading http://yann.lecun.com/exdb/mnist/t10k-labels-idx1-ubyte.gz\n",
            "Downloading http://yann.lecun.com/exdb/mnist/t10k-labels-idx1-ubyte.gz to ../data/MNIST/MNIST/raw/t10k-labels-idx1-ubyte.gz\n"
          ]
        },
        {
          "output_type": "stream",
          "name": "stderr",
          "text": [
            "100%|██████████| 4542/4542 [00:00<00:00, 17837573.75it/s]\n"
          ]
        },
        {
          "output_type": "stream",
          "name": "stdout",
          "text": [
            "Extracting ../data/MNIST/MNIST/raw/t10k-labels-idx1-ubyte.gz to ../data/MNIST/MNIST/raw\n",
            "\n"
          ]
        }
      ]
    },
    {
      "cell_type": "code",
      "source": [
        "## Quick Question\n",
        "# What is MNIST?\n",
        "# Google it and write the answer\n",
        "'''\n",
        "Answer: The MNIST database is a large database of handwritten digits that is\n",
        "commonly used for training various image processing systems.\n",
        "'''"
      ],
      "metadata": {
        "id": "bhY_d3YcggKf",
        "colab": {
          "base_uri": "https://localhost:8080/",
          "height": 36
        },
        "outputId": "997b1882-7174-49e2-a9bf-b983b9a95a98"
      },
      "execution_count": 121,
      "outputs": [
        {
          "output_type": "execute_result",
          "data": {
            "text/plain": [
              "'\\nAnswer: The MNIST database is a large database of handwritten digits that is \\ncommonly used for training various image processing systems.\\n'"
            ],
            "application/vnd.google.colaboratory.intrinsic+json": {
              "type": "string"
            }
          },
          "metadata": {},
          "execution_count": 121
        }
      ]
    },
    {
      "cell_type": "code",
      "source": [
        "for (X_train, y_train) in train_loader:\n",
        "    print('X_train:', X_train.size(), 'type:', X_train.type()) # 학습 데이터의 입력 데이터의 크기와 데이터 타입을 출력하는 코드\n",
        "    print('y_train:', y_train.size(), 'type:', y_train.type()) # 학습 데이터의 정답 데이터의 크기와 데이터 타입을 출력하는 코드\n",
        "    break"
      ],
      "metadata": {
        "id": "o8LChiv3ggNd",
        "colab": {
          "base_uri": "https://localhost:8080/"
        },
        "outputId": "42df245c-1b88-4724-bd84-ecdcf5fbf7a5"
      },
      "execution_count": 122,
      "outputs": [
        {
          "output_type": "stream",
          "name": "stdout",
          "text": [
            "X_train: torch.Size([32, 1, 28, 28]) type: torch.FloatTensor\n",
            "y_train: torch.Size([32]) type: torch.LongTensor\n"
          ]
        }
      ]
    },
    {
      "cell_type": "code",
      "source": [
        "pltsize = 1\n",
        "plt.figure(figsize=(10 * pltsize, pltsize))\n",
        "for i in range(10):\n",
        "    plt.subplot(1, 10, i + 1)\n",
        "    plt.axis('off')\n",
        "    plt.imshow(X_train[i, :, :, :].numpy().reshape(28, 28), cmap = \"gray_r\") # imshow를 이용하여 학습 데이터의 입력 데이터를 시각화하는 코드\n",
        "    plt.title('Class: ' + str(y_train[i].item()))"
      ],
      "metadata": {
        "id": "dY0Ypc0fggPx",
        "colab": {
          "base_uri": "https://localhost:8080/",
          "height": 125
        },
        "outputId": "5cb4bee3-ea5c-48fa-ad0d-374a3ae49da0"
      },
      "execution_count": 123,
      "outputs": [
        {
          "output_type": "display_data",
          "data": {
            "text/plain": [
              "<Figure size 1000x100 with 10 Axes>"
            ],
            "image/png": "[encoded data removed]"
          },
          "metadata": {}
        }
      ]
    },
    {
      "cell_type": "code",
      "source": [
        "''' Multi Layer Perceptron '''\n",
        "class Net(nn.Module):\n",
        "    def __init__(self):\n",
        "        super(Net, self).__init__()\n",
        "        self.fc1 = nn.Linear(28 * 28, 512)\n",
        "        self.fc2 = nn.Linear(512, 256)\n",
        "        self.fc3 = nn.Linear(256, 10) # 기본적인 fully connected layer를 설정해주는 코드\n",
        "\n",
        "    def forward(self, x):\n",
        "        x = x.view(-1, 28 * 28) # 크기가 (1, 28, 28)인 이미지 데이터를 (1, 784) 로 바꿔주는 코드\n",
        "        x = self.fc1(x) # 첫번째 레이어 통과\n",
        "        x = F.sigmoid(x) # 활성화 함수 sigmoid 적용\n",
        "        x = self.fc2(x) # 두번째 레이어 통과\n",
        "        x = F.sigmoid(x) # 활성화 함수 sigmoid 적용\n",
        "        x = self.fc3(x) # 세번째 레이어 통과\n",
        "        x = F.log_softmax(x, dim = 1) # softmax 함수를 이용하여 10개의 클래스를 구분하기 위한 값을 출력함\n",
        "        return x"
      ],
      "metadata": {
        "id": "x7WkQj2mggSD"
      },
      "execution_count": 125,
      "outputs": []
    },
    {
      "cell_type": "code",
      "source": [
        "''' Optimizer, Objective Function '''\n",
        "model = Net().to(DEVICE)\n",
        "optimizer = torch.optim.SGD(model.parameters(), lr = 0.01, momentum = 0.5) # 설정한 모델 파라미터와 학습률, 모멘텀을 설정해주어 파라미터를 업데이트 하는데에 필요한 알고리즘을 설정해줌\n",
        "criterion = nn.CrossEntropyLoss() # loss 함수 설정\n",
        "\n",
        "print(model)"
      ],
      "metadata": {
        "id": "dwRqonzKtd1O",
        "colab": {
          "base_uri": "https://localhost:8080/"
        },
        "outputId": "4c4fef47-5fae-476f-ecdd-bc5ac5bafd97"
      },
      "execution_count": 126,
      "outputs": [
        {
          "output_type": "stream",
          "name": "stdout",
          "text": [
            "Net(\n",
            "  (fc1): Linear(in_features=784, out_features=512, bias=True)\n",
            "  (fc2): Linear(in_features=512, out_features=256, bias=True)\n",
            "  (fc3): Linear(in_features=256, out_features=10, bias=True)\n",
            ")\n"
          ]
        }
      ]
    },
    {
      "cell_type": "code",
      "source": [
        "def train(model, train_loader, optimizer, log_interval):\n",
        "    model.train() # 학습 모드로 바꿈\n",
        "    for batch_idx, (image, label) in enumerate(train_loader): # enumerate를 이용하여 인덱스와 데이터를 불러옴\n",
        "        image = image.to(DEVICE)\n",
        "        label = label.to(DEVICE)\n",
        "        optimizer.zero_grad() # 그레디언트를 0으로 초기화 시켜줌\n",
        "        output = model(image) # model에 이미지를 넣어서 값을 예측\n",
        "        loss = criterion(output, label) # 예측값과 실제 정답과의 오차를 계산\n",
        "        loss.backward() # 손실함수를 이용해 gradient 계산\n",
        "        optimizer.step() # 계산한 gradient를 이용하여 파라미터를 업데이트\n",
        "\n",
        "        if batch_idx % log_interval == 0:\n",
        "            print(\"Train Epoch: {} [{}/{} ({:.0f}%)]\\tTrain Loss: {:.6f}\".format(\n",
        "                epoch, batch_idx * len(image),\n",
        "                len(train_loader.dataset), 100. * batch_idx / len(train_loader),\n",
        "                loss.item())) # 학습 진행도를 알려주는 코드"
      ],
      "metadata": {
        "id": "p_LnCyyftl88"
      },
      "execution_count": 127,
      "outputs": []
    },
    {
      "cell_type": "code",
      "source": [
        "def evaluate(model, test_loader):\n",
        "    model.eval() # 평가 모드로 설정\n",
        "    test_loss = 0\n",
        "    correct = 0\n",
        "\n",
        "    with torch.no_grad(): # gradient를 계산하지 않도록 설정\n",
        "        for image, label in test_loader: # 테스트 데이터를 불러옴\n",
        "            image = image.to(DEVICE)\n",
        "            label = label.to(DEVICE)\n",
        "            output = model(image) # 입력 데이터를 이용하여 값을 예측\n",
        "            test_loss += criterion(output, label).item() # 예측값과 실제값 사이의 오차를 계산\n",
        "            prediction = output.max(1, keepdim = True)[1]\n",
        "            correct += prediction.eq(label.view_as(prediction)).sum().item()\n",
        "\n",
        "    test_loss /= (len(test_loader.dataset) / BATCH_SIZE)\n",
        "    test_accuracy = 100. * correct / len(test_loader.dataset)\n",
        "    return test_loss, test_accuracy"
      ],
      "metadata": {
        "id": "psTeTnRmtl_I"
      },
      "execution_count": 128,
      "outputs": []
    },
    {
      "cell_type": "code",
      "source": [
        "for epoch in range(1, EPOCHS + 1):\n",
        "    train(model, train_loader, optimizer, log_interval = 200)\n",
        "    test_loss, test_accuracy = evaluate(model, test_loader)\n",
        "    print(\"\\n[EPOCH: {}], \\tTest Loss: {:.4f}, \\tTest Accuracy: {:.2f} % \\n\".format(\n",
        "        epoch, test_loss, test_accuracy)) # 위에서 설정한 함수를 이용하여 실제 학습 및 예측값을 출력"
      ],
      "metadata": {
        "id": "rGShY7RNRMme",
        "colab": {
          "base_uri": "https://localhost:8080/"
        },
        "outputId": "9eb54cf4-df38-4232-d180-29ef429f579b"
      },
      "execution_count": 129,
      "outputs": [
        {
          "output_type": "stream",
          "name": "stdout",
          "text": [
            "Train Epoch: 1 [0/60000 (0%)]\tTrain Loss: 2.317853\n",
            "Train Epoch: 1 [6400/60000 (11%)]\tTrain Loss: 2.339858\n",
            "Train Epoch: 1 [12800/60000 (21%)]\tTrain Loss: 2.292903\n",
            "Train Epoch: 1 [19200/60000 (32%)]\tTrain Loss: 2.330964\n",
            "Train Epoch: 1 [25600/60000 (43%)]\tTrain Loss: 2.293015\n",
            "Train Epoch: 1 [32000/60000 (53%)]\tTrain Loss: 2.301612\n",
            "Train Epoch: 1 [38400/60000 (64%)]\tTrain Loss: 2.264304\n",
            "Train Epoch: 1 [44800/60000 (75%)]\tTrain Loss: 2.256062\n",
            "Train Epoch: 1 [51200/60000 (85%)]\tTrain Loss: 2.278810\n",
            "Train Epoch: 1 [57600/60000 (96%)]\tTrain Loss: 2.226005\n",
            "\n",
            "[EPOCH: 1], \tTest Loss: 2.2479, \tTest Accuracy: 25.84 % \n",
            "\n",
            "Train Epoch: 2 [0/60000 (0%)]\tTrain Loss: 2.244205\n",
            "Train Epoch: 2 [6400/60000 (11%)]\tTrain Loss: 2.149276\n",
            "Train Epoch: 2 [12800/60000 (21%)]\tTrain Loss: 2.171409\n",
            "Train Epoch: 2 [19200/60000 (32%)]\tTrain Loss: 2.156326\n",
            "Train Epoch: 2 [25600/60000 (43%)]\tTrain Loss: 2.043675\n",
            "Train Epoch: 2 [32000/60000 (53%)]\tTrain Loss: 1.948099\n",
            "Train Epoch: 2 [38400/60000 (64%)]\tTrain Loss: 1.638628\n",
            "Train Epoch: 2 [44800/60000 (75%)]\tTrain Loss: 1.508074\n",
            "Train Epoch: 2 [51200/60000 (85%)]\tTrain Loss: 1.616527\n",
            "Train Epoch: 2 [57600/60000 (96%)]\tTrain Loss: 1.404791\n",
            "\n",
            "[EPOCH: 2], \tTest Loss: 1.2666, \tTest Accuracy: 60.46 % \n",
            "\n",
            "Train Epoch: 3 [0/60000 (0%)]\tTrain Loss: 1.406404\n",
            "Train Epoch: 3 [6400/60000 (11%)]\tTrain Loss: 1.075272\n",
            "Train Epoch: 3 [12800/60000 (21%)]\tTrain Loss: 1.082046\n",
            "Train Epoch: 3 [19200/60000 (32%)]\tTrain Loss: 0.962131\n",
            "Train Epoch: 3 [25600/60000 (43%)]\tTrain Loss: 0.904350\n",
            "Train Epoch: 3 [32000/60000 (53%)]\tTrain Loss: 0.810836\n",
            "Train Epoch: 3 [38400/60000 (64%)]\tTrain Loss: 0.786230\n",
            "Train Epoch: 3 [44800/60000 (75%)]\tTrain Loss: 0.896266\n",
            "Train Epoch: 3 [51200/60000 (85%)]\tTrain Loss: 0.700879\n",
            "Train Epoch: 3 [57600/60000 (96%)]\tTrain Loss: 0.664741\n",
            "\n",
            "[EPOCH: 3], \tTest Loss: 0.7326, \tTest Accuracy: 78.53 % \n",
            "\n",
            "Train Epoch: 4 [0/60000 (0%)]\tTrain Loss: 0.622825\n",
            "Train Epoch: 4 [6400/60000 (11%)]\tTrain Loss: 0.539089\n",
            "Train Epoch: 4 [12800/60000 (21%)]\tTrain Loss: 0.703259\n",
            "Train Epoch: 4 [19200/60000 (32%)]\tTrain Loss: 0.664438\n",
            "Train Epoch: 4 [25600/60000 (43%)]\tTrain Loss: 0.573568\n",
            "Train Epoch: 4 [32000/60000 (53%)]\tTrain Loss: 0.697526\n",
            "Train Epoch: 4 [38400/60000 (64%)]\tTrain Loss: 0.484056\n",
            "Train Epoch: 4 [44800/60000 (75%)]\tTrain Loss: 0.555104\n",
            "Train Epoch: 4 [51200/60000 (85%)]\tTrain Loss: 0.576613\n",
            "Train Epoch: 4 [57600/60000 (96%)]\tTrain Loss: 0.419791\n",
            "\n",
            "[EPOCH: 4], \tTest Loss: 0.5389, \tTest Accuracy: 83.94 % \n",
            "\n",
            "Train Epoch: 5 [0/60000 (0%)]\tTrain Loss: 0.529804\n",
            "Train Epoch: 5 [6400/60000 (11%)]\tTrain Loss: 0.781619\n",
            "Train Epoch: 5 [12800/60000 (21%)]\tTrain Loss: 0.468715\n",
            "Train Epoch: 5 [19200/60000 (32%)]\tTrain Loss: 0.466905\n",
            "Train Epoch: 5 [25600/60000 (43%)]\tTrain Loss: 0.444735\n",
            "Train Epoch: 5 [32000/60000 (53%)]\tTrain Loss: 0.462073\n",
            "Train Epoch: 5 [38400/60000 (64%)]\tTrain Loss: 0.497738\n",
            "Train Epoch: 5 [44800/60000 (75%)]\tTrain Loss: 0.395319\n",
            "Train Epoch: 5 [51200/60000 (85%)]\tTrain Loss: 0.463732\n",
            "Train Epoch: 5 [57600/60000 (96%)]\tTrain Loss: 0.757439\n",
            "\n",
            "[EPOCH: 5], \tTest Loss: 0.4499, \tTest Accuracy: 86.97 % \n",
            "\n",
            "Train Epoch: 6 [0/60000 (0%)]\tTrain Loss: 0.297820\n",
            "Train Epoch: 6 [6400/60000 (11%)]\tTrain Loss: 0.324771\n",
            "Train Epoch: 6 [12800/60000 (21%)]\tTrain Loss: 0.874067\n",
            "Train Epoch: 6 [19200/60000 (32%)]\tTrain Loss: 0.771344\n",
            "Train Epoch: 6 [25600/60000 (43%)]\tTrain Loss: 0.598000\n",
            "Train Epoch: 6 [32000/60000 (53%)]\tTrain Loss: 0.342964\n",
            "Train Epoch: 6 [38400/60000 (64%)]\tTrain Loss: 0.409547\n",
            "Train Epoch: 6 [44800/60000 (75%)]\tTrain Loss: 0.560167\n",
            "Train Epoch: 6 [51200/60000 (85%)]\tTrain Loss: 0.548438\n",
            "Train Epoch: 6 [57600/60000 (96%)]\tTrain Loss: 0.291507\n",
            "\n",
            "[EPOCH: 6], \tTest Loss: 0.4048, \tTest Accuracy: 88.27 % \n",
            "\n",
            "Train Epoch: 7 [0/60000 (0%)]\tTrain Loss: 0.655589\n",
            "Train Epoch: 7 [6400/60000 (11%)]\tTrain Loss: 0.237254\n",
            "Train Epoch: 7 [12800/60000 (21%)]\tTrain Loss: 0.478764\n",
            "Train Epoch: 7 [19200/60000 (32%)]\tTrain Loss: 0.216659\n",
            "Train Epoch: 7 [25600/60000 (43%)]\tTrain Loss: 0.499319\n",
            "Train Epoch: 7 [32000/60000 (53%)]\tTrain Loss: 0.451723\n",
            "Train Epoch: 7 [38400/60000 (64%)]\tTrain Loss: 0.205254\n",
            "Train Epoch: 7 [44800/60000 (75%)]\tTrain Loss: 0.373641\n",
            "Train Epoch: 7 [51200/60000 (85%)]\tTrain Loss: 0.427399\n",
            "Train Epoch: 7 [57600/60000 (96%)]\tTrain Loss: 0.280972\n",
            "\n",
            "[EPOCH: 7], \tTest Loss: 0.3772, \tTest Accuracy: 88.92 % \n",
            "\n",
            "Train Epoch: 8 [0/60000 (0%)]\tTrain Loss: 0.169782\n",
            "Train Epoch: 8 [6400/60000 (11%)]\tTrain Loss: 0.257569\n",
            "Train Epoch: 8 [12800/60000 (21%)]\tTrain Loss: 0.235338\n",
            "Train Epoch: 8 [19200/60000 (32%)]\tTrain Loss: 0.851145\n",
            "Train Epoch: 8 [25600/60000 (43%)]\tTrain Loss: 0.419673\n",
            "Train Epoch: 8 [32000/60000 (53%)]\tTrain Loss: 0.187995\n",
            "Train Epoch: 8 [38400/60000 (64%)]\tTrain Loss: 0.449620\n",
            "Train Epoch: 8 [44800/60000 (75%)]\tTrain Loss: 0.315744\n",
            "Train Epoch: 8 [51200/60000 (85%)]\tTrain Loss: 0.503380\n",
            "Train Epoch: 8 [57600/60000 (96%)]\tTrain Loss: 0.361856\n",
            "\n",
            "[EPOCH: 8], \tTest Loss: 0.3579, \tTest Accuracy: 89.60 % \n",
            "\n",
            "Train Epoch: 9 [0/60000 (0%)]\tTrain Loss: 0.540660\n",
            "Train Epoch: 9 [6400/60000 (11%)]\tTrain Loss: 0.348697\n",
            "Train Epoch: 9 [12800/60000 (21%)]\tTrain Loss: 0.428803\n",
            "Train Epoch: 9 [19200/60000 (32%)]\tTrain Loss: 0.318720\n",
            "Train Epoch: 9 [25600/60000 (43%)]\tTrain Loss: 0.376643\n",
            "Train Epoch: 9 [32000/60000 (53%)]\tTrain Loss: 0.334475\n",
            "Train Epoch: 9 [38400/60000 (64%)]\tTrain Loss: 0.287108\n",
            "Train Epoch: 9 [44800/60000 (75%)]\tTrain Loss: 0.430212\n",
            "Train Epoch: 9 [51200/60000 (85%)]\tTrain Loss: 0.253085\n",
            "Train Epoch: 9 [57600/60000 (96%)]\tTrain Loss: 0.421908\n",
            "\n",
            "[EPOCH: 9], \tTest Loss: 0.3448, \tTest Accuracy: 89.99 % \n",
            "\n",
            "Train Epoch: 10 [0/60000 (0%)]\tTrain Loss: 0.305492\n",
            "Train Epoch: 10 [6400/60000 (11%)]\tTrain Loss: 0.356042\n",
            "Train Epoch: 10 [12800/60000 (21%)]\tTrain Loss: 0.296019\n",
            "Train Epoch: 10 [19200/60000 (32%)]\tTrain Loss: 0.529933\n",
            "Train Epoch: 10 [25600/60000 (43%)]\tTrain Loss: 0.261745\n",
            "Train Epoch: 10 [32000/60000 (53%)]\tTrain Loss: 0.265023\n",
            "Train Epoch: 10 [38400/60000 (64%)]\tTrain Loss: 0.562060\n",
            "Train Epoch: 10 [44800/60000 (75%)]\tTrain Loss: 0.270071\n",
            "Train Epoch: 10 [51200/60000 (85%)]\tTrain Loss: 0.273915\n",
            "Train Epoch: 10 [57600/60000 (96%)]\tTrain Loss: 0.566006\n",
            "\n",
            "[EPOCH: 10], \tTest Loss: 0.3344, \tTest Accuracy: 90.26 % \n",
            "\n"
          ]
        }
      ]
    },
    {
      "cell_type": "markdown",
      "source": [
        "### Question 4. Please write a line-by-line explanation of the code above. (Simple MLP only)\n",
        "\n",
        "\n",
        "*   Use '#' for Python!\n",
        "*   ChatGPT allowed :) -- but please try to understand the code\n",
        "*   But you don't really have to understand everything -- we'll revisit MLP again in detail"
      ],
      "metadata": {
        "id": "IA3dEOujFVFd"
      }
    },
    {
      "cell_type": "markdown",
      "source": [
        "### Question 5 (Optional). Please read and summarize the following 3 documents:\n",
        "\n",
        "*    https://wikidocs.net/57168\n",
        "*    https://wikidocs.net/52460\n",
        "*    https://wikidocs.net/52846"
      ],
      "metadata": {
        "id": "A0VvCZJKiCye"
      }
    },
    {
      "cell_type": "markdown",
      "source": [
        "### The End."
      ],
      "metadata": {
        "id": "spc48rNHQnYL"
      }
    },
    {
      "cell_type": "markdown",
      "source": [
        "##### Please upload your Colab file @Github https://github.com/duneag2/intro-dl/tree/main/Assignment1\n",
        "\n",
        "*   First, make your folder by your name (e.g. seungeun)\n",
        "*   Then upload your Jupyter Notebook file under that directory\n",
        "\n",
        "###### Need Help?\n",
        "\n",
        "\n",
        "\n",
        "*   Please refer to this link https://yeko90.tistory.com/entry/%ED%8C%8C%EC%9D%B4%EC%8D%AC-colab%EC%BD%94%EB%9E%A9%EC%97%90%EC%84%9C-%EC%95%95%EC%B6%95%ED%8C%8C%EC%9D%BC-%ED%92%80%EA%B8%B0 OR\n",
        "*   Just save your Jupyter Notebook (.ipynb) file in here (colab) and upload via 'Add file' - 'Upload files' https://nthree.tistory.com/60"
      ],
      "metadata": {
        "id": "iMNBVkjiS7D9"
      }
    }
  ]
}