{
  "cells": [
    {
      "cell_type": "markdown",
      "metadata": {
        "id": "YcXb0XLEvHns"
      },
      "source": [
        "# 2024 Winter Introduction to Deep Learning\n",
        "### Based on Prof. Oh's Youtube Lecture\n",
        "https://youtube.com/playlist?list=PLvbUC2Zh5oJvByu9KL82bswYT2IKf0K1M\n",
        "\n",
        "> Assignment #1\n",
        "\n",
        "\n",
        "*   Youtube Lecture #1-3\n",
        "*   Written by Seungeun Lee"
      ]
    },
    {
      "cell_type": "markdown",
      "metadata": {
        "id": "BegEHUtyfnNF"
      },
      "source": []
    },
    {
      "cell_type": "markdown",
      "metadata": {
        "id": "1RnTlnjlcVlu"
      },
      "source": [
        "### Notice for Python\n",
        "##### If you are new to Python, please follow the Youtube link below:\n",
        "##### https://youtube.com/playlist?list=PLGPF8gvWLYyrkF85itdBHaOLSVbtdzBww\n",
        "##### You really don't have to understand everything in this video!! Just get a feel for Python:)\n",
        "##### If you have any trouble installing Python3, just use online python compiler -- I recommend https://www.programiz.com/python-programming/online-compiler/"
      ]
    },
    {
      "cell_type": "markdown",
      "metadata": {
        "id": "qM2kM5G7BYZr"
      },
      "source": [
        "## How to use Google Colaboratory"
      ]
    },
    {
      "cell_type": "markdown",
      "metadata": {
        "id": "l-eq03krP21I"
      },
      "source": [
        "##### First, please download a zip file from https://www.kaggle.com/datasets/andrewmvd/animal-faces\n",
        "##### Activate you Colaboratory and upload your zip file -- please follow the links below:\n",
        "\n",
        "*   https://yeko90.tistory.com/entry/how-use-google-colab\n",
        "*   https://yeko90.tistory.com/entry/%ED%8C%8C%EC%9D%B4%EC%8D%AC-colab%EC%BD%94%EB%9E%A9%EC%97%90%EC%84%9C-%EC%95%95%EC%B6%95%ED%8C%8C%EC%9D%BC-%ED%92%80%EA%B8%B0"
      ]
    },
    {
      "cell_type": "code",
      "execution_count": 78,
      "metadata": {
        "colab": {
          "base_uri": "https://localhost:8080/"
        },
        "id": "LNG-2CFSxIiz",
        "outputId": "ffc6ec6b-dae8-49e9-db40-55319f1238c5"
      },
      "outputs": [
        {
          "output_type": "stream",
          "name": "stdout",
          "text": [
            "Drive already mounted at /content/drive; to attempt to forcibly remount, call drive.mount(\"/content/drive\", force_remount=True).\n"
          ]
        }
      ],
      "source": [
        "from google.colab import drive\n",
        "drive.mount('/content/drive')\n"
      ]
    },
    {
      "cell_type": "markdown",
      "metadata": {
        "id": "4a4q9MievMjx"
      },
      "source": [
        "## How to Linux (Basic commands of Linux)\n",
        "### Almost every Deep Learning Research is conducted based on Linux, including Colab."
      ]
    },
    {
      "cell_type": "code",
      "execution_count": 79,
      "metadata": {
        "colab": {
          "base_uri": "https://localhost:8080/"
        },
        "id": "sm9KafgevKwr",
        "outputId": "beca409b-35ea-4842-8234-9c3d90559d83"
      },
      "outputs": [
        {
          "output_type": "stream",
          "name": "stdout",
          "text": [
            "/content/drive/My Drive/제목없는 폴더\n"
          ]
        }
      ],
      "source": [
        "!pwd # current position"
      ]
    },
    {
      "cell_type": "code",
      "execution_count": 80,
      "metadata": {
        "colab": {
          "base_uri": "https://localhost:8080/"
        },
        "id": "G6b3U7OwvTr8",
        "outputId": "8e104241-8fa8-4301-c64a-09e3ae33a2a2"
      },
      "outputs": [
        {
          "output_type": "stream",
          "name": "stdout",
          "text": [
            "total 4\n",
            "drwx------ 2 root root 4096 Jul  6 01:51 temp\n"
          ]
        }
      ],
      "source": [
        "!ls -l # list of files that are stored in the current directory"
      ]
    },
    {
      "cell_type": "code",
      "execution_count": 81,
      "metadata": {
        "id": "BlL5UGUb2eHI"
      },
      "outputs": [],
      "source": [
        "# 'c'hange 'd'irectory"
      ]
    },
    {
      "cell_type": "markdown",
      "source": [
        "# !unzip -qq zip file name -d destination\n",
        "!unzip -qq /content/drive/MyDrive/intro-dl/archive.zip -d /content/drive/MyDrive/intro-dl"
      ],
      "metadata": {
        "id": "svAE4A5V2RYc"
      }
    },
    {
      "cell_type": "code",
      "execution_count": 82,
      "metadata": {
        "colab": {
          "base_uri": "https://localhost:8080/"
        },
        "id": "ePdVIdBB8_9i",
        "outputId": "7130fe27-db99-4abf-b01e-b1cc49822c40"
      },
      "outputs": [
        {
          "output_type": "stream",
          "name": "stdout",
          "text": [
            "/content/drive/MyDrive\n"
          ]
        }
      ],
      "source": [
        "%cd /content/drive/MyDrive/"
      ]
    },
    {
      "cell_type": "code",
      "execution_count": 83,
      "metadata": {
        "colab": {
          "base_uri": "https://localhost:8080/"
        },
        "id": "zouFABOC7FV7",
        "outputId": "1c93dc50-7f52-45c2-c6ef-e7b64722d259"
      },
      "outputs": [
        {
          "output_type": "stream",
          "name": "stdout",
          "text": [
            "total 3019914\n",
            "-rw------- 1 root root 1139573902 Dec  5  2020 '20201205_수금토 교제_1차 말씀_우병수P.mp4'\n",
            "-rw------- 1 root root  366314806 Feb  6  2021  345.mp4\n",
            "-rw------- 1 root root        179 May 27 14:09  4차혁명.gdoc\n",
            "-rw------- 1 root root  729700755 Jul  4 07:34  archive.zip\n",
            "-rw------- 1 root root     189868 Mar 27 04:06  pandas_1_for_students.ipynb\n",
            "-rw------- 1 root root      37605 Mar 27 05:08  pandas_1.ipynb\n",
            "-rw------- 1 root root     588130 Apr  1 05:49  pandas_2_for_students.ipynb\n",
            "drwx------ 2 root root       4096 May 24 07:57  private\n",
            "drwx------ 2 root root       4096 Apr  8 23:22  TensorFlow\n",
            "-rw------- 1 root root    1492992 May 16  2020  김수진s.hwp\n",
            "-rw------- 1 root root    3569152 May 16  2020  김연재b.hwp\n",
            "-rw------- 1 root root    1358848 May 16  2020  김은기b.hwp\n",
            "-rw------- 1 root root    1681920 May 16  2020  박연우s.hwp\n",
            "-rw------- 1 root root     661504 May 16  2020  선생님.hwp\n",
            "drwx------ 2 root root       4096 Feb 10  2021  성경강연회\n",
            "drwx------ 2 root root       4096 Feb 24  2023 '성경 상담용'\n",
            "-rw------- 1 root root  338959569 Oct  8  2023  신용철P.mp4\n",
            "-rw------- 1 root root    3632640 May 16  2020  신하민b.hwp\n",
            "-rw------- 1 root root  492765861 Aug 10  2023 '신현수 영상편지.mp4'\n",
            "drwx------ 2 root root       4096 Jun 25  2023  영상\n",
            "drwx------ 2 root root       4096 Jan 20  2021 '은혜로 채워주리라'\n",
            "-rw------- 1 root root    5542400 May 16  2020  이윤지s.hwp\n",
            "-rw------- 1 root root     674816 May 16  2020  이주혜s.hwp\n",
            "-rw------- 1 root root    2336768 May 16  2020  정세민b.hwp\n",
            "-rw------- 1 root root    3279360 May 16  2020  정찬명b.hwp\n",
            "drwx------ 3 root root       4096 Jul  6 01:51 '제목없는 폴더'\n"
          ]
        }
      ],
      "source": [
        "!ls -l"
      ]
    },
    {
      "cell_type": "code",
      "execution_count": 84,
      "metadata": {
        "colab": {
          "base_uri": "https://localhost:8080/"
        },
        "id": "qhm05uhU7LxM",
        "outputId": "df581990-1f9e-494c-e392-edcf377c07d7"
      },
      "outputs": [
        {
          "output_type": "stream",
          "name": "stdout",
          "text": [
            "[Errno 2] No such file or directory: 'afhq'\n",
            "/content/drive/MyDrive\n"
          ]
        }
      ],
      "source": [
        "%cd afhq"
      ]
    },
    {
      "cell_type": "code",
      "execution_count": 85,
      "metadata": {
        "colab": {
          "base_uri": "https://localhost:8080/"
        },
        "id": "sW6nmyEQ7N2o",
        "outputId": "c763c70d-fd20-4ad2-c260-a326bbbf6425"
      },
      "outputs": [
        {
          "output_type": "stream",
          "name": "stdout",
          "text": [
            "total 3019914\n",
            "-rw------- 1 root root 1139573902 Dec  5  2020 '20201205_수금토 교제_1차 말씀_우병수P.mp4'\n",
            "-rw------- 1 root root  366314806 Feb  6  2021  345.mp4\n",
            "-rw------- 1 root root        179 May 27 14:09  4차혁명.gdoc\n",
            "-rw------- 1 root root  729700755 Jul  4 07:34  archive.zip\n",
            "-rw------- 1 root root     189868 Mar 27 04:06  pandas_1_for_students.ipynb\n",
            "-rw------- 1 root root      37605 Mar 27 05:08  pandas_1.ipynb\n",
            "-rw------- 1 root root     588130 Apr  1 05:49  pandas_2_for_students.ipynb\n",
            "drwx------ 2 root root       4096 May 24 07:57  private\n",
            "drwx------ 2 root root       4096 Apr  8 23:22  TensorFlow\n",
            "-rw------- 1 root root    1492992 May 16  2020  김수진s.hwp\n",
            "-rw------- 1 root root    3569152 May 16  2020  김연재b.hwp\n",
            "-rw------- 1 root root    1358848 May 16  2020  김은기b.hwp\n",
            "-rw------- 1 root root    1681920 May 16  2020  박연우s.hwp\n",
            "-rw------- 1 root root     661504 May 16  2020  선생님.hwp\n",
            "drwx------ 2 root root       4096 Feb 10  2021  성경강연회\n",
            "drwx------ 2 root root       4096 Feb 24  2023 '성경 상담용'\n",
            "-rw------- 1 root root  338959569 Oct  8  2023  신용철P.mp4\n",
            "-rw------- 1 root root    3632640 May 16  2020  신하민b.hwp\n",
            "-rw------- 1 root root  492765861 Aug 10  2023 '신현수 영상편지.mp4'\n",
            "drwx------ 2 root root       4096 Jun 25  2023  영상\n",
            "drwx------ 2 root root       4096 Jan 20  2021 '은혜로 채워주리라'\n",
            "-rw------- 1 root root    5542400 May 16  2020  이윤지s.hwp\n",
            "-rw------- 1 root root     674816 May 16  2020  이주혜s.hwp\n",
            "-rw------- 1 root root    2336768 May 16  2020  정세민b.hwp\n",
            "-rw------- 1 root root    3279360 May 16  2020  정찬명b.hwp\n",
            "drwx------ 3 root root       4096 Jul  6 01:51 '제목없는 폴더'\n"
          ]
        }
      ],
      "source": [
        "!ls -l"
      ]
    },
    {
      "cell_type": "markdown",
      "metadata": {
        "id": "QoTI2KNJBrDA"
      },
      "source": [
        "## How to use GPU @ Google Colaboratory"
      ]
    },
    {
      "cell_type": "code",
      "execution_count": 86,
      "metadata": {
        "colab": {
          "base_uri": "https://localhost:8080/"
        },
        "id": "7FToR-SWBusO",
        "outputId": "8fc66672-d481-4c4e-dd21-a387feafa04c"
      },
      "outputs": [
        {
          "output_type": "stream",
          "name": "stdout",
          "text": [
            "Sat Jul  6 02:18:47 2024       \n",
            "+---------------------------------------------------------------------------------------+\n",
            "| NVIDIA-SMI 535.104.05             Driver Version: 535.104.05   CUDA Version: 12.2     |\n",
            "|-----------------------------------------+----------------------+----------------------+\n",
            "| GPU  Name                 Persistence-M | Bus-Id        Disp.A | Volatile Uncorr. ECC |\n",
            "| Fan  Temp   Perf          Pwr:Usage/Cap |         Memory-Usage | GPU-Util  Compute M. |\n",
            "|                                         |                      |               MIG M. |\n",
            "|=========================================+======================+======================|\n",
            "|   0  Tesla T4                       Off | 00000000:00:04.0 Off |                    0 |\n",
            "| N/A   42C    P8               9W /  70W |      0MiB / 15360MiB |      0%      Default |\n",
            "|                                         |                      |                  N/A |\n",
            "+-----------------------------------------+----------------------+----------------------+\n",
            "                                                                                         \n",
            "+---------------------------------------------------------------------------------------+\n",
            "| Processes:                                                                            |\n",
            "|  GPU   GI   CI        PID   Type   Process name                            GPU Memory |\n",
            "|        ID   ID                                                             Usage      |\n",
            "|=======================================================================================|\n",
            "|  No running processes found                                                           |\n",
            "+---------------------------------------------------------------------------------------+\n"
          ]
        }
      ],
      "source": [
        "!nvidia-smi\n",
        "# nothing will be shown (command not found)"
      ]
    },
    {
      "cell_type": "code",
      "execution_count": 87,
      "metadata": {
        "id": "D8_VowTkBweJ"
      },
      "outputs": [],
      "source": [
        "# Activate your GPU\n",
        "## Refer to this link:\n",
        "## https://wscode.tistory.com/30\n",
        "## OR 런타임 - 런타임 유형 변경 - T4 GPU"
      ]
    },
    {
      "cell_type": "code",
      "execution_count": 88,
      "metadata": {
        "colab": {
          "base_uri": "https://localhost:8080/"
        },
        "id": "X20BdXf_CFue",
        "outputId": "068b69b6-ec8a-4b82-8a8b-381fcf7ed407"
      },
      "outputs": [
        {
          "output_type": "stream",
          "name": "stdout",
          "text": [
            "Sat Jul  6 02:18:47 2024       \n",
            "+---------------------------------------------------------------------------------------+\n",
            "| NVIDIA-SMI 535.104.05             Driver Version: 535.104.05   CUDA Version: 12.2     |\n",
            "|-----------------------------------------+----------------------+----------------------+\n",
            "| GPU  Name                 Persistence-M | Bus-Id        Disp.A | Volatile Uncorr. ECC |\n",
            "| Fan  Temp   Perf          Pwr:Usage/Cap |         Memory-Usage | GPU-Util  Compute M. |\n",
            "|                                         |                      |               MIG M. |\n",
            "|=========================================+======================+======================|\n",
            "|   0  Tesla T4                       Off | 00000000:00:04.0 Off |                    0 |\n",
            "| N/A   42C    P8              10W /  70W |      0MiB / 15360MiB |      0%      Default |\n",
            "|                                         |                      |                  N/A |\n",
            "+-----------------------------------------+----------------------+----------------------+\n",
            "                                                                                         \n",
            "+---------------------------------------------------------------------------------------+\n",
            "| Processes:                                                                            |\n",
            "|  GPU   GI   CI        PID   Type   Process name                            GPU Memory |\n",
            "|        ID   ID                                                             Usage      |\n",
            "|=======================================================================================|\n",
            "|  No running processes found                                                           |\n",
            "+---------------------------------------------------------------------------------------+\n"
          ]
        }
      ],
      "source": [
        "!nvidia-smi # then the results will be shown"
      ]
    },
    {
      "cell_type": "markdown",
      "metadata": {
        "id": "8Yop2wQsveMD"
      },
      "source": [
        "## Basic Python Libraries"
      ]
    },
    {
      "cell_type": "markdown",
      "metadata": {
        "id": "-jnL1k14C272"
      },
      "source": [
        "### (1) os"
      ]
    },
    {
      "cell_type": "code",
      "execution_count": 89,
      "metadata": {
        "id": "0rzTV2AwvpJH"
      },
      "outputs": [],
      "source": [
        "import os"
      ]
    },
    {
      "cell_type": "code",
      "execution_count": 90,
      "metadata": {
        "colab": {
          "base_uri": "https://localhost:8080/",
          "height": 36
        },
        "id": "-y2hWmdgvunl",
        "outputId": "8a82e34e-8a5a-4adb-b00c-c00bdb7c14aa"
      },
      "outputs": [
        {
          "output_type": "execute_result",
          "data": {
            "text/plain": [
              "'/content/drive/MyDrive'"
            ],
            "application/vnd.google.colaboratory.intrinsic+json": {
              "type": "string"
            }
          },
          "metadata": {},
          "execution_count": 90
        }
      ],
      "source": [
        "os.getcwd()"
      ]
    },
    {
      "cell_type": "code",
      "execution_count": 91,
      "metadata": {
        "id": "3RE7-_Zy7nfL"
      },
      "outputs": [],
      "source": [
        "os.chdir('/content/drive/MyDrive/제목없는 폴더')"
      ]
    },
    {
      "cell_type": "code",
      "source": [
        "os.mkdir('temp')"
      ],
      "metadata": {
        "id": "Nmk6V00qvGxV",
        "colab": {
          "base_uri": "https://localhost:8080/",
          "height": 148
        },
        "outputId": "3c7bd235-6a27-4d59-c455-c2e3b4d8339c"
      },
      "execution_count": 92,
      "outputs": [
        {
          "output_type": "error",
          "ename": "FileExistsError",
          "evalue": "[Errno 17] File exists: 'temp'",
          "traceback": [
            "\u001b[0;31m---------------------------------------------------------------------------\u001b[0m",
            "\u001b[0;31mFileExistsError\u001b[0m                           Traceback (most recent call last)",
            "\u001b[0;32m<ipython-input-92-d9465ae1af7a>\u001b[0m in \u001b[0;36m<cell line: 1>\u001b[0;34m()\u001b[0m\n\u001b[0;32m----> 1\u001b[0;31m \u001b[0mos\u001b[0m\u001b[0;34m.\u001b[0m\u001b[0mmkdir\u001b[0m\u001b[0;34m(\u001b[0m\u001b[0;34m'temp'\u001b[0m\u001b[0;34m)\u001b[0m\u001b[0;34m\u001b[0m\u001b[0;34m\u001b[0m\u001b[0m\n\u001b[0m",
            "\u001b[0;31mFileExistsError\u001b[0m: [Errno 17] File exists: 'temp'"
          ]
        }
      ]
    },
    {
      "cell_type": "code",
      "execution_count": null,
      "metadata": {
        "id": "MJ7QV_a59R63"
      },
      "outputs": [],
      "source": [
        "os.listdir(os.getcwd()) # file/folder 'list' of the current 'dir'ectory -> but uses python library os"
      ]
    },
    {
      "cell_type": "code",
      "execution_count": null,
      "metadata": {
        "id": "07cjHWygjt-g"
      },
      "outputs": [],
      "source": [
        "len(os.listdir(os.getcwd())) # # of files or folders of the current 'dir'ectory"
      ]
    },
    {
      "cell_type": "markdown",
      "metadata": {
        "id": "JtrlgMOov47e"
      },
      "source": [
        "### Question 1. How can I move to the directory I want using the library os & Linux Command?\n",
        "\n",
        "\n",
        "*   I'd like to move to the directory name '/content/sample_data'."
      ]
    },
    {
      "cell_type": "code",
      "execution_count": null,
      "metadata": {
        "id": "MfYQf0VKvyR5"
      },
      "outputs": [],
      "source": [
        "# Your Answer\n",
        "# (1) os\n",
        "os.getcwd()\n",
        "os.chdir('/content/sample_data')"
      ]
    },
    {
      "cell_type": "code",
      "execution_count": null,
      "metadata": {
        "id": "CJ4oHU5GOQ_1"
      },
      "outputs": [],
      "source": [
        "# (2) cd\n",
        "%cd /content/sample_data"
      ]
    },
    {
      "cell_type": "markdown",
      "metadata": {
        "id": "1rEx93C2C-lH"
      },
      "source": [
        "### (2) shutil"
      ]
    },
    {
      "cell_type": "code",
      "execution_count": null,
      "metadata": {
        "id": "TuL9F81bLK4k"
      },
      "outputs": [],
      "source": [
        "import shutil"
      ]
    },
    {
      "cell_type": "code",
      "execution_count": null,
      "metadata": {
        "id": "Aam3dqHUOiMM"
      },
      "outputs": [],
      "source": [
        "os.chdir('/content/drive/MyDrive/제목없는 폴더/afhq')"
      ]
    },
    {
      "cell_type": "code",
      "execution_count": null,
      "metadata": {
        "id": "7mlbiHUYOqki"
      },
      "outputs": [],
      "source": [
        "!ls -l"
      ]
    },
    {
      "cell_type": "code",
      "execution_count": null,
      "metadata": {
        "id": "ZrHYOq4Gc6I2"
      },
      "outputs": [],
      "source": [
        "f = open(\"new.txt\", 'w') # make a txt file name new\n",
        "f.close()"
      ]
    },
    {
      "cell_type": "code",
      "execution_count": null,
      "metadata": {
        "id": "dPfk9fWmddqq"
      },
      "outputs": [],
      "source": [
        "!ls -l"
      ]
    },
    {
      "cell_type": "code",
      "execution_count": null,
      "metadata": {
        "id": "YH4JK36edvo4"
      },
      "outputs": [],
      "source": [
        "!mkdir new_folder"
      ]
    },
    {
      "cell_type": "code",
      "execution_count": null,
      "metadata": {
        "id": "qfiaPotEeCSG"
      },
      "outputs": [],
      "source": [
        "!ls -l"
      ]
    },
    {
      "cell_type": "code",
      "execution_count": null,
      "metadata": {
        "id": "sLR16X9adgmi"
      },
      "outputs": [],
      "source": [
        "src = '/content/drive/MyDrive/제목없는 폴더/afhq/new.txt' # source directory -- python convention\n",
        "dst = '/content/drive/MyDrive/제목없는 폴더/afhq/new_folder/new2.txt' # destination directory -- python convention"
      ]
    },
    {
      "cell_type": "code",
      "execution_count": null,
      "metadata": {
        "id": "XZ9XvfL_d1Dc"
      },
      "outputs": [],
      "source": [
        "shutil.move(src, dst) # from source to target -- move"
      ]
    },
    {
      "cell_type": "code",
      "execution_count": null,
      "metadata": {
        "id": "I6yWt4rvePBF"
      },
      "outputs": [],
      "source": [
        "%cd /content/drive/MyDrive/intro-dl/afhq/new_folder"
      ]
    },
    {
      "cell_type": "code",
      "execution_count": null,
      "metadata": {
        "id": "q3Xh7zzIeUxS"
      },
      "outputs": [],
      "source": [
        "!ls -l"
      ]
    },
    {
      "cell_type": "code",
      "execution_count": null,
      "metadata": {
        "id": "55Kp2uNpeY4q"
      },
      "outputs": [],
      "source": [
        "src2 = '/content/drive/MyDrive/intro-dl/afhq/new_folder/new.txt' # source directory -- python convention\n",
        "dst2 = '/content/drive/MyDrive/intro-dl/afhq/new_folder/new2.txt' # destination directory -- python convention"
      ]
    },
    {
      "cell_type": "code",
      "execution_count": null,
      "metadata": {
        "id": "dU9uPJuPeYFF"
      },
      "outputs": [],
      "source": [
        "shutil.copy(src2, dst2) # from source to target -- copy"
      ]
    },
    {
      "cell_type": "code",
      "execution_count": null,
      "metadata": {
        "id": "URmb28_6emty"
      },
      "outputs": [],
      "source": [
        "!ls -l"
      ]
    },
    {
      "cell_type": "markdown",
      "metadata": {
        "id": "ZN3mS0mBe_uM"
      },
      "source": [
        "### Question 2. Please write a code that copies new.txt with a file name new3.txt.\n",
        "*   Directory: /content/drive/MyDrive/intro-dl/afhq/new_folder\n",
        "\n"
      ]
    },
    {
      "cell_type": "code",
      "execution_count": null,
      "metadata": {
        "id": "Fb_jk1OFfWiN",
        "collapsed": true
      },
      "outputs": [],
      "source": [
        "# Your Answer\n",
        "\n",
        "src3 = '/content/drive/MyDrive/제목없는 폴더/afhq/new_folder/new.txt'\n",
        "dst3 = '/content/drive/MyDrive/제목없는 폴더/afhq/new_folder/new3.txt'\n",
        "\n",
        "\n",
        "shutil.copy(src3, dst3)\n",
        ""
      ]
    },
    {
      "cell_type": "code",
      "execution_count": null,
      "metadata": {
        "id": "-WjOlwWne1w7"
      },
      "outputs": [],
      "source": [
        "\n",
        "%cd '/content/drive/MyDrive/제목없는 폴더/afhq/new_folder'"
      ]
    },
    {
      "cell_type": "markdown",
      "metadata": {
        "id": "QQ55qOuzgil-"
      },
      "source": [
        "## Basic Pytorch\n",
        "\n",
        "*     Reference. https://github.com/Justin-A/DeepLearning101/blob/master/1-2_Basic_Autograd.ipynb"
      ]
    },
    {
      "cell_type": "code",
      "execution_count": 93,
      "metadata": {
        "id": "jvfwaAzf0E0T"
      },
      "outputs": [],
      "source": [
        "import torch"
      ]
    },
    {
      "cell_type": "markdown",
      "metadata": {
        "id": "FqoBM0fQR5Kz"
      },
      "source": [
        "### Representing Scalars w/ Pytorch (2 ways)"
      ]
    },
    {
      "cell_type": "code",
      "execution_count": 94,
      "metadata": {
        "id": "0UIsqNuVRfBG",
        "colab": {
          "base_uri": "https://localhost:8080/"
        },
        "outputId": "0ef393f5-11a8-4f83-b95e-9efbc8af89d2"
      },
      "outputs": [
        {
          "output_type": "stream",
          "name": "stdout",
          "text": [
            "tensor([1.])\n"
          ]
        }
      ],
      "source": [
        "scalar1 = torch.tensor([1.])\n",
        "print(scalar1)"
      ]
    },
    {
      "cell_type": "code",
      "execution_count": 95,
      "metadata": {
        "id": "CS88uQCORfFK",
        "colab": {
          "base_uri": "https://localhost:8080/"
        },
        "outputId": "be730085-a212-4c58-98d7-7dca3cbbb03c"
      },
      "outputs": [
        {
          "output_type": "stream",
          "name": "stdout",
          "text": [
            "tensor([3.])\n"
          ]
        }
      ],
      "source": [
        "scalar2 = torch.tensor([3.])\n",
        "print(scalar2)"
      ]
    },
    {
      "cell_type": "code",
      "execution_count": 96,
      "metadata": {
        "id": "gSPkUBQuRutq",
        "colab": {
          "base_uri": "https://localhost:8080/"
        },
        "outputId": "66368406-82b2-4a51-b5c6-6e50ef5f7df0"
      },
      "outputs": [
        {
          "output_type": "stream",
          "name": "stdout",
          "text": [
            "tensor([4.])\n"
          ]
        }
      ],
      "source": [
        "add_scalar = scalar1 + scalar2 # addition\n",
        "print(add_scalar)"
      ]
    },
    {
      "cell_type": "code",
      "execution_count": 97,
      "metadata": {
        "id": "J-ze6kXZRuxc",
        "colab": {
          "base_uri": "https://localhost:8080/"
        },
        "outputId": "ff5c4d35-2dc0-4079-f0fd-845e9d4e9be1"
      },
      "outputs": [
        {
          "output_type": "stream",
          "name": "stdout",
          "text": [
            "tensor([-2.])\n"
          ]
        }
      ],
      "source": [
        "sub_scalar = scalar1 - scalar2 # subtraction\n",
        "print(sub_scalar)"
      ]
    },
    {
      "cell_type": "code",
      "execution_count": 98,
      "metadata": {
        "id": "zsmdb1GURu2J",
        "colab": {
          "base_uri": "https://localhost:8080/"
        },
        "outputId": "4ba36ad2-d0cc-4fc9-bfb5-b9c0cc9cabec"
      },
      "outputs": [
        {
          "output_type": "stream",
          "name": "stdout",
          "text": [
            "tensor([3.])\n"
          ]
        }
      ],
      "source": [
        "mul_scalar = scalar1 * scalar2 # multiplication\n",
        "print(mul_scalar)"
      ]
    },
    {
      "cell_type": "code",
      "execution_count": 99,
      "metadata": {
        "id": "KaYWZjwPRu6o",
        "colab": {
          "base_uri": "https://localhost:8080/"
        },
        "outputId": "e6db63a8-287d-44c9-8448-38fddf2807cd"
      },
      "outputs": [
        {
          "output_type": "stream",
          "name": "stdout",
          "text": [
            "tensor([0.3333])\n"
          ]
        }
      ],
      "source": [
        "div_scalar = scalar1 / scalar2 # division\n",
        "print(div_scalar)"
      ]
    },
    {
      "cell_type": "code",
      "execution_count": 100,
      "metadata": {
        "id": "3aLnKlXiRu-M",
        "colab": {
          "base_uri": "https://localhost:8080/"
        },
        "outputId": "50f2a3b4-347c-4005-fc9b-6091ce432bb4"
      },
      "outputs": [
        {
          "output_type": "execute_result",
          "data": {
            "text/plain": [
              "tensor([4.])"
            ]
          },
          "metadata": {},
          "execution_count": 100
        }
      ],
      "source": [
        "torch.add(scalar1, scalar2) # addition"
      ]
    },
    {
      "cell_type": "code",
      "execution_count": 101,
      "metadata": {
        "id": "A4WnViRIRvBi",
        "colab": {
          "base_uri": "https://localhost:8080/"
        },
        "outputId": "e3a9dc4d-1ce5-4f9e-974e-623434db533b"
      },
      "outputs": [
        {
          "output_type": "execute_result",
          "data": {
            "text/plain": [
              "tensor([-2.])"
            ]
          },
          "metadata": {},
          "execution_count": 101
        }
      ],
      "source": [
        "torch.sub(scalar1, scalar2) # division"
      ]
    },
    {
      "cell_type": "code",
      "execution_count": 102,
      "metadata": {
        "id": "dGjBu164RvFn",
        "colab": {
          "base_uri": "https://localhost:8080/"
        },
        "outputId": "8618d78e-3de4-4286-ebae-8264c9f5145a"
      },
      "outputs": [
        {
          "output_type": "execute_result",
          "data": {
            "text/plain": [
              "tensor([3.])"
            ]
          },
          "metadata": {},
          "execution_count": 102
        }
      ],
      "source": [
        "torch.mul(scalar1, scalar2) # multiplication"
      ]
    },
    {
      "cell_type": "code",
      "execution_count": 103,
      "metadata": {
        "id": "eF3eFqE8RvJs",
        "colab": {
          "base_uri": "https://localhost:8080/"
        },
        "outputId": "fa9e2132-80af-4add-a681-d6f9f77f5e83"
      },
      "outputs": [
        {
          "output_type": "execute_result",
          "data": {
            "text/plain": [
              "tensor([0.3333])"
            ]
          },
          "metadata": {},
          "execution_count": 103
        }
      ],
      "source": [
        "torch.div(scalar1, scalar2) # division"
      ]
    },
    {
      "cell_type": "markdown",
      "metadata": {
        "id": "xept2jYlSGTk"
      },
      "source": [
        "### Representing Vectors w/ Pytorch (2 ways)"
      ]
    },
    {
      "cell_type": "code",
      "execution_count": 104,
      "metadata": {
        "id": "FhEUthBPSRHL",
        "colab": {
          "base_uri": "https://localhost:8080/"
        },
        "outputId": "d12c0b71-ad5c-434b-efa5-b371ce14fe49"
      },
      "outputs": [
        {
          "output_type": "stream",
          "name": "stdout",
          "text": [
            "tensor([1., 2., 3.])\n"
          ]
        }
      ],
      "source": [
        "vector1 = torch.tensor([1., 2., 3.])\n",
        "print(vector1)"
      ]
    },
    {
      "cell_type": "code",
      "execution_count": 106,
      "metadata": {
        "id": "YMIa3rcSSRNC",
        "colab": {
          "base_uri": "https://localhost:8080/"
        },
        "outputId": "db5d00fd-4cad-43ac-d7e1-ec9eaeeda29b"
      },
      "outputs": [
        {
          "output_type": "stream",
          "name": "stdout",
          "text": [
            "tensor([4., 5., 6.])\n"
          ]
        }
      ],
      "source": [
        "vector2 = torch.tensor([4., 5., 6.])\n",
        "print(vector2)"
      ]
    },
    {
      "cell_type": "code",
      "execution_count": 107,
      "metadata": {
        "id": "1UaYjtGASRRJ",
        "colab": {
          "base_uri": "https://localhost:8080/"
        },
        "outputId": "2b3100d5-0833-4533-8d17-1fb74076f9ab"
      },
      "outputs": [
        {
          "output_type": "stream",
          "name": "stdout",
          "text": [
            "tensor([5., 7., 9.])\n"
          ]
        }
      ],
      "source": [
        "add_vector = vector1 + vector2 # addition\n",
        "print(add_vector)"
      ]
    },
    {
      "cell_type": "code",
      "execution_count": 108,
      "metadata": {
        "id": "CRmMHQNnSU2m",
        "colab": {
          "base_uri": "https://localhost:8080/"
        },
        "outputId": "1be7f4af-54dc-460a-c5b8-8b78da7fb205"
      },
      "outputs": [
        {
          "output_type": "stream",
          "name": "stdout",
          "text": [
            "tensor([-3., -3., -3.])\n"
          ]
        }
      ],
      "source": [
        "sub_vector = vector1 - vector2 # subtraction\n",
        "print(sub_vector)"
      ]
    },
    {
      "cell_type": "code",
      "execution_count": 109,
      "metadata": {
        "id": "8qv7g4XESU7w",
        "colab": {
          "base_uri": "https://localhost:8080/"
        },
        "outputId": "349d8e08-48b9-495e-fbc5-9a5e945bae40"
      },
      "outputs": [
        {
          "output_type": "stream",
          "name": "stdout",
          "text": [
            "tensor([ 4., 10., 18.])\n"
          ]
        }
      ],
      "source": [
        "mul_vector = vector1 * vector2 # multiplication\n",
        "print(mul_vector)"
      ]
    },
    {
      "cell_type": "code",
      "execution_count": 110,
      "metadata": {
        "id": "U4uBjLTiSVBl",
        "colab": {
          "base_uri": "https://localhost:8080/"
        },
        "outputId": "94ff9dcd-26e5-46da-c46c-67096cf93fa9"
      },
      "outputs": [
        {
          "output_type": "stream",
          "name": "stdout",
          "text": [
            "tensor([0.2500, 0.4000, 0.5000])\n"
          ]
        }
      ],
      "source": [
        "div_vector = vector1 / vector2 # division\n",
        "print(div_vector)"
      ]
    },
    {
      "cell_type": "code",
      "execution_count": 111,
      "metadata": {
        "id": "lkAn1-gNSVGR",
        "colab": {
          "base_uri": "https://localhost:8080/"
        },
        "outputId": "0002fb4f-f50e-4c52-9ff9-43681b1c8a77"
      },
      "outputs": [
        {
          "output_type": "execute_result",
          "data": {
            "text/plain": [
              "tensor([5., 7., 9.])"
            ]
          },
          "metadata": {},
          "execution_count": 111
        }
      ],
      "source": [
        "torch.add(vector1, vector2) # addition"
      ]
    },
    {
      "cell_type": "code",
      "execution_count": 112,
      "metadata": {
        "id": "sLgTOXkaSVK8",
        "colab": {
          "base_uri": "https://localhost:8080/"
        },
        "outputId": "55a77c29-33e3-4848-da6e-23d59ad661b6"
      },
      "outputs": [
        {
          "output_type": "execute_result",
          "data": {
            "text/plain": [
              "tensor([-3., -3., -3.])"
            ]
          },
          "metadata": {},
          "execution_count": 112
        }
      ],
      "source": [
        "torch.sub(vector1, vector2) # subtraction"
      ]
    },
    {
      "cell_type": "code",
      "execution_count": 113,
      "metadata": {
        "id": "tN3JzNjoSVP0",
        "colab": {
          "base_uri": "https://localhost:8080/"
        },
        "outputId": "c94de8cd-35b1-412b-b8c1-e3609aa740c7"
      },
      "outputs": [
        {
          "output_type": "execute_result",
          "data": {
            "text/plain": [
              "tensor([ 4., 10., 18.])"
            ]
          },
          "metadata": {},
          "execution_count": 113
        }
      ],
      "source": [
        "torch.mul(vector1, vector2) # multiplication"
      ]
    },
    {
      "cell_type": "code",
      "execution_count": 114,
      "metadata": {
        "id": "uOwsO2sGSf84",
        "colab": {
          "base_uri": "https://localhost:8080/"
        },
        "outputId": "0deaa628-f15d-4f5c-bef9-5e953663d81a"
      },
      "outputs": [
        {
          "output_type": "execute_result",
          "data": {
            "text/plain": [
              "tensor([0.2500, 0.4000, 0.5000])"
            ]
          },
          "metadata": {},
          "execution_count": 114
        }
      ],
      "source": [
        "torch.div(vector1, vector2) # division"
      ]
    },
    {
      "cell_type": "code",
      "execution_count": 115,
      "metadata": {
        "id": "x_0Q3j5NSjQR",
        "colab": {
          "base_uri": "https://localhost:8080/"
        },
        "outputId": "04979fcd-ef4f-48eb-f0e7-2827532bd325"
      },
      "outputs": [
        {
          "output_type": "execute_result",
          "data": {
            "text/plain": [
              "tensor(32.)"
            ]
          },
          "metadata": {},
          "execution_count": 115
        }
      ],
      "source": [
        "torch.dot(vector1, vector2) # dot product"
      ]
    },
    {
      "cell_type": "markdown",
      "metadata": {
        "id": "BC0UpAMlSGf3"
      },
      "source": [
        "### Representing Matrices w/ Pytorch (2 ways)"
      ]
    },
    {
      "cell_type": "code",
      "execution_count": 116,
      "metadata": {
        "id": "2vq16WlGRvOv",
        "colab": {
          "base_uri": "https://localhost:8080/"
        },
        "outputId": "c6b612ac-fe6b-4777-86bd-79930232e688"
      },
      "outputs": [
        {
          "output_type": "stream",
          "name": "stdout",
          "text": [
            "tensor([[1., 2.],\n",
            "        [3., 4.]])\n"
          ]
        }
      ],
      "source": [
        "matrix1 = torch.tensor([[1., 2.], [3., 4.]])\n",
        "print(matrix1)"
      ]
    },
    {
      "cell_type": "code",
      "execution_count": 117,
      "metadata": {
        "id": "MQeyFKpyRvSG",
        "colab": {
          "base_uri": "https://localhost:8080/"
        },
        "outputId": "795693da-4d9d-4783-c083-1c0301623af7"
      },
      "outputs": [
        {
          "output_type": "stream",
          "name": "stdout",
          "text": [
            "tensor([[5., 6.],\n",
            "        [7., 8.]])\n"
          ]
        }
      ],
      "source": [
        "matrix2 = torch.tensor([[5., 6.], [7., 8.]])\n",
        "print(matrix2)"
      ]
    },
    {
      "cell_type": "code",
      "execution_count": 118,
      "metadata": {
        "id": "c9PzgzU9RvVz",
        "colab": {
          "base_uri": "https://localhost:8080/"
        },
        "outputId": "8e05aa01-24a7-4357-d8f1-5526855e97a6"
      },
      "outputs": [
        {
          "output_type": "stream",
          "name": "stdout",
          "text": [
            "tensor([[ 6.,  8.],\n",
            "        [10., 12.]])\n"
          ]
        }
      ],
      "source": [
        "sum_matrix = matrix1 + matrix2 # element-wise addition\n",
        "print(sum_matrix)"
      ]
    },
    {
      "cell_type": "code",
      "execution_count": 119,
      "metadata": {
        "id": "0T__pxltRvZr",
        "colab": {
          "base_uri": "https://localhost:8080/"
        },
        "outputId": "ddd4f8c5-b3d3-4ddf-fad6-5a2eb07d6d02"
      },
      "outputs": [
        {
          "output_type": "stream",
          "name": "stdout",
          "text": [
            "tensor([[-4., -4.],\n",
            "        [-4., -4.]])\n"
          ]
        }
      ],
      "source": [
        "sub_matrix = matrix1 - matrix2 # element-wise subtraction\n",
        "print(sub_matrix)"
      ]
    },
    {
      "cell_type": "code",
      "execution_count": 120,
      "metadata": {
        "id": "hYIZzwX7RfJ4",
        "colab": {
          "base_uri": "https://localhost:8080/"
        },
        "outputId": "34739e2e-85a4-4781-9c78-c8dbb93e4c4a"
      },
      "outputs": [
        {
          "output_type": "stream",
          "name": "stdout",
          "text": [
            "tensor([[ 5., 12.],\n",
            "        [21., 32.]])\n"
          ]
        }
      ],
      "source": [
        "mul_matrix = matrix1 * matrix2 # element-wise multiplication\n",
        "print(mul_matrix)"
      ]
    },
    {
      "cell_type": "code",
      "execution_count": 121,
      "metadata": {
        "id": "ZDxphCr-S5ud",
        "colab": {
          "base_uri": "https://localhost:8080/"
        },
        "outputId": "7dac0826-2b55-4224-b91c-19ec78accfb8"
      },
      "outputs": [
        {
          "output_type": "stream",
          "name": "stdout",
          "text": [
            "tensor([[0.2000, 0.3333],\n",
            "        [0.4286, 0.5000]])\n"
          ]
        }
      ],
      "source": [
        "div_matrix = matrix1 / matrix2 # element-wise division\n",
        "print(div_matrix)"
      ]
    },
    {
      "cell_type": "code",
      "execution_count": 124,
      "metadata": {
        "id": "hzwrIReNS51E",
        "colab": {
          "base_uri": "https://localhost:8080/"
        },
        "outputId": "c98eeb1a-9af0-4025-fb59-070f437d637a"
      },
      "outputs": [
        {
          "output_type": "execute_result",
          "data": {
            "text/plain": [
              "tensor([[ 6.,  8.],\n",
              "        [10., 12.]])"
            ]
          },
          "metadata": {},
          "execution_count": 124
        }
      ],
      "source": [
        "torch.add(matrix1, matrix2) # element-wise addition"
      ]
    },
    {
      "cell_type": "code",
      "execution_count": 123,
      "metadata": {
        "id": "7mcUDzvQS9sv",
        "colab": {
          "base_uri": "https://localhost:8080/"
        },
        "outputId": "5b36bd77-e33b-4068-940f-b6a6db1f9323"
      },
      "outputs": [
        {
          "output_type": "execute_result",
          "data": {
            "text/plain": [
              "tensor([[-4., -4.],\n",
              "        [-4., -4.]])"
            ]
          },
          "metadata": {},
          "execution_count": 123
        }
      ],
      "source": [
        "torch.sub(matrix1, matrix2) # element-wise subtraction"
      ]
    },
    {
      "cell_type": "code",
      "execution_count": 122,
      "metadata": {
        "id": "S1sRjf64S90Y",
        "colab": {
          "base_uri": "https://localhost:8080/"
        },
        "outputId": "a9c2d06c-ee79-4760-f8b1-83c096c01deb"
      },
      "outputs": [
        {
          "output_type": "execute_result",
          "data": {
            "text/plain": [
              "tensor([[ 5., 12.],\n",
              "        [21., 32.]])"
            ]
          },
          "metadata": {},
          "execution_count": 122
        }
      ],
      "source": [
        "torch.mul(matrix1, matrix2) # element-wise multiplication"
      ]
    },
    {
      "cell_type": "code",
      "execution_count": 126,
      "metadata": {
        "id": "OjSP7fWES95c",
        "colab": {
          "base_uri": "https://localhost:8080/"
        },
        "outputId": "56aef930-9c5c-4632-d59d-d196aec48d3e"
      },
      "outputs": [
        {
          "output_type": "execute_result",
          "data": {
            "text/plain": [
              "tensor([[0.2000, 0.3333],\n",
              "        [0.4286, 0.5000]])"
            ]
          },
          "metadata": {},
          "execution_count": 126
        }
      ],
      "source": [
        "torch.div(matrix1, matrix2) # element-wise division"
      ]
    },
    {
      "cell_type": "code",
      "execution_count": 127,
      "metadata": {
        "id": "fXRLf6DkS9-A",
        "colab": {
          "base_uri": "https://localhost:8080/"
        },
        "outputId": "ad5307d4-9f51-4f27-ee34-3cd159c6e298"
      },
      "outputs": [
        {
          "output_type": "execute_result",
          "data": {
            "text/plain": [
              "tensor([[19., 22.],\n",
              "        [43., 50.]])"
            ]
          },
          "metadata": {},
          "execution_count": 127
        }
      ],
      "source": [
        "torch.matmul(matrix1, matrix2) # matrix multiplication"
      ]
    },
    {
      "cell_type": "code",
      "execution_count": null,
      "metadata": {
        "id": "E3fiTdotS56n"
      },
      "outputs": [],
      "source": []
    },
    {
      "cell_type": "code",
      "execution_count": null,
      "metadata": {
        "id": "rokDX6c_S6Ak"
      },
      "outputs": [],
      "source": []
    },
    {
      "cell_type": "markdown",
      "metadata": {
        "id": "Lkq9pZK_0h5r"
      },
      "source": [
        "### Question 3. Compute L1/L2 Norm between matrix1 and matrix2 above.\n",
        "*     Hint: https://pytorch.org/docs/stable/generated/torch.linalg.norm.html"
      ]
    },
    {
      "cell_type": "code",
      "execution_count": 128,
      "metadata": {
        "id": "EgLdPduq1HHx"
      },
      "outputs": [],
      "source": [
        "## Your Answer\n",
        "\n",
        "## L1 Norm\n",
        "norm1 = torch.linalg.matrix_norm(matrix1-matrix2, ord=1)\n",
        "## L2 Norm\n",
        "norm2 = torch.linalg.matrix_norm(matrix1-matrix2, ord=2)\n"
      ]
    },
    {
      "cell_type": "code",
      "execution_count": 129,
      "metadata": {
        "id": "r9iAVpndUFfX",
        "colab": {
          "base_uri": "https://localhost:8080/"
        },
        "outputId": "e52e79eb-bb05-4b87-a995-8587d54f5fc9"
      },
      "outputs": [
        {
          "output_type": "stream",
          "name": "stdout",
          "text": [
            "tensor([[0.2969, 0.3437],\n",
            "        [0.6719, 0.7812]])\n"
          ]
        }
      ],
      "source": [
        "## Hard Mode (Optional)\n",
        "## Compute Cosine Similarity between matrix1 and matrix2 above.\n",
        "\n",
        "## Your Answer\n",
        "cosine_similarity = torch.matmul(matrix1,matrix2) / (norm1 * norm2)\n",
        "print(cosine_similarity)\n",
        "\n"
      ]
    },
    {
      "cell_type": "markdown",
      "metadata": {
        "id": "GDck4fScEtI9"
      },
      "source": [
        "## Simple MLP\n",
        "\n",
        "*    Reference. https://github.com/Justin-A/DeepLearning101/blob/master/2-1_MNIST_MLP.ipynb"
      ]
    },
    {
      "cell_type": "code",
      "execution_count": 130,
      "metadata": {
        "id": "n3uRuWgZEwcy"
      },
      "outputs": [],
      "source": [
        "''' 1. Module Import '''\n",
        "import numpy as np\n",
        "import matplotlib.pyplot as plt\n",
        "\n",
        "import torch\n",
        "import torch.nn as nn\n",
        "import torch.nn.functional as F\n",
        "from torchvision import transforms, datasets"
      ]
    },
    {
      "cell_type": "code",
      "execution_count": 131,
      "metadata": {
        "id": "zLAkO1Jugf34",
        "colab": {
          "base_uri": "https://localhost:8080/"
        },
        "outputId": "fbf38079-8d46-4400-8c5a-53d6f07dc027"
      },
      "outputs": [
        {
          "output_type": "stream",
          "name": "stdout",
          "text": [
            "Using PyTorch version: 2.3.0+cu121  Device: cuda\n"
          ]
        }
      ],
      "source": [
        "if torch.cuda.is_available():\n",
        "    DEVICE = torch.device('cuda')\n",
        "else:\n",
        "    DEVICE = torch.device('cpu')\n",
        "\n",
        "print('Using PyTorch version:', torch.__version__, ' Device:', DEVICE)"
      ]
    },
    {
      "cell_type": "code",
      "execution_count": 132,
      "metadata": {
        "id": "wtSUJeMVggF0"
      },
      "outputs": [],
      "source": [
        "BATCH_SIZE = 32\n",
        "EPOCHS = 10"
      ]
    },
    {
      "cell_type": "code",
      "execution_count": 133,
      "metadata": {
        "id": "7LsuDi6TggII",
        "colab": {
          "base_uri": "https://localhost:8080/"
        },
        "outputId": "5b00b409-bcc5-4581-cfe2-632d47f720e2"
      },
      "outputs": [
        {
          "output_type": "stream",
          "name": "stdout",
          "text": [
            "Downloading http://yann.lecun.com/exdb/mnist/train-images-idx3-ubyte.gz\n",
            "Failed to download (trying next):\n",
            "HTTP Error 403: Forbidden\n",
            "\n",
            "Downloading https://ossci-datasets.s3.amazonaws.com/mnist/train-images-idx3-ubyte.gz\n",
            "Downloading https://ossci-datasets.s3.amazonaws.com/mnist/train-images-idx3-ubyte.gz to ../data/MNIST/MNIST/raw/train-images-idx3-ubyte.gz\n"
          ]
        },
        {
          "output_type": "stream",
          "name": "stderr",
          "text": [
            "100%|██████████| 9912422/9912422 [00:00<00:00, 17738251.14it/s]\n"
          ]
        },
        {
          "output_type": "stream",
          "name": "stdout",
          "text": [
            "Extracting ../data/MNIST/MNIST/raw/train-images-idx3-ubyte.gz to ../data/MNIST/MNIST/raw\n",
            "\n",
            "Downloading http://yann.lecun.com/exdb/mnist/train-labels-idx1-ubyte.gz\n",
            "Failed to download (trying next):\n",
            "HTTP Error 403: Forbidden\n",
            "\n",
            "Downloading https://ossci-datasets.s3.amazonaws.com/mnist/train-labels-idx1-ubyte.gz\n",
            "Downloading https://ossci-datasets.s3.amazonaws.com/mnist/train-labels-idx1-ubyte.gz to ../data/MNIST/MNIST/raw/train-labels-idx1-ubyte.gz\n"
          ]
        },
        {
          "output_type": "stream",
          "name": "stderr",
          "text": [
            "100%|██████████| 28881/28881 [00:00<00:00, 515006.44it/s]\n"
          ]
        },
        {
          "output_type": "stream",
          "name": "stdout",
          "text": [
            "Extracting ../data/MNIST/MNIST/raw/train-labels-idx1-ubyte.gz to ../data/MNIST/MNIST/raw\n",
            "\n",
            "Downloading http://yann.lecun.com/exdb/mnist/t10k-images-idx3-ubyte.gz\n",
            "Failed to download (trying next):\n",
            "HTTP Error 403: Forbidden\n",
            "\n",
            "Downloading https://ossci-datasets.s3.amazonaws.com/mnist/t10k-images-idx3-ubyte.gz\n",
            "Downloading https://ossci-datasets.s3.amazonaws.com/mnist/t10k-images-idx3-ubyte.gz to ../data/MNIST/MNIST/raw/t10k-images-idx3-ubyte.gz\n"
          ]
        },
        {
          "output_type": "stream",
          "name": "stderr",
          "text": [
            "100%|██████████| 1648877/1648877 [00:00<00:00, 4447484.26it/s]\n"
          ]
        },
        {
          "output_type": "stream",
          "name": "stdout",
          "text": [
            "Extracting ../data/MNIST/MNIST/raw/t10k-images-idx3-ubyte.gz to ../data/MNIST/MNIST/raw\n",
            "\n",
            "Downloading http://yann.lecun.com/exdb/mnist/t10k-labels-idx1-ubyte.gz\n",
            "Failed to download (trying next):\n",
            "HTTP Error 403: Forbidden\n",
            "\n",
            "Downloading https://ossci-datasets.s3.amazonaws.com/mnist/t10k-labels-idx1-ubyte.gz\n",
            "Downloading https://ossci-datasets.s3.amazonaws.com/mnist/t10k-labels-idx1-ubyte.gz to ../data/MNIST/MNIST/raw/t10k-labels-idx1-ubyte.gz\n"
          ]
        },
        {
          "output_type": "stream",
          "name": "stderr",
          "text": [
            "100%|██████████| 4542/4542 [00:00<00:00, 2367407.58it/s]"
          ]
        },
        {
          "output_type": "stream",
          "name": "stdout",
          "text": [
            "Extracting ../data/MNIST/MNIST/raw/t10k-labels-idx1-ubyte.gz to ../data/MNIST/MNIST/raw\n",
            "\n"
          ]
        },
        {
          "output_type": "stream",
          "name": "stderr",
          "text": [
            "\n"
          ]
        }
      ],
      "source": [
        "''' 3. MNIST Download (Train set, Test set split) '''\n",
        "train_dataset = datasets.MNIST(root = \"../data/MNIST\",\n",
        "                               train = True,\n",
        "                               download = True,\n",
        "                               transform = transforms.ToTensor())\n",
        "\n",
        "test_dataset = datasets.MNIST(root = \"../data/MNIST\",\n",
        "                              train = False,\n",
        "                              transform = transforms.ToTensor())\n",
        "\n",
        "train_loader = torch.utils.data.DataLoader(dataset = train_dataset,\n",
        "                                           batch_size = BATCH_SIZE,\n",
        "                                           shuffle = True)\n",
        "\n",
        "test_loader = torch.utils.data.DataLoader(dataset = test_dataset,\n",
        "                                          batch_size = BATCH_SIZE,\n",
        "                                          shuffle = False)"
      ]
    },
    {
      "cell_type": "code",
      "execution_count": 134,
      "metadata": {
        "id": "o8LChiv3ggNd",
        "colab": {
          "base_uri": "https://localhost:8080/"
        },
        "outputId": "79f4a715-e219-410f-8c50-4624dd1397a7"
      },
      "outputs": [
        {
          "output_type": "stream",
          "name": "stdout",
          "text": [
            "X_train: torch.Size([32, 1, 28, 28]) type: torch.FloatTensor\n",
            "y_train: torch.Size([32]) type: torch.LongTensor\n"
          ]
        }
      ],
      "source": [
        "for (X_train, y_train) in train_loader:\n",
        "    print('X_train:', X_train.size(), 'type:', X_train.type())\n",
        "    print('y_train:', y_train.size(), 'type:', y_train.type())\n",
        "    break"
      ]
    },
    {
      "cell_type": "code",
      "execution_count": 135,
      "metadata": {
        "id": "dY0Ypc0fggPx",
        "colab": {
          "base_uri": "https://localhost:8080/",
          "height": 117
        },
        "outputId": "b5c2c813-8675-41d0-caab-284ee26e3406"
      },
      "outputs": [
        {
          "output_type": "display_data",
          "data": {
            "text/plain": [
              "<Figure size 1000x100 with 10 Axes>"
            ],
            "image/png": "[encoded data removed]"
          },
          "metadata": {}
        }
      ],
      "source": [
        "pltsize = 1\n",
        "plt.figure(figsize=(10 * pltsize, pltsize))\n",
        "for i in range(10):\n",
        "    plt.subplot(1, 10, i + 1)\n",
        "    plt.axis('off')\n",
        "    plt.imshow(X_train[i, :, :, :].numpy().reshape(28, 28), cmap = \"gray_r\")\n",
        "    plt.title('Class: ' + str(y_train[i].item()))"
      ]
    },
    {
      "cell_type": "code",
      "execution_count": 136,
      "metadata": {
        "id": "x7WkQj2mggSD"
      },
      "outputs": [],
      "source": [
        "''' Multi Layer Perceptron '''\n",
        "class Net(nn.Module):\n",
        "    def __init__(self):\n",
        "        super(Net, self).__init__()\n",
        "        self.fc1 = nn.Linear(28 * 28, 512)\n",
        "        self.fc2 = nn.Linear(512, 256)\n",
        "        self.fc3 = nn.Linear(256, 10)\n",
        "\n",
        "    def forward(self, x):\n",
        "        x = x.view(-1, 28 * 28)\n",
        "        x = self.fc1(x)\n",
        "        x = F.sigmoid(x)\n",
        "        x = self.fc2(x)\n",
        "        x = F.sigmoid(x)\n",
        "        x = self.fc3(x)\n",
        "        x = F.log_softmax(x, dim = 1)\n",
        "        return x"
      ]
    },
    {
      "cell_type": "code",
      "execution_count": 137,
      "metadata": {
        "id": "dwRqonzKtd1O",
        "colab": {
          "base_uri": "https://localhost:8080/"
        },
        "outputId": "b92fd16d-bc72-4e2b-8c3f-12a2d79732a3"
      },
      "outputs": [
        {
          "output_type": "stream",
          "name": "stdout",
          "text": [
            "Net(\n",
            "  (fc1): Linear(in_features=784, out_features=512, bias=True)\n",
            "  (fc2): Linear(in_features=512, out_features=256, bias=True)\n",
            "  (fc3): Linear(in_features=256, out_features=10, bias=True)\n",
            ")\n"
          ]
        }
      ],
      "source": [
        "''' Optimizer, Objective Function '''\n",
        "model = Net().to(DEVICE)\n",
        "optimizer = torch.optim.SGD(model.parameters(), lr = 0.01, momentum = 0.5)\n",
        "criterion = nn.CrossEntropyLoss()\n",
        "\n",
        "print(model)"
      ]
    },
    {
      "cell_type": "code",
      "execution_count": 138,
      "metadata": {
        "id": "p_LnCyyftl88"
      },
      "outputs": [],
      "source": [
        "def train(model, train_loader, optimizer, log_interval):\n",
        "    model.train()\n",
        "    for batch_idx, (image, label) in enumerate(train_loader):\n",
        "        image = image.to(DEVICE)\n",
        "        label = label.to(DEVICE)\n",
        "        optimizer.zero_grad()\n",
        "        output = model(image)\n",
        "        loss = criterion(output, label)\n",
        "        loss.backward()\n",
        "        optimizer.step()\n",
        "\n",
        "        if batch_idx % log_interval == 0:\n",
        "            print(\"Train Epoch: {} [{}/{} ({:.0f}%)]\\tTrain Loss: {:.6f}\".format(\n",
        "                epoch, batch_idx * len(image),\n",
        "                len(train_loader.dataset), 100. * batch_idx / len(train_loader),\n",
        "                loss.item()))"
      ]
    },
    {
      "cell_type": "code",
      "execution_count": 139,
      "metadata": {
        "id": "psTeTnRmtl_I"
      },
      "outputs": [],
      "source": [
        "def evaluate(model, test_loader):\n",
        "    model.eval()\n",
        "    test_loss = 0\n",
        "    correct = 0\n",
        "\n",
        "    with torch.no_grad():\n",
        "        for image, label in test_loader:\n",
        "            image = image.to(DEVICE)\n",
        "            label = label.to(DEVICE)\n",
        "            output = model(image)\n",
        "            test_loss += criterion(output, label).item()\n",
        "            prediction = output.max(1, keepdim = True)[1]\n",
        "            correct += prediction.eq(label.view_as(prediction)).sum().item()\n",
        "\n",
        "    test_loss /= (len(test_loader.dataset) / BATCH_SIZE)\n",
        "    test_accuracy = 100. * correct / len(test_loader.dataset)\n",
        "    return test_loss, test_accuracy"
      ]
    },
    {
      "cell_type": "code",
      "execution_count": 140,
      "metadata": {
        "id": "rGShY7RNRMme",
        "colab": {
          "base_uri": "https://localhost:8080/"
        },
        "outputId": "1bb2b8e3-6005-4e42-e54d-31e4b4a9e53f"
      },
      "outputs": [
        {
          "output_type": "stream",
          "name": "stdout",
          "text": [
            "Train Epoch: 1 [0/60000 (0%)]\tTrain Loss: 2.293721\n",
            "Train Epoch: 1 [6400/60000 (11%)]\tTrain Loss: 2.317024\n",
            "Train Epoch: 1 [12800/60000 (21%)]\tTrain Loss: 2.287958\n",
            "Train Epoch: 1 [19200/60000 (32%)]\tTrain Loss: 2.267014\n",
            "Train Epoch: 1 [25600/60000 (43%)]\tTrain Loss: 2.281283\n",
            "Train Epoch: 1 [32000/60000 (53%)]\tTrain Loss: 2.314311\n",
            "Train Epoch: 1 [38400/60000 (64%)]\tTrain Loss: 2.292368\n",
            "Train Epoch: 1 [44800/60000 (75%)]\tTrain Loss: 2.276995\n",
            "Train Epoch: 1 [51200/60000 (85%)]\tTrain Loss: 2.259713\n",
            "Train Epoch: 1 [57600/60000 (96%)]\tTrain Loss: 2.207435\n",
            "\n",
            "[EPOCH: 1], \tTest Loss: 2.2273, \tTest Accuracy: 31.93 % \n",
            "\n",
            "Train Epoch: 2 [0/60000 (0%)]\tTrain Loss: 2.161601\n",
            "Train Epoch: 2 [6400/60000 (11%)]\tTrain Loss: 2.214036\n",
            "Train Epoch: 2 [12800/60000 (21%)]\tTrain Loss: 2.164190\n",
            "Train Epoch: 2 [19200/60000 (32%)]\tTrain Loss: 2.072910\n",
            "Train Epoch: 2 [25600/60000 (43%)]\tTrain Loss: 1.979425\n",
            "Train Epoch: 2 [32000/60000 (53%)]\tTrain Loss: 1.703381\n",
            "Train Epoch: 2 [38400/60000 (64%)]\tTrain Loss: 1.678587\n",
            "Train Epoch: 2 [44800/60000 (75%)]\tTrain Loss: 1.343829\n",
            "Train Epoch: 2 [51200/60000 (85%)]\tTrain Loss: 1.405425\n",
            "Train Epoch: 2 [57600/60000 (96%)]\tTrain Loss: 1.167793\n",
            "\n",
            "[EPOCH: 2], \tTest Loss: 1.1945, \tTest Accuracy: 63.32 % \n",
            "\n",
            "Train Epoch: 3 [0/60000 (0%)]\tTrain Loss: 1.183220\n",
            "Train Epoch: 3 [6400/60000 (11%)]\tTrain Loss: 1.234730\n",
            "Train Epoch: 3 [12800/60000 (21%)]\tTrain Loss: 0.973639\n",
            "Train Epoch: 3 [19200/60000 (32%)]\tTrain Loss: 0.994225\n",
            "Train Epoch: 3 [25600/60000 (43%)]\tTrain Loss: 0.888438\n",
            "Train Epoch: 3 [32000/60000 (53%)]\tTrain Loss: 0.987484\n",
            "Train Epoch: 3 [38400/60000 (64%)]\tTrain Loss: 1.012565\n",
            "Train Epoch: 3 [44800/60000 (75%)]\tTrain Loss: 0.767554\n",
            "Train Epoch: 3 [51200/60000 (85%)]\tTrain Loss: 0.996119\n",
            "Train Epoch: 3 [57600/60000 (96%)]\tTrain Loss: 0.938328\n",
            "\n",
            "[EPOCH: 3], \tTest Loss: 0.7535, \tTest Accuracy: 77.59 % \n",
            "\n",
            "Train Epoch: 4 [0/60000 (0%)]\tTrain Loss: 0.588005\n",
            "Train Epoch: 4 [6400/60000 (11%)]\tTrain Loss: 0.711158\n",
            "Train Epoch: 4 [12800/60000 (21%)]\tTrain Loss: 0.890896\n",
            "Train Epoch: 4 [19200/60000 (32%)]\tTrain Loss: 0.671465\n",
            "Train Epoch: 4 [25600/60000 (43%)]\tTrain Loss: 0.698325\n",
            "Train Epoch: 4 [32000/60000 (53%)]\tTrain Loss: 0.690964\n",
            "Train Epoch: 4 [38400/60000 (64%)]\tTrain Loss: 0.843732\n",
            "Train Epoch: 4 [44800/60000 (75%)]\tTrain Loss: 0.547859\n",
            "Train Epoch: 4 [51200/60000 (85%)]\tTrain Loss: 0.522499\n",
            "Train Epoch: 4 [57600/60000 (96%)]\tTrain Loss: 0.596204\n",
            "\n",
            "[EPOCH: 4], \tTest Loss: 0.5696, \tTest Accuracy: 83.47 % \n",
            "\n",
            "Train Epoch: 5 [0/60000 (0%)]\tTrain Loss: 0.710819\n",
            "Train Epoch: 5 [6400/60000 (11%)]\tTrain Loss: 0.587611\n",
            "Train Epoch: 5 [12800/60000 (21%)]\tTrain Loss: 0.915545\n",
            "Train Epoch: 5 [19200/60000 (32%)]\tTrain Loss: 0.541099\n",
            "Train Epoch: 5 [25600/60000 (43%)]\tTrain Loss: 0.456802\n",
            "Train Epoch: 5 [32000/60000 (53%)]\tTrain Loss: 0.385959\n",
            "Train Epoch: 5 [38400/60000 (64%)]\tTrain Loss: 0.451688\n",
            "Train Epoch: 5 [44800/60000 (75%)]\tTrain Loss: 0.433349\n",
            "Train Epoch: 5 [51200/60000 (85%)]\tTrain Loss: 0.546635\n",
            "Train Epoch: 5 [57600/60000 (96%)]\tTrain Loss: 0.314712\n",
            "\n",
            "[EPOCH: 5], \tTest Loss: 0.4656, \tTest Accuracy: 86.20 % \n",
            "\n",
            "Train Epoch: 6 [0/60000 (0%)]\tTrain Loss: 0.461362\n",
            "Train Epoch: 6 [6400/60000 (11%)]\tTrain Loss: 0.265459\n",
            "Train Epoch: 6 [12800/60000 (21%)]\tTrain Loss: 0.391073\n",
            "Train Epoch: 6 [19200/60000 (32%)]\tTrain Loss: 0.531112\n",
            "Train Epoch: 6 [25600/60000 (43%)]\tTrain Loss: 0.441724\n",
            "Train Epoch: 6 [32000/60000 (53%)]\tTrain Loss: 0.285140\n",
            "Train Epoch: 6 [38400/60000 (64%)]\tTrain Loss: 0.457491\n",
            "Train Epoch: 6 [44800/60000 (75%)]\tTrain Loss: 0.517257\n",
            "Train Epoch: 6 [51200/60000 (85%)]\tTrain Loss: 0.379776\n",
            "Train Epoch: 6 [57600/60000 (96%)]\tTrain Loss: 0.280045\n",
            "\n",
            "[EPOCH: 6], \tTest Loss: 0.4117, \tTest Accuracy: 88.00 % \n",
            "\n",
            "Train Epoch: 7 [0/60000 (0%)]\tTrain Loss: 0.349989\n",
            "Train Epoch: 7 [6400/60000 (11%)]\tTrain Loss: 0.500712\n",
            "Train Epoch: 7 [12800/60000 (21%)]\tTrain Loss: 0.352098\n",
            "Train Epoch: 7 [19200/60000 (32%)]\tTrain Loss: 0.355255\n",
            "Train Epoch: 7 [25600/60000 (43%)]\tTrain Loss: 0.412951\n",
            "Train Epoch: 7 [32000/60000 (53%)]\tTrain Loss: 0.535448\n",
            "Train Epoch: 7 [38400/60000 (64%)]\tTrain Loss: 0.462834\n",
            "Train Epoch: 7 [44800/60000 (75%)]\tTrain Loss: 0.326098\n",
            "Train Epoch: 7 [51200/60000 (85%)]\tTrain Loss: 0.445709\n",
            "Train Epoch: 7 [57600/60000 (96%)]\tTrain Loss: 0.157773\n",
            "\n",
            "[EPOCH: 7], \tTest Loss: 0.3797, \tTest Accuracy: 89.06 % \n",
            "\n",
            "Train Epoch: 8 [0/60000 (0%)]\tTrain Loss: 0.365513\n",
            "Train Epoch: 8 [6400/60000 (11%)]\tTrain Loss: 0.311762\n",
            "Train Epoch: 8 [12800/60000 (21%)]\tTrain Loss: 0.397689\n",
            "Train Epoch: 8 [19200/60000 (32%)]\tTrain Loss: 0.449264\n",
            "Train Epoch: 8 [25600/60000 (43%)]\tTrain Loss: 0.434043\n",
            "Train Epoch: 8 [32000/60000 (53%)]\tTrain Loss: 0.418524\n",
            "Train Epoch: 8 [38400/60000 (64%)]\tTrain Loss: 0.674098\n",
            "Train Epoch: 8 [44800/60000 (75%)]\tTrain Loss: 0.514566\n",
            "Train Epoch: 8 [51200/60000 (85%)]\tTrain Loss: 0.364079\n",
            "Train Epoch: 8 [57600/60000 (96%)]\tTrain Loss: 0.275450\n",
            "\n",
            "[EPOCH: 8], \tTest Loss: 0.3589, \tTest Accuracy: 89.60 % \n",
            "\n",
            "Train Epoch: 9 [0/60000 (0%)]\tTrain Loss: 0.440193\n",
            "Train Epoch: 9 [6400/60000 (11%)]\tTrain Loss: 0.329233\n",
            "Train Epoch: 9 [12800/60000 (21%)]\tTrain Loss: 0.554220\n",
            "Train Epoch: 9 [19200/60000 (32%)]\tTrain Loss: 0.152852\n",
            "Train Epoch: 9 [25600/60000 (43%)]\tTrain Loss: 0.419584\n",
            "Train Epoch: 9 [32000/60000 (53%)]\tTrain Loss: 0.281409\n",
            "Train Epoch: 9 [38400/60000 (64%)]\tTrain Loss: 0.347549\n",
            "Train Epoch: 9 [44800/60000 (75%)]\tTrain Loss: 0.569963\n",
            "Train Epoch: 9 [51200/60000 (85%)]\tTrain Loss: 0.651272\n",
            "Train Epoch: 9 [57600/60000 (96%)]\tTrain Loss: 0.185368\n",
            "\n",
            "[EPOCH: 9], \tTest Loss: 0.3438, \tTest Accuracy: 90.07 % \n",
            "\n",
            "Train Epoch: 10 [0/60000 (0%)]\tTrain Loss: 0.155026\n",
            "Train Epoch: 10 [6400/60000 (11%)]\tTrain Loss: 0.278238\n",
            "Train Epoch: 10 [12800/60000 (21%)]\tTrain Loss: 0.212615\n",
            "Train Epoch: 10 [19200/60000 (32%)]\tTrain Loss: 0.132772\n",
            "Train Epoch: 10 [25600/60000 (43%)]\tTrain Loss: 0.286983\n",
            "Train Epoch: 10 [32000/60000 (53%)]\tTrain Loss: 0.280515\n",
            "Train Epoch: 10 [38400/60000 (64%)]\tTrain Loss: 0.470705\n",
            "Train Epoch: 10 [44800/60000 (75%)]\tTrain Loss: 0.359614\n",
            "Train Epoch: 10 [51200/60000 (85%)]\tTrain Loss: 0.163505\n",
            "Train Epoch: 10 [57600/60000 (96%)]\tTrain Loss: 0.449820\n",
            "\n",
            "[EPOCH: 10], \tTest Loss: 0.3339, \tTest Accuracy: 90.28 % \n",
            "\n"
          ]
        }
      ],
      "source": [
        "for epoch in range(1, EPOCHS + 1):\n",
        "    train(model, train_loader, optimizer, log_interval = 200)\n",
        "    test_loss, test_accuracy = evaluate(model, test_loader)\n",
        "    print(\"\\n[EPOCH: {}], \\tTest Loss: {:.4f}, \\tTest Accuracy: {:.2f} % \\n\".format(\n",
        "        epoch, test_loss, test_accuracy))"
      ]
    },
    {
      "cell_type": "markdown",
      "metadata": {
        "id": "IA3dEOujFVFd"
      },
      "source": [
        "### Question 4. Please write a line-by-line explanation of the code above. (Simple MLP only)\n",
        "\n",
        "\n",
        "*   Use '#' for Python!\n",
        "*   ChatGPT allowed :) -- but please try to understand the code\n",
        "*   But you don't really have to understand everything -- we'll revisit MLP again in detail"
      ]
    },
    {
      "cell_type": "markdown",
      "metadata": {
        "id": "A0VvCZJKiCye"
      },
      "source": [
        "### Question 5 (Optional). Please read and summarize the following 3 documents:\n",
        "\n",
        "*    https://wikidocs.net/57168\n",
        "*    https://wikidocs.net/52460\n",
        "*    https://wikidocs.net/52846"
      ]
    },
    {
      "cell_type": "markdown",
      "metadata": {
        "id": "spc48rNHQnYL"
      },
      "source": [
        "### The End."
      ]
    },
    {
      "cell_type": "markdown",
      "metadata": {
        "id": "iMNBVkjiS7D9"
      },
      "source": [
        "##### Please upload your Colab file @Github https://github.com/duneag2/intro-dl/tree/main/Assignment1\n",
        "\n",
        "*   First, make your folder by your name (e.g. seungeun)\n",
        "*   Then upload your Jupyter Notebook file under that directory\n",
        "\n",
        "###### Need Help?\n",
        "\n",
        "\n",
        "\n",
        "*   Please refer to this link https://yeko90.tistory.com/entry/%ED%8C%8C%EC%9D%B4%EC%8D%AC-colab%EC%BD%94%EB%9E%A9%EC%97%90%EC%84%9C-%EC%95%95%EC%B6%95%ED%8C%8C%EC%9D%BC-%ED%92%80%EA%B8%B0 OR\n",
        "*   Just save your Jupyter Notebook (.ipynb) file in here (colab) and upload via 'Add file' - 'Upload files' https://nthree.tistory.com/60"
      ]
    },
    {
      "cell_type": "code",
      "execution_count": null,
      "metadata": {
        "id": "XzVGuer0S9Oh"
      },
      "outputs": [],
      "source": []
    }
  ],
  "metadata": {
    "accelerator": "GPU",
    "colab": {
      "gpuType": "T4",
      "provenance": []
    },
    "kernelspec": {
      "display_name": "Python 3",
      "name": "python3"
    },
    "language_info": {
      "name": "python"
    }
  },
  "nbformat": 4,
  "nbformat_minor": 0
}