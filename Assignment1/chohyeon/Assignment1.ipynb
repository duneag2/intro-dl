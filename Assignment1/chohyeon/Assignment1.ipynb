{
  "nbformat": 4,
  "nbformat_minor": 0,
  "metadata": {
    "colab": {
      "provenance": [],
      "gpuType": "T4"
    },
    "kernelspec": {
      "name": "python3",
      "display_name": "Python 3"
    },
    "language_info": {
      "name": "python"
    },
    "accelerator": "GPU"
  },
  "cells": [
    {
      "cell_type": "markdown",
      "source": [
        "# 2024 Winter Introduction to Deep Learning\n",
        "### Based on Prof. Oh's Youtube Lecture\n",
        "https://youtube.com/playlist?list=PLvbUC2Zh5oJvByu9KL82bswYT2IKf0K1M\n",
        "\n",
        "> Assignment #1\n",
        "\n",
        "\n",
        "*   Youtube Lecture #1-3\n",
        "*   Written by Seungeun Lee"
      ],
      "metadata": {
        "id": "YcXb0XLEvHns"
      }
    },
    {
      "cell_type": "markdown",
      "source": [],
      "metadata": {
        "id": "BegEHUtyfnNF"
      }
    },
    {
      "cell_type": "markdown",
      "source": [
        "### Notice for Python\n",
        "##### If you are new to Python, please follow the Youtube link below:\n",
        "##### https://youtube.com/playlist?list=PLGPF8gvWLYyrkF85itdBHaOLSVbtdzBww\n",
        "##### You really don't have to understand everything in this video!! Just get a feel for Python:)\n",
        "##### If you have any trouble installing Python3, just use online python compiler -- I recommend https://www.programiz.com/python-programming/online-compiler/"
      ],
      "metadata": {
        "id": "1RnTlnjlcVlu"
      }
    },
    {
      "cell_type": "markdown",
      "source": [
        "## How to use Google Colaboratory"
      ],
      "metadata": {
        "id": "qM2kM5G7BYZr"
      }
    },
    {
      "cell_type": "markdown",
      "source": [
        "##### First, please download a zip file from https://www.kaggle.com/datasets/andrewmvd/animal-faces\n",
        "##### Activate you Colaboratory and upload your zip file -- please follow the links below:\n",
        "\n",
        "*   https://yeko90.tistory.com/entry/how-use-google-colab\n",
        "*   https://yeko90.tistory.com/entry/%ED%8C%8C%EC%9D%B4%EC%8D%AC-colab%EC%BD%94%EB%9E%A9%EC%97%90%EC%84%9C-%EC%95%95%EC%B6%95%ED%8C%8C%EC%9D%BC-%ED%92%80%EA%B8%B0"
      ],
      "metadata": {
        "id": "l-eq03krP21I"
      }
    },
    {
      "cell_type": "code",
      "source": [
        "# connecting Google Drive\n",
        "from google.colab import drive\n",
        "drive.mount('/content/drive')"
      ],
      "metadata": {
        "id": "TSl6zem51bVh",
        "colab": {
          "base_uri": "https://localhost:8080/"
        },
        "outputId": "aa08fabc-c599-488d-a9c9-961a96fdedb0"
      },
      "execution_count": 2,
      "outputs": [
        {
          "output_type": "stream",
          "name": "stdout",
          "text": [
            "Mounted at /content/drive\n"
          ]
        }
      ]
    },
    {
      "cell_type": "markdown",
      "source": [
        "## How to Linux (Basic commands of Linux)\n",
        "### Almost every Deep Learning Research is conducted based on Linux, including Colab."
      ],
      "metadata": {
        "id": "4a4q9MievMjx"
      }
    },
    {
      "cell_type": "code",
      "source": [
        "!pwd # current position"
      ],
      "metadata": {
        "id": "sm9KafgevKwr",
        "colab": {
          "base_uri": "https://localhost:8080/"
        },
        "outputId": "4739970c-d347-49e9-a782-cb15535784b9"
      },
      "execution_count": 5,
      "outputs": [
        {
          "output_type": "stream",
          "name": "stdout",
          "text": [
            "/content\n"
          ]
        }
      ]
    },
    {
      "cell_type": "code",
      "source": [
        "!ls -l # list of files that are stored in the current directory"
      ],
      "metadata": {
        "id": "G6b3U7OwvTr8",
        "colab": {
          "base_uri": "https://localhost:8080/"
        },
        "outputId": "b28f3aee-2ed1-496d-d5e3-7885696e9a31"
      },
      "execution_count": null,
      "outputs": [
        {
          "output_type": "stream",
          "name": "stdout",
          "text": [
            "total 8\n",
            "drwx------ 5 root root 4096 Dec 27 15:10 drive\n",
            "drwxr-xr-x 1 root root 4096 Dec 19 14:20 sample_data\n"
          ]
        }
      ]
    },
    {
      "cell_type": "code",
      "source": [
        "# 'c'hange 'd'irectory"
      ],
      "metadata": {
        "id": "BlL5UGUb2eHI"
      },
      "execution_count": null,
      "outputs": []
    },
    {
      "cell_type": "code",
      "source": [
        "%cd /content/drive/MyDrive/"
      ],
      "metadata": {
        "id": "ePdVIdBB8_9i",
        "colab": {
          "base_uri": "https://localhost:8080/"
        },
        "outputId": "d62a68e3-cf64-4c92-ddf6-f13c7df48fd6"
      },
      "execution_count": null,
      "outputs": [
        {
          "output_type": "stream",
          "name": "stdout",
          "text": [
            "/content/drive/MyDrive\n"
          ]
        }
      ]
    },
    {
      "cell_type": "code",
      "source": [
        "# 'm'a'k'e 'dir'ectory\n",
        "!mkdir intro-dl"
      ],
      "metadata": {
        "id": "pKcf1Vj99IuR",
        "colab": {
          "base_uri": "https://localhost:8080/"
        },
        "outputId": "f6d1fde0-31b1-45ec-c939-dc705de5a907"
      },
      "execution_count": null,
      "outputs": [
        {
          "output_type": "stream",
          "name": "stdout",
          "text": [
            "mkdir: cannot create directory ‘intro-dl’: File exists\n"
          ]
        }
      ]
    },
    {
      "cell_type": "code",
      "source": [
        "%cd /content/drive/MyDrive/intro-dl"
      ],
      "metadata": {
        "id": "whIce9pwvW3r",
        "colab": {
          "base_uri": "https://localhost:8080/"
        },
        "outputId": "ba65c5d8-189e-4491-b307-de8b57dbf912"
      },
      "execution_count": null,
      "outputs": [
        {
          "output_type": "stream",
          "name": "stdout",
          "text": [
            "/content/drive/MyDrive/intro-dl\n"
          ]
        }
      ]
    },
    {
      "cell_type": "code",
      "source": [
        "!pwd"
      ],
      "metadata": {
        "id": "gF-MhR4nvz4m",
        "colab": {
          "base_uri": "https://localhost:8080/"
        },
        "outputId": "9d818805-b983-4bda-c71d-b5da7d8a2a9a"
      },
      "execution_count": null,
      "outputs": [
        {
          "output_type": "stream",
          "name": "stdout",
          "text": [
            "/content/drive/MyDrive/intro-dl\n"
          ]
        }
      ]
    },
    {
      "cell_type": "code",
      "source": [
        "# !unzip -qq zip file name -d destination\n",
        "!unzip -qq /content/drive/MyDrive/intro-dl/archive.zip -d /content/drive/MyDrive/intro-dl"
      ],
      "metadata": {
        "id": "svAE4A5V2RYc",
        "colab": {
          "base_uri": "https://localhost:8080/"
        },
        "outputId": "da28e233-29e6-4462-9270-b32392c02d64"
      },
      "execution_count": null,
      "outputs": [
        {
          "output_type": "stream",
          "name": "stdout",
          "text": [
            "unzip:  cannot find or open /content/drive/MyDrive/intro-dl/archive.zip, /content/drive/MyDrive/intro-dl/archive.zip.zip or /content/drive/MyDrive/intro-dl/archive.zip.ZIP.\n"
          ]
        }
      ]
    },
    {
      "cell_type": "code",
      "source": [
        "!ls -l"
      ],
      "metadata": {
        "id": "zouFABOC7FV7",
        "colab": {
          "base_uri": "https://localhost:8080/"
        },
        "outputId": "88b08b18-a7ef-4fa9-a1bc-628c3987ef59"
      },
      "execution_count": null,
      "outputs": [
        {
          "output_type": "stream",
          "name": "stdout",
          "text": [
            "total 12\n",
            "drwx------ 5 root root 4096 Dec 27 15:10 drive\n",
            "drwxr-xr-x 2 root root 4096 Dec 27 15:13 intro-dl\n",
            "drwxr-xr-x 1 root root 4096 Dec 19 14:20 sample_data\n"
          ]
        }
      ]
    },
    {
      "cell_type": "code",
      "source": [
        "%cd afhq"
      ],
      "metadata": {
        "id": "qhm05uhU7LxM",
        "colab": {
          "base_uri": "https://localhost:8080/"
        },
        "outputId": "0fe62f46-41c3-4773-9a23-d68d2cea717f"
      },
      "execution_count": null,
      "outputs": [
        {
          "output_type": "stream",
          "name": "stdout",
          "text": [
            "[Errno 2] No such file or directory: 'afhq'\n",
            "/content\n"
          ]
        }
      ]
    },
    {
      "cell_type": "code",
      "source": [
        "!ls -l"
      ],
      "metadata": {
        "id": "sW6nmyEQ7N2o",
        "colab": {
          "base_uri": "https://localhost:8080/"
        },
        "outputId": "6b6f5f78-9d38-4c7a-80cb-237710cf870a"
      },
      "execution_count": null,
      "outputs": [
        {
          "output_type": "stream",
          "name": "stdout",
          "text": [
            "total 0\n"
          ]
        }
      ]
    },
    {
      "cell_type": "markdown",
      "source": [
        "## How to use GPU @ Google Colaboratory"
      ],
      "metadata": {
        "id": "QoTI2KNJBrDA"
      }
    },
    {
      "cell_type": "code",
      "source": [
        "!nvidia-smi\n",
        "# nothing will be shown (command not found)"
      ],
      "metadata": {
        "id": "7FToR-SWBusO",
        "colab": {
          "base_uri": "https://localhost:8080/"
        },
        "outputId": "9e8fe076-0608-4cb8-ae30-c3cabb3a81ff"
      },
      "execution_count": null,
      "outputs": [
        {
          "output_type": "stream",
          "name": "stdout",
          "text": [
            "/bin/bash: line 1: nvidia-smi: command not found\n"
          ]
        }
      ]
    },
    {
      "cell_type": "code",
      "source": [
        "# Activate your GPU\n",
        "## Refer to this link:\n",
        "## https://wscode.tistory.com/30\n",
        "## OR 런타임 - 런타임 유형 변경 - T4 GPU"
      ],
      "metadata": {
        "id": "D8_VowTkBweJ"
      },
      "execution_count": null,
      "outputs": []
    },
    {
      "cell_type": "code",
      "source": [
        "!nvidia-smi # then the results will be shown"
      ],
      "metadata": {
        "id": "X20BdXf_CFue",
        "colab": {
          "base_uri": "https://localhost:8080/"
        },
        "outputId": "8ebe6e2b-28fd-413d-81e2-238034a87a4b"
      },
      "execution_count": null,
      "outputs": [
        {
          "output_type": "stream",
          "name": "stdout",
          "text": [
            "Wed Dec 27 15:21:18 2023       \n",
            "+---------------------------------------------------------------------------------------+\n",
            "| NVIDIA-SMI 535.104.05             Driver Version: 535.104.05   CUDA Version: 12.2     |\n",
            "|-----------------------------------------+----------------------+----------------------+\n",
            "| GPU  Name                 Persistence-M | Bus-Id        Disp.A | Volatile Uncorr. ECC |\n",
            "| Fan  Temp   Perf          Pwr:Usage/Cap |         Memory-Usage | GPU-Util  Compute M. |\n",
            "|                                         |                      |               MIG M. |\n",
            "|=========================================+======================+======================|\n",
            "|   0  Tesla T4                       Off | 00000000:00:04.0 Off |                    0 |\n",
            "| N/A   38C    P8               9W /  70W |      0MiB / 15360MiB |      0%      Default |\n",
            "|                                         |                      |                  N/A |\n",
            "+-----------------------------------------+----------------------+----------------------+\n",
            "                                                                                         \n",
            "+---------------------------------------------------------------------------------------+\n",
            "| Processes:                                                                            |\n",
            "|  GPU   GI   CI        PID   Type   Process name                            GPU Memory |\n",
            "|        ID   ID                                                             Usage      |\n",
            "|=======================================================================================|\n",
            "|  No running processes found                                                           |\n",
            "+---------------------------------------------------------------------------------------+\n"
          ]
        }
      ]
    },
    {
      "cell_type": "markdown",
      "source": [
        "## Basic Python Libraries"
      ],
      "metadata": {
        "id": "8Yop2wQsveMD"
      }
    },
    {
      "cell_type": "markdown",
      "source": [
        "### (1) os"
      ],
      "metadata": {
        "id": "-jnL1k14C272"
      }
    },
    {
      "cell_type": "code",
      "source": [
        "import os # import package os"
      ],
      "metadata": {
        "id": "0rzTV2AwvpJH"
      },
      "execution_count": null,
      "outputs": []
    },
    {
      "cell_type": "code",
      "source": [
        "os.getcwd() # same as !pwd, current position -> but uses python library os"
      ],
      "metadata": {
        "id": "-y2hWmdgvunl",
        "colab": {
          "base_uri": "https://localhost:8080/",
          "height": 36
        },
        "outputId": "c5632556-8c91-4c98-82e0-ce739a5d24c0"
      },
      "execution_count": null,
      "outputs": [
        {
          "output_type": "execute_result",
          "data": {
            "text/plain": [
              "'/content'"
            ],
            "application/vnd.google.colaboratory.intrinsic+json": {
              "type": "string"
            }
          },
          "metadata": {},
          "execution_count": 3
        }
      ]
    },
    {
      "cell_type": "code",
      "source": [
        "os.chdir('/content/drive/MyDrive/intro-dl') # 'ch'ange 'dir'ectory"
      ],
      "metadata": {
        "id": "3RE7-_Zy7nfL",
        "colab": {
          "base_uri": "https://localhost:8080/",
          "height": 180
        },
        "outputId": "062b5148-4e5c-44f6-d9bf-24efbb5efa00"
      },
      "execution_count": null,
      "outputs": [
        {
          "output_type": "error",
          "ename": "FileNotFoundError",
          "evalue": "ignored",
          "traceback": [
            "\u001b[0;31m---------------------------------------------------------------------------\u001b[0m",
            "\u001b[0;31mFileNotFoundError\u001b[0m                         Traceback (most recent call last)",
            "\u001b[0;32m<ipython-input-4-8a950dfbbf0a>\u001b[0m in \u001b[0;36m<cell line: 1>\u001b[0;34m()\u001b[0m\n\u001b[0;32m----> 1\u001b[0;31m \u001b[0mos\u001b[0m\u001b[0;34m.\u001b[0m\u001b[0mchdir\u001b[0m\u001b[0;34m(\u001b[0m\u001b[0;34m'/content/drive/MyDrive/intro-dl'\u001b[0m\u001b[0;34m)\u001b[0m \u001b[0;31m# 'ch'ange 'dir'ectory\u001b[0m\u001b[0;34m\u001b[0m\u001b[0;34m\u001b[0m\u001b[0m\n\u001b[0m",
            "\u001b[0;31mFileNotFoundError\u001b[0m: [Errno 2] No such file or directory: '/content/drive/MyDrive/intro-dl'"
          ]
        }
      ]
    },
    {
      "cell_type": "code",
      "source": [
        "os.mkdir('temp') # 'm'a'k'e 'dir'ectory -> but uses python library os"
      ],
      "metadata": {
        "id": "K1xE348r9PkO"
      },
      "execution_count": null,
      "outputs": []
    },
    {
      "cell_type": "code",
      "source": [
        "os.listdir(os.getcwd()) # file/folder 'list' of the current 'dir'ectory -> but uses python library os"
      ],
      "metadata": {
        "id": "MJ7QV_a59R63",
        "colab": {
          "base_uri": "https://localhost:8080/"
        },
        "outputId": "a119adec-a49c-44ea-a3a9-bd070d25c7b6"
      },
      "execution_count": null,
      "outputs": [
        {
          "output_type": "execute_result",
          "data": {
            "text/plain": [
              "['.config', 'temp', 'sample_data']"
            ]
          },
          "metadata": {},
          "execution_count": 6
        }
      ]
    },
    {
      "cell_type": "code",
      "source": [
        "len(os.listdir(os.getcwd())) # # of files or folders of the current 'dir'ectory"
      ],
      "metadata": {
        "id": "07cjHWygjt-g",
        "colab": {
          "base_uri": "https://localhost:8080/"
        },
        "outputId": "5d5bf129-754d-4c9d-eb13-c8ecfd9d568a"
      },
      "execution_count": null,
      "outputs": [
        {
          "output_type": "execute_result",
          "data": {
            "text/plain": [
              "3"
            ]
          },
          "metadata": {},
          "execution_count": 7
        }
      ]
    },
    {
      "cell_type": "markdown",
      "source": [
        "### Question 1. How can I move to the directory I want using the library os & Linux Command?\n",
        "\n",
        "\n",
        "*   I'd like to move to the directory name '/content/sample_data'."
      ],
      "metadata": {
        "id": "JtrlgMOov47e"
      }
    },
    {
      "cell_type": "code",
      "source": [
        "# Your Answer\n",
        "\n",
        "# (1) os\n",
        "\n",
        "os.chdir('/content/sample_data')"
      ],
      "metadata": {
        "id": "MfYQf0VKvyR5"
      },
      "execution_count": null,
      "outputs": []
    },
    {
      "cell_type": "code",
      "source": [
        "# (2) cd\n",
        "%cd /content/sample_data"
      ],
      "metadata": {
        "id": "CJ4oHU5GOQ_1",
        "colab": {
          "base_uri": "https://localhost:8080/"
        },
        "outputId": "c5f9ff0e-08ca-4b5e-8299-367cb200e867"
      },
      "execution_count": null,
      "outputs": [
        {
          "output_type": "stream",
          "name": "stdout",
          "text": [
            "/content\n"
          ]
        }
      ]
    },
    {
      "cell_type": "markdown",
      "source": [
        "### (2) shutil"
      ],
      "metadata": {
        "id": "1rEx93C2C-lH"
      }
    },
    {
      "cell_type": "code",
      "source": [
        "import shutil"
      ],
      "metadata": {
        "id": "TuL9F81bLK4k"
      },
      "execution_count": null,
      "outputs": []
    },
    {
      "cell_type": "code",
      "source": [
        "os.chdir('/content/drive/MyDrive/intro-dl/afhq')"
      ],
      "metadata": {
        "id": "Aam3dqHUOiMM",
        "colab": {
          "base_uri": "https://localhost:8080/",
          "height": 180
        },
        "outputId": "9712e6dc-99d3-424a-9598-70e8fa513a2e"
      },
      "execution_count": null,
      "outputs": [
        {
          "output_type": "error",
          "ename": "FileNotFoundError",
          "evalue": "ignored",
          "traceback": [
            "\u001b[0;31m---------------------------------------------------------------------------\u001b[0m",
            "\u001b[0;31mFileNotFoundError\u001b[0m                         Traceback (most recent call last)",
            "\u001b[0;32m<ipython-input-11-bd8da326c0d4>\u001b[0m in \u001b[0;36m<cell line: 1>\u001b[0;34m()\u001b[0m\n\u001b[0;32m----> 1\u001b[0;31m \u001b[0mos\u001b[0m\u001b[0;34m.\u001b[0m\u001b[0mchdir\u001b[0m\u001b[0;34m(\u001b[0m\u001b[0;34m'/content/drive/MyDrive/intro-dl/afhq'\u001b[0m\u001b[0;34m)\u001b[0m\u001b[0;34m\u001b[0m\u001b[0;34m\u001b[0m\u001b[0m\n\u001b[0m",
            "\u001b[0;31mFileNotFoundError\u001b[0m: [Errno 2] No such file or directory: '/content/drive/MyDrive/intro-dl/afhq'"
          ]
        }
      ]
    },
    {
      "cell_type": "code",
      "source": [
        "!ls -l"
      ],
      "metadata": {
        "id": "7mlbiHUYOqki",
        "colab": {
          "base_uri": "https://localhost:8080/"
        },
        "outputId": "75313211-ff40-4cab-8809-c8787eba0aa5"
      },
      "execution_count": null,
      "outputs": [
        {
          "output_type": "stream",
          "name": "stdout",
          "text": [
            "total 55504\n",
            "-rwxr-xr-x 1 root root     1697 Jan  1  2000 anscombe.json\n",
            "-rw-r--r-- 1 root root   301141 Dec 19 14:20 california_housing_test.csv\n",
            "-rw-r--r-- 1 root root  1706430 Dec 19 14:20 california_housing_train.csv\n",
            "-rw-r--r-- 1 root root 18289443 Dec 19 14:20 mnist_test.csv\n",
            "-rw-r--r-- 1 root root 36523880 Dec 19 14:20 mnist_train_small.csv\n",
            "-rwxr-xr-x 1 root root      930 Jan  1  2000 README.md\n"
          ]
        }
      ]
    },
    {
      "cell_type": "code",
      "source": [
        "f = open(\"new.txt\", 'w') # make a txt file name new\n",
        "f.close()"
      ],
      "metadata": {
        "id": "ZrHYOq4Gc6I2"
      },
      "execution_count": null,
      "outputs": []
    },
    {
      "cell_type": "code",
      "source": [
        "!ls -l"
      ],
      "metadata": {
        "id": "dPfk9fWmddqq",
        "colab": {
          "base_uri": "https://localhost:8080/"
        },
        "outputId": "dddc0b71-5e8b-42d8-c4c5-184861c469a8"
      },
      "execution_count": null,
      "outputs": [
        {
          "output_type": "stream",
          "name": "stdout",
          "text": [
            "total 55504\n",
            "-rwxr-xr-x 1 root root     1697 Jan  1  2000 anscombe.json\n",
            "-rw-r--r-- 1 root root   301141 Dec 19 14:20 california_housing_test.csv\n",
            "-rw-r--r-- 1 root root  1706430 Dec 19 14:20 california_housing_train.csv\n",
            "-rw-r--r-- 1 root root 18289443 Dec 19 14:20 mnist_test.csv\n",
            "-rw-r--r-- 1 root root 36523880 Dec 19 14:20 mnist_train_small.csv\n",
            "-rw-r--r-- 1 root root        0 Dec 27 15:26 new.txt\n",
            "-rwxr-xr-x 1 root root      930 Jan  1  2000 README.md\n"
          ]
        }
      ]
    },
    {
      "cell_type": "code",
      "source": [
        "!mkdir new_folder"
      ],
      "metadata": {
        "id": "YH4JK36edvo4"
      },
      "execution_count": null,
      "outputs": []
    },
    {
      "cell_type": "code",
      "source": [
        "!ls -l"
      ],
      "metadata": {
        "id": "qfiaPotEeCSG",
        "colab": {
          "base_uri": "https://localhost:8080/"
        },
        "outputId": "ef2b871b-cbb6-4f1e-f802-2e792890ef8e"
      },
      "execution_count": null,
      "outputs": [
        {
          "output_type": "stream",
          "name": "stdout",
          "text": [
            "total 55508\n",
            "-rwxr-xr-x 1 root root     1697 Jan  1  2000 anscombe.json\n",
            "-rw-r--r-- 1 root root   301141 Dec 19 14:20 california_housing_test.csv\n",
            "-rw-r--r-- 1 root root  1706430 Dec 19 14:20 california_housing_train.csv\n",
            "-rw-r--r-- 1 root root 18289443 Dec 19 14:20 mnist_test.csv\n",
            "-rw-r--r-- 1 root root 36523880 Dec 19 14:20 mnist_train_small.csv\n",
            "drwxr-xr-x 2 root root     4096 Dec 27 15:26 new_folder\n",
            "-rw-r--r-- 1 root root        0 Dec 27 15:26 new.txt\n",
            "-rwxr-xr-x 1 root root      930 Jan  1  2000 README.md\n"
          ]
        }
      ]
    },
    {
      "cell_type": "code",
      "source": [
        "src = '/content/drive/MyDrive/intro-dl/afhq/new.txt' # source directory -- python convention\n",
        "dst = '/content/drive/MyDrive/intro-dl/afhq/new_folder/new.txt' # destination directory -- python convention"
      ],
      "metadata": {
        "id": "sLR16X9adgmi"
      },
      "execution_count": null,
      "outputs": []
    },
    {
      "cell_type": "code",
      "source": [
        "shutil.move(src, dst) # from source to target -- move"
      ],
      "metadata": {
        "id": "XZ9XvfL_d1Dc",
        "colab": {
          "base_uri": "https://localhost:8080/",
          "height": 472
        },
        "outputId": "2cd5b732-74b6-4767-cf24-47a985d453ae"
      },
      "execution_count": null,
      "outputs": [
        {
          "output_type": "error",
          "ename": "FileNotFoundError",
          "evalue": "ignored",
          "traceback": [
            "\u001b[0;31m---------------------------------------------------------------------------\u001b[0m",
            "\u001b[0;31mFileNotFoundError\u001b[0m                         Traceback (most recent call last)",
            "\u001b[0;32m/usr/lib/python3.10/shutil.py\u001b[0m in \u001b[0;36mmove\u001b[0;34m(src, dst, copy_function)\u001b[0m\n\u001b[1;32m    815\u001b[0m     \u001b[0;32mtry\u001b[0m\u001b[0;34m:\u001b[0m\u001b[0;34m\u001b[0m\u001b[0;34m\u001b[0m\u001b[0m\n\u001b[0;32m--> 816\u001b[0;31m         \u001b[0mos\u001b[0m\u001b[0;34m.\u001b[0m\u001b[0mrename\u001b[0m\u001b[0;34m(\u001b[0m\u001b[0msrc\u001b[0m\u001b[0;34m,\u001b[0m \u001b[0mreal_dst\u001b[0m\u001b[0;34m)\u001b[0m\u001b[0;34m\u001b[0m\u001b[0;34m\u001b[0m\u001b[0m\n\u001b[0m\u001b[1;32m    817\u001b[0m     \u001b[0;32mexcept\u001b[0m \u001b[0mOSError\u001b[0m\u001b[0;34m:\u001b[0m\u001b[0;34m\u001b[0m\u001b[0;34m\u001b[0m\u001b[0m\n",
            "\u001b[0;31mFileNotFoundError\u001b[0m: [Errno 2] No such file or directory: '/content/drive/MyDrive/intro-dl/afhq/new.txt' -> '/content/drive/MyDrive/intro-dl/afhq/new_folder/new.txt'",
            "\nDuring handling of the above exception, another exception occurred:\n",
            "\u001b[0;31mFileNotFoundError\u001b[0m                         Traceback (most recent call last)",
            "\u001b[0;32m<ipython-input-18-f12f74f86e07>\u001b[0m in \u001b[0;36m<cell line: 1>\u001b[0;34m()\u001b[0m\n\u001b[0;32m----> 1\u001b[0;31m \u001b[0mshutil\u001b[0m\u001b[0;34m.\u001b[0m\u001b[0mmove\u001b[0m\u001b[0;34m(\u001b[0m\u001b[0msrc\u001b[0m\u001b[0;34m,\u001b[0m \u001b[0mdst\u001b[0m\u001b[0;34m)\u001b[0m \u001b[0;31m# from source to target -- move\u001b[0m\u001b[0;34m\u001b[0m\u001b[0;34m\u001b[0m\u001b[0m\n\u001b[0m",
            "\u001b[0;32m/usr/lib/python3.10/shutil.py\u001b[0m in \u001b[0;36mmove\u001b[0;34m(src, dst, copy_function)\u001b[0m\n\u001b[1;32m    834\u001b[0m             \u001b[0mrmtree\u001b[0m\u001b[0;34m(\u001b[0m\u001b[0msrc\u001b[0m\u001b[0;34m)\u001b[0m\u001b[0;34m\u001b[0m\u001b[0;34m\u001b[0m\u001b[0m\n\u001b[1;32m    835\u001b[0m         \u001b[0;32melse\u001b[0m\u001b[0;34m:\u001b[0m\u001b[0;34m\u001b[0m\u001b[0;34m\u001b[0m\u001b[0m\n\u001b[0;32m--> 836\u001b[0;31m             \u001b[0mcopy_function\u001b[0m\u001b[0;34m(\u001b[0m\u001b[0msrc\u001b[0m\u001b[0;34m,\u001b[0m \u001b[0mreal_dst\u001b[0m\u001b[0;34m)\u001b[0m\u001b[0;34m\u001b[0m\u001b[0;34m\u001b[0m\u001b[0m\n\u001b[0m\u001b[1;32m    837\u001b[0m             \u001b[0mos\u001b[0m\u001b[0;34m.\u001b[0m\u001b[0munlink\u001b[0m\u001b[0;34m(\u001b[0m\u001b[0msrc\u001b[0m\u001b[0;34m)\u001b[0m\u001b[0;34m\u001b[0m\u001b[0;34m\u001b[0m\u001b[0m\n\u001b[1;32m    838\u001b[0m     \u001b[0;32mreturn\u001b[0m \u001b[0mreal_dst\u001b[0m\u001b[0;34m\u001b[0m\u001b[0;34m\u001b[0m\u001b[0m\n",
            "\u001b[0;32m/usr/lib/python3.10/shutil.py\u001b[0m in \u001b[0;36mcopy2\u001b[0;34m(src, dst, follow_symlinks)\u001b[0m\n\u001b[1;32m    432\u001b[0m     \u001b[0;32mif\u001b[0m \u001b[0mos\u001b[0m\u001b[0;34m.\u001b[0m\u001b[0mpath\u001b[0m\u001b[0;34m.\u001b[0m\u001b[0misdir\u001b[0m\u001b[0;34m(\u001b[0m\u001b[0mdst\u001b[0m\u001b[0;34m)\u001b[0m\u001b[0;34m:\u001b[0m\u001b[0;34m\u001b[0m\u001b[0;34m\u001b[0m\u001b[0m\n\u001b[1;32m    433\u001b[0m         \u001b[0mdst\u001b[0m \u001b[0;34m=\u001b[0m \u001b[0mos\u001b[0m\u001b[0;34m.\u001b[0m\u001b[0mpath\u001b[0m\u001b[0;34m.\u001b[0m\u001b[0mjoin\u001b[0m\u001b[0;34m(\u001b[0m\u001b[0mdst\u001b[0m\u001b[0;34m,\u001b[0m \u001b[0mos\u001b[0m\u001b[0;34m.\u001b[0m\u001b[0mpath\u001b[0m\u001b[0;34m.\u001b[0m\u001b[0mbasename\u001b[0m\u001b[0;34m(\u001b[0m\u001b[0msrc\u001b[0m\u001b[0;34m)\u001b[0m\u001b[0;34m)\u001b[0m\u001b[0;34m\u001b[0m\u001b[0;34m\u001b[0m\u001b[0m\n\u001b[0;32m--> 434\u001b[0;31m     \u001b[0mcopyfile\u001b[0m\u001b[0;34m(\u001b[0m\u001b[0msrc\u001b[0m\u001b[0;34m,\u001b[0m \u001b[0mdst\u001b[0m\u001b[0;34m,\u001b[0m \u001b[0mfollow_symlinks\u001b[0m\u001b[0;34m=\u001b[0m\u001b[0mfollow_symlinks\u001b[0m\u001b[0;34m)\u001b[0m\u001b[0;34m\u001b[0m\u001b[0;34m\u001b[0m\u001b[0m\n\u001b[0m\u001b[1;32m    435\u001b[0m     \u001b[0mcopystat\u001b[0m\u001b[0;34m(\u001b[0m\u001b[0msrc\u001b[0m\u001b[0;34m,\u001b[0m \u001b[0mdst\u001b[0m\u001b[0;34m,\u001b[0m \u001b[0mfollow_symlinks\u001b[0m\u001b[0;34m=\u001b[0m\u001b[0mfollow_symlinks\u001b[0m\u001b[0;34m)\u001b[0m\u001b[0;34m\u001b[0m\u001b[0;34m\u001b[0m\u001b[0m\n\u001b[1;32m    436\u001b[0m     \u001b[0;32mreturn\u001b[0m \u001b[0mdst\u001b[0m\u001b[0;34m\u001b[0m\u001b[0;34m\u001b[0m\u001b[0m\n",
            "\u001b[0;32m/usr/lib/python3.10/shutil.py\u001b[0m in \u001b[0;36mcopyfile\u001b[0;34m(src, dst, follow_symlinks)\u001b[0m\n\u001b[1;32m    252\u001b[0m         \u001b[0mos\u001b[0m\u001b[0;34m.\u001b[0m\u001b[0msymlink\u001b[0m\u001b[0;34m(\u001b[0m\u001b[0mos\u001b[0m\u001b[0;34m.\u001b[0m\u001b[0mreadlink\u001b[0m\u001b[0;34m(\u001b[0m\u001b[0msrc\u001b[0m\u001b[0;34m)\u001b[0m\u001b[0;34m,\u001b[0m \u001b[0mdst\u001b[0m\u001b[0;34m)\u001b[0m\u001b[0;34m\u001b[0m\u001b[0;34m\u001b[0m\u001b[0m\n\u001b[1;32m    253\u001b[0m     \u001b[0;32melse\u001b[0m\u001b[0;34m:\u001b[0m\u001b[0;34m\u001b[0m\u001b[0;34m\u001b[0m\u001b[0m\n\u001b[0;32m--> 254\u001b[0;31m         \u001b[0;32mwith\u001b[0m \u001b[0mopen\u001b[0m\u001b[0;34m(\u001b[0m\u001b[0msrc\u001b[0m\u001b[0;34m,\u001b[0m \u001b[0;34m'rb'\u001b[0m\u001b[0;34m)\u001b[0m \u001b[0;32mas\u001b[0m \u001b[0mfsrc\u001b[0m\u001b[0;34m:\u001b[0m\u001b[0;34m\u001b[0m\u001b[0;34m\u001b[0m\u001b[0m\n\u001b[0m\u001b[1;32m    255\u001b[0m             \u001b[0;32mtry\u001b[0m\u001b[0;34m:\u001b[0m\u001b[0;34m\u001b[0m\u001b[0;34m\u001b[0m\u001b[0m\n\u001b[1;32m    256\u001b[0m                 \u001b[0;32mwith\u001b[0m \u001b[0mopen\u001b[0m\u001b[0;34m(\u001b[0m\u001b[0mdst\u001b[0m\u001b[0;34m,\u001b[0m \u001b[0;34m'wb'\u001b[0m\u001b[0;34m)\u001b[0m \u001b[0;32mas\u001b[0m \u001b[0mfdst\u001b[0m\u001b[0;34m:\u001b[0m\u001b[0;34m\u001b[0m\u001b[0;34m\u001b[0m\u001b[0m\n",
            "\u001b[0;31mFileNotFoundError\u001b[0m: [Errno 2] No such file or directory: '/content/drive/MyDrive/intro-dl/afhq/new.txt'"
          ]
        }
      ]
    },
    {
      "cell_type": "code",
      "source": [
        "%cd /content/drive/MyDrive/intro-dl/afhq/new_folder"
      ],
      "metadata": {
        "id": "I6yWt4rvePBF",
        "colab": {
          "base_uri": "https://localhost:8080/"
        },
        "outputId": "5e1340c6-4c43-47df-dcf0-e872ffbc567a"
      },
      "execution_count": null,
      "outputs": [
        {
          "output_type": "stream",
          "name": "stdout",
          "text": [
            "[Errno 2] No such file or directory: '/content/drive/MyDrive/intro-dl/afhq/new_folder'\n",
            "/content\n"
          ]
        }
      ]
    },
    {
      "cell_type": "code",
      "source": [
        "!ls -l"
      ],
      "metadata": {
        "id": "q3Xh7zzIeUxS",
        "colab": {
          "base_uri": "https://localhost:8080/"
        },
        "outputId": "3d9cceca-a8c0-41c9-846a-285e2c735764"
      },
      "execution_count": null,
      "outputs": [
        {
          "output_type": "stream",
          "name": "stdout",
          "text": [
            "total 55508\n",
            "-rwxr-xr-x 1 root root     1697 Jan  1  2000 anscombe.json\n",
            "-rw-r--r-- 1 root root   301141 Dec 19 14:20 california_housing_test.csv\n",
            "-rw-r--r-- 1 root root  1706430 Dec 19 14:20 california_housing_train.csv\n",
            "-rw-r--r-- 1 root root 18289443 Dec 19 14:20 mnist_test.csv\n",
            "-rw-r--r-- 1 root root 36523880 Dec 19 14:20 mnist_train_small.csv\n",
            "drwxr-xr-x 2 root root     4096 Dec 27 15:26 new_folder\n",
            "-rw-r--r-- 1 root root        0 Dec 27 15:26 new.txt\n",
            "-rwxr-xr-x 1 root root      930 Jan  1  2000 README.md\n"
          ]
        }
      ]
    },
    {
      "cell_type": "code",
      "source": [
        "src2 = '/content/drive/MyDrive/intro-dl/afhq/new_folder/new.txt' # source directory -- python convention\n",
        "dst2 = '/content/drive/MyDrive/intro-dl/afhq/new_folder/new2.txt' # destination directory -- python convention"
      ],
      "metadata": {
        "id": "55Kp2uNpeY4q"
      },
      "execution_count": null,
      "outputs": []
    },
    {
      "cell_type": "code",
      "source": [
        "shutil.copy(src2, dst2) # from source to target -- copy"
      ],
      "metadata": {
        "id": "dU9uPJuPeYFF"
      },
      "execution_count": null,
      "outputs": []
    },
    {
      "cell_type": "code",
      "source": [
        "!ls -l"
      ],
      "metadata": {
        "id": "URmb28_6emty"
      },
      "execution_count": null,
      "outputs": []
    },
    {
      "cell_type": "markdown",
      "source": [
        "### Question 2. Please write a code that copies new.txt with a file name new3.txt.\n",
        "*   Directory: /content/drive/MyDrive/intro-dl/afhq/new_folder\n",
        "\n"
      ],
      "metadata": {
        "id": "ZN3mS0mBe_uM"
      }
    },
    {
      "cell_type": "code",
      "source": [
        "# Your Answer\n",
        "\n",
        "\n"
      ],
      "metadata": {
        "id": "Fb_jk1OFfWiN"
      },
      "execution_count": null,
      "outputs": []
    },
    {
      "cell_type": "code",
      "source": [
        "## numpy, pandas -- later"
      ],
      "metadata": {
        "id": "-WjOlwWne1w7"
      },
      "execution_count": null,
      "outputs": []
    },
    {
      "cell_type": "markdown",
      "source": [
        "## Basic Pytorch\n",
        "\n",
        "*     Reference. https://github.com/Justin-A/DeepLearning101/blob/master/1-2_Basic_Autograd.ipynb"
      ],
      "metadata": {
        "id": "QQ55qOuzgil-"
      }
    },
    {
      "cell_type": "code",
      "source": [
        "import torch"
      ],
      "metadata": {
        "id": "jvfwaAzf0E0T"
      },
      "execution_count": null,
      "outputs": []
    },
    {
      "cell_type": "code",
      "source": [
        "## Simple Question.\n",
        "## What is (Py)torch?\n",
        "## Google it and write the answer.\n",
        "\n",
        "## Your Answer\n",
        "\n"
      ],
      "metadata": {
        "id": "6pHnUs5NRe8w"
      },
      "execution_count": null,
      "outputs": []
    },
    {
      "cell_type": "markdown",
      "source": [
        "### Representing Scalars w/ Pytorch (2 ways)"
      ],
      "metadata": {
        "id": "FqoBM0fQR5Kz"
      }
    },
    {
      "cell_type": "code",
      "source": [
        "scalar1 = torch.tensor([1.])\n",
        "print(scalar1)"
      ],
      "metadata": {
        "id": "0UIsqNuVRfBG"
      },
      "execution_count": null,
      "outputs": []
    },
    {
      "cell_type": "code",
      "source": [
        "scalar2 = torch.tensor([3.])\n",
        "print(scalar2)"
      ],
      "metadata": {
        "id": "CS88uQCORfFK"
      },
      "execution_count": null,
      "outputs": []
    },
    {
      "cell_type": "code",
      "source": [
        "add_scalar = scalar1 + scalar2 # addition\n",
        "print(add_scalar)"
      ],
      "metadata": {
        "id": "gSPkUBQuRutq"
      },
      "execution_count": null,
      "outputs": []
    },
    {
      "cell_type": "code",
      "source": [
        "sub_scalar = scalar1 - scalar2 # subtraction\n",
        "print(sub_scalar)"
      ],
      "metadata": {
        "id": "J-ze6kXZRuxc"
      },
      "execution_count": null,
      "outputs": []
    },
    {
      "cell_type": "code",
      "source": [
        "mul_scalar = scalar1 * scalar2 # multiplication\n",
        "print(mul_scalar)"
      ],
      "metadata": {
        "id": "zsmdb1GURu2J"
      },
      "execution_count": null,
      "outputs": []
    },
    {
      "cell_type": "code",
      "source": [
        "div_scalar = scalar1 / scalar2 # division\n",
        "print(div_scalar)"
      ],
      "metadata": {
        "id": "KaYWZjwPRu6o"
      },
      "execution_count": null,
      "outputs": []
    },
    {
      "cell_type": "code",
      "source": [
        "torch.add(scalar1, scalar2) # addition"
      ],
      "metadata": {
        "id": "3aLnKlXiRu-M"
      },
      "execution_count": null,
      "outputs": []
    },
    {
      "cell_type": "code",
      "source": [
        "torch.sub(scalar1, scalar2) # division"
      ],
      "metadata": {
        "id": "A4WnViRIRvBi"
      },
      "execution_count": null,
      "outputs": []
    },
    {
      "cell_type": "code",
      "source": [
        "torch.mul(scalar1, scalar2) # multiplication"
      ],
      "metadata": {
        "id": "dGjBu164RvFn"
      },
      "execution_count": null,
      "outputs": []
    },
    {
      "cell_type": "code",
      "source": [
        "torch.div(scalar1, scalar2) # division"
      ],
      "metadata": {
        "id": "eF3eFqE8RvJs"
      },
      "execution_count": null,
      "outputs": []
    },
    {
      "cell_type": "markdown",
      "source": [
        "### Representing Vectors w/ Pytorch (2 ways)"
      ],
      "metadata": {
        "id": "xept2jYlSGTk"
      }
    },
    {
      "cell_type": "code",
      "source": [
        "vector1 = torch.tensor([1., 2., 3.])\n",
        "print(vector1)"
      ],
      "metadata": {
        "id": "FhEUthBPSRHL"
      },
      "execution_count": null,
      "outputs": []
    },
    {
      "cell_type": "code",
      "source": [
        "vector2 = torch.tensor([4., 5., 6.])\n",
        "print(vector2)"
      ],
      "metadata": {
        "id": "YMIa3rcSSRNC"
      },
      "execution_count": null,
      "outputs": []
    },
    {
      "cell_type": "code",
      "source": [
        "add_vector = vector1 + vector2 # addition\n",
        "print(add_vector)"
      ],
      "metadata": {
        "id": "1UaYjtGASRRJ"
      },
      "execution_count": null,
      "outputs": []
    },
    {
      "cell_type": "code",
      "source": [
        "sub_vector = vector1 - vector2 # subtraction\n",
        "print(sub_vector)"
      ],
      "metadata": {
        "id": "CRmMHQNnSU2m"
      },
      "execution_count": null,
      "outputs": []
    },
    {
      "cell_type": "code",
      "source": [
        "mul_vector = vector1 * vector2 # multiplication\n",
        "print(mul_vector)"
      ],
      "metadata": {
        "id": "8qv7g4XESU7w"
      },
      "execution_count": null,
      "outputs": []
    },
    {
      "cell_type": "code",
      "source": [
        "div_vector = vector1 / vector2 # division\n",
        "print(div_vector)"
      ],
      "metadata": {
        "id": "U4uBjLTiSVBl"
      },
      "execution_count": null,
      "outputs": []
    },
    {
      "cell_type": "code",
      "source": [
        "torch.add(vector1, vector2) # addition"
      ],
      "metadata": {
        "id": "lkAn1-gNSVGR"
      },
      "execution_count": null,
      "outputs": []
    },
    {
      "cell_type": "code",
      "source": [
        "torch.sub(vector1, vector2) # subtraction"
      ],
      "metadata": {
        "id": "sLgTOXkaSVK8"
      },
      "execution_count": null,
      "outputs": []
    },
    {
      "cell_type": "code",
      "source": [
        "torch.mul(vector1, vector2) # multiplication"
      ],
      "metadata": {
        "id": "tN3JzNjoSVP0"
      },
      "execution_count": null,
      "outputs": []
    },
    {
      "cell_type": "code",
      "source": [
        "torch.div(vector1, vector2) # division"
      ],
      "metadata": {
        "id": "uOwsO2sGSf84"
      },
      "execution_count": null,
      "outputs": []
    },
    {
      "cell_type": "code",
      "source": [
        "torch.dot(vector1, vector2) # dot product"
      ],
      "metadata": {
        "id": "x_0Q3j5NSjQR"
      },
      "execution_count": null,
      "outputs": []
    },
    {
      "cell_type": "markdown",
      "source": [
        "### Representing Matrices w/ Pytorch (2 ways)"
      ],
      "metadata": {
        "id": "BC0UpAMlSGf3"
      }
    },
    {
      "cell_type": "code",
      "source": [
        "matrix1 = torch.tensor([[1., 2.], [3., 4.]])\n",
        "print(matrix1)"
      ],
      "metadata": {
        "id": "2vq16WlGRvOv"
      },
      "execution_count": null,
      "outputs": []
    },
    {
      "cell_type": "code",
      "source": [
        "matrix2 = torch.tensor([[5., 6.], [7., 8.]])\n",
        "print(matrix2)"
      ],
      "metadata": {
        "id": "MQeyFKpyRvSG"
      },
      "execution_count": null,
      "outputs": []
    },
    {
      "cell_type": "code",
      "source": [
        "sum_matrix = matrix1 + matrix2 # element-wise addition\n",
        "print(sum_matrix)"
      ],
      "metadata": {
        "id": "c9PzgzU9RvVz"
      },
      "execution_count": null,
      "outputs": []
    },
    {
      "cell_type": "code",
      "source": [
        "sub_matrix = matrix1 - matrix2 # element-wise subtraction\n",
        "print(sub_matrix)"
      ],
      "metadata": {
        "id": "0T__pxltRvZr"
      },
      "execution_count": null,
      "outputs": []
    },
    {
      "cell_type": "code",
      "source": [
        "mul_matrix = matrix1 * matrix2 # element-wise multiplication\n",
        "print(mul_matrix)"
      ],
      "metadata": {
        "id": "hYIZzwX7RfJ4"
      },
      "execution_count": null,
      "outputs": []
    },
    {
      "cell_type": "code",
      "source": [
        "div_matrix = matrix1 / matrix2 # element-wise division\n",
        "print(div_matrix)"
      ],
      "metadata": {
        "id": "ZDxphCr-S5ud"
      },
      "execution_count": null,
      "outputs": []
    },
    {
      "cell_type": "code",
      "source": [
        "torch.add(matrix1, matrix2) # element-wise addition"
      ],
      "metadata": {
        "id": "hzwrIReNS51E"
      },
      "execution_count": null,
      "outputs": []
    },
    {
      "cell_type": "code",
      "source": [
        "torch.sub(matrix1, matrix2) # element-wise subtraction"
      ],
      "metadata": {
        "id": "7mcUDzvQS9sv"
      },
      "execution_count": null,
      "outputs": []
    },
    {
      "cell_type": "code",
      "source": [
        "torch.mul(matrix1, matrix2) # element-wise multiplication"
      ],
      "metadata": {
        "id": "S1sRjf64S90Y"
      },
      "execution_count": null,
      "outputs": []
    },
    {
      "cell_type": "code",
      "source": [
        "torch.div(matrix1, matrix2) # element-wise division"
      ],
      "metadata": {
        "id": "OjSP7fWES95c"
      },
      "execution_count": null,
      "outputs": []
    },
    {
      "cell_type": "code",
      "source": [
        "torch.matmul(matrix1, matrix2) # matrix multiplication"
      ],
      "metadata": {
        "id": "fXRLf6DkS9-A"
      },
      "execution_count": null,
      "outputs": []
    },
    {
      "cell_type": "code",
      "source": [],
      "metadata": {
        "id": "E3fiTdotS56n"
      },
      "execution_count": null,
      "outputs": []
    },
    {
      "cell_type": "code",
      "source": [],
      "metadata": {
        "id": "rokDX6c_S6Ak"
      },
      "execution_count": null,
      "outputs": []
    },
    {
      "cell_type": "markdown",
      "source": [
        "### Question 3. Compute L1/L2 Norm between matrix1 and matrix2 above.\n",
        "*     Hint: https://pytorch.org/docs/stable/generated/torch.linalg.norm.html"
      ],
      "metadata": {
        "id": "Lkq9pZK_0h5r"
      }
    },
    {
      "cell_type": "code",
      "source": [
        "## Your Answer\n",
        "\n",
        "## L1 Norm\n",
        "\n",
        "## L2 Norm\n",
        "\n"
      ],
      "metadata": {
        "id": "EgLdPduq1HHx"
      },
      "execution_count": null,
      "outputs": []
    },
    {
      "cell_type": "code",
      "source": [
        "## Hard Mode (Optional)\n",
        "## Compute Cosine Similarity between matrix1 and matrix2 above.\n",
        "\n",
        "## Your Answer\n",
        "\n"
      ],
      "metadata": {
        "id": "r9iAVpndUFfX"
      },
      "execution_count": null,
      "outputs": []
    },
    {
      "cell_type": "markdown",
      "source": [
        "## Simple MLP\n",
        "\n",
        "*    Reference. https://github.com/Justin-A/DeepLearning101/blob/master/2-1_MNIST_MLP.ipynb"
      ],
      "metadata": {
        "id": "GDck4fScEtI9"
      }
    },
    {
      "cell_type": "code",
      "source": [
        "''' 1. Module Import '''\n",
        "import numpy as np\n",
        "import matplotlib.pyplot as plt\n",
        "\n",
        "import torch\n",
        "import torch.nn as nn\n",
        "import torch.nn.functional as F\n",
        "from torchvision import transforms, datasets"
      ],
      "metadata": {
        "id": "n3uRuWgZEwcy"
      },
      "execution_count": null,
      "outputs": []
    },
    {
      "cell_type": "code",
      "source": [
        "if torch.cuda.is_available():\n",
        "    DEVICE = torch.device('cuda')\n",
        "else:\n",
        "    DEVICE = torch.device('cpu')\n",
        "\n",
        "print('Using PyTorch version:', torch.__version__, ' Device:', DEVICE)"
      ],
      "metadata": {
        "id": "zLAkO1Jugf34"
      },
      "execution_count": null,
      "outputs": []
    },
    {
      "cell_type": "code",
      "source": [
        "BATCH_SIZE = 32\n",
        "EPOCHS = 10"
      ],
      "metadata": {
        "id": "wtSUJeMVggF0"
      },
      "execution_count": null,
      "outputs": []
    },
    {
      "cell_type": "code",
      "source": [
        "''' 3. MNIST Download (Train set, Test set split) '''\n",
        "train_dataset = datasets.MNIST(root = \"../data/MNIST\",\n",
        "                               train = True,\n",
        "                               download = True,\n",
        "                               transform = transforms.ToTensor())\n",
        "\n",
        "test_dataset = datasets.MNIST(root = \"../data/MNIST\",\n",
        "                              train = False,\n",
        "                              transform = transforms.ToTensor())\n",
        "\n",
        "train_loader = torch.utils.data.DataLoader(dataset = train_dataset,\n",
        "                                           batch_size = BATCH_SIZE,\n",
        "                                           shuffle = True)\n",
        "\n",
        "test_loader = torch.utils.data.DataLoader(dataset = test_dataset,\n",
        "                                          batch_size = BATCH_SIZE,\n",
        "                                          shuffle = False)"
      ],
      "metadata": {
        "id": "7LsuDi6TggII"
      },
      "execution_count": null,
      "outputs": []
    },
    {
      "cell_type": "code",
      "source": [
        "## Quick Question\n",
        "# What is MNIST?\n",
        "# Google it and write the answer"
      ],
      "metadata": {
        "id": "bhY_d3YcggKf"
      },
      "execution_count": null,
      "outputs": []
    },
    {
      "cell_type": "code",
      "source": [
        "for (X_train, y_train) in train_loader:\n",
        "    print('X_train:', X_train.size(), 'type:', X_train.type())\n",
        "    print('y_train:', y_train.size(), 'type:', y_train.type())\n",
        "    break"
      ],
      "metadata": {
        "id": "o8LChiv3ggNd"
      },
      "execution_count": null,
      "outputs": []
    },
    {
      "cell_type": "code",
      "source": [
        "pltsize = 1\n",
        "plt.figure(figsize=(10 * pltsize, pltsize))\n",
        "for i in range(10):\n",
        "    plt.subplot(1, 10, i + 1)\n",
        "    plt.axis('off')\n",
        "    plt.imshow(X_train[i, :, :, :].numpy().reshape(28, 28), cmap = \"gray_r\")\n",
        "    plt.title('Class: ' + str(y_train[i].item()))"
      ],
      "metadata": {
        "id": "dY0Ypc0fggPx"
      },
      "execution_count": null,
      "outputs": []
    },
    {
      "cell_type": "code",
      "source": [
        "''' Multi Layer Perceptron '''\n",
        "class Net(nn.Module):\n",
        "    def __init__(self):\n",
        "        super(Net, self).__init__()\n",
        "        self.fc1 = nn.Linear(28 * 28, 512)\n",
        "        self.fc2 = nn.Linear(512, 256)\n",
        "        self.fc3 = nn.Linear(256, 10)\n",
        "\n",
        "    def forward(self, x):\n",
        "        x = x.view(-1, 28 * 28)\n",
        "        x = self.fc1(x)\n",
        "        x = F.sigmoid(x)\n",
        "        x = self.fc2(x)\n",
        "        x = F.sigmoid(x)\n",
        "        x = self.fc3(x)\n",
        "        x = F.log_softmax(x, dim = 1)\n",
        "        return x"
      ],
      "metadata": {
        "id": "x7WkQj2mggSD"
      },
      "execution_count": null,
      "outputs": []
    },
    {
      "cell_type": "code",
      "source": [
        "''' Optimizer, Objective Function '''\n",
        "model = Net().to(DEVICE)\n",
        "optimizer = torch.optim.SGD(model.parameters(), lr = 0.01, momentum = 0.5)\n",
        "criterion = nn.CrossEntropyLoss()\n",
        "\n",
        "print(model)"
      ],
      "metadata": {
        "id": "dwRqonzKtd1O"
      },
      "execution_count": null,
      "outputs": []
    },
    {
      "cell_type": "code",
      "source": [
        "def train(model, train_loader, optimizer, log_interval):\n",
        "    model.train()\n",
        "    for batch_idx, (image, label) in enumerate(train_loader):\n",
        "        image = image.to(DEVICE)\n",
        "        label = label.to(DEVICE)\n",
        "        optimizer.zero_grad()\n",
        "        output = model(image)\n",
        "        loss = criterion(output, label)\n",
        "        loss.backward()\n",
        "        optimizer.step()\n",
        "\n",
        "        if batch_idx % log_interval == 0:\n",
        "            print(\"Train Epoch: {} [{}/{} ({:.0f}%)]\\tTrain Loss: {:.6f}\".format(\n",
        "                epoch, batch_idx * len(image),\n",
        "                len(train_loader.dataset), 100. * batch_idx / len(train_loader),\n",
        "                loss.item()))"
      ],
      "metadata": {
        "id": "p_LnCyyftl88"
      },
      "execution_count": null,
      "outputs": []
    },
    {
      "cell_type": "code",
      "source": [
        "def evaluate(model, test_loader):\n",
        "    model.eval()\n",
        "    test_loss = 0\n",
        "    correct = 0\n",
        "\n",
        "    with torch.no_grad():\n",
        "        for image, label in test_loader:\n",
        "            image = image.to(DEVICE)\n",
        "            label = label.to(DEVICE)\n",
        "            output = model(image)\n",
        "            test_loss += criterion(output, label).item()\n",
        "            prediction = output.max(1, keepdim = True)[1]\n",
        "            correct += prediction.eq(label.view_as(prediction)).sum().item()\n",
        "\n",
        "    test_loss /= (len(test_loader.dataset) / BATCH_SIZE)\n",
        "    test_accuracy = 100. * correct / len(test_loader.dataset)\n",
        "    return test_loss, test_accuracy"
      ],
      "metadata": {
        "id": "psTeTnRmtl_I"
      },
      "execution_count": null,
      "outputs": []
    },
    {
      "cell_type": "code",
      "source": [
        "for epoch in range(1, EPOCHS + 1):\n",
        "    train(model, train_loader, optimizer, log_interval = 200)\n",
        "    test_loss, test_accuracy = evaluate(model, test_loader)\n",
        "    print(\"\\n[EPOCH: {}], \\tTest Loss: {:.4f}, \\tTest Accuracy: {:.2f} % \\n\".format(\n",
        "        epoch, test_loss, test_accuracy))"
      ],
      "metadata": {
        "id": "rGShY7RNRMme"
      },
      "execution_count": null,
      "outputs": []
    },
    {
      "cell_type": "markdown",
      "source": [
        "### Question 4. Please write a line-by-line explanation of the code above. (Simple MLP only)\n",
        "\n",
        "\n",
        "*   Use '#' for Python!\n",
        "*   ChatGPT allowed :) -- but please try to understand the code\n",
        "*   But you don't really have to understand everything -- we'll revisit MLP again in detail"
      ],
      "metadata": {
        "id": "IA3dEOujFVFd"
      }
    },
    {
      "cell_type": "markdown",
      "source": [
        "### Question 5 (Optional). Please read and summarize the following 3 documents:\n",
        "\n",
        "*    https://wikidocs.net/57168\n",
        "*    https://wikidocs.net/52460\n",
        "*    https://wikidocs.net/52846"
      ],
      "metadata": {
        "id": "A0VvCZJKiCye"
      }
    },
    {
      "cell_type": "markdown",
      "source": [
        "### The End."
      ],
      "metadata": {
        "id": "spc48rNHQnYL"
      }
    },
    {
      "cell_type": "markdown",
      "source": [
        "##### Please upload your Colab file @Github https://github.com/duneag2/intro-dl/tree/main/Assignment1\n",
        "\n",
        "*   First, make your folder by your name (e.g. seungeun)\n",
        "*   Then upload your Jupyter Notebook file under that directory\n",
        "\n",
        "###### Need Help?\n",
        "\n",
        "\n",
        "\n",
        "*   Please refer to this link https://yeko90.tistory.com/entry/%ED%8C%8C%EC%9D%B4%EC%8D%AC-colab%EC%BD%94%EB%9E%A9%EC%97%90%EC%84%9C-%EC%95%95%EC%B6%95%ED%8C%8C%EC%9D%BC-%ED%92%80%EA%B8%B0 OR\n",
        "*   Just save your Jupyter Notebook (.ipynb) file in here (colab) and upload via 'Add file' - 'Upload files' https://nthree.tistory.com/60"
      ],
      "metadata": {
        "id": "iMNBVkjiS7D9"
      }
    },
    {
      "cell_type": "code",
      "source": [],
      "metadata": {
        "id": "XzVGuer0S9Oh"
      },
      "execution_count": null,
      "outputs": []
    }
  ]
}