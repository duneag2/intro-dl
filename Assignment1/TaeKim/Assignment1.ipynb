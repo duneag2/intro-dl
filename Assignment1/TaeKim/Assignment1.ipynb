{
  "nbformat": 4,
  "nbformat_minor": 0,
  "metadata": {
    "colab": {
      "provenance": []
    },
    "kernelspec": {
      "name": "python3",
      "display_name": "Python 3"
    },
    "language_info": {
      "name": "python"
    }
  },
  "cells": [
    {
      "cell_type": "markdown",
      "source": [
        "# 2024 Winter Introduction to Deep Learning\n",
        "### Based on Prof. Oh's Youtube Lecture\n",
        "https://youtube.com/playlist?list=PLvbUC2Zh5oJvByu9KL82bswYT2IKf0K1M\n",
        "\n",
        "> Assignment #1\n",
        "\n",
        "\n",
        "*   Youtube Lecture #1-3\n",
        "*   Written by Seungeun Lee"
      ],
      "metadata": {
        "id": "YcXb0XLEvHns"
      }
    },
    {
      "cell_type": "markdown",
      "source": [],
      "metadata": {
        "id": "BegEHUtyfnNF"
      }
    },
    {
      "cell_type": "markdown",
      "source": [
        "### Notice for Python\n",
        "##### If you are new to Python, please follow the Youtube link below:\n",
        "##### https://youtube.com/playlist?list=PLGPF8gvWLYyrkF85itdBHaOLSVbtdzBww\n",
        "##### You really don't have to understand everything in this video!! Just get a feel for Python:)\n",
        "##### If you have any trouble installing Python3, just use online python compiler -- I recommend https://www.programiz.com/python-programming/online-compiler/"
      ],
      "metadata": {
        "id": "1RnTlnjlcVlu"
      }
    },
    {
      "cell_type": "markdown",
      "source": [
        "## How to use Google Colaboratory"
      ],
      "metadata": {
        "id": "qM2kM5G7BYZr"
      }
    },
    {
      "cell_type": "markdown",
      "source": [
        "##### First, please download a zip file from https://www.kaggle.com/datasets/andrewmvd/animal-faces\n",
        "##### Activate you Colaboratory and upload your zip file -- please follow the links below:\n",
        "\n",
        "*   https://yeko90.tistory.com/entry/how-use-google-colab\n",
        "*   https://yeko90.tistory.com/entry/%ED%8C%8C%EC%9D%B4%EC%8D%AC-colab%EC%BD%94%EB%9E%A9%EC%97%90%EC%84%9C-%EC%95%95%EC%B6%95%ED%8C%8C%EC%9D%BC-%ED%92%80%EA%B8%B0"
      ],
      "metadata": {
        "id": "l-eq03krP21I"
      }
    },
    {
      "cell_type": "code",
      "source": [
        "# connecting Google Drive\n",
        "from google.colab import drive\n",
        "drive.mount('/content/drive')"
      ],
      "metadata": {
        "id": "TSl6zem51bVh",
        "colab": {
          "base_uri": "https://localhost:8080/"
        },
        "outputId": "71c5a92b-b856-482c-cb89-47edecb15a98"
      },
      "execution_count": 1,
      "outputs": [
        {
          "output_type": "stream",
          "name": "stdout",
          "text": [
            "Mounted at /content/drive\n"
          ]
        }
      ]
    },
    {
      "cell_type": "markdown",
      "source": [
        "## How to Linux (Basic commands of Linux)\n",
        "### Almost every Deep Learning Research is conducted based on Linux, including Colab."
      ],
      "metadata": {
        "id": "4a4q9MievMjx"
      }
    },
    {
      "cell_type": "code",
      "source": [
        "!pwd # current position"
      ],
      "metadata": {
        "id": "sm9KafgevKwr",
        "colab": {
          "base_uri": "https://localhost:8080/"
        },
        "outputId": "fd7cec82-2829-4454-be78-19b7ed67fc46"
      },
      "execution_count": 2,
      "outputs": [
        {
          "output_type": "stream",
          "name": "stdout",
          "text": [
            "/content\n"
          ]
        }
      ]
    },
    {
      "cell_type": "code",
      "source": [
        "!ls -l # list of files that are stored in the current directory"
      ],
      "metadata": {
        "id": "G6b3U7OwvTr8",
        "colab": {
          "base_uri": "https://localhost:8080/"
        },
        "outputId": "3e1b38f5-bdf5-455a-d4a5-c64584a594a6"
      },
      "execution_count": 3,
      "outputs": [
        {
          "output_type": "stream",
          "name": "stdout",
          "text": [
            "total 8\n",
            "drwx------ 5 root root 4096 Jul  7 06:06 drive\n",
            "drwxr-xr-x 1 root root 4096 Jul  3 13:21 sample_data\n"
          ]
        }
      ]
    },
    {
      "cell_type": "code",
      "source": [
        "# 'c'hange 'd'irectory\n",
        "%cd /content/drive/MyDrive/학교/2024_여름/코딩스터디"
      ],
      "metadata": {
        "id": "ePdVIdBB8_9i",
        "colab": {
          "base_uri": "https://localhost:8080/"
        },
        "outputId": "6dfeae6a-8d67-4465-8bab-f0b821f3c0d4"
      },
      "execution_count": 5,
      "outputs": [
        {
          "output_type": "stream",
          "name": "stdout",
          "text": [
            "/content/drive/MyDrive/학교/2024_여름/코딩스터디\n"
          ]
        }
      ]
    },
    {
      "cell_type": "code",
      "source": [
        "# 'm'a'k'e 'dir'ectory\n",
        "!mkdir intro-dl"
      ],
      "metadata": {
        "id": "pKcf1Vj99IuR",
        "colab": {
          "base_uri": "https://localhost:8080/"
        },
        "outputId": "fb9dedbf-97a5-4176-d2ea-9c4683d22a94"
      },
      "execution_count": 6,
      "outputs": [
        {
          "output_type": "stream",
          "name": "stdout",
          "text": [
            "mkdir: cannot create directory ‘intro-dl’: File exists\n"
          ]
        }
      ]
    },
    {
      "cell_type": "code",
      "source": [
        "%cd /content/drive/MyDrive/학교/2024_여름/코딩스터디/intro-dl"
      ],
      "metadata": {
        "id": "whIce9pwvW3r",
        "colab": {
          "base_uri": "https://localhost:8080/"
        },
        "outputId": "3e49e007-fcba-42bb-d64d-0d60f2b892e4"
      },
      "execution_count": 7,
      "outputs": [
        {
          "output_type": "stream",
          "name": "stdout",
          "text": [
            "/content/drive/MyDrive/학교/2024_여름/코딩스터디/intro-dl\n"
          ]
        }
      ]
    },
    {
      "cell_type": "code",
      "source": [
        "!pwd"
      ],
      "metadata": {
        "id": "gF-MhR4nvz4m",
        "colab": {
          "base_uri": "https://localhost:8080/"
        },
        "outputId": "2f351bcd-c13f-497a-f009-bae17a21ed8a"
      },
      "execution_count": 8,
      "outputs": [
        {
          "output_type": "stream",
          "name": "stdout",
          "text": [
            "/content/drive/MyDrive/학교/2024_여름/코딩스터디/intro-dl\n"
          ]
        }
      ]
    },
    {
      "cell_type": "code",
      "source": [
        "# !unzip -qq zip file name -d destination\n",
        "!unzip -qq /content/drive/MyDrive/학교/2024_여름/코딩스터디/intro-dl/archive.zip -d /content/drive/MyDrive/학교/2024_여름/코딩스터디/intro-dl"
      ],
      "metadata": {
        "id": "svAE4A5V2RYc",
        "colab": {
          "base_uri": "https://localhost:8080/"
        },
        "outputId": "f3fd5bd0-a5a4-4c33-eee2-a4e838861415"
      },
      "execution_count": 9,
      "outputs": [
        {
          "output_type": "stream",
          "name": "stdout",
          "text": [
            "unzip:  cannot find or open /content/drive/MyDrive/학교/2024_여름/코딩스터디/intro-dl/archive.zip, /content/drive/MyDrive/학교/2024_여름/코딩스터디/intro-dl/archive.zip.zip or /content/drive/MyDrive/학교/2024_여름/코딩스터디/intro-dl/archive.zip.ZIP.\n"
          ]
        }
      ]
    },
    {
      "cell_type": "code",
      "source": [
        "!ls -l"
      ],
      "metadata": {
        "id": "zouFABOC7FV7",
        "colab": {
          "base_uri": "https://localhost:8080/"
        },
        "outputId": "c407557e-0ae8-4333-9415-ab93d07e7537"
      },
      "execution_count": 10,
      "outputs": [
        {
          "output_type": "stream",
          "name": "stdout",
          "text": [
            "total 8\n",
            "drwx------ 2 root root 4096 Jul  2 17:33 new_folder\n",
            "-rw------- 1 root root    0 Jul  2 17:33 new.txt\n",
            "drwx------ 2 root root 4096 Jul  2 17:32 temp\n"
          ]
        }
      ]
    },
    {
      "cell_type": "code",
      "source": [
        "%cd afhq"
      ],
      "metadata": {
        "id": "qhm05uhU7LxM",
        "colab": {
          "base_uri": "https://localhost:8080/"
        },
        "outputId": "e71ee227-9f10-4d67-a287-21c993b1d105"
      },
      "execution_count": 11,
      "outputs": [
        {
          "output_type": "stream",
          "name": "stdout",
          "text": [
            "[Errno 2] No such file or directory: 'afhq'\n",
            "/content/drive/MyDrive/학교/2024_여름/코딩스터디/intro-dl\n"
          ]
        }
      ]
    },
    {
      "cell_type": "code",
      "source": [
        "!ls -l"
      ],
      "metadata": {
        "id": "sW6nmyEQ7N2o",
        "colab": {
          "base_uri": "https://localhost:8080/"
        },
        "outputId": "b70df134-d796-413a-9895-20ec30fe298d"
      },
      "execution_count": 12,
      "outputs": [
        {
          "output_type": "stream",
          "name": "stdout",
          "text": [
            "total 8\n",
            "drwx------ 2 root root 4096 Jul  2 17:33 new_folder\n",
            "-rw------- 1 root root    0 Jul  2 17:33 new.txt\n",
            "drwx------ 2 root root 4096 Jul  2 17:32 temp\n"
          ]
        }
      ]
    },
    {
      "cell_type": "markdown",
      "source": [
        "## How to use GPU @ Google Colaboratory"
      ],
      "metadata": {
        "id": "QoTI2KNJBrDA"
      }
    },
    {
      "cell_type": "code",
      "source": [
        "!nvidia-smi\n",
        "# nothing will be shown (command not found)"
      ],
      "metadata": {
        "id": "7FToR-SWBusO",
        "colab": {
          "base_uri": "https://localhost:8080/"
        },
        "outputId": "aa10ef90-209d-4e92-b4d3-9c5ef9d4d069"
      },
      "execution_count": 13,
      "outputs": [
        {
          "output_type": "stream",
          "name": "stdout",
          "text": [
            "/bin/bash: line 1: nvidia-smi: command not found\n"
          ]
        }
      ]
    },
    {
      "cell_type": "code",
      "source": [
        "# Activate your GPU\n",
        "## Refer to this link:\n",
        "## https://wscode.tistory.com/30\n",
        "## OR 런타임 - 런타임 유형 변경 - T4 GPU"
      ],
      "metadata": {
        "id": "D8_VowTkBweJ"
      },
      "execution_count": 14,
      "outputs": []
    },
    {
      "cell_type": "code",
      "source": [
        "!nvidia-smi # then the results will be shown"
      ],
      "metadata": {
        "id": "X20BdXf_CFue",
        "colab": {
          "base_uri": "https://localhost:8080/"
        },
        "outputId": "b6a59ff0-eff8-4ee3-f454-dca0b655b3fd"
      },
      "execution_count": 15,
      "outputs": [
        {
          "output_type": "stream",
          "name": "stdout",
          "text": [
            "/bin/bash: line 1: nvidia-smi: command not found\n"
          ]
        }
      ]
    },
    {
      "cell_type": "markdown",
      "source": [
        "## Basic Python Libraries"
      ],
      "metadata": {
        "id": "8Yop2wQsveMD"
      }
    },
    {
      "cell_type": "markdown",
      "source": [
        "### (1) os"
      ],
      "metadata": {
        "id": "-jnL1k14C272"
      }
    },
    {
      "cell_type": "code",
      "source": [
        "import os # import package os"
      ],
      "metadata": {
        "id": "0rzTV2AwvpJH"
      },
      "execution_count": 16,
      "outputs": []
    },
    {
      "cell_type": "code",
      "source": [
        "os.getcwd() # same as !pwd, current position -> but uses python library os"
      ],
      "metadata": {
        "id": "-y2hWmdgvunl",
        "colab": {
          "base_uri": "https://localhost:8080/",
          "height": 35
        },
        "outputId": "1701c61a-8ab7-4141-cdd4-3a094f816a32"
      },
      "execution_count": 17,
      "outputs": [
        {
          "output_type": "execute_result",
          "data": {
            "text/plain": [
              "'/content/drive/MyDrive/학교/2024_여름/코딩스터디/intro-dl'"
            ],
            "application/vnd.google.colaboratory.intrinsic+json": {
              "type": "string"
            }
          },
          "metadata": {},
          "execution_count": 17
        }
      ]
    },
    {
      "cell_type": "code",
      "source": [
        "os.chdir('/content/drive/MyDrive/학교/2024_여름/코딩스터디/intro-dl') # 'ch'ange 'dir'ectory"
      ],
      "metadata": {
        "id": "3RE7-_Zy7nfL"
      },
      "execution_count": 18,
      "outputs": []
    },
    {
      "cell_type": "code",
      "source": [
        "os.mkdir('temp') # 'm'a'k'e 'dir'ectory -> but uses python library os"
      ],
      "metadata": {
        "id": "K1xE348r9PkO",
        "colab": {
          "base_uri": "https://localhost:8080/",
          "height": 141
        },
        "outputId": "6f04e1de-f29d-4cae-f588-ed1610021278"
      },
      "execution_count": 19,
      "outputs": [
        {
          "output_type": "error",
          "ename": "FileExistsError",
          "evalue": "[Errno 17] File exists: 'temp'",
          "traceback": [
            "\u001b[0;31m---------------------------------------------------------------------------\u001b[0m",
            "\u001b[0;31mFileExistsError\u001b[0m                           Traceback (most recent call last)",
            "\u001b[0;32m<ipython-input-19-4acc0445070a>\u001b[0m in \u001b[0;36m<cell line: 1>\u001b[0;34m()\u001b[0m\n\u001b[0;32m----> 1\u001b[0;31m \u001b[0mos\u001b[0m\u001b[0;34m.\u001b[0m\u001b[0mmkdir\u001b[0m\u001b[0;34m(\u001b[0m\u001b[0;34m'temp'\u001b[0m\u001b[0;34m)\u001b[0m \u001b[0;31m# 'm'a'k'e 'dir'ectory -> but uses python library os\u001b[0m\u001b[0;34m\u001b[0m\u001b[0;34m\u001b[0m\u001b[0m\n\u001b[0m",
            "\u001b[0;31mFileExistsError\u001b[0m: [Errno 17] File exists: 'temp'"
          ]
        }
      ]
    },
    {
      "cell_type": "code",
      "source": [
        "os.listdir(os.getcwd()) # file/folder 'list' of the current 'dir'ectory -> but uses python library os"
      ],
      "metadata": {
        "id": "MJ7QV_a59R63",
        "colab": {
          "base_uri": "https://localhost:8080/"
        },
        "outputId": "e677f0e7-5421-40ad-e29e-c99cffd59a4d"
      },
      "execution_count": 20,
      "outputs": [
        {
          "output_type": "execute_result",
          "data": {
            "text/plain": [
              "['temp', 'new.txt', 'new_folder']"
            ]
          },
          "metadata": {},
          "execution_count": 20
        }
      ]
    },
    {
      "cell_type": "code",
      "source": [
        "len(os.listdir(os.getcwd())) # # of files or folders of the current 'dir'ectory"
      ],
      "metadata": {
        "id": "07cjHWygjt-g",
        "colab": {
          "base_uri": "https://localhost:8080/"
        },
        "outputId": "cca40843-dbb7-4f45-ec53-9f1ca39a516d"
      },
      "execution_count": 21,
      "outputs": [
        {
          "output_type": "execute_result",
          "data": {
            "text/plain": [
              "3"
            ]
          },
          "metadata": {},
          "execution_count": 21
        }
      ]
    },
    {
      "cell_type": "markdown",
      "source": [
        "### Question 1. How can I move to the directory I want using the library os & Linux Command?\n",
        "\n",
        "\n",
        "*   I'd like to move to the directory name '/content/sample_data'."
      ],
      "metadata": {
        "id": "JtrlgMOov47e"
      }
    },
    {
      "cell_type": "code",
      "source": [
        "# Your Answer\n",
        "\n",
        "# (1) os\n",
        "\n",
        "os.chdir('/content/sample_data')"
      ],
      "metadata": {
        "id": "MfYQf0VKvyR5"
      },
      "execution_count": 22,
      "outputs": []
    },
    {
      "cell_type": "code",
      "source": [
        "# (2) cd\n",
        "%cd /content/sample_data"
      ],
      "metadata": {
        "id": "CJ4oHU5GOQ_1",
        "colab": {
          "base_uri": "https://localhost:8080/"
        },
        "outputId": "51f2442c-429c-4118-b7fc-506b7b75e5ba"
      },
      "execution_count": 23,
      "outputs": [
        {
          "output_type": "stream",
          "name": "stdout",
          "text": [
            "/content/drive/MyDrive/학교/2024_여름/코딩스터디/intro-dl\n"
          ]
        }
      ]
    },
    {
      "cell_type": "markdown",
      "source": [
        "### (2) shutil"
      ],
      "metadata": {
        "id": "1rEx93C2C-lH"
      }
    },
    {
      "cell_type": "code",
      "source": [
        "import shutil"
      ],
      "metadata": {
        "id": "TuL9F81bLK4k"
      },
      "execution_count": 24,
      "outputs": []
    },
    {
      "cell_type": "code",
      "source": [
        "os.chdir('/content/drive/MyDrive/학교/2024_여름/코딩스터디/intro-dl')"
      ],
      "metadata": {
        "id": "Aam3dqHUOiMM"
      },
      "execution_count": 25,
      "outputs": []
    },
    {
      "cell_type": "code",
      "source": [
        "!ls -l"
      ],
      "metadata": {
        "id": "7mlbiHUYOqki",
        "colab": {
          "base_uri": "https://localhost:8080/"
        },
        "outputId": "a8e8e933-7797-474a-84cb-0c4ffa9451e8"
      },
      "execution_count": 26,
      "outputs": [
        {
          "output_type": "stream",
          "name": "stdout",
          "text": [
            "total 8\n",
            "drwx------ 2 root root 4096 Jul  2 17:33 new_folder\n",
            "-rw------- 1 root root    0 Jul  2 17:33 new.txt\n",
            "drwx------ 2 root root 4096 Jul  2 17:32 temp\n"
          ]
        }
      ]
    },
    {
      "cell_type": "code",
      "source": [
        "f = open(\"new.txt\", 'w') # make a txt file name new\n",
        "f.close()"
      ],
      "metadata": {
        "id": "ZrHYOq4Gc6I2"
      },
      "execution_count": 27,
      "outputs": []
    },
    {
      "cell_type": "code",
      "source": [
        "!ls -l"
      ],
      "metadata": {
        "id": "dPfk9fWmddqq",
        "colab": {
          "base_uri": "https://localhost:8080/"
        },
        "outputId": "0e20a90b-1b4c-4e54-80f6-3888ed3a0cd0"
      },
      "execution_count": 28,
      "outputs": [
        {
          "output_type": "stream",
          "name": "stdout",
          "text": [
            "total 8\n",
            "drwx------ 2 root root 4096 Jul  2 17:33 new_folder\n",
            "-rw------- 1 root root    0 Jul  7 06:07 new.txt\n",
            "drwx------ 2 root root 4096 Jul  2 17:32 temp\n"
          ]
        }
      ]
    },
    {
      "cell_type": "code",
      "source": [
        "!mkdir new_folder"
      ],
      "metadata": {
        "id": "YH4JK36edvo4",
        "colab": {
          "base_uri": "https://localhost:8080/"
        },
        "outputId": "ffb902b0-588c-4f31-804c-7af89da00077"
      },
      "execution_count": 29,
      "outputs": [
        {
          "output_type": "stream",
          "name": "stdout",
          "text": [
            "mkdir: cannot create directory ‘new_folder’: File exists\n"
          ]
        }
      ]
    },
    {
      "cell_type": "code",
      "source": [
        "!ls -l"
      ],
      "metadata": {
        "id": "qfiaPotEeCSG",
        "colab": {
          "base_uri": "https://localhost:8080/"
        },
        "outputId": "14845bea-3344-490e-dcd2-bfddc98293f2"
      },
      "execution_count": 30,
      "outputs": [
        {
          "output_type": "stream",
          "name": "stdout",
          "text": [
            "total 8\n",
            "drwx------ 2 root root 4096 Jul  2 17:33 new_folder\n",
            "-rw------- 1 root root    0 Jul  7 06:07 new.txt\n",
            "drwx------ 2 root root 4096 Jul  2 17:32 temp\n"
          ]
        }
      ]
    },
    {
      "cell_type": "code",
      "source": [
        "src = '/content/drive/MyDrive/학교/2024_여름/코딩스터디/intro-dl/new.txt' # source directory -- python convention\n",
        "dst = '/content/drive/MyDrive/학교/2024_여름/코딩스터디/intro-dl/new_folder' # destination directory -- python convention"
      ],
      "metadata": {
        "id": "sLR16X9adgmi"
      },
      "execution_count": 39,
      "outputs": []
    },
    {
      "cell_type": "code",
      "source": [
        "shutil.move(src, dst) # from source to target -- move"
      ],
      "metadata": {
        "id": "XZ9XvfL_d1Dc",
        "colab": {
          "base_uri": "https://localhost:8080/",
          "height": 35
        },
        "outputId": "f48ecdea-271e-4da6-d06e-b80c93e20a12"
      },
      "execution_count": 40,
      "outputs": [
        {
          "output_type": "execute_result",
          "data": {
            "text/plain": [
              "'/content/drive/MyDrive/학교/2024_여름/코딩스터디/intro-dl/new_folder/new.txt'"
            ],
            "application/vnd.google.colaboratory.intrinsic+json": {
              "type": "string"
            }
          },
          "metadata": {},
          "execution_count": 40
        }
      ]
    },
    {
      "cell_type": "code",
      "source": [
        "%cd /content/drive/MyDrive/학교/2024_여름/코딩스터디/intro-dl/new_folder"
      ],
      "metadata": {
        "id": "I6yWt4rvePBF",
        "colab": {
          "base_uri": "https://localhost:8080/"
        },
        "outputId": "5b814d8a-e748-4f95-c261-19c2a43c1275"
      },
      "execution_count": 43,
      "outputs": [
        {
          "output_type": "stream",
          "name": "stdout",
          "text": [
            "/content/drive/MyDrive/학교/2024_여름/코딩스터디/intro-dl/new_folder\n"
          ]
        }
      ]
    },
    {
      "cell_type": "code",
      "source": [
        "!ls -l"
      ],
      "metadata": {
        "id": "q3Xh7zzIeUxS",
        "colab": {
          "base_uri": "https://localhost:8080/"
        },
        "outputId": "e3bddbdf-89e9-4526-f2a0-e9b6f48c33e1"
      },
      "execution_count": 44,
      "outputs": [
        {
          "output_type": "stream",
          "name": "stdout",
          "text": [
            "total 0\n",
            "-rw------- 1 root root 0 Jul  7 06:07 new.txt\n"
          ]
        }
      ]
    },
    {
      "cell_type": "code",
      "source": [
        "src2 = '/content/drive/MyDrive/학교/2024_여름/코딩스터디/intro-dl/new_folder/new.txt' # source directory -- python convention\n",
        "dst2 = '/content/drive/MyDrive/학교/2024_여름/코딩스터디/intro-dl/new_folder/new2.txt' # destination directory -- python convention"
      ],
      "metadata": {
        "id": "55Kp2uNpeY4q"
      },
      "execution_count": 45,
      "outputs": []
    },
    {
      "cell_type": "code",
      "source": [
        "shutil.copy(src2, dst2) # from source to target -- copy"
      ],
      "metadata": {
        "id": "dU9uPJuPeYFF",
        "colab": {
          "base_uri": "https://localhost:8080/",
          "height": 35
        },
        "outputId": "c9822d55-ca4c-4006-83fb-dca735939774"
      },
      "execution_count": 46,
      "outputs": [
        {
          "output_type": "execute_result",
          "data": {
            "text/plain": [
              "'/content/drive/MyDrive/학교/2024_여름/코딩스터디/intro-dl/new_folder/new2.txt'"
            ],
            "application/vnd.google.colaboratory.intrinsic+json": {
              "type": "string"
            }
          },
          "metadata": {},
          "execution_count": 46
        }
      ]
    },
    {
      "cell_type": "code",
      "source": [
        "!ls -l"
      ],
      "metadata": {
        "id": "URmb28_6emty",
        "colab": {
          "base_uri": "https://localhost:8080/"
        },
        "outputId": "103b6781-b5fa-437e-9117-f70e52b152cc"
      },
      "execution_count": 47,
      "outputs": [
        {
          "output_type": "stream",
          "name": "stdout",
          "text": [
            "total 0\n",
            "-rw------- 1 root root 0 Jul  7 06:10 new2.txt\n",
            "-rw------- 1 root root 0 Jul  7 06:07 new.txt\n"
          ]
        }
      ]
    },
    {
      "cell_type": "markdown",
      "source": [
        "### Question 2. Please write a code that copies new.txt with a file name new3.txt.\n",
        "*   Directory: /content/drive/MyDrive/intro-dl/afhq/new_folder\n",
        "\n"
      ],
      "metadata": {
        "id": "ZN3mS0mBe_uM"
      }
    },
    {
      "cell_type": "code",
      "source": [
        "# Your Answer\n",
        "\n",
        "src3 = '/content/drive/MyDrive/학교/2024_여름/코딩스터디/intro-dl/new_folder/new.txt'\n",
        "dst3 = '/content/drive/MyDrive/학교/2024_여름/코딩스터디/intro-dl/new_folder/new3.txt'\n",
        "\n",
        "shutil.copy(src3, dst3)"
      ],
      "metadata": {
        "id": "Fb_jk1OFfWiN",
        "colab": {
          "base_uri": "https://localhost:8080/",
          "height": 35
        },
        "outputId": "436b83d2-c343-4a53-cce6-2309723d656e"
      },
      "execution_count": 48,
      "outputs": [
        {
          "output_type": "execute_result",
          "data": {
            "text/plain": [
              "'/content/drive/MyDrive/학교/2024_여름/코딩스터디/intro-dl/new_folder/new3.txt'"
            ],
            "application/vnd.google.colaboratory.intrinsic+json": {
              "type": "string"
            }
          },
          "metadata": {},
          "execution_count": 48
        }
      ]
    },
    {
      "cell_type": "code",
      "source": [
        "## numpy, pandas -- later"
      ],
      "metadata": {
        "id": "-WjOlwWne1w7"
      },
      "execution_count": null,
      "outputs": []
    },
    {
      "cell_type": "markdown",
      "source": [
        "## Basic Pytorch\n",
        "\n",
        "*     Reference. https://github.com/Justin-A/DeepLearning101/blob/master/1-2_Basic_Autograd.ipynb"
      ],
      "metadata": {
        "id": "QQ55qOuzgil-"
      }
    },
    {
      "cell_type": "code",
      "source": [
        "import torch"
      ],
      "metadata": {
        "id": "jvfwaAzf0E0T"
      },
      "execution_count": 49,
      "outputs": []
    },
    {
      "cell_type": "code",
      "source": [
        "## Simple Question.\n",
        "## What is (Py)torch?\n",
        "## Google it and write the answer.\n",
        "\n",
        "## Your Answer\n",
        "\n",
        "# Pytorch is an open-source ML library"
      ],
      "metadata": {
        "id": "6pHnUs5NRe8w"
      },
      "execution_count": 50,
      "outputs": []
    },
    {
      "cell_type": "markdown",
      "source": [
        "### Representing Scalars w/ Pytorch (2 ways)"
      ],
      "metadata": {
        "id": "FqoBM0fQR5Kz"
      }
    },
    {
      "cell_type": "code",
      "source": [
        "scalar1 = torch.tensor([1.])\n",
        "print(scalar1)"
      ],
      "metadata": {
        "id": "0UIsqNuVRfBG",
        "colab": {
          "base_uri": "https://localhost:8080/"
        },
        "outputId": "0303c698-478d-4d07-a001-5881b6ed3d36"
      },
      "execution_count": 51,
      "outputs": [
        {
          "output_type": "stream",
          "name": "stdout",
          "text": [
            "tensor([1.])\n"
          ]
        }
      ]
    },
    {
      "cell_type": "code",
      "source": [
        "scalar2 = torch.tensor([3.])\n",
        "print(scalar2)"
      ],
      "metadata": {
        "id": "CS88uQCORfFK",
        "colab": {
          "base_uri": "https://localhost:8080/"
        },
        "outputId": "87694735-2052-4b83-de39-382d6a71c108"
      },
      "execution_count": 52,
      "outputs": [
        {
          "output_type": "stream",
          "name": "stdout",
          "text": [
            "tensor([3.])\n"
          ]
        }
      ]
    },
    {
      "cell_type": "code",
      "source": [
        "add_scalar = scalar1 + scalar2 # addition\n",
        "print(add_scalar)"
      ],
      "metadata": {
        "id": "gSPkUBQuRutq",
        "colab": {
          "base_uri": "https://localhost:8080/"
        },
        "outputId": "01029649-ba98-4d4b-ff14-0ddcf0b37aa0"
      },
      "execution_count": 53,
      "outputs": [
        {
          "output_type": "stream",
          "name": "stdout",
          "text": [
            "tensor([4.])\n"
          ]
        }
      ]
    },
    {
      "cell_type": "code",
      "source": [
        "sub_scalar = scalar1 - scalar2 # subtraction\n",
        "print(sub_scalar)"
      ],
      "metadata": {
        "id": "J-ze6kXZRuxc",
        "colab": {
          "base_uri": "https://localhost:8080/"
        },
        "outputId": "c084d027-ed5e-4991-ac1f-7af840d147bc"
      },
      "execution_count": 54,
      "outputs": [
        {
          "output_type": "stream",
          "name": "stdout",
          "text": [
            "tensor([-2.])\n"
          ]
        }
      ]
    },
    {
      "cell_type": "code",
      "source": [
        "mul_scalar = scalar1 * scalar2 # multiplication\n",
        "print(mul_scalar)"
      ],
      "metadata": {
        "id": "zsmdb1GURu2J",
        "colab": {
          "base_uri": "https://localhost:8080/"
        },
        "outputId": "22a3e0c0-88a2-4ee1-ea2d-dfbccd96b4aa"
      },
      "execution_count": 55,
      "outputs": [
        {
          "output_type": "stream",
          "name": "stdout",
          "text": [
            "tensor([3.])\n"
          ]
        }
      ]
    },
    {
      "cell_type": "code",
      "source": [
        "div_scalar = scalar1 / scalar2 # division\n",
        "print(div_scalar)"
      ],
      "metadata": {
        "id": "KaYWZjwPRu6o",
        "colab": {
          "base_uri": "https://localhost:8080/"
        },
        "outputId": "2bd7dde5-5f51-41a7-8ce8-41a8f1c78e2b"
      },
      "execution_count": 56,
      "outputs": [
        {
          "output_type": "stream",
          "name": "stdout",
          "text": [
            "tensor([0.3333])\n"
          ]
        }
      ]
    },
    {
      "cell_type": "code",
      "source": [
        "torch.add(scalar1, scalar2) # addition"
      ],
      "metadata": {
        "id": "3aLnKlXiRu-M",
        "colab": {
          "base_uri": "https://localhost:8080/"
        },
        "outputId": "37099d11-ee9f-4b5c-8b8a-e731df3e9af9"
      },
      "execution_count": 57,
      "outputs": [
        {
          "output_type": "execute_result",
          "data": {
            "text/plain": [
              "tensor([4.])"
            ]
          },
          "metadata": {},
          "execution_count": 57
        }
      ]
    },
    {
      "cell_type": "code",
      "source": [
        "torch.sub(scalar1, scalar2) # division"
      ],
      "metadata": {
        "id": "A4WnViRIRvBi",
        "colab": {
          "base_uri": "https://localhost:8080/"
        },
        "outputId": "ac87ebf2-3afe-4710-e19a-3c4d3d458e3f"
      },
      "execution_count": 58,
      "outputs": [
        {
          "output_type": "execute_result",
          "data": {
            "text/plain": [
              "tensor([-2.])"
            ]
          },
          "metadata": {},
          "execution_count": 58
        }
      ]
    },
    {
      "cell_type": "code",
      "source": [
        "torch.mul(scalar1, scalar2) # multiplication"
      ],
      "metadata": {
        "id": "dGjBu164RvFn",
        "colab": {
          "base_uri": "https://localhost:8080/"
        },
        "outputId": "755ea517-eefe-470a-a184-8d99be8416e4"
      },
      "execution_count": 59,
      "outputs": [
        {
          "output_type": "execute_result",
          "data": {
            "text/plain": [
              "tensor([3.])"
            ]
          },
          "metadata": {},
          "execution_count": 59
        }
      ]
    },
    {
      "cell_type": "code",
      "source": [
        "torch.div(scalar1, scalar2) # division"
      ],
      "metadata": {
        "id": "eF3eFqE8RvJs",
        "colab": {
          "base_uri": "https://localhost:8080/"
        },
        "outputId": "faef49b0-d7e3-4a9a-c867-1bc80abbcfd4"
      },
      "execution_count": 60,
      "outputs": [
        {
          "output_type": "execute_result",
          "data": {
            "text/plain": [
              "tensor([0.3333])"
            ]
          },
          "metadata": {},
          "execution_count": 60
        }
      ]
    },
    {
      "cell_type": "markdown",
      "source": [
        "### Representing Vectors w/ Pytorch (2 ways)"
      ],
      "metadata": {
        "id": "xept2jYlSGTk"
      }
    },
    {
      "cell_type": "code",
      "source": [
        "vector1 = torch.tensor([1., 2., 3.])\n",
        "print(vector1)"
      ],
      "metadata": {
        "id": "FhEUthBPSRHL",
        "colab": {
          "base_uri": "https://localhost:8080/"
        },
        "outputId": "870a9dd0-e859-4809-c890-06731a92040d"
      },
      "execution_count": 61,
      "outputs": [
        {
          "output_type": "stream",
          "name": "stdout",
          "text": [
            "tensor([1., 2., 3.])\n"
          ]
        }
      ]
    },
    {
      "cell_type": "code",
      "source": [
        "vector2 = torch.tensor([4., 5., 6.])\n",
        "print(vector2)"
      ],
      "metadata": {
        "id": "YMIa3rcSSRNC",
        "colab": {
          "base_uri": "https://localhost:8080/"
        },
        "outputId": "8aa0d6e5-a9ba-4e63-b26f-a92f49066a5c"
      },
      "execution_count": 62,
      "outputs": [
        {
          "output_type": "stream",
          "name": "stdout",
          "text": [
            "tensor([4., 5., 6.])\n"
          ]
        }
      ]
    },
    {
      "cell_type": "code",
      "source": [
        "add_vector = vector1 + vector2 # addition\n",
        "print(add_vector)"
      ],
      "metadata": {
        "id": "1UaYjtGASRRJ",
        "colab": {
          "base_uri": "https://localhost:8080/"
        },
        "outputId": "e54686f0-0b36-4c1f-8cef-ea6cbd208ed7"
      },
      "execution_count": 63,
      "outputs": [
        {
          "output_type": "stream",
          "name": "stdout",
          "text": [
            "tensor([5., 7., 9.])\n"
          ]
        }
      ]
    },
    {
      "cell_type": "code",
      "source": [
        "sub_vector = vector1 - vector2 # subtraction\n",
        "print(sub_vector)"
      ],
      "metadata": {
        "id": "CRmMHQNnSU2m",
        "colab": {
          "base_uri": "https://localhost:8080/"
        },
        "outputId": "279cf259-8384-47be-d13f-271f2962921c"
      },
      "execution_count": 64,
      "outputs": [
        {
          "output_type": "stream",
          "name": "stdout",
          "text": [
            "tensor([-3., -3., -3.])\n"
          ]
        }
      ]
    },
    {
      "cell_type": "code",
      "source": [
        "mul_vector = vector1 * vector2 # multiplication\n",
        "print(mul_vector)"
      ],
      "metadata": {
        "id": "8qv7g4XESU7w",
        "colab": {
          "base_uri": "https://localhost:8080/"
        },
        "outputId": "c670c17c-74db-4e92-f2ae-528e160b9380"
      },
      "execution_count": 65,
      "outputs": [
        {
          "output_type": "stream",
          "name": "stdout",
          "text": [
            "tensor([ 4., 10., 18.])\n"
          ]
        }
      ]
    },
    {
      "cell_type": "code",
      "source": [
        "div_vector = vector1 / vector2 # division\n",
        "print(div_vector)"
      ],
      "metadata": {
        "id": "U4uBjLTiSVBl",
        "colab": {
          "base_uri": "https://localhost:8080/"
        },
        "outputId": "837bbf8f-7e64-4d9d-a487-27b0ea224aa3"
      },
      "execution_count": 66,
      "outputs": [
        {
          "output_type": "stream",
          "name": "stdout",
          "text": [
            "tensor([0.2500, 0.4000, 0.5000])\n"
          ]
        }
      ]
    },
    {
      "cell_type": "code",
      "source": [
        "torch.add(vector1, vector2) # addition"
      ],
      "metadata": {
        "id": "lkAn1-gNSVGR",
        "colab": {
          "base_uri": "https://localhost:8080/"
        },
        "outputId": "f8b2fad8-99cd-4a28-ceb3-4c45ee925a07"
      },
      "execution_count": 67,
      "outputs": [
        {
          "output_type": "execute_result",
          "data": {
            "text/plain": [
              "tensor([5., 7., 9.])"
            ]
          },
          "metadata": {},
          "execution_count": 67
        }
      ]
    },
    {
      "cell_type": "code",
      "source": [
        "torch.sub(vector1, vector2) # subtraction"
      ],
      "metadata": {
        "id": "sLgTOXkaSVK8",
        "colab": {
          "base_uri": "https://localhost:8080/"
        },
        "outputId": "99339d4b-df46-406b-e386-5678aac3bdcc"
      },
      "execution_count": 68,
      "outputs": [
        {
          "output_type": "execute_result",
          "data": {
            "text/plain": [
              "tensor([-3., -3., -3.])"
            ]
          },
          "metadata": {},
          "execution_count": 68
        }
      ]
    },
    {
      "cell_type": "code",
      "source": [
        "torch.mul(vector1, vector2) # multiplication"
      ],
      "metadata": {
        "id": "tN3JzNjoSVP0",
        "colab": {
          "base_uri": "https://localhost:8080/"
        },
        "outputId": "e9917455-9cc8-4e81-cfce-e3f11fac0632"
      },
      "execution_count": 69,
      "outputs": [
        {
          "output_type": "execute_result",
          "data": {
            "text/plain": [
              "tensor([ 4., 10., 18.])"
            ]
          },
          "metadata": {},
          "execution_count": 69
        }
      ]
    },
    {
      "cell_type": "code",
      "source": [
        "torch.div(vector1, vector2) # division"
      ],
      "metadata": {
        "id": "uOwsO2sGSf84",
        "colab": {
          "base_uri": "https://localhost:8080/"
        },
        "outputId": "537390cd-0d55-48d4-9b85-3a392bad26ce"
      },
      "execution_count": 70,
      "outputs": [
        {
          "output_type": "execute_result",
          "data": {
            "text/plain": [
              "tensor([0.2500, 0.4000, 0.5000])"
            ]
          },
          "metadata": {},
          "execution_count": 70
        }
      ]
    },
    {
      "cell_type": "code",
      "source": [
        "torch.dot(vector1, vector2) # dot product"
      ],
      "metadata": {
        "id": "x_0Q3j5NSjQR",
        "colab": {
          "base_uri": "https://localhost:8080/"
        },
        "outputId": "4992514d-7839-4874-d3f0-5f766a4f2d3b"
      },
      "execution_count": 71,
      "outputs": [
        {
          "output_type": "execute_result",
          "data": {
            "text/plain": [
              "tensor(32.)"
            ]
          },
          "metadata": {},
          "execution_count": 71
        }
      ]
    },
    {
      "cell_type": "markdown",
      "source": [
        "### Representing Matrices w/ Pytorch (2 ways)"
      ],
      "metadata": {
        "id": "BC0UpAMlSGf3"
      }
    },
    {
      "cell_type": "code",
      "source": [
        "matrix1 = torch.tensor([[1., 2.], [3., 4.]])\n",
        "print(matrix1)"
      ],
      "metadata": {
        "id": "2vq16WlGRvOv",
        "colab": {
          "base_uri": "https://localhost:8080/"
        },
        "outputId": "4c859cee-491a-4a13-c93b-02d376da5173"
      },
      "execution_count": 72,
      "outputs": [
        {
          "output_type": "stream",
          "name": "stdout",
          "text": [
            "tensor([[1., 2.],\n",
            "        [3., 4.]])\n"
          ]
        }
      ]
    },
    {
      "cell_type": "code",
      "source": [
        "matrix2 = torch.tensor([[5., 6.], [7., 8.]])\n",
        "print(matrix2)"
      ],
      "metadata": {
        "id": "MQeyFKpyRvSG",
        "colab": {
          "base_uri": "https://localhost:8080/"
        },
        "outputId": "a4b1a6e8-20ca-4a99-d8e1-a81f1175c7fa"
      },
      "execution_count": 73,
      "outputs": [
        {
          "output_type": "stream",
          "name": "stdout",
          "text": [
            "tensor([[5., 6.],\n",
            "        [7., 8.]])\n"
          ]
        }
      ]
    },
    {
      "cell_type": "code",
      "source": [
        "sum_matrix = matrix1 + matrix2 # element-wise addition\n",
        "print(sum_matrix)"
      ],
      "metadata": {
        "id": "c9PzgzU9RvVz",
        "colab": {
          "base_uri": "https://localhost:8080/"
        },
        "outputId": "399c2158-b7a9-4320-fbb8-ce03120e7007"
      },
      "execution_count": 74,
      "outputs": [
        {
          "output_type": "stream",
          "name": "stdout",
          "text": [
            "tensor([[ 6.,  8.],\n",
            "        [10., 12.]])\n"
          ]
        }
      ]
    },
    {
      "cell_type": "code",
      "source": [
        "sub_matrix = matrix1 - matrix2 # element-wise subtraction\n",
        "print(sub_matrix)"
      ],
      "metadata": {
        "id": "0T__pxltRvZr",
        "colab": {
          "base_uri": "https://localhost:8080/"
        },
        "outputId": "7c8549a2-4a15-401d-c15e-4f2acc8fc1b1"
      },
      "execution_count": 75,
      "outputs": [
        {
          "output_type": "stream",
          "name": "stdout",
          "text": [
            "tensor([[-4., -4.],\n",
            "        [-4., -4.]])\n"
          ]
        }
      ]
    },
    {
      "cell_type": "code",
      "source": [
        "mul_matrix = matrix1 * matrix2 # element-wise multiplication\n",
        "print(mul_matrix)"
      ],
      "metadata": {
        "id": "hYIZzwX7RfJ4",
        "colab": {
          "base_uri": "https://localhost:8080/"
        },
        "outputId": "8184bbc7-c426-425f-d96d-f4858d41892e"
      },
      "execution_count": 76,
      "outputs": [
        {
          "output_type": "stream",
          "name": "stdout",
          "text": [
            "tensor([[ 5., 12.],\n",
            "        [21., 32.]])\n"
          ]
        }
      ]
    },
    {
      "cell_type": "code",
      "source": [
        "div_matrix = matrix1 / matrix2 # element-wise division\n",
        "print(div_matrix)"
      ],
      "metadata": {
        "id": "ZDxphCr-S5ud",
        "colab": {
          "base_uri": "https://localhost:8080/"
        },
        "outputId": "f846c423-4257-4ca2-990d-8dbd378f948c"
      },
      "execution_count": 77,
      "outputs": [
        {
          "output_type": "stream",
          "name": "stdout",
          "text": [
            "tensor([[0.2000, 0.3333],\n",
            "        [0.4286, 0.5000]])\n"
          ]
        }
      ]
    },
    {
      "cell_type": "code",
      "source": [
        "torch.add(matrix1, matrix2) # element-wise addition"
      ],
      "metadata": {
        "id": "hzwrIReNS51E",
        "colab": {
          "base_uri": "https://localhost:8080/"
        },
        "outputId": "25548333-3283-4ae6-ce31-7b391208e598"
      },
      "execution_count": 78,
      "outputs": [
        {
          "output_type": "execute_result",
          "data": {
            "text/plain": [
              "tensor([[ 6.,  8.],\n",
              "        [10., 12.]])"
            ]
          },
          "metadata": {},
          "execution_count": 78
        }
      ]
    },
    {
      "cell_type": "code",
      "source": [
        "torch.sub(matrix1, matrix2) # element-wise subtraction"
      ],
      "metadata": {
        "id": "7mcUDzvQS9sv",
        "colab": {
          "base_uri": "https://localhost:8080/"
        },
        "outputId": "d6b7576b-146d-4b20-c4c3-d3c3a0a7d73f"
      },
      "execution_count": 79,
      "outputs": [
        {
          "output_type": "execute_result",
          "data": {
            "text/plain": [
              "tensor([[-4., -4.],\n",
              "        [-4., -4.]])"
            ]
          },
          "metadata": {},
          "execution_count": 79
        }
      ]
    },
    {
      "cell_type": "code",
      "source": [
        "torch.mul(matrix1, matrix2) # element-wise multiplication"
      ],
      "metadata": {
        "id": "S1sRjf64S90Y",
        "colab": {
          "base_uri": "https://localhost:8080/"
        },
        "outputId": "feaf4f9f-3dd1-4bcb-ffbe-4137ec249144"
      },
      "execution_count": 80,
      "outputs": [
        {
          "output_type": "execute_result",
          "data": {
            "text/plain": [
              "tensor([[ 5., 12.],\n",
              "        [21., 32.]])"
            ]
          },
          "metadata": {},
          "execution_count": 80
        }
      ]
    },
    {
      "cell_type": "code",
      "source": [
        "torch.div(matrix1, matrix2) # element-wise division"
      ],
      "metadata": {
        "id": "OjSP7fWES95c",
        "colab": {
          "base_uri": "https://localhost:8080/"
        },
        "outputId": "3d245429-6d4d-4409-effe-3a5e4128d6e8"
      },
      "execution_count": 81,
      "outputs": [
        {
          "output_type": "execute_result",
          "data": {
            "text/plain": [
              "tensor([[0.2000, 0.3333],\n",
              "        [0.4286, 0.5000]])"
            ]
          },
          "metadata": {},
          "execution_count": 81
        }
      ]
    },
    {
      "cell_type": "code",
      "source": [
        "torch.matmul(matrix1, matrix2) # matrix multiplication"
      ],
      "metadata": {
        "id": "fXRLf6DkS9-A",
        "colab": {
          "base_uri": "https://localhost:8080/"
        },
        "outputId": "5a58ca32-e51c-419c-ad0a-d2391d8e8359"
      },
      "execution_count": 82,
      "outputs": [
        {
          "output_type": "execute_result",
          "data": {
            "text/plain": [
              "tensor([[19., 22.],\n",
              "        [43., 50.]])"
            ]
          },
          "metadata": {},
          "execution_count": 82
        }
      ]
    },
    {
      "cell_type": "markdown",
      "source": [
        "### Question 3. Compute L1/L2 Norm between matrix1 and matrix2 above.\n",
        "*     Hint: https://pytorch.org/docs/stable/generated/torch.linalg.norm.html"
      ],
      "metadata": {
        "id": "Lkq9pZK_0h5r"
      }
    },
    {
      "cell_type": "code",
      "source": [
        "## Your Answer\n",
        "\n",
        "## L1 norm\n",
        "l1_norm_matrix1 = torch.linalg.norm(matrix1, ord=1)\n",
        "l1_norm_matrix2 = torch.linalg.norm(matrix2, ord=1)\n",
        "print(f\"L1 norm of matrix1: {l1_norm_matrix1}\")\n",
        "print(f\"L1 norm of matrix2: {l1_norm_matrix2}\")\n",
        "\n",
        "## L2 norm\n",
        "l2_norm_matrix1 = torch.linalg.norm(matrix1, ord='fro')\n",
        "l2_norm_matrix2 = torch.linalg.norm(matrix2, ord='fro')\n",
        "print(f\"L2 norm of matrix1: {l2_norm_matrix1}\")\n",
        "print(f\"L2 norm of matrix2: {l2_norm_matrix2}\")"
      ],
      "metadata": {
        "id": "EgLdPduq1HHx",
        "colab": {
          "base_uri": "https://localhost:8080/"
        },
        "outputId": "1a40abe1-ceb1-4577-a6d8-d3b91ffd4ec8"
      },
      "execution_count": 88,
      "outputs": [
        {
          "output_type": "stream",
          "name": "stdout",
          "text": [
            "L1 norm of matrix1: 6.0\n",
            "L1 norm of matrix2: 14.0\n",
            "L2 norm of matrix1: 5.4772257804870605\n",
            "L2 norm of matrix2: 13.190905570983887\n"
          ]
        }
      ]
    },
    {
      "cell_type": "code",
      "source": [
        "## Hard Mode (Optional)\n",
        "## Compute Cosine Similarity between matrix1 and matrix2 above.\n",
        "\n",
        "## Your Answer\n",
        "import torch.nn.functional as F\n",
        "\n",
        "matrix1_flat = matrix1.flatten()\n",
        "matrix2_flat = matrix2.flatten()\n",
        "\n",
        "\n",
        "cosine_similarity = F.cosine_similarity(matrix1_flat.unsqueeze(0), matrix2_flat.unsqueeze(0))\n",
        "\n",
        "print(f\"Cosine similarity: {cosine_similarity.item()}\")"
      ],
      "metadata": {
        "id": "r9iAVpndUFfX",
        "colab": {
          "base_uri": "https://localhost:8080/"
        },
        "outputId": "1cf01dc2-6189-42d0-9789-5d59798693ce"
      },
      "execution_count": 90,
      "outputs": [
        {
          "output_type": "stream",
          "name": "stdout",
          "text": [
            "Cosine similarity: 0.9688639640808105\n"
          ]
        }
      ]
    },
    {
      "cell_type": "markdown",
      "source": [
        "## Simple MLP\n",
        "\n",
        "*    Reference. https://github.com/Justin-A/DeepLearning101/blob/master/2-1_MNIST_MLP.ipynb"
      ],
      "metadata": {
        "id": "GDck4fScEtI9"
      }
    },
    {
      "cell_type": "code",
      "source": [
        "''' 1. Module Import '''\n",
        "import numpy as np\n",
        "import matplotlib.pyplot as plt\n",
        "\n",
        "import torch\n",
        "import torch.nn as nn\n",
        "import torch.nn.functional as F\n",
        "from torchvision import transforms, datasets"
      ],
      "metadata": {
        "id": "n3uRuWgZEwcy"
      },
      "execution_count": 91,
      "outputs": []
    },
    {
      "cell_type": "code",
      "source": [
        "if torch.cuda.is_available():\n",
        "    DEVICE = torch.device('cuda')\n",
        "else:\n",
        "    DEVICE = torch.device('cpu')\n",
        "\n",
        "print('Using PyTorch version:', torch.__version__, ' Device:', DEVICE)"
      ],
      "metadata": {
        "id": "zLAkO1Jugf34",
        "colab": {
          "base_uri": "https://localhost:8080/"
        },
        "outputId": "17f5819f-9172-4261-88e5-f3743e24e82d"
      },
      "execution_count": 92,
      "outputs": [
        {
          "output_type": "stream",
          "name": "stdout",
          "text": [
            "Using PyTorch version: 2.3.0+cu121  Device: cpu\n"
          ]
        }
      ]
    },
    {
      "cell_type": "code",
      "source": [
        "BATCH_SIZE = 32\n",
        "EPOCHS = 10"
      ],
      "metadata": {
        "id": "wtSUJeMVggF0"
      },
      "execution_count": 93,
      "outputs": []
    },
    {
      "cell_type": "code",
      "source": [
        "''' 3. MNIST Download (Train set, Test set split) '''\n",
        "train_dataset = datasets.MNIST(root = \"../data/MNIST\",\n",
        "                               train = True,\n",
        "                               download = True,\n",
        "                               transform = transforms.ToTensor())\n",
        "\n",
        "test_dataset = datasets.MNIST(root = \"../data/MNIST\",\n",
        "                              train = False,\n",
        "                              transform = transforms.ToTensor())\n",
        "\n",
        "train_loader = torch.utils.data.DataLoader(dataset = train_dataset,\n",
        "                                           batch_size = BATCH_SIZE,\n",
        "                                           shuffle = True)\n",
        "\n",
        "test_loader = torch.utils.data.DataLoader(dataset = test_dataset,\n",
        "                                          batch_size = BATCH_SIZE,\n",
        "                                          shuffle = False)"
      ],
      "metadata": {
        "id": "7LsuDi6TggII",
        "colab": {
          "base_uri": "https://localhost:8080/"
        },
        "outputId": "bf3ef83a-7d66-464e-9f3b-7fb5445403e7"
      },
      "execution_count": 94,
      "outputs": [
        {
          "output_type": "stream",
          "name": "stdout",
          "text": [
            "Downloading http://yann.lecun.com/exdb/mnist/train-images-idx3-ubyte.gz\n",
            "Failed to download (trying next):\n",
            "HTTP Error 403: Forbidden\n",
            "\n",
            "Downloading https://ossci-datasets.s3.amazonaws.com/mnist/train-images-idx3-ubyte.gz\n",
            "Downloading https://ossci-datasets.s3.amazonaws.com/mnist/train-images-idx3-ubyte.gz to ../data/MNIST/MNIST/raw/train-images-idx3-ubyte.gz\n"
          ]
        },
        {
          "output_type": "stream",
          "name": "stderr",
          "text": [
            "100%|██████████| 9912422/9912422 [00:01<00:00, 5444167.21it/s]\n"
          ]
        },
        {
          "output_type": "stream",
          "name": "stdout",
          "text": [
            "Extracting ../data/MNIST/MNIST/raw/train-images-idx3-ubyte.gz to ../data/MNIST/MNIST/raw\n",
            "\n",
            "Downloading http://yann.lecun.com/exdb/mnist/train-labels-idx1-ubyte.gz\n",
            "Failed to download (trying next):\n",
            "HTTP Error 403: Forbidden\n",
            "\n",
            "Downloading https://ossci-datasets.s3.amazonaws.com/mnist/train-labels-idx1-ubyte.gz\n",
            "Downloading https://ossci-datasets.s3.amazonaws.com/mnist/train-labels-idx1-ubyte.gz to ../data/MNIST/MNIST/raw/train-labels-idx1-ubyte.gz\n"
          ]
        },
        {
          "output_type": "stream",
          "name": "stderr",
          "text": [
            "100%|██████████| 28881/28881 [00:00<00:00, 163306.05it/s]\n"
          ]
        },
        {
          "output_type": "stream",
          "name": "stdout",
          "text": [
            "Extracting ../data/MNIST/MNIST/raw/train-labels-idx1-ubyte.gz to ../data/MNIST/MNIST/raw\n",
            "\n",
            "Downloading http://yann.lecun.com/exdb/mnist/t10k-images-idx3-ubyte.gz\n",
            "Failed to download (trying next):\n",
            "HTTP Error 403: Forbidden\n",
            "\n",
            "Downloading https://ossci-datasets.s3.amazonaws.com/mnist/t10k-images-idx3-ubyte.gz\n",
            "Downloading https://ossci-datasets.s3.amazonaws.com/mnist/t10k-images-idx3-ubyte.gz to ../data/MNIST/MNIST/raw/t10k-images-idx3-ubyte.gz\n"
          ]
        },
        {
          "output_type": "stream",
          "name": "stderr",
          "text": [
            "100%|██████████| 1648877/1648877 [00:01<00:00, 1509978.74it/s]\n"
          ]
        },
        {
          "output_type": "stream",
          "name": "stdout",
          "text": [
            "Extracting ../data/MNIST/MNIST/raw/t10k-images-idx3-ubyte.gz to ../data/MNIST/MNIST/raw\n",
            "\n",
            "Downloading http://yann.lecun.com/exdb/mnist/t10k-labels-idx1-ubyte.gz\n",
            "Failed to download (trying next):\n",
            "HTTP Error 403: Forbidden\n",
            "\n",
            "Downloading https://ossci-datasets.s3.amazonaws.com/mnist/t10k-labels-idx1-ubyte.gz\n",
            "Downloading https://ossci-datasets.s3.amazonaws.com/mnist/t10k-labels-idx1-ubyte.gz to ../data/MNIST/MNIST/raw/t10k-labels-idx1-ubyte.gz\n"
          ]
        },
        {
          "output_type": "stream",
          "name": "stderr",
          "text": [
            "100%|██████████| 4542/4542 [00:00<00:00, 8799320.45it/s]\n"
          ]
        },
        {
          "output_type": "stream",
          "name": "stdout",
          "text": [
            "Extracting ../data/MNIST/MNIST/raw/t10k-labels-idx1-ubyte.gz to ../data/MNIST/MNIST/raw\n",
            "\n"
          ]
        }
      ]
    },
    {
      "cell_type": "code",
      "source": [
        "## Quick Question\n",
        "# What is MNIST?\n",
        "# Google it and write the answer\n",
        "\n",
        "# MNIST is a dataset of handwritten digits."
      ],
      "metadata": {
        "id": "bhY_d3YcggKf"
      },
      "execution_count": 95,
      "outputs": []
    },
    {
      "cell_type": "code",
      "source": [
        "for (X_train, y_train) in train_loader:\n",
        "    print('X_train:', X_train.size(), 'type:', X_train.type())\n",
        "    print('y_train:', y_train.size(), 'type:', y_train.type())\n",
        "    break"
      ],
      "metadata": {
        "id": "o8LChiv3ggNd",
        "colab": {
          "base_uri": "https://localhost:8080/"
        },
        "outputId": "b86f1d55-62e1-4114-eabc-ac80620aa98d"
      },
      "execution_count": 96,
      "outputs": [
        {
          "output_type": "stream",
          "name": "stdout",
          "text": [
            "X_train: torch.Size([32, 1, 28, 28]) type: torch.FloatTensor\n",
            "y_train: torch.Size([32]) type: torch.LongTensor\n"
          ]
        }
      ]
    },
    {
      "cell_type": "code",
      "source": [
        "pltsize = 1\n",
        "plt.figure(figsize=(10 * pltsize, pltsize))\n",
        "for i in range(10):\n",
        "    plt.subplot(1, 10, i + 1)\n",
        "    plt.axis('off')\n",
        "    plt.imshow(X_train[i, :, :, :].numpy().reshape(28, 28), cmap = \"gray_r\")\n",
        "    plt.title('Class: ' + str(y_train[i].item()))"
      ],
      "metadata": {
        "id": "dY0Ypc0fggPx",
        "colab": {
          "base_uri": "https://localhost:8080/",
          "height": 125
        },
        "outputId": "639c2db6-bce6-40ee-dd08-e646b2d6ff7e"
      },
      "execution_count": 97,
      "outputs": [
        {
          "output_type": "display_data",
          "data": {
            "text/plain": [
              "<Figure size 1000x100 with 10 Axes>"
            ],
            "image/png": "[encoded data removed]"
          },
          "metadata": {}
        }
      ]
    },
    {
      "cell_type": "code",
      "source": [
        "''' Multi Layer Perceptron '''\n",
        "class Net(nn.Module):    # initialize class Net with nn.Module\n",
        "    def __init__(self):    # constructor\n",
        "        super(Net, self).__init__()    # inherit the nn.Module\n",
        "        self.fc1 = nn.Linear(28 * 28, 512)    # first layer, fc with dim 784, 512\n",
        "        self.fc2 = nn.Linear(512, 256)    # second layer, fc with dim 512, 256\n",
        "        self.fc3 = nn.Linear(256, 10)    # third layer, fc with dim 256, 10 -> finalize into one-hot-coded options of 10 digits\n",
        "\n",
        "    def forward(self, x):    # define the forward pass\n",
        "        x = x.view(-1, 28 * 28)    # flatten the input tensor from (batch_size, 1, 28, 28) to (batch_size, 784)\n",
        "        x = self.fc1(x)    # pass the flattened input through the first fully connected layer\n",
        "        x = F.sigmoid(x)    # apply the sigmoid activation function\n",
        "        x = self.fc2(x)    # pass the result through the second fully connected layer\n",
        "        x = F.sigmoid(x)    # apply the sigmoid activation function again\n",
        "        x = self.fc3(x)    # pass the result through the third fully connected layer\n",
        "        x = F.log_softmax(x, dim=1)    # apply the log softmax activation function to get log-probabilities for the output classes\n",
        "        return x"
      ],
      "metadata": {
        "id": "x7WkQj2mggSD"
      },
      "execution_count": 98,
      "outputs": []
    },
    {
      "cell_type": "code",
      "source": [
        "''' Optimizer, Objective Function '''\n",
        "model = Net().to(DEVICE)\n",
        "optimizer = torch.optim.SGD(model.parameters(), lr = 0.01, momentum = 0.5)\n",
        "criterion = nn.CrossEntropyLoss()\n",
        "\n",
        "print(model)"
      ],
      "metadata": {
        "id": "dwRqonzKtd1O",
        "colab": {
          "base_uri": "https://localhost:8080/"
        },
        "outputId": "e575fcef-a880-4c5c-9548-876526f64dc6"
      },
      "execution_count": 99,
      "outputs": [
        {
          "output_type": "stream",
          "name": "stdout",
          "text": [
            "Net(\n",
            "  (fc1): Linear(in_features=784, out_features=512, bias=True)\n",
            "  (fc2): Linear(in_features=512, out_features=256, bias=True)\n",
            "  (fc3): Linear(in_features=256, out_features=10, bias=True)\n",
            ")\n"
          ]
        }
      ]
    },
    {
      "cell_type": "code",
      "source": [
        "def train(model, train_loader, optimizer, log_interval):\n",
        "    model.train()\n",
        "    for batch_idx, (image, label) in enumerate(train_loader):\n",
        "        image = image.to(DEVICE)\n",
        "        label = label.to(DEVICE)\n",
        "        optimizer.zero_grad()\n",
        "        output = model(image)\n",
        "        loss = criterion(output, label)\n",
        "        loss.backward()\n",
        "        optimizer.step()\n",
        "\n",
        "        if batch_idx % log_interval == 0:\n",
        "            print(\"Train Epoch: {} [{}/{} ({:.0f}%)]\\tTrain Loss: {:.6f}\".format(\n",
        "                epoch, batch_idx * len(image),\n",
        "                len(train_loader.dataset), 100. * batch_idx / len(train_loader),\n",
        "                loss.item()))"
      ],
      "metadata": {
        "id": "p_LnCyyftl88"
      },
      "execution_count": 100,
      "outputs": []
    },
    {
      "cell_type": "code",
      "source": [
        "def evaluate(model, test_loader):\n",
        "    model.eval()\n",
        "    test_loss = 0\n",
        "    correct = 0\n",
        "\n",
        "    with torch.no_grad():\n",
        "        for image, label in test_loader:\n",
        "            image = image.to(DEVICE)\n",
        "            label = label.to(DEVICE)\n",
        "            output = model(image)\n",
        "            test_loss += criterion(output, label).item()\n",
        "            prediction = output.max(1, keepdim = True)[1]\n",
        "            correct += prediction.eq(label.view_as(prediction)).sum().item()\n",
        "\n",
        "    test_loss /= (len(test_loader.dataset) / BATCH_SIZE)\n",
        "    test_accuracy = 100. * correct / len(test_loader.dataset)\n",
        "    return test_loss, test_accuracy"
      ],
      "metadata": {
        "id": "psTeTnRmtl_I"
      },
      "execution_count": 101,
      "outputs": []
    },
    {
      "cell_type": "code",
      "source": [
        "for epoch in range(1, EPOCHS + 1):\n",
        "    train(model, train_loader, optimizer, log_interval = 200)\n",
        "    test_loss, test_accuracy = evaluate(model, test_loader)\n",
        "    print(\"\\n[EPOCH: {}], \\tTest Loss: {:.4f}, \\tTest Accuracy: {:.2f} % \\n\".format(\n",
        "        epoch, test_loss, test_accuracy))"
      ],
      "metadata": {
        "id": "rGShY7RNRMme",
        "colab": {
          "base_uri": "https://localhost:8080/"
        },
        "outputId": "e356db49-153f-4daf-ad01-c4b1e289a33f"
      },
      "execution_count": 102,
      "outputs": [
        {
          "output_type": "stream",
          "name": "stdout",
          "text": [
            "Train Epoch: 1 [0/60000 (0%)]\tTrain Loss: 2.383786\n",
            "Train Epoch: 1 [6400/60000 (11%)]\tTrain Loss: 2.310593\n",
            "Train Epoch: 1 [12800/60000 (21%)]\tTrain Loss: 2.349660\n",
            "Train Epoch: 1 [19200/60000 (32%)]\tTrain Loss: 2.322165\n",
            "Train Epoch: 1 [25600/60000 (43%)]\tTrain Loss: 2.329508\n",
            "Train Epoch: 1 [32000/60000 (53%)]\tTrain Loss: 2.293964\n",
            "Train Epoch: 1 [38400/60000 (64%)]\tTrain Loss: 2.290837\n",
            "Train Epoch: 1 [44800/60000 (75%)]\tTrain Loss: 2.287729\n",
            "Train Epoch: 1 [51200/60000 (85%)]\tTrain Loss: 2.220552\n",
            "Train Epoch: 1 [57600/60000 (96%)]\tTrain Loss: 2.215423\n",
            "\n",
            "[EPOCH: 1], \tTest Loss: 2.2265, \tTest Accuracy: 29.74 % \n",
            "\n",
            "Train Epoch: 2 [0/60000 (0%)]\tTrain Loss: 2.250284\n",
            "Train Epoch: 2 [6400/60000 (11%)]\tTrain Loss: 2.204192\n",
            "Train Epoch: 2 [12800/60000 (21%)]\tTrain Loss: 2.104985\n",
            "Train Epoch: 2 [19200/60000 (32%)]\tTrain Loss: 2.150218\n",
            "Train Epoch: 2 [25600/60000 (43%)]\tTrain Loss: 1.963331\n",
            "Train Epoch: 2 [32000/60000 (53%)]\tTrain Loss: 1.808386\n",
            "Train Epoch: 2 [38400/60000 (64%)]\tTrain Loss: 1.602716\n",
            "Train Epoch: 2 [44800/60000 (75%)]\tTrain Loss: 1.442588\n",
            "Train Epoch: 2 [51200/60000 (85%)]\tTrain Loss: 1.751516\n",
            "Train Epoch: 2 [57600/60000 (96%)]\tTrain Loss: 1.386169\n",
            "\n",
            "[EPOCH: 2], \tTest Loss: 1.2798, \tTest Accuracy: 59.70 % \n",
            "\n",
            "Train Epoch: 3 [0/60000 (0%)]\tTrain Loss: 1.384368\n",
            "Train Epoch: 3 [6400/60000 (11%)]\tTrain Loss: 1.088561\n",
            "Train Epoch: 3 [12800/60000 (21%)]\tTrain Loss: 1.051213\n",
            "Train Epoch: 3 [19200/60000 (32%)]\tTrain Loss: 1.139169\n",
            "Train Epoch: 3 [25600/60000 (43%)]\tTrain Loss: 1.033930\n",
            "Train Epoch: 3 [32000/60000 (53%)]\tTrain Loss: 1.058926\n",
            "Train Epoch: 3 [38400/60000 (64%)]\tTrain Loss: 0.785414\n",
            "Train Epoch: 3 [44800/60000 (75%)]\tTrain Loss: 0.985520\n",
            "Train Epoch: 3 [51200/60000 (85%)]\tTrain Loss: 0.966571\n",
            "Train Epoch: 3 [57600/60000 (96%)]\tTrain Loss: 0.829384\n",
            "\n",
            "[EPOCH: 3], \tTest Loss: 0.7516, \tTest Accuracy: 77.34 % \n",
            "\n",
            "Train Epoch: 4 [0/60000 (0%)]\tTrain Loss: 0.896083\n",
            "Train Epoch: 4 [6400/60000 (11%)]\tTrain Loss: 0.653364\n",
            "Train Epoch: 4 [12800/60000 (21%)]\tTrain Loss: 0.674894\n",
            "Train Epoch: 4 [19200/60000 (32%)]\tTrain Loss: 0.510292\n",
            "Train Epoch: 4 [25600/60000 (43%)]\tTrain Loss: 0.513940\n",
            "Train Epoch: 4 [32000/60000 (53%)]\tTrain Loss: 0.862396\n",
            "Train Epoch: 4 [38400/60000 (64%)]\tTrain Loss: 0.802857\n",
            "Train Epoch: 4 [44800/60000 (75%)]\tTrain Loss: 0.734232\n",
            "Train Epoch: 4 [51200/60000 (85%)]\tTrain Loss: 0.632991\n",
            "Train Epoch: 4 [57600/60000 (96%)]\tTrain Loss: 0.494084\n",
            "\n",
            "[EPOCH: 4], \tTest Loss: 0.5500, \tTest Accuracy: 84.07 % \n",
            "\n",
            "Train Epoch: 5 [0/60000 (0%)]\tTrain Loss: 0.565552\n",
            "Train Epoch: 5 [6400/60000 (11%)]\tTrain Loss: 0.547229\n",
            "Train Epoch: 5 [12800/60000 (21%)]\tTrain Loss: 0.583844\n",
            "Train Epoch: 5 [19200/60000 (32%)]\tTrain Loss: 0.660644\n",
            "Train Epoch: 5 [25600/60000 (43%)]\tTrain Loss: 0.602271\n",
            "Train Epoch: 5 [32000/60000 (53%)]\tTrain Loss: 0.528202\n",
            "Train Epoch: 5 [38400/60000 (64%)]\tTrain Loss: 0.418295\n",
            "Train Epoch: 5 [44800/60000 (75%)]\tTrain Loss: 0.554517\n",
            "Train Epoch: 5 [51200/60000 (85%)]\tTrain Loss: 0.417044\n",
            "Train Epoch: 5 [57600/60000 (96%)]\tTrain Loss: 0.433924\n",
            "\n",
            "[EPOCH: 5], \tTest Loss: 0.4625, \tTest Accuracy: 86.53 % \n",
            "\n",
            "Train Epoch: 6 [0/60000 (0%)]\tTrain Loss: 0.605455\n",
            "Train Epoch: 6 [6400/60000 (11%)]\tTrain Loss: 0.470574\n",
            "Train Epoch: 6 [12800/60000 (21%)]\tTrain Loss: 0.672377\n",
            "Train Epoch: 6 [19200/60000 (32%)]\tTrain Loss: 0.286744\n",
            "Train Epoch: 6 [25600/60000 (43%)]\tTrain Loss: 0.422670\n",
            "Train Epoch: 6 [32000/60000 (53%)]\tTrain Loss: 0.244422\n",
            "Train Epoch: 6 [38400/60000 (64%)]\tTrain Loss: 0.454315\n",
            "Train Epoch: 6 [44800/60000 (75%)]\tTrain Loss: 0.362506\n",
            "Train Epoch: 6 [51200/60000 (85%)]\tTrain Loss: 0.407113\n",
            "Train Epoch: 6 [57600/60000 (96%)]\tTrain Loss: 0.271160\n",
            "\n",
            "[EPOCH: 6], \tTest Loss: 0.4142, \tTest Accuracy: 87.93 % \n",
            "\n",
            "Train Epoch: 7 [0/60000 (0%)]\tTrain Loss: 0.248223\n",
            "Train Epoch: 7 [6400/60000 (11%)]\tTrain Loss: 0.323635\n",
            "Train Epoch: 7 [12800/60000 (21%)]\tTrain Loss: 0.308542\n",
            "Train Epoch: 7 [19200/60000 (32%)]\tTrain Loss: 0.715885\n",
            "Train Epoch: 7 [25600/60000 (43%)]\tTrain Loss: 0.392101\n",
            "Train Epoch: 7 [32000/60000 (53%)]\tTrain Loss: 0.500834\n",
            "Train Epoch: 7 [38400/60000 (64%)]\tTrain Loss: 0.398581\n",
            "Train Epoch: 7 [44800/60000 (75%)]\tTrain Loss: 0.627304\n",
            "Train Epoch: 7 [51200/60000 (85%)]\tTrain Loss: 0.346081\n",
            "Train Epoch: 7 [57600/60000 (96%)]\tTrain Loss: 1.002343\n",
            "\n",
            "[EPOCH: 7], \tTest Loss: 0.3795, \tTest Accuracy: 88.97 % \n",
            "\n",
            "Train Epoch: 8 [0/60000 (0%)]\tTrain Loss: 0.317918\n",
            "Train Epoch: 8 [6400/60000 (11%)]\tTrain Loss: 0.492749\n",
            "Train Epoch: 8 [12800/60000 (21%)]\tTrain Loss: 0.388101\n",
            "Train Epoch: 8 [19200/60000 (32%)]\tTrain Loss: 0.485444\n",
            "Train Epoch: 8 [25600/60000 (43%)]\tTrain Loss: 0.225485\n",
            "Train Epoch: 8 [32000/60000 (53%)]\tTrain Loss: 0.273272\n",
            "Train Epoch: 8 [38400/60000 (64%)]\tTrain Loss: 0.605666\n",
            "Train Epoch: 8 [44800/60000 (75%)]\tTrain Loss: 0.178635\n",
            "Train Epoch: 8 [51200/60000 (85%)]\tTrain Loss: 0.210527\n",
            "Train Epoch: 8 [57600/60000 (96%)]\tTrain Loss: 0.105297\n",
            "\n",
            "[EPOCH: 8], \tTest Loss: 0.3606, \tTest Accuracy: 89.52 % \n",
            "\n",
            "Train Epoch: 9 [0/60000 (0%)]\tTrain Loss: 0.317932\n",
            "Train Epoch: 9 [6400/60000 (11%)]\tTrain Loss: 0.188574\n",
            "Train Epoch: 9 [12800/60000 (21%)]\tTrain Loss: 0.276405\n",
            "Train Epoch: 9 [19200/60000 (32%)]\tTrain Loss: 0.258556\n",
            "Train Epoch: 9 [25600/60000 (43%)]\tTrain Loss: 0.300411\n",
            "Train Epoch: 9 [32000/60000 (53%)]\tTrain Loss: 0.184802\n",
            "Train Epoch: 9 [38400/60000 (64%)]\tTrain Loss: 0.133859\n",
            "Train Epoch: 9 [44800/60000 (75%)]\tTrain Loss: 0.399730\n",
            "Train Epoch: 9 [51200/60000 (85%)]\tTrain Loss: 0.540208\n",
            "Train Epoch: 9 [57600/60000 (96%)]\tTrain Loss: 0.375461\n",
            "\n",
            "[EPOCH: 9], \tTest Loss: 0.3475, \tTest Accuracy: 89.88 % \n",
            "\n",
            "Train Epoch: 10 [0/60000 (0%)]\tTrain Loss: 0.488934\n",
            "Train Epoch: 10 [6400/60000 (11%)]\tTrain Loss: 0.228174\n",
            "Train Epoch: 10 [12800/60000 (21%)]\tTrain Loss: 0.357310\n",
            "Train Epoch: 10 [19200/60000 (32%)]\tTrain Loss: 0.228824\n",
            "Train Epoch: 10 [25600/60000 (43%)]\tTrain Loss: 0.395158\n",
            "Train Epoch: 10 [32000/60000 (53%)]\tTrain Loss: 0.714555\n",
            "Train Epoch: 10 [38400/60000 (64%)]\tTrain Loss: 0.460492\n",
            "Train Epoch: 10 [44800/60000 (75%)]\tTrain Loss: 0.401179\n",
            "Train Epoch: 10 [51200/60000 (85%)]\tTrain Loss: 0.210234\n",
            "Train Epoch: 10 [57600/60000 (96%)]\tTrain Loss: 0.225919\n",
            "\n",
            "[EPOCH: 10], \tTest Loss: 0.3399, \tTest Accuracy: 90.27 % \n",
            "\n"
          ]
        }
      ]
    },
    {
      "cell_type": "markdown",
      "source": [
        "### Question 4. Please write a line-by-line explanation of the code above. (Simple MLP only)\n",
        "\n",
        "\n",
        "*   Use '#' for Python!\n",
        "*   ChatGPT allowed :) -- but please try to understand the code\n",
        "*   But you don't really have to understand everything -- we'll revisit MLP again in detail"
      ],
      "metadata": {
        "id": "IA3dEOujFVFd"
      }
    },
    {
      "cell_type": "markdown",
      "source": [
        "### Question 5 (Optional). Please read and summarize the following 3 documents:\n",
        "\n",
        "*    https://wikidocs.net/57168\n",
        "*    https://wikidocs.net/52460\n",
        "*    https://wikidocs.net/52846"
      ],
      "metadata": {
        "id": "A0VvCZJKiCye"
      }
    },
    {
      "cell_type": "markdown",
      "source": [
        "### The End."
      ],
      "metadata": {
        "id": "spc48rNHQnYL"
      }
    },
    {
      "cell_type": "markdown",
      "source": [
        "##### Please upload your Colab file @Github https://github.com/duneag2/intro-dl/tree/main/Assignment1\n",
        "\n",
        "*   First, make your folder by your name (e.g. seungeun)\n",
        "*   Then upload your Jupyter Notebook file under that directory\n",
        "\n",
        "###### Need Help?\n",
        "\n",
        "\n",
        "\n",
        "*   Please refer to this link https://yeko90.tistory.com/entry/%ED%8C%8C%EC%9D%B4%EC%8D%AC-colab%EC%BD%94%EB%9E%A9%EC%97%90%EC%84%9C-%EC%95%95%EC%B6%95%ED%8C%8C%EC%9D%BC-%ED%92%80%EA%B8%B0 OR\n",
        "*   Just save your Jupyter Notebook (.ipynb) file in here (colab) and upload via 'Add file' - 'Upload files' https://nthree.tistory.com/60"
      ],
      "metadata": {
        "id": "iMNBVkjiS7D9"
      }
    }
  ]
}