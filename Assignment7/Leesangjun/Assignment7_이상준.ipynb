{
  "metadata": {
    "colab": {
      "provenance": [],
      "gpuType": "T4",
      "name": "Assignment7_이상준"
    },
    "kernelspec": {
      "name": "python3",
      "display_name": "Python 3",
      "language": "python"
    },
    "language_info": {
      "name": "python",
      "version": "3.10.13",
      "mimetype": "text/x-python",
      "codemirror_mode": {
        "name": "ipython",
        "version": 3
      },
      "pygments_lexer": "ipython3",
      "nbconvert_exporter": "python",
      "file_extension": ".py"
    },
    "accelerator": "GPU",
    "kaggle": {
      "accelerator": "gpu",
      "dataSources": [],
      "dockerImageVersionId": 30699,
      "isInternetEnabled": true,
      "language": "python",
      "sourceType": "notebook",
      "isGpuEnabled": true
    }
  },
  "nbformat_minor": 0,
  "nbformat": 4,
  "cells": [
    {
      "cell_type": "markdown",
      "source": [
        "# 1. Recurrent Neural Networ [RNN]"
      ],
      "metadata": {
        "id": "5iLwOOukcdUS"
      }
    },
    {
      "cell_type": "code",
      "source": [
        "import torch\n",
        "import torch.nn as nn"
      ],
      "metadata": {
        "id": "Nw4UxtcKcZqT",
        "execution": {
          "iopub.status.busy": "2024-05-21T07:08:01.60105Z",
          "iopub.execute_input": "2024-05-21T07:08:01.601666Z",
          "iopub.status.idle": "2024-05-21T07:08:05.068018Z",
          "shell.execute_reply.started": "2024-05-21T07:08:01.60163Z",
          "shell.execute_reply": "2024-05-21T07:08:05.067225Z"
        },
        "trusted": true
      },
      "execution_count": null,
      "outputs": []
    },
    {
      "cell_type": "code",
      "source": [
        "input_size = 5\n",
        "hidden_size = 8"
      ],
      "metadata": {
        "id": "D3YjHVTlcmy3",
        "execution": {
          "iopub.status.busy": "2024-05-21T07:08:05.069781Z",
          "iopub.execute_input": "2024-05-21T07:08:05.070248Z",
          "iopub.status.idle": "2024-05-21T07:08:05.074657Z",
          "shell.execute_reply.started": "2024-05-21T07:08:05.070215Z",
          "shell.execute_reply": "2024-05-21T07:08:05.073747Z"
        },
        "trusted": true
      },
      "execution_count": null,
      "outputs": []
    },
    {
      "cell_type": "code",
      "source": [
        "# (batch_size, time_steps, input_size)\n",
        "inputs = torch.Tensor(1, 10, 5)"
      ],
      "metadata": {
        "id": "-rpnhqAnvd7C",
        "execution": {
          "iopub.status.busy": "2024-05-21T07:08:05.075961Z",
          "iopub.execute_input": "2024-05-21T07:08:05.076228Z",
          "iopub.status.idle": "2024-05-21T07:08:05.091784Z",
          "shell.execute_reply.started": "2024-05-21T07:08:05.076205Z",
          "shell.execute_reply": "2024-05-21T07:08:05.091022Z"
        },
        "trusted": true
      },
      "execution_count": null,
      "outputs": []
    },
    {
      "cell_type": "code",
      "source": [
        "cell = nn.RNN(input_size, hidden_size, batch_first=True) # defines the RNN architecture\n",
        "#batch_first = True -> indicates that the first dimensionstands for the batch size\n",
        "#if False, the input should be (10, 5), i,e. (time_steps, input_size), getting rid of the batch_size"
      ],
      "metadata": {
        "id": "SOGkRolIvmV_",
        "execution": {
          "iopub.status.busy": "2024-05-21T07:08:05.094239Z",
          "iopub.execute_input": "2024-05-21T07:08:05.094582Z",
          "iopub.status.idle": "2024-05-21T07:08:05.114685Z",
          "shell.execute_reply.started": "2024-05-21T07:08:05.094553Z",
          "shell.execute_reply": "2024-05-21T07:08:05.114009Z"
        },
        "trusted": true
      },
      "execution_count": null,
      "outputs": []
    },
    {
      "cell_type": "code",
      "source": [
        "outputs, _status = cell(inputs)"
      ],
      "metadata": {
        "id": "m3_bPBwfwwiB",
        "execution": {
          "iopub.status.busy": "2024-05-21T07:08:05.115602Z",
          "iopub.execute_input": "2024-05-21T07:08:05.115855Z",
          "iopub.status.idle": "2024-05-21T07:08:05.199909Z",
          "shell.execute_reply.started": "2024-05-21T07:08:05.115833Z",
          "shell.execute_reply": "2024-05-21T07:08:05.198961Z"
        },
        "trusted": true
      },
      "execution_count": null,
      "outputs": []
    },
    {
      "cell_type": "code",
      "source": [
        "print(outputs.shape) #hidden_state of every time step (8-dim hidden_state for 10 time steps)"
      ],
      "metadata": {
        "colab": {
          "base_uri": "https://localhost:8080/"
        },
        "id": "ZTvPKHJqxNhF",
        "outputId": "a9cb5550-6557-4ad7-c37c-f7498b931b34",
        "execution": {
          "iopub.status.busy": "2024-05-21T07:08:05.201053Z",
          "iopub.execute_input": "2024-05-21T07:08:05.201351Z",
          "iopub.status.idle": "2024-05-21T07:08:05.206093Z",
          "shell.execute_reply.started": "2024-05-21T07:08:05.201307Z",
          "shell.execute_reply": "2024-05-21T07:08:05.205131Z"
        },
        "trusted": true
      },
      "execution_count": null,
      "outputs": [
        {
          "name": "stdout",
          "text": "torch.Size([1, 10, 8])\n",
          "output_type": "stream"
        }
      ]
    },
    {
      "cell_type": "code",
      "source": [
        "print(_status.shape) # hidden_state of the final layer only (8-dim hidden_state for 1 time step)"
      ],
      "metadata": {
        "colab": {
          "base_uri": "https://localhost:8080/"
        },
        "id": "aCrOG3vSxiBf",
        "outputId": "06c15af5-ae50-49e5-97a4-ec29b2b98f71",
        "execution": {
          "iopub.status.busy": "2024-05-21T07:08:05.207205Z",
          "iopub.execute_input": "2024-05-21T07:08:05.207484Z",
          "iopub.status.idle": "2024-05-21T07:08:05.214856Z",
          "shell.execute_reply.started": "2024-05-21T07:08:05.207461Z",
          "shell.execute_reply": "2024-05-21T07:08:05.213973Z"
        },
        "trusted": true
      },
      "execution_count": null,
      "outputs": [
        {
          "name": "stdout",
          "text": "torch.Size([1, 1, 8])\n",
          "output_type": "stream"
        }
      ]
    },
    {
      "cell_type": "code",
      "source": [
        "#Deeper RNN\n",
        "inputs2 = torch.Tensor(1, 10, 5)\n",
        "cell2 = nn.RNN(input_size = 5, hidden_size = 8, num_layers = 2, batch_first=True) # num_layers = 2 -> deeper RNN (default: 1)\n",
        "outputs2, _status2 = cell2(inputs2)\n",
        "print(outputs2.shape)\n",
        "print(_status2.shape)"
      ],
      "metadata": {
        "colab": {
          "base_uri": "https://localhost:8080/"
        },
        "id": "LxQYXif9xxsp",
        "outputId": "7ff582ba-e612-429f-a77d-5e5b35bb54a5",
        "execution": {
          "iopub.status.busy": "2024-05-21T07:08:05.21592Z",
          "iopub.execute_input": "2024-05-21T07:08:05.216214Z",
          "iopub.status.idle": "2024-05-21T07:08:05.225899Z",
          "shell.execute_reply.started": "2024-05-21T07:08:05.216192Z",
          "shell.execute_reply": "2024-05-21T07:08:05.225067Z"
        },
        "trusted": true
      },
      "execution_count": null,
      "outputs": [
        {
          "name": "stdout",
          "text": "torch.Size([1, 10, 8])\ntorch.Size([2, 1, 8])\n",
          "output_type": "stream"
        }
      ]
    },
    {
      "cell_type": "code",
      "source": [
        "# Deeper RNN\n",
        "# (batch_size, time_steps, input_size)\n",
        "inputs3 = torch.Tensor(1, 10, 5)\n",
        "cell3 = nn.RNN(input_size = 5, hidden_size = 8, num_layers = 3, batch_first=True) # num_layers = 3 -> deeper RNN (default: 1)\n",
        "outputs3, _status3 = cell3(inputs3)\n",
        "print(outputs3.shape) # hidden_state of every time step (8-dim hidden_state for 10 time steps) -> only returns the last layer\n",
        "print(_status3.shape) # hidden_state of the final layer only (8-dim hidden_state for 1 time step) -> returns the output for all 3 layers"
      ],
      "metadata": {
        "colab": {
          "base_uri": "https://localhost:8080/"
        },
        "id": "gjbzl-VtyqFE",
        "outputId": "0a77b2e6-cf02-46c5-8406-171f7a362530",
        "execution": {
          "iopub.status.busy": "2024-05-21T07:08:05.226889Z",
          "iopub.execute_input": "2024-05-21T07:08:05.22721Z",
          "iopub.status.idle": "2024-05-21T07:08:05.235379Z",
          "shell.execute_reply.started": "2024-05-21T07:08:05.227178Z",
          "shell.execute_reply": "2024-05-21T07:08:05.234588Z"
        },
        "trusted": true
      },
      "execution_count": null,
      "outputs": [
        {
          "name": "stdout",
          "text": "torch.Size([1, 10, 8])\ntorch.Size([3, 1, 8])\n",
          "output_type": "stream"
        }
      ]
    },
    {
      "cell_type": "markdown",
      "source": [
        "# 2. Long Short Term Memory [LSTM]"
      ],
      "metadata": {
        "id": "yR3Mcz9XihvR"
      }
    },
    {
      "cell_type": "code",
      "source": [
        "# Deeper LSTM -- only need to change nn.RNN into nn.LSTM\n",
        "# (batch_size, time_steps, input_size)\n",
        "inputs4 = torch.Tensor(1, 10, 5)\n",
        "cell4 = nn.LSTM(input_size = 5, hidden_size = 8, num_layers = 4, batch_first=True)\n",
        "outputs4, (h4, c4) = cell4(inputs4)\n",
        "print(outputs4.shape)\n",
        "print(h4.shape)\n",
        "print(c4.shape)"
      ],
      "metadata": {
        "colab": {
          "base_uri": "https://localhost:8080/"
        },
        "id": "lDZEz1Q8inHj",
        "outputId": "e03612c2-a292-4ef6-fb9f-670c96e2b681",
        "execution": {
          "iopub.status.busy": "2024-05-21T07:08:05.240515Z",
          "iopub.execute_input": "2024-05-21T07:08:05.240954Z",
          "iopub.status.idle": "2024-05-21T07:08:05.355527Z",
          "shell.execute_reply.started": "2024-05-21T07:08:05.240921Z",
          "shell.execute_reply": "2024-05-21T07:08:05.354661Z"
        },
        "trusted": true
      },
      "execution_count": null,
      "outputs": [
        {
          "name": "stdout",
          "text": "torch.Size([1, 10, 8])\ntorch.Size([4, 1, 8])\ntorch.Size([4, 1, 8])\n",
          "output_type": "stream"
        }
      ]
    },
    {
      "cell_type": "markdown",
      "source": [
        "Question 1.\n",
        "Write a code for LSTM having 10 internal layers (num_layers = 10) and change the input size into (5, 50, 5). Please stick to the format provided. Check if the size of the output, hidden, and cell state are calculated properly."
      ],
      "metadata": {
        "id": "6KlRspLYmjVP"
      }
    },
    {
      "cell_type": "code",
      "source": [
        "inputs5 = torch.Tensor(5, 50, 5)\n",
        "cell5 = nn.LSTM(input_size = 5, hidden_size = 8, num_layers = 10, batch_first=True)\n",
        "outputs5, (h5, c5) = cell5(inputs5)\n",
        "print(outputs5.shape)\n",
        "print(h5.shape)\n",
        "print(c5.shape)"
      ],
      "metadata": {
        "id": "6ZsFXOxImmTJ",
        "colab": {
          "base_uri": "https://localhost:8080/"
        },
        "outputId": "5a984415-7824-4590-b424-a5a975992bc3",
        "execution": {
          "iopub.status.busy": "2024-05-21T07:08:05.356571Z",
          "iopub.execute_input": "2024-05-21T07:08:05.356898Z",
          "iopub.status.idle": "2024-05-21T07:08:05.373308Z",
          "shell.execute_reply.started": "2024-05-21T07:08:05.356866Z",
          "shell.execute_reply": "2024-05-21T07:08:05.372489Z"
        },
        "trusted": true
      },
      "execution_count": null,
      "outputs": [
        {
          "name": "stdout",
          "text": "torch.Size([5, 50, 8])\ntorch.Size([10, 5, 8])\ntorch.Size([10, 5, 8])\n",
          "output_type": "stream"
        }
      ]
    },
    {
      "cell_type": "markdown",
      "source": [
        "Question 2. Describe the limitations of (Vanilla) RNN and how LSTM overcomes these limitations.\n",
        "\n",
        "Limitations of RNN\n",
        "\n",
        "(1) Vanishing Gradient Problem: During backpropagation, gradients diminish, making it challenging for the model to remember information from earlier time steps.\n",
        "\n",
        "(2) Exploding Gradient Problem: Gradients grow rapidly during backpropagation, leading to unstable and unpredictable training\n",
        "\n",
        "(3) Short-Term Memory: RNN struggle with maintaining information over longer sequences. This limitation makes it difficult for RNNs to learn patterns in data with extended dependencies.\n",
        "\n",
        "How LSTM overcomes these limitations\n",
        "\n",
        "(1) Gate Mechanisms: LSTM uses gate mechanisms to control the flow of information through the cell state. This allows the model to selectively pass and store information, preventing unnecessary data loss and facilitating the learning of long-term dependencies\n",
        "\n",
        "(2) Cell state: It enables LSTMs to maintain information over longer periods. The cell state acts as a conveyor belt, allowing information to flow between cells, ensuring the retnetion of crucial information for extended sequences\n",
        "\n",
        "(3) Forget Gate: it learns what information to discard from the cell state. This gate allows the model to forget irrelevant details, keeping the cell state focused on important information and imporving the model's ability to capture meaningful patterns\n"
      ],
      "metadata": {
        "id": "qd-3rJXGNbtj"
      }
    },
    {
      "cell_type": "markdown",
      "source": [
        "# 3. Gated Recurrent Unit [GRU]"
      ],
      "metadata": {
        "id": "NSE6wQmCPjDy"
      }
    },
    {
      "cell_type": "markdown",
      "source": [
        "Question 3.\n",
        "Write a code for GRU having 5 internal layers (num_layers = 5) and change the input size into (3, 45, 7). (Change the input_size adequately) Please stick to the format provided. Check if the size of output and hidden state are calculated properly."
      ],
      "metadata": {
        "id": "hlYbRawKPjAj"
      }
    },
    {
      "cell_type": "code",
      "source": [
        "inputs6 = torch.Tensor(3, 45, 7)\n",
        "cell6 = nn.GRU(input_size = 7, hidden_size = 8, num_layers = 5, batch_first=True)\n",
        "outputs6, _status6 = cell6(inputs6)\n",
        "print(outputs6.shape)\n",
        "print(_status6.shape)"
      ],
      "metadata": {
        "colab": {
          "base_uri": "https://localhost:8080/"
        },
        "id": "aJYLlwvaNVeZ",
        "outputId": "c8b23b68-4c08-4e90-d113-932b6e707bcb",
        "execution": {
          "iopub.status.busy": "2024-05-21T07:08:05.374328Z",
          "iopub.execute_input": "2024-05-21T07:08:05.374615Z",
          "iopub.status.idle": "2024-05-21T07:08:05.413117Z",
          "shell.execute_reply.started": "2024-05-21T07:08:05.374591Z",
          "shell.execute_reply": "2024-05-21T07:08:05.41217Z"
        },
        "trusted": true
      },
      "execution_count": null,
      "outputs": [
        {
          "name": "stdout",
          "text": "torch.Size([3, 45, 8])\ntorch.Size([5, 3, 8])\n",
          "output_type": "stream"
        }
      ]
    },
    {
      "cell_type": "markdown",
      "source": [
        "# 4. On your Own\n",
        "**Question 4. Choose one or two from the following documents:**\n",
        "\n",
        "\n",
        "*    **News topic Classification with RNN:** https://glanceyes.com/entry/PyTorch%EB%A1%9C-RNN-%EB%AA%A8%EB%8D%B8-%EA%B5%AC%ED%98%84%ED%95%B4%EB%B3%B4%EA%B8%B0-AG-NEWS-%EB%89%B4%EC%8A%A4-%EA%B8%B0%EC%82%AC-%EC%A3%BC%EC%A0%9C-%EB%B6%84%EB%A5%98\n",
        "*    **NAVER Movie Review Classification with LSTM:** https://wikidocs.net/217687\n",
        "*   **IMDB Review Classification with GRU:** https://wikidocs.net/217083\n",
        "Read it and run the whole code. Write a simplified explanation for each cell.\n"
      ],
      "metadata": {
        "id": "GTNZmrNtQ0Ly"
      }
    },
    {
      "cell_type": "markdown",
      "source": [
        "## GPU 이용한 IMDB 리뷰 분류하기\n",
        "\n",
        "### 1. 데이터로드 및 단어 토큰화"
      ],
      "metadata": {
        "id": "Y2UwCr1lYQ-E"
      }
    },
    {
      "cell_type": "code",
      "source": [
        "import pandas as pd\n",
        "import numpy as np #데이터 조작 및 수학/통계 연산을 위한 Pandas와 Numpy 라이브러리\n",
        "import matplotlib.pyplot as plt #Matplotlib: 데이터 시각화\n",
        "import nltk #NLTK(Natural Language Toolkit): 텍스트 처리 및 자연어 처리 작업에 유용한 함수와 도구 제공\n",
        "import torch #PyTorch: 신경망 모델 구축, 학습\n",
        "import urllib.request #Urllib: UPL을 통해 데이터를 다운로드 하거나 열기\n",
        "from tqdm import tqdm #TQDM: 루프에서 진행 상황을 시각적으로 표시\n",
        "from collections import Counter #데이터 요소의 개수 쉽게 개산\n",
        "from nltk.tokenize import word_tokenize #텍스트 토큰화\n",
        "from sklearn.model_selection import train_test_split #데이터를 훈련 및 테스트 세트로 분할"
      ],
      "metadata": {
        "id": "bXFLCzgdSZyz",
        "execution": {
          "iopub.status.busy": "2024-05-21T07:08:05.414282Z",
          "iopub.execute_input": "2024-05-21T07:08:05.414617Z",
          "iopub.status.idle": "2024-05-21T07:08:06.975934Z",
          "shell.execute_reply.started": "2024-05-21T07:08:05.414591Z",
          "shell.execute_reply": "2024-05-21T07:08:06.974946Z"
        },
        "trusted": true
      },
      "execution_count": null,
      "outputs": []
    },
    {
      "cell_type": "code",
      "source": [
        "nltk.download('punkt') #NLTK 라이브러리의 punkt데이터셋을 다운로드\n",
        "#punkt 데이터셋: NLTK에서 제공하는 토큰화 tokenization 모듈에 사용되는 데이터 파일\n",
        "#tokenization: 텍스트를 작은 단위로 나누는 작업 - 주로 단어 또는 문장으로 나누는 데 사용"
      ],
      "metadata": {
        "colab": {
          "base_uri": "https://localhost:8080/"
        },
        "id": "4f3Ji8CASd5y",
        "outputId": "4aced1b3-67b6-423d-999c-71bb40a28ee9",
        "execution": {
          "iopub.status.busy": "2024-05-21T07:08:06.97721Z",
          "iopub.execute_input": "2024-05-21T07:08:06.977735Z",
          "iopub.status.idle": "2024-05-21T07:08:07.135116Z",
          "shell.execute_reply.started": "2024-05-21T07:08:06.977699Z",
          "shell.execute_reply": "2024-05-21T07:08:07.134099Z"
        },
        "trusted": true
      },
      "execution_count": null,
      "outputs": [
        {
          "name": "stdout",
          "text": "[nltk_data] Downloading package punkt to /usr/share/nltk_data...\n[nltk_data]   Package punkt is already up-to-date!\n",
          "output_type": "stream"
        },
        {
          "execution_count": 14,
          "output_type": "execute_result",
          "data": {
            "text/plain": "True"
          },
          "metadata": {}
        }
      ]
    },
    {
      "cell_type": "code",
      "source": [
        "urllib.request.urlretrieve(\"https://raw.githubusercontent.com/ukairia777/pytorch-nlp-tutorial/main/10.%20RNN%20Text%20Classification/dataset/IMDB%20Dataset.csv\", filename=\"IMDB Dataset.csv\")\n",
        "#urllib.request.urlretrieve 함수를 사용하여 주어진 URL에서 파일을 다운로드\n",
        "#다운로드된 파일은 IMDB Dataset.csv로 저장"
      ],
      "metadata": {
        "colab": {
          "base_uri": "https://localhost:8080/"
        },
        "id": "EPoK7axDSf20",
        "outputId": "03849e4d-c2aa-4f22-9fda-c6e100caf165",
        "execution": {
          "iopub.status.busy": "2024-05-21T07:08:07.136248Z",
          "iopub.execute_input": "2024-05-21T07:08:07.136555Z",
          "iopub.status.idle": "2024-05-21T07:08:08.993245Z",
          "shell.execute_reply.started": "2024-05-21T07:08:07.13653Z",
          "shell.execute_reply": "2024-05-21T07:08:08.992388Z"
        },
        "trusted": true
      },
      "execution_count": null,
      "outputs": [
        {
          "execution_count": 15,
          "output_type": "execute_result",
          "data": {
            "text/plain": "('IMDB Dataset.csv', <http.client.HTTPMessage at 0x7ee42f68bb80>)"
          },
          "metadata": {}
        }
      ]
    },
    {
      "cell_type": "code",
      "source": [
        "df = pd.read_csv('IMDB Dataset.csv') #Pandas 라이브러리 사용하여 IMDB Dataset.csv 파일을 데이터프레임으로 읽어옴\n",
        "df"
      ],
      "metadata": {
        "colab": {
          "base_uri": "https://localhost:8080/",
          "height": 423
        },
        "id": "3QeyNt4FShuz",
        "outputId": "125a484f-f8ad-42d7-8ae2-e50da4e34cb7",
        "execution": {
          "iopub.status.busy": "2024-05-21T07:08:08.994391Z",
          "iopub.execute_input": "2024-05-21T07:08:08.994675Z",
          "iopub.status.idle": "2024-05-21T07:08:09.652131Z",
          "shell.execute_reply.started": "2024-05-21T07:08:08.994652Z",
          "shell.execute_reply": "2024-05-21T07:08:09.651174Z"
        },
        "trusted": true
      },
      "execution_count": null,
      "outputs": [
        {
          "execution_count": 16,
          "output_type": "execute_result",
          "data": {
            "text/plain": "                                                  review sentiment\n0      One of the other reviewers has mentioned that ...  positive\n1      A wonderful little production. <br /><br />The...  positive\n2      I thought this was a wonderful way to spend ti...  positive\n3      Basically there's a family where a little boy ...  negative\n4      Petter Mattei's \"Love in the Time of Money\" is...  positive\n...                                                  ...       ...\n49995  I thought this movie did a down right good job...  positive\n49996  Bad plot, bad dialogue, bad acting, idiotic di...  negative\n49997  I am a Catholic taught in parochial elementary...  negative\n49998  I'm going to have to disagree with the previou...  negative\n49999  No one expects the Star Trek movies to be high...  negative\n\n[50000 rows x 2 columns]",
            "text/html": "<div>\n<style scoped>\n    .dataframe tbody tr th:only-of-type {\n        vertical-align: middle;\n    }\n\n    .dataframe tbody tr th {\n        vertical-align: top;\n    }\n\n    .dataframe thead th {\n        text-align: right;\n    }\n</style>\n<table border=\"1\" class=\"dataframe\">\n  <thead>\n    <tr style=\"text-align: right;\">\n      <th></th>\n      <th>review</th>\n      <th>sentiment</th>\n    </tr>\n  </thead>\n  <tbody>\n    <tr>\n      <th>0</th>\n      <td>One of the other reviewers has mentioned that ...</td>\n      <td>positive</td>\n    </tr>\n    <tr>\n      <th>1</th>\n      <td>A wonderful little production. &lt;br /&gt;&lt;br /&gt;The...</td>\n      <td>positive</td>\n    </tr>\n    <tr>\n      <th>2</th>\n      <td>I thought this was a wonderful way to spend ti...</td>\n      <td>positive</td>\n    </tr>\n    <tr>\n      <th>3</th>\n      <td>Basically there's a family where a little boy ...</td>\n      <td>negative</td>\n    </tr>\n    <tr>\n      <th>4</th>\n      <td>Petter Mattei's \"Love in the Time of Money\" is...</td>\n      <td>positive</td>\n    </tr>\n    <tr>\n      <th>...</th>\n      <td>...</td>\n      <td>...</td>\n    </tr>\n    <tr>\n      <th>49995</th>\n      <td>I thought this movie did a down right good job...</td>\n      <td>positive</td>\n    </tr>\n    <tr>\n      <th>49996</th>\n      <td>Bad plot, bad dialogue, bad acting, idiotic di...</td>\n      <td>negative</td>\n    </tr>\n    <tr>\n      <th>49997</th>\n      <td>I am a Catholic taught in parochial elementary...</td>\n      <td>negative</td>\n    </tr>\n    <tr>\n      <th>49998</th>\n      <td>I'm going to have to disagree with the previou...</td>\n      <td>negative</td>\n    </tr>\n    <tr>\n      <th>49999</th>\n      <td>No one expects the Star Trek movies to be high...</td>\n      <td>negative</td>\n    </tr>\n  </tbody>\n</table>\n<p>50000 rows × 2 columns</p>\n</div>"
          },
          "metadata": {}
        }
      ]
    },
    {
      "cell_type": "code",
      "source": [
        "df.info() #데이터에 결측값이 있는지 확인\n",
        "#결측값missing values: 데이터 집합에서 어떤 값이나 정보가 비어 있는 상태. 누락된 값, 비어있는 값, 빈"
      ],
      "metadata": {
        "colab": {
          "base_uri": "https://localhost:8080/"
        },
        "id": "N_XaC8asUQPk",
        "outputId": "1a18796d-7258-4709-f6bd-eeea6c25fde6",
        "execution": {
          "iopub.status.busy": "2024-05-21T07:08:09.653193Z",
          "iopub.execute_input": "2024-05-21T07:08:09.653504Z",
          "iopub.status.idle": "2024-05-21T07:08:09.683552Z",
          "shell.execute_reply.started": "2024-05-21T07:08:09.653479Z",
          "shell.execute_reply": "2024-05-21T07:08:09.682405Z"
        },
        "trusted": true
      },
      "execution_count": null,
      "outputs": [
        {
          "name": "stdout",
          "text": "<class 'pandas.core.frame.DataFrame'>\nRangeIndex: 50000 entries, 0 to 49999\nData columns (total 2 columns):\n #   Column     Non-Null Count  Dtype \n---  ------     --------------  ----- \n 0   review     50000 non-null  object\n 1   sentiment  50000 non-null  object\ndtypes: object(2)\nmemory usage: 781.4+ KB\n",
          "output_type": "stream"
        }
      ]
    },
    {
      "cell_type": "markdown",
      "source": [
        "reviwe 열과 sentiment 열 모두 non-null(결측값이 아닌) 데이터가 5만개로 확인되므로 결측값이 없다."
      ],
      "metadata": {
        "id": "txADICMdUspg"
      }
    },
    {
      "cell_type": "code",
      "source": [
        "print('결측값 여부 :',df.isnull().values.any()) #.isnull().values.any() 를 사용하여 결측값 여부 확인"
      ],
      "metadata": {
        "colab": {
          "base_uri": "https://localhost:8080/"
        },
        "id": "dSX7v30zU1I1",
        "outputId": "26e86de3-1a9e-43e5-efa3-acc42ea90d10",
        "execution": {
          "iopub.status.busy": "2024-05-21T07:08:09.684875Z",
          "iopub.execute_input": "2024-05-21T07:08:09.685169Z",
          "iopub.status.idle": "2024-05-21T07:08:09.704179Z",
          "shell.execute_reply.started": "2024-05-21T07:08:09.685144Z",
          "shell.execute_reply": "2024-05-21T07:08:09.703216Z"
        },
        "trusted": true
      },
      "execution_count": null,
      "outputs": [
        {
          "name": "stdout",
          "text": "결측값 여부 : False\n",
          "output_type": "stream"
        }
      ]
    },
    {
      "cell_type": "code",
      "source": [
        "df['sentiment'].value_counts().plot(kind='bar') #레이블이 균등한지 Bar Chart를 통해 확인"
      ],
      "metadata": {
        "colab": {
          "base_uri": "https://localhost:8080/",
          "height": 494
        },
        "id": "hM-GCxOGVcQC",
        "outputId": "e96a2404-4381-42b9-fc37-28f68962933b",
        "execution": {
          "iopub.status.busy": "2024-05-21T07:08:09.705297Z",
          "iopub.execute_input": "2024-05-21T07:08:09.705606Z",
          "iopub.status.idle": "2024-05-21T07:08:09.972804Z",
          "shell.execute_reply.started": "2024-05-21T07:08:09.705583Z",
          "shell.execute_reply": "2024-05-21T07:08:09.971914Z"
        },
        "trusted": true
      },
      "execution_count": null,
      "outputs": [
        {
          "execution_count": 19,
          "output_type": "execute_result",
          "data": {
            "text/plain": "<Axes: xlabel='sentiment'>"
          },
          "metadata": {}
        },
        {
          "output_type": "display_data",
          "data": {
            "text/plain": "<Figure size 640x480 with 1 Axes>",
            "image/png": "[encoded data removed]"
          },
          "metadata": {}
        }
      ]
    },
    {
      "cell_type": "code",
      "source": [
        "print('레이블 개수') #레이블의 실제 개수 확인\n",
        "print(df.groupby('sentiment').size().reset_index(name='count'))"
      ],
      "metadata": {
        "colab": {
          "base_uri": "https://localhost:8080/"
        },
        "id": "-2ck-BWOV6v7",
        "outputId": "7cc07a29-74be-47f1-e602-b0eb241b00f6",
        "execution": {
          "iopub.status.busy": "2024-05-21T07:08:09.973876Z",
          "iopub.execute_input": "2024-05-21T07:08:09.974153Z",
          "iopub.status.idle": "2024-05-21T07:08:09.987928Z",
          "shell.execute_reply.started": "2024-05-21T07:08:09.974127Z",
          "shell.execute_reply": "2024-05-21T07:08:09.986876Z"
        },
        "trusted": true
      },
      "execution_count": null,
      "outputs": [
        {
          "name": "stdout",
          "text": "레이블 개수\n  sentiment  count\n0  negative  25000\n1  positive  25000\n",
          "output_type": "stream"
        }
      ]
    },
    {
      "cell_type": "code",
      "source": [
        "df['sentiment'] = df['sentiment'].replace(['positive','negative'],[1, 0]) # 현재 레이블 'positive', 'negative'를 각각 1, 0 으로 변환\n",
        "df.head() #정상 변환되었는지 확인하기 위해 상위 5개 행을 출력"
      ],
      "metadata": {
        "colab": {
          "base_uri": "https://localhost:8080/",
          "height": 206
        },
        "id": "-Hi7wTtAWsqd",
        "outputId": "dbc61863-56fc-4e80-a9e9-fd54b5db3bc5",
        "execution": {
          "iopub.status.busy": "2024-05-21T07:08:09.989052Z",
          "iopub.execute_input": "2024-05-21T07:08:09.989405Z",
          "iopub.status.idle": "2024-05-21T07:08:10.03777Z",
          "shell.execute_reply.started": "2024-05-21T07:08:09.989374Z",
          "shell.execute_reply": "2024-05-21T07:08:10.036797Z"
        },
        "trusted": true
      },
      "execution_count": null,
      "outputs": [
        {
          "name": "stderr",
          "text": "/tmp/ipykernel_34/3497176362.py:1: FutureWarning: Downcasting behavior in `replace` is deprecated and will be removed in a future version. To retain the old behavior, explicitly call `result.infer_objects(copy=False)`. To opt-in to the future behavior, set `pd.set_option('future.no_silent_downcasting', True)`\n  df['sentiment'] = df['sentiment'].replace(['positive','negative'],[1, 0]) # 현재 레이블 'positive', 'negative'를 각각 1, 0 으로 변환\n",
          "output_type": "stream"
        },
        {
          "execution_count": 21,
          "output_type": "execute_result",
          "data": {
            "text/plain": "                                              review  sentiment\n0  One of the other reviewers has mentioned that ...          1\n1  A wonderful little production. <br /><br />The...          1\n2  I thought this was a wonderful way to spend ti...          1\n3  Basically there's a family where a little boy ...          0\n4  Petter Mattei's \"Love in the Time of Money\" is...          1",
            "text/html": "<div>\n<style scoped>\n    .dataframe tbody tr th:only-of-type {\n        vertical-align: middle;\n    }\n\n    .dataframe tbody tr th {\n        vertical-align: top;\n    }\n\n    .dataframe thead th {\n        text-align: right;\n    }\n</style>\n<table border=\"1\" class=\"dataframe\">\n  <thead>\n    <tr style=\"text-align: right;\">\n      <th></th>\n      <th>review</th>\n      <th>sentiment</th>\n    </tr>\n  </thead>\n  <tbody>\n    <tr>\n      <th>0</th>\n      <td>One of the other reviewers has mentioned that ...</td>\n      <td>1</td>\n    </tr>\n    <tr>\n      <th>1</th>\n      <td>A wonderful little production. &lt;br /&gt;&lt;br /&gt;The...</td>\n      <td>1</td>\n    </tr>\n    <tr>\n      <th>2</th>\n      <td>I thought this was a wonderful way to spend ti...</td>\n      <td>1</td>\n    </tr>\n    <tr>\n      <th>3</th>\n      <td>Basically there's a family where a little boy ...</td>\n      <td>0</td>\n    </tr>\n    <tr>\n      <th>4</th>\n      <td>Petter Mattei's \"Love in the Time of Money\" is...</td>\n      <td>1</td>\n    </tr>\n  </tbody>\n</table>\n</div>"
          },
          "metadata": {}
        }
      ]
    },
    {
      "cell_type": "code",
      "source": [
        "X_data = df['review']\n",
        "y_data = df['sentiment']\n",
        "print('영화 리뷰의 개수: {}'.format(len(X_data)))\n",
        "print('레이블의 개수: {}'.format(len(y_data)))"
      ],
      "metadata": {
        "colab": {
          "base_uri": "https://localhost:8080/"
        },
        "id": "q3nK8uRIW9jA",
        "outputId": "f62433e5-a6b5-4b2c-e227-aea82ceb2ac0",
        "execution": {
          "iopub.status.busy": "2024-05-21T07:08:10.039073Z",
          "iopub.execute_input": "2024-05-21T07:08:10.039453Z",
          "iopub.status.idle": "2024-05-21T07:08:10.045466Z",
          "shell.execute_reply.started": "2024-05-21T07:08:10.039418Z",
          "shell.execute_reply": "2024-05-21T07:08:10.044621Z"
        },
        "trusted": true
      },
      "execution_count": null,
      "outputs": [
        {
          "name": "stdout",
          "text": "영화 리뷰의 개수: 50000\n레이블의 개수: 50000\n",
          "output_type": "stream"
        }
      ]
    },
    {
      "cell_type": "code",
      "source": [
        "#훈련 데이터, 검증 데이터, 테스트 데이터로 데이터 분류\n",
        "X_train, X_test, y_train, y_test = train_test_split(X_data, y_data, test_size=0.5, random_state=0, stratify=y_data) #훈련 데이터와 테스트 데이터 5;5\n",
        "X_train, X_valid, y_train, y_valid = train_test_split(X_train, y_train, test_size=.2, random_state=0, stratify=y_train) #훈련 데이터를 다시 8:2로 훈련 데이터와 검증 데이터로 분류\n",
        "\n",
        "print('--------훈련 데이터의 비율-----------')\n",
        "print(f'부정 리뷰 = {round(y_train.value_counts()[0]/len(y_train) * 100,3)}%')\n",
        "print(f'긍정 리뷰 = {round(y_train.value_counts()[1]/len(y_train) * 100,3)}%')\n",
        "print('--------검증 데이터의 비율-----------')\n",
        "print(f'부정 리뷰 = {round(y_valid.value_counts()[0]/len(y_valid) * 100,3)}%')\n",
        "print(f'긍정 리뷰 = {round(y_valid.value_counts()[1]/len(y_valid) * 100,3)}%')\n",
        "print('--------테스트 데이터의 비율-----------')\n",
        "print(f'부정 리뷰 = {round(y_test.value_counts()[0]/len(y_test) * 100,3)}%')\n",
        "print(f'긍정 리뷰 = {round(y_test.value_counts()[1]/len(y_test) * 100,3)}%')"
      ],
      "metadata": {
        "colab": {
          "base_uri": "https://localhost:8080/"
        },
        "id": "IgWnIlzPXV8f",
        "outputId": "f1e5c682-246c-4d65-b288-2899331686d5",
        "execution": {
          "iopub.status.busy": "2024-05-21T07:08:10.046627Z",
          "iopub.execute_input": "2024-05-21T07:08:10.046967Z",
          "iopub.status.idle": "2024-05-21T07:08:10.096769Z",
          "shell.execute_reply.started": "2024-05-21T07:08:10.046939Z",
          "shell.execute_reply": "2024-05-21T07:08:10.095908Z"
        },
        "trusted": true
      },
      "execution_count": null,
      "outputs": [
        {
          "name": "stdout",
          "text": "--------훈련 데이터의 비율-----------\n부정 리뷰 = 50.0%\n긍정 리뷰 = 50.0%\n--------검증 데이터의 비율-----------\n부정 리뷰 = 50.0%\n긍정 리뷰 = 50.0%\n--------테스트 데이터의 비율-----------\n부정 리뷰 = 50.0%\n긍정 리뷰 = 50.0%\n",
          "output_type": "stream"
        }
      ]
    },
    {
      "cell_type": "code",
      "source": [
        "#토큰화\n",
        "def tokenize(sentences):\n",
        "  tokenized_sentences = []\n",
        "  for sent in tqdm(sentences):\n",
        "    tokenized_sent = word_tokenize(sent)\n",
        "    tokenized_sent = [word.lower() for word in tokenized_sent]\n",
        "    tokenized_sentences.append(tokenized_sent)\n",
        "  return tokenized_sentences\n",
        "\n",
        "tokenized_X_train = tokenize(X_train)\n",
        "tokenized_X_valid = tokenize(X_valid)\n",
        "tokenized_X_test = tokenize(X_test)"
      ],
      "metadata": {
        "colab": {
          "base_uri": "https://localhost:8080/"
        },
        "id": "blgmoknnX5No",
        "outputId": "f73f7b74-86d1-4636-9ce8-cc6f8a0ed5ae",
        "execution": {
          "iopub.status.busy": "2024-05-21T07:08:10.097904Z",
          "iopub.execute_input": "2024-05-21T07:08:10.09823Z",
          "iopub.status.idle": "2024-05-21T07:10:35.725478Z",
          "shell.execute_reply.started": "2024-05-21T07:08:10.098202Z",
          "shell.execute_reply": "2024-05-21T07:10:35.724319Z"
        },
        "trusted": true
      },
      "execution_count": null,
      "outputs": [
        {
          "name": "stderr",
          "text": "100%|██████████| 20000/20000 [00:58<00:00, 343.28it/s]\n100%|██████████| 5000/5000 [00:14<00:00, 342.11it/s]\n100%|██████████| 25000/25000 [01:12<00:00, 343.71it/s]\n",
          "output_type": "stream"
        }
      ]
    },
    {
      "cell_type": "code",
      "source": [
        "# 상위 샘플 2개 출력\n",
        "for sent in tokenized_X_train[:2]:\n",
        "  print(sent)"
      ],
      "metadata": {
        "colab": {
          "base_uri": "https://localhost:8080/"
        },
        "id": "dFoA_XOMYG-m",
        "outputId": "39010dc6-c7fa-413a-d477-7720492a4894",
        "execution": {
          "iopub.status.busy": "2024-05-21T07:10:35.727222Z",
          "iopub.execute_input": "2024-05-21T07:10:35.727613Z",
          "iopub.status.idle": "2024-05-21T07:10:35.73312Z",
          "shell.execute_reply.started": "2024-05-21T07:10:35.727578Z",
          "shell.execute_reply": "2024-05-21T07:10:35.731948Z"
        },
        "trusted": true
      },
      "execution_count": null,
      "outputs": [
        {
          "name": "stdout",
          "text": "['have', 'you', 'ever', ',', 'or', 'do', 'you', 'have', ',', 'a', 'pet', 'who', \"'s\", 'been', 'with', 'you', 'through', 'thick', 'and', 'thin', ',', 'who', 'you', \"'d\", 'be', 'lost', 'without', ',', 'and', 'who', 'you', 'love', 'no', 'matter', 'what', '?', 'betcha', 'never', 'thought', 'they', 'feel', 'the', 'same', 'way', 'about', 'you', '!', '<', 'br', '/', '>', '<', 'br', '/', '>', 'wonderful', ',', 'wonderful', 'family', 'film', '.', 'if', 'you', 'have', 'a', 'soft', 'spot', 'for', 'animals', ',', 'this', 'is', 'guaranteed', 'to', 'make', 'you', 'cry', 'no', 'matter', 'your', 'age', '.', 'i', 'used', 'to', 'watch', 'this', 'movie', 'all', 'the', 'time', 'when', 'i', 'was', 'a', 'little', 'kid', ',', 'and', 'i', 'find', 'that', 'now', ',', 'at', 'age', 'sixteen', ',', 'i', 'love', 'it', 'as', 'much', 'as', 'i', 'did', 'then', '.', 'i', 'could', 'never', 'decide', 'on', 'a', 'favorite', 'character', 'then', ',', 'and', 'i', 'still', 'do', \"n't\", 'think', 'i', 'can', '!', 'i', 'love', 'all', 'three', 'of', 'the', 'animals', '.', 'the', 'dialogue', 'seems', 'very', 'real', 'and', 'comfortable', ',', 'like', 'a', 'loving', ',', 'but', 'feuding', 'family', '.', 'i', 'do', 'love', 'chance', ',', 'and', 'how', 'at', 'the', 'end', 'he', 'says', 'that', 'he', 'has', 'a', 'family', 'at', 'last', '.', 'cheesy', ',', 'yes', ',', 'but', 'one', 'must', 'remember', 'that', 'this', 'is', 'meant', 'to', 'be', 'a', 'family', 'film', ',', 'and', 'it', 'fulfills', 'that', 'role', 'perfectly', '.', 'sassy', 'has', 'just', 'the', 'perfect', 'dose', 'of', '``', 'sassiness', \"''\", 'and', 'shadow', 'is', 'the', 'perfect', 'leader/role', 'model', 'to', 'the', 'young', ',', 'adventurous', 'chance.', '<', 'br', '/', '>', '<', 'br', '/', '>', 'the', 'animals', 'way', 'outshine', 'the', 'humans', ',', 'but', 'of', 'course', 'most', 'of', 'the', 'teary', 'moments', 'are', 'to', 'be', 'had', 'during', 'an', 'interaction', 'with', 'them', '(', 'ie', '.', 'rescuing', 'molly', ',', 'and', 'the', 'end', ')', '.', 'not', 'to', 'mention', 'the', 'incredible', 'soundtrack', 'that', 'gives', 'each', 'moment', 'even', 'more', 'emotion', ',', 'and', 'an', 'accompanying', 'heart-swelling', 'feeling', '.', 'i', 'give', 'this', '9/10', '.', 'to', 'be', 'compared', 'to', '(', 'and', 'even', 'rated', 'better', 'than', ')', 'cats', 'and', 'dogs', 'and', 'babe', '.']\n['i', 'hate', 'football', '!', '!', 'i', 'hate', 'football', 'fans', '!', 'i', 'hate', 'cars', '!', 'but', 'this', 'film', 'was', 'the', 'funniest', 'thing', 'i', 'have', 'seen', 'in', 'quite', 'some', 'time', '.', '<', 'br', '/', '>', '<', 'br', '/', '>', 'i', 'was', 'given', 'the', 'great', 'opportunity', 'to', 'see', 'this', 'film', 'at', 'the', 'weekend', ',', 'and', 'all', 'i', 'have', 'to', 'say', 'is', 'i', 'laughed', 'till', 'i', 'cried', ',', 'and', 'when', 'is', 'it', 'going', 'to', 'be', 'available', 'in', 'the', 'uk', 'and', 'denmark', '.', 'girls', ',', 'this', 'is', 'one', 'football', 'film', 'you', 'will', 'need', 'to', 'see', ',', 'its', 'hilarious', '!', '<', 'br', '/', '>', '<', 'br', '/', '>', 'the', 'fact', 'that', 'this', 'film', 'started', 'out', 'as', 'some', 'crazy', 'commercial', 'for', 'a', 'telephone', 'company', 'is', 'just', 'amazing', ',', 'the', 'guys', 'may', 'not', 'be', 'well', 'known', 'actors', ',', 'but', 'this', 'is', 'good', 'down', 'to', 'earth', 'real', 'humour', ',', 'with', 'real', 'people', ',', 'and', 'i', 'for', 'one', 'applaud', 'them', 'for', 'taking', 'this', 'to', 'the', 'screen.', '<', 'br', '/', '>', '<', 'br', '/', '>', 'well', 'done', '!']\n",
          "output_type": "stream"
        }
      ]
    },
    {
      "cell_type": "markdown",
      "source": [
        "### 2. Vocab 만들기"
      ],
      "metadata": {
        "id": "k3257zb2YaD4"
      }
    },
    {
      "cell_type": "code",
      "source": [
        "word_list = []\n",
        "for sent in tokenized_X_train:\n",
        "    for word in sent:\n",
        "      word_list.append(word)\n",
        "\n",
        "word_counts = Counter(word_list) #Counter 모듈을 사용하면 현재 갖고 있는 데이터에 존재하는 단어 종류의 총 개수와 각 단어에 대해서 등장 빈도를 카운트 할 수 있음\n",
        "print('총 단어수 :', len(word_counts))"
      ],
      "metadata": {
        "colab": {
          "base_uri": "https://localhost:8080/"
        },
        "id": "o6aM6MY3YklC",
        "outputId": "e78716a6-6be1-4b02-bf81-b5f12a53479d",
        "execution": {
          "iopub.status.busy": "2024-05-21T07:10:35.734456Z",
          "iopub.execute_input": "2024-05-21T07:10:35.734768Z",
          "iopub.status.idle": "2024-05-21T07:10:37.319932Z",
          "shell.execute_reply.started": "2024-05-21T07:10:35.734744Z",
          "shell.execute_reply": "2024-05-21T07:10:37.318905Z"
        },
        "trusted": true
      },
      "execution_count": null,
      "outputs": [
        {
          "name": "stdout",
          "text": "총 단어수 : 102869\n",
          "output_type": "stream"
        }
      ]
    },
    {
      "cell_type": "code",
      "source": [
        "print('훈련 데이터에서의 단어 the의 등장 횟수 :', word_counts['the'])\n",
        "print('훈련 데이터에서의 단어 love의 등장 횟수 :', word_counts['love'])"
      ],
      "metadata": {
        "colab": {
          "base_uri": "https://localhost:8080/"
        },
        "id": "exnugSXIYv7W",
        "outputId": "9cee987a-e813-4ae9-f13c-cc958d16a328",
        "execution": {
          "iopub.status.busy": "2024-05-21T07:10:37.321069Z",
          "iopub.execute_input": "2024-05-21T07:10:37.32137Z",
          "iopub.status.idle": "2024-05-21T07:10:37.326403Z",
          "shell.execute_reply.started": "2024-05-21T07:10:37.321318Z",
          "shell.execute_reply": "2024-05-21T07:10:37.325376Z"
        },
        "trusted": true
      },
      "execution_count": null,
      "outputs": [
        {
          "name": "stdout",
          "text": "훈련 데이터에서의 단어 the의 등장 횟수 : 265570\n훈련 데이터에서의 단어 love의 등장 횟수 : 4972\n",
          "output_type": "stream"
        }
      ]
    },
    {
      "cell_type": "code",
      "source": [
        "vocab = sorted(word_counts, key=word_counts.get, reverse=True)\n",
        "print('등장 빈도수 상위 10개 단어')\n",
        "print(vocab[:10])"
      ],
      "metadata": {
        "colab": {
          "base_uri": "https://localhost:8080/"
        },
        "id": "n9bbart1ZSiZ",
        "outputId": "86d27195-4044-42e4-d744-4b6b9f40fff3",
        "execution": {
          "iopub.status.busy": "2024-05-21T07:10:37.332176Z",
          "iopub.execute_input": "2024-05-21T07:10:37.332462Z",
          "iopub.status.idle": "2024-05-21T07:10:37.371059Z",
          "shell.execute_reply.started": "2024-05-21T07:10:37.332438Z",
          "shell.execute_reply": "2024-05-21T07:10:37.370193Z"
        },
        "trusted": true
      },
      "execution_count": null,
      "outputs": [
        {
          "name": "stdout",
          "text": "등장 빈도수 상위 10개 단어\n['the', ',', '.', 'a', 'and', 'of', 'to', 'is', '/', '>']\n",
          "output_type": "stream"
        }
      ]
    },
    {
      "cell_type": "code",
      "source": [
        "# 등장 빈도 수가 3회 미만인 단어들이 데이터에서 얼만큼의 비중을 차지하는 지 확인\n",
        "threshold = 3\n",
        "total_cnt = len(word_counts) # 단어의 수\n",
        "rare_cnt = 0 # 등장 빈도수가 threshold보다 작은 단어의 개수를 카운트\n",
        "total_freq = 0 # 훈련 데이터의 전체 단어 빈도수 총 합\n",
        "rare_freq = 0 # 등장 빈도수가 threshold보다 작은 단어의 등장 빈도수의 총 합\n",
        "\n",
        "# 단어와 빈도수의 쌍(pair)을 key와 value로 받는다.\n",
        "for key, value in word_counts.items():\n",
        "    total_freq = total_freq + value\n",
        "\n",
        "    # 단어의 등장 빈도수가 threshold보다 작으면\n",
        "    if(value < threshold):\n",
        "        rare_cnt = rare_cnt + 1\n",
        "        rare_freq = rare_freq + value\n",
        "\n",
        "print('단어 집합(vocabulary)의 크기 :',total_cnt)\n",
        "print('등장 빈도가 %s번 이하인 희귀 단어의 수: %s'%(threshold - 1, rare_cnt))\n",
        "print(\"단어 집합에서 희귀 단어의 비율:\", (rare_cnt / total_cnt)*100)\n",
        "print(\"전체 등장 빈도에서 희귀 단어 등장 빈도 비율:\", (rare_freq / total_freq)*100)"
      ],
      "metadata": {
        "colab": {
          "base_uri": "https://localhost:8080/"
        },
        "id": "TUtlN4uMZeoT",
        "outputId": "e43f978d-e076-439a-bc1f-4154bcedc2f2",
        "execution": {
          "iopub.status.busy": "2024-05-21T07:10:37.37219Z",
          "iopub.execute_input": "2024-05-21T07:10:37.372466Z",
          "iopub.status.idle": "2024-05-21T07:10:37.43131Z",
          "shell.execute_reply.started": "2024-05-21T07:10:37.372442Z",
          "shell.execute_reply": "2024-05-21T07:10:37.430467Z"
        },
        "trusted": true
      },
      "execution_count": null,
      "outputs": [
        {
          "name": "stdout",
          "text": "단어 집합(vocabulary)의 크기 : 102869\n등장 빈도가 2번 이하인 희귀 단어의 수: 63961\n단어 집합에서 희귀 단어의 비율: 62.17713791326833\n전체 등장 빈도에서 희귀 단어 등장 빈도 비율: 1.372669468808688\n",
          "output_type": "stream"
        }
      ]
    },
    {
      "cell_type": "markdown",
      "source": [
        "등장 빈도 2회 이하인 단어들이 절반 이상 차지하지만, 실제로 훈련 데이터에서 등장 빈도로 차지하는 비중은 상대적으로 매우 적은 수치인 1.32%이므로 자연어 처리에서 정수 인코딩 과정에서 배제시킴"
      ],
      "metadata": {
        "id": "n5toauIEabd5"
      }
    },
    {
      "cell_type": "code",
      "source": [
        "# 전체 단어 개수 중 빈도수 2이하인 단어는 제거.\n",
        "vocab_size = total_cnt - rare_cnt\n",
        "vocab = vocab[:vocab_size]\n",
        "print('단어 집합의 크기 :', len(vocab))"
      ],
      "metadata": {
        "colab": {
          "base_uri": "https://localhost:8080/"
        },
        "id": "_T8Qji_BaZSY",
        "outputId": "46fb55ad-3231-463b-cdd6-13ee8fd82fc5",
        "execution": {
          "iopub.status.busy": "2024-05-21T07:10:37.432404Z",
          "iopub.execute_input": "2024-05-21T07:10:37.432696Z",
          "iopub.status.idle": "2024-05-21T07:10:37.43905Z",
          "shell.execute_reply.started": "2024-05-21T07:10:37.432672Z",
          "shell.execute_reply": "2024-05-21T07:10:37.43818Z"
        },
        "trusted": true
      },
      "execution_count": null,
      "outputs": [
        {
          "name": "stdout",
          "text": "단어 집합의 크기 : 38908\n",
          "output_type": "stream"
        }
      ]
    },
    {
      "cell_type": "code",
      "source": [
        "#정수0은 패딩을 위해서 사용하는 패딩 토큰인 <PAD>를 할당\n",
        "#정수1은 OOV(Out-Of-Vocabulary) 문제 발생 시에 모르는 단어에 정수1을 할당하는 용도인 <UNK>를 할당\n",
        "word_to_index = {}\n",
        "word_to_index['<PAD>'] = 0\n",
        "word_to_index['<UNK>'] = 1\n",
        "\n",
        "for index, word in enumerate(vocab) :\n",
        "  word_to_index[word] = index + 2\n",
        "\n",
        "vocab_size = len(word_to_index)\n",
        "print('패딩 토큰과 UNK 토큰을 고려한 단어 집합의 크기 :', vocab_size)"
      ],
      "metadata": {
        "colab": {
          "base_uri": "https://localhost:8080/"
        },
        "id": "FddA9Uzial2X",
        "outputId": "6513e9f7-de7e-4ec7-a5c7-45a3dde901d5",
        "execution": {
          "iopub.status.busy": "2024-05-21T07:10:37.440168Z",
          "iopub.execute_input": "2024-05-21T07:10:37.440495Z",
          "iopub.status.idle": "2024-05-21T07:10:37.467183Z",
          "shell.execute_reply.started": "2024-05-21T07:10:37.440459Z",
          "shell.execute_reply": "2024-05-21T07:10:37.466242Z"
        },
        "trusted": true
      },
      "execution_count": null,
      "outputs": [
        {
          "name": "stdout",
          "text": "패딩 토큰과 UNK 토큰을 고려한 단어 집합의 크기 : 38910\n",
          "output_type": "stream"
        }
      ]
    },
    {
      "cell_type": "markdown",
      "source": [
        "### 3. 정수 인코딩"
      ],
      "metadata": {
        "id": "4lA9eSWJa40n"
      }
    },
    {
      "cell_type": "code",
      "source": [
        "#최종 단어 집합(Vocabulary)인 word_to_index를 이용하여 정수 인코딩\n",
        "#texts_to_sequences(): 주어진 데이터에서 각 단어를 word_to_index에 맵핑된 정수로 변환\n",
        "#word_to_index에 존재하지 않는 단어가 등장한 경우에는 정수 1 부여\n",
        "def texts_to_sequences(tokenized_X_data, word_to_index):\n",
        "  encoded_X_data = []\n",
        "  for sent in tokenized_X_data:\n",
        "    index_sequences = []\n",
        "    for word in sent:\n",
        "      try:\n",
        "          index_sequences.append(word_to_index[word])\n",
        "      except KeyError:\n",
        "          index_sequences.append(word_to_index['<UNK>'])\n",
        "    encoded_X_data.append(index_sequences)\n",
        "  return encoded_X_data\n",
        "\n",
        "encoded_X_train = texts_to_sequences(tokenized_X_train, word_to_index)\n",
        "encoded_X_valid = texts_to_sequences(tokenized_X_valid, word_to_index)\n",
        "encoded_X_test = texts_to_sequences(tokenized_X_test, word_to_index)"
      ],
      "metadata": {
        "id": "7JW8vDl_a3st",
        "execution": {
          "iopub.status.busy": "2024-05-21T07:10:37.468284Z",
          "iopub.execute_input": "2024-05-21T07:10:37.468598Z",
          "iopub.status.idle": "2024-05-21T07:10:41.130341Z",
          "shell.execute_reply.started": "2024-05-21T07:10:37.468575Z",
          "shell.execute_reply": "2024-05-21T07:10:41.129366Z"
        },
        "trusted": true
      },
      "execution_count": null,
      "outputs": []
    },
    {
      "cell_type": "code",
      "source": [
        "# 상위 샘플 2개 출력\n",
        "for sent in encoded_X_train[:2]:\n",
        "  print(sent)"
      ],
      "metadata": {
        "colab": {
          "base_uri": "https://localhost:8080/"
        },
        "id": "M8kPVkl5bP9V",
        "outputId": "8c3d13b3-5ecc-4b97-9685-eb1dd7cb6181",
        "execution": {
          "iopub.status.busy": "2024-05-21T07:10:41.131572Z",
          "iopub.execute_input": "2024-05-21T07:10:41.131863Z",
          "iopub.status.idle": "2024-05-21T07:10:41.136504Z",
          "shell.execute_reply.started": "2024-05-21T07:10:41.131839Z",
          "shell.execute_reply": "2024-05-21T07:10:41.135454Z"
        },
        "trusted": true
      },
      "execution_count": null,
      "outputs": [
        {
          "name": "stdout",
          "text": "[38, 29, 139, 3, 52, 54, 29, 38, 3, 5, 3401, 47, 19, 95, 22, 29, 160, 4051, 6, 1751, 3, 47, 29, 292, 39, 468, 217, 3, 6, 47, 29, 133, 73, 529, 61, 59, 25245, 129, 213, 44, 248, 2, 188, 114, 58, 29, 41, 12, 13, 10, 11, 12, 13, 10, 11, 382, 3, 382, 252, 26, 4, 57, 29, 38, 5, 2275, 1578, 23, 1467, 3, 17, 9, 5770, 8, 111, 29, 1428, 73, 529, 140, 672, 4, 16, 342, 8, 125, 17, 24, 43, 2, 76, 63, 16, 20, 5, 136, 535, 3, 6, 16, 171, 18, 164, 3, 42, 672, 12081, 3, 16, 133, 14, 21, 88, 21, 16, 84, 110, 4, 16, 94, 129, 1117, 30, 5, 492, 121, 110, 3, 6, 16, 144, 54, 31, 120, 16, 74, 41, 16, 133, 43, 300, 7, 2, 1467, 4, 2, 423, 203, 66, 167, 6, 3956, 3, 50, 5, 1964, 3, 25, 19730, 252, 4, 16, 54, 133, 576, 3, 6, 105, 42, 2, 151, 36, 541, 18, 36, 55, 5, 252, 42, 246, 4, 928, 3, 420, 3, 25, 40, 226, 405, 18, 17, 9, 964, 8, 39, 5, 252, 26, 3, 6, 14, 17349, 18, 233, 868, 4, 7993, 55, 53, 2, 415, 4960, 7, 33, 1, 32, 6, 2659, 9, 2, 415, 1, 2145, 8, 2, 206, 3, 8986, 13015, 12, 13, 10, 11, 12, 13, 10, 11, 2, 1467, 114, 1, 2, 1725, 3, 25, 7, 275, 103, 7, 2, 25246, 402, 35, 8, 39, 81, 303, 46, 3770, 22, 112, 28, 6422, 4, 13016, 5275, 3, 6, 2, 151, 27, 4, 34, 8, 723, 2, 1048, 710, 18, 396, 255, 536, 71, 65, 1367, 3, 6, 46, 8746, 1, 543, 4, 16, 214, 17, 2949, 4, 8, 39, 1072, 8, 28, 6, 71, 1473, 142, 92, 27, 4602, 6, 2304, 6, 5699, 4]\n[16, 730, 2338, 41, 41, 16, 730, 2338, 465, 41, 16, 730, 1896, 41, 25, 17, 26, 20, 2, 1579, 163, 16, 38, 127, 15, 197, 62, 76, 4, 12, 13, 10, 11, 12, 13, 10, 11, 16, 20, 359, 2, 100, 1351, 8, 78, 17, 26, 42, 2, 2398, 3, 6, 43, 16, 38, 8, 146, 9, 16, 1434, 2399, 16, 3288, 3, 6, 63, 9, 14, 183, 8, 39, 1312, 15, 2, 2377, 6, 9729, 4, 517, 3, 17, 9, 40, 2338, 26, 29, 97, 353, 8, 78, 3, 109, 602, 41, 12, 13, 10, 11, 12, 13, 10, 11, 2, 205, 18, 17, 26, 646, 60, 21, 62, 906, 1868, 23, 5, 7150, 1005, 9, 53, 482, 3, 2, 449, 209, 34, 39, 91, 592, 169, 3, 25, 17, 9, 64, 202, 8, 779, 167, 1153, 3, 22, 167, 102, 3, 6, 16, 23, 40, 6910, 112, 23, 624, 17, 8, 2, 4961, 12, 13, 10, 11, 12, 13, 10, 11, 91, 236, 41]\n",
          "output_type": "stream"
        }
      ]
    },
    {
      "cell_type": "code",
      "source": [
        "#정수 인코딩 된 결과를 역으로 복원\n",
        "#각 단어에 정수가 맵핑된 word_to_index를 반대로 만든 index_to_word를 구현해보고 첫번째 샘플에 대해 복원\n",
        "index_to_word = {}\n",
        "for key, value in word_to_index.items():\n",
        "    index_to_word[value] = key\n",
        "\n",
        "decoded_sample = [index_to_word[word] for word in encoded_X_train[0]]\n",
        "print('기존의 첫번째 샘플 :', tokenized_X_train[0])\n",
        "print('복원된 첫번째 샘플 :', decoded_sample)"
      ],
      "metadata": {
        "colab": {
          "base_uri": "https://localhost:8080/"
        },
        "id": "yNhlP0BTbVby",
        "outputId": "b075185f-100e-458d-ec93-af4207c84564",
        "execution": {
          "iopub.status.busy": "2024-05-21T07:10:41.137662Z",
          "iopub.execute_input": "2024-05-21T07:10:41.137942Z",
          "iopub.status.idle": "2024-05-21T07:10:41.16409Z",
          "shell.execute_reply.started": "2024-05-21T07:10:41.137919Z",
          "shell.execute_reply": "2024-05-21T07:10:41.162672Z"
        },
        "trusted": true
      },
      "execution_count": null,
      "outputs": [
        {
          "name": "stdout",
          "text": "기존의 첫번째 샘플 : ['have', 'you', 'ever', ',', 'or', 'do', 'you', 'have', ',', 'a', 'pet', 'who', \"'s\", 'been', 'with', 'you', 'through', 'thick', 'and', 'thin', ',', 'who', 'you', \"'d\", 'be', 'lost', 'without', ',', 'and', 'who', 'you', 'love', 'no', 'matter', 'what', '?', 'betcha', 'never', 'thought', 'they', 'feel', 'the', 'same', 'way', 'about', 'you', '!', '<', 'br', '/', '>', '<', 'br', '/', '>', 'wonderful', ',', 'wonderful', 'family', 'film', '.', 'if', 'you', 'have', 'a', 'soft', 'spot', 'for', 'animals', ',', 'this', 'is', 'guaranteed', 'to', 'make', 'you', 'cry', 'no', 'matter', 'your', 'age', '.', 'i', 'used', 'to', 'watch', 'this', 'movie', 'all', 'the', 'time', 'when', 'i', 'was', 'a', 'little', 'kid', ',', 'and', 'i', 'find', 'that', 'now', ',', 'at', 'age', 'sixteen', ',', 'i', 'love', 'it', 'as', 'much', 'as', 'i', 'did', 'then', '.', 'i', 'could', 'never', 'decide', 'on', 'a', 'favorite', 'character', 'then', ',', 'and', 'i', 'still', 'do', \"n't\", 'think', 'i', 'can', '!', 'i', 'love', 'all', 'three', 'of', 'the', 'animals', '.', 'the', 'dialogue', 'seems', 'very', 'real', 'and', 'comfortable', ',', 'like', 'a', 'loving', ',', 'but', 'feuding', 'family', '.', 'i', 'do', 'love', 'chance', ',', 'and', 'how', 'at', 'the', 'end', 'he', 'says', 'that', 'he', 'has', 'a', 'family', 'at', 'last', '.', 'cheesy', ',', 'yes', ',', 'but', 'one', 'must', 'remember', 'that', 'this', 'is', 'meant', 'to', 'be', 'a', 'family', 'film', ',', 'and', 'it', 'fulfills', 'that', 'role', 'perfectly', '.', 'sassy', 'has', 'just', 'the', 'perfect', 'dose', 'of', '``', 'sassiness', \"''\", 'and', 'shadow', 'is', 'the', 'perfect', 'leader/role', 'model', 'to', 'the', 'young', ',', 'adventurous', 'chance.', '<', 'br', '/', '>', '<', 'br', '/', '>', 'the', 'animals', 'way', 'outshine', 'the', 'humans', ',', 'but', 'of', 'course', 'most', 'of', 'the', 'teary', 'moments', 'are', 'to', 'be', 'had', 'during', 'an', 'interaction', 'with', 'them', '(', 'ie', '.', 'rescuing', 'molly', ',', 'and', 'the', 'end', ')', '.', 'not', 'to', 'mention', 'the', 'incredible', 'soundtrack', 'that', 'gives', 'each', 'moment', 'even', 'more', 'emotion', ',', 'and', 'an', 'accompanying', 'heart-swelling', 'feeling', '.', 'i', 'give', 'this', '9/10', '.', 'to', 'be', 'compared', 'to', '(', 'and', 'even', 'rated', 'better', 'than', ')', 'cats', 'and', 'dogs', 'and', 'babe', '.']\n복원된 첫번째 샘플 : ['have', 'you', 'ever', ',', 'or', 'do', 'you', 'have', ',', 'a', 'pet', 'who', \"'s\", 'been', 'with', 'you', 'through', 'thick', 'and', 'thin', ',', 'who', 'you', \"'d\", 'be', 'lost', 'without', ',', 'and', 'who', 'you', 'love', 'no', 'matter', 'what', '?', 'betcha', 'never', 'thought', 'they', 'feel', 'the', 'same', 'way', 'about', 'you', '!', '<', 'br', '/', '>', '<', 'br', '/', '>', 'wonderful', ',', 'wonderful', 'family', 'film', '.', 'if', 'you', 'have', 'a', 'soft', 'spot', 'for', 'animals', ',', 'this', 'is', 'guaranteed', 'to', 'make', 'you', 'cry', 'no', 'matter', 'your', 'age', '.', 'i', 'used', 'to', 'watch', 'this', 'movie', 'all', 'the', 'time', 'when', 'i', 'was', 'a', 'little', 'kid', ',', 'and', 'i', 'find', 'that', 'now', ',', 'at', 'age', 'sixteen', ',', 'i', 'love', 'it', 'as', 'much', 'as', 'i', 'did', 'then', '.', 'i', 'could', 'never', 'decide', 'on', 'a', 'favorite', 'character', 'then', ',', 'and', 'i', 'still', 'do', \"n't\", 'think', 'i', 'can', '!', 'i', 'love', 'all', 'three', 'of', 'the', 'animals', '.', 'the', 'dialogue', 'seems', 'very', 'real', 'and', 'comfortable', ',', 'like', 'a', 'loving', ',', 'but', 'feuding', 'family', '.', 'i', 'do', 'love', 'chance', ',', 'and', 'how', 'at', 'the', 'end', 'he', 'says', 'that', 'he', 'has', 'a', 'family', 'at', 'last', '.', 'cheesy', ',', 'yes', ',', 'but', 'one', 'must', 'remember', 'that', 'this', 'is', 'meant', 'to', 'be', 'a', 'family', 'film', ',', 'and', 'it', 'fulfills', 'that', 'role', 'perfectly', '.', 'sassy', 'has', 'just', 'the', 'perfect', 'dose', 'of', '``', '<UNK>', \"''\", 'and', 'shadow', 'is', 'the', 'perfect', '<UNK>', 'model', 'to', 'the', 'young', ',', 'adventurous', 'chance.', '<', 'br', '/', '>', '<', 'br', '/', '>', 'the', 'animals', 'way', '<UNK>', 'the', 'humans', ',', 'but', 'of', 'course', 'most', 'of', 'the', 'teary', 'moments', 'are', 'to', 'be', 'had', 'during', 'an', 'interaction', 'with', 'them', '(', 'ie', '.', 'rescuing', 'molly', ',', 'and', 'the', 'end', ')', '.', 'not', 'to', 'mention', 'the', 'incredible', 'soundtrack', 'that', 'gives', 'each', 'moment', 'even', 'more', 'emotion', ',', 'and', 'an', 'accompanying', '<UNK>', 'feeling', '.', 'i', 'give', 'this', '9/10', '.', 'to', 'be', 'compared', 'to', '(', 'and', 'even', 'rated', 'better', 'than', ')', 'cats', 'and', 'dogs', 'and', 'babe', '.']\n",
          "output_type": "stream"
        }
      ]
    },
    {
      "cell_type": "markdown",
      "source": [
        "### 4. 패딩\n",
        "\n",
        "서로 다른 길이의 데이터들을 동일한 길이로 일치 시켜주는 작업"
      ],
      "metadata": {
        "id": "EStJ3RVzbnjn"
      }
    },
    {
      "cell_type": "code",
      "source": [
        "# 패딩을 위해 훈련 데이터의 최대 길이, 평균 길이, 그리고 데이터의 길이 분포를 확인\n",
        "print('리뷰의 최대 길이 :',max(len(review) for review in encoded_X_train))\n",
        "print('리뷰의 평균 길이 :',sum(map(len, encoded_X_train))/len(encoded_X_train))\n",
        "plt.hist([len(review) for review in encoded_X_train], bins=50)\n",
        "plt.xlabel('length of samples')\n",
        "plt.ylabel('number of samples')\n",
        "plt.show()"
      ],
      "metadata": {
        "colab": {
          "base_uri": "https://localhost:8080/",
          "height": 484
        },
        "id": "418eZgEibnNg",
        "outputId": "cfedf9d0-dbc4-4421-e1fd-ab3ee1ba56b7",
        "execution": {
          "iopub.status.busy": "2024-05-21T07:10:41.165587Z",
          "iopub.execute_input": "2024-05-21T07:10:41.165936Z",
          "iopub.status.idle": "2024-05-21T07:10:41.559981Z",
          "shell.execute_reply.started": "2024-05-21T07:10:41.165905Z",
          "shell.execute_reply": "2024-05-21T07:10:41.558935Z"
        },
        "trusted": true
      },
      "execution_count": null,
      "outputs": [
        {
          "name": "stdout",
          "text": "리뷰의 최대 길이 : 2818\n리뷰의 평균 길이 : 278.8581\n",
          "output_type": "stream"
        },
        {
          "output_type": "display_data",
          "data": {
            "text/plain": "<Figure size 640x480 with 1 Axes>",
            "image/png": "[encoded data removed]"
          },
          "metadata": {}
        }
      ]
    },
    {
      "cell_type": "markdown",
      "source": [
        "가장 긴 샘플의 길이는 2818\n",
        "\n",
        "전체 데이터의 길이 분포는 대체적으로 약 1000내외의 길이를 가짐.\n",
        "\n",
        "모델이 처리할 수 있도록 encoded_X_train과 encoded_T_test의 모든 샘플의 길이를 특정 길이로 동일하게 맞춰줄 필요가 있음\n",
        "\n",
        "특정 길이 변수를 max_len으로 정하기"
      ],
      "metadata": {
        "id": "t_kV3cJib9kX"
      }
    },
    {
      "cell_type": "code",
      "source": [
        "# 전체 샘플 중 길이가 max_len 이하인 샘플의 비율이 몇 %인지 확인하는 함수 만들기\n",
        "def below_threshold_len(max_len, nested_list):\n",
        "  count = 0\n",
        "  for sentence in nested_list:\n",
        "    if(len(sentence) <= max_len):\n",
        "        count = count + 1\n",
        "  print('전체 샘플 중 길이가 %s 이하인 샘플의 비율: %s'%(max_len, (count / len(nested_list))*100))"
      ],
      "metadata": {
        "id": "MagJT2eAb8cY",
        "execution": {
          "iopub.status.busy": "2024-05-21T07:10:41.56118Z",
          "iopub.execute_input": "2024-05-21T07:10:41.561482Z",
          "iopub.status.idle": "2024-05-21T07:10:41.566705Z",
          "shell.execute_reply.started": "2024-05-21T07:10:41.561457Z",
          "shell.execute_reply": "2024-05-21T07:10:41.565893Z"
        },
        "trusted": true
      },
      "execution_count": null,
      "outputs": []
    },
    {
      "cell_type": "code",
      "source": [
        "max_len = 500\n",
        "below_threshold_len(max_len, encoded_X_train)"
      ],
      "metadata": {
        "colab": {
          "base_uri": "https://localhost:8080/"
        },
        "id": "WOent7D-chzt",
        "outputId": "11bf5896-5215-45f0-b0ba-2368959ee9e4",
        "execution": {
          "iopub.status.busy": "2024-05-21T07:10:41.567832Z",
          "iopub.execute_input": "2024-05-21T07:10:41.568112Z",
          "iopub.status.idle": "2024-05-21T07:10:41.585233Z",
          "shell.execute_reply.started": "2024-05-21T07:10:41.568089Z",
          "shell.execute_reply": "2024-05-21T07:10:41.58437Z"
        },
        "trusted": true
      },
      "execution_count": null,
      "outputs": [
        {
          "name": "stdout",
          "text": "전체 샘플 중 길이가 500 이하인 샘플의 비율: 87.83\n",
          "output_type": "stream"
        }
      ]
    },
    {
      "cell_type": "code",
      "source": [
        "#pad_sequences(): 패딩 해주는 함수, 최대길이를 정하면 해당 길이보다 긴 데이터는 뒷 부분을 잘라서 해당 길이로 맞추고, 해당 길이보다 짧은 데이터는 뒤에 0을 채워서 해당 길이의 데이터로 변환\n",
        "def pad_sequences(sentences, max_len):\n",
        "  features = np.zeros((len(sentences), max_len), dtype=int)\n",
        "  for index, sentence in enumerate(sentences):\n",
        "    if len(sentence) != 0:\n",
        "      features[index, :len(sentence)] = np.array(sentence)[:max_len]\n",
        "  return features\n",
        "\n",
        "padded_X_train = pad_sequences(encoded_X_train, max_len=max_len)\n",
        "padded_X_valid = pad_sequences(encoded_X_valid, max_len=max_len)\n",
        "padded_X_test = pad_sequences(encoded_X_test, max_len=max_len)\n",
        "\n",
        "print('훈련 데이터의 크기 :', padded_X_train.shape)\n",
        "print('검증 데이터의 크기 :', padded_X_valid.shape)\n",
        "print('테스트 데이터의 크기 :', padded_X_test.shape)"
      ],
      "metadata": {
        "colab": {
          "base_uri": "https://localhost:8080/"
        },
        "id": "opkEW3skckQN",
        "outputId": "e530078c-1fdc-4f4b-a55e-8f321048576f",
        "execution": {
          "iopub.status.busy": "2024-05-21T07:10:41.58621Z",
          "iopub.execute_input": "2024-05-21T07:10:41.586558Z",
          "iopub.status.idle": "2024-05-21T07:10:42.994528Z",
          "shell.execute_reply.started": "2024-05-21T07:10:41.586536Z",
          "shell.execute_reply": "2024-05-21T07:10:42.993566Z"
        },
        "trusted": true
      },
      "execution_count": null,
      "outputs": [
        {
          "name": "stdout",
          "text": "훈련 데이터의 크기 : (20000, 500)\n검증 데이터의 크기 : (5000, 500)\n테스트 데이터의 크기 : (25000, 500)\n",
          "output_type": "stream"
        }
      ]
    },
    {
      "cell_type": "markdown",
      "source": [
        "### 5. 모델"
      ],
      "metadata": {
        "id": "xgERcTabcyZG"
      }
    },
    {
      "cell_type": "code",
      "source": [
        "import torch\n",
        "import torch.nn as nn\n",
        "import torch.nn.functional as F"
      ],
      "metadata": {
        "id": "93GKJrGuc1Th",
        "execution": {
          "iopub.status.busy": "2024-05-21T07:10:42.995742Z",
          "iopub.execute_input": "2024-05-21T07:10:42.996589Z",
          "iopub.status.idle": "2024-05-21T07:10:43.000874Z",
          "shell.execute_reply.started": "2024-05-21T07:10:42.996561Z",
          "shell.execute_reply": "2024-05-21T07:10:42.99993Z"
        },
        "trusted": true
      },
      "execution_count": null,
      "outputs": []
    },
    {
      "cell_type": "code",
      "source": [
        "USE_CUDA = torch.cuda.is_available()\n",
        "device = torch.device(\"cuda\" if USE_CUDA else \"cpu\")\n",
        "print(\"cpu와 cuda 중 다음 기기로 학습함:\", device)"
      ],
      "metadata": {
        "colab": {
          "base_uri": "https://localhost:8080/"
        },
        "id": "pT1NaWNIc2xo",
        "outputId": "9be7de71-0ad2-4700-bf13-f7ab7f21e310",
        "execution": {
          "iopub.status.busy": "2024-05-21T07:10:43.002016Z",
          "iopub.execute_input": "2024-05-21T07:10:43.002295Z",
          "iopub.status.idle": "2024-05-21T07:10:43.044773Z",
          "shell.execute_reply.started": "2024-05-21T07:10:43.002271Z",
          "shell.execute_reply": "2024-05-21T07:10:43.043875Z"
        },
        "trusted": true
      },
      "execution_count": null,
      "outputs": [
        {
          "name": "stdout",
          "text": "cpu와 cuda 중 다음 기기로 학습함: cuda\n",
          "output_type": "stream"
        }
      ]
    },
    {
      "cell_type": "code",
      "source": [
        "# label data를 파이토치의 텐서 타입으로 변환\n",
        "#상위 5개의 레이블 출력\n",
        "train_label_tensor = torch.tensor(np.array(y_train))\n",
        "valid_label_tensor = torch.tensor(np.array(y_valid))\n",
        "test_label_tensor = torch.tensor(np.array(y_test))\n",
        "print(train_label_tensor[:5])"
      ],
      "metadata": {
        "colab": {
          "base_uri": "https://localhost:8080/"
        },
        "id": "KD7t1w0Nc5Xp",
        "outputId": "f4aabc83-d3ca-4a0c-809a-e7d139443f7a",
        "execution": {
          "iopub.status.busy": "2024-05-21T07:10:43.045828Z",
          "iopub.execute_input": "2024-05-21T07:10:43.046088Z",
          "iopub.status.idle": "2024-05-21T07:10:43.06128Z",
          "shell.execute_reply.started": "2024-05-21T07:10:43.046066Z",
          "shell.execute_reply": "2024-05-21T07:10:43.060383Z"
        },
        "trusted": true
      },
      "execution_count": null,
      "outputs": [
        {
          "name": "stdout",
          "text": "tensor([1, 1, 0, 0, 0])\n",
          "output_type": "stream"
        }
      ]
    },
    {
      "cell_type": "markdown",
      "source": [
        "GRU 모델을 클래스로 구현\n",
        "\n",
        "입력은 (배치 크기, 문장 길이) 크기를 가지는 텐서\n",
        "\n",
        "임베딩 층을 지나고 나면 각 단어가 임베딩 벡터로 변환되면서 (배치 크기, 문장 길이, 임베딩 벡터의 차원)으로 텐서의 크기가 변환\n",
        "\n",
        "GRU의 마지막 시점의 은닉 상태(hidden state)값을 출력층과 연결시키는 작업 필요. 이때, GRU가 출력층으로 보는 결과값의 차원은 (배치 크기, 은닉 상태의 차원)을 가져야 함.\n",
        "\n",
        "마지막 시점의 은닉 상태의 값만 전달하므로, 은닉 상태는 모든 시점(문장 길이)만큼 존재하는 것이 아니라 단 하나만 있음. 출력층은 지난 결과는 소프트 맥스 회귀를 수행하므로 (배치 크기, 분류하고자 하는 카테고리의 수)의 차원을 가짐\n",
        "\n",
        "후 각 데이터를 배치 단위로 데이터 묶음을 꺼낼 수 있는 데이터로더로 전달.\n"
      ],
      "metadata": {
        "id": "Ame7RhGseYpE"
      }
    },
    {
      "cell_type": "markdown",
      "source": [
        "- 단어 벡터의 차원 = 100\n",
        "- 문장 길이 = 500\n",
        "- 배치 크기 = 32\n",
        "- 데이터 개수 = 2만\n",
        "- GRU의 은닉층의 크기 = 128\n",
        "- 분류하고자 하는 카테고리 개수 = 2개"
      ],
      "metadata": {
        "id": "jE-o43Vhe-lS"
      }
    },
    {
      "cell_type": "markdown",
      "source": [
        "데이터의 변화\n",
        "\n",
        "(32, 500) => 입력 데이터의 형태 => 임베딩 층 통과 후 => (32, 500, 100) => GRU 통과 후 => (32, 128) => Softmax 출력층 통과 후 => (32, 2)"
      ],
      "metadata": {
        "id": "Xb2F3e2-fE4R"
      }
    },
    {
      "cell_type": "code",
      "source": [
        "class TextClassifier(nn.Module):\n",
        "    def __init__(self, vocab_size, embedding_dim, hidden_dim, output_dim):\n",
        "        super(TextClassifier, self).__init__()\n",
        "        self.embedding = nn.Embedding(vocab_size, embedding_dim)\n",
        "        self.gru = nn.GRU(embedding_dim, hidden_dim, batch_first=True)\n",
        "        self.fc = nn.Linear(hidden_dim, output_dim) # output_dim = 분류하고자하는 카테고리의 개수\n",
        "\n",
        "    def forward(self, x):\n",
        "        # x: (batch_size, seq_length) == (32, 500)\n",
        "        embedded = self.embedding(x)  # (batch_size, seq_length, embedding_dim) == (32, 500, 100) == (데이터의 개수, 문장길이, 단어 벡터의 차원)\n",
        "        gru_out, hidden = self.gru(embedded)  # gru_out: (batch_size, seq_length, hidden_dim), hidden: (1, batch_size, hidden_dim)\n",
        "        last_hidden = hidden.squeeze(0)  # (batch_size, hidden_dim)\n",
        "        logits = self.fc(last_hidden)  # (batch_size, output_dim)\n",
        "        return logits"
      ],
      "metadata": {
        "id": "uIhCHuPVeK8A",
        "execution": {
          "iopub.status.busy": "2024-05-21T07:10:43.062423Z",
          "iopub.execute_input": "2024-05-21T07:10:43.062686Z",
          "iopub.status.idle": "2024-05-21T07:10:43.06953Z",
          "shell.execute_reply.started": "2024-05-21T07:10:43.062664Z",
          "shell.execute_reply": "2024-05-21T07:10:43.068723Z"
        },
        "trusted": true
      },
      "execution_count": null,
      "outputs": []
    },
    {
      "cell_type": "code",
      "source": [
        "# 훈련 데이터, 검증 데이터, 테스트 데이터에 대해서 파이토치 텐서로 변환하고 배치 단위 연산을 위해 데이터로더로 변환\n",
        "encoded_train = torch.tensor(padded_X_train).to(torch.int64)\n",
        "train_dataset = torch.utils.data.TensorDataset(encoded_train, train_label_tensor)\n",
        "train_dataloader = torch.utils.data.DataLoader(train_dataset, shuffle=True, batch_size=32)\n",
        "\n",
        "encoded_test = torch.tensor(padded_X_test).to(torch.int64)\n",
        "test_dataset = torch.utils.data.TensorDataset(encoded_test, test_label_tensor)\n",
        "test_dataloader = torch.utils.data.DataLoader(test_dataset, shuffle=True, batch_size=1)\n",
        "\n",
        "encoded_valid = torch.tensor(padded_X_valid).to(torch.int64)\n",
        "valid_dataset = torch.utils.data.TensorDataset(encoded_valid, valid_label_tensor)\n",
        "valid_dataloader = torch.utils.data.DataLoader(valid_dataset, shuffle=True, batch_size=1)"
      ],
      "metadata": {
        "id": "9U6OkToafT7Y",
        "execution": {
          "iopub.status.busy": "2024-05-21T07:10:43.070671Z",
          "iopub.execute_input": "2024-05-21T07:10:43.070919Z",
          "iopub.status.idle": "2024-05-21T07:10:43.154136Z",
          "shell.execute_reply.started": "2024-05-21T07:10:43.070897Z",
          "shell.execute_reply": "2024-05-21T07:10:43.153292Z"
        },
        "trusted": true
      },
      "execution_count": null,
      "outputs": []
    },
    {
      "cell_type": "code",
      "source": [
        "total_batch = len(train_dataloader)\n",
        "print('총 배치의 수 : {}'.format(total_batch))"
      ],
      "metadata": {
        "colab": {
          "base_uri": "https://localhost:8080/"
        },
        "id": "Klr0kJsMfabn",
        "outputId": "68e02120-b2ea-47ed-838f-77a4a1da79cf",
        "execution": {
          "iopub.status.busy": "2024-05-21T07:10:43.155446Z",
          "iopub.execute_input": "2024-05-21T07:10:43.15599Z",
          "iopub.status.idle": "2024-05-21T07:10:43.161407Z",
          "shell.execute_reply.started": "2024-05-21T07:10:43.155964Z",
          "shell.execute_reply": "2024-05-21T07:10:43.160537Z"
        },
        "trusted": true
      },
      "execution_count": null,
      "outputs": [
        {
          "name": "stdout",
          "text": "총 배치의 수 : 625\n",
          "output_type": "stream"
        }
      ]
    },
    {
      "cell_type": "code",
      "source": [
        "#모델 객체 선언\n",
        "embedding_dim = 100\n",
        "hidden_dim = 128\n",
        "output_dim = 2\n",
        "learning_rate = 0.01\n",
        "num_epochs = 10\n",
        "\n",
        "model = TextClassifier(vocab_size, embedding_dim, hidden_dim, output_dim)\n",
        "model.to(device)"
      ],
      "metadata": {
        "colab": {
          "base_uri": "https://localhost:8080/"
        },
        "id": "sMfQOXGNfdAX",
        "outputId": "ea38d2dc-64ff-46b7-fbcc-8361f9c5fc95",
        "execution": {
          "iopub.status.busy": "2024-05-21T07:10:43.162548Z",
          "iopub.execute_input": "2024-05-21T07:10:43.162977Z",
          "iopub.status.idle": "2024-05-21T07:10:43.472712Z",
          "shell.execute_reply.started": "2024-05-21T07:10:43.162952Z",
          "shell.execute_reply": "2024-05-21T07:10:43.471829Z"
        },
        "trusted": true
      },
      "execution_count": null,
      "outputs": [
        {
          "execution_count": 45,
          "output_type": "execute_result",
          "data": {
            "text/plain": "TextClassifier(\n  (embedding): Embedding(38910, 100)\n  (gru): GRU(100, 128, batch_first=True)\n  (fc): Linear(in_features=128, out_features=2, bias=True)\n)"
          },
          "metadata": {}
        }
      ]
    },
    {
      "cell_type": "code",
      "source": [
        "criterion = nn.CrossEntropyLoss() #파이토치로 자연어 처리를 하게 되면 가장 많이 사용하게 되는 손실함수\n",
        "optimizer = torch.optim.Adam(model.parameters(), lr=0.001)"
      ],
      "metadata": {
        "id": "CCQsWD9jfkKZ",
        "execution": {
          "iopub.status.busy": "2024-05-21T07:10:43.47395Z",
          "iopub.execute_input": "2024-05-21T07:10:43.474242Z",
          "iopub.status.idle": "2024-05-21T07:10:46.235053Z",
          "shell.execute_reply.started": "2024-05-21T07:10:43.474217Z",
          "shell.execute_reply": "2024-05-21T07:10:46.234273Z"
        },
        "trusted": true
      },
      "execution_count": null,
      "outputs": []
    },
    {
      "cell_type": "markdown",
      "source": [
        "### 6. 평가 코드 작성"
      ],
      "metadata": {
        "id": "WXmBE_3hfoIt"
      }
    },
    {
      "cell_type": "code",
      "source": [
        "#모델의 정확도 측정\n",
        "def calculate_accuracy(logits, labels):\n",
        "    # _, predicted = torch.max(logits, 1)\n",
        "    predicted = torch.argmax(logits, dim=1)\n",
        "    correct = (predicted == labels).sum().item()\n",
        "    total = labels.size(0)\n",
        "    accuracy = correct / total\n",
        "    return accuracy"
      ],
      "metadata": {
        "id": "BbK9heA1frwW",
        "execution": {
          "iopub.status.busy": "2024-05-21T07:10:46.236078Z",
          "iopub.execute_input": "2024-05-21T07:10:46.236475Z",
          "iopub.status.idle": "2024-05-21T07:10:46.241547Z",
          "shell.execute_reply.started": "2024-05-21T07:10:46.23645Z",
          "shell.execute_reply": "2024-05-21T07:10:46.24063Z"
        },
        "trusted": true
      },
      "execution_count": null,
      "outputs": []
    },
    {
      "cell_type": "code",
      "source": [
        "def evaluate(model, valid_dataloader, criterion, device):\n",
        "    val_loss = 0\n",
        "    val_correct = 0\n",
        "    val_total = 0\n",
        "\n",
        "    model.eval() #모델을 평가모드로 설정\n",
        "    with torch.no_grad():\n",
        "        # 데이터로더로부터 배치 크기만큼의 데이터를 연속으로 로드\n",
        "        for batch_X, batch_y in valid_dataloader:\n",
        "            batch_X, batch_y = batch_X.to(device), batch_y.to(device)\n",
        "\n",
        "            # 모델의 예측값\n",
        "            logits = model(batch_X)\n",
        "\n",
        "            # 손실을 계산\n",
        "            loss = criterion(logits, batch_y)\n",
        "\n",
        "            # 정확도와 손실을 계산함\n",
        "            val_loss += loss.item()\n",
        "            val_correct += calculate_accuracy(logits, batch_y) * batch_y.size(0)\n",
        "            val_total += batch_y.size(0)\n",
        "\n",
        "    val_accuracy = val_correct / val_total\n",
        "    val_loss /= len(valid_dataloader)\n",
        "\n",
        "    return val_loss, val_accuracy"
      ],
      "metadata": {
        "id": "NaKY-L1VfwEK",
        "execution": {
          "iopub.status.busy": "2024-05-21T07:10:46.242746Z",
          "iopub.execute_input": "2024-05-21T07:10:46.243075Z",
          "iopub.status.idle": "2024-05-21T07:10:46.252545Z",
          "shell.execute_reply.started": "2024-05-21T07:10:46.243044Z",
          "shell.execute_reply": "2024-05-21T07:10:46.251851Z"
        },
        "trusted": true
      },
      "execution_count": null,
      "outputs": []
    },
    {
      "cell_type": "markdown",
      "source": [
        "### 7. 학습"
      ],
      "metadata": {
        "id": "IgqrbP3xf-OV"
      }
    },
    {
      "cell_type": "code",
      "source": [
        "num_epochs = 5\n",
        "\n",
        "# Training loop\n",
        "best_val_loss = float('inf')\n",
        "\n",
        "# Training loop\n",
        "for epoch in range(num_epochs):\n",
        "    # Training\n",
        "    train_loss = 0\n",
        "    train_correct = 0\n",
        "    train_total = 0\n",
        "    model.train()\n",
        "    for batch_X, batch_y in train_dataloader:\n",
        "        # Forward pass\n",
        "        batch_X, batch_y = batch_X.to(device), batch_y.to(device)\n",
        "        # batch_X.shape == (batch_size, max_len)\n",
        "        logits = model(batch_X)\n",
        "\n",
        "        # Compute loss\n",
        "        loss = criterion(logits, batch_y)\n",
        "\n",
        "        # Backward pass and optimization\n",
        "        optimizer.zero_grad()\n",
        "        loss.backward()\n",
        "        optimizer.step()\n",
        "\n",
        "        # Calculate training accuracy and loss\n",
        "        train_loss += loss.item()\n",
        "        train_correct += calculate_accuracy(logits, batch_y) * batch_y.size(0)\n",
        "        train_total += batch_y.size(0)\n",
        "\n",
        "    train_accuracy = train_correct / train_total\n",
        "    train_loss /= len(train_dataloader)\n",
        "\n",
        "    # Validation\n",
        "    val_loss, val_accuracy = evaluate(model, valid_dataloader, criterion, device)\n",
        "\n",
        "    print(f'Epoch {epoch+1}/{num_epochs}:')\n",
        "    print(f'Train Loss: {train_loss:.4f}, Train Accuracy: {train_accuracy:.4f}')\n",
        "    print(f'Validation Loss: {val_loss:.4f}, Validation Accuracy: {val_accuracy:.4f}')\n",
        "\n",
        "    # 검증 손실이 최소일 때 체크포인트 저장\n",
        "    if val_loss < best_val_loss:\n",
        "        print(f'Validation loss improved from {best_val_loss:.4f} to {val_loss:.4f}. 체크포인트를 저장합니다.')\n",
        "        best_val_loss = val_loss\n",
        "        torch.save(model.state_dict(), 'best_model_checkpoint.pth')"
      ],
      "metadata": {
        "colab": {
          "base_uri": "https://localhost:8080/"
        },
        "id": "MegFcsArgCxK",
        "outputId": "4f1773ec-0d52-4e73-a1b9-44cb1a958320",
        "execution": {
          "iopub.status.busy": "2024-05-21T07:10:46.253573Z",
          "iopub.execute_input": "2024-05-21T07:10:46.253825Z",
          "iopub.status.idle": "2024-05-21T07:11:50.409816Z",
          "shell.execute_reply.started": "2024-05-21T07:10:46.253803Z",
          "shell.execute_reply": "2024-05-21T07:11:50.408804Z"
        },
        "trusted": true
      },
      "execution_count": null,
      "outputs": [
        {
          "name": "stdout",
          "text": "Epoch 1/5:\nTrain Loss: 0.6972, Train Accuracy: 0.5006\nValidation Loss: 0.6946, Validation Accuracy: 0.4978\nValidation loss improved from inf to 0.6946. 체크포인트를 저장합니다.\nEpoch 2/5:\nTrain Loss: 0.6923, Train Accuracy: 0.5154\nValidation Loss: 0.6942, Validation Accuracy: 0.5052\nValidation loss improved from 0.6946 to 0.6942. 체크포인트를 저장합니다.\nEpoch 3/5:\nTrain Loss: 0.6838, Train Accuracy: 0.5200\nValidation Loss: 0.6957, Validation Accuracy: 0.5058\nEpoch 4/5:\nTrain Loss: 0.6613, Train Accuracy: 0.5471\nValidation Loss: 0.6744, Validation Accuracy: 0.6116\nValidation loss improved from 0.6942 to 0.6744. 체크포인트를 저장합니다.\nEpoch 5/5:\nTrain Loss: 0.5464, Train Accuracy: 0.7306\nValidation Loss: 0.5045, Validation Accuracy: 0.7796\nValidation loss improved from 0.6744 to 0.5045. 체크포인트를 저장합니다.\n",
          "output_type": "stream"
        }
      ]
    },
    {
      "cell_type": "markdown",
      "source": [
        "### 8. 모델 로드 및 평가"
      ],
      "metadata": {
        "id": "tzsyzhIKgDww"
      }
    },
    {
      "cell_type": "code",
      "source": [
        "# 모델 로드\n",
        "model.load_state_dict(torch.load('best_model_checkpoint.pth'))\n",
        "\n",
        "# 모델을 device에 올립니다.\n",
        "model.to(device)"
      ],
      "metadata": {
        "colab": {
          "base_uri": "https://localhost:8080/"
        },
        "id": "XacllO3if9KR",
        "outputId": "301a7ea2-45c4-405a-b205-b4b9339ede22",
        "execution": {
          "iopub.status.busy": "2024-05-21T07:11:50.411439Z",
          "iopub.execute_input": "2024-05-21T07:11:50.412049Z",
          "iopub.status.idle": "2024-05-21T07:11:50.427973Z",
          "shell.execute_reply.started": "2024-05-21T07:11:50.412013Z",
          "shell.execute_reply": "2024-05-21T07:11:50.427111Z"
        },
        "trusted": true
      },
      "execution_count": null,
      "outputs": [
        {
          "execution_count": 50,
          "output_type": "execute_result",
          "data": {
            "text/plain": "TextClassifier(\n  (embedding): Embedding(38910, 100)\n  (gru): GRU(100, 128, batch_first=True)\n  (fc): Linear(in_features=128, out_features=2, bias=True)\n)"
          },
          "metadata": {}
        }
      ]
    },
    {
      "cell_type": "code",
      "source": [
        "# 검증 데이터에 대한 정확도와 손실 계산\n",
        "val_loss, val_accuracy = evaluate(model, valid_dataloader, criterion, device)\n",
        "\n",
        "print(f'Best model validation loss: {val_loss:.4f}')\n",
        "print(f'Best model validation accuracy: {val_accuracy:.4f}')"
      ],
      "metadata": {
        "colab": {
          "base_uri": "https://localhost:8080/"
        },
        "id": "o5X_Nw4mgJJl",
        "outputId": "654dfb37-aeac-4dd6-ba0d-b7072b429a35",
        "execution": {
          "iopub.status.busy": "2024-05-21T07:11:50.429169Z",
          "iopub.execute_input": "2024-05-21T07:11:50.429622Z",
          "iopub.status.idle": "2024-05-21T07:11:59.345929Z",
          "shell.execute_reply.started": "2024-05-21T07:11:50.429588Z",
          "shell.execute_reply": "2024-05-21T07:11:59.34499Z"
        },
        "trusted": true
      },
      "execution_count": null,
      "outputs": [
        {
          "name": "stdout",
          "text": "Best model validation loss: 0.5045\nBest model validation accuracy: 0.7796\n",
          "output_type": "stream"
        }
      ]
    },
    {
      "cell_type": "code",
      "source": [
        "# 테스트 데이터에 대한 정확도와 손실 계산\n",
        "test_loss, test_accuracy = evaluate(model, test_dataloader, criterion, device)\n",
        "\n",
        "print(f'Best model test loss: {test_loss:.4f}')\n",
        "print(f'Best model test accuracy: {test_accuracy:.4f}')"
      ],
      "metadata": {
        "colab": {
          "base_uri": "https://localhost:8080/"
        },
        "id": "SeFGyFQxgKrw",
        "outputId": "8019baef-e214-42f3-b31e-fa98d69787de",
        "execution": {
          "iopub.status.busy": "2024-05-21T07:11:59.346985Z",
          "iopub.execute_input": "2024-05-21T07:11:59.347265Z",
          "iopub.status.idle": "2024-05-21T07:12:43.807291Z",
          "shell.execute_reply.started": "2024-05-21T07:11:59.347239Z",
          "shell.execute_reply": "2024-05-21T07:12:43.806382Z"
        },
        "trusted": true
      },
      "execution_count": null,
      "outputs": [
        {
          "name": "stdout",
          "text": "Best model test loss: 0.5016\nBest model test accuracy: 0.7764\n",
          "output_type": "stream"
        }
      ]
    },
    {
      "cell_type": "markdown",
      "source": [
        "### 9. 모델 테스트"
      ],
      "metadata": {
        "id": "WiGb1rplgMvq"
      }
    },
    {
      "cell_type": "code",
      "source": [
        "index_to_tag = {0 : '부정', 1 : '긍정'}\n",
        "\n",
        "def predict(text, model, word_to_index, index_to_tag):\n",
        "    # 모델 평가 모드\n",
        "    model.eval()\n",
        "\n",
        "    # 토큰화 및 정수 인코딩. OOV 문제 발생 시 <UNK> 토큰에 해당하는 인덱스 1 할당\n",
        "    tokens = word_tokenize(text)\n",
        "    token_indices = [word_to_index.get(token.lower(), 1) for token in tokens]\n",
        "\n",
        "    # 리스트를 텐서로 변경\n",
        "    input_tensor = torch.tensor([token_indices], dtype=torch.long).to(device)  # (1, seq_length)\n",
        "\n",
        "    # 모델의 예측\n",
        "    with torch.no_grad():\n",
        "        logits = model(input_tensor)  # (1, output_dim)\n",
        "\n",
        "    # 레이블 인덱스 예측\n",
        "    _, predicted_index = torch.max(logits, dim=1)  # (1,)\n",
        "\n",
        "    # 인덱스와 매칭되는 카테고리 문자열로 변경\n",
        "    predicted_tag = index_to_tag[predicted_index.item()]\n",
        "\n",
        "    return predicted_tag"
      ],
      "metadata": {
        "id": "Bk_kJzCBgReJ",
        "execution": {
          "iopub.status.busy": "2024-05-21T07:12:43.810227Z",
          "iopub.execute_input": "2024-05-21T07:12:43.810531Z",
          "iopub.status.idle": "2024-05-21T07:12:43.817246Z",
          "shell.execute_reply.started": "2024-05-21T07:12:43.810505Z",
          "shell.execute_reply": "2024-05-21T07:12:43.816387Z"
        },
        "trusted": true
      },
      "execution_count": null,
      "outputs": []
    },
    {
      "cell_type": "code",
      "source": [
        "test_input = \"This movie was just way too overrated. The fighting was not professional and in slow motion. I was expecting more from a 200 million budget movie. The little sister of T.Challa was just trying too hard to be funny. The story was really dumb as well. Don't watch this movie if you are going because others say its great unless you are a Black Panther fan or Marvels fan.\"\n",
        "\n",
        "predict(test_input, model, word_to_index, index_to_tag)"
      ],
      "metadata": {
        "colab": {
          "base_uri": "https://localhost:8080/",
          "height": 35
        },
        "id": "PMlTW97QgaVi",
        "outputId": "8f9f2667-3045-47a4-809f-b71a31ecb47b",
        "execution": {
          "iopub.status.busy": "2024-05-21T07:12:43.818619Z",
          "iopub.execute_input": "2024-05-21T07:12:43.819135Z",
          "iopub.status.idle": "2024-05-21T07:12:43.84514Z",
          "shell.execute_reply.started": "2024-05-21T07:12:43.81911Z",
          "shell.execute_reply": "2024-05-21T07:12:43.844275Z"
        },
        "trusted": true
      },
      "execution_count": null,
      "outputs": [
        {
          "execution_count": 54,
          "output_type": "execute_result",
          "data": {
            "text/plain": "'부정'"
          },
          "metadata": {}
        }
      ]
    },
    {
      "cell_type": "code",
      "source": [
        "test_input = \" I was lucky enough to be included in the group to see the advanced screening in Melbourne on the 15th of April, 2012. And, firstly, I need to say a big thank-you to Disney and Marvel Studios. Now, the film... how can I even begin to explain how I feel about this film? It is, as the title of this review says a 'comic book triumph'. I went into the film with very, very high expectations and I was not disappointed. Seeing Joss Whedon's direction and envisioning of the film come to life on the big screen is perfect. The script is amazingly detailed and laced with sharp wit a humor. The special effects are literally mind-blowing and the action scenes are both hard-hitting and beautifully choreographed.\"\n",
        "\n",
        "predict(test_input, model, word_to_index, index_to_tag)"
      ],
      "metadata": {
        "colab": {
          "base_uri": "https://localhost:8080/",
          "height": 35
        },
        "id": "0AqbtODwgdGP",
        "outputId": "c90e2ba4-5b7f-4925-c384-95882f7f4b70",
        "execution": {
          "iopub.status.busy": "2024-05-21T07:12:43.846209Z",
          "iopub.execute_input": "2024-05-21T07:12:43.846475Z",
          "iopub.status.idle": "2024-05-21T07:12:43.855497Z",
          "shell.execute_reply.started": "2024-05-21T07:12:43.846452Z",
          "shell.execute_reply": "2024-05-21T07:12:43.854577Z"
        },
        "trusted": true
      },
      "execution_count": null,
      "outputs": [
        {
          "execution_count": 55,
          "output_type": "execute_result",
          "data": {
            "text/plain": "'긍정'"
          },
          "metadata": {}
        }
      ]
    }
  ]
}